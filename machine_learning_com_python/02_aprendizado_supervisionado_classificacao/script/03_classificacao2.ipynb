{
  "nbformat": 4,
  "nbformat_minor": 0,
  "metadata": {
    "colab": {
      "name": "classificacao.ipynb",
      "provenance": []
    },
    "kernelspec": {
      "name": "python3",
      "display_name": "Python 3"
    },
    "language_info": {
      "name": "python"
    }
  },
  "cells": [
    {
      "cell_type": "markdown",
      "metadata": {
        "id": "fQJ5CYV9Te0X"
      },
      "source": [
        "# **APRENDIZAGEM SUPERVISIONADA: CLASSIFICAÇÃO**"
      ]
    },
    {
      "cell_type": "markdown",
      "metadata": {
        "id": "kXFCCsVHTtTP"
      },
      "source": [
        "Este projeto tem por objetivo desenvolver um algoritmo de Machine Learning para prever a tendência de uma pessoa desenvolver algum tipo de doença cardíaca com base em alguns fatores clínicos e laboratoriais. "
      ]
    },
    {
      "cell_type": "markdown",
      "metadata": {
        "id": "5ZQ2nYhQUc3G"
      },
      "source": [
        "Os dados foram extraídos do site do Kaggle:\n",
        "\n",
        "https://www.kaggle.com/fedesoriano/heart-failure-prediction/version/1"
      ]
    },
    {
      "cell_type": "markdown",
      "source": [
        "# **PRÉ-PROCESSAMENTO**"
      ],
      "metadata": {
        "id": "gczjMn0YIb6s"
      }
    },
    {
      "cell_type": "code",
      "metadata": {
        "id": "nWvIcticlCs2"
      },
      "source": [
        "import numpy as np\n",
        "import pandas as pd"
      ],
      "execution_count": null,
      "outputs": []
    },
    {
      "cell_type": "code",
      "metadata": {
        "id": "LRIrwcC8kUhT"
      },
      "source": [
        "df = pd.read_csv('/content/drive/MyDrive/Cursos_Udemy/Machine_Learning_com_Python/heart_tratado.csv',\n",
        "                    sep=';', encoding='utf-8')"
      ],
      "execution_count": null,
      "outputs": []
    },
    {
      "cell_type": "code",
      "source": [
        "df.head()"
      ],
      "metadata": {
        "id": "QtugliripIyp",
        "outputId": "5ffc3bb8-74fd-4406-e749-2c552095c948",
        "colab": {
          "base_uri": "https://localhost:8080/",
          "height": 206
        }
      },
      "execution_count": null,
      "outputs": [
        {
          "output_type": "execute_result",
          "data": {
            "text/plain": [
              "   Age Sex ChestPainType  RestingBP  Cholesterol  FastingBS RestingECG  MaxHR  \\\n",
              "0   40   M           ATA        140        289.0          0     Normal    172   \n",
              "1   49   F           NAP        160        180.0          0     Normal    156   \n",
              "2   37   M           ATA        130        283.0          0         ST     98   \n",
              "3   48   F           ASY        138        214.0          0     Normal    108   \n",
              "4   54   M           NAP        150        195.0          0     Normal    122   \n",
              "\n",
              "  ExerciseAngina  Oldpeak ST_Slope  HeartDisease  \n",
              "0              N      0.0       Up             0  \n",
              "1              N      1.0     Flat             1  \n",
              "2              N      0.0       Up             0  \n",
              "3              Y      1.5     Flat             1  \n",
              "4              N      0.0       Up             0  "
            ],
            "text/html": [
              "\n",
              "  <div id=\"df-15a90e55-b8d3-4c3f-8593-c467821410cb\">\n",
              "    <div class=\"colab-df-container\">\n",
              "      <div>\n",
              "<style scoped>\n",
              "    .dataframe tbody tr th:only-of-type {\n",
              "        vertical-align: middle;\n",
              "    }\n",
              "\n",
              "    .dataframe tbody tr th {\n",
              "        vertical-align: top;\n",
              "    }\n",
              "\n",
              "    .dataframe thead th {\n",
              "        text-align: right;\n",
              "    }\n",
              "</style>\n",
              "<table border=\"1\" class=\"dataframe\">\n",
              "  <thead>\n",
              "    <tr style=\"text-align: right;\">\n",
              "      <th></th>\n",
              "      <th>Age</th>\n",
              "      <th>Sex</th>\n",
              "      <th>ChestPainType</th>\n",
              "      <th>RestingBP</th>\n",
              "      <th>Cholesterol</th>\n",
              "      <th>FastingBS</th>\n",
              "      <th>RestingECG</th>\n",
              "      <th>MaxHR</th>\n",
              "      <th>ExerciseAngina</th>\n",
              "      <th>Oldpeak</th>\n",
              "      <th>ST_Slope</th>\n",
              "      <th>HeartDisease</th>\n",
              "    </tr>\n",
              "  </thead>\n",
              "  <tbody>\n",
              "    <tr>\n",
              "      <th>0</th>\n",
              "      <td>40</td>\n",
              "      <td>M</td>\n",
              "      <td>ATA</td>\n",
              "      <td>140</td>\n",
              "      <td>289.0</td>\n",
              "      <td>0</td>\n",
              "      <td>Normal</td>\n",
              "      <td>172</td>\n",
              "      <td>N</td>\n",
              "      <td>0.0</td>\n",
              "      <td>Up</td>\n",
              "      <td>0</td>\n",
              "    </tr>\n",
              "    <tr>\n",
              "      <th>1</th>\n",
              "      <td>49</td>\n",
              "      <td>F</td>\n",
              "      <td>NAP</td>\n",
              "      <td>160</td>\n",
              "      <td>180.0</td>\n",
              "      <td>0</td>\n",
              "      <td>Normal</td>\n",
              "      <td>156</td>\n",
              "      <td>N</td>\n",
              "      <td>1.0</td>\n",
              "      <td>Flat</td>\n",
              "      <td>1</td>\n",
              "    </tr>\n",
              "    <tr>\n",
              "      <th>2</th>\n",
              "      <td>37</td>\n",
              "      <td>M</td>\n",
              "      <td>ATA</td>\n",
              "      <td>130</td>\n",
              "      <td>283.0</td>\n",
              "      <td>0</td>\n",
              "      <td>ST</td>\n",
              "      <td>98</td>\n",
              "      <td>N</td>\n",
              "      <td>0.0</td>\n",
              "      <td>Up</td>\n",
              "      <td>0</td>\n",
              "    </tr>\n",
              "    <tr>\n",
              "      <th>3</th>\n",
              "      <td>48</td>\n",
              "      <td>F</td>\n",
              "      <td>ASY</td>\n",
              "      <td>138</td>\n",
              "      <td>214.0</td>\n",
              "      <td>0</td>\n",
              "      <td>Normal</td>\n",
              "      <td>108</td>\n",
              "      <td>Y</td>\n",
              "      <td>1.5</td>\n",
              "      <td>Flat</td>\n",
              "      <td>1</td>\n",
              "    </tr>\n",
              "    <tr>\n",
              "      <th>4</th>\n",
              "      <td>54</td>\n",
              "      <td>M</td>\n",
              "      <td>NAP</td>\n",
              "      <td>150</td>\n",
              "      <td>195.0</td>\n",
              "      <td>0</td>\n",
              "      <td>Normal</td>\n",
              "      <td>122</td>\n",
              "      <td>N</td>\n",
              "      <td>0.0</td>\n",
              "      <td>Up</td>\n",
              "      <td>0</td>\n",
              "    </tr>\n",
              "  </tbody>\n",
              "</table>\n",
              "</div>\n",
              "      <button class=\"colab-df-convert\" onclick=\"convertToInteractive('df-15a90e55-b8d3-4c3f-8593-c467821410cb')\"\n",
              "              title=\"Convert this dataframe to an interactive table.\"\n",
              "              style=\"display:none;\">\n",
              "        \n",
              "  <svg xmlns=\"http://www.w3.org/2000/svg\" height=\"24px\"viewBox=\"0 0 24 24\"\n",
              "       width=\"24px\">\n",
              "    <path d=\"M0 0h24v24H0V0z\" fill=\"none\"/>\n",
              "    <path d=\"M18.56 5.44l.94 2.06.94-2.06 2.06-.94-2.06-.94-.94-2.06-.94 2.06-2.06.94zm-11 1L8.5 8.5l.94-2.06 2.06-.94-2.06-.94L8.5 2.5l-.94 2.06-2.06.94zm10 10l.94 2.06.94-2.06 2.06-.94-2.06-.94-.94-2.06-.94 2.06-2.06.94z\"/><path d=\"M17.41 7.96l-1.37-1.37c-.4-.4-.92-.59-1.43-.59-.52 0-1.04.2-1.43.59L10.3 9.45l-7.72 7.72c-.78.78-.78 2.05 0 2.83L4 21.41c.39.39.9.59 1.41.59.51 0 1.02-.2 1.41-.59l7.78-7.78 2.81-2.81c.8-.78.8-2.07 0-2.86zM5.41 20L4 18.59l7.72-7.72 1.47 1.35L5.41 20z\"/>\n",
              "  </svg>\n",
              "      </button>\n",
              "      \n",
              "  <style>\n",
              "    .colab-df-container {\n",
              "      display:flex;\n",
              "      flex-wrap:wrap;\n",
              "      gap: 12px;\n",
              "    }\n",
              "\n",
              "    .colab-df-convert {\n",
              "      background-color: #E8F0FE;\n",
              "      border: none;\n",
              "      border-radius: 50%;\n",
              "      cursor: pointer;\n",
              "      display: none;\n",
              "      fill: #1967D2;\n",
              "      height: 32px;\n",
              "      padding: 0 0 0 0;\n",
              "      width: 32px;\n",
              "    }\n",
              "\n",
              "    .colab-df-convert:hover {\n",
              "      background-color: #E2EBFA;\n",
              "      box-shadow: 0px 1px 2px rgba(60, 64, 67, 0.3), 0px 1px 3px 1px rgba(60, 64, 67, 0.15);\n",
              "      fill: #174EA6;\n",
              "    }\n",
              "\n",
              "    [theme=dark] .colab-df-convert {\n",
              "      background-color: #3B4455;\n",
              "      fill: #D2E3FC;\n",
              "    }\n",
              "\n",
              "    [theme=dark] .colab-df-convert:hover {\n",
              "      background-color: #434B5C;\n",
              "      box-shadow: 0px 1px 3px 1px rgba(0, 0, 0, 0.15);\n",
              "      filter: drop-shadow(0px 1px 2px rgba(0, 0, 0, 0.3));\n",
              "      fill: #FFFFFF;\n",
              "    }\n",
              "  </style>\n",
              "\n",
              "      <script>\n",
              "        const buttonEl =\n",
              "          document.querySelector('#df-15a90e55-b8d3-4c3f-8593-c467821410cb button.colab-df-convert');\n",
              "        buttonEl.style.display =\n",
              "          google.colab.kernel.accessAllowed ? 'block' : 'none';\n",
              "\n",
              "        async function convertToInteractive(key) {\n",
              "          const element = document.querySelector('#df-15a90e55-b8d3-4c3f-8593-c467821410cb');\n",
              "          const dataTable =\n",
              "            await google.colab.kernel.invokeFunction('convertToInteractive',\n",
              "                                                     [key], {});\n",
              "          if (!dataTable) return;\n",
              "\n",
              "          const docLinkHtml = 'Like what you see? Visit the ' +\n",
              "            '<a target=\"_blank\" href=https://colab.research.google.com/notebooks/data_table.ipynb>data table notebook</a>'\n",
              "            + ' to learn more about interactive tables.';\n",
              "          element.innerHTML = '';\n",
              "          dataTable['output_type'] = 'display_data';\n",
              "          await google.colab.output.renderOutput(dataTable, element);\n",
              "          const docLink = document.createElement('div');\n",
              "          docLink.innerHTML = docLinkHtml;\n",
              "          element.appendChild(docLink);\n",
              "        }\n",
              "      </script>\n",
              "    </div>\n",
              "  </div>\n",
              "  "
            ]
          },
          "metadata": {},
          "execution_count": 3
        }
      ]
    },
    {
      "cell_type": "code",
      "source": [
        "df.shape"
      ],
      "metadata": {
        "id": "NSH5-od1gRAU",
        "outputId": "a2b6bee4-b9d5-4607-cb12-d268909ab812",
        "colab": {
          "base_uri": "https://localhost:8080/"
        }
      },
      "execution_count": null,
      "outputs": [
        {
          "output_type": "execute_result",
          "data": {
            "text/plain": [
              "(917, 12)"
            ]
          },
          "metadata": {},
          "execution_count": 4
        }
      ]
    },
    {
      "cell_type": "markdown",
      "source": [
        "## **Transformando as variáveis categóricas nominais em variáveis categóricas ordinais**"
      ],
      "metadata": {
        "id": "a-DfpMtio-sq"
      }
    },
    {
      "cell_type": "code",
      "source": [
        "df2 = pd.DataFrame.copy(df)"
      ],
      "metadata": {
        "id": "JntPfMmptEhg"
      },
      "execution_count": null,
      "outputs": []
    },
    {
      "cell_type": "code",
      "source": [
        "df2['Sex'].replace({'M':0, 'F': 1}, inplace=True)\n",
        "df2['ChestPainType'].replace({'TA':0, 'ATA': 1, 'NAP':2, 'ASY': 3}, inplace=True)\n",
        "df2['RestingECG'].replace({'Normal':0, 'ST': 1, 'LVH':2}, inplace=True)\n",
        "df2['ExerciseAngina'].replace({'N':0, 'Y': 1}, inplace=True)\n",
        "df2['ST_Slope'].replace({'Up':0, 'Flat': 1, 'Down':2}, inplace=True)"
      ],
      "metadata": {
        "id": "KUxPnNEhrsjL"
      },
      "execution_count": null,
      "outputs": []
    },
    {
      "cell_type": "code",
      "source": [
        "df2.head()"
      ],
      "metadata": {
        "id": "1aTDlfUZpfJi",
        "colab": {
          "base_uri": "https://localhost:8080/",
          "height": 206
        },
        "outputId": "d6d320f0-c431-4902-88dd-985561dc2b8e"
      },
      "execution_count": null,
      "outputs": [
        {
          "output_type": "execute_result",
          "data": {
            "text/plain": [
              "   Age  Sex  ChestPainType  RestingBP  Cholesterol  FastingBS  RestingECG  \\\n",
              "0   40    0              1        140        289.0          0           0   \n",
              "1   49    1              2        160        180.0          0           0   \n",
              "2   37    0              1        130        283.0          0           1   \n",
              "3   48    1              3        138        214.0          0           0   \n",
              "4   54    0              2        150        195.0          0           0   \n",
              "\n",
              "   MaxHR  ExerciseAngina  Oldpeak  ST_Slope  HeartDisease  \n",
              "0    172               0      0.0         0             0  \n",
              "1    156               0      1.0         1             1  \n",
              "2     98               0      0.0         0             0  \n",
              "3    108               1      1.5         1             1  \n",
              "4    122               0      0.0         0             0  "
            ],
            "text/html": [
              "\n",
              "  <div id=\"df-2fa01b1d-cf27-4c52-bda2-1b62e606e77b\">\n",
              "    <div class=\"colab-df-container\">\n",
              "      <div>\n",
              "<style scoped>\n",
              "    .dataframe tbody tr th:only-of-type {\n",
              "        vertical-align: middle;\n",
              "    }\n",
              "\n",
              "    .dataframe tbody tr th {\n",
              "        vertical-align: top;\n",
              "    }\n",
              "\n",
              "    .dataframe thead th {\n",
              "        text-align: right;\n",
              "    }\n",
              "</style>\n",
              "<table border=\"1\" class=\"dataframe\">\n",
              "  <thead>\n",
              "    <tr style=\"text-align: right;\">\n",
              "      <th></th>\n",
              "      <th>Age</th>\n",
              "      <th>Sex</th>\n",
              "      <th>ChestPainType</th>\n",
              "      <th>RestingBP</th>\n",
              "      <th>Cholesterol</th>\n",
              "      <th>FastingBS</th>\n",
              "      <th>RestingECG</th>\n",
              "      <th>MaxHR</th>\n",
              "      <th>ExerciseAngina</th>\n",
              "      <th>Oldpeak</th>\n",
              "      <th>ST_Slope</th>\n",
              "      <th>HeartDisease</th>\n",
              "    </tr>\n",
              "  </thead>\n",
              "  <tbody>\n",
              "    <tr>\n",
              "      <th>0</th>\n",
              "      <td>40</td>\n",
              "      <td>0</td>\n",
              "      <td>1</td>\n",
              "      <td>140</td>\n",
              "      <td>289.0</td>\n",
              "      <td>0</td>\n",
              "      <td>0</td>\n",
              "      <td>172</td>\n",
              "      <td>0</td>\n",
              "      <td>0.0</td>\n",
              "      <td>0</td>\n",
              "      <td>0</td>\n",
              "    </tr>\n",
              "    <tr>\n",
              "      <th>1</th>\n",
              "      <td>49</td>\n",
              "      <td>1</td>\n",
              "      <td>2</td>\n",
              "      <td>160</td>\n",
              "      <td>180.0</td>\n",
              "      <td>0</td>\n",
              "      <td>0</td>\n",
              "      <td>156</td>\n",
              "      <td>0</td>\n",
              "      <td>1.0</td>\n",
              "      <td>1</td>\n",
              "      <td>1</td>\n",
              "    </tr>\n",
              "    <tr>\n",
              "      <th>2</th>\n",
              "      <td>37</td>\n",
              "      <td>0</td>\n",
              "      <td>1</td>\n",
              "      <td>130</td>\n",
              "      <td>283.0</td>\n",
              "      <td>0</td>\n",
              "      <td>1</td>\n",
              "      <td>98</td>\n",
              "      <td>0</td>\n",
              "      <td>0.0</td>\n",
              "      <td>0</td>\n",
              "      <td>0</td>\n",
              "    </tr>\n",
              "    <tr>\n",
              "      <th>3</th>\n",
              "      <td>48</td>\n",
              "      <td>1</td>\n",
              "      <td>3</td>\n",
              "      <td>138</td>\n",
              "      <td>214.0</td>\n",
              "      <td>0</td>\n",
              "      <td>0</td>\n",
              "      <td>108</td>\n",
              "      <td>1</td>\n",
              "      <td>1.5</td>\n",
              "      <td>1</td>\n",
              "      <td>1</td>\n",
              "    </tr>\n",
              "    <tr>\n",
              "      <th>4</th>\n",
              "      <td>54</td>\n",
              "      <td>0</td>\n",
              "      <td>2</td>\n",
              "      <td>150</td>\n",
              "      <td>195.0</td>\n",
              "      <td>0</td>\n",
              "      <td>0</td>\n",
              "      <td>122</td>\n",
              "      <td>0</td>\n",
              "      <td>0.0</td>\n",
              "      <td>0</td>\n",
              "      <td>0</td>\n",
              "    </tr>\n",
              "  </tbody>\n",
              "</table>\n",
              "</div>\n",
              "      <button class=\"colab-df-convert\" onclick=\"convertToInteractive('df-2fa01b1d-cf27-4c52-bda2-1b62e606e77b')\"\n",
              "              title=\"Convert this dataframe to an interactive table.\"\n",
              "              style=\"display:none;\">\n",
              "        \n",
              "  <svg xmlns=\"http://www.w3.org/2000/svg\" height=\"24px\"viewBox=\"0 0 24 24\"\n",
              "       width=\"24px\">\n",
              "    <path d=\"M0 0h24v24H0V0z\" fill=\"none\"/>\n",
              "    <path d=\"M18.56 5.44l.94 2.06.94-2.06 2.06-.94-2.06-.94-.94-2.06-.94 2.06-2.06.94zm-11 1L8.5 8.5l.94-2.06 2.06-.94-2.06-.94L8.5 2.5l-.94 2.06-2.06.94zm10 10l.94 2.06.94-2.06 2.06-.94-2.06-.94-.94-2.06-.94 2.06-2.06.94z\"/><path d=\"M17.41 7.96l-1.37-1.37c-.4-.4-.92-.59-1.43-.59-.52 0-1.04.2-1.43.59L10.3 9.45l-7.72 7.72c-.78.78-.78 2.05 0 2.83L4 21.41c.39.39.9.59 1.41.59.51 0 1.02-.2 1.41-.59l7.78-7.78 2.81-2.81c.8-.78.8-2.07 0-2.86zM5.41 20L4 18.59l7.72-7.72 1.47 1.35L5.41 20z\"/>\n",
              "  </svg>\n",
              "      </button>\n",
              "      \n",
              "  <style>\n",
              "    .colab-df-container {\n",
              "      display:flex;\n",
              "      flex-wrap:wrap;\n",
              "      gap: 12px;\n",
              "    }\n",
              "\n",
              "    .colab-df-convert {\n",
              "      background-color: #E8F0FE;\n",
              "      border: none;\n",
              "      border-radius: 50%;\n",
              "      cursor: pointer;\n",
              "      display: none;\n",
              "      fill: #1967D2;\n",
              "      height: 32px;\n",
              "      padding: 0 0 0 0;\n",
              "      width: 32px;\n",
              "    }\n",
              "\n",
              "    .colab-df-convert:hover {\n",
              "      background-color: #E2EBFA;\n",
              "      box-shadow: 0px 1px 2px rgba(60, 64, 67, 0.3), 0px 1px 3px 1px rgba(60, 64, 67, 0.15);\n",
              "      fill: #174EA6;\n",
              "    }\n",
              "\n",
              "    [theme=dark] .colab-df-convert {\n",
              "      background-color: #3B4455;\n",
              "      fill: #D2E3FC;\n",
              "    }\n",
              "\n",
              "    [theme=dark] .colab-df-convert:hover {\n",
              "      background-color: #434B5C;\n",
              "      box-shadow: 0px 1px 3px 1px rgba(0, 0, 0, 0.15);\n",
              "      filter: drop-shadow(0px 1px 2px rgba(0, 0, 0, 0.3));\n",
              "      fill: #FFFFFF;\n",
              "    }\n",
              "  </style>\n",
              "\n",
              "      <script>\n",
              "        const buttonEl =\n",
              "          document.querySelector('#df-2fa01b1d-cf27-4c52-bda2-1b62e606e77b button.colab-df-convert');\n",
              "        buttonEl.style.display =\n",
              "          google.colab.kernel.accessAllowed ? 'block' : 'none';\n",
              "\n",
              "        async function convertToInteractive(key) {\n",
              "          const element = document.querySelector('#df-2fa01b1d-cf27-4c52-bda2-1b62e606e77b');\n",
              "          const dataTable =\n",
              "            await google.colab.kernel.invokeFunction('convertToInteractive',\n",
              "                                                     [key], {});\n",
              "          if (!dataTable) return;\n",
              "\n",
              "          const docLinkHtml = 'Like what you see? Visit the ' +\n",
              "            '<a target=\"_blank\" href=https://colab.research.google.com/notebooks/data_table.ipynb>data table notebook</a>'\n",
              "            + ' to learn more about interactive tables.';\n",
              "          element.innerHTML = '';\n",
              "          dataTable['output_type'] = 'display_data';\n",
              "          await google.colab.output.renderOutput(dataTable, element);\n",
              "          const docLink = document.createElement('div');\n",
              "          docLink.innerHTML = docLinkHtml;\n",
              "          element.appendChild(docLink);\n",
              "        }\n",
              "      </script>\n",
              "    </div>\n",
              "  </div>\n",
              "  "
            ]
          },
          "metadata": {},
          "execution_count": 7
        }
      ]
    },
    {
      "cell_type": "code",
      "source": [
        "df2.dtypes"
      ],
      "metadata": {
        "id": "6kC-deH0giws",
        "colab": {
          "base_uri": "https://localhost:8080/"
        },
        "outputId": "464ceed7-7689-485a-fa3b-abc4f2da7c89"
      },
      "execution_count": null,
      "outputs": [
        {
          "output_type": "execute_result",
          "data": {
            "text/plain": [
              "Age                 int64\n",
              "Sex                 int64\n",
              "ChestPainType       int64\n",
              "RestingBP           int64\n",
              "Cholesterol       float64\n",
              "FastingBS           int64\n",
              "RestingECG          int64\n",
              "MaxHR               int64\n",
              "ExerciseAngina      int64\n",
              "Oldpeak           float64\n",
              "ST_Slope            int64\n",
              "HeartDisease        int64\n",
              "dtype: object"
            ]
          },
          "metadata": {},
          "execution_count": 8
        }
      ]
    },
    {
      "cell_type": "code",
      "source": [
        "df2.shape"
      ],
      "metadata": {
        "id": "e3oELnDctqsq",
        "colab": {
          "base_uri": "https://localhost:8080/"
        },
        "outputId": "0b101d2f-0306-4e91-a8c0-49cd0228e218"
      },
      "execution_count": null,
      "outputs": [
        {
          "output_type": "execute_result",
          "data": {
            "text/plain": [
              "(917, 12)"
            ]
          },
          "metadata": {},
          "execution_count": 9
        }
      ]
    },
    {
      "cell_type": "markdown",
      "source": [
        "## **LEGENDA**"
      ],
      "metadata": {
        "id": "khuvnjo8ta5k"
      }
    },
    {
      "cell_type": "markdown",
      "source": [
        "Age = idade (anos)\n",
        "\n",
        "Sex = sexo (0=M; 1=F)\n",
        "\n",
        "Chest Pain Type = tipo de dor no peito (0=TA:angina típica; 1=ATA:angina atípica; 2=NAP:dor não anginosa; 3=ASY:assintomático)\n",
        "\n",
        "Resting BP = pressão sanguínea em repouso (mmHg)\n",
        "\n",
        "Cholesterol = colesterol sérico (mg/dl)\n",
        "\n",
        "Fasting BS = açúcar no sangue em jejum (mg/dl)\n",
        "          0: Fasting BS < 120 mg/dl (não diabético)\n",
        "          1: Fasting BS >= 120 mg/dl, (diabético)\n",
        "\n",
        "Resting ECG = eletrocardiograma em repouso (0=Normal; 1=ST:Anormalidade da onda ST-T; 2=LVH: Hipertrofia ventricular esquerda)\n",
        "\n",
        "Max HR = frequência cardíaca máxima\n",
        "\n",
        "Exercise Angina = Angina induzida por exercício (0=Não; 1=Sim)\n",
        "\n",
        "Old Peak = Depressão de ST induzida por exercício em relação ao repouso\n",
        "\n",
        "ST_Slope = Inclinação do segmento ST (0=UP; 1=Flat; 2=Down)\n",
        "\n",
        "Heart Disease = Doença cardíaca (0=Não possui doença cardíaca; 1=Possui doença cardíaca)\n",
        "\n"
      ],
      "metadata": {
        "id": "9Kz8O68wpsY3"
      }
    },
    {
      "cell_type": "markdown",
      "source": [
        "## **ATRIBUTOS PREVISORES E ALVO**"
      ],
      "metadata": {
        "id": "_NBxZCLzC8Bl"
      }
    },
    {
      "cell_type": "code",
      "source": [
        "df2.head()"
      ],
      "metadata": {
        "id": "eLzWunR78ozP",
        "colab": {
          "base_uri": "https://localhost:8080/",
          "height": 206
        },
        "outputId": "f0649e6d-9f29-4515-ac31-9639e3826174"
      },
      "execution_count": null,
      "outputs": [
        {
          "output_type": "execute_result",
          "data": {
            "text/plain": [
              "   Age  Sex  ChestPainType  RestingBP  Cholesterol  FastingBS  RestingECG  \\\n",
              "0   40    0              1        140        289.0          0           0   \n",
              "1   49    1              2        160        180.0          0           0   \n",
              "2   37    0              1        130        283.0          0           1   \n",
              "3   48    1              3        138        214.0          0           0   \n",
              "4   54    0              2        150        195.0          0           0   \n",
              "\n",
              "   MaxHR  ExerciseAngina  Oldpeak  ST_Slope  HeartDisease  \n",
              "0    172               0      0.0         0             0  \n",
              "1    156               0      1.0         1             1  \n",
              "2     98               0      0.0         0             0  \n",
              "3    108               1      1.5         1             1  \n",
              "4    122               0      0.0         0             0  "
            ],
            "text/html": [
              "\n",
              "  <div id=\"df-cb7254c9-a653-4862-bb8f-e6242c9ec8f3\">\n",
              "    <div class=\"colab-df-container\">\n",
              "      <div>\n",
              "<style scoped>\n",
              "    .dataframe tbody tr th:only-of-type {\n",
              "        vertical-align: middle;\n",
              "    }\n",
              "\n",
              "    .dataframe tbody tr th {\n",
              "        vertical-align: top;\n",
              "    }\n",
              "\n",
              "    .dataframe thead th {\n",
              "        text-align: right;\n",
              "    }\n",
              "</style>\n",
              "<table border=\"1\" class=\"dataframe\">\n",
              "  <thead>\n",
              "    <tr style=\"text-align: right;\">\n",
              "      <th></th>\n",
              "      <th>Age</th>\n",
              "      <th>Sex</th>\n",
              "      <th>ChestPainType</th>\n",
              "      <th>RestingBP</th>\n",
              "      <th>Cholesterol</th>\n",
              "      <th>FastingBS</th>\n",
              "      <th>RestingECG</th>\n",
              "      <th>MaxHR</th>\n",
              "      <th>ExerciseAngina</th>\n",
              "      <th>Oldpeak</th>\n",
              "      <th>ST_Slope</th>\n",
              "      <th>HeartDisease</th>\n",
              "    </tr>\n",
              "  </thead>\n",
              "  <tbody>\n",
              "    <tr>\n",
              "      <th>0</th>\n",
              "      <td>40</td>\n",
              "      <td>0</td>\n",
              "      <td>1</td>\n",
              "      <td>140</td>\n",
              "      <td>289.0</td>\n",
              "      <td>0</td>\n",
              "      <td>0</td>\n",
              "      <td>172</td>\n",
              "      <td>0</td>\n",
              "      <td>0.0</td>\n",
              "      <td>0</td>\n",
              "      <td>0</td>\n",
              "    </tr>\n",
              "    <tr>\n",
              "      <th>1</th>\n",
              "      <td>49</td>\n",
              "      <td>1</td>\n",
              "      <td>2</td>\n",
              "      <td>160</td>\n",
              "      <td>180.0</td>\n",
              "      <td>0</td>\n",
              "      <td>0</td>\n",
              "      <td>156</td>\n",
              "      <td>0</td>\n",
              "      <td>1.0</td>\n",
              "      <td>1</td>\n",
              "      <td>1</td>\n",
              "    </tr>\n",
              "    <tr>\n",
              "      <th>2</th>\n",
              "      <td>37</td>\n",
              "      <td>0</td>\n",
              "      <td>1</td>\n",
              "      <td>130</td>\n",
              "      <td>283.0</td>\n",
              "      <td>0</td>\n",
              "      <td>1</td>\n",
              "      <td>98</td>\n",
              "      <td>0</td>\n",
              "      <td>0.0</td>\n",
              "      <td>0</td>\n",
              "      <td>0</td>\n",
              "    </tr>\n",
              "    <tr>\n",
              "      <th>3</th>\n",
              "      <td>48</td>\n",
              "      <td>1</td>\n",
              "      <td>3</td>\n",
              "      <td>138</td>\n",
              "      <td>214.0</td>\n",
              "      <td>0</td>\n",
              "      <td>0</td>\n",
              "      <td>108</td>\n",
              "      <td>1</td>\n",
              "      <td>1.5</td>\n",
              "      <td>1</td>\n",
              "      <td>1</td>\n",
              "    </tr>\n",
              "    <tr>\n",
              "      <th>4</th>\n",
              "      <td>54</td>\n",
              "      <td>0</td>\n",
              "      <td>2</td>\n",
              "      <td>150</td>\n",
              "      <td>195.0</td>\n",
              "      <td>0</td>\n",
              "      <td>0</td>\n",
              "      <td>122</td>\n",
              "      <td>0</td>\n",
              "      <td>0.0</td>\n",
              "      <td>0</td>\n",
              "      <td>0</td>\n",
              "    </tr>\n",
              "  </tbody>\n",
              "</table>\n",
              "</div>\n",
              "      <button class=\"colab-df-convert\" onclick=\"convertToInteractive('df-cb7254c9-a653-4862-bb8f-e6242c9ec8f3')\"\n",
              "              title=\"Convert this dataframe to an interactive table.\"\n",
              "              style=\"display:none;\">\n",
              "        \n",
              "  <svg xmlns=\"http://www.w3.org/2000/svg\" height=\"24px\"viewBox=\"0 0 24 24\"\n",
              "       width=\"24px\">\n",
              "    <path d=\"M0 0h24v24H0V0z\" fill=\"none\"/>\n",
              "    <path d=\"M18.56 5.44l.94 2.06.94-2.06 2.06-.94-2.06-.94-.94-2.06-.94 2.06-2.06.94zm-11 1L8.5 8.5l.94-2.06 2.06-.94-2.06-.94L8.5 2.5l-.94 2.06-2.06.94zm10 10l.94 2.06.94-2.06 2.06-.94-2.06-.94-.94-2.06-.94 2.06-2.06.94z\"/><path d=\"M17.41 7.96l-1.37-1.37c-.4-.4-.92-.59-1.43-.59-.52 0-1.04.2-1.43.59L10.3 9.45l-7.72 7.72c-.78.78-.78 2.05 0 2.83L4 21.41c.39.39.9.59 1.41.59.51 0 1.02-.2 1.41-.59l7.78-7.78 2.81-2.81c.8-.78.8-2.07 0-2.86zM5.41 20L4 18.59l7.72-7.72 1.47 1.35L5.41 20z\"/>\n",
              "  </svg>\n",
              "      </button>\n",
              "      \n",
              "  <style>\n",
              "    .colab-df-container {\n",
              "      display:flex;\n",
              "      flex-wrap:wrap;\n",
              "      gap: 12px;\n",
              "    }\n",
              "\n",
              "    .colab-df-convert {\n",
              "      background-color: #E8F0FE;\n",
              "      border: none;\n",
              "      border-radius: 50%;\n",
              "      cursor: pointer;\n",
              "      display: none;\n",
              "      fill: #1967D2;\n",
              "      height: 32px;\n",
              "      padding: 0 0 0 0;\n",
              "      width: 32px;\n",
              "    }\n",
              "\n",
              "    .colab-df-convert:hover {\n",
              "      background-color: #E2EBFA;\n",
              "      box-shadow: 0px 1px 2px rgba(60, 64, 67, 0.3), 0px 1px 3px 1px rgba(60, 64, 67, 0.15);\n",
              "      fill: #174EA6;\n",
              "    }\n",
              "\n",
              "    [theme=dark] .colab-df-convert {\n",
              "      background-color: #3B4455;\n",
              "      fill: #D2E3FC;\n",
              "    }\n",
              "\n",
              "    [theme=dark] .colab-df-convert:hover {\n",
              "      background-color: #434B5C;\n",
              "      box-shadow: 0px 1px 3px 1px rgba(0, 0, 0, 0.15);\n",
              "      filter: drop-shadow(0px 1px 2px rgba(0, 0, 0, 0.3));\n",
              "      fill: #FFFFFF;\n",
              "    }\n",
              "  </style>\n",
              "\n",
              "      <script>\n",
              "        const buttonEl =\n",
              "          document.querySelector('#df-cb7254c9-a653-4862-bb8f-e6242c9ec8f3 button.colab-df-convert');\n",
              "        buttonEl.style.display =\n",
              "          google.colab.kernel.accessAllowed ? 'block' : 'none';\n",
              "\n",
              "        async function convertToInteractive(key) {\n",
              "          const element = document.querySelector('#df-cb7254c9-a653-4862-bb8f-e6242c9ec8f3');\n",
              "          const dataTable =\n",
              "            await google.colab.kernel.invokeFunction('convertToInteractive',\n",
              "                                                     [key], {});\n",
              "          if (!dataTable) return;\n",
              "\n",
              "          const docLinkHtml = 'Like what you see? Visit the ' +\n",
              "            '<a target=\"_blank\" href=https://colab.research.google.com/notebooks/data_table.ipynb>data table notebook</a>'\n",
              "            + ' to learn more about interactive tables.';\n",
              "          element.innerHTML = '';\n",
              "          dataTable['output_type'] = 'display_data';\n",
              "          await google.colab.output.renderOutput(dataTable, element);\n",
              "          const docLink = document.createElement('div');\n",
              "          docLink.innerHTML = docLinkHtml;\n",
              "          element.appendChild(docLink);\n",
              "        }\n",
              "      </script>\n",
              "    </div>\n",
              "  </div>\n",
              "  "
            ]
          },
          "metadata": {},
          "execution_count": 10
        }
      ]
    },
    {
      "cell_type": "code",
      "source": [
        "previsores = df2.iloc[:, 0:11].values\n"
      ],
      "metadata": {
        "id": "alp9Gsx8z6f3"
      },
      "execution_count": null,
      "outputs": []
    },
    {
      "cell_type": "code",
      "source": [
        "previsores"
      ],
      "metadata": {
        "id": "ZJjs6cWq-9Bn",
        "colab": {
          "base_uri": "https://localhost:8080/"
        },
        "outputId": "a29604cb-833b-46a4-9433-ad4636286f51"
      },
      "execution_count": null,
      "outputs": [
        {
          "output_type": "execute_result",
          "data": {
            "text/plain": [
              "array([[40. ,  0. ,  1. , ...,  0. ,  0. ,  0. ],\n",
              "       [49. ,  1. ,  2. , ...,  0. ,  1. ,  1. ],\n",
              "       [37. ,  0. ,  1. , ...,  0. ,  0. ,  0. ],\n",
              "       ...,\n",
              "       [57. ,  0. ,  3. , ...,  1. ,  1.2,  1. ],\n",
              "       [57. ,  1. ,  1. , ...,  0. ,  0. ,  1. ],\n",
              "       [38. ,  0. ,  2. , ...,  0. ,  0. ,  0. ]])"
            ]
          },
          "metadata": {},
          "execution_count": 12
        }
      ]
    },
    {
      "cell_type": "code",
      "source": [
        "previsores.shape"
      ],
      "metadata": {
        "id": "KrtsyKXXAxTL",
        "colab": {
          "base_uri": "https://localhost:8080/"
        },
        "outputId": "b1946a0a-36c7-433d-acc3-b507004f22ed"
      },
      "execution_count": null,
      "outputs": [
        {
          "output_type": "execute_result",
          "data": {
            "text/plain": [
              "(917, 11)"
            ]
          },
          "metadata": {},
          "execution_count": 13
        }
      ]
    },
    {
      "cell_type": "code",
      "source": [
        "alvo = df2.iloc[:, 11].values"
      ],
      "metadata": {
        "id": "wdXWRjHMBAFo"
      },
      "execution_count": null,
      "outputs": []
    },
    {
      "cell_type": "code",
      "source": [
        "alvo"
      ],
      "metadata": {
        "id": "wK163BWgBJg2",
        "colab": {
          "base_uri": "https://localhost:8080/"
        },
        "outputId": "9d6e2452-7bdf-4090-b709-05c438af9ff0"
      },
      "execution_count": null,
      "outputs": [
        {
          "output_type": "execute_result",
          "data": {
            "text/plain": [
              "array([0, 1, 0, 1, 0, 0, 0, 0, 1, 0, 0, 1, 0, 1, 0, 0, 1, 0, 1, 1, 0, 0,\n",
              "       0, 1, 0, 0, 0, 0, 0, 0, 1, 0, 1, 1, 0, 0, 1, 0, 0, 0, 0, 1, 0, 0,\n",
              "       1, 0, 0, 0, 0, 1, 1, 1, 0, 0, 0, 0, 1, 1, 0, 1, 0, 0, 0, 1, 0, 0,\n",
              "       0, 0, 1, 0, 1, 0, 1, 0, 1, 0, 1, 0, 0, 1, 0, 0, 1, 0, 1, 1, 1, 0,\n",
              "       1, 0, 0, 0, 0, 1, 0, 1, 0, 0, 0, 0, 1, 0, 1, 1, 1, 0, 0, 0, 0, 0,\n",
              "       0, 1, 0, 0, 0, 1, 1, 1, 0, 1, 1, 0, 0, 1, 0, 0, 0, 0, 0, 0, 0, 1,\n",
              "       1, 1, 0, 1, 0, 0, 1, 1, 1, 1, 1, 0, 1, 0, 0, 0, 0, 1, 0, 0, 0, 0,\n",
              "       0, 1, 1, 0, 1, 0, 1, 1, 0, 0, 0, 1, 1, 0, 0, 0, 0, 0, 0, 0, 1, 1,\n",
              "       1, 0, 0, 0, 1, 0, 1, 0, 0, 1, 0, 1, 0, 1, 0, 0, 0, 0, 0, 0, 0, 0,\n",
              "       1, 0, 0, 0, 0, 0, 0, 0, 0, 1, 0, 1, 1, 1, 0, 0, 1, 0, 1, 0, 0, 0,\n",
              "       1, 1, 0, 0, 0, 1, 0, 1, 0, 0, 0, 0, 0, 0, 0, 0, 1, 1, 1, 1, 0, 1,\n",
              "       1, 0, 1, 0, 1, 1, 1, 1, 1, 1, 0, 0, 1, 0, 0, 0, 0, 0, 0, 0, 1, 1,\n",
              "       1, 0, 1, 0, 1, 0, 0, 0, 1, 0, 0, 0, 1, 1, 0, 0, 0, 1, 0, 0, 0, 0,\n",
              "       0, 0, 0, 0, 0, 0, 0, 1, 1, 1, 1, 1, 1, 1, 1, 0, 1, 1, 1, 1, 1, 0,\n",
              "       1, 1, 0, 1, 1, 1, 0, 1, 1, 1, 1, 1, 1, 1, 1, 1, 1, 1, 0, 1, 1, 1,\n",
              "       1, 1, 0, 1, 1, 1, 0, 1, 1, 1, 1, 1, 1, 1, 1, 1, 1, 1, 1, 1, 1, 1,\n",
              "       1, 1, 1, 1, 1, 1, 1, 1, 1, 1, 1, 1, 0, 1, 1, 1, 1, 1, 1, 1, 1, 1,\n",
              "       1, 1, 1, 1, 1, 1, 1, 1, 1, 1, 1, 1, 1, 1, 1, 1, 1, 1, 1, 1, 1, 1,\n",
              "       1, 1, 1, 1, 1, 1, 1, 1, 1, 1, 1, 1, 1, 1, 1, 1, 1, 1, 1, 1, 1, 0,\n",
              "       1, 1, 0, 0, 1, 0, 1, 1, 0, 1, 1, 1, 1, 0, 1, 1, 0, 0, 1, 1, 1, 0,\n",
              "       1, 1, 1, 1, 1, 1, 1, 1, 1, 1, 1, 1, 0, 1, 0, 1, 1, 1, 0, 1, 1, 1,\n",
              "       0, 1, 0, 1, 0, 1, 0, 1, 1, 1, 1, 0, 1, 0, 1, 1, 1, 1, 1, 1, 1, 1,\n",
              "       1, 0, 1, 0, 1, 1, 1, 1, 1, 1, 1, 0, 1, 1, 1, 1, 1, 1, 0, 1, 1, 1,\n",
              "       0, 1, 1, 0, 1, 0, 1, 1, 0, 1, 1, 1, 1, 0, 1, 1, 1, 0, 0, 1, 0, 1,\n",
              "       1, 1, 1, 1, 1, 1, 1, 1, 1, 1, 0, 1, 1, 1, 1, 0, 0, 1, 1, 1, 0, 1,\n",
              "       0, 1, 1, 0, 1, 0, 1, 1, 1, 0, 0, 0, 1, 1, 1, 0, 1, 1, 1, 1, 1, 1,\n",
              "       1, 1, 1, 1, 1, 1, 1, 1, 1, 1, 0, 1, 1, 1, 0, 1, 1, 0, 0, 1, 1, 1,\n",
              "       1, 1, 0, 1, 1, 0, 1, 1, 1, 0, 0, 1, 1, 1, 1, 1, 0, 1, 0, 1, 1, 0,\n",
              "       1, 0, 0, 0, 1, 1, 1, 1, 0, 0, 0, 1, 0, 0, 1, 1, 0, 0, 1, 0, 0, 0,\n",
              "       0, 0, 0, 0, 1, 0, 1, 0, 0, 1, 1, 1, 1, 1, 0, 0, 1, 0, 0, 0, 1, 0,\n",
              "       1, 1, 1, 1, 1, 0, 0, 0, 0, 0, 1, 0, 1, 1, 0, 1, 0, 0, 0, 1, 0, 1,\n",
              "       0, 1, 1, 0, 0, 0, 0, 1, 0, 0, 0, 0, 1, 1, 1, 0, 0, 0, 0, 0, 0, 1,\n",
              "       0, 1, 1, 1, 1, 1, 0, 1, 0, 0, 0, 1, 0, 1, 1, 1, 0, 1, 1, 0, 1, 0,\n",
              "       1, 0, 0, 0, 1, 1, 0, 1, 1, 1, 1, 0, 0, 0, 1, 0, 0, 1, 1, 1, 0, 1,\n",
              "       0, 0, 0, 1, 0, 0, 1, 0, 1, 0, 1, 1, 1, 1, 1, 0, 0, 0, 0, 0, 0, 0,\n",
              "       1, 0, 0, 1, 1, 1, 0, 1, 0, 0, 0, 0, 0, 1, 0, 1, 1, 0, 0, 1, 1, 1,\n",
              "       1, 0, 0, 1, 1, 0, 0, 0, 1, 0, 0, 1, 0, 1, 0, 1, 0, 0, 0, 0, 0, 1,\n",
              "       0, 1, 1, 1, 1, 0, 0, 0, 1, 0, 1, 0, 0, 1, 0, 0, 0, 0, 0, 0, 1, 1,\n",
              "       0, 1, 0, 0, 1, 1, 0, 0, 1, 1, 0, 1, 0, 1, 0, 1, 0, 0, 1, 0, 0, 1,\n",
              "       0, 1, 1, 0, 1, 1, 1, 0, 1, 0, 0, 0, 0, 1, 1, 0, 0, 1, 1, 0, 1, 0,\n",
              "       0, 0, 0, 1, 0, 0, 1, 1, 1, 0, 0, 0, 1, 0, 1, 0, 1, 0, 1, 1, 1, 0,\n",
              "       0, 0, 1, 0, 1, 1, 1, 0, 1, 1, 1, 1, 1, 1, 0])"
            ]
          },
          "metadata": {},
          "execution_count": 15
        }
      ]
    },
    {
      "cell_type": "code",
      "source": [
        "alvo.shape"
      ],
      "metadata": {
        "id": "RoSOdYF3BaOf",
        "colab": {
          "base_uri": "https://localhost:8080/"
        },
        "outputId": "2757d3d1-bad8-4da9-fa13-79450f692234"
      },
      "execution_count": null,
      "outputs": [
        {
          "output_type": "execute_result",
          "data": {
            "text/plain": [
              "(917,)"
            ]
          },
          "metadata": {},
          "execution_count": 16
        }
      ]
    },
    {
      "cell_type": "markdown",
      "source": [
        "## **Análise das escalas dos atributos (Escalonamento)**"
      ],
      "metadata": {
        "id": "Xw6d4rM0C9ZD"
      }
    },
    {
      "cell_type": "code",
      "source": [
        "df2.describe()"
      ],
      "metadata": {
        "id": "JzYfrEIxDHIL"
      },
      "execution_count": null,
      "outputs": []
    },
    {
      "cell_type": "markdown",
      "source": [
        "Padronização (utiliza a média e o desvio padrão como referência).\n",
        "\n",
        "Normalização (utiliza os valores máximo e mínimo como referência)."
      ],
      "metadata": {
        "id": "XcSAxyqTD4dw"
      }
    },
    {
      "cell_type": "code",
      "source": [
        "from sklearn.preprocessing import StandardScaler"
      ],
      "metadata": {
        "id": "eMoVJG5kEJSG"
      },
      "execution_count": null,
      "outputs": []
    },
    {
      "cell_type": "code",
      "source": [
        "previsores_esc = StandardScaler().fit_transform(previsores)"
      ],
      "metadata": {
        "id": "0DpkgD9REQ7m"
      },
      "execution_count": null,
      "outputs": []
    },
    {
      "cell_type": "code",
      "source": [
        "previsores_esc"
      ],
      "metadata": {
        "id": "qmoQSiWMEr0k"
      },
      "execution_count": null,
      "outputs": []
    },
    {
      "cell_type": "code",
      "source": [
        "previsoresdf = pd.DataFrame(previsores_esc)\n",
        "previsoresdf"
      ],
      "metadata": {
        "id": "aFabOc6kFLMu"
      },
      "execution_count": null,
      "outputs": []
    },
    {
      "cell_type": "code",
      "source": [
        "previsoresdf.describe()"
      ],
      "metadata": {
        "id": "cXVXsyAtFWSo"
      },
      "execution_count": null,
      "outputs": []
    },
    {
      "cell_type": "markdown",
      "source": [
        "## **Codificação de variáveis categóricas**"
      ],
      "metadata": {
        "id": "HU3ZNfuI0BaL"
      }
    },
    {
      "cell_type": "markdown",
      "source": [
        "### **LabelEncoder: transformação de variáveis categóricas em numéricas**\n"
      ],
      "metadata": {
        "id": "lPObOxwx0Qy5"
      }
    },
    {
      "cell_type": "code",
      "source": [
        "from sklearn.preprocessing import LabelEncoder"
      ],
      "metadata": {
        "id": "oLt4fZ620l-5"
      },
      "execution_count": null,
      "outputs": []
    },
    {
      "cell_type": "code",
      "source": [
        "df.head()"
      ],
      "metadata": {
        "id": "oJc1Q36h1Ls_",
        "colab": {
          "base_uri": "https://localhost:8080/",
          "height": 206
        },
        "outputId": "a60d6a28-3f40-4cc9-8ccd-701190bd010e"
      },
      "execution_count": null,
      "outputs": [
        {
          "output_type": "execute_result",
          "data": {
            "text/plain": [
              "   Age Sex ChestPainType  RestingBP  Cholesterol  FastingBS RestingECG  MaxHR  \\\n",
              "0   40   M           ATA        140        289.0          0     Normal    172   \n",
              "1   49   F           NAP        160        180.0          0     Normal    156   \n",
              "2   37   M           ATA        130        283.0          0         ST     98   \n",
              "3   48   F           ASY        138        214.0          0     Normal    108   \n",
              "4   54   M           NAP        150        195.0          0     Normal    122   \n",
              "\n",
              "  ExerciseAngina  Oldpeak ST_Slope  HeartDisease  \n",
              "0              N      0.0       Up             0  \n",
              "1              N      1.0     Flat             1  \n",
              "2              N      0.0       Up             0  \n",
              "3              Y      1.5     Flat             1  \n",
              "4              N      0.0       Up             0  "
            ],
            "text/html": [
              "\n",
              "  <div id=\"df-8c20fb28-7c40-4ebb-ac68-ea03c89f5d89\">\n",
              "    <div class=\"colab-df-container\">\n",
              "      <div>\n",
              "<style scoped>\n",
              "    .dataframe tbody tr th:only-of-type {\n",
              "        vertical-align: middle;\n",
              "    }\n",
              "\n",
              "    .dataframe tbody tr th {\n",
              "        vertical-align: top;\n",
              "    }\n",
              "\n",
              "    .dataframe thead th {\n",
              "        text-align: right;\n",
              "    }\n",
              "</style>\n",
              "<table border=\"1\" class=\"dataframe\">\n",
              "  <thead>\n",
              "    <tr style=\"text-align: right;\">\n",
              "      <th></th>\n",
              "      <th>Age</th>\n",
              "      <th>Sex</th>\n",
              "      <th>ChestPainType</th>\n",
              "      <th>RestingBP</th>\n",
              "      <th>Cholesterol</th>\n",
              "      <th>FastingBS</th>\n",
              "      <th>RestingECG</th>\n",
              "      <th>MaxHR</th>\n",
              "      <th>ExerciseAngina</th>\n",
              "      <th>Oldpeak</th>\n",
              "      <th>ST_Slope</th>\n",
              "      <th>HeartDisease</th>\n",
              "    </tr>\n",
              "  </thead>\n",
              "  <tbody>\n",
              "    <tr>\n",
              "      <th>0</th>\n",
              "      <td>40</td>\n",
              "      <td>M</td>\n",
              "      <td>ATA</td>\n",
              "      <td>140</td>\n",
              "      <td>289.0</td>\n",
              "      <td>0</td>\n",
              "      <td>Normal</td>\n",
              "      <td>172</td>\n",
              "      <td>N</td>\n",
              "      <td>0.0</td>\n",
              "      <td>Up</td>\n",
              "      <td>0</td>\n",
              "    </tr>\n",
              "    <tr>\n",
              "      <th>1</th>\n",
              "      <td>49</td>\n",
              "      <td>F</td>\n",
              "      <td>NAP</td>\n",
              "      <td>160</td>\n",
              "      <td>180.0</td>\n",
              "      <td>0</td>\n",
              "      <td>Normal</td>\n",
              "      <td>156</td>\n",
              "      <td>N</td>\n",
              "      <td>1.0</td>\n",
              "      <td>Flat</td>\n",
              "      <td>1</td>\n",
              "    </tr>\n",
              "    <tr>\n",
              "      <th>2</th>\n",
              "      <td>37</td>\n",
              "      <td>M</td>\n",
              "      <td>ATA</td>\n",
              "      <td>130</td>\n",
              "      <td>283.0</td>\n",
              "      <td>0</td>\n",
              "      <td>ST</td>\n",
              "      <td>98</td>\n",
              "      <td>N</td>\n",
              "      <td>0.0</td>\n",
              "      <td>Up</td>\n",
              "      <td>0</td>\n",
              "    </tr>\n",
              "    <tr>\n",
              "      <th>3</th>\n",
              "      <td>48</td>\n",
              "      <td>F</td>\n",
              "      <td>ASY</td>\n",
              "      <td>138</td>\n",
              "      <td>214.0</td>\n",
              "      <td>0</td>\n",
              "      <td>Normal</td>\n",
              "      <td>108</td>\n",
              "      <td>Y</td>\n",
              "      <td>1.5</td>\n",
              "      <td>Flat</td>\n",
              "      <td>1</td>\n",
              "    </tr>\n",
              "    <tr>\n",
              "      <th>4</th>\n",
              "      <td>54</td>\n",
              "      <td>M</td>\n",
              "      <td>NAP</td>\n",
              "      <td>150</td>\n",
              "      <td>195.0</td>\n",
              "      <td>0</td>\n",
              "      <td>Normal</td>\n",
              "      <td>122</td>\n",
              "      <td>N</td>\n",
              "      <td>0.0</td>\n",
              "      <td>Up</td>\n",
              "      <td>0</td>\n",
              "    </tr>\n",
              "  </tbody>\n",
              "</table>\n",
              "</div>\n",
              "      <button class=\"colab-df-convert\" onclick=\"convertToInteractive('df-8c20fb28-7c40-4ebb-ac68-ea03c89f5d89')\"\n",
              "              title=\"Convert this dataframe to an interactive table.\"\n",
              "              style=\"display:none;\">\n",
              "        \n",
              "  <svg xmlns=\"http://www.w3.org/2000/svg\" height=\"24px\"viewBox=\"0 0 24 24\"\n",
              "       width=\"24px\">\n",
              "    <path d=\"M0 0h24v24H0V0z\" fill=\"none\"/>\n",
              "    <path d=\"M18.56 5.44l.94 2.06.94-2.06 2.06-.94-2.06-.94-.94-2.06-.94 2.06-2.06.94zm-11 1L8.5 8.5l.94-2.06 2.06-.94-2.06-.94L8.5 2.5l-.94 2.06-2.06.94zm10 10l.94 2.06.94-2.06 2.06-.94-2.06-.94-.94-2.06-.94 2.06-2.06.94z\"/><path d=\"M17.41 7.96l-1.37-1.37c-.4-.4-.92-.59-1.43-.59-.52 0-1.04.2-1.43.59L10.3 9.45l-7.72 7.72c-.78.78-.78 2.05 0 2.83L4 21.41c.39.39.9.59 1.41.59.51 0 1.02-.2 1.41-.59l7.78-7.78 2.81-2.81c.8-.78.8-2.07 0-2.86zM5.41 20L4 18.59l7.72-7.72 1.47 1.35L5.41 20z\"/>\n",
              "  </svg>\n",
              "      </button>\n",
              "      \n",
              "  <style>\n",
              "    .colab-df-container {\n",
              "      display:flex;\n",
              "      flex-wrap:wrap;\n",
              "      gap: 12px;\n",
              "    }\n",
              "\n",
              "    .colab-df-convert {\n",
              "      background-color: #E8F0FE;\n",
              "      border: none;\n",
              "      border-radius: 50%;\n",
              "      cursor: pointer;\n",
              "      display: none;\n",
              "      fill: #1967D2;\n",
              "      height: 32px;\n",
              "      padding: 0 0 0 0;\n",
              "      width: 32px;\n",
              "    }\n",
              "\n",
              "    .colab-df-convert:hover {\n",
              "      background-color: #E2EBFA;\n",
              "      box-shadow: 0px 1px 2px rgba(60, 64, 67, 0.3), 0px 1px 3px 1px rgba(60, 64, 67, 0.15);\n",
              "      fill: #174EA6;\n",
              "    }\n",
              "\n",
              "    [theme=dark] .colab-df-convert {\n",
              "      background-color: #3B4455;\n",
              "      fill: #D2E3FC;\n",
              "    }\n",
              "\n",
              "    [theme=dark] .colab-df-convert:hover {\n",
              "      background-color: #434B5C;\n",
              "      box-shadow: 0px 1px 3px 1px rgba(0, 0, 0, 0.15);\n",
              "      filter: drop-shadow(0px 1px 2px rgba(0, 0, 0, 0.3));\n",
              "      fill: #FFFFFF;\n",
              "    }\n",
              "  </style>\n",
              "\n",
              "      <script>\n",
              "        const buttonEl =\n",
              "          document.querySelector('#df-8c20fb28-7c40-4ebb-ac68-ea03c89f5d89 button.colab-df-convert');\n",
              "        buttonEl.style.display =\n",
              "          google.colab.kernel.accessAllowed ? 'block' : 'none';\n",
              "\n",
              "        async function convertToInteractive(key) {\n",
              "          const element = document.querySelector('#df-8c20fb28-7c40-4ebb-ac68-ea03c89f5d89');\n",
              "          const dataTable =\n",
              "            await google.colab.kernel.invokeFunction('convertToInteractive',\n",
              "                                                     [key], {});\n",
              "          if (!dataTable) return;\n",
              "\n",
              "          const docLinkHtml = 'Like what you see? Visit the ' +\n",
              "            '<a target=\"_blank\" href=https://colab.research.google.com/notebooks/data_table.ipynb>data table notebook</a>'\n",
              "            + ' to learn more about interactive tables.';\n",
              "          element.innerHTML = '';\n",
              "          dataTable['output_type'] = 'display_data';\n",
              "          await google.colab.output.renderOutput(dataTable, element);\n",
              "          const docLink = document.createElement('div');\n",
              "          docLink.innerHTML = docLinkHtml;\n",
              "          element.appendChild(docLink);\n",
              "        }\n",
              "      </script>\n",
              "    </div>\n",
              "  </div>\n",
              "  "
            ]
          },
          "metadata": {},
          "execution_count": 37
        }
      ]
    },
    {
      "cell_type": "code",
      "source": [
        "previsores2 = df.iloc[:, 0:11].values\n",
        "previsores2"
      ],
      "metadata": {
        "id": "0VFq4NJ_181-",
        "colab": {
          "base_uri": "https://localhost:8080/"
        },
        "outputId": "23dd444b-76dc-4bfb-cb52-4128dcaf1401"
      },
      "execution_count": null,
      "outputs": [
        {
          "output_type": "execute_result",
          "data": {
            "text/plain": [
              "array([[40, 'M', 'ATA', ..., 'N', 0.0, 'Up'],\n",
              "       [49, 'F', 'NAP', ..., 'N', 1.0, 'Flat'],\n",
              "       [37, 'M', 'ATA', ..., 'N', 0.0, 'Up'],\n",
              "       ...,\n",
              "       [57, 'M', 'ASY', ..., 'Y', 1.2, 'Flat'],\n",
              "       [57, 'F', 'ATA', ..., 'N', 0.0, 'Flat'],\n",
              "       [38, 'M', 'NAP', ..., 'N', 0.0, 'Up']], dtype=object)"
            ]
          },
          "metadata": {},
          "execution_count": 61
        }
      ]
    },
    {
      "cell_type": "code",
      "source": [
        "previsores2[:,1] = LabelEncoder().fit_transform(previsores2[:,1])"
      ],
      "metadata": {
        "id": "36oIQ8I10nin"
      },
      "execution_count": null,
      "outputs": []
    },
    {
      "cell_type": "code",
      "source": [
        "previsores2"
      ],
      "metadata": {
        "id": "IZQuLVsb1kMW",
        "colab": {
          "base_uri": "https://localhost:8080/"
        },
        "outputId": "213b9e0a-ba5b-4c4b-8406-deb2e4974152"
      },
      "execution_count": null,
      "outputs": [
        {
          "output_type": "execute_result",
          "data": {
            "text/plain": [
              "array([[40, 1, 'ATA', ..., 'N', 0.0, 'Up'],\n",
              "       [49, 0, 'NAP', ..., 'N', 1.0, 'Flat'],\n",
              "       [37, 1, 'ATA', ..., 'N', 0.0, 'Up'],\n",
              "       ...,\n",
              "       [57, 1, 'ASY', ..., 'Y', 1.2, 'Flat'],\n",
              "       [57, 0, 'ATA', ..., 'N', 0.0, 'Flat'],\n",
              "       [38, 1, 'NAP', ..., 'N', 0.0, 'Up']], dtype=object)"
            ]
          },
          "metadata": {},
          "execution_count": 64
        }
      ]
    },
    {
      "cell_type": "code",
      "source": [
        "previsores2[:,2] = LabelEncoder().fit_transform(previsores2[:,2])\n",
        "previsores2[:,6] = LabelEncoder().fit_transform(previsores2[:,6])\n",
        "previsores2[:,8] = LabelEncoder().fit_transform(previsores2[:,8])\n",
        "previsores2[:,10] = LabelEncoder().fit_transform(previsores2[:,10])"
      ],
      "metadata": {
        "id": "VAV6Jrmg00_B"
      },
      "execution_count": null,
      "outputs": []
    },
    {
      "cell_type": "code",
      "source": [
        "previsores2"
      ],
      "metadata": {
        "id": "6OYCPPGa3EE6",
        "colab": {
          "base_uri": "https://localhost:8080/"
        },
        "outputId": "c00f06c1-ed47-4af5-ed43-42dd381700cb"
      },
      "execution_count": null,
      "outputs": [
        {
          "output_type": "execute_result",
          "data": {
            "text/plain": [
              "array([[40, 0, 1, ..., 0, 0.0, 2],\n",
              "       [49, 1, 2, ..., 0, 1.0, 1],\n",
              "       [37, 0, 1, ..., 0, 0.0, 2],\n",
              "       ...,\n",
              "       [57, 0, 0, ..., 1, 1.2, 1],\n",
              "       [57, 1, 1, ..., 0, 0.0, 1],\n",
              "       [38, 0, 2, ..., 0, 0.0, 2]], dtype=object)"
            ]
          },
          "metadata": {},
          "execution_count": 59
        }
      ]
    },
    {
      "cell_type": "code",
      "source": [
        "previsores2.shape"
      ],
      "metadata": {
        "id": "SV6SHdiD3i_Z",
        "colab": {
          "base_uri": "https://localhost:8080/"
        },
        "outputId": "03ce3ce3-a508-41ca-ab56-b6d20023665b"
      },
      "execution_count": null,
      "outputs": [
        {
          "output_type": "execute_result",
          "data": {
            "text/plain": [
              "(917, 11)"
            ]
          },
          "metadata": {},
          "execution_count": 67
        }
      ]
    },
    {
      "cell_type": "markdown",
      "source": [
        "### **OneHotEncoder: Criação de variáveis Dummy (fictícia).**"
      ],
      "metadata": {
        "id": "PIqEAMoH52Og"
      }
    },
    {
      "cell_type": "markdown",
      "source": [
        "Cuidado com a multicolinearidade (variáveis altamente correlacionadas entre si)."
      ],
      "metadata": {
        "id": "Ic1BCbFvGTNL"
      }
    },
    {
      "cell_type": "markdown",
      "source": [
        "![image.png](data:image/png;base64,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)"
      ],
      "metadata": {
        "id": "ruBvkbyn74ly"
      }
    },
    {
      "cell_type": "markdown",
      "metadata": {
        "id": "ZszZwZIBPrQR"
      },
      "source": [
        "A   B   C   D   \n",
        "1   0   0   0   \n",
        "0   1   0   0   \n",
        "0   0   1   0   \n",
        "0   0   0   1\n"
      ]
    },
    {
      "cell_type": "code",
      "source": [
        "from sklearn.preprocessing import OneHotEncoder\n",
        "from sklearn.compose import ColumnTransformer"
      ],
      "metadata": {
        "id": "YeSR7cQC8uCQ"
      },
      "execution_count": null,
      "outputs": []
    },
    {
      "cell_type": "code",
      "metadata": {
        "id": "qx2UeR9S2Whp"
      },
      "source": [
        "ColumnTransformer?"
      ],
      "execution_count": null,
      "outputs": []
    },
    {
      "cell_type": "markdown",
      "metadata": {
        "id": "ZT_BjSzytpVX"
      },
      "source": [
        "Parâmetros ColumnTransformer\n",
        "- name: nome dado a transformação.\n",
        "- transformer: tipo de estimador (OneHotEncoder).\n",
        "- columns: colunas que serão transformadas.\n",
        "- remainder: o que acontecerá com o restante das colunas não relacionadas: \n",
        "1) drop = exclui as outras colunas.\n",
        "2) passthrough = mantém as outras colunas. drop é default.  \n",
        "- sparse_threshold: parâmetro de classificação de matrizes esparsas. default é 0.3\n",
        "- n_jobs: número de trabalhos a serem executados em paralelo. default é nenhum\n",
        "- transformer_weights: definição de pesos aos transformadores.\n",
        "-verbose: default é False. se for True a execução é apresentada na tela."
      ]
    },
    {
      "cell_type": "code",
      "source": [
        "previsores3 = ColumnTransformer(transformers=[('OneHot', OneHotEncoder(), [1,2,6,8,10])],\n",
        "                                remainder='passthrough').fit_transform(previsores2)"
      ],
      "metadata": {
        "id": "rXFOyMmd9JEB"
      },
      "execution_count": null,
      "outputs": []
    },
    {
      "cell_type": "code",
      "source": [
        "previsores3"
      ],
      "metadata": {
        "id": "F_H3hiDD_pfB",
        "colab": {
          "base_uri": "https://localhost:8080/"
        },
        "outputId": "34cab926-22f5-4f9d-b4ee-65788417fae8"
      },
      "execution_count": null,
      "outputs": [
        {
          "output_type": "execute_result",
          "data": {
            "text/plain": [
              "array([[0.0, 1.0, 0.0, ..., 0, 172, 0.0],\n",
              "       [1.0, 0.0, 0.0, ..., 0, 156, 1.0],\n",
              "       [0.0, 1.0, 0.0, ..., 0, 98, 0.0],\n",
              "       ...,\n",
              "       [0.0, 1.0, 1.0, ..., 0, 115, 1.2],\n",
              "       [1.0, 0.0, 0.0, ..., 0, 174, 0.0],\n",
              "       [0.0, 1.0, 0.0, ..., 0, 173, 0.0]], dtype=object)"
            ]
          },
          "metadata": {},
          "execution_count": 70
        }
      ]
    },
    {
      "cell_type": "code",
      "source": [
        "previsores3.shape"
      ],
      "metadata": {
        "id": "eZ-nG4XEBMXU"
      },
      "execution_count": null,
      "outputs": []
    },
    {
      "cell_type": "code",
      "source": [
        "previsores3df = pd.DataFrame(previsores3)\n",
        "previsores3df.head()"
      ],
      "metadata": {
        "id": "1iTTX6b0C_0-"
      },
      "execution_count": null,
      "outputs": []
    },
    {
      "cell_type": "code",
      "source": [
        "df.head()"
      ],
      "metadata": {
        "id": "KTfczx7EDvwc"
      },
      "execution_count": null,
      "outputs": []
    },
    {
      "cell_type": "markdown",
      "source": [
        "## **Escalonamento**"
      ],
      "metadata": {
        "id": "YWlyb9T-Fk1I"
      }
    },
    {
      "cell_type": "code",
      "source": [
        "from sklearn.preprocessing import StandardScaler"
      ],
      "metadata": {
        "id": "x4jzommSFk1L"
      },
      "execution_count": null,
      "outputs": []
    },
    {
      "cell_type": "code",
      "source": [
        "previsores3_esc = StandardScaler().fit_transform(previsores3)"
      ],
      "metadata": {
        "id": "nvLu4mtDFk1L"
      },
      "execution_count": null,
      "outputs": []
    },
    {
      "cell_type": "code",
      "source": [
        "previsores3_esc"
      ],
      "metadata": {
        "id": "eFTA8spkFk1M"
      },
      "execution_count": null,
      "outputs": []
    },
    {
      "cell_type": "code",
      "source": [
        "previsores3df = pd.DataFrame(previsores3_esc)\n",
        "previsores3df"
      ],
      "metadata": {
        "id": "w6JQStnqFk1M"
      },
      "execution_count": null,
      "outputs": []
    },
    {
      "cell_type": "code",
      "source": [
        "previsores3df.describe()"
      ],
      "metadata": {
        "id": "e-dcMRS-Fk1N"
      },
      "execution_count": null,
      "outputs": []
    },
    {
      "cell_type": "markdown",
      "source": [
        "## **RESUMO PRÉ-PROCESSAMENTO**"
      ],
      "metadata": {
        "id": "kW700Sj9Fk1O"
      }
    },
    {
      "cell_type": "markdown",
      "source": [
        "alvo = variável que se pretende atingir (tem ou não doença cardíaca).\n",
        "\n",
        "previsores = conjunto de variáveis previsoras com as variáveis categóricas transformadas em numéricas manualmente, sem escalonar.\n",
        "\n",
        "previsores_esc = conjunto de variáveis previsoras com as variáveis categóricas transformadas em numéricas, escalonada.\n",
        "\n",
        "previsores2 = conjunto de variáveis previsoras com as variáveis categóricas transformadas em numéricas pelo labelencoder.\n",
        "\n",
        "previsores3 = conjunto de variáveis previsoras transformadas pelo labelencoder e onehotencoder, sem escalonar.\n",
        "\n",
        "previsores3_esc = conjunto de variáveis previsoras transformadas pelo labelencoder e onehotencoder escalonada."
      ],
      "metadata": {
        "id": "k-L1kFumG1pO"
      }
    },
    {
      "cell_type": "markdown",
      "source": [
        "## **Redução de dimensionalidade**"
      ],
      "metadata": {
        "id": "S3Kl3wySKBEw"
      }
    },
    {
      "cell_type": "markdown",
      "source": [
        "Objetivo é selecionar os melhores componentes (atributos) para treinamento do algoritmo, através da análise das correlações entre as variáveis."
      ],
      "metadata": {
        "id": "w5fLfwjg8xrw"
      }
    },
    {
      "cell_type": "markdown",
      "metadata": {
        "id": "6OurC4GyUoak"
      },
      "source": [
        "### Análise dos Componentes Principais (PCA)"
      ]
    },
    {
      "cell_type": "markdown",
      "source": [
        "**Seleção de características:** seleciona os melhores atributos e utiliza sem transformações.\n",
        "\n",
        "**Extração de Características:** Encontra os relacionamentos dos melhores atributos e cria novos atributos.\n",
        "\n",
        "É um algoritmo de aprendizagem não supervisionada.\n",
        "\n",
        "Aplica-se em dados linearmente separáveis."
      ],
      "metadata": {
        "id": "iB5XY2Tf9AH5"
      }
    },
    {
      "cell_type": "code",
      "metadata": {
        "id": "j2adDUMyX3d2"
      },
      "source": [
        "from sklearn.decomposition import PCA"
      ],
      "execution_count": null,
      "outputs": []
    },
    {
      "cell_type": "code",
      "metadata": {
        "id": "ZmpO8urpX8kz"
      },
      "source": [
        "pca = PCA(n_components=3)"
      ],
      "execution_count": null,
      "outputs": []
    },
    {
      "cell_type": "code",
      "metadata": {
        "id": "zVHnZ8rYYOeL"
      },
      "source": [
        "previsores_pca = pca.fit_transform(previsores2)"
      ],
      "execution_count": null,
      "outputs": []
    },
    {
      "cell_type": "code",
      "metadata": {
        "id": "5Ouz2wdFYkJh"
      },
      "source": [
        "previsores_pca.shape"
      ],
      "execution_count": null,
      "outputs": []
    },
    {
      "cell_type": "code",
      "metadata": {
        "id": "i06cyMBkYubR"
      },
      "source": [
        "# Componentes principais\n",
        "previsores_pca"
      ],
      "execution_count": null,
      "outputs": []
    },
    {
      "cell_type": "code",
      "metadata": {
        "id": "hdBAi-piY28x"
      },
      "source": [
        "# razão das variáveis explicativas\n",
        "pca.explained_variance_ratio_"
      ],
      "execution_count": null,
      "outputs": []
    },
    {
      "cell_type": "code",
      "metadata": {
        "id": "lBxPFP0VZR1I"
      },
      "source": [
        "# Soma das variáveis explicativas\n",
        "pca.explained_variance_ratio_.sum()"
      ],
      "execution_count": null,
      "outputs": []
    },
    {
      "cell_type": "markdown",
      "metadata": {
        "id": "2UhdSgBmUtJ6"
      },
      "source": [
        "### Kernel PCA"
      ]
    },
    {
      "cell_type": "markdown",
      "source": [
        "É um algoritmo de aprendizagem não supervisionada.\n",
        "\n",
        "Aplica-se também em dados linearmente não separáveis."
      ],
      "metadata": {
        "id": "1DM-bEoM_JzC"
      }
    },
    {
      "cell_type": "code",
      "metadata": {
        "id": "z4ATtNXscFq2"
      },
      "source": [
        "from sklearn.decomposition import KernelPCA"
      ],
      "execution_count": null,
      "outputs": []
    },
    {
      "cell_type": "code",
      "metadata": {
        "id": "8kB6ZCIvcNb1"
      },
      "source": [
        "kpca = KernelPCA(n_components=4, kernel='rbf')"
      ],
      "execution_count": null,
      "outputs": []
    },
    {
      "cell_type": "code",
      "source": [
        "previsores_kernel = kpca.fit_transform(previsores2)"
      ],
      "metadata": {
        "id": "bRAZ06bXPspG"
      },
      "execution_count": null,
      "outputs": []
    },
    {
      "cell_type": "code",
      "metadata": {
        "id": "tswhvRYtdMvr"
      },
      "source": [
        "previsores_kernel.shape"
      ],
      "execution_count": null,
      "outputs": []
    },
    {
      "cell_type": "code",
      "metadata": {
        "id": "age1iPvsdZg-"
      },
      "source": [
        "previsores_kernel"
      ],
      "execution_count": null,
      "outputs": []
    },
    {
      "cell_type": "markdown",
      "source": [
        "### **Análise do Discriminante Linear (LDA: Linear Discriminant Analysis)**"
      ],
      "metadata": {
        "id": "u3jQ6H1S-HtG"
      }
    },
    {
      "cell_type": "markdown",
      "source": [
        "Algoritmo de aprendizagem supervisionada, pois utiliza a classe como referência para seleção.\n",
        "\n",
        "Aplicado em situações com muitos atributos previsores e também com o atributo alvo com muitas classes."
      ],
      "metadata": {
        "id": "NqO1DSAP-7tT"
      }
    },
    {
      "cell_type": "code",
      "metadata": {
        "id": "3RRYZemLenmT"
      },
      "source": [
        "from sklearn.discriminant_analysis import LinearDiscriminantAnalysis\n",
        "lda = LinearDiscriminantAnalysis(n_components = 1)"
      ],
      "execution_count": null,
      "outputs": []
    },
    {
      "cell_type": "code",
      "metadata": {
        "id": "onA-GJZafCLU"
      },
      "source": [
        "previsores_lda = lda.fit_transform(previsores2, alvo)"
      ],
      "execution_count": null,
      "outputs": []
    },
    {
      "cell_type": "code",
      "source": [
        "previsores_lda"
      ],
      "metadata": {
        "id": "Y2qtrFLrBVzr"
      },
      "execution_count": null,
      "outputs": []
    },
    {
      "cell_type": "code",
      "source": [
        "lda.explained_variance_ratio_"
      ],
      "metadata": {
        "id": "g5l0JnpGBfn7"
      },
      "execution_count": null,
      "outputs": []
    },
    {
      "cell_type": "markdown",
      "source": [
        "## **Salvando as variáveis (atributos)**"
      ],
      "metadata": {
        "id": "Caf7XRsO4BYE"
      }
    },
    {
      "cell_type": "code",
      "metadata": {
        "id": "Vn6R_DKHhG0u"
      },
      "source": [
        "import pickle"
      ],
      "execution_count": null,
      "outputs": []
    },
    {
      "cell_type": "code",
      "source": [
        "# Criando arquivo\n",
        "arq1 = open('heart.pkl', 'wb')"
      ],
      "metadata": {
        "id": "DuPE27wl-vBw"
      },
      "execution_count": null,
      "outputs": []
    },
    {
      "cell_type": "code",
      "source": [
        "# Salvando a variável no arquivo\n",
        "pickle.dump(alvo, arq1)"
      ],
      "metadata": {
        "id": "jTvKGTxnHien"
      },
      "execution_count": null,
      "outputs": []
    },
    {
      "cell_type": "code",
      "source": [
        "# Fechando arquivo\n",
        "arq1.close()"
      ],
      "metadata": {
        "id": "sle5bDZZIJjt"
      },
      "execution_count": null,
      "outputs": []
    },
    {
      "cell_type": "code",
      "source": [
        "# Lendo arquivo\n",
        "arq1 = open('heart.pkl', 'rb')"
      ],
      "metadata": {
        "id": "5-HNb-3IISWs"
      },
      "execution_count": null,
      "outputs": []
    },
    {
      "cell_type": "code",
      "source": [
        "# Chamando a variável\n",
        "alvo = pickle.load(arq1)"
      ],
      "metadata": {
        "id": "poLMbNNvIjlz"
      },
      "execution_count": null,
      "outputs": []
    },
    {
      "cell_type": "code",
      "source": [
        "alvo"
      ],
      "metadata": {
        "id": "MZHEQpHeKzK_"
      },
      "execution_count": null,
      "outputs": []
    },
    {
      "cell_type": "code",
      "source": [
        "# Criando arquivos e Salvando as variáveis\n",
        "arq2 = open('heart2.pkl', 'wb')\n",
        "pickle.dump(previsores, arq2)\n",
        "arq3 = open('heart3.pkl', 'wb')\n",
        "pickle.dump(previsores_esc, arq3)\n",
        "arq4 = open('heart4.pkl', 'wb')\n",
        "pickle.dump(previsores2, arq4)\n",
        "arq5 = open('heart5.pkl', 'wb')\n",
        "pickle.dump(previsores3, arq5)\n",
        "arq6 = open('heart6.pkl', 'wb')\n",
        "pickle.dump(previsores3_esc, arq6)"
      ],
      "metadata": {
        "id": "hb4PNxyzQgC1"
      },
      "execution_count": null,
      "outputs": []
    },
    {
      "cell_type": "code",
      "source": [
        "arq2 = open('heart2.pkl', 'rb')"
      ],
      "metadata": {
        "id": "i7noq9dAEwog"
      },
      "execution_count": null,
      "outputs": []
    },
    {
      "cell_type": "code",
      "source": [
        "previsores = pickle.load(arq2)"
      ],
      "metadata": {
        "id": "sNSCfClWE0_G"
      },
      "execution_count": null,
      "outputs": []
    },
    {
      "cell_type": "code",
      "source": [
        "previsores"
      ],
      "metadata": {
        "id": "3rE0rqRXRxR3"
      },
      "execution_count": null,
      "outputs": []
    },
    {
      "cell_type": "markdown",
      "source": [
        "## **BASE DE TREINO E TESTE**"
      ],
      "metadata": {
        "id": "w-W634n0I_Db"
      }
    },
    {
      "cell_type": "code",
      "source": [
        "from sklearn.model_selection import train_test_split"
      ],
      "metadata": {
        "id": "UmjBvEubFG72"
      },
      "execution_count": null,
      "outputs": []
    },
    {
      "cell_type": "markdown",
      "metadata": {
        "id": "cB1szLDSyfzA"
      },
      "source": [
        "Parâmetros train_test_split:   \n",
        "- arrays: nomes dos atributos previsores e alvo.   \n",
        "- test_size: tamanho em porcentagem dos dados de teste. default é none.   \n",
        "- train_size: tamanho em porcentagem dos dados de treinamento.default é none.  \n",
        "- random_state: nomeação de um estado aleatório.   \n",
        "- shuffle: embaralhamento dos dados aleatórios. Associado com o random_state ocorre o mesmo embaralhamento sempre. Default é True.  \n",
        "- stratify: Possibilidade de dividir os dados de forma estratificada. Default é None (nesse caso é mantido a proporção, isto é, se tem 30% de zeros e 70% de 1 no dataframe, na separação em treinamento e teste se manterá essa proporção)."
      ]
    },
    {
      "cell_type": "code",
      "source": [
        "x_treino, x_teste, y_treino, y_teste = train_test_split(previsores, alvo, test_size = 0.3, random_state = 0)"
      ],
      "metadata": {
        "id": "JFn1OrYtF0m9"
      },
      "execution_count": null,
      "outputs": []
    },
    {
      "cell_type": "code",
      "metadata": {
        "id": "Xza9uNMgJFD8"
      },
      "source": [
        "x_treino.shape"
      ],
      "execution_count": null,
      "outputs": []
    },
    {
      "cell_type": "code",
      "metadata": {
        "id": "gM74hUlEJNOZ"
      },
      "source": [
        "x_teste.shape"
      ],
      "execution_count": null,
      "outputs": []
    },
    {
      "cell_type": "code",
      "metadata": {
        "id": "lGzLxpISJeWG"
      },
      "source": [
        "y_treino.shape"
      ],
      "execution_count": null,
      "outputs": []
    },
    {
      "cell_type": "code",
      "metadata": {
        "id": "ZUojufPlJnhy"
      },
      "source": [
        "y_teste.shape"
      ],
      "execution_count": null,
      "outputs": []
    },
    {
      "cell_type": "markdown",
      "source": [
        "# **NAIVE BAYES**"
      ],
      "metadata": {
        "id": "f6u542_aEj6B"
      }
    },
    {
      "cell_type": "markdown",
      "source": [
        "https://scikit-learn.org/stable/modules/naive_bayes.html"
      ],
      "metadata": {
        "id": "2tnCKM7kcfQl"
      }
    },
    {
      "cell_type": "markdown",
      "source": [
        "Treinamento do algoritmo"
      ],
      "metadata": {
        "id": "-GK8qvcgzWGQ"
      }
    },
    {
      "cell_type": "code",
      "source": [
        "from sklearn.naive_bayes import GaussianNB"
      ],
      "metadata": {
        "id": "YhAnMs4TJRoa"
      },
      "execution_count": null,
      "outputs": []
    },
    {
      "cell_type": "code",
      "source": [
        "naive = GaussianNB()\n",
        "naive.fit(x_treino, y_treino)"
      ],
      "metadata": {
        "id": "ak0_M56CJheq"
      },
      "execution_count": null,
      "outputs": []
    },
    {
      "cell_type": "markdown",
      "source": [
        "Avaliação do algoritmo"
      ],
      "metadata": {
        "id": "neBugc1HzbL_"
      }
    },
    {
      "cell_type": "code",
      "source": [
        "previsoes_naive = naive.predict(x_teste)\n",
        "previsoes_naive"
      ],
      "metadata": {
        "id": "ac4kuVBsJ85p"
      },
      "execution_count": null,
      "outputs": []
    },
    {
      "cell_type": "code",
      "source": [
        "y_teste"
      ],
      "metadata": {
        "id": "aBPvzhRUKLoZ"
      },
      "execution_count": null,
      "outputs": []
    },
    {
      "cell_type": "code",
      "source": [
        "from sklearn.metrics import accuracy_score, confusion_matrix, classification_report"
      ],
      "metadata": {
        "id": "OEXPFIiVKUl_"
      },
      "execution_count": null,
      "outputs": []
    },
    {
      "cell_type": "code",
      "source": [
        "accuracy_score(y_teste, previsoes_naive)"
      ],
      "metadata": {
        "id": "hojdvgEgKYjg"
      },
      "execution_count": null,
      "outputs": []
    },
    {
      "cell_type": "code",
      "source": [
        "print(\"Acurácia: %.2f%%\" % (accuracy_score(y_teste, previsoes_naive) * 100.0))"
      ],
      "metadata": {
        "id": "R8rjCRA7CwLV"
      },
      "execution_count": null,
      "outputs": []
    },
    {
      "cell_type": "code",
      "source": [
        "confusion_matrix(y_teste, previsoes_naive)"
      ],
      "metadata": {
        "id": "N_xxZiTXKeG3"
      },
      "execution_count": null,
      "outputs": []
    },
    {
      "cell_type": "code",
      "source": [
        "print(classification_report(y_teste, previsoes_naive))"
      ],
      "metadata": {
        "id": "CZMZ_zPNKzqW"
      },
      "execution_count": null,
      "outputs": []
    },
    {
      "cell_type": "markdown",
      "source": [
        "**Análise dados de treino**"
      ],
      "metadata": {
        "id": "Gnte-P_e0536"
      }
    },
    {
      "cell_type": "code",
      "source": [
        "previsoes_treino = naive.predict(x_treino)\n",
        "previsoes_treino"
      ],
      "metadata": {
        "id": "_t9CZH8qz9w-"
      },
      "execution_count": null,
      "outputs": []
    },
    {
      "cell_type": "code",
      "source": [
        "accuracy_score(y_treino, previsoes_treino)"
      ],
      "metadata": {
        "id": "ixfPbrJB0iEE"
      },
      "execution_count": null,
      "outputs": []
    },
    {
      "cell_type": "code",
      "source": [
        "confusion_matrix(y_treino, previsoes_treino)"
      ],
      "metadata": {
        "id": "nyTX_2Te0suq"
      },
      "execution_count": null,
      "outputs": []
    },
    {
      "cell_type": "markdown",
      "source": [
        "### **Validação Cruzada**"
      ],
      "metadata": {
        "id": "rNsT6wAn_e1l"
      }
    },
    {
      "cell_type": "code",
      "source": [
        "from sklearn.model_selection import KFold\n",
        "from sklearn.model_selection import cross_val_score"
      ],
      "metadata": {
        "id": "lvBuy5bm_qok"
      },
      "execution_count": null,
      "outputs": []
    },
    {
      "cell_type": "code",
      "source": [
        "# Separando os dados em folds\n",
        "kfold = KFold(n_splits = 30, shuffle=True, random_state = 5)"
      ],
      "metadata": {
        "id": "SS_dyx4x_260"
      },
      "execution_count": null,
      "outputs": []
    },
    {
      "cell_type": "code",
      "source": [
        "# Criando o modelo\n",
        "modelo = GaussianNB()\n",
        "resultado = cross_val_score(modelo, previsores3_esc, alvo, cv = kfold)\n",
        "resultado"
      ],
      "metadata": {
        "id": "K0aqT7kPAf1L"
      },
      "execution_count": null,
      "outputs": []
    },
    {
      "cell_type": "code",
      "source": [
        "# Usamos a média e o desvio padrão\n",
        "print(\"Acurácia Média: %.2f%%\" % (resultado.mean() * 100.0))"
      ],
      "metadata": {
        "id": "VmmFUeXird9B"
      },
      "execution_count": null,
      "outputs": []
    },
    {
      "cell_type": "markdown",
      "source": [
        "Naive Bayes = 84,78% (treino e teste) - 234 acertos e 85,17% (validação cruzada) - previsores3_esc\n",
        "\n",
        "\n",
        "\n"
      ],
      "metadata": {
        "id": "tZ03xoOQNkQP"
      }
    },
    {
      "cell_type": "markdown",
      "source": [
        "# **MÁQUINAS DE VETORES DE SUPORTE (SVM)**"
      ],
      "metadata": {
        "id": "n1ky9LQipNn0"
      }
    },
    {
      "cell_type": "markdown",
      "source": [
        "https://scikit-learn.org/stable/modules/generated/sklearn.svm.SVC.html"
      ],
      "metadata": {
        "id": "5p55FhL3b52u"
      }
    },
    {
      "cell_type": "code",
      "source": [
        "from sklearn.svm import SVC"
      ],
      "metadata": {
        "id": "oVy0EpUfpquK"
      },
      "execution_count": null,
      "outputs": []
    },
    {
      "cell_type": "code",
      "metadata": {
        "id": "P7xKKTCabAab"
      },
      "source": [
        "svm = SVC(kernel='rbf', random_state=1, C = 2) \n",
        "svm.fit(x_treino, y_treino)"
      ],
      "execution_count": null,
      "outputs": []
    },
    {
      "cell_type": "code",
      "metadata": {
        "id": "VjKeaHKrbicN"
      },
      "source": [
        "previsoes_svm = svm.predict(x_teste)\n",
        "previsoes_svm"
      ],
      "execution_count": null,
      "outputs": []
    },
    {
      "cell_type": "code",
      "source": [
        "y_teste"
      ],
      "metadata": {
        "id": "ulL7w207qcwQ"
      },
      "execution_count": null,
      "outputs": []
    },
    {
      "cell_type": "code",
      "source": [
        "from sklearn.metrics import accuracy_score, confusion_matrix, classification_report"
      ],
      "metadata": {
        "id": "iWdYWQQBvnVQ"
      },
      "execution_count": null,
      "outputs": []
    },
    {
      "cell_type": "code",
      "source": [
        "print(\"Acurácia: %.2f%%\" % (accuracy_score(y_teste, previsoes_svm) * 100.0))"
      ],
      "metadata": {
        "id": "kRZ4VwD-qjW4"
      },
      "execution_count": null,
      "outputs": []
    },
    {
      "cell_type": "code",
      "source": [
        "confusion_matrix(y_teste, previsoes_svm)"
      ],
      "metadata": {
        "id": "VYeZMXUtqjW5"
      },
      "execution_count": null,
      "outputs": []
    },
    {
      "cell_type": "code",
      "source": [
        "print(classification_report(y_teste, previsoes_svm))"
      ],
      "metadata": {
        "id": "YPKWlAGAqjW6"
      },
      "execution_count": null,
      "outputs": []
    },
    {
      "cell_type": "markdown",
      "source": [
        "**Análise dados de treino**"
      ],
      "metadata": {
        "id": "GeeUpamU1u6d"
      }
    },
    {
      "cell_type": "code",
      "source": [
        "previsoes_treino = svm.predict(x_treino)\n",
        "previsoes_treino"
      ],
      "metadata": {
        "id": "VVGJEYpC1u6d"
      },
      "execution_count": null,
      "outputs": []
    },
    {
      "cell_type": "code",
      "source": [
        "accuracy_score(y_treino, previsoes_treino)"
      ],
      "metadata": {
        "id": "Xo-iYrMn1u6d"
      },
      "execution_count": null,
      "outputs": []
    },
    {
      "cell_type": "code",
      "source": [
        "confusion_matrix(y_treino, previsoes_treino)"
      ],
      "metadata": {
        "id": "Z42CYXuC1u6e"
      },
      "execution_count": null,
      "outputs": []
    },
    {
      "cell_type": "markdown",
      "source": [
        "### **Validação Cruzada**"
      ],
      "metadata": {
        "id": "xXM2zqKVH1Vi"
      }
    },
    {
      "cell_type": "code",
      "source": [
        "from sklearn.model_selection import KFold\n",
        "from sklearn.model_selection import cross_val_score"
      ],
      "metadata": {
        "id": "tukeEaG8H1Vj"
      },
      "execution_count": null,
      "outputs": []
    },
    {
      "cell_type": "code",
      "source": [
        "# Separando os dados em folds\n",
        "kfold = KFold(n_splits = 30, shuffle=True, random_state = 5)"
      ],
      "metadata": {
        "id": "4tYyKK_RH1Vj"
      },
      "execution_count": null,
      "outputs": []
    },
    {
      "cell_type": "code",
      "source": [
        "# Criando o modelo\n",
        "modelo = SVC(kernel='rbf', random_state=1, C = 2) \n",
        "resultado = cross_val_score(modelo, previsores3_esc, alvo, cv = kfold)\n",
        "\n",
        "# Usamos a média e o desvio padrão\n",
        "print(\"Acurácia Média: %.2f%%\" % (resultado.mean() * 100.0))"
      ],
      "metadata": {
        "id": "mhD3BcOWH1Vk"
      },
      "execution_count": null,
      "outputs": []
    },
    {
      "cell_type": "markdown",
      "source": [
        "Naive Bayes = 84,78% (treino e teste) - 234 acertos e 85,17% (validação cruzada) : previsores3_esc\n",
        "\n",
        "SVM = 86,23% - 238 acertos e 85,72% (validação cruzada) : previsores3-esc - SVC(kernel='rbf', random_state=1, C = 2)\n",
        "\n"
      ],
      "metadata": {
        "id": "fT_1y1Hoqycp"
      }
    },
    {
      "cell_type": "markdown",
      "source": [
        "# **REGRESSÃO LOGÍSTICA**"
      ],
      "metadata": {
        "id": "jebC8M2jqyc9"
      }
    },
    {
      "cell_type": "markdown",
      "source": [
        "https://scikit-learn.org/stable/modules/generated/sklearn.linear_model.LogisticRegression.html"
      ],
      "metadata": {
        "id": "mprvbtyNbzP3"
      }
    },
    {
      "cell_type": "code",
      "source": [
        "from sklearn.linear_model import LogisticRegression"
      ],
      "metadata": {
        "id": "NVGe2Q7ur-Nv"
      },
      "execution_count": null,
      "outputs": []
    },
    {
      "cell_type": "code",
      "metadata": {
        "id": "f_RnL43VV9Yc"
      },
      "source": [
        "logistica = LogisticRegression(random_state=1, max_iter=500, penalty=\"l2\",\n",
        "                               tol=0.0001, C=1,solver=\"lbfgs\")\n",
        "logistica.fit(x_treino, y_treino)"
      ],
      "execution_count": null,
      "outputs": []
    },
    {
      "cell_type": "code",
      "metadata": {
        "id": "I7EqQihmWIQG"
      },
      "source": [
        "logistica.intercept_"
      ],
      "execution_count": null,
      "outputs": []
    },
    {
      "cell_type": "code",
      "metadata": {
        "id": "6BS-aVjsWK_0"
      },
      "source": [
        "logistica.coef_"
      ],
      "execution_count": null,
      "outputs": []
    },
    {
      "cell_type": "code",
      "metadata": {
        "id": "zKlba1wBWX1O"
      },
      "source": [
        "previsoes_logistica = logistica.predict(x_teste)\n",
        "previsoes_logistica"
      ],
      "execution_count": null,
      "outputs": []
    },
    {
      "cell_type": "code",
      "source": [
        "from sklearn.metrics import accuracy_score, confusion_matrix, classification_report"
      ],
      "metadata": {
        "id": "PbF05awQvhzK"
      },
      "execution_count": null,
      "outputs": []
    },
    {
      "cell_type": "code",
      "source": [
        "print(\"Acurácia: %.2f%%\" % (accuracy_score(y_teste, previsoes_logistica) * 100.0))"
      ],
      "metadata": {
        "id": "72UCRQBdt2Iy"
      },
      "execution_count": null,
      "outputs": []
    },
    {
      "cell_type": "code",
      "source": [
        "confusion_matrix(y_teste, previsoes_logistica)"
      ],
      "metadata": {
        "id": "g2FaBeYDt2Iz"
      },
      "execution_count": null,
      "outputs": []
    },
    {
      "cell_type": "code",
      "source": [
        "print(classification_report(y_teste, previsoes_logistica))"
      ],
      "metadata": {
        "id": "MAgJo5b5t2I0"
      },
      "execution_count": null,
      "outputs": []
    },
    {
      "cell_type": "markdown",
      "source": [
        "**Análise dados de treino**"
      ],
      "metadata": {
        "id": "6LpYZvhb17ms"
      }
    },
    {
      "cell_type": "code",
      "source": [
        "previsoes_treino = logistica.predict(x_treino)\n",
        "previsoes_treino"
      ],
      "metadata": {
        "id": "9Mup9Cn817mt"
      },
      "execution_count": null,
      "outputs": []
    },
    {
      "cell_type": "code",
      "source": [
        "accuracy_score(y_treino, previsoes_treino)"
      ],
      "metadata": {
        "id": "T4imJ5_w17mt"
      },
      "execution_count": null,
      "outputs": []
    },
    {
      "cell_type": "code",
      "source": [
        "confusion_matrix(y_treino, previsoes_treino)"
      ],
      "metadata": {
        "id": "2Ms9dnHk17mu"
      },
      "execution_count": null,
      "outputs": []
    },
    {
      "cell_type": "markdown",
      "source": [
        "### **Validação Cruzada**"
      ],
      "metadata": {
        "id": "rGdamAVpJfJ5"
      }
    },
    {
      "cell_type": "code",
      "source": [
        "from sklearn.model_selection import KFold\n",
        "from sklearn.model_selection import cross_val_score"
      ],
      "metadata": {
        "id": "IcNfFmq9JfJ6"
      },
      "execution_count": null,
      "outputs": []
    },
    {
      "cell_type": "code",
      "source": [
        "# Separando os dados em folds\n",
        "kfold = KFold(n_splits = 30, shuffle=True, random_state = 5)"
      ],
      "metadata": {
        "id": "srKfNrUoJfJ6"
      },
      "execution_count": null,
      "outputs": []
    },
    {
      "cell_type": "code",
      "source": [
        "# Criando o modelo\n",
        "modelo = LogisticRegression(random_state=1, max_iter=600, penalty=\"l2\",\n",
        "                               tol=0.0001, C=1,solver=\"lbfgs\")\n",
        "resultado = cross_val_score(modelo, previsores3_esc, alvo, cv = kfold)\n",
        "\n",
        "# Usamos a média e o desvio padrão\n",
        "print(\"Acurácia Média: %.2f%%\" % (resultado.mean() * 100.0))"
      ],
      "metadata": {
        "id": "eHZjsD-RJfJ7"
      },
      "execution_count": null,
      "outputs": []
    },
    {
      "cell_type": "markdown",
      "source": [
        "Naive Bayes = 84,78% (treino e teste) - 234 acertos e 85,17% (validação cruzada) : previsores3_esc\n",
        "\n",
        "SVM = 86,23% - 238 acertos e 85,72% (validação cruzada) : previsores3-esc - SVC(kernel='rbf', random_state=1, C = 2)\n",
        "\n",
        "Regressão logística = 86,23% - 238 acertos e 85,83% (validação cruzada) : previsores3_esc - LogisticRegression(random_state=1, max_iter=600, penalty=\"l2\", tol=0.0001, C=1,solver=\"lbfgs\")"
      ],
      "metadata": {
        "id": "KmKIO-uUv31v"
      }
    },
    {
      "cell_type": "markdown",
      "source": [
        "# **APRENDIZAGEM BASEADA EM INSTÂNCIAS (KNN)**"
      ],
      "metadata": {
        "id": "GETCbQj7v32B"
      }
    },
    {
      "cell_type": "markdown",
      "source": [
        "https://scikit-learn.org/stable/modules/generated/sklearn.neighbors.KNeighborsClassifier.html"
      ],
      "metadata": {
        "id": "AXOVpUsGbnlK"
      }
    },
    {
      "cell_type": "code",
      "source": [
        "from sklearn.neighbors import KNeighborsClassifier"
      ],
      "metadata": {
        "id": "u3_VSVAFwo8H"
      },
      "execution_count": null,
      "outputs": []
    },
    {
      "cell_type": "code",
      "metadata": {
        "id": "xkC1VdFmXvcz"
      },
      "source": [
        "knn = KNeighborsClassifier(n_neighbors=7, metric='minkowski', p=1)\n",
        "knn.fit(x_treino, y_treino)"
      ],
      "execution_count": null,
      "outputs": []
    },
    {
      "cell_type": "markdown",
      "source": [
        "https://scikit-learn.org/stable/modules/generated/sklearn.metrics.DistanceMetric.html"
      ],
      "metadata": {
        "id": "CJB-tW-g2P4_"
      }
    },
    {
      "cell_type": "code",
      "metadata": {
        "id": "sSCtq6WKYlFx"
      },
      "source": [
        "previsoes_knn = knn.predict(x_teste)\n",
        "previsoes_knn"
      ],
      "execution_count": null,
      "outputs": []
    },
    {
      "cell_type": "code",
      "source": [
        "y_teste"
      ],
      "metadata": {
        "id": "oG0I-trLxQ50"
      },
      "execution_count": null,
      "outputs": []
    },
    {
      "cell_type": "code",
      "source": [
        "from sklearn.metrics import accuracy_score, confusion_matrix, classification_report"
      ],
      "metadata": {
        "id": "aQYth6LjxOSG"
      },
      "execution_count": null,
      "outputs": []
    },
    {
      "cell_type": "code",
      "source": [
        "print(\"Acurácia: %.2f%%\" % (accuracy_score(y_teste, previsoes_knn) * 100.0))"
      ],
      "metadata": {
        "id": "OWDZlThoxOSI"
      },
      "execution_count": null,
      "outputs": []
    },
    {
      "cell_type": "code",
      "source": [
        "confusion_matrix(y_teste, previsoes_knn)"
      ],
      "metadata": {
        "id": "-IGoTCdmxOSJ"
      },
      "execution_count": null,
      "outputs": []
    },
    {
      "cell_type": "code",
      "source": [
        "print(classification_report(y_teste, previsoes_knn))"
      ],
      "metadata": {
        "id": "5V-bhRMvxOSJ"
      },
      "execution_count": null,
      "outputs": []
    },
    {
      "cell_type": "markdown",
      "source": [
        "**Análise dados de treino**"
      ],
      "metadata": {
        "id": "qEF7YW-Y2KT9"
      }
    },
    {
      "cell_type": "code",
      "source": [
        "previsoes_treino = knn.predict(x_treino)\n",
        "previsoes_treino"
      ],
      "metadata": {
        "id": "gmZgnjMe2KT-"
      },
      "execution_count": null,
      "outputs": []
    },
    {
      "cell_type": "code",
      "source": [
        "accuracy_score(y_treino, previsoes_treino)"
      ],
      "metadata": {
        "id": "q5pLRV6J2KT_"
      },
      "execution_count": null,
      "outputs": []
    },
    {
      "cell_type": "code",
      "source": [
        "confusion_matrix(y_treino, previsoes_treino)"
      ],
      "metadata": {
        "id": "w4ce2FGJ2KT_"
      },
      "execution_count": null,
      "outputs": []
    },
    {
      "cell_type": "markdown",
      "source": [
        "### **Validação Cruzada**"
      ],
      "metadata": {
        "id": "pUNWBzC8KJ5v"
      }
    },
    {
      "cell_type": "code",
      "source": [
        "from sklearn.model_selection import KFold\n",
        "from sklearn.model_selection import cross_val_score"
      ],
      "metadata": {
        "id": "b88vNYd8KJ5w"
      },
      "execution_count": null,
      "outputs": []
    },
    {
      "cell_type": "code",
      "source": [
        "# Separando os dados em folds\n",
        "kfold = KFold(n_splits = 30, shuffle=True, random_state = 5)"
      ],
      "metadata": {
        "id": "nG58w5CNKJ5w"
      },
      "execution_count": null,
      "outputs": []
    },
    {
      "cell_type": "code",
      "source": [
        "# Criando o modelo\n",
        "modelo = KNeighborsClassifier(n_neighbors=7, metric='minkowski', p = 1)\n",
        "resultado = cross_val_score(modelo, previsores3_esc, alvo, cv = kfold)\n",
        "\n",
        "# Usamos a média e o desvio padrão\n",
        "print(\"Acurácia Média: %.2f%%\" % (resultado.mean() * 100.0))"
      ],
      "metadata": {
        "id": "V9BM96VTKJ5w"
      },
      "execution_count": null,
      "outputs": []
    },
    {
      "cell_type": "markdown",
      "source": [
        "Naive Bayes = 84,78% (treino e teste) - 234 acertos e 85,17% (validação cruzada) : previsores3_esc\n",
        "\n",
        "SVM = 86,23% - 238 acertos e 85,72% (validação cruzada) : previsores3-esc - SVC(kernel='rbf', random_state=1, C = 2)\n",
        "\n",
        "Regressão logística = 86,23% - 238 acertos e 85,83% (validação cruzada) : previsores3_esc - LogisticRegression(random_state=1, max_iter=600, penalty=\"l2\", tol=0.0001, C=1,solver=\"lbfgs\")\n",
        "\n",
        "KNN = 84,06% - 232 acertos e 85,84% (validação cruzada) : previsores3_esc ou previsores_esc - KNeighborsClassifier(n_neighbors=7, metric='minkowski', p = 1) \n",
        "\n"
      ],
      "metadata": {
        "id": "ovmlWcN6xOSK"
      }
    },
    {
      "cell_type": "markdown",
      "source": [
        "# **ÁRVORE DE DECISÃO**"
      ],
      "metadata": {
        "id": "VdGvKcYjODGt"
      }
    },
    {
      "cell_type": "markdown",
      "source": [
        "https://scikit-learn.org/stable/modules/tree.html"
      ],
      "metadata": {
        "id": "i65VtZ4pcQGP"
      }
    },
    {
      "cell_type": "code",
      "source": [
        "from sklearn.tree import DecisionTreeClassifier"
      ],
      "metadata": {
        "id": "-2oaMph5OFa2"
      },
      "execution_count": null,
      "outputs": []
    },
    {
      "cell_type": "code",
      "source": [
        "arvore = DecisionTreeClassifier(criterion='entropy', random_state = 0, max_depth=3)\n",
        "arvore.fit(x_treino, y_treino)"
      ],
      "metadata": {
        "id": "Zxu4_zhCOMVj"
      },
      "execution_count": null,
      "outputs": []
    },
    {
      "cell_type": "code",
      "source": [
        "previsoes_arvore = arvore.predict(x_teste)\n",
        "previsoes_arvore"
      ],
      "metadata": {
        "id": "UnxRfJZXOVkk"
      },
      "execution_count": null,
      "outputs": []
    },
    {
      "cell_type": "code",
      "source": [
        "y_teste"
      ],
      "metadata": {
        "id": "ozqiMkVAOke6"
      },
      "execution_count": null,
      "outputs": []
    },
    {
      "cell_type": "code",
      "source": [
        "from sklearn.metrics import accuracy_score, confusion_matrix, classification_report"
      ],
      "metadata": {
        "id": "fS4QmmG9vrl4"
      },
      "execution_count": null,
      "outputs": []
    },
    {
      "cell_type": "code",
      "source": [
        "print(\"Acurácia: %.2f%%\" % (accuracy_score(y_teste, previsoes_arvore) * 100.0))"
      ],
      "metadata": {
        "id": "9vuYKW1_Onqq"
      },
      "execution_count": null,
      "outputs": []
    },
    {
      "cell_type": "code",
      "source": [
        "confusion_matrix(y_teste, previsoes_arvore)"
      ],
      "metadata": {
        "id": "IAJonpblPUGh"
      },
      "execution_count": null,
      "outputs": []
    },
    {
      "cell_type": "code",
      "source": [
        "print(classification_report(y_teste, previsoes_arvore))"
      ],
      "metadata": {
        "id": "wACzOEs-PcTo"
      },
      "execution_count": null,
      "outputs": []
    },
    {
      "cell_type": "markdown",
      "source": [
        "**Análise dados de treino**"
      ],
      "metadata": {
        "id": "PXa_22cA1DcE"
      }
    },
    {
      "cell_type": "code",
      "source": [
        "previsoes_treino = arvore.predict(x_treino)\n",
        "previsoes_treino"
      ],
      "metadata": {
        "id": "UZFn-68G1DcF"
      },
      "execution_count": null,
      "outputs": []
    },
    {
      "cell_type": "code",
      "source": [
        "accuracy_score(y_treino, previsoes_treino)"
      ],
      "metadata": {
        "id": "mDqKNd3v1DcG"
      },
      "execution_count": null,
      "outputs": []
    },
    {
      "cell_type": "code",
      "source": [
        "confusion_matrix(y_treino, previsoes_treino)"
      ],
      "metadata": {
        "id": "dMQiq4o01DcG"
      },
      "execution_count": null,
      "outputs": []
    },
    {
      "cell_type": "markdown",
      "source": [
        "### **Validação Cruzada**"
      ],
      "metadata": {
        "id": "dxwugdgiEhdw"
      }
    },
    {
      "cell_type": "code",
      "source": [
        "from sklearn.model_selection import KFold\n",
        "from sklearn.model_selection import cross_val_score"
      ],
      "metadata": {
        "id": "ArJOjabUEZJf"
      },
      "execution_count": null,
      "outputs": []
    },
    {
      "cell_type": "code",
      "source": [
        "# Separando os dados em folds\n",
        "kfold = KFold(n_splits = 30, shuffle=True, random_state = 5)"
      ],
      "metadata": {
        "id": "zfWK55DrEZJg"
      },
      "execution_count": null,
      "outputs": []
    },
    {
      "cell_type": "code",
      "source": [
        "# Criando o modelo\n",
        "modelo = DecisionTreeClassifier(criterion='entropy', random_state = 0, max_depth=3)\n",
        "resultado = cross_val_score(modelo, previsores3_esc, alvo, cv = kfold)\n",
        "\n",
        "# Usamos a média e o desvio padrão\n",
        "print(\"Acurácia Média: %.2f%%\" % (resultado.mean() * 100.0))"
      ],
      "metadata": {
        "id": "MwGsKOFZEZJh"
      },
      "execution_count": null,
      "outputs": []
    },
    {
      "cell_type": "markdown",
      "source": [
        "Naive Bayes = 84,78% (treino e teste) - 234 acertos e 85,17% (validação cruzada) : previsores3_esc\n",
        "\n",
        "SVM = 86,23% - 238 acertos e 85,72% (validação cruzada) : previsores3-esc - SVC(kernel='rbf', random_state=1, C = 2)\n",
        "\n",
        "Regressão logística = 86,23% - 238 acertos e 85,83% (validação cruzada) : previsores3_esc - LogisticRegression(random_state=1, max_iter=600, penalty=\"l2\", tol=0.0001, C=1,solver=\"lbfgs\")\n",
        "\n",
        "KNN = 84,06% - 232 acertos e 85,84% (validação cruzada) : previsores3_esc ou previsores_esc - KNeighborsClassifier(n_neighbors=7, metric='minkowski', p = 1)\n",
        "\n",
        "Árvore de decisão = 83,7% (treino e teste) - 231 acertos e 83,32% (validação cruzada): previsores3_esc - DecisionTreeClassifier(criterion='entropy', random_state = 0, max_depth=3)"
      ],
      "metadata": {
        "id": "-Ti98jalQK23"
      }
    },
    {
      "cell_type": "markdown",
      "source": [
        "# **RANDOM FOREST**"
      ],
      "metadata": {
        "id": "hw7px-UemoSc"
      }
    },
    {
      "cell_type": "markdown",
      "source": [
        "https://scikit-learn.org/stable/modules/generated/sklearn.ensemble.RandomForestClassifier.html"
      ],
      "metadata": {
        "id": "HAUbw5xfcCYy"
      }
    },
    {
      "cell_type": "code",
      "source": [
        "from sklearn.ensemble import RandomForestClassifier"
      ],
      "metadata": {
        "id": "BqqXdinImokj"
      },
      "execution_count": null,
      "outputs": []
    },
    {
      "cell_type": "code",
      "source": [
        "random = RandomForestClassifier(n_estimators=150, criterion='entropy', random_state = 0, max_depth=4)\n",
        "random.fit(x_treino, y_treino)"
      ],
      "metadata": {
        "id": "Klr3lymumztn"
      },
      "execution_count": null,
      "outputs": []
    },
    {
      "cell_type": "code",
      "source": [
        "previsoes_random = random.predict(x_teste)\n",
        "previsoes_random"
      ],
      "metadata": {
        "id": "0JOqI4bQnY17"
      },
      "execution_count": null,
      "outputs": []
    },
    {
      "cell_type": "code",
      "source": [
        "y_teste"
      ],
      "metadata": {
        "id": "fRN6hPPXn5qp"
      },
      "execution_count": null,
      "outputs": []
    },
    {
      "cell_type": "code",
      "source": [
        "from sklearn.metrics import accuracy_score, confusion_matrix, classification_report"
      ],
      "metadata": {
        "id": "cgB44VIOvpZf"
      },
      "execution_count": null,
      "outputs": []
    },
    {
      "cell_type": "code",
      "source": [
        "print(\"Acurácia: %.2f%%\" % (accuracy_score(y_teste, previsoes_random) * 100.0))"
      ],
      "metadata": {
        "id": "gnAuxYDDoDxM"
      },
      "execution_count": null,
      "outputs": []
    },
    {
      "cell_type": "code",
      "source": [
        "confusion_matrix(y_teste, previsoes_random)"
      ],
      "metadata": {
        "id": "zjAqh3e8oDxN"
      },
      "execution_count": null,
      "outputs": []
    },
    {
      "cell_type": "code",
      "source": [
        "print(classification_report(y_teste, previsoes_random))"
      ],
      "metadata": {
        "id": "IdpisYpjoDxO"
      },
      "execution_count": null,
      "outputs": []
    },
    {
      "cell_type": "markdown",
      "source": [
        "**Análise dados de treino**"
      ],
      "metadata": {
        "id": "e9NiPecr1bdw"
      }
    },
    {
      "cell_type": "code",
      "source": [
        "previsoes_treino = random.predict(x_treino)\n",
        "previsoes_treino"
      ],
      "metadata": {
        "id": "DDs9J1hX1bdx"
      },
      "execution_count": null,
      "outputs": []
    },
    {
      "cell_type": "code",
      "source": [
        "accuracy_score(y_treino, previsoes_treino)"
      ],
      "metadata": {
        "id": "MkH9uYfz1bdy"
      },
      "execution_count": null,
      "outputs": []
    },
    {
      "cell_type": "code",
      "source": [
        "confusion_matrix(y_treino, previsoes_treino)"
      ],
      "metadata": {
        "id": "pLge3xVL1bdy"
      },
      "execution_count": null,
      "outputs": []
    },
    {
      "cell_type": "markdown",
      "source": [
        "### **Validação Cruzada**"
      ],
      "metadata": {
        "id": "GH4nEvlaGOb7"
      }
    },
    {
      "cell_type": "code",
      "source": [
        "from sklearn.model_selection import KFold\n",
        "from sklearn.model_selection import cross_val_score"
      ],
      "metadata": {
        "id": "hreEC55-GOb8"
      },
      "execution_count": null,
      "outputs": []
    },
    {
      "cell_type": "code",
      "source": [
        "# Separando os dados em folds\n",
        "kfold = KFold(n_splits = 30, shuffle=True, random_state = 5)"
      ],
      "metadata": {
        "id": "ETYEB99OGOb9"
      },
      "execution_count": null,
      "outputs": []
    },
    {
      "cell_type": "code",
      "source": [
        "# Criando o modelo\n",
        "modelo = RandomForestClassifier(n_estimators=150, criterion='entropy', random_state = 0, max_depth=4)\n",
        "resultado = cross_val_score(modelo, previsores, alvo, cv = kfold)\n",
        "\n",
        "# Usamos a média e o desvio padrão\n",
        "print(\"Acurácia Média: %.2f%%\" % (resultado.mean() * 100.0))"
      ],
      "metadata": {
        "id": "7GHcsag3GOb9"
      },
      "execution_count": null,
      "outputs": []
    },
    {
      "cell_type": "markdown",
      "source": [
        "Naive Bayes = 84,78% (treino e teste) - 234 acertos e 85,17% (validação cruzada) : previsores3_esc\n",
        "\n",
        "SVM = 86,23% - 238 acertos e 85,72% (validação cruzada) : previsores3-esc - SVC(kernel='rbf', random_state=1, C = 2)\n",
        "\n",
        "Regressão logística = 86,23% - 238 acertos e 85,83% (validação cruzada) : previsores3_esc - LogisticRegression(random_state=1, max_iter=600, penalty=\"l2\", tol=0.0001, C=1,solver=\"lbfgs\")\n",
        "\n",
        "KNN = 84,06% - 232 acertos e 85,84% (validação cruzada) : previsores3_esc ou previsores_esc - KNeighborsClassifier(n_neighbors=7, metric='minkowski', p = 1)\n",
        "\n",
        "Árvore de decisão = 83,7% (treino e teste) - 231 acertos e 83,32% (validação cruzada): previsores3_esc - DecisionTreeClassifier(criterion='entropy', random_state = 0, max_depth=3)\n",
        "\n",
        "Random Forest = 86,59% - 239 acertos e 85,92% (validação cruzada) : previsores - RandomForestClassifier(n_estimators=150, criterion='entropy', random_state = 0, max_depth=4)"
      ],
      "metadata": {
        "id": "N3dUl9DDpNnz"
      }
    },
    {
      "cell_type": "markdown",
      "source": [
        "# **XGBOOST**"
      ],
      "metadata": {
        "id": "jH3OocboSGXH"
      }
    },
    {
      "cell_type": "markdown",
      "source": [
        "https://xgboost.readthedocs.io/en/stable/"
      ],
      "metadata": {
        "id": "OpLLJlcnbcsR"
      }
    },
    {
      "cell_type": "code",
      "source": [
        "from xgboost import XGBClassifier"
      ],
      "metadata": {
        "id": "PKdcu1J2Qk0h"
      },
      "execution_count": null,
      "outputs": []
    },
    {
      "cell_type": "code",
      "source": [
        "xg = XGBClassifier(max_depth=2, learning_rate=0.05, n_estimators=250, objective='binary:logistic', random_state=3)\n",
        "xg.fit(x_treino,y_treino)"
      ],
      "metadata": {
        "id": "jyOMVARbQmLa"
      },
      "execution_count": null,
      "outputs": []
    },
    {
      "cell_type": "code",
      "source": [
        "previsoes_xg = xg.predict(x_teste)\n",
        "previsoes_xg"
      ],
      "metadata": {
        "id": "QrR1ZLZVQ5K4"
      },
      "execution_count": null,
      "outputs": []
    },
    {
      "cell_type": "code",
      "source": [
        "from sklearn.metrics import accuracy_score, confusion_matrix, classification_report"
      ],
      "metadata": {
        "id": "HSR36D1mRZpz"
      },
      "execution_count": null,
      "outputs": []
    },
    {
      "cell_type": "code",
      "source": [
        "print(\"Acurácia: %.2f%%\" % (accuracy_score(y_teste, previsoes_xg) * 100.0))"
      ],
      "metadata": {
        "id": "UxMj0PznRZp0"
      },
      "execution_count": null,
      "outputs": []
    },
    {
      "cell_type": "code",
      "source": [
        "confusion_matrix(y_teste, previsoes_xg)"
      ],
      "metadata": {
        "id": "5PcyMmFqRZp1"
      },
      "execution_count": null,
      "outputs": []
    },
    {
      "cell_type": "code",
      "source": [
        "print(classification_report(y_teste, previsoes_xg))"
      ],
      "metadata": {
        "id": "fBYjluOzRZp2"
      },
      "execution_count": null,
      "outputs": []
    },
    {
      "cell_type": "markdown",
      "source": [
        "**Análise dados de treino**"
      ],
      "metadata": {
        "id": "VLAUCC_t2dkX"
      }
    },
    {
      "cell_type": "code",
      "source": [
        "previsoes_treino = xg.predict(x_treino)\n",
        "previsoes_treino"
      ],
      "metadata": {
        "id": "K5oak1Jy2dkY"
      },
      "execution_count": null,
      "outputs": []
    },
    {
      "cell_type": "code",
      "source": [
        "accuracy_score(y_treino, previsoes_treino)"
      ],
      "metadata": {
        "id": "70k-raF62dkZ"
      },
      "execution_count": null,
      "outputs": []
    },
    {
      "cell_type": "code",
      "source": [
        "confusion_matrix(y_treino, previsoes_treino)"
      ],
      "metadata": {
        "id": "Hy7uFw9E2dkZ"
      },
      "execution_count": null,
      "outputs": []
    },
    {
      "cell_type": "markdown",
      "source": [
        "### **Validação Cruzada**"
      ],
      "metadata": {
        "id": "gHvG_uWZLARo"
      }
    },
    {
      "cell_type": "code",
      "source": [
        "from sklearn.model_selection import KFold\n",
        "from sklearn.model_selection import cross_val_score"
      ],
      "metadata": {
        "id": "l3RZmFL_LARp"
      },
      "execution_count": null,
      "outputs": []
    },
    {
      "cell_type": "code",
      "source": [
        "# Separando os dados em folds\n",
        "kfold = KFold(n_splits = 30, shuffle=True, random_state = 5)"
      ],
      "metadata": {
        "id": "BKmF7defLARq"
      },
      "execution_count": null,
      "outputs": []
    },
    {
      "cell_type": "code",
      "source": [
        "# Criando o modelo\n",
        "modelo = XGBClassifier(max_depth=2, learning_rate=0.05, n_estimators=250, objective='binary:logistic', random_state=3)\n",
        "resultado = cross_val_score(modelo, previsores, alvo, cv = kfold)\n",
        "\n",
        "# Usamos a média e o desvio padrão\n",
        "print(\"Acurácia Média: %.2f%%\" % (resultado.mean() * 100.0))"
      ],
      "metadata": {
        "id": "1h7FUmsWLARr"
      },
      "execution_count": null,
      "outputs": []
    },
    {
      "cell_type": "markdown",
      "source": [
        "Naive Bayes = 84,78% (treino e teste) - 234 acertos e 85,17% (validação cruzada) : previsores3_esc\n",
        "\n",
        "SVM = 86,23% - 238 acertos e 85,72% (validação cruzada) : previsores3-esc - SVC(kernel='rbf', random_state=1, C = 2)\n",
        "\n",
        "Regressão logística = 86,23% - 238 acertos e 85,83% (validação cruzada) : previsores3_esc - LogisticRegression(random_state=1, max_iter=600, penalty=\"l2\", tol=0.0001, C=1,solver=\"lbfgs\")\n",
        "\n",
        "KNN = 84,06% - 232 acertos e 85,84% (validação cruzada) : previsores3_esc ou previsores_esc - KNeighborsClassifier(n_neighbors=7, metric='minkowski', p = 1)\n",
        "\n",
        "Árvore de decisão = 83,7% (treino e teste) - 231 acertos e 83,32% (validação cruzada): previsores3_esc - DecisionTreeClassifier(criterion='entropy', random_state = 0, max_depth=3)\n",
        "\n",
        "Random Forest = 86,59% - 239 acertos e 85,92% (validação cruzada) : previsores - RandomForestClassifier(n_estimators=150, criterion='entropy', random_state = 0, max_depth=4)\n",
        "\n",
        "XGboost = 87,68% - 242 acertos e 87,13% (validação cruzada) : previsores - XGBClassifier(max_depth=2, learning_rate=0.05, n_estimators=250, objective='binary:logistic', random_state=3)"
      ],
      "metadata": {
        "id": "gkZCAe-OR3rW"
      }
    },
    {
      "cell_type": "markdown",
      "source": [
        "# **LIGHTGBM**"
      ],
      "metadata": {
        "id": "sPZLUYzCqTWL"
      }
    },
    {
      "cell_type": "markdown",
      "source": [
        "https://lightgbm.readthedocs.io/en/latest/pythonapi/lightgbm.train.html"
      ],
      "metadata": {
        "id": "LLop9X5OVOfc"
      }
    },
    {
      "cell_type": "code",
      "source": [
        "# Instalação do Algoritmo\n",
        "!pip install lightgbm"
      ],
      "metadata": {
        "id": "r2fYJevzt58X"
      },
      "execution_count": null,
      "outputs": []
    },
    {
      "cell_type": "code",
      "source": [
        "import lightgbm as lgb "
      ],
      "metadata": {
        "id": "HyJzU46uq9mQ"
      },
      "execution_count": null,
      "outputs": []
    },
    {
      "cell_type": "code",
      "source": [
        "# Dataset para treino\n",
        "dataset = lgb.Dataset(x_treino,label=y_treino)"
      ],
      "metadata": {
        "id": "D7GfTX-TxWh2"
      },
      "execution_count": null,
      "outputs": []
    },
    {
      "cell_type": "markdown",
      "source": [
        "**Hiperparâmetros**\n",
        "\n",
        "**Controle de ajuste**\n",
        "\n",
        "num_leaves : define o número de folhas a serem formadas em uma árvore. Não tem uma relação direta entre num_leaves e max_depth e, portanto, os dois não devem estar vinculados um ao outro.\n",
        "\n",
        "max_depth : especifica a profundidade máxima ou nível até o qual a árvore pode crescer.\n",
        "\n",
        "**Controle de velocidade**\n",
        "\n",
        "learning_rate: taxa de aprendizagem, determina o impacto de cada árvore no resultado final.\n",
        "\n",
        "max_bin : O valor menor de max_bin reduz muito tempo de procesamento, pois agrupa os valores do recurso em caixas discretas, o que é computacionalmente mais barato.\n",
        "\n",
        "**Controle de precisão**\n",
        "\n",
        "num_leaves : valor alto produz árvores mais profundas com maior precisão, mas leva ao overfitting. \n",
        "\n",
        "max_bin : valores altos tem efeito semelhante ao causado pelo aumento do valor de num_leaves e também torna mais lento o procedimento de treinamento."
      ],
      "metadata": {
        "id": "9sYH7x7pjczh"
      }
    },
    {
      "cell_type": "code",
      "source": [
        "# Parâmetros\n",
        "parametros = {'num_leaves':250, # número de folhas\n",
        "              'objective':'binary', # classificação Binária     \n",
        "              'max_depth':2,\n",
        "              'learning_rate':.05,\n",
        "              'max_bin':100}"
      ],
      "metadata": {
        "id": "eRYtywqRxnRM"
      },
      "execution_count": null,
      "outputs": []
    },
    {
      "cell_type": "code",
      "metadata": {
        "id": "s-75IteevPFt"
      },
      "source": [
        "lgbm=lgb.train(parametros,dataset,num_boost_round=200)"
      ],
      "execution_count": null,
      "outputs": []
    },
    {
      "cell_type": "code",
      "source": [
        "# Marcação do tempo de execução\n",
        "from datetime import datetime\n",
        "inicio=datetime.now()\n",
        "lgbm=lgb.train(parametros,dataset)\n",
        "fim=datetime.now()\n",
        "\n",
        "tempo = fim - inicio\n",
        "tempo"
      ],
      "metadata": {
        "id": "w2eVSPh7XeQe"
      },
      "execution_count": null,
      "outputs": []
    },
    {
      "cell_type": "code",
      "metadata": {
        "id": "FbY1sQrzvPFv"
      },
      "source": [
        "previsoes_lgbm = lgbm.predict(x_teste)\n",
        "previsoes_lgbm"
      ],
      "execution_count": null,
      "outputs": []
    },
    {
      "cell_type": "code",
      "source": [
        "previsoes_lgbm.shape"
      ],
      "metadata": {
        "id": "eQ-eOobHzgdY"
      },
      "execution_count": null,
      "outputs": []
    },
    {
      "cell_type": "code",
      "source": [
        "# Quando for menor que 5 considera 0 e quando for maior ou igual a 5 considera 1\n",
        "for i in range(0, 276):\n",
        "    if previsoes_lgbm[i] >= .5:       \n",
        "       previsoes_lgbm[i] = 1\n",
        "    else:  \n",
        "       previsoes_lgbm[i] = 0"
      ],
      "metadata": {
        "id": "bCK5052RyreS"
      },
      "execution_count": null,
      "outputs": []
    },
    {
      "cell_type": "code",
      "source": [
        "previsoes_lgbm"
      ],
      "metadata": {
        "id": "X3kyhhXJzmtG"
      },
      "execution_count": null,
      "outputs": []
    },
    {
      "cell_type": "code",
      "source": [
        "y_teste"
      ],
      "metadata": {
        "id": "wvItoNPgvPFw"
      },
      "execution_count": null,
      "outputs": []
    },
    {
      "cell_type": "code",
      "source": [
        "from sklearn.metrics import accuracy_score, confusion_matrix, classification_report"
      ],
      "metadata": {
        "id": "7zmmlXg00NgO"
      },
      "execution_count": null,
      "outputs": []
    },
    {
      "cell_type": "code",
      "source": [
        "print(\"Acurácia: %.2f%%\" % (accuracy_score(y_teste, previsoes_lgbm) * 100.0))"
      ],
      "metadata": {
        "id": "7jtEMCEd0NgP"
      },
      "execution_count": null,
      "outputs": []
    },
    {
      "cell_type": "code",
      "source": [
        "confusion_matrix(y_teste, previsoes_lgbm)"
      ],
      "metadata": {
        "id": "Vi92nyDd0NgQ"
      },
      "execution_count": null,
      "outputs": []
    },
    {
      "cell_type": "markdown",
      "source": [
        "**Análise dados de treino**"
      ],
      "metadata": {
        "id": "u3pNMaVs0NgR"
      }
    },
    {
      "cell_type": "code",
      "source": [
        "previsoes_treino = lgbm.predict(x_treino)\n",
        "previsoes_treino"
      ],
      "metadata": {
        "id": "fS-C8nIw0NgR"
      },
      "execution_count": null,
      "outputs": []
    },
    {
      "cell_type": "code",
      "source": [
        "previsoes_treino.shape"
      ],
      "metadata": {
        "id": "5ZTvZKs51umQ"
      },
      "execution_count": null,
      "outputs": []
    },
    {
      "cell_type": "code",
      "source": [
        "# Quando for menor que 5 considera 0 e quando for maior ou igual a 5 considera 1\n",
        "for i in range(0, 641):\n",
        "    if previsoes_treino[i] >= .5:       \n",
        "       previsoes_treino[i] = 1\n",
        "    else:  \n",
        "       previsoes_treino[i] = 0"
      ],
      "metadata": {
        "id": "y_Xb-SEN1bNL"
      },
      "execution_count": null,
      "outputs": []
    },
    {
      "cell_type": "code",
      "source": [
        "previsoes_treino"
      ],
      "metadata": {
        "id": "ENkdM8Jd1oCJ"
      },
      "execution_count": null,
      "outputs": []
    },
    {
      "cell_type": "code",
      "source": [
        "accuracy_score(y_treino, previsoes_treino)"
      ],
      "metadata": {
        "id": "NKAIaTGF0NgS"
      },
      "execution_count": null,
      "outputs": []
    },
    {
      "cell_type": "code",
      "source": [
        "confusion_matrix(y_treino, previsoes_treino)"
      ],
      "metadata": {
        "id": "dDOEsI4W0NgT"
      },
      "execution_count": null,
      "outputs": []
    },
    {
      "cell_type": "markdown",
      "source": [
        "### **Validação Cruzada**"
      ],
      "metadata": {
        "id": "3hEGp61Q0NgT"
      }
    },
    {
      "cell_type": "code",
      "source": [
        "from sklearn.model_selection import KFold\n",
        "from sklearn.model_selection import cross_val_score"
      ],
      "metadata": {
        "id": "RwR3Salk0NgT"
      },
      "execution_count": null,
      "outputs": []
    },
    {
      "cell_type": "code",
      "source": [
        "# Separando os dados em folds\n",
        "kfold = KFold(n_splits = 30, shuffle=True, random_state = 5)"
      ],
      "metadata": {
        "id": "8Xnl-F4XSNTJ"
      },
      "execution_count": null,
      "outputs": []
    },
    {
      "cell_type": "code",
      "source": [
        "# Criando o modelo\n",
        "modelo = lgb.LGBMClassifier(num_leaves = 250, objective = 'binary',     \n",
        "                            max_depth = 2, learning_rate = .05, max_bin =100)\n",
        "resultado = cross_val_score(modelo, previsores, alvo, cv = kfold)\n",
        "\n",
        "# Usamos a média e o desvio padrão\n",
        "print(\"Acurácia Média: %.2f%%\" % (resultado.mean() * 100.0))"
      ],
      "metadata": {
        "id": "Qq7iUdMxSNTL"
      },
      "execution_count": null,
      "outputs": []
    },
    {
      "cell_type": "markdown",
      "source": [
        "Naive Bayes = 84,78% (treino e teste) - 234 acertos e 85,17% (validação cruzada) : previsores3_esc\n",
        "\n",
        "SVM = 86,23% - 238 acertos e 85,72% (validação cruzada) : previsores3-esc - SVC(kernel='rbf', random_state=1, C = 2)\n",
        "\n",
        "Regressão logística = 86,23% - 238 acertos e 85,83% (validação cruzada) : previsores3_esc - LogisticRegression(random_state=1, max_iter=600, penalty=\"l2\", tol=0.0001, C=1,solver=\"lbfgs\")\n",
        "\n",
        "KNN = 84,06% - 232 acertos e 85,84% (validação cruzada) : previsores3_esc ou previsores_esc - KNeighborsClassifier(n_neighbors=7, metric='minkowski', p = 1)\n",
        "\n",
        "Árvore de decisão = 83,7% (treino e teste) - 231 acertos e 83,32% (validação cruzada): previsores3_esc - DecisionTreeClassifier(criterion='entropy', random_state = 0, max_depth=3)\n",
        "\n",
        "Random Forest = 86,59% - 239 acertos e 85,92% (validação cruzada) : previsores - RandomForestClassifier(n_estimators=150, criterion='entropy', random_state = 0, max_depth=4)\n",
        "\n",
        "XGboost = 87,68% - 242 acertos e 87,13% (validação cruzada) : previsores - XGBClassifier(max_depth=2, learning_rate=0.05, n_estimators=250, objective='binary:logistic', random_state=3)\n",
        "\n",
        "LightGBM = 86,23% (treino e teste)- 238 acertos e 85,93% (validação cruzada) : previsores - lgb.LGBMClassifier(num_leaves = 250, objective = 'binary',  max_depth = 2, learning_rate = .05, max_bin =100)"
      ],
      "metadata": {
        "id": "W6ADUoMW0NgV"
      }
    },
    {
      "cell_type": "markdown",
      "source": [
        "# **CATBOOST**"
      ],
      "metadata": {
        "id": "yKpYGEuWUChU"
      }
    },
    {
      "cell_type": "markdown",
      "source": [
        "https://catboost.ai/en/docs/"
      ],
      "metadata": {
        "id": "LMqQ_NMTUChV"
      }
    },
    {
      "cell_type": "code",
      "source": [
        "#Instalação\n",
        "!pip install catboost"
      ],
      "metadata": {
        "id": "Vkt7hfJVUChV"
      },
      "execution_count": null,
      "outputs": []
    },
    {
      "cell_type": "code",
      "source": [
        "from catboost import CatBoostClassifier"
      ],
      "metadata": {
        "id": "kisDuh-RUChW"
      },
      "execution_count": null,
      "outputs": []
    },
    {
      "cell_type": "code",
      "source": [
        "df"
      ],
      "metadata": {
        "id": "fochAJydUChX"
      },
      "execution_count": null,
      "outputs": []
    },
    {
      "cell_type": "code",
      "source": [
        "previsores4 = df.iloc[:, 0:11]"
      ],
      "metadata": {
        "id": "mFw4wb_2CZWv"
      },
      "execution_count": null,
      "outputs": []
    },
    {
      "cell_type": "code",
      "source": [
        "previsores4.head()"
      ],
      "metadata": {
        "id": "6EGMtQa9Dwf7"
      },
      "execution_count": null,
      "outputs": []
    },
    {
      "cell_type": "code",
      "source": [
        "alvo4 = df.iloc[:, 11]"
      ],
      "metadata": {
        "id": "G0qli4gSEBbM"
      },
      "execution_count": null,
      "outputs": []
    },
    {
      "cell_type": "code",
      "source": [
        "from sklearn.model_selection import train_test_split"
      ],
      "metadata": {
        "id": "hAcS1ULCC78V"
      },
      "execution_count": null,
      "outputs": []
    },
    {
      "cell_type": "code",
      "source": [
        "x_treino, x_teste, y_treino, y_teste = train_test_split(previsores4, alvo4, test_size = 0.3, random_state = 0)"
      ],
      "metadata": {
        "id": "OP69_qpGC78W"
      },
      "execution_count": null,
      "outputs": []
    },
    {
      "cell_type": "code",
      "source": [
        "categoricas = ['Sex','ChestPainType', 'RestingECG', 'ExerciseAngina', 'ST_Slope']"
      ],
      "metadata": {
        "id": "B9Gb_1r2UChX"
      },
      "execution_count": null,
      "outputs": []
    },
    {
      "cell_type": "code",
      "source": [
        "catboost = CatBoostClassifier(task_type='CPU', iterations=100, learning_rate=0.1, depth = 8, random_state = 5, \n",
        "                              eval_metric=\"Accuracy\")"
      ],
      "metadata": {
        "id": "kM7Xaph4UChY"
      },
      "execution_count": null,
      "outputs": []
    },
    {
      "cell_type": "code",
      "source": [
        "catboost.fit( x_treino, y_treino, cat_features= categoricas, plot=True, eval_set=(x_teste, y_teste))"
      ],
      "metadata": {
        "id": "frZ9Fw1EUChY"
      },
      "execution_count": null,
      "outputs": []
    },
    {
      "cell_type": "code",
      "source": [
        "previsoes_cat = catboost.predict(x_teste)\n",
        "previsoes_cat"
      ],
      "metadata": {
        "id": "MIJVraLTUChZ"
      },
      "execution_count": null,
      "outputs": []
    },
    {
      "cell_type": "code",
      "source": [
        "y_teste"
      ],
      "metadata": {
        "id": "dSrjeuL_UCha"
      },
      "execution_count": null,
      "outputs": []
    },
    {
      "cell_type": "code",
      "source": [
        "from sklearn.metrics import accuracy_score, confusion_matrix, classification_report"
      ],
      "metadata": {
        "id": "r6FeKp07UCha"
      },
      "execution_count": null,
      "outputs": []
    },
    {
      "cell_type": "code",
      "source": [
        "print(\"Acurácia: %.2f%%\" % (accuracy_score(y_teste, previsoes_cat) * 100.0))"
      ],
      "metadata": {
        "id": "rknZXiSyUChb"
      },
      "execution_count": null,
      "outputs": []
    },
    {
      "cell_type": "code",
      "source": [
        "confusion_matrix(y_teste, previsoes_cat)"
      ],
      "metadata": {
        "id": "coB92zR9UChb"
      },
      "execution_count": null,
      "outputs": []
    },
    {
      "cell_type": "markdown",
      "source": [
        "**Análise dados de treino**"
      ],
      "metadata": {
        "id": "IA02yBduUChc"
      }
    },
    {
      "cell_type": "code",
      "source": [
        "previsoes_treino = catboost.predict(x_treino)\n",
        "previsoes_treino"
      ],
      "metadata": {
        "id": "pu0f-5frUChc"
      },
      "execution_count": null,
      "outputs": []
    },
    {
      "cell_type": "code",
      "source": [
        "accuracy_score(y_treino, previsoes_treino)"
      ],
      "metadata": {
        "id": "agSmZWOEUChc"
      },
      "execution_count": null,
      "outputs": []
    },
    {
      "cell_type": "code",
      "source": [
        "confusion_matrix(y_treino, previsoes_treino)"
      ],
      "metadata": {
        "id": "Oh06bx0IUChd"
      },
      "execution_count": null,
      "outputs": []
    },
    {
      "cell_type": "markdown",
      "source": [
        "### **Validação Cruzada**"
      ],
      "metadata": {
        "id": "2LgdzmpMUChd"
      }
    },
    {
      "cell_type": "code",
      "source": [
        "from sklearn.model_selection import KFold\n",
        "from sklearn.model_selection import cross_val_score"
      ],
      "metadata": {
        "id": "N80OsHhNUChd"
      },
      "execution_count": null,
      "outputs": []
    },
    {
      "cell_type": "code",
      "source": [
        "# Separando os dados em folds\n",
        "kfold = KFold(n_splits = 30, shuffle=True, random_state = 5)"
      ],
      "metadata": {
        "id": "vkhW9kFUUChd"
      },
      "execution_count": null,
      "outputs": []
    },
    {
      "cell_type": "code",
      "source": [
        "# Criando o modelo\n",
        "modelo = CatBoostClassifier(task_type='CPU', iterations=100, learning_rate=0.1, depth = 8, random_state = 5, \n",
        "                              eval_metric=\"Accuracy\")\n",
        "resultado = cross_val_score(modelo, previsores, alvo, cv = kfold)\n",
        "\n",
        "# Usamos a média e o desvio padrão\n",
        "print(\"Acurácia Média: %.2f%%\" % (resultado.mean() * 100.0))"
      ],
      "metadata": {
        "id": "lwgfw-cVUChd"
      },
      "execution_count": null,
      "outputs": []
    },
    {
      "cell_type": "markdown",
      "source": [
        "Naive Bayes = 84,78% (treino e teste) - 234 acertos e 85,17% (validação cruzada) : previsores3_esc\n",
        "\n",
        "SVM = 86,23% - 238 acertos e 85,72% (validação cruzada) : previsores3-esc - SVC(kernel='rbf', random_state=1, C = 2)\n",
        "\n",
        "Regressão logística = 86,23% - 238 acertos e 85,83% (validação cruzada) : previsores3_esc - LogisticRegression(random_state=1, max_iter=600, penalty=\"l2\", tol=0.0001, C=1,solver=\"lbfgs\")\n",
        "\n",
        "KNN = 84,06% - 232 acertos e 85,84% (validação cruzada) : previsores3_esc ou previsores_esc - KNeighborsClassifier(n_neighbors=7, metric='minkowski', p = 1)\n",
        "\n",
        "Árvore de decisão = 83,7% (treino e teste) - 231 acertos e 83,32% (validação cruzada): previsores3_esc - DecisionTreeClassifier(criterion='entropy', random_state = 0, max_depth=3)\n",
        "\n",
        "Random Forest = 86,59% - 239 acertos e 85,92% (validação cruzada) : previsores - RandomForestClassifier(n_estimators=150, criterion='entropy', random_state = 0, max_depth=4)\n",
        "\n",
        "**XGboost = 87,68% - 242 acertos e 87,13% (validação cruzada) : previsores - XGBClassifier(max_depth=2, learning_rate=0.05, n_estimators=250, objective='binary:logistic', random_state=3)**\n",
        "\n",
        "LightGBM = 86,23% (treino e teste)- 238 acertos e 85,93% (validação cruzada) : previsores - lgb.LGBMClassifier(num_leaves = 250, objective = 'binary',  max_depth = 2, learning_rate = .05, max_bin =100)\n",
        "\n",
        "CatBoost = 86,96% (treino e teste) previsores4 - 240 acertos e 88% (validação cruzada com previsores) - CatBoostClassifier(task_type='CPU', iterations=100, learning_rate=0.1, depth = 8, random_state = 5, eval_metric=\"Accuracy\")"
      ],
      "metadata": {
        "id": "gco4qH1qUChe"
      }
    },
    {
      "cell_type": "markdown",
      "source": [
        "# **Salvando dados para Deploy**"
      ],
      "metadata": {
        "id": "-SI78UagmLD7"
      }
    },
    {
      "cell_type": "code",
      "metadata": {
        "id": "LNMNKr4TmLD8",
        "colab": {
          "base_uri": "https://localhost:8080/"
        },
        "outputId": "4ea7c676-03f7-4c5f-97ab-ec346253c427"
      },
      "source": [
        "previsores"
      ],
      "execution_count": null,
      "outputs": [
        {
          "output_type": "execute_result",
          "data": {
            "text/plain": [
              "array([[40. ,  0. ,  1. , ...,  0. ,  0. ,  0. ],\n",
              "       [49. ,  1. ,  2. , ...,  0. ,  1. ,  1. ],\n",
              "       [37. ,  0. ,  1. , ...,  0. ,  0. ,  0. ],\n",
              "       ...,\n",
              "       [57. ,  0. ,  3. , ...,  1. ,  1.2,  1. ],\n",
              "       [57. ,  1. ,  1. , ...,  0. ,  0. ,  1. ],\n",
              "       [38. ,  0. ,  2. , ...,  0. ,  0. ,  0. ]])"
            ]
          },
          "metadata": {},
          "execution_count": 15
        }
      ]
    },
    {
      "cell_type": "code",
      "source": [
        "alvo"
      ],
      "metadata": {
        "id": "isSCWsMPDdw6",
        "colab": {
          "base_uri": "https://localhost:8080/"
        },
        "outputId": "c9bed013-e189-4c52-c55a-2a47182611ae"
      },
      "execution_count": null,
      "outputs": [
        {
          "output_type": "execute_result",
          "data": {
            "text/plain": [
              "array([0, 1, 0, 1, 0, 0, 0, 0, 1, 0, 0, 1, 0, 1, 0, 0, 1, 0, 1, 1, 0, 0,\n",
              "       0, 1, 0, 0, 0, 0, 0, 0, 1, 0, 1, 1, 0, 0, 1, 0, 0, 0, 0, 1, 0, 0,\n",
              "       1, 0, 0, 0, 0, 1, 1, 1, 0, 0, 0, 0, 1, 1, 0, 1, 0, 0, 0, 1, 0, 0,\n",
              "       0, 0, 1, 0, 1, 0, 1, 0, 1, 0, 1, 0, 0, 1, 0, 0, 1, 0, 1, 1, 1, 0,\n",
              "       1, 0, 0, 0, 0, 1, 0, 1, 0, 0, 0, 0, 1, 0, 1, 1, 1, 0, 0, 0, 0, 0,\n",
              "       0, 1, 0, 0, 0, 1, 1, 1, 0, 1, 1, 0, 0, 1, 0, 0, 0, 0, 0, 0, 0, 1,\n",
              "       1, 1, 0, 1, 0, 0, 1, 1, 1, 1, 1, 0, 1, 0, 0, 0, 0, 1, 0, 0, 0, 0,\n",
              "       0, 1, 1, 0, 1, 0, 1, 1, 0, 0, 0, 1, 1, 0, 0, 0, 0, 0, 0, 0, 1, 1,\n",
              "       1, 0, 0, 0, 1, 0, 1, 0, 0, 1, 0, 1, 0, 1, 0, 0, 0, 0, 0, 0, 0, 0,\n",
              "       1, 0, 0, 0, 0, 0, 0, 0, 0, 1, 0, 1, 1, 1, 0, 0, 1, 0, 1, 0, 0, 0,\n",
              "       1, 1, 0, 0, 0, 1, 0, 1, 0, 0, 0, 0, 0, 0, 0, 0, 1, 1, 1, 1, 0, 1,\n",
              "       1, 0, 1, 0, 1, 1, 1, 1, 1, 1, 0, 0, 1, 0, 0, 0, 0, 0, 0, 0, 1, 1,\n",
              "       1, 0, 1, 0, 1, 0, 0, 0, 1, 0, 0, 0, 1, 1, 0, 0, 0, 1, 0, 0, 0, 0,\n",
              "       0, 0, 0, 0, 0, 0, 0, 1, 1, 1, 1, 1, 1, 1, 1, 0, 1, 1, 1, 1, 1, 0,\n",
              "       1, 1, 0, 1, 1, 1, 0, 1, 1, 1, 1, 1, 1, 1, 1, 1, 1, 1, 0, 1, 1, 1,\n",
              "       1, 1, 0, 1, 1, 1, 0, 1, 1, 1, 1, 1, 1, 1, 1, 1, 1, 1, 1, 1, 1, 1,\n",
              "       1, 1, 1, 1, 1, 1, 1, 1, 1, 1, 1, 1, 0, 1, 1, 1, 1, 1, 1, 1, 1, 1,\n",
              "       1, 1, 1, 1, 1, 1, 1, 1, 1, 1, 1, 1, 1, 1, 1, 1, 1, 1, 1, 1, 1, 1,\n",
              "       1, 1, 1, 1, 1, 1, 1, 1, 1, 1, 1, 1, 1, 1, 1, 1, 1, 1, 1, 1, 1, 0,\n",
              "       1, 1, 0, 0, 1, 0, 1, 1, 0, 1, 1, 1, 1, 0, 1, 1, 0, 0, 1, 1, 1, 0,\n",
              "       1, 1, 1, 1, 1, 1, 1, 1, 1, 1, 1, 1, 0, 1, 0, 1, 1, 1, 0, 1, 1, 1,\n",
              "       0, 1, 0, 1, 0, 1, 0, 1, 1, 1, 1, 0, 1, 0, 1, 1, 1, 1, 1, 1, 1, 1,\n",
              "       1, 0, 1, 0, 1, 1, 1, 1, 1, 1, 1, 0, 1, 1, 1, 1, 1, 1, 0, 1, 1, 1,\n",
              "       0, 1, 1, 0, 1, 0, 1, 1, 0, 1, 1, 1, 1, 0, 1, 1, 1, 0, 0, 1, 0, 1,\n",
              "       1, 1, 1, 1, 1, 1, 1, 1, 1, 1, 0, 1, 1, 1, 1, 0, 0, 1, 1, 1, 0, 1,\n",
              "       0, 1, 1, 0, 1, 0, 1, 1, 1, 0, 0, 0, 1, 1, 1, 0, 1, 1, 1, 1, 1, 1,\n",
              "       1, 1, 1, 1, 1, 1, 1, 1, 1, 1, 0, 1, 1, 1, 0, 1, 1, 0, 0, 1, 1, 1,\n",
              "       1, 1, 0, 1, 1, 0, 1, 1, 1, 0, 0, 1, 1, 1, 1, 1, 0, 1, 0, 1, 1, 0,\n",
              "       1, 0, 0, 0, 1, 1, 1, 1, 0, 0, 0, 1, 0, 0, 1, 1, 0, 0, 1, 0, 0, 0,\n",
              "       0, 0, 0, 0, 1, 0, 1, 0, 0, 1, 1, 1, 1, 1, 0, 0, 1, 0, 0, 0, 1, 0,\n",
              "       1, 1, 1, 1, 1, 0, 0, 0, 0, 0, 1, 0, 1, 1, 0, 1, 0, 0, 0, 1, 0, 1,\n",
              "       0, 1, 1, 0, 0, 0, 0, 1, 0, 0, 0, 0, 1, 1, 1, 0, 0, 0, 0, 0, 0, 1,\n",
              "       0, 1, 1, 1, 1, 1, 0, 1, 0, 0, 0, 1, 0, 1, 1, 1, 0, 1, 1, 0, 1, 0,\n",
              "       1, 0, 0, 0, 1, 1, 0, 1, 1, 1, 1, 0, 0, 0, 1, 0, 0, 1, 1, 1, 0, 1,\n",
              "       0, 0, 0, 1, 0, 0, 1, 0, 1, 0, 1, 1, 1, 1, 1, 0, 0, 0, 0, 0, 0, 0,\n",
              "       1, 0, 0, 1, 1, 1, 0, 1, 0, 0, 0, 0, 0, 1, 0, 1, 1, 0, 0, 1, 1, 1,\n",
              "       1, 0, 0, 1, 1, 0, 0, 0, 1, 0, 0, 1, 0, 1, 0, 1, 0, 0, 0, 0, 0, 1,\n",
              "       0, 1, 1, 1, 1, 0, 0, 0, 1, 0, 1, 0, 0, 1, 0, 0, 0, 0, 0, 0, 1, 1,\n",
              "       0, 1, 0, 0, 1, 1, 0, 0, 1, 1, 0, 1, 0, 1, 0, 1, 0, 0, 1, 0, 0, 1,\n",
              "       0, 1, 1, 0, 1, 1, 1, 0, 1, 0, 0, 0, 0, 1, 1, 0, 0, 1, 1, 0, 1, 0,\n",
              "       0, 0, 0, 1, 0, 0, 1, 1, 1, 0, 0, 0, 1, 0, 1, 0, 1, 0, 1, 1, 1, 0,\n",
              "       0, 0, 1, 0, 1, 1, 1, 0, 1, 1, 1, 1, 1, 1, 0])"
            ]
          },
          "metadata": {},
          "execution_count": 16
        }
      ]
    },
    {
      "cell_type": "code",
      "source": [
        "np.savetxt('previsores.csv', previsores, delimiter=',')"
      ],
      "metadata": {
        "id": "XUYRtI5VDBXF"
      },
      "execution_count": null,
      "outputs": []
    },
    {
      "cell_type": "code",
      "source": [
        "np.savetxt('alvo.csv', alvo, delimiter=',')"
      ],
      "metadata": {
        "id": "dd7lbPU3DQFO"
      },
      "execution_count": null,
      "outputs": []
    },
    {
      "cell_type": "markdown",
      "source": [
        "# **DESAFIO 1**"
      ],
      "metadata": {
        "id": "Q6LoOxMow4Ci"
      }
    },
    {
      "cell_type": "markdown",
      "source": [
        "DESENVOLVER E SELECIONAR O MELHOR ALGORITMO DE MACHINE LEARNING DE CLASSIFICAÇÃO PARA O DATASET DO LINK A SEGUIR:"
      ],
      "metadata": {
        "id": "bjLFumRQxayX"
      }
    },
    {
      "cell_type": "markdown",
      "source": [
        "https://www.kaggle.com/uciml/breast-cancer-wisconsin-data"
      ],
      "metadata": {
        "id": "VG8xV9wYxKk2"
      }
    }
  ]
}