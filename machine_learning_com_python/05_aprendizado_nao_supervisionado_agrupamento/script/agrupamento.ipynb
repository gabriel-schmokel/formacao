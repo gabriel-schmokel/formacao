{
  "nbformat": 4,
  "nbformat_minor": 0,
  "metadata": {
    "colab": {
      "name": "agrupamento.ipynb",
      "provenance": []
    },
    "kernelspec": {
      "name": "python3",
      "display_name": "Python 3"
    },
    "language_info": {
      "name": "python"
    }
  },
  "cells": [
    {
      "cell_type": "markdown",
      "metadata": {
        "id": "fQJ5CYV9Te0X"
      },
      "source": [
        "# **APRENDIZAGEM NÃO SUPERVISIONADA: AGRUPAMENTO**"
      ]
    },
    {
      "cell_type": "markdown",
      "metadata": {
        "id": "kXFCCsVHTtTP"
      },
      "source": [
        "Este projeto tem por objetivo desenvolver um algoritmo de Machine Learning para agrupar clientes de um shopping. "
      ]
    },
    {
      "cell_type": "markdown",
      "metadata": {
        "id": "5ZQ2nYhQUc3G"
      },
      "source": [
        "Os dados foram extraídos do site do Kaggle:\n",
        "\n",
        "https://www.kaggle.com/shwetabh123/mall-customers"
      ]
    },
    {
      "cell_type": "code",
      "metadata": {
        "id": "nWvIcticlCs2"
      },
      "source": [
        "import numpy as np\n",
        "import pandas as pd"
      ],
      "execution_count": null,
      "outputs": []
    },
    {
      "cell_type": "code",
      "source": [
        "import warnings\n",
        "warnings.filterwarnings(\"ignore\")"
      ],
      "metadata": {
        "id": "Ucm_66mjkInE"
      },
      "execution_count": null,
      "outputs": []
    },
    {
      "cell_type": "code",
      "metadata": {
        "id": "LRIrwcC8kUhT"
      },
      "source": [
        "df = pd.read_csv('/content/drive/MyDrive/Cursos_Udemy/Machine_Learning_com_Python/Mall_Customers.csv',\n",
        "                    sep=',', encoding='iso-8859-1')"
      ],
      "execution_count": null,
      "outputs": []
    },
    {
      "cell_type": "code",
      "source": [
        "df.head()"
      ],
      "metadata": {
        "id": "QtugliripIyp"
      },
      "execution_count": null,
      "outputs": []
    },
    {
      "cell_type": "markdown",
      "source": [
        "**ATRIBUTOS:** \n",
        "\n",
        "CustomerID: identificação do cliente.\n",
        "\n",
        "Genre: Gênero.\n",
        "\n",
        "Age: idade.\n",
        "\n",
        "Annual Income (k$):\tRendimento anual.\n",
        "\n",
        "Spending Score (1 a 100): Pontuação de gastos."
      ],
      "metadata": {
        "id": "BxBX5HD17FZn"
      }
    },
    {
      "cell_type": "markdown",
      "source": [
        "**IDADE**"
      ],
      "metadata": {
        "id": "ajo3s-N0qCAp"
      }
    },
    {
      "cell_type": "code",
      "source": [
        "import plotly.express as px"
      ],
      "metadata": {
        "id": "skYTOCMwQ4_s"
      },
      "execution_count": null,
      "outputs": []
    },
    {
      "cell_type": "code",
      "source": [
        "hist =  px.histogram (df,  x = \"Age\", nbins=60) \n",
        "hist.update_layout(width=600,height=400,title_text='Distribuição das idades') \n",
        "hist.show()"
      ],
      "metadata": {
        "id": "W5Hco_eBQ7Tp"
      },
      "execution_count": null,
      "outputs": []
    },
    {
      "cell_type": "markdown",
      "source": [
        "**GÊNERO**"
      ],
      "metadata": {
        "id": "R7GluwRFqF8Z"
      }
    },
    {
      "cell_type": "code",
      "source": [
        "df['Genre'].value_counts()"
      ],
      "metadata": {
        "id": "UtjcZPmVSxGp"
      },
      "execution_count": null,
      "outputs": []
    },
    {
      "cell_type": "code",
      "source": [
        "import seaborn as sns"
      ],
      "metadata": {
        "id": "XV1LBh7GhTFP"
      },
      "execution_count": null,
      "outputs": []
    },
    {
      "cell_type": "code",
      "source": [
        "sns.countplot(x='Genre', data=df);"
      ],
      "metadata": {
        "id": "iwjvbQgSTYwl"
      },
      "execution_count": null,
      "outputs": []
    },
    {
      "cell_type": "code",
      "source": [
        "df.shape"
      ],
      "metadata": {
        "id": "-pOctrVgQWpa"
      },
      "execution_count": null,
      "outputs": []
    },
    {
      "cell_type": "markdown",
      "source": [
        "## **EXPLORAÇÃO E TRATAMENTO DOS DADOS**"
      ],
      "metadata": {
        "id": "HxaCUHTyTqsg"
      }
    },
    {
      "cell_type": "markdown",
      "source": [
        "**Alterando nomes das colunas**"
      ],
      "metadata": {
        "id": "7QcMlMMAamjI"
      }
    },
    {
      "cell_type": "code",
      "source": [
        "df.head(2)"
      ],
      "metadata": {
        "id": "XpEqSI9ZZjb8"
      },
      "execution_count": null,
      "outputs": []
    },
    {
      "cell_type": "code",
      "metadata": {
        "id": "rLJ1sjR15Pil"
      },
      "source": [
        "df.rename(columns={'CustomerID': 'identificacao'}, inplace=True)"
      ],
      "execution_count": null,
      "outputs": []
    },
    {
      "cell_type": "code",
      "source": [
        "df.rename(columns={'Genre': 'genero'}, inplace=True)\n",
        "df.rename(columns={'Age': 'idade'}, inplace=True)"
      ],
      "metadata": {
        "id": "BRVHHLSHZ7dc"
      },
      "execution_count": null,
      "outputs": []
    },
    {
      "cell_type": "code",
      "metadata": {
        "id": "L751EFou5y2H"
      },
      "source": [
        "df.rename(columns={'Annual Income (k$)': 'rendimento','Spending Score (1-100)':'pontuacao'}, inplace=True) "
      ],
      "execution_count": null,
      "outputs": []
    },
    {
      "cell_type": "code",
      "metadata": {
        "id": "5P6OcnfdFpg4"
      },
      "source": [
        "df.head(3)"
      ],
      "execution_count": null,
      "outputs": []
    },
    {
      "cell_type": "markdown",
      "metadata": {
        "id": "3lk5kf4eZ_sL"
      },
      "source": [
        "**Valores Missing (NAN)**"
      ]
    },
    {
      "cell_type": "code",
      "metadata": {
        "id": "A24U7d5QYPaV"
      },
      "source": [
        "# RELAÇÃO DA QUANTIDADE\n",
        "df.isnull().sum()"
      ],
      "execution_count": null,
      "outputs": []
    },
    {
      "cell_type": "markdown",
      "source": [
        "**Análise dos tipos de atributos.**"
      ],
      "metadata": {
        "id": "Q_4_5j4Vlz2j"
      }
    },
    {
      "cell_type": "code",
      "metadata": {
        "id": "wopAqivQXpqI"
      },
      "source": [
        "# object: strings\n",
        "# int64: inteiros\n",
        "# float64: reais\n",
        "# complex: complexos\n",
        "df.dtypes"
      ],
      "execution_count": null,
      "outputs": []
    },
    {
      "cell_type": "markdown",
      "source": [
        "**Dados Estatísticos**"
      ],
      "metadata": {
        "id": "GmQ0oYyVTYOv"
      }
    },
    {
      "cell_type": "code",
      "source": [
        "df.describe()"
      ],
      "metadata": {
        "id": "BE2XqrzRS8Zo"
      },
      "execution_count": null,
      "outputs": []
    },
    {
      "cell_type": "markdown",
      "metadata": {
        "id": "BjC9JIo5jJ79"
      },
      "source": [
        "**Análise dos outliers**"
      ]
    },
    {
      "cell_type": "code",
      "metadata": {
        "id": "9pBh8XgzjJOX"
      },
      "source": [
        "import plotly.express as px"
      ],
      "execution_count": null,
      "outputs": []
    },
    {
      "cell_type": "code",
      "metadata": {
        "id": "R3RYMYZ0jQgO"
      },
      "source": [
        "boxplot = px.box(df, y=\"rendimento\")\n",
        "boxplot.show()"
      ],
      "execution_count": null,
      "outputs": []
    },
    {
      "cell_type": "code",
      "source": [
        "boxplot = px.box(df, y=\"idade\")\n",
        "boxplot.show()"
      ],
      "metadata": {
        "id": "Dvs4lEHndQfg"
      },
      "execution_count": null,
      "outputs": []
    },
    {
      "cell_type": "code",
      "source": [
        "boxplot = px.box(df, y=\"pontuacao\")\n",
        "boxplot.show()"
      ],
      "metadata": {
        "id": "O7UgfqP4dT0V"
      },
      "execution_count": null,
      "outputs": []
    },
    {
      "cell_type": "markdown",
      "source": [
        "## **PRÉ-PROCESSAMENTO**"
      ],
      "metadata": {
        "id": "VhAEKbnMhsA7"
      }
    },
    {
      "cell_type": "code",
      "source": [
        "df.head(2)"
      ],
      "metadata": {
        "id": "h6815ba1e7B9"
      },
      "execution_count": null,
      "outputs": []
    },
    {
      "cell_type": "markdown",
      "source": [
        "###**Excluir identificação do cliente**"
      ],
      "metadata": {
        "id": "ESNqyU7Jq7Vi"
      }
    },
    {
      "cell_type": "code",
      "source": [
        "df2 = df.drop(labels = 'identificacao', axis = 1)"
      ],
      "metadata": {
        "id": "PDWO3Tk1q0XY"
      },
      "execution_count": null,
      "outputs": []
    },
    {
      "cell_type": "code",
      "source": [
        "df2.head(2)"
      ],
      "metadata": {
        "id": "DNYn4ylbrCio"
      },
      "execution_count": null,
      "outputs": []
    },
    {
      "cell_type": "markdown",
      "source": [
        "###**Transformar variáveis categóricas em numéricas**"
      ],
      "metadata": {
        "id": "oBFSAQBtrJxs"
      }
    },
    {
      "cell_type": "code",
      "source": [
        "df2['genero'].replace({'Female': 0, 'Male': 1}, inplace=True)"
      ],
      "metadata": {
        "id": "tQKOjoeQrI39"
      },
      "execution_count": null,
      "outputs": []
    },
    {
      "cell_type": "code",
      "source": [
        "df2.head(3)"
      ],
      "metadata": {
        "id": "mlKoxv-irnLz"
      },
      "execution_count": null,
      "outputs": []
    },
    {
      "cell_type": "markdown",
      "source": [
        "###**Escalonamento**"
      ],
      "metadata": {
        "id": "fe286LHJsKKs"
      }
    },
    {
      "cell_type": "code",
      "source": [
        "from sklearn.preprocessing import StandardScaler"
      ],
      "metadata": {
        "id": "qsrGO_mOsYby"
      },
      "execution_count": null,
      "outputs": []
    },
    {
      "cell_type": "code",
      "source": [
        "escala = StandardScaler()\n",
        "df2_esc = escala.fit_transform(df2)"
      ],
      "metadata": {
        "id": "KS9PoqfRsKVD"
      },
      "execution_count": null,
      "outputs": []
    },
    {
      "cell_type": "code",
      "source": [
        "df2_esc"
      ],
      "metadata": {
        "id": "43rc6sHusy-h"
      },
      "execution_count": null,
      "outputs": []
    },
    {
      "cell_type": "markdown",
      "source": [
        "## **K-MEANS COM DOIS ATRIBUTOS**"
      ],
      "metadata": {
        "id": "yLfzT092srdm"
      }
    },
    {
      "cell_type": "markdown",
      "source": [
        "https://scikit-learn.org/stable/modules/generated/sklearn.cluster.KMeans.html "
      ],
      "metadata": {
        "id": "VM5oU_CcI44j"
      }
    },
    {
      "cell_type": "code",
      "source": [
        "df2"
      ],
      "metadata": {
        "id": "P5lT9DtaOUc_"
      },
      "execution_count": null,
      "outputs": []
    },
    {
      "cell_type": "code",
      "source": [
        "dados = df2.iloc[:, [2,3]].values"
      ],
      "metadata": {
        "id": "CP3iUZQ1hsRQ"
      },
      "execution_count": null,
      "outputs": []
    },
    {
      "cell_type": "code",
      "source": [
        "dados"
      ],
      "metadata": {
        "id": "H23dt_eUd4ux"
      },
      "execution_count": null,
      "outputs": []
    },
    {
      "cell_type": "markdown",
      "source": [
        "**Elbow Method**"
      ],
      "metadata": {
        "id": "H9r1X8Ksh8-L"
      }
    },
    {
      "cell_type": "code",
      "source": [
        "from sklearn.cluster import KMeans\n",
        "wcss = []\n",
        "for i in range(1, 11):\n",
        "    kmeans = KMeans(n_clusters = i, init = 'k-means++', random_state = 5, max_iter = 300)\n",
        "    kmeans.fit(dados)\n",
        "    # inertia: Método para gerar o wcss\n",
        "    wcss.append(kmeans.inertia_)"
      ],
      "metadata": {
        "id": "-db_9Oa7h4NK"
      },
      "execution_count": null,
      "outputs": []
    },
    {
      "cell_type": "code",
      "source": [
        "import matplotlib.pyplot as plt\n",
        "import seaborn as sns"
      ],
      "metadata": {
        "id": "YJigC9DxiLFf"
      },
      "execution_count": null,
      "outputs": []
    },
    {
      "cell_type": "code",
      "source": [
        "plt.figure(figsize=(10,5))\n",
        "sns.lineplot(range(1, 11), wcss,marker='o',color='red')\n",
        "plt.title('The Elbow Method')\n",
        "plt.xlabel('Número de clusters')\n",
        "plt.ylabel('WCSS');"
      ],
      "metadata": {
        "id": "qcC0f8CEiEY3"
      },
      "execution_count": null,
      "outputs": []
    },
    {
      "cell_type": "markdown",
      "source": [
        "**Agrupamento**"
      ],
      "metadata": {
        "id": "mC0gBtKMjEnq"
      }
    },
    {
      "cell_type": "code",
      "source": [
        "kmeans = KMeans(n_clusters = 4, init = 'k-means++', random_state = 5, max_iter = 300)\n"
      ],
      "metadata": {
        "id": "0JtxIbh9iie-"
      },
      "execution_count": null,
      "outputs": []
    },
    {
      "cell_type": "code",
      "source": [
        "kmeans1 = kmeans.fit(dados)"
      ],
      "metadata": {
        "id": "14qBA97tjKQl"
      },
      "execution_count": null,
      "outputs": []
    },
    {
      "cell_type": "code",
      "source": [
        "# Coordenadas dos Centróides\n",
        "centroides = kmeans1.cluster_centers_\n",
        "centroides"
      ],
      "metadata": {
        "id": "1iPLgmmnpSss"
      },
      "execution_count": null,
      "outputs": []
    },
    {
      "cell_type": "code",
      "source": [
        "# Classificação dos dados\n",
        "classificacao = kmeans1.labels_\n",
        "classificacao"
      ],
      "metadata": {
        "id": "g46yWimvrk90"
      },
      "execution_count": null,
      "outputs": []
    },
    {
      "cell_type": "code",
      "source": [
        "dados[3,:]"
      ],
      "metadata": {
        "id": "5V9JnLrtszt9"
      },
      "execution_count": null,
      "outputs": []
    },
    {
      "cell_type": "code",
      "source": [
        "classificacao[3]"
      ],
      "metadata": {
        "id": "-1Z0dNjKtnaI"
      },
      "execution_count": null,
      "outputs": []
    },
    {
      "cell_type": "code",
      "source": [
        "import plotly.express as px\n",
        "import plotly.graph_objects as go"
      ],
      "metadata": {
        "id": "xFAODVuAvKPE"
      },
      "execution_count": null,
      "outputs": []
    },
    {
      "cell_type": "code",
      "source": [
        "graf1 = px.scatter(x = dados[:,0], y = dados[:,1], color=classificacao)\n",
        "graf2 = px.scatter(x = centroides[:,0], y = centroides[:,1], size = [15, 15, 15, 15])\n",
        "graf3 = go.Figure(data = graf1.data + graf2.data)\n",
        "graf3.update_layout(width=800,height=500,title_text='Agrupamento K-Means')\n",
        "graf3.update_xaxes(title = 'Rendimento anual (K$)')\n",
        "graf3.update_yaxes(title = 'Pontuação')\n",
        "graf3.show()"
      ],
      "metadata": {
        "id": "0hvZy_mRrgiN"
      },
      "execution_count": null,
      "outputs": []
    },
    {
      "cell_type": "code",
      "source": [
        "agrupamento = pd.DataFrame(classificacao, columns = ['Grupo'])\n",
        "agrupamento"
      ],
      "metadata": {
        "id": "FeZgPKec4VMx"
      },
      "execution_count": null,
      "outputs": []
    },
    {
      "cell_type": "code",
      "source": [
        "df3 = pd.concat([df, agrupamento],axis=1)\n",
        "df3"
      ],
      "metadata": {
        "id": "-8Ju3tbl4jcK"
      },
      "execution_count": null,
      "outputs": []
    },
    {
      "cell_type": "code",
      "source": [
        "df3.iloc[150 , :]"
      ],
      "metadata": {
        "id": "AZHx-GdQ5U4V"
      },
      "execution_count": null,
      "outputs": []
    },
    {
      "cell_type": "code",
      "source": [
        "df3.loc[df3.identificacao == 92] "
      ],
      "metadata": {
        "id": "bDBG6pcv5eAT"
      },
      "execution_count": null,
      "outputs": []
    },
    {
      "cell_type": "code",
      "source": [
        "grupo0 = df3.loc[df3.Grupo == 0]\n",
        "grupo0 "
      ],
      "metadata": {
        "id": "jCbHbVh45urk"
      },
      "execution_count": null,
      "outputs": []
    },
    {
      "cell_type": "code",
      "source": [
        "grupo0.shape"
      ],
      "metadata": {
        "id": "b43QYFcF58w0"
      },
      "execution_count": null,
      "outputs": []
    },
    {
      "cell_type": "code",
      "source": [
        "grupo1 = df3.loc[df3.Grupo == 1]\n",
        "grupo1"
      ],
      "metadata": {
        "id": "y8PX13pw6BME"
      },
      "execution_count": null,
      "outputs": []
    },
    {
      "cell_type": "code",
      "source": [
        "grupo1.shape"
      ],
      "metadata": {
        "id": "-He-dsXMiC6_"
      },
      "execution_count": null,
      "outputs": []
    },
    {
      "cell_type": "markdown",
      "source": [
        "## **K-MEANS COM TODOS ATRIBUTOS**"
      ],
      "metadata": {
        "id": "ZyODWRN4lXIf"
      }
    },
    {
      "cell_type": "code",
      "source": [
        "df2_esc"
      ],
      "metadata": {
        "id": "X95Uxq6p7ULC"
      },
      "execution_count": null,
      "outputs": []
    },
    {
      "cell_type": "code",
      "source": [
        "df2_esc.shape"
      ],
      "metadata": {
        "id": "buG8t8_slzqi"
      },
      "execution_count": null,
      "outputs": []
    },
    {
      "cell_type": "markdown",
      "source": [
        "**Elbow Method**"
      ],
      "metadata": {
        "id": "R-mUTBTslXIi"
      }
    },
    {
      "cell_type": "code",
      "source": [
        "from sklearn.cluster import KMeans\n",
        "wcss = []\n",
        "for i in range(1,15):\n",
        "    kmeans = KMeans(n_clusters = i, init = 'k-means++', random_state = 5, max_iter = 300)\n",
        "    kmeans.fit(df2_esc)\n",
        "# Método inertia para gerar o wcss\n",
        "    wcss.append(kmeans.inertia_)"
      ],
      "metadata": {
        "id": "KhBY7OL8lXIi"
      },
      "execution_count": null,
      "outputs": []
    },
    {
      "cell_type": "code",
      "source": [
        "import matplotlib.pyplot as plt\n",
        "import seaborn as sns"
      ],
      "metadata": {
        "id": "Tr7tnKoJlXIj"
      },
      "execution_count": null,
      "outputs": []
    },
    {
      "cell_type": "code",
      "source": [
        "plt.figure(figsize=(10,5))\n",
        "sns.lineplot(range(1, 15), wcss,marker='o',color='red')\n",
        "plt.title('The Elbow Method')\n",
        "plt.xlabel('Número de clusters')\n",
        "plt.ylabel('WCSS');"
      ],
      "metadata": {
        "id": "JoJfLSqWlXIj"
      },
      "execution_count": null,
      "outputs": []
    },
    {
      "cell_type": "markdown",
      "source": [
        "**Agrupamento**"
      ],
      "metadata": {
        "id": "82FbN6pTlXIk"
      }
    },
    {
      "cell_type": "code",
      "source": [
        "kmeans = KMeans(n_clusters = 6, init = 'k-means++', random_state = 5, max_iter = 300)\n"
      ],
      "metadata": {
        "id": "kxhE1MTGlXIl"
      },
      "execution_count": null,
      "outputs": []
    },
    {
      "cell_type": "code",
      "source": [
        "kmeans2 = kmeans.fit(df2_esc)"
      ],
      "metadata": {
        "id": "VzBheeLa6rTT"
      },
      "execution_count": null,
      "outputs": []
    },
    {
      "cell_type": "code",
      "source": [
        "# Coordenadas dos Centróides\n",
        "centroides = kmeans2.cluster_centers_\n",
        "centroides"
      ],
      "metadata": {
        "id": "_1iVCddo6rTm"
      },
      "execution_count": null,
      "outputs": []
    },
    {
      "cell_type": "code",
      "source": [
        "# Inversão do escalonamento\n",
        "escala.inverse_transform(kmeans2.cluster_centers_)"
      ],
      "metadata": {
        "id": "P5BjwAHy9zSr"
      },
      "execution_count": null,
      "outputs": []
    },
    {
      "cell_type": "code",
      "source": [
        "# Classificação dos dados\n",
        "classificacao2 = kmeans2.labels_\n",
        "classificacao2"
      ],
      "metadata": {
        "id": "1r_MpYd46rTn"
      },
      "execution_count": null,
      "outputs": []
    },
    {
      "cell_type": "code",
      "source": [
        "classificacao2[199]"
      ],
      "metadata": {
        "id": "nJjdz_hp6rTo"
      },
      "execution_count": null,
      "outputs": []
    },
    {
      "cell_type": "code",
      "source": [
        "agrupamento2 = pd.DataFrame(classificacao2, columns = ['Grupo'])\n",
        "agrupamento2"
      ],
      "metadata": {
        "id": "bxffuPEt6rTq"
      },
      "execution_count": null,
      "outputs": []
    },
    {
      "cell_type": "code",
      "source": [
        "df4 = pd.concat([df, agrupamento2],axis=1)\n",
        "df4"
      ],
      "metadata": {
        "id": "1yUTT24h6rTr"
      },
      "execution_count": null,
      "outputs": []
    },
    {
      "cell_type": "code",
      "source": [
        "df4.iloc[125 , :]"
      ],
      "metadata": {
        "id": "QovpnOlH6rTr"
      },
      "execution_count": null,
      "outputs": []
    },
    {
      "cell_type": "code",
      "source": [
        "df4.loc[df4.identificacao == 76] "
      ],
      "metadata": {
        "id": "K_Qx0Une6rTs"
      },
      "execution_count": null,
      "outputs": []
    },
    {
      "cell_type": "code",
      "source": [
        "grupo0 = df4.loc[df4.Grupo == 0]\n",
        "grupo0 "
      ],
      "metadata": {
        "id": "VFvk21KT6rTs"
      },
      "execution_count": null,
      "outputs": []
    },
    {
      "cell_type": "code",
      "source": [
        "grupo0.shape"
      ],
      "metadata": {
        "id": "-jYnYjcq6rTs"
      },
      "execution_count": null,
      "outputs": []
    },
    {
      "cell_type": "markdown",
      "source": [
        "## **K-MEANS COM PCA**"
      ],
      "metadata": {
        "id": "N8oYhBUfx3nH"
      }
    },
    {
      "cell_type": "code",
      "source": [
        "df2_esc"
      ],
      "metadata": {
        "id": "A4lFQAbPx3nJ"
      },
      "execution_count": null,
      "outputs": []
    },
    {
      "cell_type": "code",
      "source": [
        "df2_esc.shape"
      ],
      "metadata": {
        "id": "FAaXKGcwx3nK"
      },
      "execution_count": null,
      "outputs": []
    },
    {
      "cell_type": "markdown",
      "source": [
        "**Componentes Principais**"
      ],
      "metadata": {
        "id": "PKmrtqR78Uzw"
      }
    },
    {
      "cell_type": "code",
      "source": [
        "from sklearn.decomposition import PCA"
      ],
      "metadata": {
        "id": "VFEUeVNhzsEC"
      },
      "execution_count": null,
      "outputs": []
    },
    {
      "cell_type": "code",
      "source": [
        "pca = PCA(n_components = 2)"
      ],
      "metadata": {
        "id": "aoRBLYECztsx"
      },
      "execution_count": null,
      "outputs": []
    },
    {
      "cell_type": "code",
      "source": [
        "df2_pca = pca.fit_transform(df2_esc)"
      ],
      "metadata": {
        "id": "IMrlaf4szS8e"
      },
      "execution_count": null,
      "outputs": []
    },
    {
      "cell_type": "code",
      "source": [
        "df2_pca"
      ],
      "metadata": {
        "id": "3oa-hENk0H1i"
      },
      "execution_count": null,
      "outputs": []
    },
    {
      "cell_type": "code",
      "metadata": {
        "id": "hdBAi-piY28x"
      },
      "source": [
        "# razão das variáveis explicativas\n",
        "pca.explained_variance_ratio_"
      ],
      "execution_count": null,
      "outputs": []
    },
    {
      "cell_type": "code",
      "metadata": {
        "id": "lBxPFP0VZR1I"
      },
      "source": [
        "# Soma das variáveis explicativas\n",
        "pca.explained_variance_ratio_.sum()"
      ],
      "execution_count": null,
      "outputs": []
    },
    {
      "cell_type": "markdown",
      "source": [
        "**Elbow Method**"
      ],
      "metadata": {
        "id": "12uyBf4xx3nL"
      }
    },
    {
      "cell_type": "code",
      "source": [
        "from sklearn.cluster import KMeans\n",
        "wcss = []\n",
        "for i in range(1, 11):\n",
        "    kmeans = KMeans(n_clusters = i, init = 'k-means++', random_state = 5, max_iter = 300)\n",
        "    kmeans.fit(df2_pca)\n",
        "# Método inertia para gerar o wcss\n",
        "    wcss.append(kmeans.inertia_)"
      ],
      "metadata": {
        "id": "QN5UGOJhx3nM"
      },
      "execution_count": null,
      "outputs": []
    },
    {
      "cell_type": "code",
      "source": [
        "import matplotlib.pyplot as plt\n",
        "import seaborn as sns"
      ],
      "metadata": {
        "id": "rHqAl1kd0ez6"
      },
      "execution_count": null,
      "outputs": []
    },
    {
      "cell_type": "code",
      "source": [
        "plt.figure(figsize=(10,5))\n",
        "sns.lineplot(range(1, 11), wcss,marker='o',color='red')\n",
        "plt.title('The Elbow Method')\n",
        "plt.xlabel('Número de clusters')\n",
        "plt.ylabel('WCSS');"
      ],
      "metadata": {
        "id": "CZZYfVtq0ez8"
      },
      "execution_count": null,
      "outputs": []
    },
    {
      "cell_type": "markdown",
      "source": [
        "**Agrupamento**"
      ],
      "metadata": {
        "id": "rqLD4sxt0ez9"
      }
    },
    {
      "cell_type": "code",
      "source": [
        "kmeans = KMeans(n_clusters = 4, init = 'k-means++', random_state = 5, max_iter = 300)\n"
      ],
      "metadata": {
        "id": "hP0-r52I0ez-"
      },
      "execution_count": null,
      "outputs": []
    },
    {
      "cell_type": "code",
      "source": [
        "kmeans3 = kmeans.fit(df2_pca)"
      ],
      "metadata": {
        "id": "fgI4lnLv0ez-"
      },
      "execution_count": null,
      "outputs": []
    },
    {
      "cell_type": "code",
      "source": [
        "# Coordenadas dos Centróides\n",
        "centroides = kmeans3.cluster_centers_\n",
        "centroides"
      ],
      "metadata": {
        "id": "3TChV4bc0ez_"
      },
      "execution_count": null,
      "outputs": []
    },
    {
      "cell_type": "code",
      "source": [
        "# Classificação dos dados\n",
        "classificacao3 = kmeans3.labels_\n",
        "classificacao3"
      ],
      "metadata": {
        "id": "BGGT0wk00e0A"
      },
      "execution_count": null,
      "outputs": []
    },
    {
      "cell_type": "code",
      "source": [
        "classificacao3[2]"
      ],
      "metadata": {
        "id": "KphGAItZ0e0B"
      },
      "execution_count": null,
      "outputs": []
    },
    {
      "cell_type": "code",
      "source": [
        "import plotly.express as px\n",
        "import plotly.graph_objects as go"
      ],
      "metadata": {
        "id": "tbxP76X-2ac_"
      },
      "execution_count": null,
      "outputs": []
    },
    {
      "cell_type": "code",
      "source": [
        "graf1 = px.scatter(x = df2_pca[:,0], y = df2_pca[:,1], color=classificacao3)\n",
        "graf2 = px.scatter(x = centroides[:,0], y = centroides[:,1], size = [15, 15, 15, 15])\n",
        "graf3 = go.Figure(data = graf1.data + graf2.data)\n",
        "graf3.update_layout(width=800,height=500,title_text='Agrupamento K-Means com PCA')\n",
        "graf3.update_xaxes(title = 'Componente 1')\n",
        "graf3.update_yaxes(title = 'Componente 2')\n",
        "graf3.show()"
      ],
      "metadata": {
        "id": "hIOLtLeq2adA"
      },
      "execution_count": null,
      "outputs": []
    },
    {
      "cell_type": "code",
      "source": [
        "agrupamento3 = pd.DataFrame(classificacao3, columns = ['Grupo'])\n",
        "agrupamento3"
      ],
      "metadata": {
        "id": "akDlbFP10e0C"
      },
      "execution_count": null,
      "outputs": []
    },
    {
      "cell_type": "code",
      "source": [
        "df5 = pd.concat([df, agrupamento3],axis=1)\n",
        "df5"
      ],
      "metadata": {
        "id": "FhmmWJYI0e0C"
      },
      "execution_count": null,
      "outputs": []
    },
    {
      "cell_type": "code",
      "source": [
        "df5.iloc[125 , :]"
      ],
      "metadata": {
        "id": "zwWNoC3U0e0D"
      },
      "execution_count": null,
      "outputs": []
    },
    {
      "cell_type": "code",
      "source": [
        "df5.loc[df5.identificacao == 76] "
      ],
      "metadata": {
        "id": "qiS4uP8j0e0D"
      },
      "execution_count": null,
      "outputs": []
    },
    {
      "cell_type": "code",
      "source": [
        "grupo0 = df5.loc[df5.Grupo == 0]\n",
        "grupo0 "
      ],
      "metadata": {
        "id": "7c_KuFUv0e0E"
      },
      "execution_count": null,
      "outputs": []
    },
    {
      "cell_type": "code",
      "source": [
        "grupo0.shape"
      ],
      "metadata": {
        "id": "mWdLsqM30e0E"
      },
      "execution_count": null,
      "outputs": []
    },
    {
      "cell_type": "markdown",
      "source": [
        "## **ALGORITMO HIERÁRQUICO COM PCA**"
      ],
      "metadata": {
        "id": "a8-uQCMz0e0F"
      }
    },
    {
      "cell_type": "markdown",
      "source": [
        "https://scikit-learn.org/stable/modules/generated/sklearn.cluster.AgglomerativeClustering.html "
      ],
      "metadata": {
        "id": "x2vPbgMuJJPi"
      }
    },
    {
      "cell_type": "code",
      "source": [
        "df2.head()"
      ],
      "metadata": {
        "id": "Ii5XArTOX8gQ"
      },
      "execution_count": null,
      "outputs": []
    },
    {
      "cell_type": "code",
      "source": [
        "df2_esc"
      ],
      "metadata": {
        "id": "ljtUSFih90lf"
      },
      "execution_count": null,
      "outputs": []
    },
    {
      "cell_type": "code",
      "source": [
        "df2_esc.shape"
      ],
      "metadata": {
        "id": "ntYuM-li78x5"
      },
      "execution_count": null,
      "outputs": []
    },
    {
      "cell_type": "markdown",
      "source": [
        "**Componentes Principais**"
      ],
      "metadata": {
        "id": "kRbfqOzT7_VI"
      }
    },
    {
      "cell_type": "code",
      "source": [
        "from sklearn.decomposition import PCA"
      ],
      "metadata": {
        "id": "TlSJepO878x8"
      },
      "execution_count": null,
      "outputs": []
    },
    {
      "cell_type": "code",
      "source": [
        "pca = PCA(n_components = 2)"
      ],
      "metadata": {
        "id": "-n-Xr2rh78x9"
      },
      "execution_count": null,
      "outputs": []
    },
    {
      "cell_type": "code",
      "source": [
        "df2_pca = pca.fit_transform(df2_esc)"
      ],
      "metadata": {
        "id": "kIz83olU78x9"
      },
      "execution_count": null,
      "outputs": []
    },
    {
      "cell_type": "code",
      "source": [
        "df2_pca"
      ],
      "metadata": {
        "id": "Q5G5gWjk78x-"
      },
      "execution_count": null,
      "outputs": []
    },
    {
      "cell_type": "markdown",
      "source": [
        "**Dendograma**"
      ],
      "metadata": {
        "id": "WhSS6kvv-C3h"
      }
    },
    {
      "cell_type": "code",
      "source": [
        "import matplotlib.pyplot as plt\n",
        "from scipy.cluster.hierarchy import dendrogram, linkage"
      ],
      "metadata": {
        "id": "aKUpnNYu5nwT"
      },
      "execution_count": null,
      "outputs": []
    },
    {
      "cell_type": "code",
      "source": [
        "dendrograma = dendrogram(linkage(df2_pca, method = 'complete'))"
      ],
      "metadata": {
        "id": "Ieor4uK45U90"
      },
      "execution_count": null,
      "outputs": []
    },
    {
      "cell_type": "code",
      "source": [
        "from sklearn.cluster import AgglomerativeClustering"
      ],
      "metadata": {
        "id": "HOf34UC37wim"
      },
      "execution_count": null,
      "outputs": []
    },
    {
      "cell_type": "code",
      "metadata": {
        "id": "1AN6L6cz-SkN"
      },
      "source": [
        "hier = AgglomerativeClustering(n_clusters=3, affinity='euclidean', linkage = 'complete')\n",
        "classificacao4 = hier.fit_predict(df2_pca)"
      ],
      "execution_count": null,
      "outputs": []
    },
    {
      "cell_type": "code",
      "metadata": {
        "id": "TfBoJa5L-fad"
      },
      "source": [
        "classificacao4"
      ],
      "execution_count": null,
      "outputs": []
    },
    {
      "cell_type": "code",
      "source": [
        "import plotly.express as px"
      ],
      "metadata": {
        "id": "hmFGpfqd79iT"
      },
      "execution_count": null,
      "outputs": []
    },
    {
      "cell_type": "code",
      "source": [
        "graf = px.scatter(x = df2_pca[:,0], y = df2_pca[:,1], color=classificacao4)\n",
        "graf.update_layout(width=800,height=500,title_text='Agrupamento Hierárquico')\n",
        "graf.show()"
      ],
      "metadata": {
        "id": "56h38krX79iV"
      },
      "execution_count": null,
      "outputs": []
    },
    {
      "cell_type": "markdown",
      "source": [
        "**Agrupamento**"
      ],
      "metadata": {
        "id": "CDa4HtVj8l4Y"
      }
    },
    {
      "cell_type": "code",
      "source": [
        "agrupamento4 = pd.DataFrame(classificacao4, columns = ['Grupo'])\n",
        "agrupamento4"
      ],
      "metadata": {
        "id": "CDOknDo38i9n"
      },
      "execution_count": null,
      "outputs": []
    },
    {
      "cell_type": "code",
      "source": [
        "df6 = pd.concat([df, agrupamento4],axis=1)\n",
        "df6"
      ],
      "metadata": {
        "id": "bkSe6nCF8i9o"
      },
      "execution_count": null,
      "outputs": []
    },
    {
      "cell_type": "code",
      "source": [
        "df6.loc[df6.identificacao == 22] "
      ],
      "metadata": {
        "id": "mfH0GI8F8i9q"
      },
      "execution_count": null,
      "outputs": []
    },
    {
      "cell_type": "code",
      "source": [
        "grupo2 = df6.loc[df6.Grupo == 2]\n",
        "grupo2 "
      ],
      "metadata": {
        "id": "lUpu9id-8i9q"
      },
      "execution_count": null,
      "outputs": []
    },
    {
      "cell_type": "markdown",
      "source": [
        "## **ALGORITMO HIERÁRQUICO: todos atributos**\n",
        "\n",
        "\n",
        "\n",
        "\n"
      ],
      "metadata": {
        "id": "nHawQMs89sBv"
      }
    },
    {
      "cell_type": "code",
      "source": [
        "df2.head()"
      ],
      "metadata": {
        "id": "2HZgLiHQlou2"
      },
      "execution_count": null,
      "outputs": []
    },
    {
      "cell_type": "code",
      "source": [
        "df2_esc"
      ],
      "metadata": {
        "id": "aU64HSGL9sBx"
      },
      "execution_count": null,
      "outputs": []
    },
    {
      "cell_type": "code",
      "source": [
        "df2_esc.shape"
      ],
      "metadata": {
        "id": "GvcYljzo9sBy"
      },
      "execution_count": null,
      "outputs": []
    },
    {
      "cell_type": "markdown",
      "source": [
        "**Dendograma**"
      ],
      "metadata": {
        "id": "rDJzoa2D-MbQ"
      }
    },
    {
      "cell_type": "code",
      "source": [
        "import matplotlib.pyplot as plt\n",
        "from scipy.cluster.hierarchy import dendrogram, linkage"
      ],
      "metadata": {
        "id": "VLm2BNlv9sBx"
      },
      "execution_count": null,
      "outputs": []
    },
    {
      "cell_type": "code",
      "source": [
        "dendrograma = dendrogram(linkage(df2_esc, method = 'average'))"
      ],
      "metadata": {
        "id": "QTBnxz_J9sB1"
      },
      "execution_count": null,
      "outputs": []
    },
    {
      "cell_type": "code",
      "source": [
        "from sklearn.cluster import AgglomerativeClustering"
      ],
      "metadata": {
        "id": "ymTB91459sB2"
      },
      "execution_count": null,
      "outputs": []
    },
    {
      "cell_type": "code",
      "metadata": {
        "id": "1vrGzMSK9sB2"
      },
      "source": [
        "hier = AgglomerativeClustering(n_clusters=7, affinity='euclidean', linkage = 'average')\n",
        "classificacao5 = hier.fit_predict(df2_esc)"
      ],
      "execution_count": null,
      "outputs": []
    },
    {
      "cell_type": "code",
      "metadata": {
        "id": "_zoU34yK9sB3"
      },
      "source": [
        "classificacao5"
      ],
      "execution_count": null,
      "outputs": []
    },
    {
      "cell_type": "markdown",
      "source": [
        "**Agrupamento**"
      ],
      "metadata": {
        "id": "su34SbhO9sB4"
      }
    },
    {
      "cell_type": "code",
      "source": [
        "agrupamento5 = pd.DataFrame(classificacao5, columns = ['Grupo'])\n",
        "agrupamento5"
      ],
      "metadata": {
        "id": "VgPBp91_9sB5"
      },
      "execution_count": null,
      "outputs": []
    },
    {
      "cell_type": "code",
      "source": [
        "df7 = pd.concat([df, agrupamento5],axis=1)\n",
        "df7"
      ],
      "metadata": {
        "id": "qMOFBccb9sB5"
      },
      "execution_count": null,
      "outputs": []
    },
    {
      "cell_type": "code",
      "source": [
        "df7.loc[df7.identificacao == 131]"
      ],
      "metadata": {
        "id": "5mGCvaTK9sB6"
      },
      "execution_count": null,
      "outputs": []
    },
    {
      "cell_type": "code",
      "source": [
        "grupo4 = df7.loc[df7.Grupo == 6]\n",
        "grupo4.head(2)"
      ],
      "metadata": {
        "id": "X-wWkvCj9sB7"
      },
      "execution_count": null,
      "outputs": []
    },
    {
      "cell_type": "code",
      "source": [
        "grupo4.shape"
      ],
      "metadata": {
        "id": "EMHY7rn9_iQH"
      },
      "execution_count": null,
      "outputs": []
    },
    {
      "cell_type": "markdown",
      "source": [
        "## **ALGORITMO DBSCAN COM PCA**"
      ],
      "metadata": {
        "id": "O5-EwCdnBgBb"
      }
    },
    {
      "cell_type": "markdown",
      "source": [
        "https://scikit-learn.org/stable/modules/generated/sklearn.cluster.DBSCAN.html "
      ],
      "metadata": {
        "id": "ZAXoGI7pLylK"
      }
    },
    {
      "cell_type": "code",
      "source": [
        "df2_esc"
      ],
      "metadata": {
        "id": "yTXitQ0fBgBc"
      },
      "execution_count": null,
      "outputs": []
    },
    {
      "cell_type": "code",
      "source": [
        "df2_esc.shape"
      ],
      "metadata": {
        "id": "nXL-PY5EBgBd"
      },
      "execution_count": null,
      "outputs": []
    },
    {
      "cell_type": "markdown",
      "source": [
        "**Componentes Principais**"
      ],
      "metadata": {
        "id": "QwaIvBhABgBe"
      }
    },
    {
      "cell_type": "code",
      "source": [
        "from sklearn.decomposition import PCA"
      ],
      "metadata": {
        "id": "bUau0xFYBgBe"
      },
      "execution_count": null,
      "outputs": []
    },
    {
      "cell_type": "code",
      "source": [
        "pca = PCA(n_components = 2)"
      ],
      "metadata": {
        "id": "xJxtP0q5BgBf"
      },
      "execution_count": null,
      "outputs": []
    },
    {
      "cell_type": "code",
      "source": [
        "df2_pca = pca.fit_transform(df2_esc)"
      ],
      "metadata": {
        "id": "-nY_BZ-dBgBf"
      },
      "execution_count": null,
      "outputs": []
    },
    {
      "cell_type": "code",
      "source": [
        "df2_pca"
      ],
      "metadata": {
        "id": "1SRryDS4BgBg"
      },
      "execution_count": null,
      "outputs": []
    },
    {
      "cell_type": "code",
      "source": [
        "from sklearn.cluster import DBSCAN"
      ],
      "metadata": {
        "id": "wQfTPFoUBgBi"
      },
      "execution_count": null,
      "outputs": []
    },
    {
      "cell_type": "code",
      "metadata": {
        "id": "cbT6Bd8aBgBi"
      },
      "source": [
        "dbscan = DBSCAN(eps = 0.32, min_samples=4)\n",
        "dbscan.fit(df2_pca)"
      ],
      "execution_count": null,
      "outputs": []
    },
    {
      "cell_type": "code",
      "source": [
        "classificacao6 = dbscan.labels_\n",
        "classificacao6"
      ],
      "metadata": {
        "id": "rPXzTru_CSyu"
      },
      "execution_count": null,
      "outputs": []
    },
    {
      "cell_type": "code",
      "source": [
        "import plotly.express as px"
      ],
      "metadata": {
        "id": "hcPhnzzPBgBj"
      },
      "execution_count": null,
      "outputs": []
    },
    {
      "cell_type": "code",
      "source": [
        "graf = px.scatter(x = df2_pca[:,0], y = df2_pca[:,1], color=classificacao6)\n",
        "graf.update_layout(width=800,height=500,title_text='Agrupamento DBSCAN')\n",
        "graf.show()"
      ],
      "metadata": {
        "id": "00KyF5MkBgBk"
      },
      "execution_count": null,
      "outputs": []
    },
    {
      "cell_type": "markdown",
      "source": [
        "**Agrupamento**"
      ],
      "metadata": {
        "id": "cAIznYv_BgBk"
      }
    },
    {
      "cell_type": "code",
      "source": [
        "agrupamento6 = pd.DataFrame(classificacao6, columns = ['Grupo'])\n",
        "agrupamento6"
      ],
      "metadata": {
        "id": "eWjIORe2BgBl"
      },
      "execution_count": null,
      "outputs": []
    },
    {
      "cell_type": "code",
      "source": [
        "df8 = pd.concat([df, agrupamento6],axis=1)\n",
        "df8"
      ],
      "metadata": {
        "id": "dugWabRCBgBl"
      },
      "execution_count": null,
      "outputs": []
    },
    {
      "cell_type": "code",
      "source": [
        "df8.loc[df8.identificacao == 5] "
      ],
      "metadata": {
        "id": "ffDWdASHBgBm"
      },
      "execution_count": null,
      "outputs": []
    },
    {
      "cell_type": "code",
      "source": [
        "ruido = df8.loc[df8.Grupo == -1]\n",
        "ruido "
      ],
      "metadata": {
        "id": "aybcZvfmBgBn"
      },
      "execution_count": null,
      "outputs": []
    },
    {
      "cell_type": "code",
      "source": [
        "ruido.shape"
      ],
      "metadata": {
        "id": "4LCdujhiyOl0"
      },
      "execution_count": null,
      "outputs": []
    },
    {
      "cell_type": "markdown",
      "source": [
        "## **ALGORITMO DBSCAN: todos atributos**"
      ],
      "metadata": {
        "id": "b0GeDSCv1cA5"
      }
    },
    {
      "cell_type": "code",
      "source": [
        "df2_esc"
      ],
      "metadata": {
        "id": "MCgPQx6r1cA7"
      },
      "execution_count": null,
      "outputs": []
    },
    {
      "cell_type": "code",
      "source": [
        "df2_esc.shape"
      ],
      "metadata": {
        "id": "8PwnBaNy1cA7"
      },
      "execution_count": null,
      "outputs": []
    },
    {
      "cell_type": "code",
      "source": [
        "from sklearn.cluster import DBSCAN"
      ],
      "metadata": {
        "id": "MxqM2YdQ1cA-"
      },
      "execution_count": null,
      "outputs": []
    },
    {
      "cell_type": "code",
      "metadata": {
        "id": "nhqrK4Si1cA-"
      },
      "source": [
        "dbscan = DBSCAN(eps = 0.73, min_samples=4)\n",
        "dbscan.fit(df2_esc)"
      ],
      "execution_count": null,
      "outputs": []
    },
    {
      "cell_type": "code",
      "source": [
        "classificacao7 = dbscan.labels_\n",
        "classificacao7"
      ],
      "metadata": {
        "id": "AXrUcH6J1cA_"
      },
      "execution_count": null,
      "outputs": []
    },
    {
      "cell_type": "markdown",
      "source": [
        "**Agrupamento**"
      ],
      "metadata": {
        "id": "1Wd8WWlq1cBA"
      }
    },
    {
      "cell_type": "code",
      "source": [
        "agrupamento7 = pd.DataFrame(classificacao7, columns = ['Grupo'])\n",
        "agrupamento7"
      ],
      "metadata": {
        "id": "tx0ap37H1cBB"
      },
      "execution_count": null,
      "outputs": []
    },
    {
      "cell_type": "code",
      "source": [
        "df9 = pd.concat([df, agrupamento7],axis=1)\n",
        "df9"
      ],
      "metadata": {
        "id": "wGftEOQL1cBB"
      },
      "execution_count": null,
      "outputs": []
    },
    {
      "cell_type": "code",
      "source": [
        "df9.loc[df9.identificacao == 127] "
      ],
      "metadata": {
        "id": "0tikmLlS1cBB"
      },
      "execution_count": null,
      "outputs": []
    },
    {
      "cell_type": "code",
      "source": [
        "ruido = df9.loc[df9.Grupo == -1]\n",
        "ruido "
      ],
      "metadata": {
        "id": "Vlkow2yC1cBC"
      },
      "execution_count": null,
      "outputs": []
    },
    {
      "cell_type": "code",
      "source": [
        "ruido.shape"
      ],
      "metadata": {
        "id": "UQ-Uk1z00_6n"
      },
      "execution_count": null,
      "outputs": []
    },
    {
      "cell_type": "code",
      "source": [
        "grupo = df9.loc[df9.Grupo == 1]\n",
        "grupo.shape"
      ],
      "metadata": {
        "id": "ToVgDn3E1ExN"
      },
      "execution_count": null,
      "outputs": []
    },
    {
      "cell_type": "markdown",
      "source": [
        "## **ALGORITMO MEANSHIFT COM PCA**"
      ],
      "metadata": {
        "id": "rxXUeesH4cZc"
      }
    },
    {
      "cell_type": "markdown",
      "source": [
        "https://scikit-learn.org/stable/modules/generated/sklearn.cluster.MeanShift.html"
      ],
      "metadata": {
        "id": "Eeat9rN64cZd"
      }
    },
    {
      "cell_type": "code",
      "source": [
        "df2_esc"
      ],
      "metadata": {
        "id": "faTVluMZ4cZd"
      },
      "execution_count": null,
      "outputs": []
    },
    {
      "cell_type": "code",
      "source": [
        "df2_esc.shape"
      ],
      "metadata": {
        "id": "glkVgs7e4cZd"
      },
      "execution_count": null,
      "outputs": []
    },
    {
      "cell_type": "markdown",
      "source": [
        "**Componentes Principais**"
      ],
      "metadata": {
        "id": "x7wQ4o7m4cZd"
      }
    },
    {
      "cell_type": "code",
      "source": [
        "from sklearn.decomposition import PCA"
      ],
      "metadata": {
        "id": "p3wYSHWz4cZe"
      },
      "execution_count": null,
      "outputs": []
    },
    {
      "cell_type": "code",
      "source": [
        "pca = PCA(n_components = 2)"
      ],
      "metadata": {
        "id": "LPhLF7m34cZe"
      },
      "execution_count": null,
      "outputs": []
    },
    {
      "cell_type": "code",
      "source": [
        "df2_pca = pca.fit_transform(df2_esc)"
      ],
      "metadata": {
        "id": "-uFbBkjA4cZe"
      },
      "execution_count": null,
      "outputs": []
    },
    {
      "cell_type": "code",
      "source": [
        "df2_pca"
      ],
      "metadata": {
        "id": "Rxv2wJ264cZe"
      },
      "execution_count": null,
      "outputs": []
    },
    {
      "cell_type": "markdown",
      "source": [
        "**MeanShift**"
      ],
      "metadata": {
        "id": "xp5KhWP3XfbD"
      }
    },
    {
      "cell_type": "code",
      "source": [
        "from sklearn.cluster import MeanShift"
      ],
      "metadata": {
        "id": "jdQIf5av4cZe"
      },
      "execution_count": null,
      "outputs": []
    },
    {
      "cell_type": "code",
      "metadata": {
        "id": "X3Vb3Jvc4cZe"
      },
      "source": [
        "mean = MeanShift(bandwidth=1, cluster_all=True)"
      ],
      "execution_count": null,
      "outputs": []
    },
    {
      "cell_type": "code",
      "source": [
        "mean.fit(df2_pca)"
      ],
      "metadata": {
        "id": "wPzcYdfo5IM8"
      },
      "execution_count": null,
      "outputs": []
    },
    {
      "cell_type": "code",
      "source": [
        "classificacao8 = mean.labels_\n",
        "classificacao8"
      ],
      "metadata": {
        "id": "urJbYO8_4cZf"
      },
      "execution_count": null,
      "outputs": []
    },
    {
      "cell_type": "code",
      "source": [
        "import plotly.express as px"
      ],
      "metadata": {
        "id": "Ytbw059M4cZf"
      },
      "execution_count": null,
      "outputs": []
    },
    {
      "cell_type": "code",
      "source": [
        "graf = px.scatter(x = df2_pca[:,0], y = df2_pca[:,1], color=classificacao8)\n",
        "graf.update_layout(width=800,height=500,title_text='Agrupamento MeanShift')\n",
        "graf.show()"
      ],
      "metadata": {
        "id": "H7KnG8JJ4cZf"
      },
      "execution_count": null,
      "outputs": []
    },
    {
      "cell_type": "markdown",
      "source": [
        "**Agrupamento**"
      ],
      "metadata": {
        "id": "tc7lcrs-4cZf"
      }
    },
    {
      "cell_type": "code",
      "source": [
        "agrupamento8 = pd.DataFrame(classificacao8, columns = ['Grupo'])\n",
        "agrupamento8"
      ],
      "metadata": {
        "id": "XK7tguOi4cZf"
      },
      "execution_count": null,
      "outputs": []
    },
    {
      "cell_type": "code",
      "source": [
        "df9 = pd.concat([df, agrupamento8],axis=1)\n",
        "df9"
      ],
      "metadata": {
        "id": "D6G0g90e4cZg"
      },
      "execution_count": null,
      "outputs": []
    },
    {
      "cell_type": "code",
      "source": [
        "df9.loc[df9.identificacao == 19] "
      ],
      "metadata": {
        "id": "1y4PmoTr4cZg"
      },
      "execution_count": null,
      "outputs": []
    },
    {
      "cell_type": "code",
      "source": [
        "ruido = df9.loc[df9.Grupo == -1]\n",
        "ruido "
      ],
      "metadata": {
        "id": "oeOzOg9S4cZg"
      },
      "execution_count": null,
      "outputs": []
    },
    {
      "cell_type": "code",
      "source": [
        "grupo = df9.loc[df9.Grupo == 3]\n",
        "grupo.shape"
      ],
      "metadata": {
        "id": "ksC1VmsqaOer"
      },
      "execution_count": null,
      "outputs": []
    },
    {
      "cell_type": "markdown",
      "source": [
        "## **ALGORITMO MEANSHIFT: todos atributos**"
      ],
      "metadata": {
        "id": "LPSZ9LAU4cZg"
      }
    },
    {
      "cell_type": "code",
      "source": [
        "df2_esc"
      ],
      "metadata": {
        "id": "dYKMJ9WPG2jf"
      },
      "execution_count": null,
      "outputs": []
    },
    {
      "cell_type": "code",
      "source": [
        "df2"
      ],
      "metadata": {
        "id": "UIWnx7YzG2jn"
      },
      "execution_count": null,
      "outputs": []
    },
    {
      "cell_type": "code",
      "source": [
        "df2_esc.shape"
      ],
      "metadata": {
        "id": "kz7OQAtOG2jo"
      },
      "execution_count": null,
      "outputs": []
    },
    {
      "cell_type": "code",
      "source": [
        "from sklearn.cluster import MeanShift"
      ],
      "metadata": {
        "id": "mqpk159XHGqW"
      },
      "execution_count": null,
      "outputs": []
    },
    {
      "cell_type": "code",
      "metadata": {
        "id": "p8Ydb7H0HGqX"
      },
      "source": [
        "mean = MeanShift(bandwidth=1.5, cluster_all=True)"
      ],
      "execution_count": null,
      "outputs": []
    },
    {
      "cell_type": "code",
      "source": [
        "mean.fit(df2_esc)"
      ],
      "metadata": {
        "id": "X3XFkcQ4HGqY"
      },
      "execution_count": null,
      "outputs": []
    },
    {
      "cell_type": "code",
      "source": [
        "classificacao9 = mean.labels_\n",
        "classificacao9"
      ],
      "metadata": {
        "id": "_sXhWx0vG2jq"
      },
      "execution_count": null,
      "outputs": []
    },
    {
      "cell_type": "markdown",
      "source": [
        "**Agrupamento**"
      ],
      "metadata": {
        "id": "H5m91Jc5G2jq"
      }
    },
    {
      "cell_type": "code",
      "source": [
        "agrupamento9 = pd.DataFrame(classificacao9, columns = ['Grupo'])\n",
        "agrupamento9"
      ],
      "metadata": {
        "id": "ek70yriRG2jr"
      },
      "execution_count": null,
      "outputs": []
    },
    {
      "cell_type": "code",
      "source": [
        "df10 = pd.concat([df, agrupamento9],axis=1)\n",
        "df10"
      ],
      "metadata": {
        "id": "1t1-R6YNG2js"
      },
      "execution_count": null,
      "outputs": []
    },
    {
      "cell_type": "code",
      "source": [
        "df10.loc[df10.identificacao == 45] "
      ],
      "metadata": {
        "id": "JyTKLU4kG2js"
      },
      "execution_count": null,
      "outputs": []
    },
    {
      "cell_type": "code",
      "source": [
        "grupo = df10.loc[df10.Grupo == 4]\n",
        "grupo.shape"
      ],
      "metadata": {
        "id": "WA73SYArcnKb"
      },
      "execution_count": null,
      "outputs": []
    },
    {
      "cell_type": "markdown",
      "source": [
        "## **K-PROTOTYPES**"
      ],
      "metadata": {
        "id": "fGeOjJIGSxje"
      }
    },
    {
      "cell_type": "markdown",
      "source": [
        "Algoritmo para agrupamento de dados mistos (categóricos e numéricos). Documentação: https://pypi.org/project/kmodes/\n",
        "\n",
        "---\n",
        "\n"
      ],
      "metadata": {
        "id": "UBbMlcUNGjUP"
      }
    },
    {
      "cell_type": "code",
      "source": [
        "df.head()"
      ],
      "metadata": {
        "id": "kefbt73fSxGE"
      },
      "execution_count": null,
      "outputs": []
    },
    {
      "cell_type": "code",
      "source": [
        "dados= df[['genero','idade','rendimento', 'pontuacao']]\n",
        "dados"
      ],
      "metadata": {
        "id": "4SWG0tCsJ5Jh"
      },
      "execution_count": null,
      "outputs": []
    },
    {
      "cell_type": "code",
      "source": [
        "pip install kmodes"
      ],
      "metadata": {
        "id": "YGYHy400LzIH"
      },
      "execution_count": null,
      "outputs": []
    },
    {
      "cell_type": "code",
      "source": [
        "from kmodes.kprototypes import KPrototypes"
      ],
      "metadata": {
        "id": "DiyH4dGmLfJ_"
      },
      "execution_count": null,
      "outputs": []
    },
    {
      "cell_type": "code",
      "source": [
        "kproto = KPrototypes(n_clusters= 4)"
      ],
      "metadata": {
        "id": "R4oFBnxzLflo"
      },
      "execution_count": null,
      "outputs": []
    },
    {
      "cell_type": "code",
      "source": [
        "kproto1 = kproto.fit_predict(dados, categorical=[0])"
      ],
      "metadata": {
        "id": "NhX1qZ2ZLiO1"
      },
      "execution_count": null,
      "outputs": []
    },
    {
      "cell_type": "code",
      "source": [
        "kproto1"
      ],
      "metadata": {
        "id": "JGlMf6SrTT8k"
      },
      "execution_count": null,
      "outputs": []
    },
    {
      "cell_type": "code",
      "source": [
        "kproto1[4]"
      ],
      "metadata": {
        "id": "z0-pxdsuThGJ"
      },
      "execution_count": null,
      "outputs": []
    },
    {
      "cell_type": "code",
      "source": [
        "agrupamento = pd.DataFrame(kproto1, columns = ['grupo'])\n",
        "agrupamento"
      ],
      "metadata": {
        "id": "9mUIs-UoTlMZ"
      },
      "execution_count": null,
      "outputs": []
    },
    {
      "cell_type": "code",
      "source": [
        "df_final = pd.concat([df, agrupamento],axis=1)"
      ],
      "metadata": {
        "id": "RL-zBm4TT0VI"
      },
      "execution_count": null,
      "outputs": []
    },
    {
      "cell_type": "code",
      "source": [
        "df_final.head()"
      ],
      "metadata": {
        "id": "aqVV-4uKUnj-"
      },
      "execution_count": null,
      "outputs": []
    },
    {
      "cell_type": "code",
      "source": [
        "df_final.iloc[132 , :]"
      ],
      "metadata": {
        "id": "5LlRuMO1U0SN"
      },
      "execution_count": null,
      "outputs": []
    },
    {
      "cell_type": "code",
      "source": [
        "grupo = df_final.loc[df_final.grupo ==3]\n",
        "grupo.head()"
      ],
      "metadata": {
        "id": "0yaEJ1TOU95g"
      },
      "execution_count": null,
      "outputs": []
    },
    {
      "cell_type": "code",
      "source": [
        "grupo.shape"
      ],
      "metadata": {
        "id": "tdBpUTehVHV-"
      },
      "execution_count": null,
      "outputs": []
    },
    {
      "cell_type": "markdown",
      "source": [
        "## **K-MODES**"
      ],
      "metadata": {
        "id": "8TSQqqrQpEdy"
      }
    },
    {
      "cell_type": "markdown",
      "source": [
        "Algoritmo para agrupamento de dados categóricos. Documentação: https://pypi.org/project/kmodes/"
      ],
      "metadata": {
        "id": "Sy2s_M1dV8do"
      }
    },
    {
      "cell_type": "markdown",
      "source": [
        "https://www.kaggle.com/datasets/yukeshmarudhasalam/bankmarketing "
      ],
      "metadata": {
        "id": "qAXAdeG5q7AB"
      }
    },
    {
      "cell_type": "code",
      "metadata": {
        "id": "J1pA-Oi7a8a3"
      },
      "source": [
        "import numpy as np\n",
        "import pandas as pd"
      ],
      "execution_count": null,
      "outputs": []
    },
    {
      "cell_type": "code",
      "source": [
        "import warnings\n",
        "warnings.filterwarnings(\"ignore\")"
      ],
      "metadata": {
        "id": "9-FCwLH-a8a5"
      },
      "execution_count": null,
      "outputs": []
    },
    {
      "cell_type": "code",
      "metadata": {
        "id": "GOnQ1ousa8a6"
      },
      "source": [
        "df = pd.read_csv('/content/drive/MyDrive/Cursos_Udemy/Machine_Learning_com_Python/bankmarketing.csv',\n",
        "                    sep=',', encoding='iso-8859-1')"
      ],
      "execution_count": null,
      "outputs": []
    },
    {
      "cell_type": "code",
      "source": [
        "df.head()"
      ],
      "metadata": {
        "id": "HnPB-u58bKmk"
      },
      "execution_count": null,
      "outputs": []
    },
    {
      "cell_type": "code",
      "source": [
        "df.shape"
      ],
      "metadata": {
        "id": "k5LBxaOV_zBy"
      },
      "execution_count": null,
      "outputs": []
    },
    {
      "cell_type": "code",
      "source": [
        "df.columns"
      ],
      "metadata": {
        "id": "DboPtFlObrBO"
      },
      "execution_count": null,
      "outputs": []
    },
    {
      "cell_type": "code",
      "source": [
        "df.dtypes"
      ],
      "metadata": {
        "id": "AWzzpMm6NXLC"
      },
      "execution_count": null,
      "outputs": []
    },
    {
      "cell_type": "markdown",
      "source": [
        "**Variáveis**\n",
        "\n",
        "**age** : idade (numérica)\n",
        "\n",
        "**job** : tipo de trabalho (categorias: 'admin.','blue-collar','entrepreneur(empreendedor)','housemaid','management (gestão)','retired (aposentado)','self-employed (autônomo)','services','student','technician','unemployed (desempregado)','unknown')\n",
        "\n",
        "**marital** : estado civil (categorias: 'divorced','married','single','unknown'; obs.: 'divorced' significa divorciado ou viúvo (a))\n",
        "\n",
        "**education**: nível escolar (categorias: 'basic.4y','basic.6y','basic.9y','high.school','illiterate','professional.course','university.degree','unknown')\n",
        "\n",
        "**default**: inadimplência (categorias: 'no','yes','unknown')\n",
        "\n",
        "**housing**: crédito de habitação (categorias: 'no','yes','unknown')\n",
        "\n",
        "**loan**: empréstimo pessoal (categorias: 'no','yes','unknown')\n",
        "\n",
        "**contact**: contato (categorias: 'cellular','telephone')\n",
        "\n",
        "**month**: último mês de contato (categorias: 'jan', 'feb', 'mar', 'april', 'may', 'jun', 'jul', 'aug', 'sep', 'oct', 'nov', 'dec')\n",
        "\n",
        "**day_of_week**: último dia de contato (categorical: 'mon','tue','wed','thu','fri')\n",
        "\n",
        "**poutcome:** resultado do marketing anterior (categorical: 'failure','nonexistent','success')"
      ],
      "metadata": {
        "id": "xTyyVFdg331C"
      }
    },
    {
      "cell_type": "code",
      "source": [
        "df2 = df[['age','job', 'marital', 'education', 'default', 'housing', 'loan','contact','month','day_of_week','poutcome']]\n",
        "df2"
      ],
      "metadata": {
        "id": "zbRGgfSEuyJk"
      },
      "execution_count": null,
      "outputs": []
    },
    {
      "cell_type": "code",
      "source": [
        "df3 = df2.copy()"
      ],
      "metadata": {
        "id": "qnt_hkYtMz3q"
      },
      "execution_count": null,
      "outputs": []
    },
    {
      "cell_type": "code",
      "source": [
        "df3['faixa_idade'] = pd.cut(df3['age'], [0, 20, 30, 40, 50, 60, 70, 80, 90, 100], \n",
        "                              labels=['0-20', '20-30', '30-40', '40-50','50-60','60-70','70-80', '80-90','90-100'])"
      ],
      "metadata": {
        "id": "tqs_KhtR8dlo"
      },
      "execution_count": null,
      "outputs": []
    },
    {
      "cell_type": "code",
      "source": [
        "df3  = df3.drop('age',axis = 1)"
      ],
      "metadata": {
        "id": "bMn8x7L5Z6Eo"
      },
      "execution_count": null,
      "outputs": []
    },
    {
      "cell_type": "code",
      "source": [
        "df3.head(30)"
      ],
      "metadata": {
        "id": "qw4PTh0181Po"
      },
      "execution_count": null,
      "outputs": []
    },
    {
      "cell_type": "code",
      "source": [
        "df3.dtypes"
      ],
      "metadata": {
        "id": "h_FW5rhnAQjO"
      },
      "execution_count": null,
      "outputs": []
    },
    {
      "cell_type": "code",
      "source": [
        "df3.isnull().sum()"
      ],
      "metadata": {
        "id": "wYWAljo_9Czm"
      },
      "execution_count": null,
      "outputs": []
    },
    {
      "cell_type": "markdown",
      "source": [
        "### **Pré-processamento**"
      ],
      "metadata": {
        "id": "FSJ5rQv9TvoI"
      }
    },
    {
      "cell_type": "markdown",
      "source": [
        "**Transformação para codificação numérica**"
      ],
      "metadata": {
        "id": "3SQ7ZdUbcymf"
      }
    },
    {
      "cell_type": "code",
      "source": [
        "from sklearn import preprocessing\n",
        "df4 = df3.apply(preprocessing.LabelEncoder().fit_transform)\n",
        "df4.head()"
      ],
      "metadata": {
        "id": "XAmAjHTuBB_6"
      },
      "execution_count": null,
      "outputs": []
    },
    {
      "cell_type": "markdown",
      "source": [
        "### **Instalação**"
      ],
      "metadata": {
        "id": "h2OyYFATUG7N"
      }
    },
    {
      "cell_type": "code",
      "source": [
        "pip install kmodes"
      ],
      "metadata": {
        "id": "Pk8tlQVRCMOH"
      },
      "execution_count": null,
      "outputs": []
    },
    {
      "cell_type": "code",
      "source": [
        "from kmodes.kmodes import KModes"
      ],
      "metadata": {
        "id": "yeOlBx-aBd6O"
      },
      "execution_count": null,
      "outputs": []
    },
    {
      "cell_type": "code",
      "source": [
        "?KModes"
      ],
      "metadata": {
        "id": "UWxY3oj1CR4W"
      },
      "execution_count": null,
      "outputs": []
    },
    {
      "cell_type": "markdown",
      "source": [
        "### **NÚMERO DE CLUSTERS \"IDEAL\"**"
      ],
      "metadata": {
        "id": "RQOPPeKZE6YV"
      }
    },
    {
      "cell_type": "code",
      "source": [
        "custo = []\n",
        "for num_clusters in list(range(1,10)):\n",
        "    kmode = KModes(n_clusters=num_clusters, n_init = 2, verbose=1)\n",
        "    kmode.fit_predict(df4)\n",
        "    custo.append(kmode.cost_)"
      ],
      "metadata": {
        "id": "v7iQvSCOE6YW"
      },
      "execution_count": null,
      "outputs": []
    },
    {
      "cell_type": "code",
      "source": [
        "import matplotlib.pyplot as plt\n",
        "y = np.array([i for i in range(1,10,1)])\n",
        "plt.plot(y,custo);"
      ],
      "metadata": {
        "id": "XnmghpALGTRm"
      },
      "execution_count": null,
      "outputs": []
    },
    {
      "cell_type": "code",
      "source": [
        "kmd = KModes(n_clusters=4, verbose=1)\n",
        "kmd1 = kmd.fit_predict(df4)"
      ],
      "metadata": {
        "id": "n0gRmgGdHuwD"
      },
      "execution_count": null,
      "outputs": []
    },
    {
      "cell_type": "code",
      "source": [
        "kmd1"
      ],
      "metadata": {
        "id": "VX0Pc7uzIln4"
      },
      "execution_count": null,
      "outputs": []
    },
    {
      "cell_type": "code",
      "source": [
        "kmd1[40000]"
      ],
      "metadata": {
        "id": "LDwHiC5vJ0B-"
      },
      "execution_count": null,
      "outputs": []
    },
    {
      "cell_type": "code",
      "source": [
        "agrupamento = pd.DataFrame(kmd1, columns = ['grupo'])\n",
        "agrupamento"
      ],
      "metadata": {
        "id": "70tQ6RjpKz7B"
      },
      "execution_count": null,
      "outputs": []
    },
    {
      "cell_type": "code",
      "source": [
        "df5 = pd.concat([df2, agrupamento],axis=1)"
      ],
      "metadata": {
        "id": "aGr_5uBuKz7D"
      },
      "execution_count": null,
      "outputs": []
    },
    {
      "cell_type": "code",
      "source": [
        "df5.head()"
      ],
      "metadata": {
        "id": "XvtJ--8yLLal"
      },
      "execution_count": null,
      "outputs": []
    },
    {
      "cell_type": "code",
      "source": [
        "df5.iloc[33284 , :]"
      ],
      "metadata": {
        "id": "dh1lJ4UvKz7D"
      },
      "execution_count": null,
      "outputs": []
    },
    {
      "cell_type": "code",
      "source": [
        "grupo = df5.loc[df5.grupo == 3]\n",
        "grupo.head()"
      ],
      "metadata": {
        "id": "Vy8u1CuRJp0R"
      },
      "execution_count": null,
      "outputs": []
    },
    {
      "cell_type": "code",
      "source": [
        "grupo.shape"
      ],
      "metadata": {
        "id": "fV8_czHTO2RP"
      },
      "execution_count": null,
      "outputs": []
    },
    {
      "cell_type": "code",
      "source": [
        "import matplotlib.pyplot as plt\n",
        "import seaborn as sns"
      ],
      "metadata": {
        "id": "OYv6qLsLQBQd"
      },
      "execution_count": null,
      "outputs": []
    },
    {
      "cell_type": "code",
      "source": [
        "plt.subplots(figsize = (15,5))\n",
        "sns.countplot(x=df5['job'], order=df5['job'].value_counts().index, hue=df5['grupo'])\n",
        "plt.show()"
      ],
      "metadata": {
        "id": "ZkDyiCc_P3od"
      },
      "execution_count": null,
      "outputs": []
    },
    {
      "cell_type": "markdown",
      "source": [
        "## **DESAFIO 5**"
      ],
      "metadata": {
        "id": "jJbmIvWtqVFM"
      }
    },
    {
      "cell_type": "markdown",
      "source": [
        "DESENVOLVER E SELECIONAR O MELHOR ALGORITMO DE MACHINE LEARNING DE AGRUPAMENTO PARA O DATASET DO LINK A SEGUIR:"
      ],
      "metadata": {
        "id": "93TC2-XbSpjX"
      }
    },
    {
      "cell_type": "markdown",
      "source": [
        "https://www.kaggle.com/harrywang/wine-dataset-for-clustering "
      ],
      "metadata": {
        "id": "kYjMQob4qTfq"
      }
    }
  ]
}