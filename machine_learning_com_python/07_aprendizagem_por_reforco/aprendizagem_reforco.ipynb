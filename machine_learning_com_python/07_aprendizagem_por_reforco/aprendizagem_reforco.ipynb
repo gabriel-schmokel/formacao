{
  "nbformat": 4,
  "nbformat_minor": 0,
  "metadata": {
    "colab": {
      "name": "aprendizagem reforco.ipynb",
      "provenance": [],
      "collapsed_sections": []
    },
    "kernelspec": {
      "name": "python3",
      "display_name": "Python 3"
    },
    "language_info": {
      "name": "python"
    }
  },
  "cells": [
    {
      "cell_type": "markdown",
      "source": [
        "# **APRENDIZAGEM POR REFORÇO**"
      ],
      "metadata": {
        "id": "zo4_NBVWMQvE"
      }
    },
    {
      "cell_type": "markdown",
      "source": [
        "https://gym.openai.com/ "
      ],
      "metadata": {
        "id": "vxK5jFkXgZt3"
      }
    },
    {
      "cell_type": "markdown",
      "source": [
        "https://gym.openai.com/envs/Taxi-v3/ "
      ],
      "metadata": {
        "id": "zwJaIifT9YtC"
      }
    },
    {
      "cell_type": "markdown",
      "source": [
        "**Links de referência**"
      ],
      "metadata": {
        "id": "SNKu2HUe9fGW"
      }
    },
    {
      "cell_type": "markdown",
      "source": [
        "https://www.learndatasci.com/tutorials/reinforcement-q-learning-scratch-python-openai-gym/ "
      ],
      "metadata": {
        "id": "gJuapuEAMK2m"
      }
    },
    {
      "cell_type": "markdown",
      "source": [
        "https://medium.com/turing-talks/aprendizado-por-refor%C3%A7o-4-gym-d18ac1280628 "
      ],
      "metadata": {
        "id": "lXmTMZJhML9T"
      }
    },
    {
      "cell_type": "markdown",
      "source": [
        "**Instalando a Biblioteca GYM**"
      ],
      "metadata": {
        "id": "7swTjEjMHMMl"
      }
    },
    {
      "cell_type": "code",
      "execution_count": 1,
      "metadata": {
        "id": "1nuOSLFMCbKY",
        "colab": {
          "base_uri": "https://localhost:8080/"
        },
        "outputId": "619e72a3-6010-4171-81d5-35ce62da7174"
      },
      "outputs": [
        {
          "output_type": "stream",
          "name": "stdout",
          "text": [
            "Requirement already satisfied: cmake in /usr/local/lib/python3.7/dist-packages (3.12.0)\n",
            "Requirement already satisfied: gym[atari] in /usr/local/lib/python3.7/dist-packages (0.17.3)\n",
            "Requirement already satisfied: scipy in /usr/local/lib/python3.7/dist-packages (1.4.1)\n",
            "Requirement already satisfied: numpy>=1.13.3 in /usr/local/lib/python3.7/dist-packages (from scipy) (1.21.5)\n",
            "Requirement already satisfied: cloudpickle<1.7.0,>=1.2.0 in /usr/local/lib/python3.7/dist-packages (from gym[atari]) (1.3.0)\n",
            "Requirement already satisfied: pyglet<=1.5.0,>=1.4.0 in /usr/local/lib/python3.7/dist-packages (from gym[atari]) (1.5.0)\n",
            "Requirement already satisfied: Pillow in /usr/local/lib/python3.7/dist-packages (from gym[atari]) (7.1.2)\n",
            "Requirement already satisfied: atari-py~=0.2.0 in /usr/local/lib/python3.7/dist-packages (from gym[atari]) (0.2.9)\n",
            "Requirement already satisfied: opencv-python in /usr/local/lib/python3.7/dist-packages (from gym[atari]) (4.1.2.30)\n",
            "Requirement already satisfied: six in /usr/local/lib/python3.7/dist-packages (from atari-py~=0.2.0->gym[atari]) (1.15.0)\n",
            "Requirement already satisfied: future in /usr/local/lib/python3.7/dist-packages (from pyglet<=1.5.0,>=1.4.0->gym[atari]) (0.16.0)\n"
          ]
        }
      ],
      "source": [
        "!pip install cmake 'gym[atari]' scipy"
      ]
    },
    {
      "cell_type": "code",
      "source": [
        "import gym"
      ],
      "metadata": {
        "id": "LRh70CdVChvL"
      },
      "execution_count": 2,
      "outputs": []
    },
    {
      "cell_type": "markdown",
      "source": [
        "**Carregando e renderizando o ambiente**"
      ],
      "metadata": {
        "id": "I4_DwI5tHbq1"
      }
    },
    {
      "cell_type": "code",
      "source": [
        "env = gym.make(\"Taxi-v3\").env"
      ],
      "metadata": {
        "id": "MvgWNK_uCmCK"
      },
      "execution_count": 3,
      "outputs": []
    },
    {
      "cell_type": "code",
      "source": [
        "env.render()"
      ],
      "metadata": {
        "colab": {
          "base_uri": "https://localhost:8080/"
        },
        "id": "JKfP0RINDAfA",
        "outputId": "f0a114de-ceb3-43a9-fa94-af088d794978"
      },
      "execution_count": 10,
      "outputs": [
        {
          "output_type": "stream",
          "name": "stdout",
          "text": [
            "+---------+\n",
            "|\u001b[34;1mR\u001b[0m: |\u001b[43m \u001b[0m: :\u001b[35mG\u001b[0m|\n",
            "| : | : : |\n",
            "| : : : : |\n",
            "| | : | : |\n",
            "|Y| : |B: |\n",
            "+---------+\n",
            "\n"
          ]
        }
      ]
    },
    {
      "cell_type": "code",
      "source": [
        "# redefinindo o ambiente e retornando um estado inicial aleatório.\n",
        "env.reset() "
      ],
      "metadata": {
        "colab": {
          "base_uri": "https://localhost:8080/"
        },
        "id": "Rj2ZuAZDDCR4",
        "outputId": "2083dfde-63dd-4dad-f7fa-5e54b58b4fbc"
      },
      "execution_count": 9,
      "outputs": [
        {
          "output_type": "execute_result",
          "data": {
            "text/plain": [
              "41"
            ]
          },
          "metadata": {},
          "execution_count": 9
        }
      ]
    },
    {
      "cell_type": "code",
      "source": [
        "env.render()"
      ],
      "metadata": {
        "colab": {
          "base_uri": "https://localhost:8080/"
        },
        "id": "0oB2144rDkDe",
        "outputId": "9b5f75a2-926f-4c28-8fe3-6d710bc48a2e"
      },
      "execution_count": 11,
      "outputs": [
        {
          "output_type": "stream",
          "name": "stdout",
          "text": [
            "+---------+\n",
            "|\u001b[34;1mR\u001b[0m: |\u001b[43m \u001b[0m: :\u001b[35mG\u001b[0m|\n",
            "| : | : : |\n",
            "| : : : : |\n",
            "| | : | : |\n",
            "|Y| : |B: |\n",
            "+---------+\n",
            "\n"
          ]
        }
      ]
    },
    {
      "cell_type": "markdown",
      "source": [
        "env.reset: redefine o ambiente e retorna um estado inicial aleatório.\n",
        "\n",
        "env.step(action): Apresenta os passos de ação.\n"
      ],
      "metadata": {
        "id": "LXaShm9SIFDU"
      }
    },
    {
      "cell_type": "code",
      "source": [
        "# Print no espaço de ação discreto e no espaço de estado discreto\n",
        "print(\"Action Space {}\".format(env.action_space))\n",
        "print(\"State Space {}\".format(env.observation_space))"
      ],
      "metadata": {
        "colab": {
          "base_uri": "https://localhost:8080/"
        },
        "id": "0g-pY7BoDwOu",
        "outputId": "48273fa1-0dc5-40bd-bd1d-bf6d4fd75f59"
      },
      "execution_count": 14,
      "outputs": [
        {
          "output_type": "stream",
          "name": "stdout",
          "text": [
            "Action Space Discrete(6)\n",
            "State Space Discrete(500)\n"
          ]
        }
      ]
    },
    {
      "cell_type": "markdown",
      "source": [
        "**ESPAÇO DE ESTADO**"
      ],
      "metadata": {
        "id": "E8ovsxyiC-sA"
      }
    },
    {
      "cell_type": "markdown",
      "source": [
        "Espaço de estado da grade: 5x5 = 25\n",
        "\n",
        "Espaço posição do passageiro: 5 (quatro pontos externos e um dentro do taxi)\n",
        "\n",
        "Espaço de posição de embargue/desembarque (destino): 4\n",
        "\n",
        "Total: 5x5x5x4 = 500 espaços de estado. "
      ],
      "metadata": {
        "id": "ORr0nKOpA9CY"
      }
    },
    {
      "cell_type": "markdown",
      "source": [
        "**ESPAÇO DE AÇÃO**"
      ],
      "metadata": {
        "id": "eCjLZN58DCy-"
      }
    },
    {
      "cell_type": "markdown",
      "source": [
        "O algoritmo escolherá um número de ação de 0 a 5, onde:\n",
        "\n",
        "0 = sul\n",
        "\n",
        "1 = norte\n",
        "\n",
        "2 = leste\n",
        "\n",
        "3 = oeste\n",
        "\n",
        "4 = embarque\n",
        "\n",
        "5 = desembarque"
      ],
      "metadata": {
        "id": "j5C0tVoAJwPp"
      }
    },
    {
      "cell_type": "markdown",
      "source": [
        "**Colocando o taxi na linha 3, coluna 1, nosso passageiro no local 2 e nosso destino é o local 0.**"
      ],
      "metadata": {
        "id": "gEn_Sq6RK68T"
      }
    },
    {
      "cell_type": "code",
      "source": [
        "state = env.encode(3, 1, 2,0) # (linha do taxi, coluna do taxi, índice do passageiro, índice do destino)\n",
        "print(\"State:\", state)\n",
        "\n",
        "env.s = state\n",
        "env.render()"
      ],
      "metadata": {
        "colab": {
          "base_uri": "https://localhost:8080/"
        },
        "id": "Wr_-TDSJEgFt",
        "outputId": "5ca77f14-1cde-4f11-f220-6af2e4b2cfed"
      },
      "execution_count": 20,
      "outputs": [
        {
          "output_type": "stream",
          "name": "stdout",
          "text": [
            "State: 328\n",
            "+---------+\n",
            "|\u001b[35mR\u001b[0m: | : :G|\n",
            "| : | : : |\n",
            "| : : : : |\n",
            "| |\u001b[43m \u001b[0m: | : |\n",
            "|\u001b[34;1mY\u001b[0m| : |B: |\n",
            "+---------+\n",
            "\n"
          ]
        }
      ]
    },
    {
      "cell_type": "markdown",
      "source": [
        "Táxi amarelo é sem passageiro e verde é com passageiro.\n",
        "\n",
        "A barra (\"|\") representa uma parede que o táxi não pode atravessar.\n",
        "\n",
        "R, G, Y, B são os possíveis locais de coleta e destino. A **letra azul** representa o local de **embargue** do passageiro e a **letra roxa** é o **desembargue** do passageiro."
      ],
      "metadata": {
        "id": "ywJ13rDjJMbf"
      }
    },
    {
      "cell_type": "markdown",
      "source": [
        "Recompensas (Já definidas na biblioteca):\n",
        "\n",
        "+20 para um desembarque correto.\n",
        "\n",
        "-10 para um embarque ou desembarque incorreto.\n",
        "\n",
        "-1 para ações que não sejam as duas anteriores."
      ],
      "metadata": {
        "id": "6-cTUWHZKW4U"
      }
    },
    {
      "cell_type": "code",
      "source": [
        "env.P[328]"
      ],
      "metadata": {
        "id": "bmWgFuTKEoNj"
      },
      "execution_count": null,
      "outputs": []
    },
    {
      "cell_type": "code",
      "source": [
        "import numpy as np\n",
        "import random\n",
        "from IPython.display import clear_output"
      ],
      "metadata": {
        "id": "gSapNw99FFSq"
      },
      "execution_count": 25,
      "outputs": []
    },
    {
      "cell_type": "code",
      "source": [
        "tabela_q = np.zeros([env.observation_space.n, env.action_space.n]) #iniciando a tabela Q"
      ],
      "metadata": {
        "id": "SnRf1JhUFDeR"
      },
      "execution_count": 26,
      "outputs": []
    },
    {
      "cell_type": "code",
      "source": [
        "tabela_q"
      ],
      "metadata": {
        "colab": {
          "base_uri": "https://localhost:8080/"
        },
        "id": "vLUVMJzb6qXp",
        "outputId": "ab75c473-49a6-46c1-aed5-bf240c07df32"
      },
      "execution_count": 27,
      "outputs": [
        {
          "output_type": "execute_result",
          "data": {
            "text/plain": [
              "array([[0., 0., 0., 0., 0., 0.],\n",
              "       [0., 0., 0., 0., 0., 0.],\n",
              "       [0., 0., 0., 0., 0., 0.],\n",
              "       ...,\n",
              "       [0., 0., 0., 0., 0., 0.],\n",
              "       [0., 0., 0., 0., 0., 0.],\n",
              "       [0., 0., 0., 0., 0., 0.]])"
            ]
          },
          "metadata": {},
          "execution_count": 27
        }
      ]
    },
    {
      "cell_type": "code",
      "source": [
        "tabela_q.shape"
      ],
      "metadata": {
        "colab": {
          "base_uri": "https://localhost:8080/"
        },
        "id": "14WKyz3w61DI",
        "outputId": "abdb1417-047d-4b04-e522-891a6ba47c9b"
      },
      "execution_count": 28,
      "outputs": [
        {
          "output_type": "execute_result",
          "data": {
            "text/plain": [
              "(500, 6)"
            ]
          },
          "metadata": {},
          "execution_count": 28
        }
      ]
    },
    {
      "cell_type": "markdown",
      "source": [
        "**TREINAMENTO DO ALGORITMO**"
      ],
      "metadata": {
        "id": "CeD6Mkl86VL1"
      }
    },
    {
      "cell_type": "code",
      "source": [
        "# Não existem valores \"certos\" ou \"errados\", é por tentativa e erro.\n",
        "alpha = 0.1\n",
        "gamma = 0.6\n",
        "epsilon = 0.1 # Determina a chance do agente tomar uma ação aleatória, nesse caso a chance é de 10%\n",
        "\n",
        "for i in range(1, 200001):\n",
        "    estado = env.reset()\n",
        "\n",
        "    episodios, penalidades, recompensa = 0, 0, 0 \n",
        "    terminado = False\n",
        "    \n",
        "    while not terminado:\n",
        "        if random.uniform(0, 1) < epsilon: # Decidindo se será tomada uma ação aleatória ou se seguirá a política da tabela-q\n",
        "            acao = env.action_space.sample() \n",
        "        else:\n",
        "            acao = np.argmax(tabela_q[estado]) \n",
        "\n",
        "        proximo_estado, recompensa, terminado, info = env.step(acao) \n",
        "        \n",
        "        valor_antigo = tabela_q[estado, acao]\n",
        "        proximo_max = np.max(tabela_q[proximo_estado])\n",
        "        \n",
        "        # Atualizando o valor de q a partir da equação de Bellman\n",
        "        valor_novo = (1 - alpha) * valor_antigo + alpha * (recompensa + gamma * proximo_max) \n",
        "        tabela_q[estado, acao] = valor_novo # Colocando este valor na tabela-q\n",
        "\n",
        "        if recompensa == -10: # Contabilizando os embarques/desembarques errados\n",
        "            penalidades += 1\n",
        "\n",
        "        estado = proximo_estado\n",
        "        episodios += 1\n",
        "\n",
        "    if i % 100 == 0:\n",
        "        clear_output(wait=True)\n",
        "        print(f\"Episódios: {i}\")\n",
        "        \n",
        "print(\"Treinamento terminado.\\n\")"
      ],
      "metadata": {
        "colab": {
          "base_uri": "https://localhost:8080/"
        },
        "id": "VUwTuTxgFOU6",
        "outputId": "786a05f5-baa6-4d95-9d46-9f466b674bf6"
      },
      "execution_count": 30,
      "outputs": [
        {
          "output_type": "stream",
          "name": "stdout",
          "text": [
            "Episódios: 200000\n",
            "Treinamento terminado.\n",
            "\n"
          ]
        }
      ]
    },
    {
      "cell_type": "markdown",
      "source": [
        "**AVALIAÇÃO DO ALGORITMO**"
      ],
      "metadata": {
        "id": "XRvVzvzL6k8U"
      }
    },
    {
      "cell_type": "code",
      "source": [
        "total_penalidades = 0\n",
        "episodios = 100\n",
        "frames = []\n",
        "\n",
        "for i in range(episodios):\n",
        "  estado = env.reset()\n",
        "  penalidades, recompensa = 0, 0\n",
        "  done = False\n",
        "  while not done:\n",
        "    acao = np.argmax(tabela_q[estado])\n",
        "    estado, recompensa, done, info = env.step(acao)\n",
        "\n",
        "    if recompensa == -10:\n",
        "      penalidades += 1\n",
        "    \n",
        "    frames.append({\n",
        "        'frame': env.render(mode='ansi'),\n",
        "        'state': estado,\n",
        "        'action': acao,\n",
        "        'reward': recompensa\n",
        "    })\n",
        "\n",
        "  total_penalidades += penalidades\n",
        "\n",
        "print('Episódios', episodios)\n",
        "print('Penalidades', total_penalidades)"
      ],
      "metadata": {
        "colab": {
          "base_uri": "https://localhost:8080/"
        },
        "id": "Hl4PZe4Q1M0i",
        "outputId": "dc80c1bd-c4d6-48e7-8d35-57c8c01e5674"
      },
      "execution_count": 34,
      "outputs": [
        {
          "output_type": "stream",
          "name": "stdout",
          "text": [
            "Episódios 100\n",
            "Penalidades 0\n"
          ]
        }
      ]
    },
    {
      "cell_type": "code",
      "source": [
        "from time import sleep\n",
        "for frame in frames:\n",
        "  clear_output(wait=True)\n",
        "  print(frame['frame'])\n",
        "  print('Estado', frame['state'])\n",
        "  print('Ação', frame['action'])\n",
        "  print('Recompensa', frame['reward'])\n",
        "  sleep(.2)"
      ],
      "metadata": {
        "colab": {
          "base_uri": "https://localhost:8080/"
        },
        "id": "8ZU5Kh861xvp",
        "outputId": "4193e3da-738e-4f28-dd37-5ec3cf2b3d24"
      },
      "execution_count": null,
      "outputs": [
        {
          "output_type": "stream",
          "name": "stdout",
          "text": [
            "+---------+\n",
            "|R: | : :G|\n",
            "| : | : : |\n",
            "| : :\u001b[42m_\u001b[0m: : |\n",
            "| | : | : |\n",
            "|Y| : |\u001b[35mB\u001b[0m: |\n",
            "+---------+\n",
            "  (East)\n",
            "\n",
            "Estado 259\n",
            "Ação 2\n",
            "Recompensa -1\n"
          ]
        }
      ]
    }
  ]
}