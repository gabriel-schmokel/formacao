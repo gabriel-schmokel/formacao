{
  "nbformat": 4,
  "nbformat_minor": 0,
  "metadata": {
    "colab": {
      "name": "Aula_25_pandas.ipynb",
      "provenance": []
    },
    "kernelspec": {
      "name": "python3",
      "display_name": "Python 3"
    },
    "language_info": {
      "name": "python"
    }
  },
  "cells": [
    {
      "cell_type": "markdown",
      "source": [
        "# Pandas: exportando e importando dados"
      ],
      "metadata": {
        "id": "X_Jttt2TQ6G_"
      }
    },
    {
      "cell_type": "code",
      "execution_count": null,
      "metadata": {
        "colab": {
          "base_uri": "https://localhost:8080/"
        },
        "id": "SjT6Aiq2Osvl",
        "outputId": "55387c9a-cc1f-45c0-cc73-315dc758e541"
      },
      "outputs": [
        {
          "output_type": "stream",
          "name": "stdout",
          "text": [
            "       A     B     C     D     E\n",
            "0   3671  2271  3357  6785  2591\n",
            "1   3295  9476   322  6128  1058\n",
            "2   4081    69  9505   665  8831\n",
            "3   9000  8892  2391  8724  9073\n",
            "4   4807  8345  3140  3787  1249\n",
            "5   3423  8217  7033  8464  3108\n",
            "6   1761  8676   989  9558  1931\n",
            "7   4437  3795  4324  6687  5646\n",
            "8   2177  8936  9362  6248  3095\n",
            "9   5213  5101  3738  8899  9504\n",
            "10  1352  8868  2741    33  4841\n",
            "11  8460  8416  8188  4626  9318\n",
            "12  6331  7976  5812  9211   581\n",
            "13  5924  2294  2361  3051  2889\n",
            "14  6082  2825  3106  7897  6386\n",
            "15   233  4510  9719  2147  2824\n",
            "16   556  3572  6333   989   847\n",
            "17  5308   391  6032  1208  8820\n",
            "18  3173  3333  1885  1489  6605\n",
            "19   263  7356   307  2518  1019\n"
          ]
        }
      ],
      "source": [
        "import pandas as pd\n",
        "import numpy as np\n",
        "# Gerando um Data Frame\n",
        "dados = np.random.randint(low=1,high=10000, size=(20,5))\n",
        "df = pd.DataFrame(dados, columns=list('ABCDE'))\n",
        "\n",
        "print(df)"
      ]
    },
    {
      "cell_type": "markdown",
      "source": [
        "## Exportação de Dados "
      ],
      "metadata": {
        "id": "ubiIjYeORxh6"
      }
    },
    {
      "cell_type": "markdown",
      "source": [
        "### Exportando em Formato csv\n",
        "\n",
        "CSV = \"comma separated values\" / Valores separados por vírgula "
      ],
      "metadata": {
        "id": "LEw5n53_R10F"
      }
    },
    {
      "cell_type": "code",
      "source": [
        "# utilizando o atributo .to_csv(...) podemos exportar um data frame no formato csv\n",
        "# Diferentes argumentos entram nessa função\n",
        "# Argumento 01: 'file_name.csv' / nome da saída do arquivo \n",
        "# Argumento 'sep = ....' / informa como iremos separar os elementos do Data Frame, por Default é a vírgual \n",
        "# Argumento 'index = ...' permite ocultar ou não a indexação na lateral esquerda do Data Frame\n",
        "# Argumento 'header= ...' permite ocultar ou não o índice das colunas.\n",
        "\n",
        "df.to_csv('output1.csv')\n",
        "df.to_csv('output2.csv', sep = ' ')\n",
        "df.to_csv('output3.csv', index = False, header = False)"
      ],
      "metadata": {
        "id": "MvIgY68WRrx9"
      },
      "execution_count": null,
      "outputs": []
    },
    {
      "cell_type": "markdown",
      "source": [
        "### Exportando em formato Excel (*.xlsx)"
      ],
      "metadata": {
        "id": "XCOis1cxUK16"
      }
    },
    {
      "cell_type": "code",
      "source": [
        "# Exportando no formato excel através do atributo .to_excel\n",
        "# Argumento 01: 'file_name.xlsx' / nome da saída do arquivo \n",
        "# Argumento 'sheet_name= ...' / Permite alterar o nome da página na planilha eletrônica\n",
        "\n",
        "df.to_excel('output4.xlsx')\n",
        "df.to_excel('output5.xlsx', sheet_name= 'Page1')\n",
        "\n",
        "# Exportando data frames para diferentes páginas\n",
        "df2 = df.copy()\n",
        "df3 = df.copy()\n",
        "\n",
        "with pd.ExcelWriter('output6.xlsx') as writer:\n",
        "  df.to_excel(writer, sheet_name= 'Page1')\n",
        "  df2.to_excel(writer, sheet_name= 'Page2')\n",
        "  df3.to_excel(writer, sheet_name= 'Page3')"
      ],
      "metadata": {
        "id": "CwbzDVVzUZ9J"
      },
      "execution_count": null,
      "outputs": []
    },
    {
      "cell_type": "markdown",
      "source": [
        "### Exportando em Latex"
      ],
      "metadata": {
        "id": "t31r8zfp-jPj"
      }
    },
    {
      "cell_type": "code",
      "source": [
        "# O atributo .to_latex(...) permite exportar um arquivo no formato latex.\n",
        "# Argumento 01: 'file_name.xlsx' / nome da saída do arquivo \n",
        "df.to_latex('output7.tex')\n",
        "\n",
        "# exibindo o data frame que foi salvo no formato tex.\n",
        "print(df.to_latex())"
      ],
      "metadata": {
        "colab": {
          "base_uri": "https://localhost:8080/"
        },
        "id": "UXR8QTku-me0",
        "outputId": "44722088-f680-4c1b-8def-bd5bac13674f"
      },
      "execution_count": null,
      "outputs": [
        {
          "output_type": "stream",
          "name": "stdout",
          "text": [
            "\\begin{tabular}{lrrrrr}\n",
            "\\toprule\n",
            "{} &     A &     B &     C &     D &     E \\\\\n",
            "\\midrule\n",
            "0  &  3671 &  2271 &  3357 &  6785 &  2591 \\\\\n",
            "1  &  3295 &  9476 &   322 &  6128 &  1058 \\\\\n",
            "2  &  4081 &    69 &  9505 &   665 &  8831 \\\\\n",
            "3  &  9000 &  8892 &  2391 &  8724 &  9073 \\\\\n",
            "4  &  4807 &  8345 &  3140 &  3787 &  1249 \\\\\n",
            "5  &  3423 &  8217 &  7033 &  8464 &  3108 \\\\\n",
            "6  &  1761 &  8676 &   989 &  9558 &  1931 \\\\\n",
            "7  &  4437 &  3795 &  4324 &  6687 &  5646 \\\\\n",
            "8  &  2177 &  8936 &  9362 &  6248 &  3095 \\\\\n",
            "9  &  5213 &  5101 &  3738 &  8899 &  9504 \\\\\n",
            "10 &  1352 &  8868 &  2741 &    33 &  4841 \\\\\n",
            "11 &  8460 &  8416 &  8188 &  4626 &  9318 \\\\\n",
            "12 &  6331 &  7976 &  5812 &  9211 &   581 \\\\\n",
            "13 &  5924 &  2294 &  2361 &  3051 &  2889 \\\\\n",
            "14 &  6082 &  2825 &  3106 &  7897 &  6386 \\\\\n",
            "15 &   233 &  4510 &  9719 &  2147 &  2824 \\\\\n",
            "16 &   556 &  3572 &  6333 &   989 &   847 \\\\\n",
            "17 &  5308 &   391 &  6032 &  1208 &  8820 \\\\\n",
            "18 &  3173 &  3333 &  1885 &  1489 &  6605 \\\\\n",
            "19 &   263 &  7356 &   307 &  2518 &  1019 \\\\\n",
            "\\bottomrule\n",
            "\\end{tabular}\n",
            "\n"
          ]
        }
      ]
    },
    {
      "cell_type": "markdown",
      "source": [
        "### Exportando em MarkDown()"
      ],
      "metadata": {
        "id": "jLwNHracA4WQ"
      }
    },
    {
      "cell_type": "code",
      "source": [
        "# para exportar um data frame no formato markdown usa-se o atributo .to_mackdown(...)\n",
        "print(df.to_markdown())"
      ],
      "metadata": {
        "colab": {
          "base_uri": "https://localhost:8080/"
        },
        "id": "jsqQrg9ZAk6P",
        "outputId": "c3db61f7-210d-46ce-a64d-8636ed5ca08b"
      },
      "execution_count": null,
      "outputs": [
        {
          "output_type": "stream",
          "name": "stdout",
          "text": [
            "|    |    A |    B |    C |    D |    E |\n",
            "|---:|-----:|-----:|-----:|-----:|-----:|\n",
            "|  0 | 3671 | 2271 | 3357 | 6785 | 2591 |\n",
            "|  1 | 3295 | 9476 |  322 | 6128 | 1058 |\n",
            "|  2 | 4081 |   69 | 9505 |  665 | 8831 |\n",
            "|  3 | 9000 | 8892 | 2391 | 8724 | 9073 |\n",
            "|  4 | 4807 | 8345 | 3140 | 3787 | 1249 |\n",
            "|  5 | 3423 | 8217 | 7033 | 8464 | 3108 |\n",
            "|  6 | 1761 | 8676 |  989 | 9558 | 1931 |\n",
            "|  7 | 4437 | 3795 | 4324 | 6687 | 5646 |\n",
            "|  8 | 2177 | 8936 | 9362 | 6248 | 3095 |\n",
            "|  9 | 5213 | 5101 | 3738 | 8899 | 9504 |\n",
            "| 10 | 1352 | 8868 | 2741 |   33 | 4841 |\n",
            "| 11 | 8460 | 8416 | 8188 | 4626 | 9318 |\n",
            "| 12 | 6331 | 7976 | 5812 | 9211 |  581 |\n",
            "| 13 | 5924 | 2294 | 2361 | 3051 | 2889 |\n",
            "| 14 | 6082 | 2825 | 3106 | 7897 | 6386 |\n",
            "| 15 |  233 | 4510 | 9719 | 2147 | 2824 |\n",
            "| 16 |  556 | 3572 | 6333 |  989 |  847 |\n",
            "| 17 | 5308 |  391 | 6032 | 1208 | 8820 |\n",
            "| 18 | 3173 | 3333 | 1885 | 1489 | 6605 |\n",
            "| 19 |  263 | 7356 |  307 | 2518 | 1019 |\n"
          ]
        }
      ]
    },
    {
      "cell_type": "markdown",
      "source": [
        "### Exportando como dicionário"
      ],
      "metadata": {
        "id": "r4PBsy5gCINP"
      }
    },
    {
      "cell_type": "code",
      "source": [
        "# deve-se usar o atributo .to_dict() para alterar para o formato dicionário.\n",
        "\n",
        "d = df.to_dict()\n",
        "print(d)\n",
        "type(d)"
      ],
      "metadata": {
        "colab": {
          "base_uri": "https://localhost:8080/"
        },
        "id": "ZIWAvIVKCLeu",
        "outputId": "4490c0ae-49d7-4254-8ef9-5a26dee18dc2"
      },
      "execution_count": null,
      "outputs": [
        {
          "output_type": "stream",
          "name": "stdout",
          "text": [
            "{'A': {0: 3671, 1: 3295, 2: 4081, 3: 9000, 4: 4807, 5: 3423, 6: 1761, 7: 4437, 8: 2177, 9: 5213, 10: 1352, 11: 8460, 12: 6331, 13: 5924, 14: 6082, 15: 233, 16: 556, 17: 5308, 18: 3173, 19: 263}, 'B': {0: 2271, 1: 9476, 2: 69, 3: 8892, 4: 8345, 5: 8217, 6: 8676, 7: 3795, 8: 8936, 9: 5101, 10: 8868, 11: 8416, 12: 7976, 13: 2294, 14: 2825, 15: 4510, 16: 3572, 17: 391, 18: 3333, 19: 7356}, 'C': {0: 3357, 1: 322, 2: 9505, 3: 2391, 4: 3140, 5: 7033, 6: 989, 7: 4324, 8: 9362, 9: 3738, 10: 2741, 11: 8188, 12: 5812, 13: 2361, 14: 3106, 15: 9719, 16: 6333, 17: 6032, 18: 1885, 19: 307}, 'D': {0: 6785, 1: 6128, 2: 665, 3: 8724, 4: 3787, 5: 8464, 6: 9558, 7: 6687, 8: 6248, 9: 8899, 10: 33, 11: 4626, 12: 9211, 13: 3051, 14: 7897, 15: 2147, 16: 989, 17: 1208, 18: 1489, 19: 2518}, 'E': {0: 2591, 1: 1058, 2: 8831, 3: 9073, 4: 1249, 5: 3108, 6: 1931, 7: 5646, 8: 3095, 9: 9504, 10: 4841, 11: 9318, 12: 581, 13: 2889, 14: 6386, 15: 2824, 16: 847, 17: 8820, 18: 6605, 19: 1019}}\n"
          ]
        },
        {
          "output_type": "execute_result",
          "data": {
            "text/plain": [
              "dict"
            ]
          },
          "metadata": {},
          "execution_count": 12
        }
      ]
    },
    {
      "cell_type": "markdown",
      "source": [
        "## Importando Dados "
      ],
      "metadata": {
        "id": "KN0c7fhnCqSm"
      }
    },
    {
      "cell_type": "markdown",
      "source": [
        "### Importando dados em formato csv"
      ],
      "metadata": {
        "id": "ZzhcUy03FM5B"
      }
    },
    {
      "cell_type": "code",
      "source": [
        "# Importando dados de um arquivo csv\n",
        "# para ler um arquivo csv utilizamos o atributo .read_csv(...)\n",
        "# Primeiro argumento: nome do arquivo.\n",
        "\n",
        "\n",
        "import pandas as pd\n",
        "\n",
        "dfx = pd.read_csv('output1.csv')\n",
        "print(type(dfx))\n",
        "print()\n",
        "\n",
        "print(dfx)\n",
        "print()\n",
        "\n",
        "# Observe que as colunas são carregadas com um novo item chamado unnamed\n",
        "# da mesma forma uma coluna a mais é inserida, essa especifica a númeração das linhas.\n",
        "print(dfx.columns)\n",
        "print()\n",
        "\n",
        "# Podemos remover essas informações utilizando um segundo argumento.\n",
        "dfx = pd.read_csv('output1.csv', index_col=0, header=0)\n",
        "print(dfx)"
      ],
      "metadata": {
        "colab": {
          "base_uri": "https://localhost:8080/"
        },
        "id": "e_XvwvqUCxmS",
        "outputId": "01ac5ae3-926f-4ec6-f4b2-745196965605"
      },
      "execution_count": null,
      "outputs": [
        {
          "output_type": "stream",
          "name": "stdout",
          "text": [
            "<class 'pandas.core.frame.DataFrame'>\n",
            "\n",
            "    Unnamed: 0     A     B     C     D     E\n",
            "0            0  3671  2271  3357  6785  2591\n",
            "1            1  3295  9476   322  6128  1058\n",
            "2            2  4081    69  9505   665  8831\n",
            "3            3  9000  8892  2391  8724  9073\n",
            "4            4  4807  8345  3140  3787  1249\n",
            "5            5  3423  8217  7033  8464  3108\n",
            "6            6  1761  8676   989  9558  1931\n",
            "7            7  4437  3795  4324  6687  5646\n",
            "8            8  2177  8936  9362  6248  3095\n",
            "9            9  5213  5101  3738  8899  9504\n",
            "10          10  1352  8868  2741    33  4841\n",
            "11          11  8460  8416  8188  4626  9318\n",
            "12          12  6331  7976  5812  9211   581\n",
            "13          13  5924  2294  2361  3051  2889\n",
            "14          14  6082  2825  3106  7897  6386\n",
            "15          15   233  4510  9719  2147  2824\n",
            "16          16   556  3572  6333   989   847\n",
            "17          17  5308   391  6032  1208  8820\n",
            "18          18  3173  3333  1885  1489  6605\n",
            "19          19   263  7356   307  2518  1019\n",
            "\n",
            "Index(['Unnamed: 0', 'A', 'B', 'C', 'D', 'E'], dtype='object')\n",
            "\n",
            "       A     B     C     D     E\n",
            "0   3671  2271  3357  6785  2591\n",
            "1   3295  9476   322  6128  1058\n",
            "2   4081    69  9505   665  8831\n",
            "3   9000  8892  2391  8724  9073\n",
            "4   4807  8345  3140  3787  1249\n",
            "5   3423  8217  7033  8464  3108\n",
            "6   1761  8676   989  9558  1931\n",
            "7   4437  3795  4324  6687  5646\n",
            "8   2177  8936  9362  6248  3095\n",
            "9   5213  5101  3738  8899  9504\n",
            "10  1352  8868  2741    33  4841\n",
            "11  8460  8416  8188  4626  9318\n",
            "12  6331  7976  5812  9211   581\n",
            "13  5924  2294  2361  3051  2889\n",
            "14  6082  2825  3106  7897  6386\n",
            "15   233  4510  9719  2147  2824\n",
            "16   556  3572  6333   989   847\n",
            "17  5308   391  6032  1208  8820\n",
            "18  3173  3333  1885  1489  6605\n",
            "19   263  7356   307  2518  1019\n"
          ]
        }
      ]
    },
    {
      "cell_type": "markdown",
      "source": [
        "### Importando dados em formato xlsx (excel)"
      ],
      "metadata": {
        "id": "IFy64y1BFR2m"
      }
    },
    {
      "cell_type": "code",
      "source": [
        "# Utiliza-se o atributo .rea_excel()\n",
        "# Primeiro argumento: nome do arquivo a ser lido\n",
        "# Segundo arqgumento: 'sheet_name = ...' permite acessar a página do arquivo excel conforme especificado\n",
        "# Terceiro argumento: index_col = 0 permite remover a coluna unnamed\n",
        "\n",
        "dfx = pd.read_excel('output6.xlsx')\n",
        "print(dfx)\n",
        "print()\n",
        "\n",
        "dfx = pd.read_excel('output6.xlsx', sheet_name = 'Page2', index_col=0)\n",
        "print(dfx)\n",
        "print()"
      ],
      "metadata": {
        "colab": {
          "base_uri": "https://localhost:8080/"
        },
        "id": "REuypKN8FZ6w",
        "outputId": "4200a52c-311d-4d30-d6c0-77d9adc9f657"
      },
      "execution_count": null,
      "outputs": [
        {
          "output_type": "stream",
          "name": "stdout",
          "text": [
            "    Unnamed: 0     A     B     C     D     E\n",
            "0            0  3671  2271  3357  6785  2591\n",
            "1            1  3295  9476   322  6128  1058\n",
            "2            2  4081    69  9505   665  8831\n",
            "3            3  9000  8892  2391  8724  9073\n",
            "4            4  4807  8345  3140  3787  1249\n",
            "5            5  3423  8217  7033  8464  3108\n",
            "6            6  1761  8676   989  9558  1931\n",
            "7            7  4437  3795  4324  6687  5646\n",
            "8            8  2177  8936  9362  6248  3095\n",
            "9            9  5213  5101  3738  8899  9504\n",
            "10          10  1352  8868  2741    33  4841\n",
            "11          11  8460  8416  8188  4626  9318\n",
            "12          12  6331  7976  5812  9211   581\n",
            "13          13  5924  2294  2361  3051  2889\n",
            "14          14  6082  2825  3106  7897  6386\n",
            "15          15   233  4510  9719  2147  2824\n",
            "16          16   556  3572  6333   989   847\n",
            "17          17  5308   391  6032  1208  8820\n",
            "18          18  3173  3333  1885  1489  6605\n",
            "19          19   263  7356   307  2518  1019\n",
            "\n",
            "       A     B     C     D     E\n",
            "0   3671  2271  3357  6785  2591\n",
            "1   3295  9476   322  6128  1058\n",
            "2   4081    69  9505   665  8831\n",
            "3   9000  8892  2391  8724  9073\n",
            "4   4807  8345  3140  3787  1249\n",
            "5   3423  8217  7033  8464  3108\n",
            "6   1761  8676   989  9558  1931\n",
            "7   4437  3795  4324  6687  5646\n",
            "8   2177  8936  9362  6248  3095\n",
            "9   5213  5101  3738  8899  9504\n",
            "10  1352  8868  2741    33  4841\n",
            "11  8460  8416  8188  4626  9318\n",
            "12  6331  7976  5812  9211   581\n",
            "13  5924  2294  2361  3051  2889\n",
            "14  6082  2825  3106  7897  6386\n",
            "15   233  4510  9719  2147  2824\n",
            "16   556  3572  6333   989   847\n",
            "17  5308   391  6032  1208  8820\n",
            "18  3173  3333  1885  1489  6605\n",
            "19   263  7356   307  2518  1019\n",
            "\n"
          ]
        }
      ]
    },
    {
      "cell_type": "code",
      "source": [
        "# Podemos acessar todas as páginas de um arquivo excel em uma única vez.\n",
        "# O código abaixo mostra como fazer isso.\n",
        "\n",
        "with pd.ExcelFile('output6.xlsx') as xls:\n",
        "  dfx1 = pd.read_excel(xls, 'Page1')\n",
        "  dfx2 = pd.read_excel(xls, 'Page2')\n",
        "  dfx3 = pd.read_excel(xls, 'Page3')\n",
        "\n",
        "print(dfx1)\n",
        "print()\n",
        "print(dfx2)\n",
        "print()\n",
        "print(dfx3)"
      ],
      "metadata": {
        "colab": {
          "base_uri": "https://localhost:8080/"
        },
        "id": "IVxr77HvH1b4",
        "outputId": "8e5b402b-6c47-4c40-d4db-065da44b05e2"
      },
      "execution_count": null,
      "outputs": [
        {
          "output_type": "stream",
          "name": "stdout",
          "text": [
            "    Unnamed: 0     A     B     C     D     E\n",
            "0            0  3671  2271  3357  6785  2591\n",
            "1            1  3295  9476   322  6128  1058\n",
            "2            2  4081    69  9505   665  8831\n",
            "3            3  9000  8892  2391  8724  9073\n",
            "4            4  4807  8345  3140  3787  1249\n",
            "5            5  3423  8217  7033  8464  3108\n",
            "6            6  1761  8676   989  9558  1931\n",
            "7            7  4437  3795  4324  6687  5646\n",
            "8            8  2177  8936  9362  6248  3095\n",
            "9            9  5213  5101  3738  8899  9504\n",
            "10          10  1352  8868  2741    33  4841\n",
            "11          11  8460  8416  8188  4626  9318\n",
            "12          12  6331  7976  5812  9211   581\n",
            "13          13  5924  2294  2361  3051  2889\n",
            "14          14  6082  2825  3106  7897  6386\n",
            "15          15   233  4510  9719  2147  2824\n",
            "16          16   556  3572  6333   989   847\n",
            "17          17  5308   391  6032  1208  8820\n",
            "18          18  3173  3333  1885  1489  6605\n",
            "19          19   263  7356   307  2518  1019\n",
            "\n",
            "    Unnamed: 0     A     B     C     D     E\n",
            "0            0  3671  2271  3357  6785  2591\n",
            "1            1  3295  9476   322  6128  1058\n",
            "2            2  4081    69  9505   665  8831\n",
            "3            3  9000  8892  2391  8724  9073\n",
            "4            4  4807  8345  3140  3787  1249\n",
            "5            5  3423  8217  7033  8464  3108\n",
            "6            6  1761  8676   989  9558  1931\n",
            "7            7  4437  3795  4324  6687  5646\n",
            "8            8  2177  8936  9362  6248  3095\n",
            "9            9  5213  5101  3738  8899  9504\n",
            "10          10  1352  8868  2741    33  4841\n",
            "11          11  8460  8416  8188  4626  9318\n",
            "12          12  6331  7976  5812  9211   581\n",
            "13          13  5924  2294  2361  3051  2889\n",
            "14          14  6082  2825  3106  7897  6386\n",
            "15          15   233  4510  9719  2147  2824\n",
            "16          16   556  3572  6333   989   847\n",
            "17          17  5308   391  6032  1208  8820\n",
            "18          18  3173  3333  1885  1489  6605\n",
            "19          19   263  7356   307  2518  1019\n",
            "\n",
            "    Unnamed: 0     A     B     C     D     E\n",
            "0            0  3671  2271  3357  6785  2591\n",
            "1            1  3295  9476   322  6128  1058\n",
            "2            2  4081    69  9505   665  8831\n",
            "3            3  9000  8892  2391  8724  9073\n",
            "4            4  4807  8345  3140  3787  1249\n",
            "5            5  3423  8217  7033  8464  3108\n",
            "6            6  1761  8676   989  9558  1931\n",
            "7            7  4437  3795  4324  6687  5646\n",
            "8            8  2177  8936  9362  6248  3095\n",
            "9            9  5213  5101  3738  8899  9504\n",
            "10          10  1352  8868  2741    33  4841\n",
            "11          11  8460  8416  8188  4626  9318\n",
            "12          12  6331  7976  5812  9211   581\n",
            "13          13  5924  2294  2361  3051  2889\n",
            "14          14  6082  2825  3106  7897  6386\n",
            "15          15   233  4510  9719  2147  2824\n",
            "16          16   556  3572  6333   989   847\n",
            "17          17  5308   391  6032  1208  8820\n",
            "18          18  3173  3333  1885  1489  6605\n",
            "19          19   263  7356   307  2518  1019\n"
          ]
        }
      ]
    }
  ]
}