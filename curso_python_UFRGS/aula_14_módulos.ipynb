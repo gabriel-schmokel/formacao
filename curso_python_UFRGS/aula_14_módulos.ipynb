{
  "nbformat": 4,
  "nbformat_minor": 0,
  "metadata": {
    "colab": {
      "name": "aula_14_módulos.ipynb",
      "provenance": []
    },
    "kernelspec": {
      "name": "python3",
      "display_name": "Python 3"
    },
    "language_info": {
      "name": "python"
    }
  },
  "cells": [
    {
      "cell_type": "markdown",
      "source": [
        "# Módulos\n",
        "\n",
        "Módulo de um programa é um artefato de programação que pode ser desenvolvido e compilado separadamente de outras partes do programa. São ficheiros com código que permitem aumentar as capacidades das linguagens de programação.\n",
        "\n",
        "Pode-se importar esses módulos, de forma que podemos utilizar os códigos que estão presentes nesses módulos. Por exemplo, funções ou métodos. "
      ],
      "metadata": {
        "id": "o6WlQ1yuyIAJ"
      }
    },
    {
      "cell_type": "markdown",
      "source": [
        "# Módulos Nativos ou Intrínsecos\n",
        "\n",
        "Os módulos built-in modules são os módulos intrínsecos, que já estão presentes na linguagem python."
      ],
      "metadata": {
        "id": "n5o9LOm3zFZ3"
      }
    },
    {
      "cell_type": "code",
      "execution_count": 4,
      "metadata": {
        "colab": {
          "base_uri": "https://localhost:8080/",
          "height": 1000
        },
        "id": "a-MUa3G5yD2f",
        "outputId": "97e1e698-2e3a-491a-f701-b4dd50b70db6"
      },
      "outputs": [
        {
          "output_type": "stream",
          "name": "stdout",
          "text": [
            "Help on built-in module math:\n",
            "\n",
            "NAME\n",
            "    math\n",
            "\n",
            "DESCRIPTION\n",
            "    This module provides access to the mathematical functions\n",
            "    defined by the C standard.\n",
            "\n",
            "FUNCTIONS\n",
            "    acos(x, /)\n",
            "        Return the arc cosine (measured in radians) of x.\n",
            "    \n",
            "    acosh(x, /)\n",
            "        Return the inverse hyperbolic cosine of x.\n",
            "    \n",
            "    asin(x, /)\n",
            "        Return the arc sine (measured in radians) of x.\n",
            "    \n",
            "    asinh(x, /)\n",
            "        Return the inverse hyperbolic sine of x.\n",
            "    \n",
            "    atan(x, /)\n",
            "        Return the arc tangent (measured in radians) of x.\n",
            "    \n",
            "    atan2(y, x, /)\n",
            "        Return the arc tangent (measured in radians) of y/x.\n",
            "        \n",
            "        Unlike atan(y/x), the signs of both x and y are considered.\n",
            "    \n",
            "    atanh(x, /)\n",
            "        Return the inverse hyperbolic tangent of x.\n",
            "    \n",
            "    ceil(x, /)\n",
            "        Return the ceiling of x as an Integral.\n",
            "        \n",
            "        This is the smallest integer >= x.\n",
            "    \n",
            "    copysign(x, y, /)\n",
            "        Return a float with the magnitude (absolute value) of x but the sign of y.\n",
            "        \n",
            "        On platforms that support signed zeros, copysign(1.0, -0.0)\n",
            "        returns -1.0.\n",
            "    \n",
            "    cos(x, /)\n",
            "        Return the cosine of x (measured in radians).\n",
            "    \n",
            "    cosh(x, /)\n",
            "        Return the hyperbolic cosine of x.\n",
            "    \n",
            "    degrees(x, /)\n",
            "        Convert angle x from radians to degrees.\n",
            "    \n",
            "    erf(x, /)\n",
            "        Error function at x.\n",
            "    \n",
            "    erfc(x, /)\n",
            "        Complementary error function at x.\n",
            "    \n",
            "    exp(x, /)\n",
            "        Return e raised to the power of x.\n",
            "    \n",
            "    expm1(x, /)\n",
            "        Return exp(x)-1.\n",
            "        \n",
            "        This function avoids the loss of precision involved in the direct evaluation of exp(x)-1 for small x.\n",
            "    \n",
            "    fabs(x, /)\n",
            "        Return the absolute value of the float x.\n",
            "    \n",
            "    factorial(x, /)\n",
            "        Find x!.\n",
            "        \n",
            "        Raise a ValueError if x is negative or non-integral.\n",
            "    \n",
            "    floor(x, /)\n",
            "        Return the floor of x as an Integral.\n",
            "        \n",
            "        This is the largest integer <= x.\n",
            "    \n",
            "    fmod(x, y, /)\n",
            "        Return fmod(x, y), according to platform C.\n",
            "        \n",
            "        x % y may differ.\n",
            "    \n",
            "    frexp(x, /)\n",
            "        Return the mantissa and exponent of x, as pair (m, e).\n",
            "        \n",
            "        m is a float and e is an int, such that x = m * 2.**e.\n",
            "        If x is 0, m and e are both 0.  Else 0.5 <= abs(m) < 1.0.\n",
            "    \n",
            "    fsum(seq, /)\n",
            "        Return an accurate floating point sum of values in the iterable seq.\n",
            "        \n",
            "        Assumes IEEE-754 floating point arithmetic.\n",
            "    \n",
            "    gamma(x, /)\n",
            "        Gamma function at x.\n",
            "    \n",
            "    gcd(x, y, /)\n",
            "        greatest common divisor of x and y\n",
            "    \n",
            "    hypot(x, y, /)\n",
            "        Return the Euclidean distance, sqrt(x*x + y*y).\n",
            "    \n",
            "    isclose(a, b, *, rel_tol=1e-09, abs_tol=0.0)\n",
            "        Determine whether two floating point numbers are close in value.\n",
            "        \n",
            "          rel_tol\n",
            "            maximum difference for being considered \"close\", relative to the\n",
            "            magnitude of the input values\n",
            "          abs_tol\n",
            "            maximum difference for being considered \"close\", regardless of the\n",
            "            magnitude of the input values\n",
            "        \n",
            "        Return True if a is close in value to b, and False otherwise.\n",
            "        \n",
            "        For the values to be considered close, the difference between them\n",
            "        must be smaller than at least one of the tolerances.\n",
            "        \n",
            "        -inf, inf and NaN behave similarly to the IEEE 754 Standard.  That\n",
            "        is, NaN is not close to anything, even itself.  inf and -inf are\n",
            "        only close to themselves.\n",
            "    \n",
            "    isfinite(x, /)\n",
            "        Return True if x is neither an infinity nor a NaN, and False otherwise.\n",
            "    \n",
            "    isinf(x, /)\n",
            "        Return True if x is a positive or negative infinity, and False otherwise.\n",
            "    \n",
            "    isnan(x, /)\n",
            "        Return True if x is a NaN (not a number), and False otherwise.\n",
            "    \n",
            "    ldexp(x, i, /)\n",
            "        Return x * (2**i).\n",
            "        \n",
            "        This is essentially the inverse of frexp().\n",
            "    \n",
            "    lgamma(x, /)\n",
            "        Natural logarithm of absolute value of Gamma function at x.\n",
            "    \n",
            "    log(...)\n",
            "        log(x, [base=math.e])\n",
            "        Return the logarithm of x to the given base.\n",
            "        \n",
            "        If the base not specified, returns the natural logarithm (base e) of x.\n",
            "    \n",
            "    log10(x, /)\n",
            "        Return the base 10 logarithm of x.\n",
            "    \n",
            "    log1p(x, /)\n",
            "        Return the natural logarithm of 1+x (base e).\n",
            "        \n",
            "        The result is computed in a way which is accurate for x near zero.\n",
            "    \n",
            "    log2(x, /)\n",
            "        Return the base 2 logarithm of x.\n",
            "    \n",
            "    modf(x, /)\n",
            "        Return the fractional and integer parts of x.\n",
            "        \n",
            "        Both results carry the sign of x and are floats.\n",
            "    \n",
            "    pow(x, y, /)\n",
            "        Return x**y (x to the power of y).\n",
            "    \n",
            "    radians(x, /)\n",
            "        Convert angle x from degrees to radians.\n",
            "    \n",
            "    remainder(x, y, /)\n",
            "        Difference between x and the closest integer multiple of y.\n",
            "        \n",
            "        Return x - n*y where n*y is the closest integer multiple of y.\n",
            "        In the case where x is exactly halfway between two multiples of\n",
            "        y, the nearest even value of n is used. The result is always exact.\n",
            "    \n",
            "    sin(x, /)\n",
            "        Return the sine of x (measured in radians).\n",
            "    \n",
            "    sinh(x, /)\n",
            "        Return the hyperbolic sine of x.\n",
            "    \n",
            "    sqrt(x, /)\n",
            "        Return the square root of x.\n",
            "    \n",
            "    tan(x, /)\n",
            "        Return the tangent of x (measured in radians).\n",
            "    \n",
            "    tanh(x, /)\n",
            "        Return the hyperbolic tangent of x.\n",
            "    \n",
            "    trunc(x, /)\n",
            "        Truncates the Real x to the nearest Integral toward 0.\n",
            "        \n",
            "        Uses the __trunc__ magic method.\n",
            "\n",
            "DATA\n",
            "    e = 2.718281828459045\n",
            "    inf = inf\n",
            "    nan = nan\n",
            "    pi = 3.141592653589793\n",
            "    tau = 6.283185307179586\n",
            "\n",
            "FILE\n",
            "    (built-in)\n",
            "\n",
            "\n"
          ]
        },
        {
          "output_type": "execute_result",
          "data": {
            "text/plain": [
              "' FILE\\n    built-in'"
            ],
            "application/vnd.google.colaboratory.intrinsic+json": {
              "type": "string"
            }
          },
          "metadata": {},
          "execution_count": 4
        }
      ],
      "source": [
        "import math\n",
        "\n",
        "help(math)   # usamos a função help() para acessar os comentários presentes no módulo 'math'\n",
        "\n",
        "''' DESCRIPTION\n",
        "    This module provides access to the mathematical functions\n",
        "    defined by the C standard. '''\n",
        "\n",
        "''' FUNCTIONS\n",
        "    Diferentes funções matemáticas com retorno. '''\n",
        "\n",
        "''' DATA\n",
        "    As constantes definidas de pssível uso nos códigos em python'''\n",
        "\n",
        "''' FILE\n",
        "    built-in'''"
      ]
    },
    {
      "cell_type": "markdown",
      "source": [
        "## Importando Módulos"
      ],
      "metadata": {
        "id": "6HX1JEoq1CpE"
      }
    },
    {
      "cell_type": "code",
      "source": [
        "# Usa-se o comando 'import' param importar um módulo po vez.\n",
        "\n",
        "import math         # módulo matemático visto acima, mas sem números complexos \n",
        "import cmath        # módulo matemático contendo os números complexos.\n",
        "\n",
        "#Com o módulo sys você pode por exemplo, saber qual a plataforma do dispositivo que está rodando o seu código\n",
        "#, obter os caminhos de sistema que o interpretador Python utiliza\n",
        "#, módulos importados, versão do Python, entre outros. \n",
        "import sys       "
      ],
      "metadata": {
        "id": "fTgk6LLS1GBe"
      },
      "execution_count": 18,
      "outputs": []
    },
    {
      "cell_type": "markdown",
      "source": [
        "## Importando Vários Módulos de Uma Vez\n",
        "\n"
      ],
      "metadata": {
        "id": "XZNK_tuv22PH"
      }
    },
    {
      "cell_type": "code",
      "source": [
        "import math, cmath, sys"
      ],
      "metadata": {
        "id": "VviTVaBD28l1"
      },
      "execution_count": 19,
      "outputs": []
    },
    {
      "cell_type": "markdown",
      "source": [
        "## Importando um Módulo e Alterando Seu Nome"
      ],
      "metadata": {
        "id": "0GGuWzCN3Dqw"
      }
    },
    {
      "cell_type": "code",
      "source": [
        "import math as m\n",
        "\n",
        "print(m.sqrt(9))"
      ],
      "metadata": {
        "colab": {
          "base_uri": "https://localhost:8080/"
        },
        "id": "ihYPMvux3I1w",
        "outputId": "97c01c95-6013-47f6-cba8-522b317721a4"
      },
      "execution_count": 20,
      "outputs": [
        {
          "output_type": "stream",
          "name": "stdout",
          "text": [
            "3.0\n"
          ]
        }
      ]
    },
    {
      "cell_type": "markdown",
      "source": [
        "## Deletar Módulos Importados"
      ],
      "metadata": {
        "id": "rpqCfNG-3XSv"
      }
    },
    {
      "cell_type": "code",
      "source": [
        "# Devemos antes importar os módulos.\n",
        "\n",
        "del math\n",
        "del cmath\n",
        "del m, sys\n",
        "\n",
        "#print(m.sqrt(9))        # ERRO! Pois não existe o módulo.\n",
        "#print(math.sqrt(9))     # ERRO! Pois não existe o módulo."
      ],
      "metadata": {
        "colab": {
          "base_uri": "https://localhost:8080/",
          "height": 202
        },
        "id": "YfcUBnbw3TPo",
        "outputId": "7c26dead-a48e-4422-ad41-50a272aa448c"
      },
      "execution_count": 21,
      "outputs": [
        {
          "output_type": "error",
          "ename": "NameError",
          "evalue": "ignored",
          "traceback": [
            "\u001b[0;31m---------------------------------------------------------------------------\u001b[0m",
            "\u001b[0;31mNameError\u001b[0m                                 Traceback (most recent call last)",
            "\u001b[0;32m<ipython-input-21-f45c5b4486b5>\u001b[0m in \u001b[0;36m<module>\u001b[0;34m()\u001b[0m\n\u001b[1;32m      4\u001b[0m \u001b[0;34m\u001b[0m\u001b[0m\n\u001b[1;32m      5\u001b[0m \u001b[0;31m#print(m.sqrt(9))        # ERRO! Pois não existe o módulo.\u001b[0m\u001b[0;34m\u001b[0m\u001b[0;34m\u001b[0m\u001b[0;34m\u001b[0m\u001b[0m\n\u001b[0;32m----> 6\u001b[0;31m \u001b[0mprint\u001b[0m\u001b[0;34m(\u001b[0m\u001b[0mmath\u001b[0m\u001b[0;34m.\u001b[0m\u001b[0msqrt\u001b[0m\u001b[0;34m(\u001b[0m\u001b[0;36m9\u001b[0m\u001b[0;34m)\u001b[0m\u001b[0;34m)\u001b[0m     \u001b[0;31m# ERRO! Pois não existe o módulo.\u001b[0m\u001b[0;34m\u001b[0m\u001b[0;34m\u001b[0m\u001b[0m\n\u001b[0m",
            "\u001b[0;31mNameError\u001b[0m: name 'math' is not defined"
          ]
        }
      ]
    },
    {
      "cell_type": "markdown",
      "source": [
        "## Importando um Objeto específico de um Módulo"
      ],
      "metadata": {
        "id": "PQVSEGy54wjO"
      }
    },
    {
      "cell_type": "code",
      "source": [
        "from math import sqrt\n",
        "\n",
        "# Agora importamos a função sqrt do módulo math\n",
        "# Não é necessário especificar mais o módulo para chamar essa função.\n",
        "\n",
        "print(sqrt(9))"
      ],
      "metadata": {
        "colab": {
          "base_uri": "https://localhost:8080/"
        },
        "id": "-xcYdZFA41Uv",
        "outputId": "fa95f713-e4d1-48f4-d556-46871a7f1a53"
      },
      "execution_count": 22,
      "outputs": [
        {
          "output_type": "stream",
          "name": "stdout",
          "text": [
            "3.0\n"
          ]
        }
      ]
    },
    {
      "cell_type": "markdown",
      "source": [
        "## Importando Vários Objetos específicos de um Módulo\n"
      ],
      "metadata": {
        "id": "FTEs91SW5Om2"
      }
    },
    {
      "cell_type": "code",
      "source": [
        "from math import sqrt, cos, sin\n",
        "\n",
        "print(sqrt(9),cos(2),sin(3))\n",
        "\n",
        "# Deve-se ter o cuidado de não definir variáveis com os objetos importados.\n",
        "# Perde-se a referencia para a função.\n",
        "sin = 'abc'\n",
        "cos = 'xyz'\n",
        "sqrt = 'ter'\n",
        "\n",
        "print(sqrt,cos,sin)"
      ],
      "metadata": {
        "colab": {
          "base_uri": "https://localhost:8080/"
        },
        "id": "zpRqjuak5UjT",
        "outputId": "b7652840-7982-478b-e53e-c82e06b416ac"
      },
      "execution_count": 25,
      "outputs": [
        {
          "output_type": "stream",
          "name": "stdout",
          "text": [
            "3.0 -0.4161468365471424 0.1411200080598672\n",
            "ter xyz abc\n"
          ]
        }
      ]
    },
    {
      "cell_type": "markdown",
      "source": [
        "## Importando Todos Objetos específicos de um Módulo\n",
        "\n",
        "\n"
      ],
      "metadata": {
        "id": "NprEDuTg6WpI"
      }
    },
    {
      "cell_type": "code",
      "source": [
        "from math import *\n",
        "\n",
        "print(sqrt(9))"
      ],
      "metadata": {
        "colab": {
          "base_uri": "https://localhost:8080/"
        },
        "id": "nkr02DuF6b5n",
        "outputId": "e6c39511-d95b-4206-9d2d-84b04b710c20"
      },
      "execution_count": 26,
      "outputs": [
        {
          "output_type": "stream",
          "name": "stdout",
          "text": [
            "3.0\n"
          ]
        }
      ]
    },
    {
      "cell_type": "markdown",
      "source": [
        "## Comados Terminal/Prompet + PYTHONPATH"
      ],
      "metadata": {
        "id": "XcQllXYw7tQl"
      }
    },
    {
      "cell_type": "code",
      "source": [
        "# Acessamos o terminal do linux (máquina virtual do google colab) através do comando '!'\n",
        "\n",
        "! ls\n",
        "! pwd\n",
        "! printenv PYTHONPATH     # Diretório onde se encontram normalmente os módulos em python\n",
        "\n"
      ],
      "metadata": {
        "colab": {
          "base_uri": "https://localhost:8080/"
        },
        "id": "2UoGW-pH70t8",
        "outputId": "1eae8fe6-17ba-4bf2-ddc3-5ce3f23179c8"
      },
      "execution_count": 40,
      "outputs": [
        {
          "output_type": "stream",
          "name": "stdout",
          "text": [
            "sample_data\n",
            "/content\n",
            "/env/python\n"
          ]
        }
      ]
    },
    {
      "cell_type": "markdown",
      "source": [
        "## Diretórios do sistema"
      ],
      "metadata": {
        "id": "AyU6wq8A9X8y"
      }
    },
    {
      "cell_type": "code",
      "source": [
        "# Caso os módulos não estejam em (/env/python) então será procurado os módulos em todo o sistema.\n",
        "\n",
        "import sys\n",
        "\n",
        "print(sys.path)       # Lista todos os diretórios contendo módulos presentes no sistema.\n",
        "! ls '/usr/lib/python3.7'\n",
        "\n"
      ],
      "metadata": {
        "colab": {
          "base_uri": "https://localhost:8080/"
        },
        "id": "fk6j5QOj8uWO",
        "outputId": "b08a357c-e32d-4006-a485-924323f03673"
      },
      "execution_count": 39,
      "outputs": [
        {
          "output_type": "stream",
          "name": "stdout",
          "text": [
            "['', '/content', '/env/python', '/usr/lib/python37.zip', '/usr/lib/python3.7', '/usr/lib/python3.7/lib-dynload', '/usr/local/lib/python3.7/dist-packages', '/usr/lib/python3/dist-packages', '/usr/local/lib/python3.7/dist-packages/IPython/extensions', '/root/.ipython']\n",
            "abc.py\t\t\t      optparse.py\n",
            "aifc.py\t\t\t      os.py\n",
            "antigravity.py\t\t      _osx_support.py\n",
            "argparse.py\t\t      pathlib.py\n",
            "ast.py\t\t\t      pdb.py\n",
            "asynchat.py\t\t      __phello__.foo.py\n",
            "asyncio\t\t\t      pickle.py\n",
            "asyncore.py\t\t      pickletools.py\n",
            "base64.py\t\t      pipes.py\n",
            "bdb.py\t\t\t      pkgutil.py\n",
            "binhex.py\t\t      platform.py\n",
            "bisect.py\t\t      plistlib.py\n",
            "_bootlocale.py\t\t      poplib.py\n",
            "bz2.py\t\t\t      posixpath.py\n",
            "calendar.py\t\t      pprint.py\n",
            "cgi.py\t\t\t      profile.py\n",
            "cgitb.py\t\t      pstats.py\n",
            "chunk.py\t\t      pty.py\n",
            "cmd.py\t\t\t      _py_abc.py\n",
            "codecs.py\t\t      __pycache__\n",
            "codeop.py\t\t      pyclbr.py\n",
            "code.py\t\t\t      py_compile.py\n",
            "collections\t\t      _pydecimal.py\n",
            "_collections_abc.py\t      pydoc_data\n",
            "colorsys.py\t\t      pydoc.py\n",
            "_compat_pickle.py\t      _pyio.py\n",
            "compileall.py\t\t      queue.py\n",
            "_compression.py\t\t      quopri.py\n",
            "concurrent\t\t      random.py\n",
            "config-3.7m-x86_64-linux-gnu  reprlib.py\n",
            "configparser.py\t\t      re.py\n",
            "contextlib.py\t\t      rlcompleter.py\n",
            "contextvars.py\t\t      runpy.py\n",
            "copy.py\t\t\t      sched.py\n",
            "copyreg.py\t\t      secrets.py\n",
            "cProfile.py\t\t      selectors.py\n",
            "crypt.py\t\t      shelve.py\n",
            "csv.py\t\t\t      shlex.py\n",
            "ctypes\t\t\t      shutil.py\n",
            "curses\t\t\t      signal.py\n",
            "dataclasses.py\t\t      _sitebuiltins.py\n",
            "datetime.py\t\t      sitecustomize.py\n",
            "dbm\t\t\t      site.py\n",
            "decimal.py\t\t      smtpd.py\n",
            "difflib.py\t\t      smtplib.py\n",
            "dis.py\t\t\t      sndhdr.py\n",
            "distutils\t\t      socket.py\n",
            "doctest.py\t\t      socketserver.py\n",
            "dummy_threading.py\t      sqlite3\n",
            "_dummy_thread.py\t      sre_compile.py\n",
            "email\t\t\t      sre_constants.py\n",
            "encodings\t\t      sre_parse.py\n",
            "enum.py\t\t\t      ssl.py\n",
            "filecmp.py\t\t      statistics.py\n",
            "fileinput.py\t\t      stat.py\n",
            "fnmatch.py\t\t      stringprep.py\n",
            "formatter.py\t\t      string.py\n",
            "fractions.py\t\t      _strptime.py\n",
            "ftplib.py\t\t      struct.py\n",
            "functools.py\t\t      subprocess.py\n",
            "__future__.py\t\t      sunau.py\n",
            "genericpath.py\t\t      symbol.py\n",
            "getopt.py\t\t      symtable.py\n",
            "getpass.py\t\t      _sysconfigdata_m_linux_x86_64-linux-gnu.py\n",
            "gettext.py\t\t      _sysconfigdata_m_x86_64-linux-gnu.py\n",
            "glob.py\t\t\t      sysconfig.py\n",
            "gzip.py\t\t\t      tabnanny.py\n",
            "hashlib.py\t\t      tarfile.py\n",
            "heapq.py\t\t      telnetlib.py\n",
            "hmac.py\t\t\t      tempfile.py\n",
            "html\t\t\t      test\n",
            "http\t\t\t      textwrap.py\n",
            "imaplib.py\t\t      this.py\n",
            "imghdr.py\t\t      _threading_local.py\n",
            "importlib\t\t      threading.py\n",
            "imp.py\t\t\t      timeit.py\n",
            "inspect.py\t\t      tkinter\n",
            "io.py\t\t\t      tokenize.py\n",
            "ipaddress.py\t\t      token.py\n",
            "json\t\t\t      traceback.py\n",
            "keyword.py\t\t      tracemalloc.py\n",
            "lib2to3\t\t\t      trace.py\n",
            "lib-dynload\t\t      tty.py\n",
            "LICENSE.txt\t\t      turtle.py\n",
            "linecache.py\t\t      types.py\n",
            "locale.py\t\t      typing.py\n",
            "logging\t\t\t      unittest\n",
            "lzma.py\t\t\t      urllib\n",
            "macpath.py\t\t      uuid.py\n",
            "mailbox.py\t\t      uu.py\n",
            "mailcap.py\t\t      venv\n",
            "_markupbase.py\t\t      warnings.py\n",
            "mimetypes.py\t\t      wave.py\n",
            "modulefinder.py\t\t      weakref.py\n",
            "multiprocessing\t\t      _weakrefset.py\n",
            "netrc.py\t\t      webbrowser.py\n",
            "nntplib.py\t\t      wsgiref\n",
            "ntpath.py\t\t      xdrlib.py\n",
            "nturl2path.py\t\t      xml\n",
            "numbers.py\t\t      xmlrpc\n",
            "opcode.py\t\t      zipapp.py\n",
            "operator.py\t\t      zipfile.py\n"
          ]
        }
      ]
    },
    {
      "cell_type": "markdown",
      "source": [
        "## Observação \n",
        "\n",
        "Quando criamos um módulo .py devemos ter cuidado de nomear esse com um nome que já não está sendo usado por outro módulo. Por essa razão, o ideal seria importar o módulo antes de criar o arquivo, justamente poque uma exceção é gerada caso módulo não exista.\n",
        "\n",
        "A exceção gerada é: ModuleNotFoundError"
      ],
      "metadata": {
        "id": "8KlqvgXk_UkB"
      }
    },
    {
      "cell_type": "code",
      "source": [
        "import xyz "
      ],
      "metadata": {
        "colab": {
          "base_uri": "https://localhost:8080/",
          "height": 306
        },
        "id": "7-STfuy7_Tps",
        "outputId": "1245e7c0-eefc-4bdb-b458-a2ec5916867d"
      },
      "execution_count": 41,
      "outputs": [
        {
          "output_type": "error",
          "ename": "ModuleNotFoundError",
          "evalue": "ignored",
          "traceback": [
            "\u001b[0;31m---------------------------------------------------------------------------\u001b[0m",
            "\u001b[0;31mModuleNotFoundError\u001b[0m                       Traceback (most recent call last)",
            "\u001b[0;32m<ipython-input-41-a2042901a7d8>\u001b[0m in \u001b[0;36m<module>\u001b[0;34m()\u001b[0m\n\u001b[0;32m----> 1\u001b[0;31m \u001b[0;32mimport\u001b[0m \u001b[0mxyz\u001b[0m\u001b[0;34m\u001b[0m\u001b[0;34m\u001b[0m\u001b[0m\n\u001b[0m",
            "\u001b[0;31mModuleNotFoundError\u001b[0m: No module named 'xyz'",
            "",
            "\u001b[0;31m---------------------------------------------------------------------------\u001b[0;32m\nNOTE: If your import is failing due to a missing package, you can\nmanually install dependencies using either !pip or !apt.\n\nTo view examples of installing some common dependencies, click the\n\"Open Examples\" button below.\n\u001b[0;31m---------------------------------------------------------------------------\u001b[0m\n"
          ],
          "errorDetails": {
            "actions": [
              {
                "action": "open_url",
                "actionText": "Open Examples",
                "url": "/notebooks/snippets/importing_libraries.ipynb"
              }
            ]
          }
        }
      ]
    }
  ]
}