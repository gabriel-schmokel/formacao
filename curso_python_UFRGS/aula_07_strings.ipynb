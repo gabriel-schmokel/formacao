{
  "nbformat": 4,
  "nbformat_minor": 0,
  "metadata": {
    "colab": {
      "name": "FIS02213-2021-2-276115-AULA-07-strings.ipynb  ",
      "provenance": [],
      "toc_visible": true
    },
    "kernelspec": {
      "name": "python3",
      "display_name": "Python 3"
    },
    "language_info": {
      "name": "python"
    }
  },
  "cells": [
    {
      "cell_type": "markdown",
      "source": [
        "# Strings\n",
        "\n",
        "Strings of characters\" --- ou simplesmente \"strings\" --- são sequências ou cadeias de caracteres, ou seja, letras maiúsculas ou minúsculas, dígitos de 0 a 9, caracteres especiais como espaço (\" \"), asterisco (*), cifrão ($), underscore (_), cerquilha (#), além de qualquer outro caractere do sistema Unicode, o que inclui letras gregas, cirílicas, ideogramas, hieróglifos, e até emojis.\n",
        "\n",
        "A sequência de caracteres é delimitada por aspas simples ou aspas duplas. Por expemplo: \"...\" ou '...'\n",
        "\n",
        "Uma string pode conter vários caracteres, um caracter ou nenhum caracter. Por exemplo: \"Gabriel\", \"G\", \"\"\n",
        "\n",
        "Abaixo segue alguns caracteres visíveis que podem ser colocados numa sequência são:\n",
        "\n",
        "* a-z, A-Z\n",
        "* 0-9\n",
        "* ç, á, ã, ê\n",
        "* !, @, #, $, %, &, *, +, /\n"
      ],
      "metadata": {
        "id": "mub59oLf9tDm"
      }
    },
    {
      "cell_type": "markdown",
      "source": [
        "# Caracter de escape\n",
        "\n",
        "Caractere de escape é um termo usado em computação para identificar um único caractere numa cadeia de caracteres que altera o significado de seu sucessor.\n",
        "\n",
        "Por exemplo, o caracter de escape \"\\\\\" atuando sobre \"n\" acrescenta uma nova linha:  "
      ],
      "metadata": {
        "id": "wFs4ifvIAUdK"
      }
    },
    {
      "cell_type": "code",
      "execution_count": null,
      "metadata": {
        "colab": {
          "base_uri": "https://localhost:8080/"
        },
        "id": "32_JfvaD9V8O",
        "outputId": "7c3d7fa7-5991-4ee1-9237-74c93cee62df"
      },
      "outputs": [
        {
          "output_type": "stream",
          "name": "stdout",
          "text": [
            "O curso FIS02213 está sendo ministrado \n",
            "em modo de Ensino Remoto Emergencial\n"
          ]
        }
      ],
      "source": [
        "# new line: \\n\n",
        "\n",
        "s = \"O curso FIS02213 está sendo ministrado \\nem modo de Ensino Remoto Emergencial\"\n",
        "\n",
        "print(s)"
      ]
    },
    {
      "cell_type": "markdown",
      "source": [
        "O carcter de escape atuando sobre as aspas duplas \"\\\\\" \" permite escrever as aspas duplas dentro da sequência de caracteres: "
      ],
      "metadata": {
        "id": "_1_qWjKpCf9L"
      }
    },
    {
      "cell_type": "code",
      "source": [
        "s = \"O curso FIS02213 está sendo ministrado \\nem modo de \\\"Ensino Remoto Emergencial\\\"\"\n",
        "\n",
        "print(s)"
      ],
      "metadata": {
        "colab": {
          "base_uri": "https://localhost:8080/"
        },
        "id": "F3mWq_GHC9gi",
        "outputId": "eea7067c-0579-4258-aa04-9f90adb633cd"
      },
      "execution_count": null,
      "outputs": [
        {
          "output_type": "stream",
          "name": "stdout",
          "text": [
            "O curso FIS02213 está sendo ministrado \n",
            "em modo de \"Ensino Remoto Emergencial\"\n"
          ]
        }
      ]
    },
    {
      "cell_type": "markdown",
      "source": [
        "Atuando o caracter de escape \"\\\\\" sobre \"t\" insere-se a tabulação:"
      ],
      "metadata": {
        "id": "urpy0QRCDnwq"
      }
    },
    {
      "cell_type": "code",
      "source": [
        "# tabulador \\t\n",
        "\n",
        "print(\"Elemento \\tSímbolo \\tQuantidade\")\n",
        "print(\"Hidrogênio \\tH \\t\\t12.2\")\n",
        "print(\"Hélio  \\t\\tHe \\t\\t20.1\")"
      ],
      "metadata": {
        "colab": {
          "base_uri": "https://localhost:8080/"
        },
        "id": "DvrLAlApENZ_",
        "outputId": "116784af-3cc4-445b-ffe3-30d9db501203"
      },
      "execution_count": null,
      "outputs": [
        {
          "output_type": "stream",
          "name": "stdout",
          "text": [
            "Elemento \tSímbolo \tQuantidade\n",
            "Hidrogênio \tH \t\t12.2\n",
            "Hélio  \t\tHe \t\t20.1\n"
          ]
        }
      ]
    },
    {
      "cell_type": "markdown",
      "source": [
        "Atuando o caracter de escape \"\\\\\" sobre \"b\" estamos dando um *backspace* na string (tecla de retrocesso). Podemos retroceder alguns caractéries e então substituir o texto: "
      ],
      "metadata": {
        "id": "9jKxtHIEFu3V"
      }
    },
    {
      "cell_type": "code",
      "source": [
        "print(\"01233367\\b\\b\\b\\b4567\")"
      ],
      "metadata": {
        "colab": {
          "base_uri": "https://localhost:8080/"
        },
        "id": "qTT9hEEBGwkq",
        "outputId": "2cae7593-e937-4e76-9444-1d3483f393f2"
      },
      "execution_count": null,
      "outputs": [
        {
          "output_type": "stream",
          "name": "stdout",
          "text": [
            "01233367\b\b\b\b4567\n"
          ]
        }
      ]
    },
    {
      "cell_type": "markdown",
      "source": [
        "Utilizando o carcter escape \"\\\\\" sobre um código hexadecimal específico podemos inserir emojis: "
      ],
      "metadata": {
        "id": "Eof2c5dRHViV"
      }
    },
    {
      "cell_type": "code",
      "source": [
        "print(\" \\U0001F44D\\n\", \"\\U0001F61C\\n\", 6*\"\\U0001F923\")"
      ],
      "metadata": {
        "colab": {
          "base_uri": "https://localhost:8080/"
        },
        "id": "Ikg1nExFHmzS",
        "outputId": "55bc939c-6e94-42a3-8a41-a2aa286367f6"
      },
      "execution_count": null,
      "outputs": [
        {
          "output_type": "stream",
          "name": "stdout",
          "text": [
            " 👍\n",
            " 😜\n",
            " 🤣🤣🤣🤣🤣🤣\n"
          ]
        }
      ]
    },
    {
      "cell_type": "markdown",
      "source": [
        "Inserindo no argumento da função *print()* o valor 6 multiplicado pelo emoji \"chorando de rir\", exibi-se seis vezes o emoji. Caso fosse substitúido o emoji por outra palabra, então essa palavra apareceria seis vezes. "
      ],
      "metadata": {
        "id": "c2HuWtoYIbxJ"
      }
    },
    {
      "cell_type": "markdown",
      "source": [
        "#Operadores de Strings \n",
        "\n",
        "Operadores de concatenação \"+\" pode juntar duas ou mais strings:"
      ],
      "metadata": {
        "id": "c02D9RFJJPNO"
      }
    },
    {
      "cell_type": "code",
      "source": [
        "print(\"abc\"+\"def\")    #operador de concatenação"
      ],
      "metadata": {
        "colab": {
          "base_uri": "https://localhost:8080/"
        },
        "id": "41-ZxlGNJuxM",
        "outputId": "70a04911-08df-49ea-c6f7-26a188a345f3"
      },
      "execution_count": null,
      "outputs": [
        {
          "output_type": "stream",
          "name": "stdout",
          "text": [
            "abcdef\n"
          ]
        }
      ]
    },
    {
      "cell_type": "markdown",
      "source": [
        "Operador de replicação \"*\" pode replicar o número de vezes que uma string aparece: "
      ],
      "metadata": {
        "id": "a8ecC9XgLMFg"
      }
    },
    {
      "cell_type": "code",
      "source": [
        "print(6*\"\\U0001F923\")  #operador de replicação\n",
        "print(\"\\n\", 60*\"=\")\n",
        "print(10*\"\\n Relatório ....\")\n",
        "print(\"\\n\", 60*\"=\")"
      ],
      "metadata": {
        "id": "ZX9ZAiXeLLTs"
      },
      "execution_count": null,
      "outputs": []
    },
    {
      "cell_type": "markdown",
      "source": [
        "Operador de inclusão \"in\" pode verificar se uma string pertence a outra string:"
      ],
      "metadata": {
        "id": "qCZY8w5ZLie1"
      }
    },
    {
      "cell_type": "code",
      "source": [
        "print(\"pyt\" in \"Linguagem python de programação\")"
      ],
      "metadata": {
        "colab": {
          "base_uri": "https://localhost:8080/"
        },
        "id": "r3a6WWi7L1fV",
        "outputId": "62ba742e-6c0b-48a2-e174-112be6b7220c"
      },
      "execution_count": null,
      "outputs": [
        {
          "output_type": "stream",
          "name": "stdout",
          "text": [
            "True\n"
          ]
        }
      ]
    },
    {
      "cell_type": "markdown",
      "source": [
        "# Fatiamento de Strings \n",
        "\n",
        "O conteúdo de uma string pode ser acessado da seguinte forma:"
      ],
      "metadata": {
        "id": "riucY2PIMFbx"
      }
    },
    {
      "cell_type": "code",
      "source": [
        "s = \"abcdefghijklm\"\n",
        "\n",
        "print(s[0])       # acesso ao elemento da string\n",
        "print(s[3:7])     # operação de fatiamento respeitando a seguinte lógica --> 012|3456|789...\n",
        "print(s[:5])      # operação de fatiamento respeitando a seguinte lógica --> 01234|56789...\n",
        "print(s[3:])      # operação de fatiamento respeitando a seguinte lógica --> 012|3456789...\n",
        "print(s[2:10:2])  # operação de fatiamento respeitando a seguinte lógica --> 2468..."
      ],
      "metadata": {
        "colab": {
          "base_uri": "https://localhost:8080/"
        },
        "id": "rmmNA2IPMReT",
        "outputId": "ffe67123-08c6-4c0d-d8d4-a3437506ea14"
      },
      "execution_count": null,
      "outputs": [
        {
          "output_type": "stream",
          "name": "stdout",
          "text": [
            "a\n",
            "defg\n",
            "abcde\n",
            "defghijklm\n",
            "cegi\n"
          ]
        }
      ]
    },
    {
      "cell_type": "markdown",
      "source": [
        "#Métodos de Strings\n",
        "\n",
        "Os objetos da classe string têm acesso a um certo conjunto de funções (métodos), que realizam operações conforme o valor das strings.  "
      ],
      "metadata": {
        "id": "yLX_JZTlRuWp"
      }
    },
    {
      "cell_type": "markdown",
      "source": [
        "### Métodos para Operações com Minúsculas e Maiúsculas"
      ],
      "metadata": {
        "id": "-X5KQLjNTnT_"
      }
    },
    {
      "cell_type": "code",
      "source": [
        "s = \"proGRamaÇÃo EM linGUagEm pytHOn\"\n",
        "\n",
        "print(\"s =\" + s)\n",
        "\n",
        "print(\"s.lower() = \" + s.lower())             # Converte os caracteres maiúsculos em minúsculos\n",
        "print(\"s.upper() = \" + s.upper())             # Converte os caracteres minúsculos em maiúsculos\n",
        "print(\"s.capitalize() = \" + s.capitalize())   # Converte a primeira letra da string em maiúscula\n",
        "print(\"s.title() = \" + s.title())             # Converte cada palavra da string em uma letra maiúscula (Formato Título)\n",
        "print(\"s.swapcase() = \" + s.swapcase())       # Inverte as letras maiúsculas/minúsculas"
      ],
      "metadata": {
        "colab": {
          "base_uri": "https://localhost:8080/"
        },
        "id": "-QbsqCg6Rx1a",
        "outputId": "4e67884c-44d9-49dd-de73-95476148b337"
      },
      "execution_count": null,
      "outputs": [
        {
          "output_type": "stream",
          "name": "stdout",
          "text": [
            "s =proGRamaÇÃo EM linGUagEm pytHOn\n",
            "s.lower() = programação em linguagem python\n",
            "s.upper() = PROGRAMAÇÃO EM LINGUAGEM PYTHON\n",
            "s.capitalize() = Programação em linguagem python\n",
            "s.title() = Programação Em Linguagem Python\n",
            "s.swapcase() = PROgrAMAçãO em LINguAGeM PYThoN\n"
          ]
        }
      ]
    },
    {
      "cell_type": "markdown",
      "source": [
        "### Métodos de Particionamento\n",
        "\n",
        "Podemos separar uma string, conforme um caracter desejado, através do método *split( )*. \n",
        "\n",
        "O Argumento presente no método é o que define a separação da string, por *default* o espaço é passado como argumento. Note que a string separada retornará num formato de lista. "
      ],
      "metadata": {
        "id": "IUaA84qOVpZM"
      }
    },
    {
      "cell_type": "code",
      "source": [
        "data = \"20/10/2020\"\n",
        "\n",
        "print(data.split(\"/\"))\n",
        "print(\"home/usuario/dir1/file.dat\".split(\"/\"))\n",
        "print(\"Albert Einstein\".split(\" \"))\n",
        "print(\"Albert Einstein\".split())"
      ],
      "metadata": {
        "colab": {
          "base_uri": "https://localhost:8080/"
        },
        "id": "oK3CbrVPVto_",
        "outputId": "a67d8bcd-a895-4a39-9f60-dc793998f250"
      },
      "execution_count": null,
      "outputs": [
        {
          "output_type": "stream",
          "name": "stdout",
          "text": [
            "['20', '10', '2020']\n",
            "['home', 'usuario', 'dir1', 'file.dat']\n",
            "['Albert', 'Einstein']\n",
            "['Albert', 'Einstein']\n"
          ]
        }
      ]
    },
    {
      "cell_type": "markdown",
      "source": [
        "Pode-se particionar uma string conforme um caracter desejado através do método *partition( )*.\n",
        "\n",
        "O método retornará uma lista contendo a string particionada, porém diferente do método *split()*, já que a lista inclui também o argumento passado.   "
      ],
      "metadata": {
        "id": "aKxgBTlFo4JF"
      }
    },
    {
      "cell_type": "code",
      "source": [
        "string = \"abcdefg\"\n",
        "\n",
        "print(string.partition(\"d\"))\n",
        "print(string.partition(\"cde\"))\n",
        "print(string.partition(\"a\"))"
      ],
      "metadata": {
        "colab": {
          "base_uri": "https://localhost:8080/"
        },
        "id": "pMAySlkjoiIQ",
        "outputId": "d6ae8572-9ef5-49c2-f9d9-2a2038976988"
      },
      "execution_count": null,
      "outputs": [
        {
          "output_type": "stream",
          "name": "stdout",
          "text": [
            "('abc', 'd', 'efg')\n",
            "('ab', 'cde', 'fg')\n",
            "('', 'a', 'bcdefg')\n"
          ]
        }
      ]
    },
    {
      "cell_type": "markdown",
      "source": [
        "O método *splitlines()* retorna uma lista pela quebra da string a cada nova linha:"
      ],
      "metadata": {
        "id": "waq0wrPTqhvo"
      }
    },
    {
      "cell_type": "code",
      "source": [
        "texto = ''' Linha 1\n",
        "Linha 2\n",
        "Linha 3 '''\n",
        "\n",
        "print(texto.splitlines())\n",
        "\n",
        "texto = \" Linha 1\\nLinha 2\\nLinha 3 \"\n",
        "print(texto.splitlines())"
      ],
      "metadata": {
        "colab": {
          "base_uri": "https://localhost:8080/"
        },
        "id": "H_WBKoMKqjYC",
        "outputId": "7e0c9ef4-97e1-4942-b3f1-37418d1998e2"
      },
      "execution_count": null,
      "outputs": [
        {
          "output_type": "stream",
          "name": "stdout",
          "text": [
            "[' Linha 1', 'Linha 2', 'Linha 3 ']\n",
            "[' Linha 1', 'Linha 2', 'Linha 3 ']\n"
          ]
        }
      ]
    },
    {
      "cell_type": "markdown",
      "source": [
        "##Métodos para justificação (posicionamento)\n",
        "\n",
        "Através dos métodos de posicionamento podemos justificar a string em um campo delimitado. \n",
        "\n",
        "Para a string \"s\" podemos centralizá-la em um campo de 30 *caracteres* através do método *center(30)*. Note que o tamanho do campo é delimitado pelo argumento da string.\n",
        "\n",
        "Utiliza-se os métodos *s.ljust( )* e *s.rjust( )* para posicionar a string no campo da esquerda e da direita. Novamente o campo de caracteres é definido pelo argumento de entrada do método. "
      ],
      "metadata": {
        "id": "XOuFdVCvwEJg"
      }
    },
    {
      "cell_type": "code",
      "source": [
        "s = \"Instituto de Física\"\n",
        "\n",
        "print(\"*\" + s.center(30) + \"*\")      # posiciona no centro do campo\n",
        "print(\"*\" + s.ljust(30) + \"*\")       # posiciona a esquerda do campo\n",
        "print(\"*\" + s.rjust(30) + \"*\")       # posiciona a esquerda do campo\n"
      ],
      "metadata": {
        "colab": {
          "base_uri": "https://localhost:8080/"
        },
        "id": "AHye8Rk9wCRt",
        "outputId": "305d1c27-aee3-4fcf-87e6-13e3343b8c2b"
      },
      "execution_count": null,
      "outputs": [
        {
          "output_type": "stream",
          "name": "stdout",
          "text": [
            "*     Instituto de Física      *\n",
            "*Instituto de Física           *\n",
            "*           Instituto de Física*\n"
          ]
        }
      ]
    },
    {
      "cell_type": "markdown",
      "source": [
        "##Método para Remoção de Espaços (em branco)   "
      ],
      "metadata": {
        "id": "ov1swkVk6uI6"
      }
    },
    {
      "cell_type": "code",
      "source": [
        "s = \"      Instituto de Física      \"\n",
        "\n",
        "print(\"*\"+s+\"*\")\n",
        "\n",
        "print(\"*\" + s.strip() + \"*\")       # Remove os espaços em branco a esquerda e a direita do primeiro caracter diferente de \" \"\n",
        "print(\"*\" + s.lstrip() + \"*\")      # Remove os espaços em branco a esquerda do primeiro caracter diferente de \" \"\n",
        "print(\"*\" + s.rstrip() + \"*\")      # Remove os espaços em branco a direita do primeiro caracter diferente de \" \"\n"
      ],
      "metadata": {
        "colab": {
          "base_uri": "https://localhost:8080/"
        },
        "id": "6t1Y2rEs5_D4",
        "outputId": "5c4d076c-4afd-4d13-ba21-9b41307773c9"
      },
      "execution_count": null,
      "outputs": [
        {
          "output_type": "stream",
          "name": "stdout",
          "text": [
            "*      Instituto de Física      *\n",
            "*Instituto de Física*\n",
            "*Instituto de Física      *\n",
            "*      Instituto de Física*\n"
          ]
        }
      ]
    },
    {
      "cell_type": "markdown",
      "source": [
        "## Métodos para Substituição de Substrings\n",
        "\n",
        "Pode-se substituir parte do texto de uma string atraves do método *replace( )*, onde se tem como parâmetro de entrada dois argumentos. O primeiro parâmetro é a substring que deseja-se substituir, o segundo é a substring que será substituida. "
      ],
      "metadata": {
        "id": "nMCoQehX9hAs"
      }
    },
    {
      "cell_type": "code",
      "source": [
        "s = \"Linguagem QUithon\"\n",
        "print(s.replace(\"QUi\",\"Py\"))\n",
        "\n",
        "s = \"  Ins ti tu to  \"\n",
        "print(s.replace(\" \",\"\"))\n",
        "\n"
      ],
      "metadata": {
        "colab": {
          "base_uri": "https://localhost:8080/"
        },
        "id": "acbd66Rv8byi",
        "outputId": "f9f505c5-c1ad-4de4-c0eb-bd64a32b8159"
      },
      "execution_count": null,
      "outputs": [
        {
          "output_type": "stream",
          "name": "stdout",
          "text": [
            "Linguagem Python\n",
            "Instituto\n"
          ]
        }
      ]
    },
    {
      "cell_type": "markdown",
      "source": [
        "## Métodos para Concatenação\n",
        "\n",
        "Podemos agrupar strings através dos seguintes métodos:\n",
        "\n",
        "* Operador + :  concatena strings\n",
        "* Método *join( )*: insere uma string definida que concatena entre todos os elementos da lista."
      ],
      "metadata": {
        "id": "3jU6y_tb_brM"
      }
    },
    {
      "cell_type": "code",
      "source": [
        "print(\"abc\"+\"def\")\n",
        "\n",
        "\n",
        "dmy = [\"20\", \"10\", \"20\"]\n",
        "print(\"/\".join(dmy))\n",
        "print(\"-\".join(dmy))\n",
        "\n",
        "print(''.join([\"abc\",\"def\"]))\n",
        "print(' '.join([\"Albert\",\"Einstein\"]))\n"
      ],
      "metadata": {
        "colab": {
          "base_uri": "https://localhost:8080/"
        },
        "id": "HjYGoOc3_lNx",
        "outputId": "b2f15f96-bf90-4802-95f6-8163bde0ea69"
      },
      "execution_count": null,
      "outputs": [
        {
          "output_type": "stream",
          "name": "stdout",
          "text": [
            "abcdef\n",
            "20/10/20\n",
            "20-10-20\n",
            "abcdef\n",
            "Albert Einstein\n"
          ]
        }
      ]
    },
    {
      "cell_type": "markdown",
      "source": [
        "## Métodos para Pesquisa de Strings\n",
        "\n",
        "Pode-se contar o número de substrings que aparece numa string através do método *count( )*. \n",
        "\n",
        "O argumento de entrada defini qual substring está sendo contanda e o intevalo de análise onde o método está atuando."
      ],
      "metadata": {
        "id": "v21z4vMNCDQH"
      }
    },
    {
      "cell_type": "code",
      "source": [
        "s = \"abc abc abc xyz\"\n",
        "\n",
        "print(s.count(\"a\"))\n",
        "print(s.count(\"a\", 2))\n",
        "print(s.count(\"a\", 2, 6)) \n",
        "print(s.count(\"abc\"))      "
      ],
      "metadata": {
        "colab": {
          "base_uri": "https://localhost:8080/"
        },
        "id": "1-NkzpqVCesi",
        "outputId": "bc85e3e4-94d9-47d4-806d-5bbca8a4cafb"
      },
      "execution_count": null,
      "outputs": [
        {
          "output_type": "stream",
          "name": "stdout",
          "text": [
            "3\n",
            "2\n",
            "1\n",
            "3\n"
          ]
        }
      ]
    },
    {
      "cell_type": "markdown",
      "source": [
        "O método *find( )* recebe como argumento uma substring, esse método irá procurar a substring contida na string e posteriormente retornar o índice onde a substring aparece pela primeira vez. (Para sistuação contrária utiliza-se o método *rfind( )*):\n",
        "\n",
        "Obs: quando o método não encontra a substring contida na stirng ele retorna o valor -1. "
      ],
      "metadata": {
        "id": "GSC15eKpEjCU"
      }
    },
    {
      "cell_type": "code",
      "source": [
        "#find() e rfind()\n",
        "\n",
        "s = \"abc abc abc xyz\"\n",
        "\n",
        "print(s.find(\"c\"))\n",
        "print(s.find(\"c\",2,6))\n",
        "print(s.rfind(\"c\"))\n",
        "print(s.find(\"\\#\"))"
      ],
      "metadata": {
        "id": "Y0cpwNyQEiE7",
        "colab": {
          "base_uri": "https://localhost:8080/"
        },
        "outputId": "a7ccae57-d00d-4c8a-93c5-e5a1289cda0e"
      },
      "execution_count": null,
      "outputs": [
        {
          "output_type": "stream",
          "name": "stdout",
          "text": [
            "2\n",
            "2\n",
            "10\n",
            "-1\n"
          ]
        }
      ]
    },
    {
      "cell_type": "markdown",
      "source": [
        "O médodo *index( )* é idêntico ao *find( )*, porém gera uma exceção quando a substring não está contida dentro da string. "
      ],
      "metadata": {
        "id": "Umv_vy48D-3P"
      }
    },
    {
      "cell_type": "code",
      "source": [
        "#index\n",
        "\n",
        "s = \"abc abc abc xyz\"\n",
        "\n",
        "print(s.index(\"c\"))\n",
        "print(s.index(\"c\",2,6))\n",
        "print(s.rindex(\"c\"))\n",
        "\n",
        "print(s.index(\"w\"))   # gera uma exceção\n",
        "\n"
      ],
      "metadata": {
        "colab": {
          "base_uri": "https://localhost:8080/",
          "height": 272
        },
        "id": "Alqn5NfzDKXF",
        "outputId": "26d4a911-f1a8-46a7-9c4b-574386dce20b"
      },
      "execution_count": null,
      "outputs": [
        {
          "output_type": "stream",
          "name": "stdout",
          "text": [
            "2\n",
            "2\n",
            "10\n"
          ]
        },
        {
          "output_type": "error",
          "ename": "ValueError",
          "evalue": "ignored",
          "traceback": [
            "\u001b[0;31m---------------------------------------------------------------------------\u001b[0m",
            "\u001b[0;31mValueError\u001b[0m                                Traceback (most recent call last)",
            "\u001b[0;32m<ipython-input-14-41b5b63ae507>\u001b[0m in \u001b[0;36m<module>\u001b[0;34m()\u001b[0m\n\u001b[1;32m      7\u001b[0m \u001b[0mprint\u001b[0m\u001b[0;34m(\u001b[0m\u001b[0ms\u001b[0m\u001b[0;34m.\u001b[0m\u001b[0mrindex\u001b[0m\u001b[0;34m(\u001b[0m\u001b[0;34m\"c\"\u001b[0m\u001b[0;34m)\u001b[0m\u001b[0;34m)\u001b[0m\u001b[0;34m\u001b[0m\u001b[0;34m\u001b[0m\u001b[0m\n\u001b[1;32m      8\u001b[0m \u001b[0;34m\u001b[0m\u001b[0m\n\u001b[0;32m----> 9\u001b[0;31m \u001b[0mprint\u001b[0m\u001b[0;34m(\u001b[0m\u001b[0ms\u001b[0m\u001b[0;34m.\u001b[0m\u001b[0mindex\u001b[0m\u001b[0;34m(\u001b[0m\u001b[0;34m\"w\"\u001b[0m\u001b[0;34m)\u001b[0m\u001b[0;34m)\u001b[0m   \u001b[0;31m# gera uma exceção\u001b[0m\u001b[0;34m\u001b[0m\u001b[0;34m\u001b[0m\u001b[0m\n\u001b[0m\u001b[1;32m     10\u001b[0m \u001b[0;34m\u001b[0m\u001b[0m\n",
            "\u001b[0;31mValueError\u001b[0m: substring not found"
          ]
        }
      ]
    },
    {
      "cell_type": "markdown",
      "source": [
        "## Métodos para Testes\n",
        "\n",
        "\n",
        "O métodos para testes retornam uma valor booleano (*True or False*)"
      ],
      "metadata": {
        "id": "z2u6mbh8Eodu"
      }
    },
    {
      "cell_type": "code",
      "source": [
        "print('123'.isdigit())    # o método retorna True se todos os caracteres da string são digitos (Método trabalha com o sistema ASCII)\n",
        "print('123.4'.isdigit())  # o método retorna False se um dos caracteres da string não é digito (Método trabalha com o sistema ASCII)\n",
        "\n",
        "\n",
        "print('123'.isdecimal())    # o método retorna True se todos os caracteres da string são digitos (Método trabalha com o sistema UNICODE)\n",
        "print('123.4'.isdecimal())  # o método retorna False se um dos caracteres da string não é digito (Método trabalha com o sistema UNICODE)\n"
      ],
      "metadata": {
        "colab": {
          "base_uri": "https://localhost:8080/"
        },
        "id": "7XNsW-nCFC-z",
        "outputId": "d3b5b614-55d1-4cff-c269-cce1e6276a01"
      },
      "execution_count": null,
      "outputs": [
        {
          "output_type": "stream",
          "name": "stdout",
          "text": [
            "True\n",
            "False\n"
          ]
        }
      ]
    },
    {
      "cell_type": "markdown",
      "source": [
        "O sitema UNICODE também trabalha com caracteres do tipo frações. \n",
        "\n",
        "Um método que permite verificar se o caracter é númerico é dado por *isnumeric( )*"
      ],
      "metadata": {
        "id": "HzCsUWJIG74l"
      }
    },
    {
      "cell_type": "code",
      "source": [
        "print(\"\\U00002154\")\n",
        "print(\"\\U00002154\".isnumeric())  # o método verifica se o caracter é do tipo numérico (True na situação em que o caracter é numérico/ False na situação contrária)"
      ],
      "metadata": {
        "colab": {
          "base_uri": "https://localhost:8080/"
        },
        "id": "CmtjeYiiHiNK",
        "outputId": "65426c5d-5ccb-44e8-93eb-9332ac73c504"
      },
      "execution_count": null,
      "outputs": [
        {
          "output_type": "stream",
          "name": "stdout",
          "text": [
            "⅔\n",
            "True\n"
          ]
        }
      ]
    },
    {
      "cell_type": "markdown",
      "source": [
        "O método *isalpha( )* que verifica se todos os caracteres da string são alfábéticas. O método *isalnum( )* verifica se todos os caracteres são alfanuméricos, ou seja, se são alfabéticos ou se são números. O método *ispace( )* verifica se todos os caracteres são espaços. O método *isprintable( )* verifica se todos os varacteres são do tipo visíveis. O método *islower( )* verifica se todos os caracteres são minúsculos. O método *isupper( )* verifica se todos os caracteres são maiúsculos."
      ],
      "metadata": {
        "id": "uGpk-WmkID0p"
      }
    },
    {
      "cell_type": "code",
      "source": [
        "print('abc'.isalpha())    # o método retorna True se todos os caracteres da string são alfabéticos\n",
        "print('abc123'.isdigit())   # o método retorna False se um dos caracteres da string não é alfabético\n",
        "print('abc 123'.isdigit())   # o método retorna False se um dos caracteres da string não é alfabético\n",
        "print()\n",
        "\n",
        "print('abc'.isalnum())    # o método retorna True se todos os caracteres da string são alfabéticos ou numéricos\n",
        "print('abc123'.isalnum())   # o método retorna False se um dos caracteres da string não é alfabético ou numérico\n",
        "print('abc 123'.isalnum())   # o método retorna False se um dos caracteres da string não é alfabético ou numérico\n",
        "print()\n",
        "\n",
        "print('                '.isspace())     # o método retorna True se todos os caracteres da string são espaços\n",
        "print('                 X'.isspace())   # o método retorna False se um dos caracteres da string não é o espaço\n",
        "print()\n",
        "\n",
        "print(\" abc   def\".isprintable())  # o método retorna True se todos os caracteres da string são visíveis\n",
        "print('abc    \\n      def'.isprintable())  # o método retorna False se um dos caracteres da string são é visível\n",
        "print()\n",
        "\n",
        "print('abcd '.islower())    # o método retorna True se todos os caracteres da string são minúsculos\n",
        "print('abc DEFG'.islower())   # o método retorna False se um dos caracteres da string não é minúsculo\n",
        "print('EFG'.islower())   # o método retorna False se um dos caracteres da string não é minúsculo\n",
        "print()\n",
        "\n",
        "print('abcd '.isupper())    # o método retorna True se todos os caracteres da string são maiúsculos\n",
        "print('abc DEFG'.isupper())   # o método retorna False se um dos caracteres da string não é maiúsculo\n",
        "print('EFG'.isupper())   # o método retorna False se um dos caracteres da string não é maiúsculo\n",
        "print()"
      ],
      "metadata": {
        "colab": {
          "base_uri": "https://localhost:8080/"
        },
        "id": "0CGqEtVTKA9H",
        "outputId": "4028f920-aa07-4038-cead-52b65e66d37e"
      },
      "execution_count": null,
      "outputs": [
        {
          "output_type": "stream",
          "name": "stdout",
          "text": [
            "True\n",
            "False\n",
            "False\n",
            "\n",
            "True\n",
            "True\n",
            "False\n",
            "\n",
            "True\n",
            "False\n",
            "\n",
            "True\n",
            "False\n",
            "\n",
            "True\n",
            "False\n",
            "False\n",
            "\n",
            "False\n",
            "False\n",
            "True\n",
            "\n"
          ]
        }
      ]
    },
    {
      "cell_type": "markdown",
      "source": [
        "O método *istitle( )* verifica se a string está no formato de um título. O método *starswith( )* verifica se a string começa com a substring passada. O método *endswith( )* verifica se a string termina com a substring passada. O método *isidentifier( )* verifica se a string pode ser usada como identificador. "
      ],
      "metadata": {
        "id": "rD5COVKAM1jJ"
      }
    },
    {
      "cell_type": "code",
      "source": [
        "print('Programação em Python'.istitle())    # o método retorna False se a string não é um título\n",
        "print('Programação Em Python'.istitle())    # o método retorna True se a string é um título\n",
        "print('Programação em PYTHON'.istitle())    # o método retorna False se a string não é um título\n",
        "print()\n",
        "\n",
        "\n",
        "print('Python'.startswith('Py'))                   # o método retorna True se a string começa com a substring \"Py\"\n",
        "print('Programação Em Python'.startswith('Py'))    # o método retorna False se a string começa com a substring \"Py\"\n",
        "print()\n",
        "\n",
        "\n",
        "print('Python'.endswith('on'))                     # o método retorna True se a string termina com a substring \"on\"\n",
        "print('Programação Em Python'.startswith('Py'))    # o método retorna False se a string não termina com a substring \"on\"\n",
        "print()\n",
        "\n",
        "\n",
        "print('x'.isidentifier())             # O método retorna True se a string pode ser um identificador\n",
        "print('_abc'.isidentifier())          # O método retorna True se a string pode ser um identificador\n",
        "print('.abc'.isidentifier())          # O método retorna False se a string não pode ser um identificador\n",
        "print('12abc'.isidentifier())         # O método retorna False se a string não pode ser um identificador\n",
        "print(''.isidentifier())              # O método retorna False se a string não pode ser um identificador\n",
        "print('print'.isidentifier())         # O método retorna True se a string pode ser um identificador\n"
      ],
      "metadata": {
        "colab": {
          "base_uri": "https://localhost:8080/"
        },
        "id": "tvsIjFPrODQJ",
        "outputId": "4efe86c0-f516-4c8b-9d92-bba8c79f1152"
      },
      "execution_count": null,
      "outputs": [
        {
          "output_type": "stream",
          "name": "stdout",
          "text": [
            "False\n",
            "True\n",
            "False\n",
            "\n",
            "True\n",
            "False\n",
            "\n",
            "True\n",
            "False\n",
            "\n",
            "True\n",
            "True\n",
            "False\n",
            "False\n",
            "False\n",
            "True\n"
          ]
        }
      ]
    },
    {
      "cell_type": "markdown",
      "source": [
        "## Métodos para formatação e interpolação de strings \n",
        "\n",
        "\n",
        "Pode-se inserir substrings em um string da seguinte forma:"
      ],
      "metadata": {
        "id": "vCCcvD3iQMLP"
      }
    },
    {
      "cell_type": "code",
      "source": [
        "linha = \"O símbolo químico %s corresponde ao elemento %s\"\n",
        "\n",
        "print(linha%(\"H\",\"Hidrogênio\"))\n",
        "print(linha%(\"He\",\"Helio\"))\n",
        "print(linha%(\"C\",\"Carbono\"))\n",
        "print()\n",
        "\n",
        "\n",
        "linha = \"O símbolo químico {simb} corresponde ao elemento {nome}\"\n",
        "\n",
        "print(linha.format(simb = \" H\",nome = \"Hidrogênio\"))\n",
        "print(linha.format(simb = \" He\",nome = \"Hélio\"))\n",
        "print(linha.format(simb = \" C\",nome = \"Carbono\"))\n",
        "\n",
        "\n"
      ],
      "metadata": {
        "colab": {
          "base_uri": "https://localhost:8080/"
        },
        "id": "Vb-hVbzrQyPC",
        "outputId": "3376d440-e0d8-4a42-91b7-057ebdd52587"
      },
      "execution_count": null,
      "outputs": [
        {
          "output_type": "stream",
          "name": "stdout",
          "text": [
            "O símbolo químico H corresponde ao elemento Hidrogênio\n",
            "O símbolo químico He corresponde ao elemento Helio\n",
            "O símbolo químico C corresponde ao elemento Carbono\n",
            "\n",
            "O símbolo químico  H corresponde ao elemento Hidrogênio\n",
            "O símbolo químico  He corresponde ao elemento Hélio\n",
            "O símbolo químico  C corresponde ao elemento Carbono\n"
          ]
        }
      ]
    }
  ]
}