{
  "nbformat": 4,
  "nbformat_minor": 0,
  "metadata": {
    "colab": {
      "name": "FIS02213-2021-2-276115-AULA-06-controle_de_ fluxo_e_loops.ipynb  ",
      "provenance": []
    },
    "kernelspec": {
      "name": "python3",
      "display_name": "Python 3"
    },
    "language_info": {
      "name": "python"
    }
  },
  "cells": [
    {
      "cell_type": "markdown",
      "source": [
        "# Controle de fluxo\n",
        "\n",
        "* Ramificação condicional: if\n",
        "* Loop: while, for\n"
      ],
      "metadata": {
        "id": "9uR1wpiFSyU_"
      }
    },
    {
      "cell_type": "markdown",
      "source": [
        "## if-elif-else\n",
        "\n",
        "Um programa consiste em um conjunto de instruções a serem executadas pelo computador seguindo uma determinada sequência. Essa sequência de instruções define o \"**fluxo de execução**\" seguido pelo programa. Por padrão, o Python executa o código linha por linha. Mas, frequentemente desejamos que se uma determinada condição ocorrer, por exemplo, o programa siga um **fluxo de execução diferente**. Isto pode ser feito através das instruções **if-elif-else**."
      ],
      "metadata": {
        "id": "Fx7CdteITFA7"
      }
    },
    {
      "cell_type": "code",
      "execution_count": null,
      "metadata": {
        "colab": {
          "base_uri": "https://localhost:8080/"
        },
        "id": "tD8x2u4J5kly",
        "outputId": "deb0f32a-89c2-4f02-cf86-bf3655c40c9f"
      },
      "outputs": [
        {
          "output_type": "stream",
          "name": "stdout",
          "text": [
            "5  é positivo e seu valor absoluto é:  5\n"
          ]
        }
      ],
      "source": [
        "# if\n",
        "# uma condição + 1 desvio\n",
        "\n",
        "x = 5 #@param\n",
        "\n",
        "if (x>0):\n",
        "  y = x\n",
        "  print(x,\" é positivo e seu valor absoluto é: \",y)"
      ]
    },
    {
      "cell_type": "code",
      "source": [
        "# if-else\n",
        "\n",
        "x = -3 #@param\n",
        "\n",
        "if(x > 0):\n",
        "  y = x\n",
        "  print(x,\" é positivo e seu valor absoluto é: \",y)\n",
        "else:\n",
        "  y = -x\n",
        "  print(x,\" é negativo e seu valor absoluto é: \",y)"
      ],
      "metadata": {
        "colab": {
          "base_uri": "https://localhost:8080/"
        },
        "id": "1BZrY-IBTxMa",
        "outputId": "ff1aedcd-96b4-4eed-c4e5-a6e1d008aa2e"
      },
      "execution_count": null,
      "outputs": [
        {
          "output_type": "stream",
          "name": "stdout",
          "text": [
            "-3  é negativo e seu valor absoluto é:  3\n"
          ]
        }
      ]
    },
    {
      "cell_type": "code",
      "source": [
        "# if-elif\n",
        "# qual é o quadrante de (x,y)?\n",
        "\n",
        "x =  -1#@param\n",
        "y =  -1#@param\n",
        "\n",
        "if(x==0 and y == 0):\n",
        "  quadrante = 0\n",
        "elif( x>=0 and y>0 ):\n",
        "  quadrante = 1\n",
        "elif( x<0 and y >= 0):\n",
        "  quadrante = 2\n",
        "elif( x<0 and y<0):\n",
        "  quadrante = 3\n",
        "elif( x>=0 and y<0):\n",
        "  quadrante = 4\n",
        "\n",
        "\n",
        "print(x,y,\" quadrante: \", quadrante)"
      ],
      "metadata": {
        "colab": {
          "base_uri": "https://localhost:8080/"
        },
        "id": "-NMrstKNUgy2",
        "outputId": "d99f724e-fef3-4e47-fabe-52eceed9b2f1"
      },
      "execution_count": null,
      "outputs": [
        {
          "output_type": "stream",
          "name": "stdout",
          "text": [
            "-1 -1  quadrante:  3\n"
          ]
        }
      ]
    },
    {
      "cell_type": "code",
      "source": [
        "# if-elif-else\n",
        "# qual é o quadrante de (x,y)?\n",
        "\n",
        "x =  1#@param\n",
        "y =  -1#@param\n",
        "\n",
        "if(x==0 and y == 0):\n",
        "  quadrante = 0\n",
        "elif( x>=0 and y>0 ):\n",
        "  quadrante = 1\n",
        "elif( x<0 and y >= 0):\n",
        "  quadrante = 2\n",
        "elif( x<0 and y<0):\n",
        "  quadrante = 3\n",
        "else:\n",
        "  quadrante = 4\n",
        "\n",
        "print(x,y,\" quadrante: \", quadrante)"
      ],
      "metadata": {
        "colab": {
          "base_uri": "https://localhost:8080/"
        },
        "id": "vSxrK7FCV1qK",
        "outputId": "5e326d74-a83d-485e-bf90-fb27debc7248"
      },
      "execution_count": null,
      "outputs": [
        {
          "output_type": "stream",
          "name": "stdout",
          "text": [
            "1 -1  quadrante:  4\n"
          ]
        }
      ]
    },
    {
      "cell_type": "code",
      "source": [
        "# aninhamento de ifs:\n",
        "\n",
        "x = -1 #@param\n",
        "y = -1 #@param\n",
        "\n",
        "if x>0:\n",
        "  if y>0:\n",
        "    quadrante = 1\n",
        "  else:\n",
        "    quadrante = 4\n",
        "if x<0:\n",
        "  if y>0:\n",
        "    quadrante = 2\n",
        "  else:\n",
        "    quadrante = 3\n",
        "\n",
        "print(x,y,\" quadrante: \", quadrante)"
      ],
      "metadata": {
        "colab": {
          "base_uri": "https://localhost:8080/"
        },
        "id": "-jKIoRc7WSAK",
        "outputId": "eb84017d-c468-4209-f96c-ef896c9b6d21"
      },
      "execution_count": null,
      "outputs": [
        {
          "output_type": "stream",
          "name": "stdout",
          "text": [
            "-1 -1  quadrante:  3\n"
          ]
        }
      ]
    },
    {
      "cell_type": "code",
      "source": [
        "# if em expressões condicionais\n",
        "# Qual é o quadrante em que (x,y) está?\n",
        "#\n",
        "# O quadrante é 0 se x e y estão na origem senão\n",
        "#               1 se x>0 e y>0 senão\n",
        "#               2 se x<0 e y>0 senão\n",
        "#               3 se x<0 e y<0 senão\n",
        "#               4 s\n",
        "\n",
        "\n",
        "x = -1 #@param\n",
        "y = -1 #@param\n",
        "\n",
        "quadrante = 0 if x == 0 and y == 0 else \\\n",
        "            1 if x >= 0 and y > 0  else \\\n",
        "            2 if x < 0 and y >= 0  else \\\n",
        "            3 if x < 0 and y < 0   else \\\n",
        "            4\n",
        "\n",
        "print(quadrante)"
      ],
      "metadata": {
        "colab": {
          "base_uri": "https://localhost:8080/"
        },
        "id": "FSIW7gBIXARw",
        "outputId": "6e256460-9fcf-478c-c345-c11093cc140f"
      },
      "execution_count": null,
      "outputs": [
        {
          "output_type": "stream",
          "name": "stdout",
          "text": [
            "3\n"
          ]
        }
      ]
    },
    {
      "cell_type": "code",
      "source": [
        "# Par ou Ímpar?\n",
        "# Tipo é par se \"x\" ter o resto da divisão igual a zero, senão ímpar\n",
        "x = 4 #@param\n",
        "tipo = \"par\" if(x % 2 == 0) else \"impar\"\n",
        "print(x,tipo)"
      ],
      "metadata": {
        "colab": {
          "base_uri": "https://localhost:8080/"
        },
        "id": "wycUiLbSdaUE",
        "outputId": "c85d21d5-475c-4f17-c67c-68a71c2b7692"
      },
      "execution_count": null,
      "outputs": [
        {
          "output_type": "stream",
          "name": "stdout",
          "text": [
            "4 par\n"
          ]
        }
      ]
    },
    {
      "cell_type": "code",
      "source": [
        "bissexto = True\n",
        "\n",
        "numero_de_dias_do_mes = [0,31,29 if bissexto else 28,31,30,31,30,31,31,30,31,30,31]\n",
        "print(numero_de_dias_do_mes)"
      ],
      "metadata": {
        "colab": {
          "base_uri": "https://localhost:8080/"
        },
        "id": "BmeMMJW1eKNF",
        "outputId": "fdd6e93f-b205-4974-ec4d-1bf042feb220"
      },
      "execution_count": null,
      "outputs": [
        {
          "output_type": "stream",
          "name": "stdout",
          "text": [
            "[0, 31, 29, 31, 30, 31, 30, 31, 31, 30, 31, 30, 31]\n"
          ]
        }
      ]
    },
    {
      "cell_type": "markdown",
      "source": [
        "## while-for\n",
        "\n",
        "Pode ser necessário que um programa **execute repetidas vezes** um conjunto específico de instruções. Nestes casos, depois da primeira execução do conjunto de instruções, pode-se fazer o programa voltar atrás e repetir o mesmo conjunto de instruções tantas vezes quantas forem necessárias. Em Python, estas repetições, ou \"**loops**\", podem ser feitas através das instruções \"**while**\" e \"**for**\"."
      ],
      "metadata": {
        "id": "61VhLBz1e1Yy"
      }
    },
    {
      "cell_type": "code",
      "source": [
        "# while: enquanto a condição é válida, alguma coisa é feita.\n",
        "\n",
        "k = 0\n",
        "\n",
        "while k<= 10:\n",
        "  print(k)\n",
        "  k+=1"
      ],
      "metadata": {
        "colab": {
          "base_uri": "https://localhost:8080/"
        },
        "id": "V66UI_eEfYPM",
        "outputId": "2e2a3887-3c23-42de-d646-dc109ac6c74b"
      },
      "execution_count": null,
      "outputs": [
        {
          "output_type": "stream",
          "name": "stdout",
          "text": [
            "0\n",
            "1\n",
            "2\n",
            "3\n",
            "4\n",
            "5\n",
            "6\n",
            "7\n",
            "8\n",
            "9\n",
            "10\n"
          ]
        }
      ]
    },
    {
      "cell_type": "code",
      "source": [
        "# while-else\n",
        "\n",
        "k = 20\n",
        "\n",
        "while k <= 10:\n",
        "  print(k)\n",
        "  k+=1\n",
        "else:\n",
        "  print(\"O loop while não foi executado\")\n",
        "\n",
        "print(\"Executa o resto do código\")\n"
      ],
      "metadata": {
        "colab": {
          "base_uri": "https://localhost:8080/"
        },
        "id": "IxlrpY81fu63",
        "outputId": "a61d5b9c-16b3-4e54-a858-0a6f533c9f16"
      },
      "execution_count": null,
      "outputs": [
        {
          "output_type": "stream",
          "name": "stdout",
          "text": [
            "O loop while não foi executado\n",
            "Executa o resto do código\n"
          ]
        }
      ]
    },
    {
      "cell_type": "code",
      "source": [
        "print(\"\\n\",\n",
        "      \"[a] ... faz uma coisa... \", \"\\n\",\n",
        "      \"[b] ... faz uma outra coisa... \\n\",\n",
        "      \"[c] ... faz uma terceira coisa\")\n",
        "\n",
        "opcao = input(\"Digite sua opcao: \")\n",
        "\n",
        "\n",
        "while True:\n",
        "  opcao = input(\"Digite sua opção: \")\n",
        "  \n",
        "  if(opcao == \"a\" or opcao == \"b\" or opcao == \"c\"):\n",
        "    break         # quebra o loop e sai para fora do loop\n",
        "  else:\n",
        "    continue      # não faz nada e continua o loop\n",
        "\n",
        "\n",
        "\n",
        "if opcao == \"a\":\n",
        "  print(\"Fiz uma coisa\")\n",
        "elif opcao == \"b\":\n",
        "  print(\"Fiz a outra coisa...\")\n",
        "elif opcao == \"c\":\n",
        "  print(\"Fiz a terceira coisa\")\n",
        "else:\n",
        "  print(\" O usuário digitou um valor inválido\")"
      ],
      "metadata": {
        "colab": {
          "base_uri": "https://localhost:8080/"
        },
        "id": "qP9-C_DvgOT5",
        "outputId": "afd759d8-6f91-4d4d-99fa-38197c0e3105"
      },
      "execution_count": null,
      "outputs": [
        {
          "output_type": "stream",
          "name": "stdout",
          "text": [
            "\n",
            " [a] ... faz uma coisa...  \n",
            " [b] ... faz uma outra coisa... \n",
            " [c] ... faz uma terceira coisa\n",
            "Digite sua opcao: b\n",
            "Digite sua opção: b\n",
            "Fiz a outra coisa...\n"
          ]
        }
      ]
    },
    {
      "cell_type": "code",
      "source": [
        "# for:\n",
        "\n",
        "lista = ['Jan', 'Fev', 'Mar', 'Abr', 'Mai', 'Jun']\n",
        "\n",
        "for mes in lista:\n",
        "  print(mes) "
      ],
      "metadata": {
        "colab": {
          "base_uri": "https://localhost:8080/"
        },
        "id": "r9vXJrDriWUN",
        "outputId": "b1da4b96-3c8b-4653-97c7-5707525699f7"
      },
      "execution_count": null,
      "outputs": [
        {
          "output_type": "stream",
          "name": "stdout",
          "text": [
            "Jan\n",
            "Fev\n",
            "Mar\n",
            "Abr\n",
            "Mai\n",
            "Jun\n"
          ]
        }
      ]
    },
    {
      "cell_type": "code",
      "source": [
        "# for:\n",
        "\n",
        "lista = ['Jan', 'Fev', 'Mar', 'Abr', 'Mai', 'Jun']\n",
        "\n",
        "for i in range(0,6):\n",
        "  mes = lista[i]\n",
        "  print(mes) "
      ],
      "metadata": {
        "colab": {
          "base_uri": "https://localhost:8080/"
        },
        "id": "DwJCjTyAjT21",
        "outputId": "053f3a0b-690a-46af-83ec-f6e2c6cb73c7"
      },
      "execution_count": null,
      "outputs": [
        {
          "output_type": "stream",
          "name": "stdout",
          "text": [
            "Jan\n",
            "Fev\n",
            "Mar\n",
            "Abr\n",
            "Mai\n",
            "Jun\n"
          ]
        }
      ]
    },
    {
      "cell_type": "code",
      "source": [
        "alfabeto = \"ABCDEFGHIJKLMNOPQRSTVUXWYZ\"\n",
        "\n",
        "n = len(alfabeto)\n",
        "\n",
        "for i in range(0,n,4):\n",
        "  print(alfabeto[i])"
      ],
      "metadata": {
        "colab": {
          "base_uri": "https://localhost:8080/"
        },
        "id": "eUyiL34hjo41",
        "outputId": "8968aae2-7859-46da-e338-7b6bce1a30f0"
      },
      "execution_count": null,
      "outputs": [
        {
          "output_type": "stream",
          "name": "stdout",
          "text": [
            "A\n",
            "E\n",
            "I\n",
            "M\n",
            "Q\n",
            "V\n",
            "Y\n"
          ]
        }
      ]
    },
    {
      "cell_type": "code",
      "source": [
        "# for-else\n",
        "\n",
        "lista = list()\n",
        "\n",
        "for elemento in lista:\n",
        "  print(\"Elemento: *\", elemento, \"*\")\n",
        "else:\n",
        "  print(\"Nenhum elemento\")\n",
        "  "
      ],
      "metadata": {
        "colab": {
          "base_uri": "https://localhost:8080/"
        },
        "id": "YmjVv0o9kVds",
        "outputId": "dc2ea0f3-6cff-4811-9589-63f3ad0b04e6"
      },
      "execution_count": null,
      "outputs": [
        {
          "output_type": "stream",
          "name": "stdout",
          "text": [
            "Nenhum elemento\n"
          ]
        }
      ]
    }
  ]
}