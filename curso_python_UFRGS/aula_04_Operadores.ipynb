{
  "nbformat": 4,
  "nbformat_minor": 0,
  "metadata": {
    "colab": {
      "name": "FIS02213-2021-2-276115-AULA-04-Operadores.ipynb  ",
      "provenance": []
    },
    "kernelspec": {
      "name": "python3",
      "display_name": "Python 3"
    },
    "language_info": {
      "name": "python"
    }
  },
  "cells": [
    {
      "cell_type": "markdown",
      "source": [
        "# Operadores"
      ],
      "metadata": {
        "id": "CedmlcXP-3mb"
      }
    },
    {
      "cell_type": "code",
      "execution_count": null,
      "metadata": {
        "id": "Ny551KIXzXEd",
        "colab": {
          "base_uri": "https://localhost:8080/"
        },
        "outputId": "c076831b-f462-4af0-f6cb-5088ce124ed9"
      },
      "outputs": [
        {
          "output_type": "execute_result",
          "data": {
            "text/plain": [
              "8"
            ]
          },
          "metadata": {},
          "execution_count": 1
        }
      ],
      "source": [
        "# Exemplo\n",
        "# Operador: +\n",
        "# Operação: soma de dois números\n",
        "# Operandos: 5 e 3 \n",
        "\n",
        "5 + 3 "
      ]
    },
    {
      "cell_type": "code",
      "source": [
        "# Operadores binários:\n",
        "# mais comuns, e operam 2 operandos.\n",
        "\n",
        "print(2+3)          # operador soma +\n",
        "print(10/3)         # operador divisão /\n",
        "print(3**4)         # operador de potenciação **\n"
      ],
      "metadata": {
        "colab": {
          "base_uri": "https://localhost:8080/"
        },
        "id": "Frx0kc_p_VRZ",
        "outputId": "d3337318-1cc0-4588-c34e-090cb8aee3df"
      },
      "execution_count": null,
      "outputs": [
        {
          "output_type": "stream",
          "name": "stdout",
          "text": [
            "5\n",
            "3.3333333333333335\n",
            "81\n"
          ]
        }
      ]
    },
    {
      "cell_type": "code",
      "source": [
        "# Operadores unários atuam sobre um único operando \n",
        "\n",
        "x = 10\n",
        "\n",
        "print(-x)         # operador (unário) que retorna o oposto de x.\n",
        "print(+x)         # operador identidade que retorna o mesmo valor de x."
      ],
      "metadata": {
        "colab": {
          "base_uri": "https://localhost:8080/"
        },
        "id": "GPut_VcO_5m7",
        "outputId": "52dc0aca-431b-4fff-ab8e-1897a81235fe"
      },
      "execution_count": null,
      "outputs": [
        {
          "output_type": "stream",
          "name": "stdout",
          "text": [
            "-10\n",
            "10\n"
          ]
        }
      ]
    },
    {
      "cell_type": "markdown",
      "source": [
        "O Python possui os seguintes operadores:\n",
        "\n",
        "- operadores aritméticos.\n",
        "- operadores de atribuição.\n",
        "- operadores de comparação.\n",
        "- operadores lógicos.\n",
        "- operadores identidade.\n",
        "- operadores de inclusão (ou adesão)\n",
        "- operadores bit-a-bit (*bitwise*)"
      ],
      "metadata": {
        "id": "QVrj3IkeAmey"
      }
    },
    {
      "cell_type": "markdown",
      "source": [
        "# Operadores aritiméticos\n",
        "\n",
        "  - soma: +\n",
        "  - subtração: - \n",
        "  - produto: *\n",
        "  - divisão: /\n",
        "  - potenciação: **\n",
        "  - divisão aproximada (*floor division*): //\n",
        "  - módulo: %"
      ],
      "metadata": {
        "id": "5Q9DItW3Ba6E"
      }
    },
    {
      "cell_type": "code",
      "source": [
        "print(13+4)       # soma\n",
        "print(13-4)       # subtração\n",
        "print(13*4)       # produto\n",
        "print(13/4)       # divisão\n",
        "print(13**2)      # potenciação"
      ],
      "metadata": {
        "colab": {
          "base_uri": "https://localhost:8080/"
        },
        "id": "d_2pzHaKAg99",
        "outputId": "c35bb3d5-3306-4a95-ab8c-bb9d3dfb3fe5"
      },
      "execution_count": null,
      "outputs": [
        {
          "output_type": "stream",
          "name": "stdout",
          "text": [
            "17\n",
            "9\n",
            "52\n",
            "3.25\n",
            "169\n"
          ]
        }
      ]
    },
    {
      "cell_type": "code",
      "source": [
        "print(13//4)     # divisão aproximada\n",
        "print(100//3)\n",
        "\n",
        "print(-13/4)\n",
        "print(-13//4)"
      ],
      "metadata": {
        "colab": {
          "base_uri": "https://localhost:8080/"
        },
        "id": "W2wgNeKyCbYF",
        "outputId": "99811f81-be06-4553-aa30-a7feea562460"
      },
      "execution_count": null,
      "outputs": [
        {
          "output_type": "stream",
          "name": "stdout",
          "text": [
            "3\n",
            "33\n",
            "-3.25\n",
            "-4\n"
          ]
        }
      ]
    },
    {
      "cell_type": "code",
      "source": [
        "# módulo:  %\n",
        "\n",
        "print(13%4)\n",
        "print(20%3)"
      ],
      "metadata": {
        "colab": {
          "base_uri": "https://localhost:8080/"
        },
        "id": "2Tw0ccARC9N1",
        "outputId": "b53c7eb8-8d82-4749-fa4d-e934df53cc92"
      },
      "execution_count": null,
      "outputs": [
        {
          "output_type": "stream",
          "name": "stdout",
          "text": [
            "1\n",
            "2\n"
          ]
        }
      ]
    },
    {
      "cell_type": "code",
      "source": [
        "angle_deg = 1234.5      # ângulo em graus\n",
        "angle_deg % 360"
      ],
      "metadata": {
        "colab": {
          "base_uri": "https://localhost:8080/"
        },
        "id": "vFteibgyDYyZ",
        "outputId": "865c6ffd-3ec7-442b-ea0a-6eed0435cb57"
      },
      "execution_count": null,
      "outputs": [
        {
          "output_type": "execute_result",
          "data": {
            "text/plain": [
              "154.5"
            ]
          },
          "metadata": {},
          "execution_count": 7
        }
      ]
    },
    {
      "cell_type": "code",
      "source": [
        "t = 5543                # tempo em segundos\n",
        "\n",
        "h = t//3600\n",
        "m = (t%3600)//60\n",
        "s = (t%60)\n",
        "print(h,m,s)\n",
        "\n",
        "print(h*3600 +m*60 +s)"
      ],
      "metadata": {
        "colab": {
          "base_uri": "https://localhost:8080/"
        },
        "id": "GgHxtfZADoyK",
        "outputId": "a2e3453b-19bf-44b5-a63e-53c6f9ef9c48"
      },
      "execution_count": null,
      "outputs": [
        {
          "output_type": "stream",
          "name": "stdout",
          "text": [
            "1 32 23\n",
            "5543\n"
          ]
        }
      ]
    },
    {
      "cell_type": "markdown",
      "source": [
        "# Operadores de atribuição\n",
        "\n",
        "Um operador de atribuição atribui um valor ao operando à sua esquerda baseado no valor do operando à direita.\n",
        "\n",
        "O operador de atribuição básico é o igual:\n",
        "\n",
        "* =\n",
        "\n",
        "Outros operadores de atribuição são operadores de atribuição composto:\n",
        "\n",
        "* +=\n",
        "* -=\n",
        "* **=\n",
        "* /=\n",
        "* *="
      ],
      "metadata": {
        "id": "QpCOZ6AdESz7"
      }
    },
    {
      "cell_type": "code",
      "source": [
        "x = 7 + 3\n",
        "y = x + 3\n",
        "\n",
        "print(x,y)"
      ],
      "metadata": {
        "colab": {
          "base_uri": "https://localhost:8080/"
        },
        "id": "pEWaOs1yEsb3",
        "outputId": "a2f7ad57-6522-49f0-b5d5-793001f99872"
      },
      "execution_count": null,
      "outputs": [
        {
          "output_type": "stream",
          "name": "stdout",
          "text": [
            "10 13\n"
          ]
        }
      ]
    },
    {
      "cell_type": "code",
      "source": [
        "a = 7\n",
        "\n",
        "a = a + 4\n",
        "print(a)"
      ],
      "metadata": {
        "colab": {
          "base_uri": "https://localhost:8080/"
        },
        "id": "htpelycbE8sR",
        "outputId": "0c4341a3-721a-4215-fe86-217b7bfb400b"
      },
      "execution_count": null,
      "outputs": [
        {
          "output_type": "stream",
          "name": "stdout",
          "text": [
            "11\n"
          ]
        }
      ]
    },
    {
      "cell_type": "code",
      "source": [
        "a = 7\n",
        "a += 8\n",
        "\n",
        "print(a)"
      ],
      "metadata": {
        "colab": {
          "base_uri": "https://localhost:8080/"
        },
        "id": "s_cSdD-cFIwj",
        "outputId": "f57dd477-af9b-422e-dbd5-6f2e73a67c71"
      },
      "execution_count": null,
      "outputs": [
        {
          "output_type": "stream",
          "name": "stdout",
          "text": [
            "15\n"
          ]
        }
      ]
    },
    {
      "cell_type": "code",
      "source": [
        "b = 5\n",
        "b **= 5\n",
        "\n",
        "print(b)"
      ],
      "metadata": {
        "colab": {
          "base_uri": "https://localhost:8080/"
        },
        "id": "hJRROPNFFbPq",
        "outputId": "d34743cc-f2ea-48c7-be88-4731b2bfbcd7"
      },
      "execution_count": null,
      "outputs": [
        {
          "output_type": "stream",
          "name": "stdout",
          "text": [
            "3125\n"
          ]
        }
      ]
    },
    {
      "cell_type": "markdown",
      "source": [
        "# Operadores de Comparação\n",
        "\n",
        "* == igual (igualdade!!!)\n",
        "* != diferente\n",
        "* < menor\n",
        "* <= menor ou igual\n",
        "* \\> maior\n",
        "* \\>= maior ou igual \n",
        "\n",
        "Rotornam **True**  ou **False**\n",
        "\n"
      ],
      "metadata": {
        "id": "tXEfPXBOHUhT"
      }
    },
    {
      "cell_type": "code",
      "source": [
        "# Uma mesma expressão relacional pode conter duas comparações:\n",
        "\n",
        "a = 9\n",
        "0 <= a <= 10\n"
      ],
      "metadata": {
        "colab": {
          "base_uri": "https://localhost:8080/"
        },
        "id": "gCbrBejbID73",
        "outputId": "d1975722-e49e-46d2-d188-c65c16b215b0"
      },
      "execution_count": null,
      "outputs": [
        {
          "output_type": "execute_result",
          "data": {
            "text/plain": [
              "True"
            ]
          },
          "metadata": {},
          "execution_count": 13
        }
      ]
    },
    {
      "cell_type": "code",
      "source": [
        "# É possível fazer comparações (independentes) numa mesma linha de código.\n",
        "# O resultado será um tuplas contendo os resultados das comparações:\n",
        "\n",
        "a = 9\n",
        "b = 6\n",
        "\n",
        "a <= b, a != b, a >= b, a > b\n",
        "\n"
      ],
      "metadata": {
        "colab": {
          "base_uri": "https://localhost:8080/"
        },
        "id": "jxG57AcFIVJm",
        "outputId": "dfc6aad8-cfba-43f8-d03d-1ecd4eae46bd"
      },
      "execution_count": null,
      "outputs": [
        {
          "output_type": "execute_result",
          "data": {
            "text/plain": [
              "(False, True, True, True)"
            ]
          },
          "metadata": {},
          "execution_count": 14
        }
      ]
    },
    {
      "cell_type": "code",
      "source": [
        "# Se os operadores forem de classes (tipos) diferentes de modo de comparação não faça sentido, uma mensagem de erro (excessão) será gerada.\n",
        "\n",
        "\"três\" < 4      # ERROR"
      ],
      "metadata": {
        "colab": {
          "base_uri": "https://localhost:8080/",
          "height": 202
        },
        "id": "S-J32T0xI7BJ",
        "outputId": "7a372c81-780b-4d4b-d683-7c9683aa60e7"
      },
      "execution_count": null,
      "outputs": [
        {
          "output_type": "error",
          "ename": "TypeError",
          "evalue": "ignored",
          "traceback": [
            "\u001b[0;31m---------------------------------------------------------------------------\u001b[0m",
            "\u001b[0;31mTypeError\u001b[0m                                 Traceback (most recent call last)",
            "\u001b[0;32m<ipython-input-15-b558ed3ea8c4>\u001b[0m in \u001b[0;36m<module>\u001b[0;34m()\u001b[0m\n\u001b[1;32m      1\u001b[0m \u001b[0;31m# Se os operadores forem de classes (tipos) diferentes de modo de comparação não faça sentido, uma mensagem de erro (excessão) será gerada.\u001b[0m\u001b[0;34m\u001b[0m\u001b[0;34m\u001b[0m\u001b[0;34m\u001b[0m\u001b[0m\n\u001b[1;32m      2\u001b[0m \u001b[0;34m\u001b[0m\u001b[0m\n\u001b[0;32m----> 3\u001b[0;31m \u001b[0;34m\"três\"\u001b[0m \u001b[0;34m<\u001b[0m \u001b[0;36m4\u001b[0m      \u001b[0;31m# ERROR\u001b[0m\u001b[0;34m\u001b[0m\u001b[0;34m\u001b[0m\u001b[0m\n\u001b[0m",
            "\u001b[0;31mTypeError\u001b[0m: '<' not supported between instances of 'str' and 'int'"
          ]
        }
      ]
    },
    {
      "cell_type": "code",
      "source": [
        "\"Argentina\" < \"Brasil\"  # numa listagem alfabética  Argentina vem antes do Brasil, portanto retorna True."
      ],
      "metadata": {
        "colab": {
          "base_uri": "https://localhost:8080/"
        },
        "id": "pfXY6ly5JlRU",
        "outputId": "2f4f90e4-f450-4b96-ff43-600a897862d9"
      },
      "execution_count": null,
      "outputs": [
        {
          "output_type": "execute_result",
          "data": {
            "text/plain": [
              "True"
            ]
          },
          "metadata": {},
          "execution_count": 16
        }
      ]
    },
    {
      "cell_type": "code",
      "source": [
        "\"Chile\" < \"Brasil\"      # numa listagem alfabética Chile vem depois do Brasil, portanto retorna False."
      ],
      "metadata": {
        "colab": {
          "base_uri": "https://localhost:8080/"
        },
        "id": "lAM7ALpUJs_A",
        "outputId": "83bc804b-4359-4087-b857-cf7e7a70eebc"
      },
      "execution_count": null,
      "outputs": [
        {
          "output_type": "execute_result",
          "data": {
            "text/plain": [
              "False"
            ]
          },
          "metadata": {},
          "execution_count": 17
        }
      ]
    },
    {
      "cell_type": "markdown",
      "source": [
        "**Operadores Lógicos**\n",
        "\n",
        "+ **and** (binário)\n",
        "> operando1 **and** operando2  <br><br>\n",
        "> retorna **True** se e somente se os dois operandos from True, <br> caso contrário, retorna **False** \n",
        "+ **or** (binário)\n",
        "> operador1 **or** operando2 <br><br>\n",
        "> retorna **True** se pelo menos um dos operandos for True, <br>\n",
        "> caso contrário, retorna **False**\n",
        "+ **not** (unário)\n",
        "> **not** operando <br><br>\n",
        "> retorna **True** se o operando for False <br>\n",
        "> e **False** se o operando for True"
      ],
      "metadata": {
        "id": "6gZgN9K0KbVY"
      }
    },
    {
      "cell_type": "code",
      "source": [
        "# and:\n",
        "True and True, True and False, False and True, False and False \n"
      ],
      "metadata": {
        "colab": {
          "base_uri": "https://localhost:8080/"
        },
        "id": "c_lZC6KiMeiV",
        "outputId": "8494a059-aebc-4b0e-f751-db665c56bc6e"
      },
      "execution_count": null,
      "outputs": [
        {
          "output_type": "execute_result",
          "data": {
            "text/plain": [
              "(True, False, False, False)"
            ]
          },
          "metadata": {},
          "execution_count": 18
        }
      ]
    },
    {
      "cell_type": "code",
      "source": [
        "# or:\n",
        "True or True, True or False, False or True, False or False "
      ],
      "metadata": {
        "colab": {
          "base_uri": "https://localhost:8080/"
        },
        "id": "SRG8GaXANATm",
        "outputId": "edabbc6b-a55d-456e-de92-2f06327c50cf"
      },
      "execution_count": null,
      "outputs": [
        {
          "output_type": "execute_result",
          "data": {
            "text/plain": [
              "(True, True, True, False)"
            ]
          },
          "metadata": {},
          "execution_count": 19
        }
      ]
    },
    {
      "cell_type": "code",
      "source": [
        "# not:\n",
        "not True, not False"
      ],
      "metadata": {
        "colab": {
          "base_uri": "https://localhost:8080/"
        },
        "id": "GyTuDgu4NNGW",
        "outputId": "8d20d361-ce36-49f2-9e2a-b055d5ed490f"
      },
      "execution_count": null,
      "outputs": [
        {
          "output_type": "execute_result",
          "data": {
            "text/plain": [
              "(False, True)"
            ]
          },
          "metadata": {},
          "execution_count": 20
        }
      ]
    },
    {
      "cell_type": "code",
      "source": [
        "a = 10\n",
        "b = 20\n",
        "\n",
        "print(a > 10 and b < 100)\n",
        "print(a < 50 and b < 50)\n",
        "\n",
        "print ( (a > 1 or a < 20) and (b < 50 or b > 10) )\n",
        "\n",
        "x = (a>1 or a<20) and (b<50 or b>10)\n",
        "y = not ( (a > 1 or a < 20) and (b < 50 or b > 10) )\n",
        "z = not y\n",
        "print(x,y,z)"
      ],
      "metadata": {
        "colab": {
          "base_uri": "https://localhost:8080/"
        },
        "id": "mxd2EKUkNd0r",
        "outputId": "5edfc7d3-079f-46e9-fdd5-f83bc5ba92ef"
      },
      "execution_count": null,
      "outputs": [
        {
          "output_type": "stream",
          "name": "stdout",
          "text": [
            "False\n",
            "True\n",
            "True\n",
            "True False True\n"
          ]
        }
      ]
    },
    {
      "cell_type": "markdown",
      "source": [
        "No python ...\n",
        "\n",
        "* Todos os objetos são True, exceto o objeto especial **Nome**\n",
        "* Todos os valores numéricos são True, exceto o zero (0)\n",
        "* Todas as strings são True, exceto \\' \\' (string vazia)\n",
        "* Todas as listas são True, exceto [ ] (lista vazia)\n",
        "* Todas as listas são True, exceto ( ) (tupla vazia)\n"
      ],
      "metadata": {
        "id": "PWDTk8SkPT5y"
      }
    },
    {
      "cell_type": "code",
      "source": [
        "cinco = 5\n",
        "dois = 2\n",
        "zero = 0\n",
        "\n",
        "print(cinco and dois)        # irá retornar True\n",
        "print(dois and cinco)        # irá retornar True\n",
        "\n",
        "print()\n",
        "print(cinco and zero)        # irá retornar False\n",
        "print(zero and cinco)        # irá retornar False"
      ],
      "metadata": {
        "colab": {
          "base_uri": "https://localhost:8080/"
        },
        "id": "MMSfDWO6QMQT",
        "outputId": "513161bc-3197-4ff3-e4bd-3da218a5e3bb"
      },
      "execution_count": null,
      "outputs": [
        {
          "output_type": "stream",
          "name": "stdout",
          "text": [
            "2\n",
            "5\n",
            "\n",
            "0\n",
            "0\n"
          ]
        }
      ]
    },
    {
      "cell_type": "code",
      "source": [
        "print(cinco or dois)        # irá retornar True com cinco como resultado\n",
        "print(dois or cinco)        # irá retornar True com dois como reultado\n",
        "\n",
        "print()\n",
        "print(zero or cinco)        # irá retornar True com cinco como resultado\n",
        "print(cinco or zero)        # irá retornar True com cinco como resultado\n",
        "\n",
        "print()\n",
        "print(zero or None)         # irá retornar False com None como resultado\n",
        "print(None or zero)         # irá retornar False com Zero como resultado"
      ],
      "metadata": {
        "colab": {
          "base_uri": "https://localhost:8080/"
        },
        "id": "LGyD25PQQ_Kg",
        "outputId": "1d61fbf0-d96f-41bc-9f3b-413a90292bcb"
      },
      "execution_count": null,
      "outputs": [
        {
          "output_type": "stream",
          "name": "stdout",
          "text": [
            "5\n",
            "2\n",
            "\n",
            "5\n",
            "5\n",
            "\n",
            "None\n",
            "0\n"
          ]
        }
      ]
    },
    {
      "cell_type": "markdown",
      "source": [
        "# Operadores de indentidade\n",
        "\n",
        "Utiliza-se **is** para saber quando um identificador referencia o mesmo objeto referenciado por outro identificador. Na situação em que existe a referencia será retornado o valor True, caso contrário retornará False. O operador **is not** retorna a solução contrária do **is**. \n",
        "\n",
        "\n",
        "* is\n",
        "* is not"
      ],
      "metadata": {
        "id": "45pz7YPnTyVV"
      }
    },
    {
      "cell_type": "code",
      "source": [
        "# Exemplo 1\n",
        "\n",
        "a = 12.3\n",
        "b = 12.3\n",
        "\n",
        "print()\n",
        "print(a == b)\n",
        "print(a is b)    # Deve retornar False, pois o obgeto referenciado por A não é o mesmo referenciado por B (apesar deles possuirem o mesmo valor e serem do mesmo tipo)\n",
        "\n",
        "\n",
        "# Exemplo 2\n",
        "lista1 = [1,2,3]\n",
        "lista2 = [1,2,3]\n",
        "\n",
        "print()\n",
        "print(lista1 == lista2)\n",
        "print(lista1 is lista2)\n",
        "\n",
        "# Exemplo 3\n",
        "\n",
        "a = 3000\n",
        "b = a\n",
        "\n",
        "print()\n",
        "print(a == b)\n",
        "print(a is b)  # Deve retornar True, pois \"b\" passa a referenciar aquilo que a variável \"a\" referência \n",
        "\n",
        "# Exemplo 4\n",
        "\n",
        "a = 17\n",
        "b = 17\n",
        "\n",
        "print()\n",
        "print(a == b)\n",
        "print(a is b)\n",
        "\n",
        "c = 256\n",
        "d = 256\n",
        "print(c is d)  \n",
        "\n",
        "c = 257\n",
        "d = 257\n",
        "print(c is d)  # deve retornar False, pois o limite vai até 256\n",
        "\n",
        "\n",
        "a = -20\n",
        "b = -20\n",
        "print(a is b)\n",
        "\n",
        "\n",
        "\n",
        "# Exemplo 5\n",
        "\n",
        "str1 = 'a'\n",
        "str2 = 'a'\n",
        "\n",
        "print()\n",
        "print(str1 is str2)\n",
        "\n",
        "str1 = 'xyz'\n",
        "str2 = 'xyz'\n",
        "print(str1 is str2)\n",
        "\n",
        "str3 = 'Porto Alegre'\n",
        "str4 = 'Porto Alegre'\n",
        "print(str3 is str4)\n"
      ],
      "metadata": {
        "colab": {
          "base_uri": "https://localhost:8080/"
        },
        "id": "zO8r727VwmZ6",
        "outputId": "d43b2c72-8b3f-4af9-eb38-a570f1cd805c"
      },
      "execution_count": null,
      "outputs": [
        {
          "output_type": "stream",
          "name": "stdout",
          "text": [
            "\n",
            "True\n",
            "False\n",
            "\n",
            "True\n",
            "False\n",
            "\n",
            "True\n",
            "True\n",
            "\n",
            "True\n",
            "True\n",
            "True\n",
            "False\n",
            "False\n",
            "\n",
            "True\n",
            "True\n",
            "False\n"
          ]
        }
      ]
    },
    {
      "cell_type": "markdown",
      "source": [
        "# Operadores de inclusão (de adesão)\n",
        "\n",
        "Utiliza-se **in** para saber se um elemento está presente em uma lista ou uma string, retorna True quando o elemento está presente e False quando o elemento não pertence.\n",
        "\n",
        "* in\n",
        "* not in"
      ],
      "metadata": {
        "id": "H_TMgfW52nqm"
      }
    },
    {
      "cell_type": "code",
      "source": [
        "p = [1,21,37,43,50,67]\n",
        "a = 3\n",
        "\n",
        "print(3 in p, 3 not in p)\n",
        "print(37 in p, 37 not in p)"
      ],
      "metadata": {
        "colab": {
          "base_uri": "https://localhost:8080/"
        },
        "id": "-qcR_LsJ3F1y",
        "outputId": "39a58197-05b4-402f-bb5c-687e93a148a1"
      },
      "execution_count": null,
      "outputs": [
        {
          "output_type": "stream",
          "name": "stdout",
          "text": [
            "False True\n",
            "True False\n"
          ]
        }
      ]
    },
    {
      "cell_type": "code",
      "source": [
        "t = (4, \"sapo\", 3.12, 4, -3)\n",
        "\n",
        "print(\"pato\" in t)\n",
        "print(3.12 in t)"
      ],
      "metadata": {
        "colab": {
          "base_uri": "https://localhost:8080/"
        },
        "id": "3ibcoFiM3hBk",
        "outputId": "3507ac46-195b-4aba-b06b-db8c0d464e0d"
      },
      "execution_count": null,
      "outputs": [
        {
          "output_type": "stream",
          "name": "stdout",
          "text": [
            "False\n",
            "True\n"
          ]
        }
      ]
    },
    {
      "cell_type": "code",
      "source": [
        "frase = \"Programação Cientifica em Python\"\n",
        "\n",
        "print(\"Python\" in frase)\n",
        "print(\"C++\" in frase)\n",
        "print(\"ação\" in frase)"
      ],
      "metadata": {
        "colab": {
          "base_uri": "https://localhost:8080/"
        },
        "id": "Viz_1CJL3-_J",
        "outputId": "aaeb619c-6f12-49b3-b418-e4cab144023a"
      },
      "execution_count": null,
      "outputs": [
        {
          "output_type": "stream",
          "name": "stdout",
          "text": [
            "True\n",
            "False\n",
            "True\n"
          ]
        }
      ]
    },
    {
      "cell_type": "markdown",
      "source": [
        "# Operadores em diferentes contextos"
      ],
      "metadata": {
        "id": "gh28EZXL5xlu"
      }
    },
    {
      "cell_type": "code",
      "source": [
        "c = 10\n",
        "print(c +5)\n",
        "\n",
        "print()\n",
        "s = \"Linguagem\"\n",
        "s = s + \" Python\"\n",
        "print(s)\n",
        "\n",
        "print()\n",
        "s += \" de Programação\"\n",
        "print(s)"
      ],
      "metadata": {
        "colab": {
          "base_uri": "https://localhost:8080/"
        },
        "id": "P_NpFox-6JAL",
        "outputId": "2e23c10d-0ffc-4857-d336-81cab0a02873"
      },
      "execution_count": null,
      "outputs": [
        {
          "output_type": "stream",
          "name": "stdout",
          "text": [
            "15\n",
            "\n",
            "Linguagem Python\n",
            "\n",
            "Linguagem Python de Programação\n"
          ]
        }
      ]
    },
    {
      "cell_type": "code",
      "source": [
        "lista1 = [1,2,3]\n",
        "print(lista1)\n",
        "\n",
        "lista1 = lista1 + [4]\n",
        "print(lista1)\n",
        "\n",
        "lista1 += [5,6,7]\n",
        "print(lista1)\n",
        "\n",
        "alfa = [\"Hidrogênio\",\"Hélio\",\"Lítio\"] + [\"Boro\"]\n",
        "print(alfa)"
      ],
      "metadata": {
        "colab": {
          "base_uri": "https://localhost:8080/"
        },
        "id": "lsZ7wHGH6lto",
        "outputId": "ba949f2c-c9c0-4bad-88c9-ac984a9bed20"
      },
      "execution_count": null,
      "outputs": [
        {
          "output_type": "stream",
          "name": "stdout",
          "text": [
            "[1, 2, 3]\n",
            "[1, 2, 3, 4]\n",
            "[1, 2, 3, 4, 5, 6, 7]\n",
            "['Hidrogênio', 'Hélio', 'Lítio', 'Boro']\n"
          ]
        }
      ]
    },
    {
      "cell_type": "code",
      "source": [
        "# Se os operadores forem de tipos diferentes, ocorrerá um erro:\n",
        "\n",
        "c = [1,2,3]\n",
        "c = c + 4\n",
        "\n",
        "print(c)"
      ],
      "metadata": {
        "colab": {
          "base_uri": "https://localhost:8080/",
          "height": 237
        },
        "id": "Kle38rUZ7zxz",
        "outputId": "0085f37f-2a01-426b-b782-282ffc3ef13b"
      },
      "execution_count": null,
      "outputs": [
        {
          "output_type": "error",
          "ename": "TypeError",
          "evalue": "ignored",
          "traceback": [
            "\u001b[0;31m---------------------------------------------------------------------------\u001b[0m",
            "\u001b[0;31mTypeError\u001b[0m                                 Traceback (most recent call last)",
            "\u001b[0;32m<ipython-input-62-dea66c4a655c>\u001b[0m in \u001b[0;36m<module>\u001b[0;34m()\u001b[0m\n\u001b[1;32m      2\u001b[0m \u001b[0;34m\u001b[0m\u001b[0m\n\u001b[1;32m      3\u001b[0m \u001b[0mc\u001b[0m \u001b[0;34m=\u001b[0m \u001b[0;34m[\u001b[0m\u001b[0;36m1\u001b[0m\u001b[0;34m,\u001b[0m\u001b[0;36m2\u001b[0m\u001b[0;34m,\u001b[0m\u001b[0;36m3\u001b[0m\u001b[0;34m]\u001b[0m\u001b[0;34m\u001b[0m\u001b[0;34m\u001b[0m\u001b[0m\n\u001b[0;32m----> 4\u001b[0;31m \u001b[0mc\u001b[0m \u001b[0;34m=\u001b[0m \u001b[0mc\u001b[0m \u001b[0;34m+\u001b[0m \u001b[0;36m4\u001b[0m\u001b[0;34m\u001b[0m\u001b[0;34m\u001b[0m\u001b[0m\n\u001b[0m\u001b[1;32m      5\u001b[0m \u001b[0;34m\u001b[0m\u001b[0m\n\u001b[1;32m      6\u001b[0m \u001b[0mprint\u001b[0m\u001b[0;34m(\u001b[0m\u001b[0mc\u001b[0m\u001b[0;34m)\u001b[0m\u001b[0;34m\u001b[0m\u001b[0;34m\u001b[0m\u001b[0m\n",
            "\u001b[0;31mTypeError\u001b[0m: can only concatenate list (not \"int\") to list"
          ]
        }
      ]
    },
    {
      "cell_type": "markdown",
      "source": [
        "# Critério de precedência\n",
        "\n",
        "A procedência de execução do código das expressões matemáticas respeita a seguinte hierarquia:\n",
        "\n",
        "\n",
        "\n",
        "\n",
        "```\n",
        "( )                         parênteses (operações entre parênteses)\n",
        "**                          potenciação\n",
        "+x, -x                      operadores unitários\n",
        "*, /, //, %                 multiplicação, divisão, divisão aproximada, módulo\n",
        "+, -                        adição, subtração\n",
        "<<, >>                      deslocamentos de bits (em operações bit-a-bit)\n",
        "&                           operador AND (idem)\n",
        "^                           operador XOR (idem)\n",
        "|                           operador OR  (item)\n",
        "\n",
        "==, !=, >=, >, <=, <        comparações identidade e adesão\n",
        "is, is not                  \n",
        "\n",
        "not                         NOT lógico \n",
        "and                         AND lógico\n",
        "or                          OR lógico\n",
        "\n",
        "```\n",
        "\n",
        "\n"
      ],
      "metadata": {
        "id": "iTJ1m-IW8Vju"
      }
    },
    {
      "cell_type": "markdown",
      "source": [
        "# Critério de associatividade"
      ],
      "metadata": {
        "id": "NHypcksvh4XU"
      }
    },
    {
      "cell_type": "code",
      "source": [
        "# 100/10*10\n",
        "#Sequência: Left to Right (LTR)\n",
        "#           Right to Left (RTL)\n",
        "\n",
        "\n",
        "#LTR: (100/10)*10 = 10*10 = 100 \n",
        "#RTL: 100/(10*10) = 100/100 = 1\n",
        "\n",
        "100/10*10"
      ],
      "metadata": {
        "colab": {
          "base_uri": "https://localhost:8080/"
        },
        "id": "t1prkfiyh1Q0",
        "outputId": "0885b74b-feb7-41e4-bd29-e116db6a6784"
      },
      "execution_count": null,
      "outputs": [
        {
          "output_type": "execute_result",
          "data": {
            "text/plain": [
              "100.0"
            ]
          },
          "metadata": {},
          "execution_count": 1
        }
      ]
    },
    {
      "cell_type": "code",
      "source": [
        "#Exemplo\n",
        "\n",
        "# 100 +200/100 -3*10 = 100 + (200/100) -3*10 = 72\n",
        "# 100 +2 -3*10 = 100+2 -(3*10) = 100 +2 -30 = 72\n",
        "# (100+2) -30 = 102 -30 = 72\n",
        "\n",
        "100 +200/100 -3*10"
      ],
      "metadata": {
        "colab": {
          "base_uri": "https://localhost:8080/"
        },
        "id": "e8d6M6qPi9Jn",
        "outputId": "8bd1a156-e024-4606-a79b-525a3706627f"
      },
      "execution_count": null,
      "outputs": [
        {
          "output_type": "execute_result",
          "data": {
            "text/plain": [
              "72.0"
            ]
          },
          "metadata": {},
          "execution_count": 2
        }
      ]
    }
  ]
}