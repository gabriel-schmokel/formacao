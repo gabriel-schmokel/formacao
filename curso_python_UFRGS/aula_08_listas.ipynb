{
  "nbformat": 4,
  "nbformat_minor": 0,
  "metadata": {
    "colab": {
      "name": "aula_08_listas.ipynb  ",
      "provenance": [],
      "toc_visible": true
    },
    "kernelspec": {
      "name": "python3",
      "display_name": "Python 3"
    },
    "language_info": {
      "name": "python"
    }
  },
  "cells": [
    {
      "cell_type": "markdown",
      "source": [
        "# Listas\n",
        "\n",
        "Listas são *coleções de objetos*. Todos os objetos dentro de uma lista são indexados a partir do 0 (0, 1, 2, 3, etc) e, por isto, se diz que listas *são coleções \"ordenadas\"* de objetos. Nesta videoaula veremos que uma lista pode conter objetos de diferentes tipos/classes (int, float, complex, str), incluindo outras listas. Entretanto, é uma boa prática de programação restringir o uso de listas para coleções de objetos de um mesmo tipo (não gera um erro, mas restringe o tempo do processamento computacional)."
      ],
      "metadata": {
        "id": "baou2WRIukzI"
      }
    },
    {
      "cell_type": "markdown",
      "source": [
        "## Criação de listas"
      ],
      "metadata": {
        "id": "44I_gWkau1rC"
      }
    },
    {
      "cell_type": "code",
      "source": [
        "lista1 = [0,1,2,3,4,5]\n",
        "lista2 = [10]\n",
        "print(lista1,lista2)\n"
      ],
      "metadata": {
        "colab": {
          "base_uri": "https://localhost:8080/"
        },
        "id": "lqTu6m1luhkt",
        "outputId": "5485f141-e225-47c9-d8a2-a9ba416e04af"
      },
      "execution_count": null,
      "outputs": [
        {
          "output_type": "stream",
          "name": "stdout",
          "text": [
            "[0, 1, 2, 3, 4, 5] [10]\n"
          ]
        }
      ]
    },
    {
      "cell_type": "code",
      "execution_count": null,
      "metadata": {
        "id": "2b6TRrQNlKlK",
        "colab": {
          "base_uri": "https://localhost:8080/"
        },
        "outputId": "9b5e397d-b2e4-49a6-c60c-e56d78018622"
      },
      "outputs": [
        {
          "output_type": "stream",
          "name": "stdout",
          "text": [
            "[] []\n"
          ]
        }
      ],
      "source": [
        "# Criando Listas Vazias\n",
        "\n",
        "lista0 = []\n",
        "lista0b = list()        # criando uma lista nula a partir da função list() \n",
        "print(lista0, lista0b)\n"
      ]
    },
    {
      "cell_type": "code",
      "source": [
        "l = [12, 12.3, 30, 1+3j, 'string', [12,34], (5,6,7)]\n",
        "print(l)"
      ],
      "metadata": {
        "colab": {
          "base_uri": "https://localhost:8080/"
        },
        "id": "8os2Hkm0vXe9",
        "outputId": "aa21aeba-2972-42dc-8d71-470d59a62f67"
      },
      "execution_count": null,
      "outputs": [
        {
          "output_type": "stream",
          "name": "stdout",
          "text": [
            "[12, 12.3, 30, (1+3j), 'string', [12, 34], (5, 6, 7)]\n"
          ]
        }
      ]
    },
    {
      "cell_type": "markdown",
      "source": [
        "## Acesso aos itens de uma lista"
      ],
      "metadata": {
        "id": "wUxNQJTLv32d"
      }
    },
    {
      "cell_type": "code",
      "source": [
        "# Extração de elementos\n",
        "\n",
        "lista = [0, 10, 20, 30, 40, 50]\n",
        "#       [0, |1   2   3  |4   5]\n",
        "\n",
        "print(lista[1])\n",
        "print(lista[2])\n",
        "\n",
        "# Operação de fatiamento da lista  \n",
        "print(lista[1:4])\n",
        "listab = lista[1:4]     \n",
        "print(listab)"
      ],
      "metadata": {
        "colab": {
          "base_uri": "https://localhost:8080/"
        },
        "id": "20uZ7FhRv-Sc",
        "outputId": "47f1a2dc-90fa-4585-d0fa-c8596184646c"
      },
      "execution_count": null,
      "outputs": [
        {
          "output_type": "stream",
          "name": "stdout",
          "text": [
            "10\n",
            "20\n",
            "[10, 20, 30]\n",
            "[10, 20, 30]\n"
          ]
        }
      ]
    },
    {
      "cell_type": "code",
      "source": [
        "# operação de extração de elementos alternados \n",
        "lista = [0, 10, 20, 30, 40, 50, 60, 70, 80, 90]\n",
        "print(lista[1 : : 2])\n",
        "\n",
        "# sequenciamento reverso:\n",
        "print(lista[-1])\n",
        "print(lista[3:-2])"
      ],
      "metadata": {
        "colab": {
          "base_uri": "https://localhost:8080/"
        },
        "id": "gysgp66rw77s",
        "outputId": "baf3505a-f692-4765-a595-7ea0b9667826"
      },
      "execution_count": null,
      "outputs": [
        {
          "output_type": "stream",
          "name": "stdout",
          "text": [
            "[10, 30, 50, 70, 90]\n",
            "90\n",
            "[30, 40, 50, 60, 70]\n"
          ]
        }
      ]
    },
    {
      "cell_type": "markdown",
      "source": [
        "## Aninhamento de listas\n",
        "\n",
        "É possível aninhar listas, ou seja, colocar uma lista dentro de outra."
      ],
      "metadata": {
        "id": "9gWa6qnJy9v2"
      }
    },
    {
      "cell_type": "code",
      "source": [
        "L = [[1,2,3],[40,50,60,70]]\n",
        "print(L)\n",
        "\n",
        "print(L[0])\n",
        "print(L[0][1])     #Acessa o elemento de índice 1 dentro da lista L[0]\n"
      ],
      "metadata": {
        "colab": {
          "base_uri": "https://localhost:8080/"
        },
        "id": "iko9y7qOzoyP",
        "outputId": "784282db-a761-49b3-ee62-50cd3c11d69d"
      },
      "execution_count": null,
      "outputs": [
        {
          "output_type": "stream",
          "name": "stdout",
          "text": [
            "[[1, 2, 3], [40, 50, 60, 70]]\n",
            "[1, 2, 3]\n",
            "2\n"
          ]
        }
      ]
    },
    {
      "cell_type": "code",
      "source": [
        "L2 = [[1,2,3],[40,50,[600,700,800],90]]\n",
        "\n",
        "print(L2[1])\n",
        "print(L2[1][2])\n",
        "print(L2[1][2][2])\n"
      ],
      "metadata": {
        "colab": {
          "base_uri": "https://localhost:8080/"
        },
        "id": "PDgxJQgL0e4f",
        "outputId": "61fb31b7-3eea-4665-c7ea-d36d4774882a"
      },
      "execution_count": null,
      "outputs": [
        {
          "output_type": "stream",
          "name": "stdout",
          "text": [
            "[40, 50, [600, 700, 800], 90]\n",
            "[600, 700, 800]\n",
            "800\n"
          ]
        }
      ]
    },
    {
      "cell_type": "markdown",
      "source": [
        "## Desempacotamento (de sequência de objetos)\n",
        "\n",
        "Desempacotando a lista e adicionando o valor em cada uma das variáveis. \n",
        "\n",
        "O tamonho da lista deve ser igual ao número de variáveis sem usar o operador de desempacotamento (*). \n"
      ],
      "metadata": {
        "id": "SaMDBGmE1LQL"
      }
    },
    {
      "cell_type": "code",
      "source": [
        "L = [0,1,2]\n",
        "a = L[0]\n",
        "b = L[1]\n",
        "c = L[2]\n",
        "\n",
        "print(L,a,b,c)\n",
        "\n",
        "a,b,c = L\n",
        "a, b = L    # ERROR "
      ],
      "metadata": {
        "colab": {
          "base_uri": "https://localhost:8080/",
          "height": 220
        },
        "id": "sTSAzCfO1RKt",
        "outputId": "c4278e49-82f3-4bb1-80bb-c66bb6f1b4e0"
      },
      "execution_count": null,
      "outputs": [
        {
          "output_type": "stream",
          "name": "stdout",
          "text": [
            "[0, 1, 2] 0 1 2\n"
          ]
        },
        {
          "output_type": "error",
          "ename": "ValueError",
          "evalue": "ignored",
          "traceback": [
            "\u001b[0;31m---------------------------------------------------------------------------\u001b[0m",
            "\u001b[0;31mValueError\u001b[0m                                Traceback (most recent call last)",
            "\u001b[0;32m<ipython-input-19-e208987c1ca4>\u001b[0m in \u001b[0;36m<module>\u001b[0;34m()\u001b[0m\n\u001b[1;32m      7\u001b[0m \u001b[0;34m\u001b[0m\u001b[0m\n\u001b[1;32m      8\u001b[0m \u001b[0ma\u001b[0m\u001b[0;34m,\u001b[0m\u001b[0mb\u001b[0m\u001b[0;34m,\u001b[0m\u001b[0mc\u001b[0m \u001b[0;34m=\u001b[0m \u001b[0mL\u001b[0m\u001b[0;34m\u001b[0m\u001b[0;34m\u001b[0m\u001b[0m\n\u001b[0;32m----> 9\u001b[0;31m \u001b[0ma\u001b[0m\u001b[0;34m,\u001b[0m \u001b[0mb\u001b[0m \u001b[0;34m=\u001b[0m \u001b[0mL\u001b[0m    \u001b[0;31m# ERROR\u001b[0m\u001b[0;34m\u001b[0m\u001b[0;34m\u001b[0m\u001b[0m\n\u001b[0m",
            "\u001b[0;31mValueError\u001b[0m: too many values to unpack (expected 2)"
          ]
        }
      ]
    },
    {
      "cell_type": "code",
      "source": [
        "s1, s2, s3 = \"ABC\"\n",
        "print(s1, s2, s3)\n"
      ],
      "metadata": {
        "colab": {
          "base_uri": "https://localhost:8080/"
        },
        "id": "l4QZGf4J11KY",
        "outputId": "b2b3310b-ebd1-4c7f-a1a3-f6ae3ae52e0e"
      },
      "execution_count": null,
      "outputs": [
        {
          "output_type": "stream",
          "name": "stdout",
          "text": [
            "A B C\n"
          ]
        }
      ]
    },
    {
      "cell_type": "code",
      "source": [
        "# Operador de desempacotamento de sequências \"*\"\n",
        "\n",
        "# Exemplo 1:\n",
        "a, *b = [0,1,2,3,4,5]\n",
        "print(a,b)\n",
        "print()\n",
        "\n",
        "\n",
        "# Exemplo 2:\n",
        "s =  \"Alpha Beta Gamma Delta Epsilon\"\n",
        "ls = s.split()             # cria uma lista definida pelo espaço entre as palavras da string (padrão)\n",
        "print(ls)\n",
        "\n",
        "first, *mid, last = ls\n",
        "print(first, mid, last)    #coloca o primeiro elemento da lista \"ls\" em \"first\", coloca o último elemento da lista em \"last\" e é armazenada na variável \"mid\" a lista sem o primeiro e último elemento.\n",
        "print()\n",
        "\n",
        "# Exemplo 3:\n",
        "filename = \"/usr/local/bin/prog\"\n",
        "lf = filename.split(\"/\")\n",
        "*dir, exe = lf\n",
        "print(lf, dir, exe)\n",
        "print()\n"
      ],
      "metadata": {
        "colab": {
          "base_uri": "https://localhost:8080/"
        },
        "id": "39cfh_FI2AnE",
        "outputId": "21d20345-d885-4696-f07c-d15b69403e24"
      },
      "execution_count": null,
      "outputs": [
        {
          "output_type": "stream",
          "name": "stdout",
          "text": [
            "0 [1, 2, 3, 4, 5]\n",
            "\n",
            "['Alpha', 'Beta', 'Gamma', 'Delta', 'Epsilon']\n",
            "Alpha ['Beta', 'Gamma', 'Delta'] Epsilon\n",
            "\n",
            "['', 'usr', 'local', 'bin', 'prog'] ['', 'usr', 'local', 'bin'] prog\n",
            "\n",
            "60\n"
          ]
        }
      ]
    },
    {
      "cell_type": "code",
      "source": [
        "import random\n",
        "\n",
        "# Argumentos com estrela\n",
        "\n",
        "# Exemplo 1:\n",
        "def somatudo(a,b,c):\n",
        "  return(a+b+c)\n",
        "\n",
        "print(somatudo(10,20,30))\n",
        "\n",
        "\n",
        "L = [40,50,60]\n",
        "# print ( somatudo(L))   # ERROR\n",
        "print(somatudo(*L))      # Forma correta de passar os elementos da lista L para as variáveis presentes na função somatudo()\n",
        "print()\n",
        "\n",
        "\n",
        "# Exemplo 2:\n",
        "def gera3valores():\n",
        "  x = random.randint(0,100)\n",
        "  y = random.randint(0,100)\n",
        "  z = random.randint(0,100)\n",
        "  return [x,y,z]\n",
        "\n",
        "valores = gera3valores()\n",
        "print( valores, somatudo(*valores))\n",
        "\n",
        "print(somatudo(*gera3valores()))\n",
        "print()\n",
        "\n",
        "# Exemplo 3:\n",
        "L = [40,50,60]\n",
        "print(somatudo(10,*L[1:]))"
      ],
      "metadata": {
        "colab": {
          "base_uri": "https://localhost:8080/"
        },
        "id": "eNUpQHq865AX",
        "outputId": "fd462d9c-02be-4354-84cb-999b95f29213"
      },
      "execution_count": null,
      "outputs": [
        {
          "output_type": "stream",
          "name": "stdout",
          "text": [
            "60\n",
            "150\n",
            "\n",
            "[27, 95, 5] 127\n",
            "131\n",
            "\n",
            "120\n"
          ]
        }
      ]
    },
    {
      "cell_type": "markdown",
      "source": [
        "# Método de Listas\n",
        "\n"
      ],
      "metadata": {
        "id": "TXEbSO9f_FhT"
      }
    },
    {
      "cell_type": "markdown",
      "source": [
        "## Método para adicionar novos elementos à uma lista "
      ],
      "metadata": {
        "id": "SU40iGXV_SRM"
      }
    },
    {
      "cell_type": "code",
      "source": [
        "# L.append(e)\n",
        "\n",
        "L = [0,1,2]\n",
        "print(L)\n",
        "\n",
        "L.append(3)\n",
        "print(L)\n"
      ],
      "metadata": {
        "colab": {
          "base_uri": "https://localhost:8080/"
        },
        "id": "zHJPavC0_RcC",
        "outputId": "2a442595-c435-4adf-c748-59ed11c3b495"
      },
      "execution_count": null,
      "outputs": [
        {
          "output_type": "stream",
          "name": "stdout",
          "text": [
            "[0, 1, 2]\n",
            "[0, 1, 2, 3]\n"
          ]
        }
      ]
    },
    {
      "cell_type": "code",
      "source": [
        "# L.extend(m)\n",
        "\n",
        "L = [0,1,2]\n",
        "print(L)\n",
        "\n",
        "L.extend([3,4,5])        # o método extend concatena a lista passada como argumento a lista L  \n",
        "print(L)\n",
        "print()\n",
        "\n",
        "# o método extend é equivalente a fazer:\n",
        "L = [0,1,2]\n",
        "L += [3,4,5]        # ==> L.append([3,4,5])\n",
        "print(L)"
      ],
      "metadata": {
        "colab": {
          "base_uri": "https://localhost:8080/",
          "height": 274
        },
        "id": "n7yXiHzb_4bM",
        "outputId": "73907e79-890a-456c-84ad-e535c04a6722"
      },
      "execution_count": 2,
      "outputs": [
        {
          "output_type": "error",
          "ename": "NameError",
          "evalue": "ignored",
          "traceback": [
            "\u001b[0;31m---------------------------------------------------------------------------\u001b[0m",
            "\u001b[0;31mNameError\u001b[0m                                 Traceback (most recent call last)",
            "\u001b[0;32m<ipython-input-2-5048162ab249>\u001b[0m in \u001b[0;36m<module>\u001b[0;34m()\u001b[0m\n\u001b[0;32m----> 1\u001b[0;31m \u001b[0mL\u001b[0m\u001b[0;34m.\u001b[0m\u001b[0mextend\u001b[0m\u001b[0;34m(\u001b[0m\u001b[0mm\u001b[0m\u001b[0;34m)\u001b[0m\u001b[0;34m\u001b[0m\u001b[0;34m\u001b[0m\u001b[0m\n\u001b[0m\u001b[1;32m      2\u001b[0m \u001b[0;34m\u001b[0m\u001b[0m\n\u001b[1;32m      3\u001b[0m \u001b[0mL\u001b[0m \u001b[0;34m=\u001b[0m \u001b[0;34m[\u001b[0m\u001b[0;36m0\u001b[0m\u001b[0;34m,\u001b[0m\u001b[0;36m1\u001b[0m\u001b[0;34m,\u001b[0m\u001b[0;36m2\u001b[0m\u001b[0;34m]\u001b[0m\u001b[0;34m\u001b[0m\u001b[0;34m\u001b[0m\u001b[0m\n\u001b[1;32m      4\u001b[0m \u001b[0mprint\u001b[0m\u001b[0;34m(\u001b[0m\u001b[0mL\u001b[0m\u001b[0;34m)\u001b[0m\u001b[0;34m\u001b[0m\u001b[0;34m\u001b[0m\u001b[0m\n\u001b[1;32m      5\u001b[0m \u001b[0;34m\u001b[0m\u001b[0m\n",
            "\u001b[0;31mNameError\u001b[0m: name 'm' is not defined"
          ]
        }
      ]
    },
    {
      "cell_type": "markdown",
      "source": [
        "## Métodos para inserir elementos dentro de uma lista"
      ],
      "metadata": {
        "id": "oO83xQG2AuLG"
      }
    },
    {
      "cell_type": "code",
      "source": [
        "# L.insert(i,e)            i = índice é a posição onde quero inserir o elemento dentro da lista, e = elemento a ser inserido\n",
        "\n",
        "L = ['a', 'b', 'd', 'e']\n",
        "print(L)\n",
        "\n",
        "L.insert(2, 'c')\n",
        "print(L)\n",
        "print()\n",
        "\n",
        "# outra maneira equivalente ao método extend é:\n",
        "L = ['a', 'b', 'd', 'e']\n",
        "print(L)\n",
        "\n",
        "L[2:2] = 'c'\n",
        "print(L)\n"
      ],
      "metadata": {
        "colab": {
          "base_uri": "https://localhost:8080/"
        },
        "id": "seLlyXAKBN0o",
        "outputId": "023f2829-38f4-499c-dc53-905e7b36a3f9"
      },
      "execution_count": null,
      "outputs": [
        {
          "output_type": "stream",
          "name": "stdout",
          "text": [
            "['a', 'b', 'd', 'e']\n",
            "['a', 'b', 'c', 'd', 'e']\n",
            "\n",
            "['a', 'b', 'd', 'e']\n",
            "['a', 'b', 'c', 'd', 'e']\n"
          ]
        }
      ]
    },
    {
      "cell_type": "markdown",
      "source": [
        "## Métodos para remoção de elementos de uma lista  "
      ],
      "metadata": {
        "id": "pO9YAuILCh-0"
      }
    },
    {
      "cell_type": "code",
      "source": [
        "# L.remove(e)   :     remove a primeira ocorrência do elemento 'e' na lista L\n",
        "\n",
        "L = ['a', 'b', 'c', 'd', 'e', 'c', 'c']\n",
        "print(L)\n",
        "\n",
        "L.remove('c')\n",
        "print(L)\n",
        "\n",
        "L.remove('c')\n",
        "print(L)\n",
        "\n",
        "L.remove('c')\n",
        "print(L)\n",
        "\n",
        "\n",
        "#L.remove('c')     # gera a exceção se o elemento a ser removido não existir\n",
        "#print(L)"
      ],
      "metadata": {
        "colab": {
          "base_uri": "https://localhost:8080/"
        },
        "id": "n_39dS58Cmyk",
        "outputId": "d19e5aa0-d833-40f9-86a8-de8cdeb9d59a"
      },
      "execution_count": null,
      "outputs": [
        {
          "output_type": "stream",
          "name": "stdout",
          "text": [
            "['a', 'b', 'c', 'd', 'e', 'c', 'c']\n",
            "['a', 'b', 'd', 'e', 'c', 'c']\n",
            "['a', 'b', 'd', 'e', 'c']\n",
            "['a', 'b', 'd', 'e']\n"
          ]
        }
      ]
    },
    {
      "cell_type": "code",
      "source": [
        "# L.pop()         # retorna o item mais à direita de L e o remove da lista.\n",
        "\n",
        "L =  [0,1,2,3,4]\n",
        "e = L.pop()\n",
        "print(L,e) "
      ],
      "metadata": {
        "colab": {
          "base_uri": "https://localhost:8080/"
        },
        "id": "o0CbU9tX4-cg",
        "outputId": "6c60e737-e45c-471d-d1ab-2e04ce952bb2"
      },
      "execution_count": null,
      "outputs": [
        {
          "output_type": "stream",
          "name": "stdout",
          "text": [
            "[0, 1, 2, 3] 4\n"
          ]
        }
      ]
    },
    {
      "cell_type": "code",
      "source": [
        "# L.pop(i)       # i é o índice do elemento a ser removido.\n",
        "\n",
        "L = [0,1,2,3,4]\n",
        "e = L.pop(2)\n",
        "print(L,e)"
      ],
      "metadata": {
        "colab": {
          "base_uri": "https://localhost:8080/"
        },
        "id": "ul9dj9hl5wj0",
        "outputId": "81c56e4c-d937-4703-c65e-3b5a8d139afc"
      },
      "execution_count": null,
      "outputs": [
        {
          "output_type": "stream",
          "name": "stdout",
          "text": [
            "[0, 1, 3, 4] 2\n"
          ]
        }
      ]
    },
    {
      "cell_type": "markdown",
      "source": [
        "## Métodos de Ordenamento "
      ],
      "metadata": {
        "id": "pLwNuPsV6UtM"
      }
    },
    {
      "cell_type": "code",
      "source": [
        "# L.reverse()     inverte a lista L\n",
        "\n",
        "L = [3,5,0,2,1,4]\n",
        "print(L)\n",
        "\n",
        "L.sort()          # o método sort ordena a lista L de forma que organiza os elementos de forma cresente ou alfabética\n",
        "print(L)"
      ],
      "metadata": {
        "colab": {
          "base_uri": "https://localhost:8080/"
        },
        "id": "QJWjIi2w6aKu",
        "outputId": "8a1d3ee0-28a3-4a97-dc89-13b1eebfa28b"
      },
      "execution_count": null,
      "outputs": [
        {
          "output_type": "stream",
          "name": "stdout",
          "text": [
            "[3, 5, 0, 2, 1, 4]\n",
            "[0, 1, 2, 3, 4, 5]\n"
          ]
        }
      ]
    },
    {
      "cell_type": "markdown",
      "source": [
        "## Métodos de pesquisa em lista"
      ],
      "metadata": {
        "id": "TAaZI9C469j4"
      }
    },
    {
      "cell_type": "code",
      "source": [
        "# L.count(e)        : contar o número de ocorrências de e na lista L\n",
        "\n",
        "L = [0,7,7,5,5,5,1,0,7,4,5]\n",
        "\n",
        "print(L.count(7))\n",
        "print(L.count(1))\n",
        "print(L.count(77))"
      ],
      "metadata": {
        "colab": {
          "base_uri": "https://localhost:8080/"
        },
        "id": "yWZ1X4s57DR3",
        "outputId": "fd8b8e0c-548a-4d81-9780-50b5c347a242"
      },
      "execution_count": null,
      "outputs": [
        {
          "output_type": "stream",
          "name": "stdout",
          "text": [
            "3\n",
            "1\n",
            "0\n"
          ]
        }
      ]
    },
    {
      "cell_type": "code",
      "source": [
        "# L.index(e, start, end)      : retorna a posição da primeira ocorrência\n",
        "#                               do elemento e na lista L ( a partir do índive start até o índice end)\n",
        "\n",
        "L = ['a', 'b', 'c', 'd', 'c']\n",
        "print(L.index('c'))\n",
        "print(L.index('c',3))\n",
        "print(L.index('d',1,4))\n",
        "\n",
        "\n",
        "print(L.index('c'))\n",
        "\n"
      ],
      "metadata": {
        "colab": {
          "base_uri": "https://localhost:8080/"
        },
        "id": "JiTobrW781M2",
        "outputId": "0866cd6f-9f88-4fd9-eb65-c8e3dd6aee0b"
      },
      "execution_count": null,
      "outputs": [
        {
          "output_type": "stream",
          "name": "stdout",
          "text": [
            "2\n",
            "4\n",
            "3\n",
            "2\n"
          ]
        }
      ]
    },
    {
      "cell_type": "markdown",
      "source": [
        "## Substituição de elementos de uma lista\n"
      ],
      "metadata": {
        "id": "5KXsZDhP-bZt"
      }
    },
    {
      "cell_type": "code",
      "source": [
        "L = ['a','b','x','y','e']\n",
        "L[2:4] = ['c','d']\n",
        "\n",
        "print(L)\n",
        "print()"
      ],
      "metadata": {
        "colab": {
          "base_uri": "https://localhost:8080/"
        },
        "id": "swEAuJ4X_w4A",
        "outputId": "ba74d1cc-2b22-4715-a094-4a753b648e8a"
      },
      "execution_count": null,
      "outputs": [
        {
          "output_type": "stream",
          "name": "stdout",
          "text": [
            "['a', 'b', 'c', 'd', 'e']\n",
            "\n"
          ]
        }
      ]
    },
    {
      "cell_type": "code",
      "source": [
        "# Substituindo elementos por [] (ou deletando elementos)\n",
        "\n",
        "L = ['a','b','c','d','e']\n",
        "L[2:4] = []\n",
        "print(L)\n",
        "print()\n",
        "\n",
        "L = ['a','b','c','d','e']\n",
        "del L[2:4]\n",
        "print(L)"
      ],
      "metadata": {
        "colab": {
          "base_uri": "https://localhost:8080/"
        },
        "id": "eoHMRIVx-zsT",
        "outputId": "75b3614e-f26d-4872-f9ac-e424b23fe6cb"
      },
      "execution_count": null,
      "outputs": [
        {
          "output_type": "stream",
          "name": "stdout",
          "text": [
            "['a', 'b', 'e']\n",
            "\n",
            "['a', 'b', 'e']\n"
          ]
        }
      ]
    },
    {
      "cell_type": "markdown",
      "source": [
        "## Interando itens em uma lista"
      ],
      "metadata": {
        "id": "F_1DBoPcArUF"
      }
    },
    {
      "cell_type": "code",
      "source": [
        "# Função range() retorna interador, é necessário converter para lista\n",
        "# range(n) --- gera uma sequência de 0 e (n-1)\n",
        "# range(n1,n2) --- gera uma sequência entre n1 e (n2-1)\n",
        "# range(n1,n2,step) --- gera uma sequência entre n1 e (n2-1) com incremento igual a 'step'\n",
        "\n",
        "\n",
        "for i in range(4):\n",
        "  print(i)\n",
        "\n",
        "print()\n",
        "\n",
        "for i in range(7,11):\n",
        "  print(i)\n",
        "\n",
        "print()\n",
        "\n",
        "for i in range(0,10,2):\n",
        "  print(i)"
      ],
      "metadata": {
        "colab": {
          "base_uri": "https://localhost:8080/"
        },
        "id": "dBtzdFavAYYG",
        "outputId": "5fd9420f-086e-47c8-dc4f-e41324153021"
      },
      "execution_count": 3,
      "outputs": [
        {
          "output_type": "stream",
          "name": "stdout",
          "text": [
            "range(0, 4)\n",
            "0\n",
            "1\n",
            "2\n",
            "3\n",
            "\n",
            "7\n",
            "8\n",
            "9\n",
            "10\n",
            "\n",
            "0\n",
            "2\n",
            "4\n",
            "6\n",
            "8\n"
          ]
        }
      ]
    },
    {
      "cell_type": "code",
      "source": [
        "L = [0,10,20,30,40,50,60,70,80,90]\n",
        "\n",
        "for item in L:\n",
        "  print(item)\n",
        "\n",
        "print()\n",
        "\n",
        "for i in range(len(L)):\n",
        "  # L[i] = L[i]**2\n",
        "  L[i] **= 2\n",
        "\n",
        "print(L) "
      ],
      "metadata": {
        "colab": {
          "base_uri": "https://localhost:8080/"
        },
        "id": "s-r5fvjFCGiX",
        "outputId": "384202ba-0d63-4fa5-92e4-4ba61026ac16"
      },
      "execution_count": null,
      "outputs": [
        {
          "output_type": "stream",
          "name": "stdout",
          "text": [
            "0\n",
            "10\n",
            "20\n",
            "30\n",
            "40\n",
            "50\n",
            "60\n",
            "70\n",
            "80\n",
            "90\n",
            "\n",
            "[0, 100, 400, 900, 1600, 2500, 3600, 4900, 6400, 8100]\n"
          ]
        }
      ]
    },
    {
      "cell_type": "markdown",
      "source": [
        "## Compressão de listas"
      ],
      "metadata": {
        "id": "DO3seb8XCufw"
      }
    },
    {
      "cell_type": "code",
      "source": [
        "# Exemplo  1:\n",
        "# Gerar uma lista com pequeno número de elementos.\n",
        "# Ex. : inteiros 0 a 10, variando de 1 em 1\n",
        "\n",
        "# Lista literal:\n",
        "L = [0,1,2,3,4,5,6,7,8,9,10]\n",
        "print(L)\n",
        "\n"
      ],
      "metadata": {
        "colab": {
          "base_uri": "https://localhost:8080/"
        },
        "id": "3rHfDRi2CyCm",
        "outputId": "3c13b66b-5abc-4390-b416-833c3d882e23"
      },
      "execution_count": null,
      "outputs": [
        {
          "output_type": "stream",
          "name": "stdout",
          "text": [
            "[0, 1, 2, 3, 4, 5, 6, 7, 8, 9, 10]\n"
          ]
        }
      ]
    },
    {
      "cell_type": "code",
      "source": [
        "# Exemplo 2:\n",
        "# Gerar uma lista com todos os anos entre 1900 e 1940\n",
        "\n",
        "# Usando list(range()):\n",
        "print(list(range(1900,1941)))\n",
        "print()\n",
        "\n",
        "# Compressão de lista:\n",
        "L = [y for y in range(1900,1941)]\n",
        "print(L)\n"
      ],
      "metadata": {
        "colab": {
          "base_uri": "https://localhost:8080/"
        },
        "id": "GvN2bFlVDQwI",
        "outputId": "8faa54da-a5cb-4f8d-bc9c-a3b721af2d8f"
      },
      "execution_count": 10,
      "outputs": [
        {
          "output_type": "stream",
          "name": "stdout",
          "text": [
            "[1900, 1901, 1902, 1903, 1904, 1905, 1906, 1907, 1908, 1909, 1910, 1911, 1912, 1913, 1914, 1915, 1916, 1917, 1918, 1919, 1920, 1921, 1922, 1923, 1924, 1925, 1926, 1927, 1928, 1929, 1930, 1931, 1932, 1933, 1934, 1935, 1936, 1937, 1938, 1939, 1940]\n",
            "\n",
            "[1900, 1901, 1902, 1903, 1904, 1905, 1906, 1907, 1908, 1909, 1910, 1911, 1912, 1913, 1914, 1915, 1916, 1917, 1918, 1919, 1920, 1921, 1922, 1923, 1924, 1925, 1926, 1927, 1928, 1929, 1930, 1931, 1932, 1933, 1934, 1935, 1936, 1937, 1938, 1939, 1940]\n"
          ]
        }
      ]
    },
    {
      "cell_type": "code",
      "source": [
        "# Exemplo 3:\n",
        "# Gerar uma sequência de valores entre 8.7 e 2.7, com incrementos de 0.2:\n",
        "# 0.7, 0.9, 0.11, ..., 2.7\n",
        "\n",
        "L = [x/10 for x in range(7,27+1,2)]\n",
        "print(L)"
      ],
      "metadata": {
        "colab": {
          "base_uri": "https://localhost:8080/"
        },
        "id": "R1ROx-w8EMgx",
        "outputId": "01f783f8-47d3-4f71-8669-47c11fa9679b"
      },
      "execution_count": null,
      "outputs": [
        {
          "output_type": "stream",
          "name": "stdout",
          "text": [
            "[0.7, 0.9, 1.1, 1.3, 1.5, 1.7, 1.9, 2.1, 2.3, 2.5, 2.7]\n"
          ]
        }
      ]
    },
    {
      "cell_type": "code",
      "source": [
        "# Exemplo 4:\n",
        "# Gerar uma lista contendo todos os anos bissextos entre 1900 e 1940\n",
        "\n",
        "L = [ano for ano in range(1900,1940+1) if (ano % 4 == 0 and ano % 100 !=0 ) or (ano % 400 == 0)]\n",
        "print(L)"
      ],
      "metadata": {
        "colab": {
          "base_uri": "https://localhost:8080/"
        },
        "id": "CqQvLrOVE2NJ",
        "outputId": "7d18f2f6-4840-4c39-c82d-bd0d4d5d2263"
      },
      "execution_count": null,
      "outputs": [
        {
          "output_type": "stream",
          "name": "stdout",
          "text": [
            "[1904, 1908, 1912, 1916, 1920, 1924, 1928, 1932, 1936, 1940]\n"
          ]
        }
      ]
    },
    {
      "cell_type": "code",
      "source": [
        "# Exemplo 5:\n",
        "\n",
        "\n",
        "bissextos = []\n",
        "\n",
        "for ano in range(1900, 1940+1):\n",
        "  if(ano % 4 == 0 and ano % 100 != 0) or (ano % 400 == 0):\n",
        "    bissextos.append(ano)\n",
        "\n",
        "print(bissextos)"
      ],
      "metadata": {
        "colab": {
          "base_uri": "https://localhost:8080/"
        },
        "id": "GD1Psfr-GA5r",
        "outputId": "7834951a-ff33-4b61-c100-423b0516617a"
      },
      "execution_count": null,
      "outputs": [
        {
          "output_type": "stream",
          "name": "stdout",
          "text": [
            "[1904, 1908, 1912, 1916, 1920, 1924, 1928, 1932, 1936, 1940]\n"
          ]
        }
      ]
    }
  ]
}