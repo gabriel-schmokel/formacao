{
  "nbformat": 4,
  "nbformat_minor": 0,
  "metadata": {
    "colab": {
      "name": "aula_21_files_b.ipynb",
      "provenance": [],
      "toc_visible": true
    },
    "kernelspec": {
      "name": "python3",
      "display_name": "Python 3"
    },
    "language_info": {
      "name": "python"
    }
  },
  "cells": [
    {
      "cell_type": "markdown",
      "source": [
        "# Arquivos"
      ],
      "metadata": {
        "id": "52IoL5MWM7Ck"
      }
    },
    {
      "cell_type": "markdown",
      "source": [
        "## Dados numéricos em formato binário (.npy)"
      ],
      "metadata": {
        "id": "3UarzqllL0q2"
      }
    },
    {
      "cell_type": "code",
      "source": [
        "# Salvando e lendo os dados no formato .npz (binário comprimido) garante uma maior velocidade na reprodução do código\n",
        "import numpy as np\n",
        "from numpy import save\n",
        "\n",
        "# Gerando dados\n",
        "x = np.arange(-10,11,1)\n",
        "y = x**2\n",
        "\n",
        "# Gerando um array com n linhas e duas colunas.\n",
        "# Vimos que existe duas formas de se fazer.\n",
        "dados = np.array([x,y]).T  \n",
        "\n",
        "# Salvando dados em formato binário .npz\n",
        "# uso da função .savez_compressed(..., ...)\n",
        "# primeiro argumento é o local onde será salvado junto com o nome do arquivo\n",
        "# segundo argumento é o array que desejamos salvar no arquivo.\n",
        "outfile = '/content/data/npdata2.npz'\n",
        "np.savez_compressed(outfile, dados)"
      ],
      "metadata": {
        "id": "6RM1H-fnL7nE"
      },
      "execution_count": 10,
      "outputs": []
    },
    {
      "cell_type": "code",
      "source": [
        "# Lendo os dados em formato binário .npz\n",
        "import numpy as np\n",
        "\n",
        "infile = '/content/data/npdata2.npz'\n",
        "dados_dict = np.load(infile)                 # retorna um dicionário\n",
        "dados = dados_dict['arr_0']                  # os valores dos dados estão contidos na chave 'arr_0'\n",
        "\n",
        "# Podemos observar que a função .load() já converte os dados binários compactados para algo que podemos ler.\n",
        "# deve respeitar a chave do dicionário\n",
        "print(dados)"
      ],
      "metadata": {
        "colab": {
          "base_uri": "https://localhost:8080/"
        },
        "id": "cIbmsJNCL_nK",
        "outputId": "1063acf9-8103-45c7-a3b8-fffa9771943a"
      },
      "execution_count": 9,
      "outputs": [
        {
          "output_type": "stream",
          "name": "stdout",
          "text": [
            "[[-10 100]\n",
            " [ -9  81]\n",
            " [ -8  64]\n",
            " [ -7  49]\n",
            " [ -6  36]\n",
            " [ -5  25]\n",
            " [ -4  16]\n",
            " [ -3   9]\n",
            " [ -2   4]\n",
            " [ -1   1]\n",
            " [  0   0]\n",
            " [  1   1]\n",
            " [  2   4]\n",
            " [  3   9]\n",
            " [  4  16]\n",
            " [  5  25]\n",
            " [  6  36]\n",
            " [  7  49]\n",
            " [  8  64]\n",
            " [  9  81]\n",
            " [ 10 100]]\n"
          ]
        }
      ]
    },
    {
      "cell_type": "markdown",
      "source": [
        "## Dados numéricos em formato binário comprimido"
      ],
      "metadata": {
        "id": "-q3iI_gDVHJa"
      }
    },
    {
      "cell_type": "code",
      "source": [
        "# Salvando e lendo os dados no formato .npy (binário) garante uma maior velocidade na reprodução do código\n",
        "import numpy as np\n",
        "from numpy import save\n",
        "\n",
        "# Gerando dados\n",
        "x = np.arange(-10,11,1)\n",
        "y = x**2\n",
        "\n",
        "# Gerando um array com n linhas e duas colunas.\n",
        "# Vimos que existe duas formas de se fazer.\n",
        "dados = np.array([x,y]).T  \n",
        "\n",
        "# Salvando dados em formato binário .npy\n",
        "outfile = '/content/data/npdata2.npy'\n",
        "np.save(outfile, dados)"
      ],
      "metadata": {
        "id": "6-0qn7Z3VNTn"
      },
      "execution_count": null,
      "outputs": []
    },
    {
      "cell_type": "code",
      "source": [
        "# Lendo os dados em formato binário .npy\n",
        "import numpy as np\n",
        "\n",
        "infile = '/content/data/npdata2.npy'\n",
        "dados = np.load(infile)\n",
        "\n",
        "# Podemos observar que a função .load() já converte os dados binários para algo que podemos ler.\n",
        "print(dados)"
      ],
      "metadata": {
        "id": "QENx5m_OVSJw"
      },
      "execution_count": null,
      "outputs": []
    }
  ]
}