{
  "nbformat": 4,
  "nbformat_minor": 0,
  "metadata": {
    "colab": {
      "name": "aula_22_23_24_pandas.ipynb",
      "provenance": [],
      "toc_visible": true
    },
    "kernelspec": {
      "name": "python3",
      "display_name": "Python 3"
    },
    "language_info": {
      "name": "python"
    }
  },
  "cells": [
    {
      "cell_type": "markdown",
      "source": [
        "# Pandas\n",
        "\n",
        "Significado: python data science\n",
        "\n",
        "Em programação de computadores, pandas é uma biblioteca de software criada para a linguagem Python para manipulação e análise de dados. Em particular, oferece estruturas e operações para manipular tabelas numéricas e séries temporais."
      ],
      "metadata": {
        "id": "uOmpHxPwXIlG"
      }
    },
    {
      "cell_type": "markdown",
      "source": [
        "## Estruturas de dados"
      ],
      "metadata": {
        "id": "Otqh8C30X9o8"
      }
    },
    {
      "cell_type": "code",
      "execution_count": null,
      "metadata": {
        "colab": {
          "base_uri": "https://localhost:8080/"
        },
        "id": "JfoxXZsXW4BU",
        "outputId": "10e987fd-7375-46cd-f367-4eb0c1f0e651"
      },
      "outputs": [
        {
          "output_type": "stream",
          "name": "stdout",
          "text": [
            "[[0.68834823 0.86080268 0.44639425]\n",
            " [0.09666139 0.65818402 0.05294284]\n",
            " [0.76155486 0.18836615 0.52668855]\n",
            " [0.05637124 0.76173728 0.94073113]\n",
            " [0.62201204 0.69777839 0.84923823]]\n"
          ]
        }
      ],
      "source": [
        "# Estudamos diferentes estruturas de dados\n",
        "# listas, dicionários, tuplas, conjuntos, arrays\n",
        "\n",
        "\n",
        "# Exemplo: matriz (2D  NumPy array)\n",
        "import numpy as np\n",
        "arr2d = np.random.rand(5, 3)\n",
        "print(arr2d)                 # Uma matriz é uma estrutura de dados!"
      ]
    },
    {
      "cell_type": "markdown",
      "source": [
        "## Data Frames\n",
        "\n",
        "Um data frame é semelhante a uma matriz mas as suas colunas têm nomes e podem conter dados de tipo diferente. Um data frame pode ser visto como uma tabela de uma base de dados, em que cada linha corresponde a um registo (linha) da tabela. Cada coluna corresponde às propriedades (campos) a serem armazenadas para cada registo da tabela. \n",
        "\n",
        "Portanto um data frame pode ser geredo como um dicionário, com uma conversão para classe data frame. "
      ],
      "metadata": {
        "id": "YsIRfrWpbd6u"
      }
    },
    {
      "cell_type": "markdown",
      "source": [
        "### Criando Data Frames"
      ],
      "metadata": {
        "id": "_rlMX71-n9Od"
      }
    },
    {
      "cell_type": "code",
      "source": [
        "# Criando um dicionário\n",
        "import numpy as np\n",
        "\n",
        "dict1 = {\n",
        "    't':[0., 1., 2., 3., 4., 5.],\n",
        "    'x':(0., 0.5, 2.0, 4.5, 8., 12.5),\n",
        "    'v':np.array([0., 1., 2., 3., 4., 5.]),\n",
        "    'a':6*[1.]\n",
        "}\n",
        "\n",
        "# Criando um data frame a partir de um dicionário\n",
        "import pandas as pd\n",
        "\n",
        "# Utiliza-se a função .DataFrame(...) para converter um dicionário para um Data Frame\n",
        "# Como argumento essa função recebe um dicionário.\n",
        "df1 = pd.DataFrame(dict1)\n",
        "print(df1)"
      ],
      "metadata": {
        "colab": {
          "base_uri": "https://localhost:8080/"
        },
        "id": "Ny_13IJebixB",
        "outputId": "7d64468c-62a5-4176-e4a3-709d217240df"
      },
      "execution_count": null,
      "outputs": [
        {
          "output_type": "stream",
          "name": "stdout",
          "text": [
            "     t     x    v    a\n",
            "0  0.0   0.0  0.0  1.0\n",
            "1  1.0   0.5  1.0  1.0\n",
            "2  2.0   2.0  2.0  1.0\n",
            "3  3.0   4.5  3.0  1.0\n",
            "4  4.0   8.0  4.0  1.0\n",
            "5  5.0  12.5  5.0  1.0\n"
          ]
        }
      ]
    },
    {
      "cell_type": "code",
      "source": [
        "# Exemplo 2: \n",
        "import pandas as pd\n",
        "\n",
        "\n",
        "dados = {\n",
        "    'tempo':[10,20,30],\n",
        "    'medida':[1.1,2.2,3.3]\n",
        "}\n",
        "\n",
        "# Utiliza-se a função .DataFrame(...) para converter um dicionário para um Data Frame\n",
        "# Como argumento essa função recebe um dicionário.\n",
        "df2 = pd.DataFrame(dados)\n",
        "print(df2)"
      ],
      "metadata": {
        "colab": {
          "base_uri": "https://localhost:8080/"
        },
        "id": "892r62oxm5Nq",
        "outputId": "09ce0a0b-155a-4785-a8e1-c137f8427d56"
      },
      "execution_count": null,
      "outputs": [
        {
          "output_type": "stream",
          "name": "stdout",
          "text": [
            "   tempo  medida\n",
            "0     10     1.1\n",
            "1     20     2.2\n",
            "2     30     3.3\n"
          ]
        }
      ]
    },
    {
      "cell_type": "code",
      "source": [
        "# Exemplo 3:\n",
        "import pandas as pd\n",
        "\n",
        "# Utiliza-se a função .DataFrame(...) para converter um dicionário para um Data Frame\n",
        "# Como argumento essa função recebe um dicionário.\n",
        "df3 = pd.DataFrame(\n",
        "    {\n",
        "      'tempo':[10,20,30],\n",
        "      'medida':[1.1,2.2,3.3]\n",
        "    }\n",
        ")\n",
        "\n",
        "print(df3)"
      ],
      "metadata": {
        "colab": {
          "base_uri": "https://localhost:8080/"
        },
        "id": "UR5p6bdxnkQn",
        "outputId": "c1502701-ab1f-41a8-ca75-bbbe1294930f"
      },
      "execution_count": null,
      "outputs": [
        {
          "output_type": "stream",
          "name": "stdout",
          "text": [
            "   tempo  medida\n",
            "0     10     1.1\n",
            "1     20     2.2\n",
            "2     30     3.3\n"
          ]
        }
      ]
    },
    {
      "cell_type": "markdown",
      "source": [
        "### Nome as linhas dos Data Frames"
      ],
      "metadata": {
        "id": "_1Cah5QSoCHt"
      }
    },
    {
      "cell_type": "code",
      "source": [
        "import pandas as pd\n",
        "import numpy as np\n",
        "\n",
        "# passando o argumento 'index' para função .DataFrame() é possível alterar os rótulos a esquerda da tabela\n",
        "\n",
        "df4 = pd.DataFrame(\n",
        "\n",
        "  {\n",
        "    't':[0., 1., 2., 3., 4., 5.],\n",
        "    'x':(0., 0.5, 2.0, 4.5, 8., 12.5),\n",
        "    'v':np.array([0., 1., 2., 3., 4., 5.]),\n",
        "    'a':6*[1.]\n",
        "  },\n",
        "\n",
        "  index = ['t0','t1','t2','t3','t4','t5']\n",
        ")\n",
        "\n",
        "print(df4)"
      ],
      "metadata": {
        "colab": {
          "base_uri": "https://localhost:8080/"
        },
        "id": "i-DNdAI0ogA3",
        "outputId": "ef163ade-3836-45a6-cbaf-07cd3f1f2a77"
      },
      "execution_count": null,
      "outputs": [
        {
          "output_type": "stream",
          "name": "stdout",
          "text": [
            "      t     x    v    a\n",
            "t0  0.0   0.0  0.0  1.0\n",
            "t1  1.0   0.5  1.0  1.0\n",
            "t2  2.0   2.0  2.0  1.0\n",
            "t3  3.0   4.5  3.0  1.0\n",
            "t4  4.0   8.0  4.0  1.0\n",
            "t5  5.0  12.5  5.0  1.0\n"
          ]
        }
      ]
    },
    {
      "cell_type": "markdown",
      "source": [
        "## Séries"
      ],
      "metadata": {
        "id": "z6y47RnA1ymW"
      }
    },
    {
      "cell_type": "code",
      "source": [
        "import pandas as pd\n",
        "\n",
        "# através da função séries contido na biblioteca panda podemos criar algo similar a um array\n",
        "# A diferença é que ela carraga uma indexação na lateral\n",
        "# IMPORTANTE! Isso não é um DataFrame contendo apenas uma única coluna.\n",
        "serie_t = pd.Series([0., 1., 2., 3., 4., 5.])\n",
        "\n",
        "print(serie_t)\n",
        "print()\n",
        "print(type(serie_t))\n",
        "\n",
        "# podemos mudar a indexação que acompanha as séries.\n",
        "# deve-se passar uma lista para o argumento 'index'.\n",
        "serie_t = pd.Series([0., 1., 2., 3., 4., 5.], index = ['t0','t1','t2','t3','t4','t5'])\n",
        "print(serie_t)"
      ],
      "metadata": {
        "colab": {
          "base_uri": "https://localhost:8080/"
        },
        "id": "7pchiQPb13EO",
        "outputId": "573a8c6e-2080-43d6-8992-476454d803a7"
      },
      "execution_count": null,
      "outputs": [
        {
          "output_type": "stream",
          "name": "stdout",
          "text": [
            "0    0.0\n",
            "1    1.0\n",
            "2    2.0\n",
            "3    3.0\n",
            "4    4.0\n",
            "5    5.0\n",
            "dtype: float64\n",
            "\n",
            "<class 'pandas.core.series.Series'>\n",
            "t0    0.0\n",
            "t1    1.0\n",
            "t2    2.0\n",
            "t3    3.0\n",
            "t4    4.0\n",
            "t5    5.0\n",
            "dtype: float64\n"
          ]
        }
      ]
    },
    {
      "cell_type": "code",
      "source": [
        "# Pode-se criar um DataFrame utilizando as series\n",
        "# É interessante observar que no processo que se passa um dicionário para função .DataFrame(...) o dicionário é convertido numa série.\n",
        "\n",
        "import pandas as pd\n",
        "\n",
        "df5 = pd.DataFrame(\n",
        "    {\n",
        "    't':pd.Series([0., 1., 2., 3., 4., 5.]),\n",
        "    'x':pd.Series([0., 0.5, 2.0, 4.5, 8., 12.5]),\n",
        "    'v':pd.Series([0., 1., 2., 3., 4., 5.]),\n",
        "    'a':pd.Series(6*[1.])\n",
        "    },\n",
        "    index = ['f0','f1','f2','f3','f4','f5']\n",
        ")\n",
        "\n",
        "print(df5)"
      ],
      "metadata": {
        "colab": {
          "base_uri": "https://localhost:8080/"
        },
        "id": "rL_V6x9q3qqp",
        "outputId": "d9576451-2874-4a8e-b17f-04a7a9397518"
      },
      "execution_count": null,
      "outputs": [
        {
          "output_type": "stream",
          "name": "stdout",
          "text": [
            "     t   x   v   a\n",
            "f0 NaN NaN NaN NaN\n",
            "f1 NaN NaN NaN NaN\n",
            "f2 NaN NaN NaN NaN\n",
            "f3 NaN NaN NaN NaN\n",
            "f4 NaN NaN NaN NaN\n",
            "f5 NaN NaN NaN NaN\n"
          ]
        }
      ]
    },
    {
      "cell_type": "code",
      "source": [
        "# Gerando uma série de dados\n",
        "\n",
        "import pandas as pd\n",
        "import numpy as np\n",
        "\n",
        "# função date_range(...) permite gerar uma serie de valores de datas\n",
        "# o primeiro argumento informa a data inicial\n",
        "# o argumento 'periods' diz o número de dias que se passa\n",
        "dates = pd.date_range('20211020',periods=10)\n",
        "print(dates, type(dates))\n",
        "\n",
        "df6 = pd.DataFrame(\n",
        "    {\n",
        "        'Datas':dates,\n",
        "        'A':np.random.rand(10),\n",
        "        'B':np.random.rand(10),\n",
        "        'C':np.random.rand(10)\n",
        "    }\n",
        ")\n",
        "\n",
        "print('\\n',df6)"
      ],
      "metadata": {
        "colab": {
          "base_uri": "https://localhost:8080/"
        },
        "id": "rOicqP7b_Kwr",
        "outputId": "1bfbd92a-8ff9-44ae-d834-042aa31de294"
      },
      "execution_count": null,
      "outputs": [
        {
          "output_type": "stream",
          "name": "stdout",
          "text": [
            "DatetimeIndex(['2021-10-20', '2021-10-21', '2021-10-22', '2021-10-23',\n",
            "               '2021-10-24', '2021-10-25', '2021-10-26', '2021-10-27',\n",
            "               '2021-10-28', '2021-10-29'],\n",
            "              dtype='datetime64[ns]', freq='D') <class 'pandas.core.indexes.datetimes.DatetimeIndex'>\n",
            "\n",
            "        Datas         A         B         C\n",
            "0 2021-10-20  0.263378  0.700880  0.616980\n",
            "1 2021-10-21  0.934087  0.217660  0.259679\n",
            "2 2021-10-22  0.505337  0.303523  0.844079\n",
            "3 2021-10-23  0.795917  0.587374  0.620470\n",
            "4 2021-10-24  0.766333  0.993981  0.449220\n",
            "5 2021-10-25  0.522746  0.229633  0.631259\n",
            "6 2021-10-26  0.457172  0.342008  0.343617\n",
            "7 2021-10-27  0.766631  0.565752  0.131025\n",
            "8 2021-10-28  0.847832  0.462908  0.007493\n",
            "9 2021-10-29  0.656489  0.814763  0.302614\n"
          ]
        }
      ]
    },
    {
      "cell_type": "code",
      "source": [
        "# Vantagem de se usar .series() ao invés de arrays\n",
        "# Series permitem classes diferentes de dados, arrays não.\n",
        "\n",
        "s = pd.Series((10, 3.14, 4+5j, 'str'))     # permite classe diferente de dados\n",
        "print(s, type(s))\n",
        "\n",
        "a = np.array((10, 3.14, 4+5j, 'str'))\n",
        "print(a,type(a))                           # converte para classe strings"
      ],
      "metadata": {
        "colab": {
          "base_uri": "https://localhost:8080/"
        },
        "id": "34f-_2b8A7ox",
        "outputId": "5361c31d-d404-4fa1-b516-967b038ac658"
      },
      "execution_count": null,
      "outputs": [
        {
          "output_type": "stream",
          "name": "stdout",
          "text": [
            "0        10\n",
            "1      3.14\n",
            "2    (4+5j)\n",
            "3       str\n",
            "dtype: object <class 'pandas.core.series.Series'>\n",
            "['10' '3.14' '(4+5j)' 'str'] <class 'numpy.ndarray'>\n"
          ]
        }
      ]
    },
    {
      "cell_type": "markdown",
      "source": [
        "## Acessando valores de um data frame"
      ],
      "metadata": {
        "id": "p25a8GXzCGvh"
      }
    },
    {
      "cell_type": "code",
      "source": [
        "# GERANDO O DATA FRAME\n",
        "\n",
        "import pandas as pd\n",
        "import numpy as np\n",
        "\n",
        "# função date_range(...) permite gerar uma serie de valores de datas\n",
        "# o primeiro argumento informa a data inicial\n",
        "# o argumento 'periods' diz o número de dias que se passa\n",
        "dates = pd.date_range('20211020',periods=10)\n",
        "print(dates, type(dates))\n",
        "\n",
        "df7 = pd.DataFrame(\n",
        "    {\n",
        "        'Datas':dates,\n",
        "        'A':np.random.rand(10),\n",
        "        'B':np.random.rand(10),\n",
        "        'C':np.random.rand(10)\n",
        "    }\n",
        ")\n",
        "\n",
        "print('\\n',df7)"
      ],
      "metadata": {
        "colab": {
          "base_uri": "https://localhost:8080/"
        },
        "id": "3NZCIqStC_Vx",
        "outputId": "bb3e4746-8ec7-442d-a1b9-98a9a9550b0c"
      },
      "execution_count": null,
      "outputs": [
        {
          "output_type": "stream",
          "name": "stdout",
          "text": [
            "DatetimeIndex(['2021-10-20', '2021-10-21', '2021-10-22', '2021-10-23',\n",
            "               '2021-10-24', '2021-10-25', '2021-10-26', '2021-10-27',\n",
            "               '2021-10-28', '2021-10-29'],\n",
            "              dtype='datetime64[ns]', freq='D') <class 'pandas.core.indexes.datetimes.DatetimeIndex'>\n",
            "\n",
            "        Datas         A         B         C\n",
            "0 2021-10-20  0.941750  0.745235  0.016229\n",
            "1 2021-10-21  0.806372  0.190728  0.427044\n",
            "2 2021-10-22  0.224529  0.355035  0.523228\n",
            "3 2021-10-23  0.297538  0.866792  0.015122\n",
            "4 2021-10-24  0.574525  0.029663  0.551417\n",
            "5 2021-10-25  0.561156  0.918152  0.791896\n",
            "6 2021-10-26  0.817868  0.848170  0.381415\n",
            "7 2021-10-27  0.793555  0.156980  0.321390\n",
            "8 2021-10-28  0.739279  0.314677  0.410496\n",
            "9 2021-10-29  0.547728  0.514667  0.513272\n"
          ]
        }
      ]
    },
    {
      "cell_type": "code",
      "source": [
        "# Acessando células de um data frame\n",
        "# Para acessar as células de um data frame se utiliza o atributo .loc[...,...]\n",
        "# Esse atributo recebe dois argumentos:\n",
        "#                                         primeiro = linha da célula\n",
        "#                                         segundo = coluna da célula\n",
        "\n",
        "import pandas as pd\n",
        "import numpy as pd\n",
        "\n",
        "# Acessando as células\n",
        "print('Linha 0 coluna A: ',df7.loc[0,'A'])\n",
        "print('Linha 8 coluna B: ',df7.loc[8,'C'])\n",
        "print()\n",
        "\n",
        "# Acessando as células e fazendo operações\n",
        "x = (df7.loc[0,'A']**3) * np.cos(df7.loc[8,'C'])\n",
        "print('x=',x)\n",
        "print()\n",
        "\n",
        "# Acessando as células utilizando o atributo '.at[...,...]'\n",
        "# Análogo ao .loc[...,...]\n",
        "print('Linha 0 coluna B: ',df7.at[0,'B'])"
      ],
      "metadata": {
        "colab": {
          "base_uri": "https://localhost:8080/"
        },
        "id": "slYghW8qCV4B",
        "outputId": "721ffa1b-8942-4f7f-f232-022d984890a9"
      },
      "execution_count": null,
      "outputs": [
        {
          "output_type": "stream",
          "name": "stdout",
          "text": [
            "Linha 0 coluna A:  0.9417497221550518\n",
            "Linha 8 coluna B:  0.4104956974068108\n",
            "\n",
            "x= 0.7658424336640122\n",
            "\n",
            "Linha 0 coluna B:  0.7452350102957797\n"
          ]
        }
      ]
    },
    {
      "cell_type": "code",
      "source": [
        "# Extraindo valores de uma coluna de um Data Frame\n",
        "# Basta informa o rótulo da coluna\n",
        "print(df7['A'])\n",
        "\n",
        "print()\n",
        "\n",
        "# A mesma operação não é possível para extrair o valor das linhas\n",
        "#print(df7[1])   # GERA UM ERRO! \n",
        "# Necessidade de usar o atributo loc\n",
        "print(df7.loc[1])"
      ],
      "metadata": {
        "colab": {
          "base_uri": "https://localhost:8080/"
        },
        "id": "2VBFGVvZGHsl",
        "outputId": "09ddb04b-762c-4c10-a1be-0b0805d78caf"
      },
      "execution_count": null,
      "outputs": [
        {
          "output_type": "stream",
          "name": "stdout",
          "text": [
            "0    0.941750\n",
            "1    0.806372\n",
            "2    0.224529\n",
            "3    0.297538\n",
            "4    0.574525\n",
            "5    0.561156\n",
            "6    0.817868\n",
            "7    0.793555\n",
            "8    0.739279\n",
            "9    0.547728\n",
            "Name: A, dtype: float64\n",
            "\n",
            "Datas    2021-10-21 00:00:00\n",
            "A                   0.806372\n",
            "B                   0.190728\n",
            "C                   0.427044\n",
            "Name: 1, dtype: object\n"
          ]
        }
      ]
    },
    {
      "cell_type": "code",
      "source": [
        "# Extraindo linhas e colunas de um data frame.\n",
        "# Similar a operação de fatiamento que faziamos com listas.\n",
        "# Diferente do fatiamento que faziamos com listas, os dois argumentos limites são considerados\n",
        "# É feito dessa forma a definição dos limites para se aprximar da linguagem R\n",
        "df7a = df7.loc[1:5, ['A','B']]\n",
        "print(df7a)\n",
        "print()\n",
        "\n",
        "# ...:...:... tal como vimos antes \n",
        "df7b = df7.loc[1:5:2, ['B','A']]\n",
        "print(df7b)\n",
        "print()\n",
        "\n",
        "# passando para o atrbuto uma lista no primeiro arguento podemos pegar somente as linhas desejadas.\n",
        "# as linhas desejadas são os elementos da lista.\n",
        "df7c = df7.loc[[1,4,5], ['B','A','Datas']]\n",
        "print(df7c)\n",
        "print()\n",
        "\n",
        "# não informando o segundo argumento para o atributo .loc pegamos todas as colunas do data frame.\n",
        "df7d = df7.loc[2:7]\n",
        "print(df7d)\n",
        "print()"
      ],
      "metadata": {
        "colab": {
          "base_uri": "https://localhost:8080/"
        },
        "id": "Ee-aQR0LHEI_",
        "outputId": "7b245a8b-63ca-4d8f-f2ee-6e277c10a81f"
      },
      "execution_count": null,
      "outputs": [
        {
          "output_type": "stream",
          "name": "stdout",
          "text": [
            "          A         B\n",
            "1  0.806372  0.190728\n",
            "2  0.224529  0.355035\n",
            "3  0.297538  0.866792\n",
            "4  0.574525  0.029663\n",
            "5  0.561156  0.918152\n",
            "\n",
            "          B         A\n",
            "1  0.190728  0.806372\n",
            "3  0.866792  0.297538\n",
            "5  0.918152  0.561156\n",
            "\n",
            "          B         A      Datas\n",
            "1  0.190728  0.806372 2021-10-21\n",
            "4  0.029663  0.574525 2021-10-24\n",
            "5  0.918152  0.561156 2021-10-25\n",
            "\n",
            "       Datas         A         B         C\n",
            "2 2021-10-22  0.224529  0.355035  0.523228\n",
            "3 2021-10-23  0.297538  0.866792  0.015122\n",
            "4 2021-10-24  0.574525  0.029663  0.551417\n",
            "5 2021-10-25  0.561156  0.918152  0.791896\n",
            "6 2021-10-26  0.817868  0.848170  0.381415\n",
            "7 2021-10-27  0.793555  0.156980  0.321390\n",
            "\n"
          ]
        }
      ]
    },
    {
      "cell_type": "markdown",
      "source": [
        "## Obtendo informações sobre um data frame"
      ],
      "metadata": {
        "id": "BbMHF8cpOUNm"
      }
    },
    {
      "cell_type": "code",
      "source": [
        "print(df7)\n",
        "print()\n",
        "\n",
        "print('Numero de linhas: ', len(df7))\n",
        "print('Nome das colunas: ', df7.columns)\n",
        "print('Número de colunas: ', len(df7.columns))\n",
        "print('Dimensões........: ', df7.shape)\n",
        "print('Número de elementos: ',df7.size)\n",
        "\n",
        "# Também podemos obter o número de linhas e colunas por:\n",
        "print('linhas: ',df7.shape[0])\n",
        "print('colunas: ',df7.shape[1])\n",
        "      \n",
        "# Outras informações obtidas podem ser geradas pelo atributo .info()\n",
        "print()\n",
        "print(df7.info())"
      ],
      "metadata": {
        "colab": {
          "base_uri": "https://localhost:8080/"
        },
        "id": "3XLpc_XgOTo0",
        "outputId": "c0643b4f-1174-4f20-8d09-3d5d4f3a4284"
      },
      "execution_count": null,
      "outputs": [
        {
          "output_type": "stream",
          "name": "stdout",
          "text": [
            "       Datas         A         B         C\n",
            "0 2021-10-20  0.723510  0.275388  0.517593\n",
            "1 2021-10-21  0.852592  0.312104  0.407912\n",
            "2 2021-10-22  0.036396  0.473277  0.372783\n",
            "3 2021-10-23  0.453526  0.911262  0.890132\n",
            "4 2021-10-24  0.349944  0.137407  0.832726\n",
            "5 2021-10-25  0.027580  0.499916  0.881810\n",
            "6 2021-10-26  0.148414  0.250080  0.866648\n",
            "7 2021-10-27  0.208038  0.042075  0.679806\n",
            "8 2021-10-28  0.160252  0.590601  0.370368\n",
            "9 2021-10-29  0.507272  0.882405  0.977501\n",
            "\n",
            "Numero de linhas:  10\n",
            "Nome das colunas:  Index(['Datas', 'A', 'B', 'C'], dtype='object')\n",
            "Número de colunas:  4\n",
            "Dimensões........:  (10, 4)\n",
            "Número de elementos:  40\n",
            "linhas:  10\n",
            "colunas:  4\n",
            "\n",
            "<class 'pandas.core.frame.DataFrame'>\n",
            "RangeIndex: 10 entries, 0 to 9\n",
            "Data columns (total 4 columns):\n",
            " #   Column  Non-Null Count  Dtype         \n",
            "---  ------  --------------  -----         \n",
            " 0   Datas   10 non-null     datetime64[ns]\n",
            " 1   A       10 non-null     float64       \n",
            " 2   B       10 non-null     float64       \n",
            " 3   C       10 non-null     float64       \n",
            "dtypes: datetime64[ns](1), float64(3)\n",
            "memory usage: 448.0 bytes\n",
            "None\n"
          ]
        }
      ]
    },
    {
      "cell_type": "markdown",
      "source": [
        "## Alterando valores de um data frame"
      ],
      "metadata": {
        "id": "YVYJEeIwQy5R"
      }
    },
    {
      "cell_type": "code",
      "source": [
        "import pandas as pd\n",
        "\n",
        "# uma outra forma de gerar um data frame é:\n",
        "df9 = pd.DataFrame([[1,2],[3,4]],columns = ['A','B'])\n",
        "print(df9)\n",
        "print()\n",
        "\n",
        "# formas possíveis de se alterar um data frame:\n",
        "df9.loc[0,'A'] = 100\n",
        "df9.at[0,'B'] = 200\n",
        "df9.iloc[1,0] = 300\n",
        "df9.iloc[1,1] = 400\n",
        "\n",
        "# atributo .iloc[...,...] permite acessar um elemento no data frame apenas pela sua linha e coluna\n",
        "\n",
        "print(df9)"
      ],
      "metadata": {
        "colab": {
          "base_uri": "https://localhost:8080/"
        },
        "id": "igHLTleIP_JG",
        "outputId": "f38796aa-1756-4737-c66b-9143291ec04e"
      },
      "execution_count": null,
      "outputs": [
        {
          "output_type": "stream",
          "name": "stdout",
          "text": [
            "   A  B\n",
            "0  1  2\n",
            "1  3  4\n",
            "\n",
            "     A    B\n",
            "0  100  200\n",
            "1  300  400\n"
          ]
        }
      ]
    },
    {
      "cell_type": "code",
      "source": [
        "import pandas as pd\n",
        "\n",
        "# mudando os índices para 'x' e 'y'\n",
        "df10 = pd.DataFrame([[1,2],[3,4]],columns = ['A','B'], index=['x','y'])\n",
        "print(df10)\n",
        "print()\n",
        "\n",
        "# formas possíveis de se alterar um data frame:\n",
        "\n",
        "# deve-se respeitar os índices trocados\n",
        "df10.loc['x','A'] = 100\n",
        "df10.at['x','B'] = 200\n",
        "\n",
        "# atributo .iloc[...,...]\n",
        "# só é necessário informar a posição dos índices de acordo com o número.\n",
        "# não importa a mudança feita pela indexação.\n",
        "df10.iloc[1,0] = 300\n",
        "df10.iloc[1,1] = 400\n",
        "\n",
        "print(df10)"
      ],
      "metadata": {
        "colab": {
          "base_uri": "https://localhost:8080/"
        },
        "id": "kCAWSyxTR6z9",
        "outputId": "ee4ec547-4f36-4ac1-9c4d-50ff3fe53c18"
      },
      "execution_count": null,
      "outputs": [
        {
          "output_type": "stream",
          "name": "stdout",
          "text": [
            "   A  B\n",
            "x  1  2\n",
            "y  3  4\n",
            "\n",
            "     A    B\n",
            "x  100  200\n",
            "y  300  400\n"
          ]
        }
      ]
    },
    {
      "cell_type": "code",
      "source": [
        "# Alterando os valores de uma coluna\n",
        "df10 = pd.DataFrame([[1,2],[3,4]],columns = ['A','B'], index=['x','y'])\n",
        "df10['A'] = [1000,3000]        # pode-se passar uma lista\n",
        "df10['B'] = 0                  # pode-se passar um único valor para assumir todos os valores da coluna.\n",
        "print(df10)"
      ],
      "metadata": {
        "colab": {
          "base_uri": "https://localhost:8080/"
        },
        "id": "YkQh7G_WTtua",
        "outputId": "5d0a0f28-7112-4efe-b1c1-374de9beae31"
      },
      "execution_count": null,
      "outputs": [
        {
          "output_type": "stream",
          "name": "stdout",
          "text": [
            "      A  B\n",
            "x  1000  0\n",
            "y  3000  0\n"
          ]
        }
      ]
    },
    {
      "cell_type": "code",
      "source": [
        "# Alterando os valores de uma linha\n",
        "df10 = pd.DataFrame([[1,2],[3,4]],columns = ['A','B'], index=['x','y'])\n",
        "df10.iloc[0] = [3001,1002]        # pode-se passar uma lista\n",
        "df10.iloc[1] = 0                  # pode-se passar um único valor para assumir todos os valores da coluna.\n",
        "print(df10)"
      ],
      "metadata": {
        "colab": {
          "base_uri": "https://localhost:8080/"
        },
        "id": "t7CBzvz0UWm6",
        "outputId": "57198d80-0ed7-46eb-e7ca-0e814c5dc324"
      },
      "execution_count": null,
      "outputs": [
        {
          "output_type": "stream",
          "name": "stdout",
          "text": [
            "      A     B\n",
            "x  3001  1002\n",
            "y     0     0\n"
          ]
        }
      ]
    },
    {
      "cell_type": "markdown",
      "source": [
        "## Cópia de data frames"
      ],
      "metadata": {
        "id": "VMA9Wl5EU3P-"
      }
    },
    {
      "cell_type": "code",
      "source": [
        "x = 9\n",
        "y = x\n",
        "print(x,y)\n",
        "x = 0\n",
        "print(x,y)\n",
        "\n",
        "# Conclusão: não referenciam a mesma memória"
      ],
      "metadata": {
        "colab": {
          "base_uri": "https://localhost:8080/"
        },
        "id": "PKXArrIdU9qF",
        "outputId": "c866d145-a6b9-456c-a7a4-16552ae40d9d"
      },
      "execution_count": null,
      "outputs": [
        {
          "output_type": "stream",
          "name": "stdout",
          "text": [
            "9 9\n",
            "0 9\n"
          ]
        }
      ]
    },
    {
      "cell_type": "code",
      "source": [
        "df10 = pd.DataFrame([[1,2],[3,4]],columns = ['A','B'])\n",
        "print(df10)\n",
        "print()\n",
        "\n",
        "df10x = df10\n",
        "print(df10x)\n",
        "print()\n",
        "\n",
        "df10.loc[0,'A'] = 100\n",
        "print(df10)\n",
        "print()\n",
        "print(df10x)\n",
        "\n",
        "# Conclusão: apontam para o mesmo espaço de memória.\n",
        "# Por isso a função cópia data frame é importante. (impede que a cópia referencia o mesmo data frame que o original)\n",
        "\n"
      ],
      "metadata": {
        "colab": {
          "base_uri": "https://localhost:8080/"
        },
        "id": "TvpszKpmVQEC",
        "outputId": "21fbdfeb-4b0d-49a3-ac34-d7f7216caace"
      },
      "execution_count": null,
      "outputs": [
        {
          "output_type": "stream",
          "name": "stdout",
          "text": [
            "   A  B\n",
            "0  1  2\n",
            "1  3  4\n",
            "\n",
            "   A  B\n",
            "0  1  2\n",
            "1  3  4\n",
            "\n",
            "     A  B\n",
            "0  100  2\n",
            "1    3  4\n",
            "\n",
            "     A  B\n",
            "0  100  2\n",
            "1    3  4\n"
          ]
        }
      ]
    },
    {
      "cell_type": "code",
      "source": [
        "df10 = pd.DataFrame([[1,2],[3,4]],columns = ['A','B'])\n",
        "print(df10)\n",
        "print()\n",
        "\n",
        "# .copy : função exatamente análoga ao dos arrays.\n",
        "df10x = df10.copy()\n",
        "print(df10x)\n",
        "print()\n",
        "\n",
        "df10.loc[0,'A'] = 100\n",
        "print(df10)\n",
        "print()\n",
        "print(df10x)\n",
        "\n",
        "# Conclusão: apontam para o mesmo espaço de memória.\n",
        "# Por isso a função cópia data frame é importante. (impede que a cópia referencia o mesmo data frame que o original)"
      ],
      "metadata": {
        "colab": {
          "base_uri": "https://localhost:8080/"
        },
        "id": "ESeE3vGkWrTM",
        "outputId": "1cddd3ff-50c1-4ad0-efc8-1f9a14a20a48"
      },
      "execution_count": null,
      "outputs": [
        {
          "output_type": "stream",
          "name": "stdout",
          "text": [
            "   A  B\n",
            "0  1  2\n",
            "1  3  4\n",
            "\n",
            "   A  B\n",
            "0  1  2\n",
            "1  3  4\n",
            "\n",
            "     A  B\n",
            "0  100  2\n",
            "1    3  4\n",
            "\n",
            "   A  B\n",
            "0  1  2\n",
            "1  3  4\n"
          ]
        }
      ]
    },
    {
      "cell_type": "markdown",
      "source": [
        "## Adicionando novas linhas e colunas"
      ],
      "metadata": {
        "id": "NqPrVnjf1u-L"
      }
    },
    {
      "cell_type": "code",
      "source": [
        "import pandas as pd\n",
        "\n",
        "df = pd.DataFrame([[1,2],[3,4]], columns=['A','B'])\n",
        "print(df)\n",
        "print()\n",
        "\n",
        "# Antes de adicionar uma linha ou uma coluna vamos criar uma cópia do Data Frame.\n",
        "# Iremos gerar uma cópia justamente para comparar as linhas e colunas adicionadas com o antigo Data Frame.\n",
        "# Com essa cópia, podemos observar que o Data Frame original não é modificado.\n",
        "dfx = df.copy() \n",
        "print(dfx)\n",
        "print()\n",
        "\n",
        "# ADICIONANDO UMA COLUNA:\n",
        "dfx['C'] = [100,200]\n",
        "#dfx['C'] = 10\n",
        "\n",
        "# ADICIONANDO UMA LINHA:\n",
        "dfx.loc[1] = [-1,2,3]\n",
        "# utilizamos a função .len() para obter o número de linhas do data frame.\n",
        "# isso permite indexar em sequência a nova linha que será adicionada no data frame\n",
        "dfx.loc[len(dfx)] = [-10,-20,30]   \n",
        "dfx.loc[5] = [11,22,33]\n",
        "dfx.loc[10] = [-2,-2,3] \n",
        "print(dfx)\n",
        "print()\n",
        "\n",
        "# redire a função .copy() acima\n",
        "# observe que o data frame original é alterado\n",
        "print(df)"
      ],
      "metadata": {
        "colab": {
          "base_uri": "https://localhost:8080/"
        },
        "id": "tmhCiokF122y",
        "outputId": "82680310-92ac-4079-8d7c-f989b3e3c221"
      },
      "execution_count": null,
      "outputs": [
        {
          "output_type": "stream",
          "name": "stdout",
          "text": [
            "   A  B\n",
            "0  1  2\n",
            "1  3  4\n",
            "\n",
            "   A  B\n",
            "0  1  2\n",
            "1  3  4\n",
            "\n",
            "     A   B    C\n",
            "0    1   2  100\n",
            "1   -1   2    3\n",
            "2  -10 -20   30\n",
            "5   11  22   33\n",
            "10  -2  -2    3\n",
            "\n",
            "   A  B\n",
            "0  1  2\n",
            "1  3  4\n"
          ]
        }
      ]
    },
    {
      "cell_type": "code",
      "source": [
        "# Adicionando novas colunas sem alterar o data frame original:\n",
        "# Não é necessário usar a função .copy()\n",
        "# utiliza-se o atributo assign(...) \n",
        "# Como argumento recebemos o nome da coluna junto com uma lista com seus valores.\n",
        "dfxb = dfx.assign(D = 5*[1])\n",
        "print(dfx)\n",
        "print()\n",
        "print(dfxb)"
      ],
      "metadata": {
        "colab": {
          "base_uri": "https://localhost:8080/"
        },
        "id": "68BCvdfF5X7i",
        "outputId": "d1bbb40a-53d7-4368-f917-5c8c110ca6ec"
      },
      "execution_count": null,
      "outputs": [
        {
          "output_type": "stream",
          "name": "stdout",
          "text": [
            "     A   B    C\n",
            "0    1   2  100\n",
            "1   -1   2    3\n",
            "2  -10 -20   30\n",
            "5   11  22   33\n",
            "10  -2  -2    3\n",
            "\n",
            "     A   B    C  D\n",
            "0    1   2  100  1\n",
            "1   -1   2    3  1\n",
            "2  -10 -20   30  1\n",
            "5   11  22   33  1\n",
            "10  -2  -2    3  1\n"
          ]
        }
      ]
    },
    {
      "cell_type": "markdown",
      "source": [
        "## Removendo linhas e colunas"
      ],
      "metadata": {
        "id": "NRzLm44P6PfW"
      }
    },
    {
      "cell_type": "code",
      "source": [
        "print(dfxb)\n",
        "print()\n",
        "\n",
        "# através do atributo .drop(...) podemos remover uma linha do data frame\n",
        "print(dfxb.drop(10))\n",
        "print()\n",
        "\n",
        "# através do atributo .drop(...) podemos remover uma coluna do data frame.\n",
        "# além de especificar a colunar é necessário passar um segundo argumento.\n",
        "# esse segundo argumento é o axis = 'columns'\n",
        "print(dfxb.drop(['D'], axis = 'columns'))\n",
        "print()\n",
        "\n",
        "# IMPORTANTE! \n",
        "# ESSE ATRIBUTO NÃO ALTERA O DATA FRAME ORIGINAL\n",
        "print(dfxb)\n",
        "print()\n",
        "\n",
        "# para remover o data frame original é necessário passar mais um argumento para o atributo .drop()\n",
        "# O argumento 'inplace' deve ser 'True' para alterar o data frame original. \n",
        "\n",
        "print(dfxb.drop(['C'], axis = 'columns', inplace = True))\n",
        "print()\n",
        "print(dfxb)"
      ],
      "metadata": {
        "colab": {
          "base_uri": "https://localhost:8080/"
        },
        "id": "2gFHoIna6UEn",
        "outputId": "26d41d33-e76e-44e0-fd37-f5c62248a2e4"
      },
      "execution_count": null,
      "outputs": [
        {
          "output_type": "stream",
          "name": "stdout",
          "text": [
            "     A   B    C  D\n",
            "0    1   2  100  1\n",
            "1   -1   2    3  1\n",
            "2  -10 -20   30  1\n",
            "5   11  22   33  1\n",
            "10  -2  -2    3  1\n",
            "\n",
            "    A   B    C  D\n",
            "0   1   2  100  1\n",
            "1  -1   2    3  1\n",
            "2 -10 -20   30  1\n",
            "5  11  22   33  1\n",
            "\n",
            "     A   B    C\n",
            "0    1   2  100\n",
            "1   -1   2    3\n",
            "2  -10 -20   30\n",
            "5   11  22   33\n",
            "10  -2  -2    3\n",
            "\n",
            "     A   B    C  D\n",
            "0    1   2  100  1\n",
            "1   -1   2    3  1\n",
            "2  -10 -20   30  1\n",
            "5   11  22   33  1\n",
            "10  -2  -2    3  1\n",
            "\n",
            "None\n",
            "\n",
            "     A   B  D\n",
            "0    1   2  1\n",
            "1   -1   2  1\n",
            "2  -10 -20  1\n",
            "5   11  22  1\n",
            "10  -2  -2  1\n"
          ]
        }
      ]
    },
    {
      "cell_type": "markdown",
      "source": [
        "## Concatenando data frames"
      ],
      "metadata": {
        "id": "Eqhf_bCL-flh"
      }
    },
    {
      "cell_type": "code",
      "source": [
        "import pandas as pd\n",
        "\n",
        "df = pd.DataFrame([[1,2],[3,4]],columns = list('AB'), index = list('xy'))\n",
        "df2 = pd.DataFrame([[5,6],[7,8]],columns = list('AB'), index = list('xy'))\n",
        "\n",
        "print(df, '\\n\\n', df2, '\\n\\n')\n",
        "\n",
        "# através do atributo .appennd(...) podemos concatenar data frames\n",
        "# passamos como argumento o data frame que queremos concatenar\n",
        "\n",
        "dfx = df.append(df2)\n",
        "print(dfx)\n",
        "\n",
        "# é possível ignorar os índices das linhas \n",
        "# deve-se passar um segundo argumento para o método .append(...,...)\n",
        "# 'ignore_index = ...' deve ser 'true' para ignorar.\n",
        "df = pd.DataFrame([[1,2],[3,4]],columns = list('AB'), index = list('xy'))\n",
        "df2 = pd.DataFrame([[5,6],[7,8]],columns = list('AB'), index = list('xy'))\n",
        "\n",
        "dfx = df.append(df2, ignore_index = True)\n",
        "print('\\n\\n',dfx)\n",
        "\n",
        "# esse atributo preserva o data frame original\n",
        "print('\\n',df)"
      ],
      "metadata": {
        "colab": {
          "base_uri": "https://localhost:8080/"
        },
        "id": "17AtzUMn_v0Z",
        "outputId": "b10ba1ff-5646-45a7-8fe1-c4cb84a4d411"
      },
      "execution_count": null,
      "outputs": [
        {
          "output_type": "stream",
          "name": "stdout",
          "text": [
            "   A  B\n",
            "x  1  2\n",
            "y  3  4 \n",
            "\n",
            "    A  B\n",
            "x  5  6\n",
            "y  7  8 \n",
            "\n",
            "\n",
            "   A  B\n",
            "x  1  2\n",
            "y  3  4\n",
            "x  5  6\n",
            "y  7  8\n",
            "\n",
            "\n",
            "    A  B\n",
            "0  1  2\n",
            "1  3  4\n",
            "2  5  6\n",
            "3  7  8\n",
            "\n",
            "    A  B\n",
            "x  1  2\n",
            "y  3  4\n"
          ]
        }
      ]
    },
    {
      "cell_type": "markdown",
      "source": [
        "## Data frames vazios"
      ],
      "metadata": {
        "id": "eLpzJTXlCcMx"
      }
    },
    {
      "cell_type": "code",
      "source": [
        "import pandas as pd\n",
        "\n",
        "# gerando um Data Frame vazio.\n",
        "df = pd.DataFrame()\n",
        "\n",
        "print(df)\n",
        "print()\n",
        "print(df.info())\n",
        "\n",
        "# colocando uma coluna em um data frame vazio.\n",
        "dfc = pd.DataFrame(columns=['A'])\n",
        "print()\n",
        "print(dfc)\n",
        "\n",
        "# preenchendo as linhas de um Data Frame via interação.\n",
        "for i in range(0,5):\n",
        "  dfc.loc[i,['A']] = i*10\n",
        "\n",
        "print()\n",
        "print(dfc) "
      ],
      "metadata": {
        "colab": {
          "base_uri": "https://localhost:8080/"
        },
        "id": "-6_kzfC-Cf22",
        "outputId": "6b4cf141-8ba1-4f2b-d271-283c124af753"
      },
      "execution_count": null,
      "outputs": [
        {
          "output_type": "stream",
          "name": "stdout",
          "text": [
            "Empty DataFrame\n",
            "Columns: []\n",
            "Index: []\n",
            "\n",
            "<class 'pandas.core.frame.DataFrame'>\n",
            "Index: 0 entries\n",
            "Empty DataFrameNone\n",
            "\n",
            "Empty DataFrame\n",
            "Columns: [A]\n",
            "Index: []\n",
            "\n",
            "    A\n",
            "0   0\n",
            "1  10\n",
            "2  20\n",
            "3  30\n",
            "4  40\n"
          ]
        }
      ]
    },
    {
      "cell_type": "markdown",
      "source": [
        "## Ordenamento de data frames"
      ],
      "metadata": {
        "id": "eHMWSxHO2sMf"
      }
    },
    {
      "cell_type": "code",
      "source": [
        "# Ordenamento por valores\n",
        "\n",
        "import numpy as np\n",
        "import pandas as pd\n",
        "\n",
        "# criando um data frame aleatório e exibindo.\n",
        "df = pd.DataFrame(np.random.randint(low=10, high=100, size=(5,5)), columns=list('ABCDE'))\n",
        "print(df)\n",
        "print()\n",
        "\n",
        "# atributo .sort_values(by='...') permite ordenar de forma crscente os elementos de uma coluna\n",
        "# deve=se passar como argumento o nome das coluna(s) que se deseja ordendar\n",
        "print('Ordenamento dos elementos de uma coluna em ordem crscente:')\n",
        "df1 = df.sort_values(by='A')\n",
        "print(df1)\n",
        "print()\n",
        "\n",
        "# passando o argumento 'ascending' podemo ordenar os elementos descrescentemente.\n",
        "# deve-se passar a variável booleana 'False'.\n",
        "print('Ordenamento dos elementos de uma coluna em ordem decrescente:')\n",
        "df2 = df.sort_values(by='A', ascending = False)\n",
        "print(df2)\n",
        "print()\n",
        "\n",
        "# O data frame original permanece o mesmo devido aos atributos utilizados.\n",
        "print(df)"
      ],
      "metadata": {
        "colab": {
          "base_uri": "https://localhost:8080/",
          "height": 816
        },
        "id": "4g-E5Fyp2wsM",
        "outputId": "5a48d4e0-da4a-4d7d-a6aa-69740c0631f8"
      },
      "execution_count": null,
      "outputs": [
        {
          "output_type": "stream",
          "name": "stdout",
          "text": [
            "    A   B   C   D   E\n",
            "0  46  36  53  13  84\n",
            "1  84  48  44  48  33\n",
            "2  90  45  88  16  52\n",
            "3  53  42  28  29  34\n",
            "4  70  24  30  26  95\n",
            "\n",
            "Ordenamento dos elementos de uma coluna em ordem crscente:\n",
            "    A   B   C   D   E\n",
            "0  46  36  53  13  84\n",
            "3  53  42  28  29  34\n",
            "4  70  24  30  26  95\n",
            "1  84  48  44  48  33\n",
            "2  90  45  88  16  52\n",
            "\n",
            "Ordenamento dos elementos de uma coluna em ordem decrescente:\n",
            "    A   B   C   D   E\n",
            "2  90  45  88  16  52\n",
            "1  84  48  44  48  33\n",
            "4  70  24  30  26  95\n",
            "3  53  42  28  29  34\n",
            "0  46  36  53  13  84\n",
            "\n",
            "Ordenamento dos elementos de uma coluna em ordem decrescente:\n"
          ]
        },
        {
          "output_type": "error",
          "ename": "KeyError",
          "evalue": "ignored",
          "traceback": [
            "\u001b[0;31m---------------------------------------------------------------------------\u001b[0m",
            "\u001b[0;31mKeyError\u001b[0m                                  Traceback (most recent call last)",
            "\u001b[0;32m<ipython-input-19-96ed6b915824>\u001b[0m in \u001b[0;36m<module>\u001b[0;34m()\u001b[0m\n\u001b[1;32m     26\u001b[0m \u001b[0;31m# deve-se passar a variável booleana 'False'.\u001b[0m\u001b[0;34m\u001b[0m\u001b[0;34m\u001b[0m\u001b[0;34m\u001b[0m\u001b[0m\n\u001b[1;32m     27\u001b[0m \u001b[0mprint\u001b[0m\u001b[0;34m(\u001b[0m\u001b[0;34m'Ordenamento dos elementos de uma coluna em ordem decrescente:'\u001b[0m\u001b[0;34m)\u001b[0m\u001b[0;34m\u001b[0m\u001b[0;34m\u001b[0m\u001b[0m\n\u001b[0;32m---> 28\u001b[0;31m \u001b[0mdf2\u001b[0m \u001b[0;34m=\u001b[0m \u001b[0mdf\u001b[0m\u001b[0;34m.\u001b[0m\u001b[0msort_values\u001b[0m\u001b[0;34m(\u001b[0m\u001b[0mby\u001b[0m\u001b[0;34m=\u001b[0m\u001b[0;36m1\u001b[0m\u001b[0;34m,\u001b[0m \u001b[0mascending\u001b[0m \u001b[0;34m=\u001b[0m \u001b[0;32mFalse\u001b[0m\u001b[0;34m)\u001b[0m\u001b[0;34m\u001b[0m\u001b[0;34m\u001b[0m\u001b[0m\n\u001b[0m\u001b[1;32m     29\u001b[0m \u001b[0mprint\u001b[0m\u001b[0;34m(\u001b[0m\u001b[0mdf2\u001b[0m\u001b[0;34m)\u001b[0m\u001b[0;34m\u001b[0m\u001b[0;34m\u001b[0m\u001b[0m\n\u001b[1;32m     30\u001b[0m \u001b[0mprint\u001b[0m\u001b[0;34m(\u001b[0m\u001b[0;34m)\u001b[0m\u001b[0;34m\u001b[0m\u001b[0;34m\u001b[0m\u001b[0m\n",
            "\u001b[0;32m/usr/local/lib/python3.7/dist-packages/pandas/util/_decorators.py\u001b[0m in \u001b[0;36mwrapper\u001b[0;34m(*args, **kwargs)\u001b[0m\n\u001b[1;32m    309\u001b[0m                     \u001b[0mstacklevel\u001b[0m\u001b[0;34m=\u001b[0m\u001b[0mstacklevel\u001b[0m\u001b[0;34m,\u001b[0m\u001b[0;34m\u001b[0m\u001b[0;34m\u001b[0m\u001b[0m\n\u001b[1;32m    310\u001b[0m                 )\n\u001b[0;32m--> 311\u001b[0;31m             \u001b[0;32mreturn\u001b[0m \u001b[0mfunc\u001b[0m\u001b[0;34m(\u001b[0m\u001b[0;34m*\u001b[0m\u001b[0margs\u001b[0m\u001b[0;34m,\u001b[0m \u001b[0;34m**\u001b[0m\u001b[0mkwargs\u001b[0m\u001b[0;34m)\u001b[0m\u001b[0;34m\u001b[0m\u001b[0;34m\u001b[0m\u001b[0m\n\u001b[0m\u001b[1;32m    312\u001b[0m \u001b[0;34m\u001b[0m\u001b[0m\n\u001b[1;32m    313\u001b[0m         \u001b[0;32mreturn\u001b[0m \u001b[0mwrapper\u001b[0m\u001b[0;34m\u001b[0m\u001b[0;34m\u001b[0m\u001b[0m\n",
            "\u001b[0;32m/usr/local/lib/python3.7/dist-packages/pandas/core/frame.py\u001b[0m in \u001b[0;36msort_values\u001b[0;34m(self, by, axis, ascending, inplace, kind, na_position, ignore_index, key)\u001b[0m\n\u001b[1;32m   6257\u001b[0m \u001b[0;34m\u001b[0m\u001b[0m\n\u001b[1;32m   6258\u001b[0m             \u001b[0mby\u001b[0m \u001b[0;34m=\u001b[0m \u001b[0mby\u001b[0m\u001b[0;34m[\u001b[0m\u001b[0;36m0\u001b[0m\u001b[0;34m]\u001b[0m\u001b[0;34m\u001b[0m\u001b[0;34m\u001b[0m\u001b[0m\n\u001b[0;32m-> 6259\u001b[0;31m             \u001b[0mk\u001b[0m \u001b[0;34m=\u001b[0m \u001b[0mself\u001b[0m\u001b[0;34m.\u001b[0m\u001b[0m_get_label_or_level_values\u001b[0m\u001b[0;34m(\u001b[0m\u001b[0mby\u001b[0m\u001b[0;34m,\u001b[0m \u001b[0maxis\u001b[0m\u001b[0;34m=\u001b[0m\u001b[0maxis\u001b[0m\u001b[0;34m)\u001b[0m\u001b[0;34m\u001b[0m\u001b[0;34m\u001b[0m\u001b[0m\n\u001b[0m\u001b[1;32m   6260\u001b[0m \u001b[0;34m\u001b[0m\u001b[0m\n\u001b[1;32m   6261\u001b[0m             \u001b[0;31m# need to rewrap column in Series to apply key function\u001b[0m\u001b[0;34m\u001b[0m\u001b[0;34m\u001b[0m\u001b[0;34m\u001b[0m\u001b[0m\n",
            "\u001b[0;32m/usr/local/lib/python3.7/dist-packages/pandas/core/generic.py\u001b[0m in \u001b[0;36m_get_label_or_level_values\u001b[0;34m(self, key, axis)\u001b[0m\n\u001b[1;32m   1777\u001b[0m             \u001b[0mvalues\u001b[0m \u001b[0;34m=\u001b[0m \u001b[0mself\u001b[0m\u001b[0;34m.\u001b[0m\u001b[0maxes\u001b[0m\u001b[0;34m[\u001b[0m\u001b[0maxis\u001b[0m\u001b[0;34m]\u001b[0m\u001b[0;34m.\u001b[0m\u001b[0mget_level_values\u001b[0m\u001b[0;34m(\u001b[0m\u001b[0mkey\u001b[0m\u001b[0;34m)\u001b[0m\u001b[0;34m.\u001b[0m\u001b[0m_values\u001b[0m\u001b[0;34m\u001b[0m\u001b[0;34m\u001b[0m\u001b[0m\n\u001b[1;32m   1778\u001b[0m         \u001b[0;32melse\u001b[0m\u001b[0;34m:\u001b[0m\u001b[0;34m\u001b[0m\u001b[0;34m\u001b[0m\u001b[0m\n\u001b[0;32m-> 1779\u001b[0;31m             \u001b[0;32mraise\u001b[0m \u001b[0mKeyError\u001b[0m\u001b[0;34m(\u001b[0m\u001b[0mkey\u001b[0m\u001b[0;34m)\u001b[0m\u001b[0;34m\u001b[0m\u001b[0;34m\u001b[0m\u001b[0m\n\u001b[0m\u001b[1;32m   1780\u001b[0m \u001b[0;34m\u001b[0m\u001b[0m\n\u001b[1;32m   1781\u001b[0m         \u001b[0;31m# Check for duplicates\u001b[0m\u001b[0;34m\u001b[0m\u001b[0;34m\u001b[0m\u001b[0;34m\u001b[0m\u001b[0m\n",
            "\u001b[0;31mKeyError\u001b[0m: 1"
          ]
        }
      ]
    },
    {
      "cell_type": "code",
      "source": [
        "# ORDENAMENTO POR EIXOS\n",
        "import pandas as pd\n",
        "import numpy as np\n",
        "\n",
        "# gerando o data frame\n",
        "df = pd.DataFrame(np.random.randint(low = 5, high = 100, size = (5,5)),columns = list('DCEAB'), index=[5,3,2,0,1])\n",
        "print(df)\n",
        "print()\n",
        "\n",
        "# o atributo sort_index(axis=...) permite ordenar os eixos de forma crescente.\n",
        "# para axis = 1 é ordenado as colunas\n",
        "print('Ordenando as colunas:')\n",
        "df1 = df.sort_index(axis = 1)\n",
        "print(df1)\n",
        "print()\n",
        "# para axis = 0 é ordenado as linhas\n",
        "print('Ordenando as linhas')\n",
        "df2 = df.sort_index(axis = 0)\n",
        "print(df2)\n",
        "print()\n",
        "# podemos utilizar duas vezes esse atributo para ordenar o index das linhas e colunas.\n",
        "print('Ordenando as linhas e as colunas')\n",
        "df3 = df.sort_index(axis=0).sort_index(axis=1)\n",
        "print(df3)\n",
        "print()\n",
        "\n",
        "\n",
        "# Essa atributo não altera o data frame original\n",
        "print('Esse atributo não altera o data frame original')\n",
        "print(df)"
      ],
      "metadata": {
        "colab": {
          "base_uri": "https://localhost:8080/"
        },
        "id": "v1sZdTch5_uC",
        "outputId": "a4d43992-d5b4-42db-8500-11b8283c510f"
      },
      "execution_count": null,
      "outputs": [
        {
          "output_type": "stream",
          "name": "stdout",
          "text": [
            "    D   C   E   A   B\n",
            "5   9  34  44  34  92\n",
            "3  54  49  99  12  12\n",
            "2  73  16  26  33  91\n",
            "0  68  90  45  30  45\n",
            "1  22  89  16  46  82\n",
            "\n",
            "Ordenando as colunas:\n",
            "    A   B   C   D   E\n",
            "5  34  92  34   9  44\n",
            "3  12  12  49  54  99\n",
            "2  33  91  16  73  26\n",
            "0  30  45  90  68  45\n",
            "1  46  82  89  22  16\n",
            "\n",
            "Ordenando as linhas\n",
            "    D   C   E   A   B\n",
            "0  68  90  45  30  45\n",
            "1  22  89  16  46  82\n",
            "2  73  16  26  33  91\n",
            "3  54  49  99  12  12\n",
            "5   9  34  44  34  92\n",
            "\n",
            "Ordenando as linhas e as colunas\n",
            "    A   B   C   D   E\n",
            "0  30  45  90  68  45\n",
            "1  46  82  89  22  16\n",
            "2  33  91  16  73  26\n",
            "3  12  12  49  54  99\n",
            "5  34  92  34   9  44\n",
            "\n",
            "Esse método não altera o data frame original\n",
            "    D   C   E   A   B\n",
            "5   9  34  44  34  92\n",
            "3  54  49  99  12  12\n",
            "2  73  16  26  33  91\n",
            "0  68  90  45  30  45\n",
            "1  22  89  16  46  82\n"
          ]
        }
      ]
    },
    {
      "cell_type": "markdown",
      "source": [
        "## Filtros"
      ],
      "metadata": {
        "id": "NqjCQ0hn9iax"
      }
    },
    {
      "cell_type": "code",
      "source": [
        "import pandas as pd\n",
        "import numpy as np\n",
        "\n",
        "# Gerando um Data Frame\n",
        "df = pd.DataFrame(np.random.randint(low=0,high=50, size=(5,5)), columns = list('ABCDE'))\n",
        "print(df)\n",
        "print()\n",
        "\n",
        "# Com o atributo .iloc[[...,...]] podemos acessar as linhas desejadas de um data frame\n",
        "print('Acessando as linhas 1 e 3 do data frame df por .iloc[...]:')\n",
        "print(df.iloc[[1,3]])\n",
        "print()\n",
        "\n",
        "# Podemos acessar também passando uma lista booleana para o data frame\n",
        "print('Acessando as linhas 1 e 3 do data frame df por uma lista boolena:')\n",
        "print(df[[False, True, False, True, False]])\n",
        "print()\n",
        "\n",
        "# Exibindo apenas as linhas cujo os elementos são maior que 45 em um data frame\n",
        "print('Exibindo apenas as linhas cujo os elementos da coluna A são maior que 40 em um data frame')\n",
        "lista = list(df['A'] > 40)  # Retorna uma lista booleana\n",
        "print(df[lista])\n",
        "print()\n",
        "# Também podemos escrever o filtro acima diretamente na expressão\n",
        "print('Exibindo apenas as linhas cujo os elementos da coluna A são maior que 40 em um data frame')\n",
        "print(df[df['A'] > 40])\n",
        "print()\n",
        "\n",
        "# Podemos colocar mais de um filtro com o operador &\n",
        "print('Exibindo apenas as linhas cujo os elementos da coluna A são maior que 10 e que os elementos da coluna B são menor que 30')\n",
        "print(df[ (df['A'] > 10) & (df['B'] < 30)])\n",
        "print()\n",
        "\n",
        "# Outra forma de produzir o mesmo resultado do filtro acima é escrevendo\n",
        "print('Mesmo resultado que o do filtro acima:')\n",
        "print(df[ (df.A > 10) & (df.B < 30)])\n",
        "print()"
      ],
      "metadata": {
        "colab": {
          "base_uri": "https://localhost:8080/"
        },
        "id": "LCGgOZ8B9jyY",
        "outputId": "6886bc0f-9b52-465e-cbe7-c11976bbc62a"
      },
      "execution_count": null,
      "outputs": [
        {
          "output_type": "stream",
          "name": "stdout",
          "text": [
            "    A   B   C   D   E\n",
            "0  23  37  11  23  11\n",
            "1  10   2   2   2  37\n",
            "2  18  39  39   4  49\n",
            "3  34  25   4   0  30\n",
            "4  15  18   1  35  47\n",
            "\n",
            "Acessando as linhas 1 e 3 do data frame df por .iloc[...]:\n",
            "    A   B  C  D   E\n",
            "1  10   2  2  2  37\n",
            "3  34  25  4  0  30\n",
            "\n",
            "Acessando as linhas 1 e 3 do data frame df por uma lista boolena:\n",
            "    A   B  C  D   E\n",
            "1  10   2  2  2  37\n",
            "3  34  25  4  0  30\n",
            "\n",
            "Exibindo apenas as linhas cujo os elementos da coluna A são maior que 40 em um data frame\n",
            "Empty DataFrame\n",
            "Columns: [A, B, C, D, E]\n",
            "Index: []\n",
            "\n",
            "Exibindo apenas as linhas cujo os elementos da coluna A são maior que 40 em um data frame\n",
            "Empty DataFrame\n",
            "Columns: [A, B, C, D, E]\n",
            "Index: []\n",
            "\n",
            "Exibindo apenas as linhas cujo os elementos da coluna A são maior que 10 e que os elementos da coluna B são menor que 30\n",
            "    A   B  C   D   E\n",
            "3  34  25  4   0  30\n",
            "4  15  18  1  35  47\n",
            "\n",
            "Mesmo resultado que o do filtro acima:\n",
            "    A   B  C   D   E\n",
            "3  34  25  4   0  30\n",
            "4  15  18  1  35  47\n",
            "\n"
          ]
        }
      ]
    },
    {
      "cell_type": "code",
      "source": [
        "import pandas as pd\n",
        "import numpy as np\n",
        "\n",
        "# Gerando um Data Frame\n",
        "df = pd.DataFrame(np.random.randint(low=0,high=50, size=(5,5)), columns = list('ABCDE'))\n",
        "print(df)\n",
        "print()\n",
        "\n",
        "# Filtros com o atributo .query()\n",
        "# Esse filtro é ideal para trabalhar com situação onde as linhas e colunas modificam seus rótulos.\n",
        "# Recebe como argumento uma string contendo a expressão lógica das linhas que desejamos deixar.\n",
        "print(df.query('A>10'))\n",
        "print()\n",
        "print(df.query('(A>10) & (D<10)'))\n",
        "print()\n",
        "\n",
        "# vantagem do .query() é que podemos passar valores pela string\n",
        "# portanto não se torna algo fixo\n",
        "col = 'D'\n",
        "print(df.query('{0} > 10'.format(col)))\n",
        "print()\n",
        "\n",
        "# podemos passar uma variável para string e um correspondente valor com o uso do @\n",
        "x = 10\n",
        "print(df.query('A>@x'))\n",
        "print()\n",
        "\n",
        "# ou podemos passar dois argumentos para dentro da função ponto format\n",
        "col1 = 'A'\n",
        "x = 10\n",
        "print(df.query('{0}>{1}'.format(col1,x)))\n",
        "print()\n",
        "\n",
        "# o atributo ponto .query() permite utilizar expressões lógicas com dois argumentos tal como fizemos acima.\n",
        "# já a função .format() permite receber dois argumentos ou mais introduzidos na expressão\n",
        "col1 = 'A'\n",
        "col2= 'B'\n",
        "x = 10\n",
        "print(df.query('({0}>{2}) & ({1}>{2})'.format(col1,col2,x)))\n",
        "print()"
      ],
      "metadata": {
        "colab": {
          "base_uri": "https://localhost:8080/"
        },
        "id": "RKVIcddfDre6",
        "outputId": "a9dbc078-3504-4aae-bd40-470470d4c178"
      },
      "execution_count": null,
      "outputs": [
        {
          "output_type": "stream",
          "name": "stdout",
          "text": [
            "    A   B   C   D   E\n",
            "0  21  29   3  20  48\n",
            "1  37  22  31  15  11\n",
            "2  35  33  40  15   6\n",
            "3  43  39  28   4  18\n",
            "4  18   2  40  39   6\n",
            "\n",
            "    A   B   C   D   E\n",
            "0  21  29   3  20  48\n",
            "1  37  22  31  15  11\n",
            "2  35  33  40  15   6\n",
            "3  43  39  28   4  18\n",
            "4  18   2  40  39   6\n",
            "\n",
            "    A   B   C  D   E\n",
            "3  43  39  28  4  18\n",
            "\n",
            "    A   B   C   D   E\n",
            "0  21  29   3  20  48\n",
            "1  37  22  31  15  11\n",
            "2  35  33  40  15   6\n",
            "4  18   2  40  39   6\n",
            "\n",
            "    A   B   C   D   E\n",
            "0  21  29   3  20  48\n",
            "1  37  22  31  15  11\n",
            "2  35  33  40  15   6\n",
            "3  43  39  28   4  18\n",
            "4  18   2  40  39   6\n",
            "\n",
            "    A   B   C   D   E\n",
            "0  21  29   3  20  48\n",
            "1  37  22  31  15  11\n",
            "2  35  33  40  15   6\n",
            "3  43  39  28   4  18\n",
            "4  18   2  40  39   6\n",
            "\n",
            "    A   B   C   D   E\n",
            "0  21  29   3  20  48\n",
            "1  37  22  31  15  11\n",
            "2  35  33  40  15   6\n",
            "3  43  39  28   4  18\n",
            "\n"
          ]
        }
      ]
    },
    {
      "cell_type": "code",
      "source": [
        "# Filtros com uso do atributo .loc[]\n",
        "print(df)\n",
        "print()\n",
        "\n",
        "# extraindo um SubDataFrame\n",
        "print(df.loc[0:3,['A','B']])\n",
        "print()\n",
        "\n",
        "# testando um SubDataFrame\n",
        "print(df.loc[0:3,['A','B']]> 30)\n",
        "print()\n",
        "\n",
        "# Alocando esse teste no dataframe \n",
        "# NaN = not a number \n",
        "print(df[df.loc[0:3,['A','B']]>30])\n",
        "\n",
        "# Para selecionar valores não nulos\n",
        "# Deixando apenas em termos de True e False\n",
        "dfx = df[df.loc[0:3,['A','B']]>30]\n",
        "print(dfx.notnull())\n",
        "print()"
      ],
      "metadata": {
        "colab": {
          "base_uri": "https://localhost:8080/"
        },
        "id": "954NjBFQUVO1",
        "outputId": "9d1b20aa-4451-471b-96fa-b842256b5a39"
      },
      "execution_count": null,
      "outputs": [
        {
          "output_type": "stream",
          "name": "stdout",
          "text": [
            "    A   B   C   D   E\n",
            "0  21  29   3  20  48\n",
            "1  37  22  31  15  11\n",
            "2  35  33  40  15   6\n",
            "3  43  39  28   4  18\n",
            "4  18   2  40  39   6\n",
            "\n",
            "    A   B\n",
            "0  21  29\n",
            "1  37  22\n",
            "2  35  33\n",
            "3  43  39\n",
            "\n",
            "       A      B\n",
            "0  False  False\n",
            "1   True  False\n",
            "2   True   True\n",
            "3   True   True\n",
            "\n",
            "      A     B   C   D   E\n",
            "0   NaN   NaN NaN NaN NaN\n",
            "1  37.0   NaN NaN NaN NaN\n",
            "2  35.0  33.0 NaN NaN NaN\n",
            "3  43.0  39.0 NaN NaN NaN\n",
            "4   NaN   NaN NaN NaN NaN\n",
            "       A      B      C      D      E\n",
            "0  False  False  False  False  False\n",
            "1   True  False  False  False  False\n",
            "2   True   True  False  False  False\n",
            "3   True   True  False  False  False\n",
            "4  False  False  False  False  False\n",
            "\n"
          ]
        }
      ]
    },
    {
      "cell_type": "code",
      "source": [
        "# Filtros com método isin()\n",
        "# Podemos verificar quais elementos estão presentes em um Data Frame com o atributo isin(...)\n",
        "# Como argumento ele recebe uma lista com os elementos que deseja-se verificar no DataFrame\n",
        "import pandas as pd\n",
        "import numpy as np\n",
        "\n",
        "df = pd.DataFrame(np.array([10,20,30,40,50,60,70,80,90]).reshape(3,3),list('ABC'))\n",
        "print(df)\n",
        "print()\n",
        "\n",
        "\n",
        "# Fazendo o teste para verificar quais elementos estão presentes\n",
        "print(df.isin([10,50,90]))\n",
        "print()\n",
        "\n",
        "# Alocando esse teste no DataFrame\n",
        "print(df[df.isin([10,50,90])])"
      ],
      "metadata": {
        "colab": {
          "base_uri": "https://localhost:8080/"
        },
        "id": "WLGF9VIjHV5Z",
        "outputId": "fd8e4fd1-f56e-483e-df02-3aeb3f73def2"
      },
      "execution_count": null,
      "outputs": [
        {
          "output_type": "stream",
          "name": "stdout",
          "text": [
            "    0   1   2\n",
            "A  10  20  30\n",
            "B  40  50  60\n",
            "C  70  80  90\n",
            "\n",
            "       0      1      2\n",
            "A   True  False  False\n",
            "B  False   True  False\n",
            "C  False  False   True\n",
            "\n",
            "      0     1     2\n",
            "A  10.0   NaN   NaN\n",
            "B   NaN  50.0   NaN\n",
            "C   NaN   NaN  90.0\n"
          ]
        }
      ]
    },
    {
      "cell_type": "code",
      "source": [
        "print(df[df>50])\n",
        "print()\n",
        "\n",
        "# Podemos pegar a negação da expessão lógica\n",
        "# Deve-se usar o operador '~'\n",
        "\n",
        "print(df[~(df>50)])\n"
      ],
      "metadata": {
        "colab": {
          "base_uri": "https://localhost:8080/"
        },
        "id": "HZp9rVHvST5V",
        "outputId": "a3476e94-3ded-426a-8705-83a10988c13a"
      },
      "execution_count": null,
      "outputs": [
        {
          "output_type": "stream",
          "name": "stdout",
          "text": [
            "      0     1     2\n",
            "A   NaN   NaN   NaN\n",
            "B   NaN   NaN  60.0\n",
            "C  70.0  80.0  90.0\n",
            "\n",
            "      0     1     2\n",
            "A  10.0  20.0  30.0\n",
            "B  40.0  50.0   NaN\n",
            "C   NaN   NaN   NaN\n"
          ]
        }
      ]
    },
    {
      "cell_type": "markdown",
      "source": [
        "## Outros Métodos e Atributos"
      ],
      "metadata": {
        "id": "Bs2X8FwHTHlQ"
      }
    },
    {
      "cell_type": "code",
      "source": [
        "import pandas as pd\n",
        "import numpy as np\n",
        "\n",
        "df = pd.DataFrame(np.random.randint(low=-50,high=50,size=(5,4)), columns=list('ABCD'))\n",
        "print(df)\n",
        "print()\n",
        "\n",
        "# Atributo .abs()\n",
        "# Atributo que retorna os valores absolutos dos elementos do dataframe\n",
        "print(df.abs())"
      ],
      "metadata": {
        "colab": {
          "base_uri": "https://localhost:8080/"
        },
        "id": "xclXEwWZTPxY",
        "outputId": "4bf996d2-548f-43fb-88f8-d7efe768578b"
      },
      "execution_count": null,
      "outputs": [
        {
          "output_type": "stream",
          "name": "stdout",
          "text": [
            "    A   B   C   D\n",
            "0 -15  19  25  46\n",
            "1  10 -17 -13  15\n",
            "2 -25  35 -48  37\n",
            "3  -6  16  33   4\n",
            "4  -9  30  40 -44\n",
            "\n",
            "    A   B   C   D\n",
            "0  15  19  25  46\n",
            "1  10  17  13  15\n",
            "2  25  35  48  37\n",
            "3   6  16  33   4\n",
            "4   9  30  40  44\n"
          ]
        }
      ]
    },
    {
      "cell_type": "code",
      "source": [
        "import pandas as pd\n",
        "import numpy as np\n",
        "\n",
        "df = pd.DataFrame(np.random.randint(low=-50,high=50,size=(10,3)), columns=list('ABC'))\n",
        "print(df)\n",
        "print()\n",
        "\n",
        "# Atributo .transpose()\n",
        "# Atributo que retorna a transposta de um dataframe\n",
        "print(df.transpose())\n",
        "print()\n",
        "\n",
        "# também pde ser obtido usando o comando .T\n",
        "print(df.T)"
      ],
      "metadata": {
        "colab": {
          "base_uri": "https://localhost:8080/"
        },
        "id": "6U6yUEAvVTni",
        "outputId": "a47f4b1c-02e0-4ea7-9f62-8ae9bf68e9a0"
      },
      "execution_count": null,
      "outputs": [
        {
          "output_type": "stream",
          "name": "stdout",
          "text": [
            "    A   B   C\n",
            "0  -7   2  25\n",
            "1 -25   5  43\n",
            "2  46 -41 -14\n",
            "3  -5  31 -50\n",
            "4  -6  19 -10\n",
            "5  46  42 -10\n",
            "6  13  42  35\n",
            "7   6  -4   5\n",
            "8 -34  25  37\n",
            "9 -21  30  24\n",
            "\n",
            "    0   1   2   3   4   5   6  7   8   9\n",
            "A  -7 -25  46  -5  -6  46  13  6 -34 -21\n",
            "B   2   5 -41  31  19  42  42 -4  25  30\n",
            "C  25  43 -14 -50 -10 -10  35  5  37  24\n",
            "\n",
            "    0   1   2   3   4   5   6  7   8   9\n",
            "A  -7 -25  46  -5  -6  46  13  6 -34 -21\n",
            "B   2   5 -41  31  19  42  42 -4  25  30\n",
            "C  25  43 -14 -50 -10 -10  35  5  37  24\n"
          ]
        }
      ]
    }
  ]
}