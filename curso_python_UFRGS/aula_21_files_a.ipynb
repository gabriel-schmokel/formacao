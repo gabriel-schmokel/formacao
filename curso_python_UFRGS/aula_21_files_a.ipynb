{
  "nbformat": 4,
  "nbformat_minor": 0,
  "metadata": {
    "colab": {
      "name": "aula_21_files_a.ipynb",
      "provenance": []
    },
    "kernelspec": {
      "name": "python3",
      "display_name": "Python 3"
    },
    "language_info": {
      "name": "python"
    }
  },
  "cells": [
    {
      "cell_type": "markdown",
      "source": [
        "# Arquivos"
      ],
      "metadata": {
        "id": "UWD3jsaE3FHU"
      }
    },
    {
      "cell_type": "code",
      "execution_count": null,
      "metadata": {
        "colab": {
          "base_uri": "https://localhost:8080/"
        },
        "id": "26mWpd2j1yGC",
        "outputId": "cf86399f-8f5a-43c8-aba8-85e1f167f1f2"
      },
      "outputs": [
        {
          "output_type": "stream",
          "name": "stdout",
          "text": [
            "Digite alguma coisa: 12\n",
            "Você digitou: 12\n"
          ]
        }
      ],
      "source": [
        "# Entrada / saída de dados via terminal\n",
        "# Já haviamos visto isso na aula tal.\n",
        "dados = input('Digite alguma coisa: ')\n",
        "print('Você digitou: ' + dados)"
      ]
    },
    {
      "cell_type": "markdown",
      "source": [
        "# Arquivos de Texto"
      ],
      "metadata": {
        "id": "Gj2LhXne3Hwk"
      }
    },
    {
      "cell_type": "markdown",
      "source": [
        "### Abrindo e fechando um arquivo:"
      ],
      "metadata": {
        "id": "DOgB_JoCbq30"
      }
    },
    {
      "cell_type": "code",
      "source": [
        "# a função open(filename, mode) abre os arquivos de texto\n",
        "# filaname: espeifica o arquivo que será lido (deve-se encaminhar o caminho do arquivo - pwd)\n",
        "# mode: informa a operação que será feita com o arquivo lido\n",
        "#                 r - reading (leitura)\n",
        "#                 w - writing (escrita)\n",
        "#                 a - (anexar dados a um arquivo já existente) \n",
        "#                 r - leitura/escrita \n",
        "\n",
        "\n",
        "infile = '/content/data/data1.txt'             # nome do arquivo a ser lido \n",
        "file1 = open(infile, 'r')                      # permite acessar o conteúdo do arquivo.\n",
        "\n",
        "print(file1, type(file1))                      # exibimos o conteúdo do file1 e qual a classe desse objeto.\n",
        "print()\n",
        "\n",
        "# alguns atributos importantes:\n",
        "print('Nome do arquivo: ', file1.name)         # esse atributo informa o nome do arquivo\n",
        "print('Modo...........: ', file1.mode)         # esse atributo informa o modo do arquivo\n",
        "print('Fechado?.......: ', file1.closed)       # esse atributo informa se o arquivo está fechado ou aberto.\n",
        "\n",
        "file1.close()                                  # Feha o acesso do arquivo, a partir daqui nenhum operação a mais pode ser feita com esse arquivo.\n",
        "\n",
        "print()\n",
        "print('Fechado?.......: ', file1.closed)       # esse atributo informa se o arquivo está fechado ou aberto."
      ],
      "metadata": {
        "colab": {
          "base_uri": "https://localhost:8080/"
        },
        "id": "WkcdLTxU2O-Y",
        "outputId": "8464ddc5-2ca4-48f4-f545-fb8fbf7facb2"
      },
      "execution_count": null,
      "outputs": [
        {
          "output_type": "stream",
          "name": "stdout",
          "text": [
            "<_io.TextIOWrapper name='/content/data/data1.txt' mode='r' encoding='UTF-8'> <class '_io.TextIOWrapper'>\n",
            "\n",
            "Nome do arquivo:  /content/data/data1.txt\n",
            "Modo...........:  r\n",
            "Fechado?.......:  False\n",
            "\n",
            "Fechado?.......:  True\n"
          ]
        }
      ]
    },
    {
      "cell_type": "code",
      "source": [
        "# Abrindo e fechando um arquivo com 'with'\n",
        "# Equivalente ao código acima, porém com o comando 'with'. \n",
        "# Podemos abrir o arquivo com apenas uma única linha de código. \n",
        "\n",
        "infile = '/content/data/data1.txt'             # nome do arquivo a ser lido \n",
        "\n",
        "with open(infile, 'r') as file1:\n",
        "  print('Nome do arquivo: ', file1.name)         # esse atributo informa o nome do arquivo\n",
        "  print('Modo...........: ', file1.mode)         # esse atributo informa o modo do arquivo\n",
        "  print('Fechado?.......: ', file1.closed)       # esse atributo informa se o arquivo está fechado ou aberto.\n",
        "\n",
        "print()\n",
        "print('Fechado?.........: ', file1.closed)"
      ],
      "metadata": {
        "colab": {
          "base_uri": "https://localhost:8080/"
        },
        "id": "GxdlErw8nyiI",
        "outputId": "e7c597e2-d913-42af-de30-c12de93fd1fb"
      },
      "execution_count": null,
      "outputs": [
        {
          "output_type": "stream",
          "name": "stdout",
          "text": [
            "Nome do arquivo:  /content/data/data1.txt\n",
            "Modo...........:  r\n",
            "Fechado?.......:  False\n",
            "\n",
            "Fechado?.........:  True\n"
          ]
        }
      ]
    },
    {
      "cell_type": "markdown",
      "source": [
        "## Lendo um arquivo texto"
      ],
      "metadata": {
        "id": "TmWr0yZIpAhP"
      }
    },
    {
      "cell_type": "code",
      "source": [
        "# Modo 1: lendo interativamente\n",
        "\n",
        "infile = '/content/data/data1.txt'             # nome do arquivo a ser lido \n",
        "with open(infile, 'r') as file1:\n",
        "  print('Modo 01: \\n')\n",
        "  for linha in file1:\n",
        "    print(linha)"
      ],
      "metadata": {
        "colab": {
          "base_uri": "https://localhost:8080/"
        },
        "id": "sSr9ooMPo-y3",
        "outputId": "9ed04e71-08c8-464b-9a3b-9bde11e3682e"
      },
      "execution_count": null,
      "outputs": [
        {
          "output_type": "stream",
          "name": "stdout",
          "text": [
            "Modo 01: \n",
            "\n",
            "Primeira linha\n",
            "\n",
            "Segunda linha\n",
            "\n",
            "Terceira linha\n"
          ]
        }
      ]
    },
    {
      "cell_type": "code",
      "source": [
        "# Modo 2: lendo todo o conteúdo de uma vez\n",
        "\n",
        "\n",
        "infile = '/content/data/data1.txt'             # nome do arquivo a ser lido \n",
        "\n",
        "with open(infile, 'r') as file1:\n",
        "  print('Modo 02:')\n",
        "  conteudo = file1.read()                      # método .read() lê todo conteúdo do file aberto\n",
        "\n",
        "print(conteudo)"
      ],
      "metadata": {
        "colab": {
          "base_uri": "https://localhost:8080/"
        },
        "id": "Vs2vfdllt6pk",
        "outputId": "db85aa9d-3ba8-419e-93e7-4d39d020a7a0"
      },
      "execution_count": null,
      "outputs": [
        {
          "output_type": "stream",
          "name": "stdout",
          "text": [
            "Modo 02:\n",
            "Primeira linha\n",
            "Segunda linha\n",
            "Terceira linha\n"
          ]
        }
      ]
    },
    {
      "cell_type": "code",
      "source": [
        "# Modo 3: lendo um número específico de caracteras \n",
        "\n",
        "infile = '/content/data/data1.txt'             # nome do arquivo a ser lido \n",
        "\n",
        "with open(infile, 'r') as file1:\n",
        "  print(file1.read(8))\n",
        "  print(file1.read(6))\n",
        "  print(file1.read(24))\n",
        "  print(file1.read(5))"
      ],
      "metadata": {
        "colab": {
          "base_uri": "https://localhost:8080/"
        },
        "id": "eL2iPuazu_Tc",
        "outputId": "9cb28ef6-88a1-4c19-8072-a46f576e59d7"
      },
      "execution_count": null,
      "outputs": [
        {
          "output_type": "stream",
          "name": "stdout",
          "text": [
            "Primeira\n",
            " linha\n",
            "\n",
            "Segunda linha\n",
            "Terceira \n",
            "linha\n"
          ]
        }
      ]
    },
    {
      "cell_type": "code",
      "source": [
        "# Modo 4: lendo uma linha por vez ( .readline() )\n",
        "\n",
        "infile = '/content/data/data1.txt' \n",
        "\n",
        "\n",
        "# função readline() lê uma linha por vez.\n",
        "with open(infile, 'r') as file1:\n",
        "  print(file1.readline())\n",
        "  print(file1.readline())\n",
        "  print(file1.readline())\n"
      ],
      "metadata": {
        "colab": {
          "base_uri": "https://localhost:8080/"
        },
        "id": "HSHZ2Lstwr_d",
        "outputId": "47ab0b81-402f-4301-cf33-2c5c1da7ca41"
      },
      "execution_count": null,
      "outputs": [
        {
          "output_type": "stream",
          "name": "stdout",
          "text": [
            "Primeira linha\n",
            "\n",
            "Segunda linha\n",
            "\n",
            "Terceira linha\n"
          ]
        }
      ]
    },
    {
      "cell_type": "code",
      "source": [
        "# Modo 5: lendo todas as linhas e armazenando em uma lista.\n",
        "# a função readlines() faz isso.\n",
        "\n",
        "infile = '/content/data/data1.txt' \n",
        "\n",
        "with open(infile,'r') as file1:\n",
        "  lista = file1.readlines()\n",
        "\n",
        "print(lista)"
      ],
      "metadata": {
        "colab": {
          "base_uri": "https://localhost:8080/"
        },
        "id": "nFwYNZwmxuQB",
        "outputId": "7ad7224d-e19e-4228-a9e5-531bc1878a09"
      },
      "execution_count": null,
      "outputs": [
        {
          "output_type": "stream",
          "name": "stdout",
          "text": [
            "['Primeira linha\\n', 'Segunda linha\\n', 'Terceira linha']\n"
          ]
        }
      ]
    },
    {
      "cell_type": "markdown",
      "source": [
        "## Escrevendo em um arquivo de texto"
      ],
      "metadata": {
        "id": "IpXE6hjWzBiv"
      }
    },
    {
      "cell_type": "code",
      "source": [
        "# usando o método .write() é possível escrever um texto em uma linha.\n",
        "outfile = '/content/data/out1.txt'\n",
        "\n",
        "with open(outfile, 'w') as file1:\n",
        "  file1.write('Linha número 1')       \n",
        "  file1.write('Linha número 2')\n",
        "  file1.write('Linha número 3')"
      ],
      "metadata": {
        "id": "4pelz0bnzIfu"
      },
      "execution_count": null,
      "outputs": []
    },
    {
      "cell_type": "code",
      "source": [
        "# se quisermos adicionar uma nova linha, é necessário adicionar um carácter especial \\n\n",
        "outfile = '/content/data/out1.txt'\n",
        "\n",
        "with open(outfile, 'w') as file1:\n",
        "  file1.write('Linha número 1 \\n')       \n",
        "  file1.write('Linha número 2 \\n')\n",
        "  file1.write('Linha número 3')"
      ],
      "metadata": {
        "id": "veWG29212vQi"
      },
      "execution_count": null,
      "outputs": []
    },
    {
      "cell_type": "code",
      "source": [
        "# análogo ao .readlines() podemos passar uma lista para escrever um arquivo de texto\n",
        "outfile = '/content/data/out2.txt'\n",
        "\n",
        "lista = ['Hidrogenio\\n', 'Helio\\n', 'Boro\\n']\n",
        "\n",
        "with open(outfile,'w') as file1:\n",
        "  file1.writelines(lista)\n",
        "\n"
      ],
      "metadata": {
        "id": "jLTfhBtu3ZL6"
      },
      "execution_count": null,
      "outputs": []
    },
    {
      "cell_type": "markdown",
      "source": [
        "## Arquivos Numéricos"
      ],
      "metadata": {
        "id": "vBEqP28X43_V"
      }
    },
    {
      "cell_type": "markdown",
      "source": [
        "### Salvando dados numéricos em um arquivo"
      ],
      "metadata": {
        "id": "RVRnK6Zb4_zU"
      }
    },
    {
      "cell_type": "code",
      "source": [
        "# SALVANDO DADOS NUMÉRICOS NO FORMATO .csv via numpy\n",
        "# CSV - Comma separeated values (valores separados por vírgulas)\n",
        "\n",
        "import numpy as np\n",
        "\n",
        "# Gerando dados\n",
        "x = np.arange(-10,11,1)\n",
        "y = x**2\n",
        "\n",
        "# Gerando um array com n linhas e duas colunas.\n",
        "# Vimos que existe duas formas de se fazer.\n",
        "dados = np.stack((x,y),axis = 1)\n",
        "dados = np.array([x,y]).T             \n",
        "\n",
        "# podemos salvar o conteúdo do array, utilizando um delimitador conforme as colunas\n",
        "# utiliza-se a função np.savetext(outfile,dados,delimiter)\n",
        "# Os argumentos são:  \n",
        "#                      outfile - local onde será salvado o arquivo junto com seu nome.\n",
        "#                      dados   - array contendo os dados que serão salvos (n linhas x n colunas)\n",
        "#                      delimiter - define a forma como iremos separar esses dados, em especial se usa a ',' já que podemos abrir num arquivo .csv\n",
        "\n",
        "outfile = '/content/data/npdata1.csv'\n",
        "np.savetxt(outfile, dados, delimiter = ',')"
      ],
      "metadata": {
        "colab": {
          "base_uri": "https://localhost:8080/"
        },
        "id": "bfPZC2A443iX",
        "outputId": "0021ea42-77fb-47a1-8221-c45089dcb2cc"
      },
      "execution_count": null,
      "outputs": [
        {
          "output_type": "stream",
          "name": "stdout",
          "text": [
            "[[-10 100]\n",
            " [ -9  81]\n",
            " [ -8  64]\n",
            " [ -7  49]\n",
            " [ -6  36]\n",
            " [ -5  25]\n",
            " [ -4  16]\n",
            " [ -3   9]\n",
            " [ -2   4]\n",
            " [ -1   1]\n",
            " [  0   0]\n",
            " [  1   1]\n",
            " [  2   4]\n",
            " [  3   9]\n",
            " [  4  16]\n",
            " [  5  25]\n",
            " [  6  36]\n",
            " [  7  49]\n",
            " [  8  64]\n",
            " [  9  81]\n",
            " [ 10 100]]\n"
          ]
        }
      ]
    },
    {
      "cell_type": "code",
      "source": [
        "# Lendo o conteúdo .csv\n",
        "infile = '/content/data/npdata1.csv'\n",
        "\n",
        "with open(infile, 'r') as dados1:\n",
        "  print(dados1.read())"
      ],
      "metadata": {
        "colab": {
          "base_uri": "https://localhost:8080/"
        },
        "id": "FiCgPiGwAufZ",
        "outputId": "b73d8a4b-1831-4fa1-937a-d5591a7e606d"
      },
      "execution_count": null,
      "outputs": [
        {
          "output_type": "stream",
          "name": "stdout",
          "text": [
            "-1.000000000000000000e+01,1.000000000000000000e+02\n",
            "-9.000000000000000000e+00,8.100000000000000000e+01\n",
            "-8.000000000000000000e+00,6.400000000000000000e+01\n",
            "-7.000000000000000000e+00,4.900000000000000000e+01\n",
            "-6.000000000000000000e+00,3.600000000000000000e+01\n",
            "-5.000000000000000000e+00,2.500000000000000000e+01\n",
            "-4.000000000000000000e+00,1.600000000000000000e+01\n",
            "-3.000000000000000000e+00,9.000000000000000000e+00\n",
            "-2.000000000000000000e+00,4.000000000000000000e+00\n",
            "-1.000000000000000000e+00,1.000000000000000000e+00\n",
            "0.000000000000000000e+00,0.000000000000000000e+00\n",
            "1.000000000000000000e+00,1.000000000000000000e+00\n",
            "2.000000000000000000e+00,4.000000000000000000e+00\n",
            "3.000000000000000000e+00,9.000000000000000000e+00\n",
            "4.000000000000000000e+00,1.600000000000000000e+01\n",
            "5.000000000000000000e+00,2.500000000000000000e+01\n",
            "6.000000000000000000e+00,3.600000000000000000e+01\n",
            "7.000000000000000000e+00,4.900000000000000000e+01\n",
            "8.000000000000000000e+00,6.400000000000000000e+01\n",
            "9.000000000000000000e+00,8.100000000000000000e+01\n",
            "1.000000000000000000e+01,1.000000000000000000e+02\n",
            "\n"
          ]
        }
      ]
    },
    {
      "cell_type": "code",
      "source": [
        "# Lendo o conteúdo .csv via numpy\n",
        "infile = '/content/data/npdata1.csv'\n",
        "dados1 = np.loadtxt(infile, delimiter = ',')\n",
        "print(dados1)"
      ],
      "metadata": {
        "colab": {
          "base_uri": "https://localhost:8080/"
        },
        "id": "8oHPPFeJCMqb",
        "outputId": "6416ff3a-eefc-41fa-90cc-c1e26a1ea2e8"
      },
      "execution_count": null,
      "outputs": [
        {
          "output_type": "stream",
          "name": "stdout",
          "text": [
            "[[-10. 100.]\n",
            " [ -9.  81.]\n",
            " [ -8.  64.]\n",
            " [ -7.  49.]\n",
            " [ -6.  36.]\n",
            " [ -5.  25.]\n",
            " [ -4.  16.]\n",
            " [ -3.   9.]\n",
            " [ -2.   4.]\n",
            " [ -1.   1.]\n",
            " [  0.   0.]\n",
            " [  1.   1.]\n",
            " [  2.   4.]\n",
            " [  3.   9.]\n",
            " [  4.  16.]\n",
            " [  5.  25.]\n",
            " [  6.  36.]\n",
            " [  7.  49.]\n",
            " [  8.  64.]\n",
            " [  9.  81.]\n",
            " [ 10. 100.]]\n"
          ]
        }
      ]
    },
    {
      "cell_type": "markdown",
      "source": [
        "### Dados numéricos em formato binário (.npy)\n",
        "\n",
        "**Olhar o segundo notebo dessa aula, pois está falhando isso**"
      ],
      "metadata": {
        "id": "xwpCoD4dEhPt"
      }
    }
  ]
}