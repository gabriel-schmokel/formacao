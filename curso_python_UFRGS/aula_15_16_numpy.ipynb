{
  "nbformat": 4,
  "nbformat_minor": 0,
  "metadata": {
    "colab": {
      "name": "aula_15_16_numpy.ipynb",
      "provenance": [],
      "toc_visible": true
    },
    "kernelspec": {
      "name": "python3",
      "display_name": "Python 3"
    },
    "language_info": {
      "name": "python"
    }
  },
  "cells": [
    {
      "cell_type": "markdown",
      "source": [
        "# Numpy\n",
        "\n",
        "Python Numérico: **numpy**\n",
        "\n",
        "NumPy é um módulo para a linguagem de programação Python, que suporta o processamento de grandes, multi-dimensionais arranjos e matrizes, juntamente com uma grande coleção de funções matemáticas de alto nível para operar sobre estas matrizes.\n",
        "\n",
        "Útil para grande quantidades de dados e operações, já que a operação de listas em python não são otimizados em python e o módulo numpy é.\n",
        "\n",
        "Essa módulo é eficiente para a minimização do processamento, pois o móduo utilizado uma estrutra em 'c' para a execução das funções e métodos."
      ],
      "metadata": {
        "id": "OHOL5rUsxvJ8"
      }
    },
    {
      "cell_type": "markdown",
      "source": [
        "## Instalando e Importando o Módulo Numpy"
      ],
      "metadata": {
        "id": "VZUMCb9TyuEE"
      }
    },
    {
      "cell_type": "code",
      "execution_count": 3,
      "metadata": {
        "colab": {
          "base_uri": "https://localhost:8080/"
        },
        "id": "yy_evaI6xiGM",
        "outputId": "d4305387-41fa-4a03-cab6-306b74b6a2a9"
      },
      "outputs": [
        {
          "output_type": "stream",
          "name": "stdout",
          "text": [
            "Looking in indexes: https://pypi.org/simple, https://us-python.pkg.dev/colab-wheels/public/simple/\n",
            "Requirement already satisfied: numpy in /usr/local/lib/python3.7/dist-packages (1.21.6)\n"
          ]
        }
      ],
      "source": [
        "# instalação do pacote/bibioteca numpy pela máquina virtual Linux\n",
        "! pip install numpy                    \n",
        "# importando o módulo numpy\n",
        "import numpy as np"
      ]
    },
    {
      "cell_type": "markdown",
      "source": [
        "## Criando Arrays com Numpy"
      ],
      "metadata": {
        "id": "idf03vMBzpM1"
      }
    },
    {
      "cell_type": "code",
      "source": [
        "import numpy as np\n",
        "\n",
        "# Array no formato lista --> conrtido para classe 'numpy.ndarray'\n",
        "# Criando um array uni-dimensional (1D)\n",
        "# A classe que esse array pertence é 'numpy.ndarray'\n",
        "# Observe que ao contrário das listas, não temos virgulas separando os elementos.\n",
        "\n",
        "print('Dimensão 1D')\n",
        "arr1D = np.array([1,2,3,4]) \n",
        "print(arr1D, type(arr1D))\n",
        "\n",
        "# Array no formato tupla --> conrtido para classe 'numpy.ndarray'\n",
        "# A classe que esse array pertence é 'numpy.ndarray', perceba que a classe não muda mesmo que passamos uma tupla.\n",
        "\n",
        "arr1D = np.array((1,2,3,4)) \n",
        "print(arr1D, type(arr1D))"
      ],
      "metadata": {
        "colab": {
          "base_uri": "https://localhost:8080/"
        },
        "id": "-KjnBBEszxA2",
        "outputId": "a870e979-e1a6-416a-da72-fc839a00dc97"
      },
      "execution_count": 30,
      "outputs": [
        {
          "output_type": "stream",
          "name": "stdout",
          "text": [
            "Dimensão 1D\n",
            "[1 2 3 4] <class 'numpy.ndarray'>\n",
            "[1 2 3 4] <class 'numpy.ndarray'>\n"
          ]
        }
      ]
    },
    {
      "cell_type": "code",
      "source": [
        "import numpy as np\n",
        "\n",
        "# Criando um array bi-dimensional (2D)\n",
        "# Como argumento recebemos listas e tuplas separadas por vírgulas. \n",
        "# Deve-se delimitar essas listas com colchetes ou parênteses.\n",
        "\n",
        "print('Dimensão 2D')\n",
        "arr2D = np.array([[1,2,3], (5,6,7)]) \n",
        "print(arr2D, type(arr2D))\n",
        "print()\n",
        "\n",
        "# Criando um array tri-dimensional (3D)\n",
        "# Obedece a mesma ideia das dimensões anteriores já apresentadas.\n",
        "print('Dimensão 3D')\n",
        "arr3D = np.array([[(1,2,3),(4,5,6)], [(7,8,9),(10,11,12)]]) \n",
        "print(arr3D, type(arr3D))\n",
        "print()\n",
        "\n",
        "# Criando um array de dimensão-zero (0D)\n",
        "# Como argumento deve-se passar apenas um valor, não sendo uma coleção.\n",
        "print('Dimensão 0D')\n",
        "arr0D = np.array(3.1316)\n",
        "print(arr0D)\n",
        "\n",
        "\n",
        "print()\n",
        "''' RESUMO FINAL DAS DIMENSÕES DE UM ARRAY - Pode-se fazer uma associação:\n",
        "\n",
        "    1D - Corresponde ao acesso de uma letra em uma linha.\n",
        "    2D - Corresponde ao acesso de de uma linha em uma página e a letra dessa linha. \n",
        "    3D - Corresponde ao acesso de uma págiana de um livro, posteriomente de uma linha desse livro, e de uma letra dessa linha.\n",
        "    4D - Corresponde ao acesso de um livro, posteriormente a página desse livro, depois a linha e a letra dessa linha.\n",
        "\n",
        "    ... e assim seguimos para mais dimensões!\n",
        "\n",
        "'''"
      ],
      "metadata": {
        "colab": {
          "base_uri": "https://localhost:8080/",
          "height": 366
        },
        "id": "rU70ZCg41HY3",
        "outputId": "90709b72-11ee-4db9-b524-998dcdd30931"
      },
      "execution_count": 56,
      "outputs": [
        {
          "output_type": "stream",
          "name": "stdout",
          "text": [
            "Dimensão 2D\n",
            "[[1 2 3]\n",
            " [5 6 7]] <class 'numpy.ndarray'>\n",
            "\n",
            "Dimensão 3D\n",
            "[[[ 1  2  3]\n",
            "  [ 4  5  6]]\n",
            "\n",
            " [[ 7  8  9]\n",
            "  [10 11 12]]] <class 'numpy.ndarray'>\n",
            "\n",
            "Dimensão 0D\n",
            "3.1316\n",
            "\n"
          ]
        },
        {
          "output_type": "execute_result",
          "data": {
            "text/plain": [
              "' RESUMO FINAL DAS DIMENSÕES DE UM ARRAY - Pode-se fazer uma associação:\\n\\n    1D - Corresponde ao acesso de uma letra em uma linha.\\n    2D - Corresponde ao acesso de de uma linha em uma página e a letra dessa linha. \\n    3D - Corresponde ao acesso de uma págiana de um livro, posteriomente de uma linha desse livro, e de uma letra dessa linha.\\n    4D - Corresponde ao acesso de um livro, posteriormente a página desse livro, depois a linha e a letra dessa linha.\\n\\n    ... e assim seguimos para mais dimensões!\\n\\n'"
            ],
            "application/vnd.google.colaboratory.intrinsic+json": {
              "type": "string"
            }
          },
          "metadata": {},
          "execution_count": 56
        }
      ]
    },
    {
      "cell_type": "markdown",
      "source": [
        "## Checando o Número de Dimensões e a Forma de um Array "
      ],
      "metadata": {
        "id": "gBnIB1Bu8Xwq"
      }
    },
    {
      "cell_type": "code",
      "source": [
        "import numpy as np\n",
        "\n",
        "arr0D = np.array(123)\n",
        "arr1D = np.array([1,2,3])\n",
        "arr2D =  np.array([[1,2,3], [3,5,6]]) \n",
        "arr3D = np.array([[[1,2,3],[4,5,6]], [[7,8,9],[10,11,12]]]) \n",
        "\n",
        "# O atributo ndim retorna a dimensão de um array.\n",
        "print('Dimensão dos arrays:')\n",
        "print(arr0D.ndim)\n",
        "print(arr1D.ndim)\n",
        "print(arr2D.ndim)\n",
        "print(arr3D.ndim)\n",
        "\n",
        "# O atributo 'shape' retorna a forma do array através de uma tupla. \n",
        "print('Forma dos arrays')\n",
        "print(arr0D.shape, type(arr3D))     # como o array não é composto por uma coleção de dados, então o retorno será uma tupla vazia\n",
        "print(arr1D.shape, type(arr3D))     # irá retornar uma tupla com um único elemento, informando o número de elementos presentes no array 1D. Número de colunas.\n",
        "print(arr2D.shape, type(arr3D))     # irá retornar uma tupla com dois elementos. Primeiro elemento informa o número de linhas, e o segundo o número de colunas.\n",
        "print(arr3D.shape, type(arr3D))     # irá retornar uma tupla com três elementos. Primeiro elemento informa o número de matrizes, o segundo as linhas, e o terceiro as colunas."
      ],
      "metadata": {
        "colab": {
          "base_uri": "https://localhost:8080/"
        },
        "id": "msRdhSSm8jvH",
        "outputId": "c44ec760-d8f3-424f-eb1e-c37039b86dfb"
      },
      "execution_count": 1,
      "outputs": [
        {
          "output_type": "stream",
          "name": "stdout",
          "text": [
            "Dimensão dos arrays:\n",
            "0\n",
            "1\n",
            "2\n",
            "3\n",
            "Forma dos arrays\n",
            "() <class 'numpy.ndarray'>\n",
            "(3,) <class 'numpy.ndarray'>\n",
            "(2, 3) <class 'numpy.ndarray'>\n",
            "(2, 2, 3) <class 'numpy.ndarray'>\n"
          ]
        }
      ]
    },
    {
      "cell_type": "markdown",
      "source": [
        "## Criando um Array com N-dimensões\n",
        "\n",
        "É possível gerar um array de N-dimensões, basta passar um segundo argumento **ndim = n** para o método o método **np.array**. Nessa situação **n** informa a dimensão.  \n",
        "\n",
        "A esse array podemos associar os correspondentes elementos da tupla,  obtida pelo atributo shape, da seguinte forma (ex: array em 5D):\n",
        "\n",
        "1. - Primeiro índice da tupla informa o número de prateleiras da estante.\n",
        "2. - Segundo índice da tupla informa o número de livros na correspondente prateleira.\n",
        "3. - Terceiro índice da tupla informa o número de páginas contidas no livro.\n",
        "4. - Quarto índice da tupla informa o número de linhas presentes na página.\n",
        "5. - Quinto índice da tupla informa o número de elementos numa linha.  "
      ],
      "metadata": {
        "id": "0x4bamJ-nd_Y"
      }
    },
    {
      "cell_type": "code",
      "source": [
        "import numpy as np\n",
        "\n",
        "# segundo argumento ndim=5 cria um array de dimensão 5\n",
        "arr5D = np.array([1,2,3,4,5], ndmin = 5)\n",
        "\n",
        "print('Array: ',arr5D)\n",
        "print('Dimensão: ',arr5D.ndim)\n",
        "print('Forma: ',arr5D.shape)"
      ],
      "metadata": {
        "colab": {
          "base_uri": "https://localhost:8080/"
        },
        "id": "yil1MM9jDZ7L",
        "outputId": "77ec728b-094d-456a-d5bd-d41e4ee96585"
      },
      "execution_count": 6,
      "outputs": [
        {
          "output_type": "stream",
          "name": "stdout",
          "text": [
            "Array:  [[[[[1 2 3 4 5]]]]]\n",
            "Dimensão:  5\n",
            "Forma:  (1, 1, 1, 1, 5)\n"
          ]
        }
      ]
    },
    {
      "cell_type": "markdown",
      "source": [
        "## Acessando Elementos de Um Arranjo"
      ],
      "metadata": {
        "id": "ONymuOKjLUzL"
      }
    },
    {
      "cell_type": "code",
      "source": [
        "import numpy as np\n",
        "\n",
        "\n",
        "# Definindo um arranjo 1D\n",
        "arr1D = np.array([1,2,3,4]) \n",
        "\n",
        "# Acessando os elementos de um arranjo 1D\n",
        "print('Acessando elementos array 1D:')\n",
        "print(arr1D[0],arr1D[1],arr1D[2],arr1D[3])\n",
        "print('Fazendo operações com elementos de um array 1D:')\n",
        "print(arr1D[0]*arr1D[3])\n",
        "\n",
        "print()\n",
        "\n",
        "# Definindo um arranjo 2D\n",
        "arr2D = np.array([[1,2,3], [4,5,6]])\n",
        "# Acessando os elementos de um arranjo 2D\n",
        "print('Acessando elementos array 1D:')\n",
        "print(arr2D[0,0],arr2D[0,1],arr2D[0,2])\n",
        "print(arr2D[1,0],arr2D[1,1],arr2D[1,2]) \n",
        "\n",
        "\n",
        "print()\n",
        "\n",
        "# Definindo um arranjo 3D\n",
        "arr3D = np.array([[[1,2,3], [4,5,6]], [[7,8,9], [10,11,12]]])\n",
        "# Acessando os elementos de um arranjo 2D\n",
        "print('Acessando elementos array 3D:')\n",
        "print(arr3D[0,0,0],arr3D[0,0,1],arr3D[0,0,2])\n",
        "print(arr3D[0,1,0],arr3D[0,1,1],arr3D[0,1,2])\n",
        "print(arr3D[1,0,0],arr3D[1,0,1],arr3D[1,0,2])\n",
        "print(arr3D[1,1,0],arr3D[1,1,1],arr3D[1,1,2])\n",
        "\n",
        "\n",
        "print()\n",
        "\n",
        "# O acesso dos elementos também pode ser com o uso dos números negativos.\n",
        "# Similar a como acessavamos os últimos elementos de uma lista.\n",
        "\n",
        "# Definindo um arranjo 2D\n",
        "arr2D = np.array([[1,2,3], [4,5,6]])\n",
        "# Acessando os elementos de um arranjo 2D\n",
        "print('Acessando elementos com índices negativos em um array 2D:')\n",
        "print(arr2D[0,-1],arr2D[0,-2],arr2D[0,-3])\n",
        "print(arr2D[1,-1],arr2D[1,-2],arr2D[1,-3]) "
      ],
      "metadata": {
        "colab": {
          "base_uri": "https://localhost:8080/"
        },
        "id": "j23-gOZyLhEF",
        "outputId": "e077138f-45fc-42ec-edb1-ef774ad871c3"
      },
      "execution_count": 8,
      "outputs": [
        {
          "output_type": "stream",
          "name": "stdout",
          "text": [
            "Acessando elementos array 1D:\n",
            "1 2 3 4\n",
            "Fazendo operações com elementos de um array 1D:\n",
            "4\n",
            "\n",
            "Acessando elementos array 1D:\n",
            "1 2 3\n",
            "4 5 6\n",
            "\n",
            "Acessando elementos array 3D:\n",
            "1 2 3\n",
            "4 5 6\n",
            "7 8 9\n",
            "10 11 12\n",
            "\n",
            "Acessando elementos com índices negativos em um array 2D:\n",
            "3 2 1\n",
            "6 5 4\n"
          ]
        }
      ]
    },
    {
      "cell_type": "markdown",
      "source": [
        "## Fatiamento de Arrays"
      ],
      "metadata": {
        "id": "hheYk0rAPAt-"
      }
    },
    {
      "cell_type": "code",
      "source": [
        "# seja um array 1D\n",
        "arr1D = np.array([1,2,3,4,5,6,7])\n",
        "\n",
        "# podemos fazer a operação de fatiamento.\n",
        "# sempara os elementos de um array de forma ordenada em seus índices.\n",
        "# mesma operação que fizemos com as listas.\n",
        "\n",
        "\n",
        "print(arr1D[2:6])\n",
        "# [1  2  3  4  5  6  7]\n",
        "# [1  2| 3  4  5  6| 7] =  [3  4  5  6]\n",
        "print(arr1D[1:5])\n",
        "# [1  2  3  4  5  6  7]\n",
        "# [1| 2  3  4  5| 6  7] =  [2  3  4  5]\n",
        "print(arr1D[:5])\n",
        "# [1  2  3  4  5  6  7]\n",
        "# [1  2  3  4  5| 6  7] = [1  2  3  4  5]\n",
        "print(arr1D[5:])\n",
        "# [1  2  3  4  5  6  7]\n",
        "# [1  2  3  4  5 |6  7] = [6 7]\n",
        "\n",
        "\n",
        "print()\n",
        "\n",
        "# FATIAMENTO JUNTO COM OS ÍNDICES NEGATIVOS\n",
        "\n",
        "print('Fatiamento com índices negativos: ')\n",
        "print(arr1D[-3:-1])\n",
        "# [1  2  3  4  5  6  7]\n",
        "# [1| 2  3  4 |5  6 |7] =  [5  6]\n",
        "print(arr1D[-6:-1])\n",
        "# [1  2  3  4  5  6  7]\n",
        "# [1| 2  3  4  5  6| 7] =  [2  3  4  5  6  7]\n",
        "print(arr1D[-6:])\n",
        "# [1  2  3  4  5  6  7]\n",
        "# [1| 2  3  4  5  6  7|] =  [2  3  4  5  6  7]\n",
        "print(arr1D[:-6])\n",
        "# [1  2  3  4  5  6  7]\n",
        "# [1| 2  3  4  5  6  7] =  [1]\n",
        "\n",
        "print()\n",
        "\n",
        "# FATIAMENTO EM PASSOS\n",
        "# É necessário passar mais um argumento\n",
        "print('Fatiamento em passos: ')\n",
        "print(arr1D[1:6:2])\n",
        "# [1  2  3  4  5  6  7]\n",
        "# [1| 2  3  4  5  6 |7] =  [2  4  6]\n",
        "print(arr1D[::2])\n",
        "# [1  2  3  4  5  6  7]\n",
        "# [1  2  3  4  5  6  7] =  [1  3  5  7]\n",
        "print(arr1D[-5:-1:2])\n",
        "# [1  2  3  4  5  6  7]\n",
        "# [1  2  3  4  5  6  7] =  [3 5]"
      ],
      "metadata": {
        "colab": {
          "base_uri": "https://localhost:8080/"
        },
        "id": "Iv3GjFPoPDSG",
        "outputId": "a3efa322-5458-4fcc-a5f8-8e1f4109866f"
      },
      "execution_count": 16,
      "outputs": [
        {
          "output_type": "stream",
          "name": "stdout",
          "text": [
            "[3 4 5 6]\n",
            "[2 3 4 5]\n",
            "[1 2 3 4 5]\n",
            "[6 7]\n",
            "\n",
            "Fatiamento com índices negativos: \n",
            "[5 6]\n",
            "[2 3 4 5 6]\n",
            "[2 3 4 5 6 7]\n",
            "[1]\n",
            "\n",
            "Fatiamento em passos: \n",
            "[2 4 6]\n",
            "[1 3 5 7]\n",
            "[3 5]\n"
          ]
        }
      ]
    },
    {
      "cell_type": "code",
      "source": [
        "# FATIAMENTO EM ARRAYS DE 2 DIMENSÕES\n",
        "\n",
        "# Definindo um arranjo 2D\n",
        "arr2D = np.array([[1,2,3], [4,5,6]])\n",
        "\n",
        "\n",
        "print(arr2D[0,0:2])\n",
        "# [[1  2  3]  [4  5  6]]\n",
        "#  [1 |2  3|] = [1,2]\n",
        "print(arr2D[0,1:3])\n",
        "# [[1  2  3]  [4  5  6]]\n",
        "#  [1 |2  3|] = [2,3]\n",
        "print(arr2D[1,2:3])\n",
        "# [[1  2  3]  [4  5  6]]\n",
        "#  [4  5 |6|] = [6]\n",
        "print(arr2D[1,:-1])\n",
        "# [[1  2  3]  [4  5  6]]\n",
        "#  [4  5 |6] = [4 5]"
      ],
      "metadata": {
        "colab": {
          "base_uri": "https://localhost:8080/"
        },
        "id": "tjA_YJQjURwY",
        "outputId": "f6d42eff-ae3f-4d8b-bc4e-c7824293994d"
      },
      "execution_count": 26,
      "outputs": [
        {
          "output_type": "stream",
          "name": "stdout",
          "text": [
            "[1 2]\n",
            "[2 3]\n",
            "[6]\n",
            "[4 5]\n"
          ]
        }
      ]
    },
    {
      "cell_type": "markdown",
      "source": [
        "## Método **.copy( )** e método **.view(  )**"
      ],
      "metadata": {
        "id": "EEu0FYbzWpmr"
      }
    },
    {
      "cell_type": "code",
      "source": [
        "import numpy as np\n",
        "\n",
        "# Seja um array 1D\n",
        "arr1D = np.array([1,2,3,4,5,6])\n",
        "\n",
        "# método .copy()\n",
        "# copia o array 1D arr1D para x\n",
        "x = arr1D.copy()\n",
        "\n",
        "arr1D[0] = -111\n",
        "\n",
        "# Nesse método o array copiado é independente do array que passou a copia\n",
        "# Os identificadores não referenciam o mesmo objeto\n",
        "# O arranjo original não é alterado ao modificar os elementos do array 1D\n",
        "print(arr1D)\n",
        "print(x)\n",
        "\n",
        "print()\n",
        "\n",
        "# Observação: 'x' é proprietário dos dados! Ele não aponta para algo.\n",
        "# Com o atributo .base deveria retorna None, então deve ser proprietário\n",
        "print(arr1D.base)\n",
        "print(x.base)"
      ],
      "metadata": {
        "colab": {
          "base_uri": "https://localhost:8080/"
        },
        "id": "2o5VKV4tW8sD",
        "outputId": "eafdb3d2-ff3b-45ad-9e13-9db668a7696e"
      },
      "execution_count": 35,
      "outputs": [
        {
          "output_type": "stream",
          "name": "stdout",
          "text": [
            "[-111    2    3    4    5    6]\n",
            "[1 2 3 4 5 6]\n",
            "\n",
            "None\n",
            "None\n"
          ]
        }
      ]
    },
    {
      "cell_type": "code",
      "source": [
        "import numpy as np\n",
        "\n",
        "# Seja um array 1D\n",
        "arr1D = np.array([1,2,3,4,5,6])\n",
        "\n",
        "# método .copy()\n",
        "# copia o array 1D arr1D para x\n",
        "x = arr1D.view()\n",
        "\n",
        "x[0] = -111\n",
        "\n",
        "# Nesse método o array copiado depende do array que passou a copia\n",
        "# Os identificadores referenciam o mesmo objeto\n",
        "# O arranjo original é alterado ao modificar os elementos do array 1D\n",
        "print(arr1D)\n",
        "print(x)\n",
        "\n",
        "print()\n",
        "\n",
        "# Observação: 'x' não é proprietário dos dados! Ele apenas aponta.\n",
        "# Com o atributo .base deveria retornar None para ser proprietário\n",
        "print(arr1D.base)\n",
        "print(x.base)\n"
      ],
      "metadata": {
        "colab": {
          "base_uri": "https://localhost:8080/"
        },
        "id": "ZlkF3tt8X_EA",
        "outputId": "a8bdd192-c958-4852-cbf1-11e4129004bf"
      },
      "execution_count": 34,
      "outputs": [
        {
          "output_type": "stream",
          "name": "stdout",
          "text": [
            "[-111    2    3    4    5    6]\n",
            "[-111    2    3    4    5    6]\n",
            "\n",
            "None\n",
            "[-111    2    3    4    5    6]\n"
          ]
        }
      ]
    },
    {
      "cell_type": "markdown",
      "source": [
        "## Método **.reshape()**"
      ],
      "metadata": {
        "id": "yAIOePedZ2bu"
      }
    },
    {
      "cell_type": "code",
      "source": [
        "# Este método permite alterar a forma de um array. \n",
        "# Por exemplo, pode-se transformar um arranjo 1D em um 2D.\n",
        "\n",
        "# Definindo o array e sua forma\n",
        "arr1D = np.array([1,2,3,4,5,6,7,8,9,10,11,12])\n",
        "print(arr1D, '\\n', arr1D.shape)\n",
        "\n",
        "print()\n",
        "\n",
        "# Nessa situação o primeiro argumento do método reshape corresponde as linhas.\n",
        "# O segundo elemento corresponde as colunas.\n",
        "print('TRANSFORMA 1D -> 2D')\n",
        "newarr = arr1D.reshape(3,4)\n",
        "print('novo array: ', newarr) \n",
        "print('dimensão novo array: ', newarr.ndim)\n",
        "print('nova forma: ', newarr.shape)\n",
        "\n",
        "# Podemos transformar o array 1D -> 3D\n",
        "# Situação com 2 linhas de 3 colunas\n",
        "print('TRANSFORMA 1D -> 3D')\n",
        "newarr = arr1D.reshape(2,2,3)\n",
        "print('novo array: ', newarr) \n",
        "print('dimensão novo array: ', newarr.ndim)\n",
        "print('nova forma: ', newarr.shape)\n",
        "\n",
        "print()\n",
        "\n",
        "# Situação com 3 linhas e 2 colunas\n",
        "print('TRANSFORMA 1D -> 3D')\n",
        "newarr = arr1D.reshape(2,3,2)\n",
        "print('novo array: ', newarr) \n",
        "print('dimensão novo array: ', newarr.ndim)\n",
        "print('nova forma: ', newarr.shape)"
      ],
      "metadata": {
        "colab": {
          "base_uri": "https://localhost:8080/"
        },
        "id": "KJF6h5YrZ6kN",
        "outputId": "8042913b-1150-4407-d213-ad156a47d915"
      },
      "execution_count": 43,
      "outputs": [
        {
          "output_type": "stream",
          "name": "stdout",
          "text": [
            "[ 1  2  3  4  5  6  7  8  9 10 11 12] \n",
            " (12,)\n",
            "\n",
            "TRANSFORMA 1D -> 2D\n",
            "novo array:  [[ 1  2  3  4]\n",
            " [ 5  6  7  8]\n",
            " [ 9 10 11 12]]\n",
            "dimensão novo array:  2\n",
            "nova forma:  (3, 4)\n",
            "TRANSFORMA 1D -> 3D\n",
            "novo array:  [[[ 1  2  3]\n",
            "  [ 4  5  6]]\n",
            "\n",
            " [[ 7  8  9]\n",
            "  [10 11 12]]]\n",
            "dimensão novo array:  3\n",
            "nova forma:  (2, 2, 3)\n",
            "\n",
            "TRANSFORMA 1D -> 3D\n",
            "novo array:  [[[ 1  2]\n",
            "  [ 3  4]\n",
            "  [ 5  6]]\n",
            "\n",
            " [[ 7  8]\n",
            "  [ 9 10]\n",
            "  [11 12]]]\n",
            "dimensão novo array:  3\n",
            "nova forma:  (2, 3, 2)\n"
          ]
        }
      ]
    },
    {
      "cell_type": "code",
      "source": [
        "# ACHATAMENTO DE UM ARRAY - Achatamento \n",
        "# Podemos diminuir a dimensão de um arranjo: nD -> 1D\n",
        "\n",
        "import numpy as np\n",
        "\n",
        "# definindo um array\n",
        "arrnD = np.array([[[1,2,3],[4,5,6]]])\n",
        "\n",
        "# através do índice -1 no argumento estamos informando para o arranjo 2D => 1D\n",
        "newarr = arrnD.reshape(-1)\n",
        "print(newarr)"
      ],
      "metadata": {
        "colab": {
          "base_uri": "https://localhost:8080/"
        },
        "id": "yn_s2JXekiwv",
        "outputId": "a36bc19d-71ea-4e16-de52-e79439f872d1"
      },
      "execution_count": 50,
      "outputs": [
        {
          "output_type": "stream",
          "name": "stdout",
          "text": [
            "[1 2 3 4 5 6]\n"
          ]
        }
      ]
    },
    {
      "cell_type": "markdown",
      "source": [
        "## Interando Elementos de Um Array "
      ],
      "metadata": {
        "id": "bOEmDxENmbCk"
      }
    },
    {
      "cell_type": "code",
      "source": [
        "import numpy as np\n",
        "\n",
        "# Definindo os arrays com n-D\n",
        "arr1D = np.array([1,2,3,4,5,6,7])\n",
        "arr2D = np.array([[1,2,3], (5,6,7)]) \n",
        "arr3D = np.array([[[1,2,3],[4,5,6]], [[7,8,9],[10,11,12]]]) \n",
        "\n",
        "\n",
        "# Interando os elementos de do arr1D\n",
        "print('Interando os elementos de arr1D:')\n",
        "print(arr1D, '\\n')\n",
        "for coluna in arr1D:\n",
        "  print(coluna)\n",
        "\n",
        "print()\n",
        "\n",
        "# Interando os elementos de do arr2D\n",
        "print('Interando os elementos de arr2D:')\n",
        "print(arr2D, '\\n')\n",
        "for linha in arr2D:\n",
        "  for coluna in linha:\n",
        "    print(coluna)\n",
        "\n",
        "print()\n",
        "\n",
        "# Interando os elementos de do arr3D\n",
        "print('Interando os elementos de arr3D:')\n",
        "print(arr3D, '\\n')\n",
        "for matriz in arr3D:\n",
        "  for linha in matriz:\n",
        "    for coluna in linha:\n",
        "      print(coluna)"
      ],
      "metadata": {
        "colab": {
          "base_uri": "https://localhost:8080/"
        },
        "id": "FHiSTwgkmo_0",
        "outputId": "79ec9ca0-e59a-4ea8-d354-cf6a111e99c4"
      },
      "execution_count": 57,
      "outputs": [
        {
          "output_type": "stream",
          "name": "stdout",
          "text": [
            "Interando os elementos de arr1D:\n",
            "[1 2 3 4 5 6 7] \n",
            "\n",
            "1\n",
            "2\n",
            "3\n",
            "4\n",
            "5\n",
            "6\n",
            "7\n",
            "\n",
            "Interando os elementos de arr2D:\n",
            "[[1 2 3]\n",
            " [5 6 7]] \n",
            "\n",
            "1\n",
            "2\n",
            "3\n",
            "5\n",
            "6\n",
            "7\n",
            "\n",
            "Interando os elementos de arr3D:\n",
            "[[[ 1  2  3]\n",
            "  [ 4  5  6]]\n",
            "\n",
            " [[ 7  8  9]\n",
            "  [10 11 12]]] \n",
            "\n",
            "1\n",
            "2\n",
            "3\n",
            "4\n",
            "5\n",
            "6\n",
            "7\n",
            "8\n",
            "9\n",
            "10\n",
            "11\n",
            "12\n"
          ]
        }
      ]
    },
    {
      "cell_type": "markdown",
      "source": [
        "## Interando com o métdo **.ndinter(  )**"
      ],
      "metadata": {
        "id": "1lOUVoOsp4VZ"
      }
    },
    {
      "cell_type": "code",
      "source": [
        "# UTILIZANDO A FUNÇÃO .ndinter() também é possível interar o array.\n",
        "# Muito útil de interar quando a dimensão do array é muito grande.\n",
        "\n",
        "import numpy as np\n",
        "\n",
        "arr3D = np.array([[[1,2,3],[4,5,6]], [[7,8,9],[10,11,12]]]) \n",
        "print(arr3D, '\\n')\n",
        "\n",
        "for coluna in np.nditer(arr3D):\n",
        "  print(coluna)"
      ],
      "metadata": {
        "colab": {
          "base_uri": "https://localhost:8080/"
        },
        "id": "JCRayXAeo_bm",
        "outputId": "65d6aef3-1178-4d2e-c70e-49e84d427639"
      },
      "execution_count": 59,
      "outputs": [
        {
          "output_type": "stream",
          "name": "stdout",
          "text": [
            "[[[ 1  2  3]\n",
            "  [ 4  5  6]]\n",
            "\n",
            " [[ 7  8  9]\n",
            "  [10 11 12]]] \n",
            "\n",
            "1\n",
            "2\n",
            "3\n",
            "4\n",
            "5\n",
            "6\n",
            "7\n",
            "8\n",
            "9\n",
            "10\n",
            "11\n",
            "12\n"
          ]
        }
      ]
    },
    {
      "cell_type": "markdown",
      "source": [
        "### Interando com o método **.ndenumerate()**"
      ],
      "metadata": {
        "id": "A4uk4BtGqJYX"
      }
    },
    {
      "cell_type": "code",
      "source": [
        "# UTILIZANDO A FUNÇÃO .ndenumerate() também é possível interar o array.\n",
        "# Retorna uma tupla, onde o primeimeiro elemento informa o índice de cada elemento interado.\n",
        "# O segundo elemento é o valor interado do array.\n",
        "\n",
        "import numpy as np\n",
        "\n",
        "arr3D = np.array([[[1,2,3],[4,5,6]], [[7,8,9],[10,11,12]]]) \n",
        "print(arr3D, '\\n')\n",
        "\n",
        "for coluna in np.ndenumerate(arr3D):\n",
        "  print(coluna)"
      ],
      "metadata": {
        "colab": {
          "base_uri": "https://localhost:8080/"
        },
        "id": "TZCd-5b1qZlK",
        "outputId": "44e830c0-ff6f-44fa-fb2c-85d8f19803c5"
      },
      "execution_count": 62,
      "outputs": [
        {
          "output_type": "stream",
          "name": "stdout",
          "text": [
            "[[[ 1  2  3]\n",
            "  [ 4  5  6]]\n",
            "\n",
            " [[ 7  8  9]\n",
            "  [10 11 12]]] \n",
            "\n",
            "((0, 0, 0), 1)\n",
            "((0, 0, 1), 2)\n",
            "((0, 0, 2), 3)\n",
            "((0, 1, 0), 4)\n",
            "((0, 1, 1), 5)\n",
            "((0, 1, 2), 6)\n",
            "((1, 0, 0), 7)\n",
            "((1, 0, 1), 8)\n",
            "((1, 0, 2), 9)\n",
            "((1, 1, 0), 10)\n",
            "((1, 1, 1), 11)\n",
            "((1, 1, 2), 12)\n"
          ]
        }
      ]
    },
    {
      "cell_type": "markdown",
      "source": [
        "## Juntando arrays\n"
      ],
      "metadata": {
        "id": "cYEEJwaBrC5r"
      }
    },
    {
      "cell_type": "code",
      "source": [
        "import numpy as np\n",
        "\n",
        "# Podemos juntar os arranjos por concatenação\n",
        "# Deve-se usar a função .concatenate\n",
        "# Os argumentos passados são os arrays que queremos juntar na forma de tupla\n",
        "\n",
        "arr1 = np.array([1,2,3])\n",
        "arr2 = np.array([4,5,6])\n",
        "\n",
        "arr = np.concatenate((arr1,arr2))\n",
        "print(arr)"
      ],
      "metadata": {
        "colab": {
          "base_uri": "https://localhost:8080/"
        },
        "id": "R4edqwcjrSNF",
        "outputId": "d486db87-ba4b-4bf8-d417-093673940655"
      },
      "execution_count": 65,
      "outputs": [
        {
          "output_type": "stream",
          "name": "stdout",
          "text": [
            "[1 2 3 4 5 6]\n"
          ]
        }
      ]
    },
    {
      "cell_type": "code",
      "source": [
        "import numpy as np\n",
        "\n",
        "# Podemos juntar os arranjos pela função .stack( (arr1,arr2), axis = ... )\n",
        "# Primeiro argumento corresponde a uma tupla, onde os elementos são os arranjos que serão empilhados.\n",
        "# O eixo defini como os arranjos serão juntados:\n",
        "#                 axis = 0 (a cada novo array uma nova linha é gerada)\n",
        "#                 axis = 1 (junta as colunas de índice e gera uma nova linha)\n",
        "\n",
        "arr1 = np.array([1,2,3])\n",
        "arr2 = np.array([4,5,6])\n",
        "\n",
        "print('axis = 0')\n",
        "arr = np.stack((arr1,arr2),axis = 0)\n",
        "print(arr)\n",
        "\n",
        "print()\n",
        "\n",
        "print('axis = 1')\n",
        "arr = np.stack((arr1,arr2),axis = 1)\n",
        "print(arr)\n"
      ],
      "metadata": {
        "colab": {
          "base_uri": "https://localhost:8080/"
        },
        "id": "uSa9JMlTsd2C",
        "outputId": "19f11221-ad24-4751-d025-90a5c5db7a71"
      },
      "execution_count": 67,
      "outputs": [
        {
          "output_type": "stream",
          "name": "stdout",
          "text": [
            "axis = 0\n",
            "[[1 2 3]\n",
            " [4 5 6]]\n",
            "\n",
            "axis = 1\n",
            "[[1 4]\n",
            " [2 5]\n",
            " [3 6]]\n"
          ]
        }
      ]
    },
    {
      "cell_type": "code",
      "source": [
        "import numpy as np\n",
        "\n",
        "# Podemos juntar os arranjos pela função .hstack( (arr1,arr2, ...))\n",
        "# Similar a função .concatenate() \n",
        "# Recebe um único argumento, sendo uma tupla, onde os elementos são os arrays.\n",
        "# obs: hstack pode ser entendido como 'h' de horizontal\n",
        "\n",
        "arr1 = np.array([1,2,3])\n",
        "arr2 = np.array([4,5,6])\n",
        "\n",
        "print('Função .hstack()')\n",
        "arr = np.hstack((arr1,arr2))\n",
        "print(arr)\n",
        "\n",
        "print()\n",
        "\n",
        "\n",
        "# Podemos juntar os arranjos pela função .hstack( (arr1,arr2, ...)) empilhando eles.\n",
        "# Similar a função .stack() na condição em que axis = 0\n",
        "# obs: vstack pode ser entendido como 'v' de vertical\n",
        "# Recebe um único argumento, sendo uma tupla, onde os elementos são os arrays.\n",
        "\n",
        "\n",
        "print('axis = 1')\n",
        "arr = np.vstack((arr1,arr2))  \n",
        "print(arr)\n"
      ],
      "metadata": {
        "colab": {
          "base_uri": "https://localhost:8080/"
        },
        "id": "btgWnyRju1E6",
        "outputId": "8821441b-35a0-45a1-bd34-c8ba6ba95a5f"
      },
      "execution_count": 71,
      "outputs": [
        {
          "output_type": "stream",
          "name": "stdout",
          "text": [
            "Função .hstack()\n",
            "[1 2 3 4 5 6]\n",
            "\n",
            "axis = 1\n",
            "[[1 2 3]\n",
            " [4 5 6]]\n"
          ]
        }
      ]
    },
    {
      "cell_type": "markdown",
      "source": [
        "## Separando arrays\n"
      ],
      "metadata": {
        "id": "ORl3H7cJzQa7"
      }
    },
    {
      "cell_type": "code",
      "source": [
        "import numpy as np\n",
        "\n",
        "# Podemos separa um array com a função/método .array_split()\n",
        "# A função recebe 2 argumentos:\n",
        "# O primeiro argumento é o array que desejamos separar ou dividir.\n",
        "# O segundo argumento é quantidade que desejamos dividir o array.\n",
        "\n",
        "arr = np.array([1,2,3,5,6])\n",
        "\n",
        "# Dividindo o array 1D em três partes.\n",
        "print('Dividindo o array em três partes:')\n",
        "newarr = np.array_split(arr,3)\n",
        "print(newarr)\n",
        "\n",
        "print()\n",
        "\n",
        "# Dividindo o array 1D em quatro partes.\n",
        "print('Dividindo o array em quatro partes:')\n",
        "newarr = np.array_split(arr,4)\n",
        "print(newarr)\n"
      ],
      "metadata": {
        "colab": {
          "base_uri": "https://localhost:8080/"
        },
        "id": "PJNq50uZzV4G",
        "outputId": "620ee45f-7d7b-4b26-c9c8-eefc2a9bfc5c"
      },
      "execution_count": 76,
      "outputs": [
        {
          "output_type": "stream",
          "name": "stdout",
          "text": [
            "Dividindo o array em três partes:\n",
            "[array([1, 2]), array([3, 5]), array([6])]\n",
            "\n",
            "Dividindo o array em quatro partes:\n",
            "[array([1, 2]), array([3]), array([5]), array([6])]\n"
          ]
        }
      ]
    },
    {
      "cell_type": "code",
      "source": [
        "# Dividindo um array 2D\n",
        "\n",
        "#Dividindo um array 2D de 2 linhas em 2 partes\n",
        "arr = np.array([[1,2,3],[4,5,6]])\n",
        "newarr = np.array_split(arr,2)\n",
        "print(newarr)\n",
        "\n",
        "#Dividindo um array 2D de 2 linhas em 3 partes\n",
        "# Obs: nessa situação um array nulo é gerado\n",
        "arr = np.array([[1,2,3],[4,5,6]])\n",
        "newarr = np.array_split(arr,3)\n",
        "print(newarr)"
      ],
      "metadata": {
        "colab": {
          "base_uri": "https://localhost:8080/"
        },
        "id": "XOxvngaY06PJ",
        "outputId": "8caa1baa-ac56-4f2c-ef8c-bf0a95bbe1bd"
      },
      "execution_count": 79,
      "outputs": [
        {
          "output_type": "stream",
          "name": "stdout",
          "text": [
            "[array([[1, 2, 3]]), array([[4, 5, 6]])]\n",
            "[array([[1, 2, 3]]), array([[4, 5, 6]]), array([], shape=(0, 3), dtype=int64)]\n"
          ]
        }
      ]
    },
    {
      "cell_type": "code",
      "source": [
        "# A função .split() ainda admite um terceiro argumento, mas deixaremos pra estudar isso outra hora."
      ],
      "metadata": {
        "id": "pUsPPyYw2BSJ"
      },
      "execution_count": null,
      "outputs": []
    },
    {
      "cell_type": "markdown",
      "source": [
        "## Pesquisa por Elementos Em um Arranjo"
      ],
      "metadata": {
        "id": "vja9635F2Umv"
      }
    },
    {
      "cell_type": "code",
      "source": [
        "import numpy as np\n",
        "\n",
        "# Definindo o arranjo arr.\n",
        "arr = np.array([10,20,30,40,10,20,30,40,10,20,30,40])\n",
        "\n",
        "# Podemos pesquisar os elementos de um arranjo através da função/mulo .where()\n",
        "# Essa função recebe como argumento o elemento que desejamos procurar junto com o próprio array e o operador de comparação.\n",
        "# Ela retorna um array especificando os índices em que o elementos passado como argumento é igual.\n",
        "\n",
        "# [10,20,30,40,10,20,30,40,10,20,30,40]\n",
        "#  0,  1, 2, 3, 4, 5, 6, 7, 8, 9,10,11   \n",
        "x = np.where(arr == 40)\n",
        "print(x)\n",
        "\n",
        "print()\n",
        "\n",
        "arr = np.array([1,2,3,4,5,6,7,8,9,10])\n",
        "# Pesquisando os índices pares e impares\n",
        "print('Par: ')\n",
        "par = np.where(arr%2 == 0)\n",
        "print(par)\n",
        "print('Imapar: ')\n",
        "impar = np.where( arr % 2 == 1)\n",
        "print(impar)"
      ],
      "metadata": {
        "colab": {
          "base_uri": "https://localhost:8080/"
        },
        "id": "-1ARIerB2daD",
        "outputId": "5ec0b381-3889-4932-d16d-d92d02fefd2d"
      },
      "execution_count": 88,
      "outputs": [
        {
          "output_type": "stream",
          "name": "stdout",
          "text": [
            "(array([ 3,  7, 11]),)\n",
            "\n",
            "Par: \n",
            "(array([1, 3, 5, 7, 9]),)\n",
            "Imapar: \n",
            "(array([0, 2, 4, 6, 8]),)\n"
          ]
        }
      ]
    },
    {
      "cell_type": "code",
      "source": [
        "import numpy as np\n",
        "\n",
        "# Definindo o arranjo arr.\n",
        "arr = np.array([6,7,8,9])\n",
        "\n",
        "# A função/método .searchsorted() pesquisa um item e retorna um índice conforme a regra:\n",
        "#    arr[i-1] < valor <= arr[i+1]       --  Definida como default, mesmo que side = 'left'\n",
        "#    arr[i-1] <= valor < arr[i+1]       --  side = right \n",
        "\n",
        "# Esse método recebo como primeiro argumento o array.\n",
        "# O segundo argumento é o 'valor' que estamos impondo para satisfazer a regra acima.\n",
        "# O terceiro argumento é o side, e define como iremos respeitar a regra acima.\n",
        "\n",
        "x = np.searchsorted(arr, 8)\n",
        "print('side left:',x)\n",
        "y = np.searchsorted(arr, 8, side = 'right')\n",
        "print('side right:',y)\n",
        "\n",
        "# Função útil para fazer o ordenamento de um array."
      ],
      "metadata": {
        "colab": {
          "base_uri": "https://localhost:8080/"
        },
        "id": "ZuNTcIth73P9",
        "outputId": "d7bac89d-67a3-418a-9ccc-f3b84321086e"
      },
      "execution_count": 95,
      "outputs": [
        {
          "output_type": "stream",
          "name": "stdout",
          "text": [
            "side left: 2\n",
            "side right: 3\n"
          ]
        }
      ]
    },
    {
      "cell_type": "markdown",
      "source": [
        "## Ordenamento de arrays"
      ],
      "metadata": {
        "id": "M17eU7Ti-xB8"
      }
    },
    {
      "cell_type": "code",
      "source": [
        "import numpy as np\n",
        "\n",
        "# O ordenamento de arranjos é feito com o método/função .sort()\n",
        "\n",
        "arr = np.array([6,3,7,1,2,12,4]) \n",
        "print(np.sort(arr))                    # ordenamento numérico\n",
        "\n",
        "arr = np.array(['A','K','C','B','Z','M','L']) \n",
        "print(np.sort(arr))                    # ordenamento alfabético\n",
        "\n",
        "arr = np.array([True, True, False, False, True])\n",
        "print(np.sort(arr))                    # ordenamento booleano\n",
        "\n",
        "arr = np.array([[4,2,1],[5,1,10]])\n",
        "print(np.sort(arr))                     # ordenamento em um array bi-dimensional\n"
      ],
      "metadata": {
        "colab": {
          "base_uri": "https://localhost:8080/"
        },
        "id": "FqHdtuAH-2Ca",
        "outputId": "493ab1f2-0dea-4d38-8d33-5e1887697f07"
      },
      "execution_count": 100,
      "outputs": [
        {
          "output_type": "stream",
          "name": "stdout",
          "text": [
            "[ 1  2  3  4  6  7 12]\n",
            "['A' 'B' 'C' 'K' 'L' 'M' 'Z']\n",
            "[False False  True  True  True]\n",
            "[[ 1  2  4]\n",
            " [ 1  5 10]]\n"
          ]
        }
      ]
    },
    {
      "cell_type": "markdown",
      "source": [
        "## Filtrando Arranjos"
      ],
      "metadata": {
        "id": "fFOBN8wlBTag"
      }
    },
    {
      "cell_type": "code",
      "source": [
        "import numpy as np\n",
        "\n",
        "arr = np.array([10,20,30,40,50,60,70,80])\n",
        "print('array antigo: ',arr)\n",
        "\n",
        "x = [True, True, False, False, False, True, True, True]\n",
        "print(x)\n",
        "\n",
        "# inserindo os elementos booleanos da lista 'x' podemos informar quais índices aparecem no array newarr  \n",
        "newarr = arr[x]\n",
        "print('novo array: ',newarr)"
      ],
      "metadata": {
        "colab": {
          "base_uri": "https://localhost:8080/"
        },
        "id": "0Jey4LdBBXro",
        "outputId": "bcdda9bd-c64f-4b78-aeab-a2fced51520d"
      },
      "execution_count": 105,
      "outputs": [
        {
          "output_type": "stream",
          "name": "stdout",
          "text": [
            "array antigo:  [10 20 30 40 50 60 70 80]\n",
            "[True, True, False, False, False, True, True, True]\n",
            "novo array:  [10 20 60 70 80]\n"
          ]
        }
      ]
    },
    {
      "cell_type": "code",
      "source": [
        "import numpy as np\n",
        "\n",
        "# criando um filtro que retorne um array apenas com os valores maiores que 40\n",
        "\n",
        "# Definindo o array\n",
        "arr = np.array([10,20,30,40,50,60,70,80])\n",
        "\n",
        "# Criano a lista responsável por fazer o filtro\n",
        "filtro = []\n",
        "\n",
        "for x in arr:\n",
        "  if x > 40:\n",
        "    filtro.append(True)\n",
        "  else:\n",
        "    filtro.append(False)\n",
        "\n",
        "newarr = arr[filtro]\n",
        "\n",
        "print('array antigo:', arr)\n",
        "print('filtro:', filtro)\n",
        "print('array novo:', newarr)\n"
      ],
      "metadata": {
        "colab": {
          "base_uri": "https://localhost:8080/"
        },
        "id": "HNiWzC7nFQU0",
        "outputId": "f9b4eb6d-b9ee-4f26-a92c-46b777291184"
      },
      "execution_count": 106,
      "outputs": [
        {
          "output_type": "stream",
          "name": "stdout",
          "text": [
            "array antigo: [10 20 30 40 50 60 70 80]\n",
            "filtro: [False, False, False, False, True, True, True, True]\n",
            "array novo: [50 60 70 80]\n"
          ]
        }
      ]
    },
    {
      "cell_type": "code",
      "source": [
        "# Criando um filtro diretamente de um array que retorna os valores maiores que 40\n",
        "# Forma mais simples que a do explo acima\n",
        "\n",
        "import numpy as np\n",
        "\n",
        "arr = np.array([10,20,30,40,50,60,70,80])\n",
        "filtro = arr > 40\n",
        "print(filtro)\n",
        "\n",
        "newarr = arr[filtro]\n",
        "print(newarr)"
      ],
      "metadata": {
        "colab": {
          "base_uri": "https://localhost:8080/"
        },
        "id": "PxpePv9IGl1r",
        "outputId": "eb7b1242-7c2e-4f8b-9a1f-c0ff4c162627"
      },
      "execution_count": 108,
      "outputs": [
        {
          "output_type": "stream",
          "name": "stdout",
          "text": [
            "[False False False False  True  True  True  True]\n",
            "[50 60 70 80]\n"
          ]
        }
      ]
    },
    {
      "cell_type": "markdown",
      "source": [
        "## Números Pseudo-Randômicos\n",
        "\n",
        "Um gerador de número pseudo-aleatório é um algoritmo normalmente derivado de uma função matemática que gera uma seqüência de números, os quais são aproximadamente independentes um dos outros."
      ],
      "metadata": {
        "id": "PFZONAUkHjTT"
      }
    },
    {
      "cell_type": "code",
      "source": [
        "# Em geral o numpy é um módulo.  Os métodos utilizados até então foram todos retirados do mesmo módulo.\n",
        "# No então, o módulo numpy é ainda mais amplo, sendo composto por um conjunto de módulo (O QUE FORMA UMA BIBLIOTECA)\n",
        "# Um dos módulos presentes é o módulo random\n",
        "\n",
        "from numpy import random\n",
        "\n",
        "# gera um número aleatório interio entre 0 e 99\n",
        "# os argumentos são o que definem o intervalo \n",
        "print('número inteiro aleatório:')\n",
        "x = random.randint(100) \n",
        "print(x)\n",
        "x = random.randint(0,10)\n",
        "print(x)\n",
        "\n",
        "print()\n",
        "\n",
        "# podemos gerar valores reais\n",
        "# gera-se um número entre zero e um. \n",
        "# Esse é o único intervalor permitido.\n",
        "print('número real aleatório:')\n",
        "x = random.rand() \n",
        "print(x)\n",
        "\n",
        "# Se quisermos gerar valores aleatórios reais fora desse intervalo, é necessário fazer uma multiplicação\n",
        "x = random.rand()*100   # 100 é o intervalo limite \n",
        "print(x)\n",
        "\n",
        "print()\n",
        "\n",
        "# gerando um array 1D de números pseudo-randômicos inteiros\n",
        "# primeiro argumento continua sendo o intervalo onde se gera os números aleatórios\n",
        "# deve-se passar um segundo argumento size = ..., onde ... informa o tamanho do array (constitue uma tupla 1D)\n",
        "x = random.randint(100, size=(10))\n",
        "print(x)\n",
        "\n",
        "print()\n",
        "\n",
        "print('Número aleatório inteiro 2D')\n",
        "# gerando um array 2D de números pseudo-randômicos inteiros\n",
        "# primeiro argumento continua sendo o intervalo onde se gera os números aleatórios\n",
        "# deve-se passar um segundo argumento size = ..., onde ... informa o tamanho do array  (constitue uma tupla 2D)\n",
        "# (3,2) : 3 linhas e 2 colunas\n",
        "x = random.randint(100, size=(3,2))\n",
        "print(x)\n",
        "\n",
        "print()\n",
        "\n",
        "print('Número aleatório real 2D')\n",
        "# gerando um array 2D de números pseudo-randômicos inteiros\n",
        "# primeiro argumento continua sendo o intervalo onde se gera os números aleatórios\n",
        "# deve-se passar um segundo argumento size = ..., onde ... informa o tamanho do array  (constitue uma tupla 2D)\n",
        "# (3,2) : 3 linhas e 2 colunas\n",
        "x = random.rand(3,5)*100       # valor 100 delimita o intervalo\n",
        "print(x)\n"
      ],
      "metadata": {
        "colab": {
          "base_uri": "https://localhost:8080/"
        },
        "id": "jCv6nu7WJZ_R",
        "outputId": "55e3c922-b26a-45aa-a146-3c35175af8b5"
      },
      "execution_count": 136,
      "outputs": [
        {
          "output_type": "stream",
          "name": "stdout",
          "text": [
            "número inteiro aleatório:\n",
            "63\n",
            "5\n",
            "\n",
            "número real aleatório:\n",
            "0.0936047960229176\n",
            "90.70863387342875\n",
            "\n",
            "[21 36 58 84 37 49 13 91 43  0]\n",
            "\n",
            "Número aleatório inteiro 2D\n",
            "[[71 88]\n",
            " [19 40]\n",
            " [44 63]]\n",
            "\n",
            "Número aleatório real 2D\n",
            "[[52.51936256 97.76735822 74.62604965 69.50233057  0.39898952]\n",
            " [93.77005832 76.04492035 68.2867715  78.3127974  35.85322493]\n",
            " [77.68378165 89.4122198  89.66577513 33.00021026 26.29328504]]\n"
          ]
        }
      ]
    },
    {
      "cell_type": "markdown",
      "source": [
        "### função: **random.choice( )**"
      ],
      "metadata": {
        "id": "Nx99Ta9lPs6C"
      }
    },
    {
      "cell_type": "code",
      "source": [
        "# Podemos obter um valor aleatório de uma lista a partir da função/método random.choice()\n",
        "x = random.choice([1,2,3,4,5,6,7])\n",
        "print('Número aleatório da lista: ',x)\n",
        "\n",
        "print()\n",
        "\n",
        "# Passando um segundo argumento para essa função, podemos obter um array dos números sorteados dessa lista.\n",
        "# O segundo parâmetro corresponde a uma tupla. (Assim podemos gerar diferentes formas)\n",
        "x = random.choice([1,2,3,4,5,6,7], size = (2,2,5))\n",
        "print(x)\n",
        "\n",
        "print()\n",
        "\n",
        "print('NOVO')\n",
        "x = random.choice([1,2,3,4,5,6,7], size = (6,3,5))\n",
        "print(x)"
      ],
      "metadata": {
        "colab": {
          "base_uri": "https://localhost:8080/"
        },
        "id": "Xb0aSdDMPriY",
        "outputId": "b3a48c47-4927-4f00-9031-c41f53ee4464"
      },
      "execution_count": 144,
      "outputs": [
        {
          "output_type": "stream",
          "name": "stdout",
          "text": [
            "Número aleatório da lista:  3\n",
            "\n",
            "[[[6 3 4 2 3]\n",
            "  [4 1 7 5 5]]\n",
            "\n",
            " [[7 2 4 7 7]\n",
            "  [5 3 1 5 3]]]\n",
            "\n",
            "NOVO\n",
            "[[[1 4 3 5 6]\n",
            "  [4 7 5 7 6]\n",
            "  [2 4 1 3 3]]\n",
            "\n",
            " [[3 3 3 3 3]\n",
            "  [6 2 2 1 2]\n",
            "  [2 3 7 6 2]]\n",
            "\n",
            " [[3 7 1 4 3]\n",
            "  [6 4 3 5 7]\n",
            "  [1 6 1 6 4]]\n",
            "\n",
            " [[5 4 4 3 3]\n",
            "  [7 6 4 7 4]\n",
            "  [2 4 2 6 3]]\n",
            "\n",
            " [[1 3 3 7 7]\n",
            "  [1 6 2 7 1]\n",
            "  [5 3 3 7 4]]\n",
            "\n",
            " [[6 1 6 5 1]\n",
            "  [6 3 4 6 4]\n",
            "  [6 7 3 1 3]]]\n"
          ]
        }
      ]
    },
    {
      "cell_type": "markdown",
      "source": [
        "### Sementes de Números Pseudo-randômicos\n",
        "\n",
        "A semente aleatória é um número (ou vetor) usado para iniciar o algoritmo gerador de números pseudo-aleatórios.\n",
        "\n",
        "A escolha de uma boa semente aleatória é crucial quando se trata de segurança da informação e encriptação computacional.\n",
        "\n",
        "Computacionalmente as sementes aleatórias são muitas vezes geradas a partir de um valor que não se repetirá, como por exemplo, a marca temporal atual"
      ],
      "metadata": {
        "id": "KE28k-JqNdIC"
      }
    },
    {
      "cell_type": "code",
      "source": [
        "from numpy import random\n",
        "\n",
        "# iserindo uma determinada semente a mesma sequênncia de números aleatórios vai ser gerada.\n",
        "random.seed(0)\n",
        "print(random.randint(10,100, size=(10)))\n",
        "random.seed(1)\n",
        "print(random.randint(10,100, size=(10)))\n"
      ],
      "metadata": {
        "colab": {
          "base_uri": "https://localhost:8080/"
        },
        "id": "PWSmMhVANs5D",
        "outputId": "a4887f2e-f378-425c-d9a8-8d31bd114beb"
      },
      "execution_count": 11,
      "outputs": [
        {
          "output_type": "stream",
          "name": "stdout",
          "text": [
            "[54 57 74 77 77 19 93 31 46 97]\n",
            "[47 22 82 19 85 15 89 74 26 11]\n"
          ]
        }
      ]
    },
    {
      "cell_type": "markdown",
      "source": [
        "## Funções Universais (unfucs)"
      ],
      "metadata": {
        "id": "eRFyNKnyPEWC"
      }
    },
    {
      "cell_type": "code",
      "source": [
        "import numpy as np\n",
        "\n",
        "# Exemplo 01: somar elementos de duas listas (dois a dois)\n",
        "x = [1,2,3,4]\n",
        "y = [4,5,6,7]\n",
        "\n",
        "z = []\n",
        "\n",
        "# função zip pega um elemento de x e um elemento de y  (apenas correspondentes a interações)\n",
        "for i,j in zip(x,y):\n",
        "  z.append(i+j)\n",
        "\n",
        "print(z)\n",
        "\n",
        "print()\n",
        "\n",
        "# Exemplo 02: somar os elementos de duas listas par a par: via Numpy\n",
        "# Deve-se usar o método .add()\n",
        "# O primeiro argumento é uma lista, e o segundo também.\n",
        "\n",
        "x = [1,2,3,4]\n",
        "y = [4,5,6,7] \n",
        "z = np.add(x,y)            \n",
        "print(z, type(z))\n",
        "\n",
        "print()\n",
        "\n",
        "# Exemplo 03: forma mais simples\n",
        "# Diferente do operador de concatenação na forma que vimos em listas. \n",
        "x = np.array([1,2,3,4])\n",
        "y = np.array([4,5,6,7]) \n",
        "z = x+y            \n",
        "print(z, type(z))\n",
        "\n",
        "\n",
        "print()\n",
        "\n",
        "\n",
        "# Exemplo 04: definindo uma função universal.\n",
        "# function - nome da função.\n",
        "# inputs: o número de argumentos de entradas (arrays/listas).\n",
        "# outputs: o número de arrays de saída.\n",
        "# observe que a saída será um array da classe universal.\n",
        "\n",
        "def myadd(x,y):\n",
        "  return x+y  \n",
        "\n",
        "myadd2 = np.frompyfunc(myadd,2,1)\n",
        "print(myadd(x,y))\n",
        "print(myadd2)"
      ],
      "metadata": {
        "colab": {
          "base_uri": "https://localhost:8080/"
        },
        "id": "i_FC3Z1jPPnX",
        "outputId": "412a129b-bc6b-489d-e559-178eef101b31"
      },
      "execution_count": 21,
      "outputs": [
        {
          "output_type": "stream",
          "name": "stdout",
          "text": [
            "[5, 7, 9, 11]\n",
            "\n",
            "[ 5  7  9 11] <class 'numpy.ndarray'>\n",
            "\n",
            "[ 5  7  9 11] <class 'numpy.ndarray'>\n",
            "\n",
            "[ 5  7  9 11]\n",
            "<ufunc 'myadd (vectorized)'>\n"
          ]
        }
      ]
    }
  ]
}