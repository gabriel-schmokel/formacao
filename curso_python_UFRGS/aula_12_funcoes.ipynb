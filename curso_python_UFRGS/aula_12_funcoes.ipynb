{
  "cells": [
    {
      "cell_type": "markdown",
      "metadata": {
        "id": "hsSuYrUlE_FW"
      },
      "source": [
        "## Funções\n",
        "\n",
        "A ideia básica de uma função é encapsular um código que poderá ser invocado/chamado por qualquer outro trecho do programa. Seu significado e uso são muito parecidos com o de funções matemáticas, ou seja, existe um nome, uma definição e posterior invocação à função."
      ]
    },
    {
      "cell_type": "markdown",
      "metadata": {
        "id": "Xy-BPafYF7xn"
      },
      "source": [
        "## Criando uma Função\n",
        "\n",
        "A sintaxe da função é dada por:\n",
        "\n",
        "def **nome_da_funcao**(parametros): suite\n",
        "\n",
        "* def: é a abreviação da definição que está sendo definido\n",
        "* **nome_da_função**: é o nome da função\n",
        "* parametros: são os parâmetros que são passados a função, caso haja.\n",
        "* suite: escopo de linhas de código."
      ]
    },
    {
      "cell_type": "code",
      "execution_count": 23,
      "metadata": {
        "colab": {
          "base_uri": "https://localhost:8080/"
        },
        "id": "LDuW0YtBfpr_",
        "outputId": "09ab5d38-aea5-4fda-af40-d13b36acfc47"
      },
      "outputs": [
        {
          "output_type": "stream",
          "name": "stdout",
          "text": [
            "<class 'function'> <class 'function'> <class 'function'> <class 'function'>\n"
          ]
        }
      ],
      "source": [
        "# Exemplo 01: função que diz hello.\n",
        "def say_hello():\n",
        "  print('hello')\n",
        "\n",
        "# Exemplo 02: função que retorna o quadrado de x.\n",
        "def square(x):                      \n",
        "  return x**2                  # função que retorna o quadrado passado pelo parâmetro.\n",
        "\n",
        "# Exemplo 03: função que retorna a soma de a,b,c.\n",
        "def soma(a,b,c):\n",
        "  return (a+b+c)            # função retorna a soma das variáveis passadas pelos parâmetros.\n",
        "\n",
        "# Exemplo 04: função que retorna a raiz de uma função de segundo grau.\n",
        "def bhaskara(a,b,c):\n",
        "  import cmath              # importamos esse módulo para o cálculo de uma raiz quadrada\n",
        "  delta = cmath.sqrt(b**2 -4*a*c)\n",
        "  x_1 = (-b + delta)/(2*a)\n",
        "  x_2 = (-b - delta)/(2*a)\n",
        "\n",
        "  return(x_1, x_2)\n",
        "\n",
        "print(type(say_hello), type(square), type(soma), type(bhaskara))       # podemos observar que os objetos é da classe função. "
      ]
    },
    {
      "cell_type": "markdown",
      "metadata": {
        "id": "t5r_aohPMF8T"
      },
      "source": [
        "## Chamando funções\n",
        "\n",
        "A sintaxe da chama de uma função é: **nome_da_funcao**(argumentos)\n",
        "\n",
        "* **nome_da_funcao**: nome da função.\n",
        "* argumentos: valor passado a função.\n"
      ]
    },
    {
      "cell_type": "code",
      "execution_count": 11,
      "metadata": {
        "colab": {
          "base_uri": "https://localhost:8080/"
        },
        "id": "WaRTJnENFC5m",
        "outputId": "504cb5b7-bced-4e8b-8d97-782209b1bf15"
      },
      "outputs": [
        {
          "output_type": "stream",
          "name": "stdout",
          "text": [
            "hello\n"
          ]
        }
      ],
      "source": [
        "# Função com o retorno nulo (None). Obs: toda função retorna ao menos um objeto, mesmo que o código return não seja inserido no suite da função.\n",
        "# Função sem a necessidade de passar argumentos.\n",
        "say_hello()"
      ]
    },
    {
      "cell_type": "code",
      "source": [
        "# Função com um único retorno e um único parâmetro.\n",
        "# Função com a necessidade de passar um único argumento.\n",
        "x = square(2)\n",
        "print(x)"
      ],
      "metadata": {
        "colab": {
          "base_uri": "https://localhost:8080/"
        },
        "id": "7Zpk0yDdM-Nl",
        "outputId": "b513f4e9-7f6c-4eb4-b928-72f5f8f396e7"
      },
      "execution_count": 16,
      "outputs": [
        {
          "output_type": "stream",
          "name": "stdout",
          "text": [
            "4\n"
          ]
        }
      ]
    },
    {
      "cell_type": "code",
      "source": [
        "# Função com um único retorno e três parâmetros.\n",
        "# Função com a necessidade de passar três argumentos.\n",
        "\n",
        "x = soma(1,2,3)\n",
        "print(x)"
      ],
      "metadata": {
        "colab": {
          "base_uri": "https://localhost:8080/"
        },
        "id": "aWLBBeYZNN4r",
        "outputId": "6c6465ad-0540-4bd0-d7ef-7f6d0a1e324e"
      },
      "execution_count": 17,
      "outputs": [
        {
          "output_type": "stream",
          "name": "stdout",
          "text": [
            "6\n"
          ]
        }
      ]
    },
    {
      "cell_type": "code",
      "source": [
        "# Função com duas variáveis de retorno e três parâmetros.\n",
        "# Função com a necessidade de passar três argumentos.\n",
        "\n",
        "x1, x2 = bhaskara(2,3,-5)\n",
        "print(x1, x2)"
      ],
      "metadata": {
        "colab": {
          "base_uri": "https://localhost:8080/"
        },
        "id": "4nVAq9eyNYwk",
        "outputId": "820ed4e5-16c8-4708-c206-9d92b903adcc"
      },
      "execution_count": 24,
      "outputs": [
        {
          "output_type": "stream",
          "name": "stdout",
          "text": [
            "(1+0j) (-2.5+0j)\n"
          ]
        }
      ]
    },
    {
      "cell_type": "code",
      "source": [
        "# Chama das funções sem parenteses usando o comando print()\n",
        "# Retorna o endereço onde a classe função está localizada \n",
        "\n",
        "print(bhaskara)\n",
        "print(say_hello)\n",
        "\n",
        "# Também é possível obter o identificador dessa classe usando a função id()\n",
        "print(say_hello, id(say_hello))\n",
        "print(bhaskara, id(bhaskara))"
      ],
      "metadata": {
        "colab": {
          "base_uri": "https://localhost:8080/"
        },
        "id": "Pm9tg2xOQU40",
        "outputId": "12804d6f-d185-4a30-d104-a7d39f2182ec"
      },
      "execution_count": 26,
      "outputs": [
        {
          "output_type": "stream",
          "name": "stdout",
          "text": [
            "<function bhaskara at 0x7f234084f7a0>\n",
            "<function say_hello at 0x7f23408d8c20>\n",
            "<function say_hello at 0x7f23408d8c20> 139789383601184\n",
            "<function bhaskara at 0x7f234084f7a0> 139789383038880\n"
          ]
        }
      ]
    },
    {
      "cell_type": "markdown",
      "source": [
        "## Funções Intrínsecas\n",
        "\n",
        "São as funções já pre-definidas do python\n",
        "\n",
        "* print( )\n",
        "* math.sqrt( )"
      ],
      "metadata": {
        "id": "eoYVTptdRkfg"
      }
    },
    {
      "cell_type": "markdown",
      "source": [
        "## Argumentos com Palavras Chaves"
      ],
      "metadata": {
        "id": "dCNwtoeEUuI4"
      }
    },
    {
      "cell_type": "code",
      "source": [
        "# A ordem dos argumentos não afeta o resultado.\n",
        "\n",
        "def soma(a,b,c):\n",
        "  print('a = ', a,'b = ', b, 'c = ', c)\n",
        "  return (a+b+c)\n",
        "\n",
        "print(soma(c=10,b=20,a=30))   # Argumentos com palavras chaves. A ordem dos argumentos não afeta o resultado. \n",
        "print(soma(10,20,30))         # Essa é uma função com argumentos posicionais, portanto a ordem dos argumentos afeta no resultado.\n",
        "\n",
        "# Utilizando o operador '*' no parâmetro obrigamos o uso de argumentos com palavras chaves.\n",
        "def soma_obri_A(*,a,b,c):\n",
        "  return (a+b+c)\n",
        "\n",
        "print()\n",
        "\n",
        "def soma_obri_B(c,b,*,a):\n",
        "  return (a+b+c)\n",
        "\n",
        "\n",
        "# Explorando a exigência dos argumentos com palavras chave\n",
        "print('Explorando a exigência dos argumentos com palavras chave:')\n",
        "#print(soma_obri(5,4,3))                  # ERRO! Não é possível passar argumentos posicionais.\n",
        "print(soma_obri_A(c=10,b=20,a=30))        # Não gera erro, contanto que só exista argumentos com palavras chaves. \n",
        "print(soma_obri_B(1,2,a=30))              # Não gera erro, contanto que os argumentos posicionais fiquem antes do asterísco.\n"
      ],
      "metadata": {
        "colab": {
          "base_uri": "https://localhost:8080/"
        },
        "id": "Q2mjqsZeUthB",
        "outputId": "7620a705-ec3d-4855-a43f-98c648a80059"
      },
      "execution_count": 38,
      "outputs": [
        {
          "output_type": "stream",
          "name": "stdout",
          "text": [
            "a =  30 b =  20 c =  10\n",
            "60\n",
            "a =  10 b =  20 c =  30\n",
            "60\n",
            "\n",
            "Explorando a exigência dos argumentos com palavras chave:\n",
            "60\n",
            "33\n"
          ]
        }
      ]
    },
    {
      "cell_type": "markdown",
      "source": [
        "## Passando uma Lista como Argumento"
      ],
      "metadata": {
        "id": "XnkVqI8Kd70L"
      }
    },
    {
      "cell_type": "code",
      "source": [
        "def p(lista):\n",
        "  # Utilizando a interação para exibir os elementos da lista.\n",
        "  for i in lista:\n",
        "    print(i)\n",
        "\n",
        "lista = ['alfa','beta','gamma', 'delta']\n",
        "# Passando uma classe lista para uma função\n",
        "print(p(lista))\n",
        "\n",
        "print()\n",
        "\n",
        "# Utilizando o operador de desempacotamento podemos desempacotar elementos da lista e transformar esses como argumentos para então associar aos parâmetros da função.\n",
        "def p(a,b,c):\n",
        "  return (a +b**2 +c**3)\n",
        "\n",
        "lista = [1,2,3]\n",
        "print(p(*lista))"
      ],
      "metadata": {
        "colab": {
          "base_uri": "https://localhost:8080/"
        },
        "id": "L6EDSdqOeAUY",
        "outputId": "f42d2467-a3d5-4d81-e082-6e69052b8e19"
      },
      "execution_count": 42,
      "outputs": [
        {
          "output_type": "stream",
          "name": "stdout",
          "text": [
            "alfa\n",
            "beta\n",
            "gamma\n",
            "delta\n",
            "None\n",
            "\n",
            "32\n"
          ]
        }
      ]
    },
    {
      "cell_type": "markdown",
      "source": [
        "## Função com Número Arbitrário de Argumentos"
      ],
      "metadata": {
        "id": "ewJcNXVOfjs1"
      }
    },
    {
      "cell_type": "code",
      "source": [
        "# SEM PALAVRAS CHAVES\n",
        "# Muitas vezes estamos interessados em executar funções com um número indeterminado de argumentos\n",
        "# Iremos empacotar os elementos passados no argumento para a variável do parâmetro, transformando-a em uma lista.\n",
        "\n",
        "def soma(*x):\n",
        "\n",
        "  for elemento in x:\n",
        "    elemento += elemento\n",
        "  \n",
        "  return elemento\n",
        "\n",
        "print(soma(12,28))\n",
        "print(soma(12,38,22))\n",
        "print(soma(12,28,29,40))\n",
        "\n",
        "print()\n",
        "\n",
        "# COM PALAVRAS CHAVES\n",
        "# Muitas vezes estamos interessados em executar funções com um número indeterminado de argumentos com palavras chaves e valores\n",
        "# Deve ser feito o empaotamento estilo dicionário utilizando o operador **\n",
        "# Os argumentos possuem palavras chaves e estão associados a valores (similar a ideia dos dicionários).\n",
        "\n",
        "def showproperties(**kwargs):\n",
        "\n",
        "  for x in kwargs:\n",
        "    print('Chave = ',x,', Valor =', kwargs[x])\n",
        "\n",
        "showproperties( star = 'Canopus',\n",
        "               constellation = 'Carina',\n",
        "               RA = '6:23:57',\n",
        "               magV = -0.74)\n",
        "\n",
        "print()\n",
        "\n",
        "# passando como argumento para função showproperties uma variável correspondente a classe dicionário.\n",
        "d = dict(star = 'Canopus', \n",
        "     constellation = 'Carina',\n",
        "     RA = '6:23:57',\n",
        "     magV = -0.74)\n",
        "\n",
        "showproperties(**d)  ## O operador ** é necessário para abrir o dicionário (similar ao exemplo da lista acima) \n"
      ],
      "metadata": {
        "colab": {
          "base_uri": "https://localhost:8080/"
        },
        "id": "wkFU-7rufoyV",
        "outputId": "e66afd12-c4a3-44aa-e1a0-d27c846da196"
      },
      "execution_count": 52,
      "outputs": [
        {
          "output_type": "stream",
          "name": "stdout",
          "text": [
            "56\n",
            "44\n",
            "80\n",
            "\n",
            "Chave =  star , Valor = Canopus\n",
            "Chave =  constellation , Valor = Carina\n",
            "Chave =  RA , Valor = 6:23:57\n",
            "Chave =  magV , Valor = -0.74\n",
            "\n",
            "Chave =  star , Valor = Canopus\n",
            "Chave =  constellation , Valor = Carina\n",
            "Chave =  RA , Valor = 6:23:57\n",
            "Chave =  magV , Valor = -0.74\n"
          ]
        }
      ]
    },
    {
      "cell_type": "markdown",
      "source": [
        "## Variáveis Locais e Globais"
      ],
      "metadata": {
        "id": "cSJT5qTQou67"
      }
    },
    {
      "cell_type": "code",
      "source": [
        "# Exemplo 01\n",
        "\n",
        "x = 12          # Definida a variável global! É Definida antes da função.\n",
        "\n",
        "def func1():\n",
        "  x = -123      # Essa é uma variável local!\n",
        "  print(x)\n",
        "\n",
        "def func2():\n",
        "  print(x)      # Variável global!\n",
        "\n",
        "def func3():\n",
        "  print(x)      # Variável global!\n",
        "  x = -123\n",
        "\n",
        "func1()         # retorna a variável local\n",
        "func2()         # retorna o valor da variável global, pois a variável local não foi definida na função\n",
        "#func3()         # ERRO! Gera uma exceção, pois exibimos primeiro a variável global na função pra depois definir a variável local."
      ],
      "metadata": {
        "colab": {
          "base_uri": "https://localhost:8080/"
        },
        "id": "XZfu1OpjpjYy",
        "outputId": "e2d90b65-ad1e-4e7b-bc61-655341ac39e3"
      },
      "execution_count": 2,
      "outputs": [
        {
          "output_type": "stream",
          "name": "stdout",
          "text": [
            "-123\n",
            "12\n"
          ]
        }
      ]
    },
    {
      "cell_type": "markdown",
      "source": [
        "## DocString"
      ],
      "metadata": {
        "id": "iTi_4iaKQ5jy"
      }
    },
    {
      "cell_type": "code",
      "source": [
        "# É possível documentar uma função criada através de bloco de código como o definido abaixo.\n",
        "# Essa documentação não tem efeito nenhum no código do suite.\n",
        "# Função Help. Acessa a documentação criada em uma função.\n",
        "\n",
        "def sumpower(a,b,c,power=2):\n",
        "  ''' Retorna a soma das potências de três números.\n",
        "\n",
        "      input: a,b,c : números\n",
        "             power : potência \n",
        "\n",
        "  '''\n",
        "\n",
        "  return(a**power + b**power +c**power)\n",
        "\n",
        "\n",
        "print(sumpower(1,2,3))\n",
        "help(sumpower)"
      ],
      "metadata": {
        "colab": {
          "base_uri": "https://localhost:8080/"
        },
        "id": "hFbk-toIQ8BB",
        "outputId": "72957d1d-0467-4568-d060-c7c6918f40ac"
      },
      "execution_count": 5,
      "outputs": [
        {
          "output_type": "stream",
          "name": "stdout",
          "text": [
            "14\n",
            "Help on function sumpower in module __main__:\n",
            "\n",
            "sumpower(a, b, c, power=2)\n",
            "    Retorna a soma das potências de três números.\n",
            "    \n",
            "    input: a,b,c : números\n",
            "           power : potência\n",
            "\n"
          ]
        }
      ]
    },
    {
      "cell_type": "markdown",
      "source": [
        "## Função Lambda\n",
        "\n",
        "Permite escrever a função em uma única linha de código. Observe que isso não pode ser feito, quando escrevemos na forma usual.\n",
        "\n",
        "* Sintaxe: nome_da_funcao = **lambda** parametros: expressão "
      ],
      "metadata": {
        "id": "eI1gD2MfUQBU"
      }
    },
    {
      "cell_type": "code",
      "source": [
        "# Forma usual de definir a função\n",
        "def red2deg(theta):\n",
        "  return theta*180/3.1416\n",
        "\n",
        "def red2rad(theta):\n",
        "  return theta*3.1416/180 \n",
        "\n",
        "x = red2rad(27)\n",
        "print(x)\n",
        "\n",
        "y = red2deg(x)\n",
        "print(y)"
      ],
      "metadata": {
        "colab": {
          "base_uri": "https://localhost:8080/"
        },
        "id": "GEqI32gFUw_q",
        "outputId": "4270fde9-0dbf-45d4-f3ca-d3606fbb8f3b"
      },
      "execution_count": 7,
      "outputs": [
        {
          "output_type": "stream",
          "name": "stdout",
          "text": [
            "0.47124\n",
            "27.0\n"
          ]
        }
      ]
    },
    {
      "cell_type": "code",
      "source": [
        "# Forma usando a função lambda\n",
        "red2deg = lambda theta:theta*180/3.1416\n",
        "red2rad = lambda theta:theta*3.1416/180\n",
        "\n",
        "# Chamando funções lambda (mesma forma que a usual).\n",
        "x = red2rad(27)\n",
        "print(x)\n",
        "\n",
        "y = red2deg(x)\n",
        "print(y)"
      ],
      "metadata": {
        "colab": {
          "base_uri": "https://localhost:8080/"
        },
        "id": "oWdcOjtIVmNo",
        "outputId": "7a736845-0a29-403f-99a1-3a4583a99a5b"
      },
      "execution_count": 9,
      "outputs": [
        {
          "output_type": "stream",
          "name": "stdout",
          "text": [
            "0.47124\n",
            "27.0\n"
          ]
        }
      ]
    },
    {
      "cell_type": "code",
      "source": [
        "# Função lambda com vários parâmetros\n",
        "import math\n",
        "\n",
        "distance = lambda x,y:(math.sqrt(x**2 + y**2))\n",
        "\n",
        "print(distance(2,2))"
      ],
      "metadata": {
        "colab": {
          "base_uri": "https://localhost:8080/"
        },
        "id": "R7AWoosFWbQf",
        "outputId": "31e8c2d6-a1c4-46a8-8780-8c1617b89eec"
      },
      "execution_count": 10,
      "outputs": [
        {
          "output_type": "stream",
          "name": "stdout",
          "text": [
            "2.8284271247461903\n"
          ]
        }
      ]
    }
  ],
  "metadata": {
    "colab": {
      "name": "Aula_12_funcoes.ipynb",
      "provenance": [],
      "toc_visible": true
    },
    "kernelspec": {
      "display_name": "Python 3",
      "name": "python3"
    },
    "language_info": {
      "name": "python"
    }
  },
  "nbformat": 4,
  "nbformat_minor": 0
}