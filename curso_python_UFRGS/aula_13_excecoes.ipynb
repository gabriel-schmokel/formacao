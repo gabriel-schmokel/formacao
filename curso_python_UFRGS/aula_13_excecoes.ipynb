{
  "nbformat": 4,
  "nbformat_minor": 0,
  "metadata": {
    "colab": {
      "name": "Excecoes_13.ipynb",
      "provenance": [],
      "toc_visible": true
    },
    "kernelspec": {
      "name": "python3",
      "display_name": "Python 3"
    },
    "language_info": {
      "name": "python"
    }
  },
  "cells": [
    {
      "cell_type": "markdown",
      "source": [
        "# Exceções\n",
        "\n",
        "Exceções são condições que interrompem um fluxo normal de um código. "
      ],
      "metadata": {
        "id": "rLetodjiXdJ0"
      }
    },
    {
      "cell_type": "code",
      "execution_count": 1,
      "metadata": {
        "colab": {
          "base_uri": "https://localhost:8080/",
          "height": 202
        },
        "id": "dc16lVPRXL_9",
        "outputId": "ae42fe8d-4973-4ed8-ec21-440119e38089"
      },
      "outputs": [
        {
          "output_type": "error",
          "ename": "ZeroDivisionError",
          "evalue": "ignored",
          "traceback": [
            "\u001b[0;31m---------------------------------------------------------------------------\u001b[0m",
            "\u001b[0;31mZeroDivisionError\u001b[0m                         Traceback (most recent call last)",
            "\u001b[0;32m<ipython-input-1-8e7b9af2906c>\u001b[0m in \u001b[0;36m<module>\u001b[0;34m()\u001b[0m\n\u001b[1;32m      4\u001b[0m \u001b[0mx\u001b[0m \u001b[0;34m=\u001b[0m \u001b[0;36m0\u001b[0m\u001b[0;34m\u001b[0m\u001b[0;34m\u001b[0m\u001b[0m\n\u001b[1;32m      5\u001b[0m \u001b[0my\u001b[0m \u001b[0;34m=\u001b[0m \u001b[0;36m1\u001b[0m\u001b[0;34m\u001b[0m\u001b[0;34m\u001b[0m\u001b[0m\n\u001b[0;32m----> 6\u001b[0;31m \u001b[0mprint\u001b[0m\u001b[0;34m(\u001b[0m\u001b[0my\u001b[0m\u001b[0;34m/\u001b[0m\u001b[0mx\u001b[0m\u001b[0;34m)\u001b[0m\u001b[0;34m\u001b[0m\u001b[0;34m\u001b[0m\u001b[0m\n\u001b[0m",
            "\u001b[0;31mZeroDivisionError\u001b[0m: division by zero"
          ]
        }
      ],
      "source": [
        "# Exemplo 01:\n",
        "# Divisão por zero gera a exceção 'ZeroDivisionError'\n",
        "\n",
        "x = 0\n",
        "y = 1\n",
        "print(y/x)"
      ]
    },
    {
      "cell_type": "code",
      "source": [
        "# Exemplo 02\n",
        "# A função get_angle() obtém o ângulo beta de acord com o argumento passado.\n",
        "# Note que beta deve estar no domínio da função arco cosseno, caso contrário vai retornar uma exceção.\n",
        "# A exceção gerada é 'Value Error'\n",
        "\n",
        "import math\n",
        "\n",
        "def get_angle(x):\n",
        "  beta = 1 / (1-x**2)\n",
        "  theta = math.acos(beta)\n",
        "\n",
        "  return beta\n",
        "\n",
        "print(get_angle(0.5))"
      ],
      "metadata": {
        "colab": {
          "base_uri": "https://localhost:8080/",
          "height": 324
        },
        "id": "xmuOlz5ka_Ge",
        "outputId": "8d07ee12-809d-4833-deed-a99ee7c086c1"
      },
      "execution_count": 3,
      "outputs": [
        {
          "output_type": "error",
          "ename": "ValueError",
          "evalue": "ignored",
          "traceback": [
            "\u001b[0;31m---------------------------------------------------------------------------\u001b[0m",
            "\u001b[0;31mValueError\u001b[0m                                Traceback (most recent call last)",
            "\u001b[0;32m<ipython-input-3-15cbae677484>\u001b[0m in \u001b[0;36m<module>\u001b[0;34m()\u001b[0m\n\u001b[1;32m     12\u001b[0m   \u001b[0;32mreturn\u001b[0m \u001b[0mbeta\u001b[0m\u001b[0;34m\u001b[0m\u001b[0;34m\u001b[0m\u001b[0m\n\u001b[1;32m     13\u001b[0m \u001b[0;34m\u001b[0m\u001b[0m\n\u001b[0;32m---> 14\u001b[0;31m \u001b[0mprint\u001b[0m\u001b[0;34m(\u001b[0m\u001b[0mget_angle\u001b[0m\u001b[0;34m(\u001b[0m\u001b[0;36m0.5\u001b[0m\u001b[0;34m)\u001b[0m\u001b[0;34m)\u001b[0m\u001b[0;34m\u001b[0m\u001b[0;34m\u001b[0m\u001b[0m\n\u001b[0m",
            "\u001b[0;32m<ipython-input-3-15cbae677484>\u001b[0m in \u001b[0;36mget_angle\u001b[0;34m(x)\u001b[0m\n\u001b[1;32m      8\u001b[0m \u001b[0;32mdef\u001b[0m \u001b[0mget_angle\u001b[0m\u001b[0;34m(\u001b[0m\u001b[0mx\u001b[0m\u001b[0;34m)\u001b[0m\u001b[0;34m:\u001b[0m\u001b[0;34m\u001b[0m\u001b[0;34m\u001b[0m\u001b[0m\n\u001b[1;32m      9\u001b[0m   \u001b[0mbeta\u001b[0m \u001b[0;34m=\u001b[0m \u001b[0;36m1\u001b[0m \u001b[0;34m/\u001b[0m \u001b[0;34m(\u001b[0m\u001b[0;36m1\u001b[0m\u001b[0;34m-\u001b[0m\u001b[0mx\u001b[0m\u001b[0;34m**\u001b[0m\u001b[0;36m2\u001b[0m\u001b[0;34m)\u001b[0m\u001b[0;34m\u001b[0m\u001b[0;34m\u001b[0m\u001b[0m\n\u001b[0;32m---> 10\u001b[0;31m   \u001b[0mtheta\u001b[0m \u001b[0;34m=\u001b[0m \u001b[0mmath\u001b[0m\u001b[0;34m.\u001b[0m\u001b[0macos\u001b[0m\u001b[0;34m(\u001b[0m\u001b[0mbeta\u001b[0m\u001b[0;34m)\u001b[0m\u001b[0;34m\u001b[0m\u001b[0;34m\u001b[0m\u001b[0m\n\u001b[0m\u001b[1;32m     11\u001b[0m \u001b[0;34m\u001b[0m\u001b[0m\n\u001b[1;32m     12\u001b[0m   \u001b[0;32mreturn\u001b[0m \u001b[0mbeta\u001b[0m\u001b[0;34m\u001b[0m\u001b[0;34m\u001b[0m\u001b[0m\n",
            "\u001b[0;31mValueError\u001b[0m: math domain error"
          ]
        }
      ]
    },
    {
      "cell_type": "markdown",
      "source": [
        "## Try\n",
        "\n",
        "Pode-se tratar/manipular exceções através do comando **try**.\n",
        "\n",
        "A captura das exceções se dá pelo comando **except**."
      ],
      "metadata": {
        "id": "OPXrlADkceJM"
      }
    },
    {
      "cell_type": "code",
      "source": [
        "import math\n",
        "\n",
        "def get_angle(x):\n",
        "  beta = 1 / (1-x**2)\n",
        "  theta = math.acos(beta)\n",
        "\n",
        "  return beta\n",
        "\n",
        "x =  0.5#@param \n",
        "\n",
        "try:                              # Comando try vai tentar executar o código dado pela função angle, caso não exista exceção.\n",
        "  y = get_angle(x)\n",
        "except ZeroDivisionError:         # Nesta linha o comando except captura a exceção devido a divisão por zero (exemplo 01).\n",
        "  print('Você digitou = ', x,\n",
        "    '\\nO que gera uma divisão por zero',\n",
        "    '\\nTente novamente')\n",
        "\n",
        "except ValueError:                # Nesta linha o comando except captura a exceção devido ao domínio do acos() não conter o valor 0.5 (exemplo 01).\n",
        "   print('Você digitou = ', x,\n",
        "    '\\nO que Beta estar fora do dominío da função acos()',\n",
        "    '\\nTente novamente!')\n",
        "else:\n",
        "  print('Bye')"
      ],
      "metadata": {
        "colab": {
          "base_uri": "https://localhost:8080/"
        },
        "id": "r5EWXsScd9NO",
        "outputId": "fa12ee60-f9cd-4014-e399-961c157762e6"
      },
      "execution_count": 11,
      "outputs": [
        {
          "output_type": "stream",
          "name": "stdout",
          "text": [
            "Você digitou =  0.5 \n",
            "O que Beta estar fora do dominío da função acos() \n",
            "Tente novamente\n"
          ]
        }
      ]
    },
    {
      "cell_type": "markdown",
      "source": [
        "## Captura de um Grupo de exceções"
      ],
      "metadata": {
        "id": "qAKrTSd9kv_C"
      }
    },
    {
      "cell_type": "code",
      "source": [
        "# Pode-se obter a captura de um grupo de exceções passando uma tupla para o código 'exept'.\n",
        "# Observe que os elementos da tupla são justamente as possíveis exceções geradas.\n",
        "\n",
        "import math\n",
        "\n",
        "def get_angle(x):\n",
        "  beta = 1 / (1-x**2)\n",
        "  theta = math.acos(beta)\n",
        "\n",
        "  return beta\n",
        "\n",
        "x =  0.5#@param \n",
        "\n",
        "try:                              # Comando try vai tentar executar o código dado pela função angle, caso não exista exceção.\n",
        "  y = get_angle(x)\n",
        "except (ZeroDivisionError, ValueError):         # Nesta linha o comando except captura a exceção devido a divisão por zero (exemplo 01).\n",
        "  print('Ops! Você digitou um valor errado! |x|>1, aqui você digitou x =', x,\n",
        "    '\\nTente novamente!')\n",
        "else:\n",
        "  print('y = ', y)"
      ],
      "metadata": {
        "colab": {
          "base_uri": "https://localhost:8080/"
        },
        "id": "ti61jcNmkvsS",
        "outputId": "ae732fd9-f040-4d41-8cde-683d4ca78932"
      },
      "execution_count": 15,
      "outputs": [
        {
          "output_type": "stream",
          "name": "stdout",
          "text": [
            "Ops! Você digitou um valor errado! |x|>1, aqui você digitou x = 0.5 \n",
            "Tente novamente!\n"
          ]
        }
      ]
    },
    {
      "cell_type": "markdown",
      "source": [
        "## Cláusula **finally**"
      ],
      "metadata": {
        "id": "RwRjB-fvnoF6"
      }
    },
    {
      "cell_type": "code",
      "source": [
        "# Observe que a clausula finally sempre é executada, independente do que acontecer.\n",
        "\n",
        "import math\n",
        "\n",
        "def get_angle(x):\n",
        "  beta = 1 / (1-x**2)\n",
        "  theta = math.acos(beta)\n",
        "\n",
        "  return beta\n",
        "\n",
        "x =  2#@param \n",
        "\n",
        "try:                              # Comando try vai tentar executar o código dado pela função angle, caso não exista exceção.\n",
        "  y = get_angle(x)\n",
        "except (ZeroDivisionError, ValueError):         # Nesta linha o comando except captura a exceção devido a divisão por zero (exemplo 01).\n",
        "  print('Ops! Você digitou um valor errado! |x|>1, aqui você digitou x =', x,\n",
        "    '\\nTente novamente!')\n",
        "else:\n",
        "  print('y = ', y)\n",
        "finally:\n",
        "  print('Sempre é executado')                   # Sempre é executado"
      ],
      "metadata": {
        "colab": {
          "base_uri": "https://localhost:8080/"
        },
        "id": "A2scQk9mnHbu",
        "outputId": "d8569f79-2a8e-4897-ecce-fefa1957057d"
      },
      "execution_count": 17,
      "outputs": [
        {
          "output_type": "stream",
          "name": "stdout",
          "text": [
            "y =  -0.3333333333333333\n",
            "Sempre é executado\n"
          ]
        }
      ]
    },
    {
      "cell_type": "markdown",
      "source": [
        "## Cláusula **except ... as ...**"
      ],
      "metadata": {
        "id": "bRX0A7gSpHOr"
      }
    },
    {
      "cell_type": "code",
      "source": [
        "# Observe que a clausula finally sempre é executada, independente do que acontecer.\n",
        "\n",
        "import math\n",
        "\n",
        "def get_angle(x):\n",
        "  beta = 1 / (1-x**2)\n",
        "  theta = math.acos(beta)\n",
        "\n",
        "  return beta\n",
        "\n",
        "x =  0.5#@param \n",
        "\n",
        "try:                                       # Comando try vai tentar executar o código dado pela função angle, caso não exista exceção.\n",
        "  y = get_angle(x)\n",
        "\n",
        "# Na linha abaixo o comando except captura a exceção devido a divisão por zero (exemplo 01).\n",
        "# O comando 'as' faz com que a exceção seja armazenada na variável 'var_1'.\n",
        "except ZeroDivisionError as var_1:         \n",
        "  print('Você digitou = ', x,\n",
        "    '\\nO que gera uma divisão por zero',\n",
        "    '\\nA exceção gerada foi:', var_1)\n",
        "\n",
        "# Na linha abaixo o comando except captura a exceção devido a x não pertencer ao dominio de acos() (exemplo 02).\n",
        "# O comando 'as' faz com que a exceção seja armazenada na variável 'var_2'.\n",
        "except ValueError as var_2:         \n",
        "  print('Você digitou = ', x,\n",
        "    '\\nEsse valor está fora do domínio da função acos()',\n",
        "    '\\nA exceção gerada foi:', var_2)\n",
        "else:\n",
        "  print('y = ', y)\n",
        "finally:\n",
        "  print('Sempre é executado')                   # Sempre é executado"
      ],
      "metadata": {
        "colab": {
          "base_uri": "https://localhost:8080/"
        },
        "id": "KlQ2j7CrpXR0",
        "outputId": "70dc71ed-ee96-4ae5-a4dd-26350a170533"
      },
      "execution_count": 22,
      "outputs": [
        {
          "output_type": "stream",
          "name": "stdout",
          "text": [
            "Você digitou =  0.5 \n",
            "Esse valor está fora do domínio da função acos() \n",
            "A exceção gerada foi: math domain error\n",
            "Sempre é executado\n"
          ]
        }
      ]
    },
    {
      "cell_type": "markdown",
      "source": [
        "## Captura de Todas as Excções"
      ],
      "metadata": {
        "id": "k_wKiv1drj8a"
      }
    },
    {
      "cell_type": "code",
      "source": [
        "# Para a captura de qualquer uma das excções, deixa-se vazio o conteúdo após o comando except.\n",
        "# Não é possível passar a exceção para uma variável utilizando o comando 'as'.\n",
        "# Não sabemos o que gerou a esceção.\n",
        "\n",
        "import math\n",
        "\n",
        "def get_angle(x):\n",
        "  beta = 1 / (1-x**2)\n",
        "  theta = math.acos(beta)\n",
        "\n",
        "  return beta\n",
        "\n",
        "x =  0.5#@param \n",
        "\n",
        "try:                             \n",
        "  y = get_angle(x)\n",
        "except:                           \n",
        "  print('Uma exceção ocorreu!',\n",
        "    '\\nTente novamente.')\n",
        "else:\n",
        "  print('Bye')"
      ],
      "metadata": {
        "colab": {
          "base_uri": "https://localhost:8080/"
        },
        "id": "FdjddV21r7tw",
        "outputId": "b4f97134-1404-44e0-8ff3-286bc47e54c0"
      },
      "execution_count": 25,
      "outputs": [
        {
          "output_type": "stream",
          "name": "stdout",
          "text": [
            "Uma exceção ocorreu! \n",
            "Tente novamente.\n"
          ]
        }
      ]
    },
    {
      "cell_type": "markdown",
      "source": [
        "## Hierarquia de Exceções\n",
        "\n",
        "Deve-se abordar esse tópico futuramente."
      ],
      "metadata": {
        "id": "wMUEvbeet33i"
      }
    },
    {
      "cell_type": "markdown",
      "source": [
        "## Exceções Personalizadas\n",
        "\n",
        "Deve-se abordar esse tópico futuramente."
      ],
      "metadata": {
        "id": "e_WgC0W8xFa8"
      }
    }
  ]
}