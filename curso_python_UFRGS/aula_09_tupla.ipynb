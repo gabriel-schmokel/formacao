{
  "nbformat": 4,
  "nbformat_minor": 0,
  "metadata": {
    "colab": {
      "name": "aula_09_tupla",
      "provenance": [],
      "toc_visible": true
    },
    "kernelspec": {
      "name": "python3",
      "display_name": "Python 3"
    },
    "language_info": {
      "name": "python"
    }
  },
  "cells": [
    {
      "cell_type": "markdown",
      "source": [
        "# Tuplas\n",
        "\n",
        "**Tuplas** são coleções **ordenadas** de elementos, isto é, seus elementos são indexados (i=0, 1, 2, 3, ...), como ocorre em **strings** e **listas**. A diferença é que os delimitadores das tuplas são os parênteses e as tuplas são inalteráveis, ou seja, os elementos de uma tupla não podem ser alterados como nas listas."
      ],
      "metadata": {
        "id": "CdL5Ux8cSUaE"
      }
    },
    {
      "cell_type": "markdown",
      "source": [
        "### Criando uma tupla"
      ],
      "metadata": {
        "id": "k1Ep-7FpSYAr"
      }
    },
    {
      "cell_type": "code",
      "execution_count": null,
      "metadata": {
        "colab": {
          "base_uri": "https://localhost:8080/"
        },
        "id": "qvUEI8EFHjYx",
        "outputId": "eea03586-3520-469a-8c93-f0738a00180e"
      },
      "outputs": [
        {
          "output_type": "stream",
          "name": "stdout",
          "text": [
            "[0, 1, 2, 3, 4] [10] []\n"
          ]
        }
      ],
      "source": [
        "# Listas são sequências de elementos delimitadas por colchetes \n",
        "\n",
        "L = [0,1,2,3,4]\n",
        "L1 = [10]\n",
        "L0 = []\n",
        "\n",
        "print(L,L1,L0)"
      ]
    },
    {
      "cell_type": "code",
      "source": [
        "# Tuplas \n",
        "\n",
        "t = (0,1,2,3,4)             # isso é uma tupla\n",
        "print(t)\n",
        "\n",
        "t1a = ('abc')               # isso é uma string\n",
        "t1b = (10)                  # isso é um inteiro\n",
        "t1  = (10,)                 # isso é uma tupla. É necessário colocar ao menos uma vírgula para se criar uma tupla. Nesse exemplo é uma tupla de um único elemento.\n",
        "\n",
        "print(t, type(t))\n",
        "print(t1a, type(t1a))\n",
        "print(t1b, type(t1b))\n",
        "print(t1, type(t1))\n",
        "\n"
      ],
      "metadata": {
        "colab": {
          "base_uri": "https://localhost:8080/"
        },
        "id": "SxAt5ZTvSsKz",
        "outputId": "fed08f04-1d66-4329-a05c-a62a026a9afa"
      },
      "execution_count": null,
      "outputs": [
        {
          "output_type": "stream",
          "name": "stdout",
          "text": [
            "(0, 1, 2, 3, 4)\n",
            "(0, 1, 2, 3, 4) <class 'tuple'>\n",
            "abc <class 'str'>\n",
            "10 <class 'int'>\n",
            "(10,) <class 'tuple'>\n"
          ]
        }
      ]
    },
    {
      "cell_type": "code",
      "source": [
        "# Para criar a tupla vazia existem duas maneiras:\n",
        "\n",
        "t0a = ()              # tupla vazia de forma direta (não é necessário colocar parenteses)\n",
        "t0b = tuple()         # tupla vazia pela função tuple()\n",
        "\n",
        "print(t0a,type(t0a))\n",
        "print(t0b, type(t0b))         \n",
        "\n",
        "\n"
      ],
      "metadata": {
        "colab": {
          "base_uri": "https://localhost:8080/"
        },
        "id": "YCwHmzwWU0BS",
        "outputId": "540df81c-bc17-459a-9147-11c4dd7eeeaf"
      },
      "execution_count": null,
      "outputs": [
        {
          "output_type": "stream",
          "name": "stdout",
          "text": [
            "() <class 'tuple'>\n",
            "() <class 'tuple'>\n"
          ]
        }
      ]
    },
    {
      "cell_type": "markdown",
      "source": [
        "### Função Tuple \n"
      ],
      "metadata": {
        "id": "b1AmYEl9Vhs_"
      }
    },
    {
      "cell_type": "code",
      "source": [
        "x = int(10.3)                # função int() converte o argumento para a classe inteira \n",
        "print(x, type(x))\n",
        "print()\n",
        "\n",
        "x = str(123.456e-8)          # função str() converte o argumento para a classe string\n",
        "print(x, type(x))\n",
        "print()\n",
        "\n",
        "x = list('abcd')              # função list() converte o argumento para a classe lista\n",
        "print(x, type(x))\n",
        "print()\n",
        "\n",
        "x = tuple([0,1,2,3])          # a variável \"x\" corresponde a tupla (0,1,2,3), portanto foi feito a conversão de lista para tupla  \n",
        "print(x, type(x))\n",
        "print()\n",
        "\n",
        "x = tuple('xyzw')             # a variável \"x\" corresponde a tupla (x,y,z,w), portanto feita a conversão de lista referente a string para tupla \n",
        "print(x,type(x))\n",
        "print()\n",
        "\n",
        "#x = tuple(10)                 # como o objeto da função tupla não é de coleção, tal como uma lista, então a função não irá aceitar o objeto e irá gerar um erro! \n",
        "#print(x, type(x))\n",
        "#print() "
      ],
      "metadata": {
        "colab": {
          "base_uri": "https://localhost:8080/"
        },
        "id": "eybDH0dsVug1",
        "outputId": "25a0765e-108b-4e37-f24a-721c4ff3c6fa"
      },
      "execution_count": null,
      "outputs": [
        {
          "output_type": "stream",
          "name": "stdout",
          "text": [
            "10 <class 'int'>\n",
            "\n",
            "1.23456e-06 <class 'str'>\n",
            "\n",
            "['a', 'b', 'c', 'd'] <class 'list'>\n",
            "\n",
            "(0, 1, 2, 3) <class 'tuple'>\n",
            "\n",
            "('x', 'y', 'z', 'w') <class 'tuple'>\n",
            "\n"
          ]
        }
      ]
    },
    {
      "cell_type": "markdown",
      "source": [
        "### Acessando os elementos de um tupla"
      ],
      "metadata": {
        "id": "av0jtAKQXovu"
      }
    },
    {
      "cell_type": "code",
      "source": [
        "t = (0,1,2,3,4,5,6,7,8,9)               # O acesso dos elementos da tupla é similar ao acesso dos elementos de uma string ou uma lista.\n",
        "\n",
        "print(t[2])\n",
        "print(t[-1])                # acessa o último elemento da tupla\n",
        "print(t[-2])                # acessa o penúltimo elemento da tupla\n",
        "print(t[-3])                # acessa o antepenúltimo elemento da tupla"
      ],
      "metadata": {
        "colab": {
          "base_uri": "https://localhost:8080/"
        },
        "id": "fFGw1vmcXrqp",
        "outputId": "43669d5e-bccf-41ca-849f-e570d9313e03"
      },
      "execution_count": null,
      "outputs": [
        {
          "output_type": "stream",
          "name": "stdout",
          "text": [
            "2\n",
            "9\n",
            "8\n",
            "7\n"
          ]
        }
      ]
    },
    {
      "cell_type": "markdown",
      "source": [
        "### Fatiamento de tuplas"
      ],
      "metadata": {
        "id": "YWpg6zFTYUnR"
      }
    },
    {
      "cell_type": "code",
      "source": [
        "t = (0,1,2,3,4,5,6,7,8,9)        # O fatiamento de tuplas é similar ao de listas.\n",
        "#   (0,1,2,|3,4,5,6,|7,8,9)\n",
        "\n",
        "\n",
        "print(t[3:7])\n",
        "print(t[:7])              \n",
        "print(t[3:])                    # fatiamento da tupla partindo do terceiro elemento até o último.\n",
        "\n",
        "print(t[3:-3])                  # fatiamento da tupla partindo do elemento 3 até o antepenúltimo elemento. \n"
      ],
      "metadata": {
        "id": "I0tXznZVYXDS"
      },
      "execution_count": null,
      "outputs": []
    },
    {
      "cell_type": "markdown",
      "source": [
        "### Aninhamento de tuplas e/ou listas"
      ],
      "metadata": {
        "id": "w1dwfaOdZRCa"
      }
    },
    {
      "cell_type": "code",
      "source": [
        "vogais = tuple('aeiou')\n",
        "consoantes = tuple('bcdfghjklmnpqrstvxwz')\n",
        "letras = (vogais, consoantes)\n",
        "\n",
        "print(vogais, consoantes)     # Tupla engloba a tupla vogais junto com a tupla consoantes.\n",
        "print(letras)                 # Tupla engloba a tupla letras\n",
        "print()\n",
        "\n",
        "print(letras[0])              # imprime a primeira tupla da tupla letras\n",
        "print(letras[1])              # imprime a segunda tupla da tupla letras\n",
        "print()\n",
        "\n",
        "print(letras[0][2])           # imprime o terceiro elemento da primeira tupla que aparece na tupla letras.\n",
        "print(letras[1][10])          # imprime o elemento 11 da segunda tupla que aparece na tupla letras.\n",
        "\n"
      ],
      "metadata": {
        "colab": {
          "base_uri": "https://localhost:8080/"
        },
        "id": "ab_hKZh9ZVwn",
        "outputId": "1c299b2a-52c7-462e-eeb5-c46041c7eb47"
      },
      "execution_count": null,
      "outputs": [
        {
          "output_type": "stream",
          "name": "stdout",
          "text": [
            "('a', 'e', 'i', 'o', 'u') ('b', 'c', 'd', 'f', 'g', 'h', 'j', 'k', 'l', 'm', 'n', 'p', 'q', 'r', 's', 't', 'v', 'x', 'w', 'z')\n",
            "(('a', 'e', 'i', 'o', 'u'), ('b', 'c', 'd', 'f', 'g', 'h', 'j', 'k', 'l', 'm', 'n', 'p', 'q', 'r', 's', 't', 'v', 'x', 'w', 'z'))\n",
            "\n",
            "('a', 'e', 'i', 'o', 'u')\n",
            "('b', 'c', 'd', 'f', 'g', 'h', 'j', 'k', 'l', 'm', 'n', 'p', 'q', 'r', 's', 't', 'v', 'x', 'w', 'z')\n",
            "\n",
            "i\n",
            "n\n"
          ]
        }
      ]
    },
    {
      "cell_type": "markdown",
      "source": [
        "### Extração alternada de elementos de uma tupla"
      ],
      "metadata": {
        "id": "TKMWCChfcNyx"
      }
    },
    {
      "cell_type": "code",
      "source": [
        "t = (0,1,2,3,4,5,6,7,8,9)     \n",
        "\n",
        "print(t[0: :2])\n",
        "print(t[1: :2])"
      ],
      "metadata": {
        "colab": {
          "base_uri": "https://localhost:8080/"
        },
        "id": "xkVFYnO8cRuS",
        "outputId": "b763e9ec-ce96-4b37-fb82-3d396119d430"
      },
      "execution_count": null,
      "outputs": [
        {
          "output_type": "stream",
          "name": "stdout",
          "text": [
            "(0, 2, 4, 6, 8)\n",
            "(1, 3, 5, 7, 9)\n"
          ]
        }
      ]
    },
    {
      "cell_type": "code",
      "source": [
        "t = (1,2,(3,(4,5,(6,7,8)),9),10)\n",
        "#    0    1  2    3   (niveis)\n",
        "\n",
        "print(t[2])\n",
        "print()\n",
        "\n",
        "print(t[2][1][2])\n",
        "print()\n",
        "\n",
        "print(t[2][1][2][1])\n",
        "print()"
      ],
      "metadata": {
        "colab": {
          "base_uri": "https://localhost:8080/"
        },
        "id": "cnCe50ZqbGP4",
        "outputId": "a88afab1-f026-49c2-d252-273b29b334ad"
      },
      "execution_count": null,
      "outputs": [
        {
          "output_type": "stream",
          "name": "stdout",
          "text": [
            "(3, (4, 5, (6, 7, 8)), 9)\n",
            "\n",
            "(6, 7, 8)\n",
            "\n",
            "7\n",
            "\n"
          ]
        }
      ]
    },
    {
      "cell_type": "markdown",
      "source": [
        "### Operação de concatenação de tuplas\n",
        "\n",
        "Junta os elementos de uma tupla com os elementos de outra tupla formando uma única tupla."
      ],
      "metadata": {
        "id": "U2AjMvMCcuIT"
      }
    },
    {
      "cell_type": "code",
      "source": [
        "# Exemplo 1\n",
        "\n",
        "tupla1 = (1, 2, 3)\n",
        "tupla2 = (4, 5, 6)\n",
        "\n",
        "tupla3 = tupla1 + tupla2      # operação de concatenação\n",
        "\n",
        "\n",
        "print(tupla1,tupla2)\n",
        "print(tupla3)\n",
        "print()"
      ],
      "metadata": {
        "colab": {
          "base_uri": "https://localhost:8080/"
        },
        "id": "umij_qRcc7gX",
        "outputId": "2735b77b-6b3a-49fd-bc68-28e1c535bb34"
      },
      "execution_count": null,
      "outputs": [
        {
          "output_type": "stream",
          "name": "stdout",
          "text": [
            "(1, 2, 3) (4, 5, 6)\n",
            "(1, 2, 3, 4, 5, 6)\n",
            "\n"
          ]
        }
      ]
    },
    {
      "cell_type": "code",
      "source": [
        "# Exemplo 2\n",
        "\n",
        "cores = ('preto','marrom','vermelho','laranja','verde','azul','violeta')\n",
        "print(cores)\n",
        "\n",
        "cores2 = cores[-2:] + ('branco',) + cores[0:2]          # obs: para um único elemento em uma tupla deve-se inserir a vírgula\n",
        "print(cores2)"
      ],
      "metadata": {
        "colab": {
          "base_uri": "https://localhost:8080/"
        },
        "id": "Bv0ry-zGdYF8",
        "outputId": "9b569309-a1ac-4121-d09d-088d8a2820d5"
      },
      "execution_count": null,
      "outputs": [
        {
          "output_type": "stream",
          "name": "stdout",
          "text": [
            "('preto', 'marrom', 'vermelho', 'laranja', 'verde', 'azul', 'violeta')\n",
            "('azul', 'violeta', 'branco', 'preto', 'marrom')\n"
          ]
        }
      ]
    },
    {
      "cell_type": "markdown",
      "source": [
        "### Replicações de Tuplas\n",
        "\n",
        "O operador * repeti uma tupla um determinado número de vezes conforme definimos."
      ],
      "metadata": {
        "id": "cCeZ6WsqelYc"
      }
    },
    {
      "cell_type": "code",
      "source": [
        "t = (0,1)\n",
        "t2 = 10*t      # repeti 10 vezes a tupla t e armazena na variável t2\n",
        "\n",
        "print(t)\n",
        "print(t2)\n"
      ],
      "metadata": {
        "colab": {
          "base_uri": "https://localhost:8080/"
        },
        "id": "l63NvpgAekNF",
        "outputId": "a1353a2b-3434-4832-9ace-6117b82c6287"
      },
      "execution_count": null,
      "outputs": [
        {
          "output_type": "stream",
          "name": "stdout",
          "text": [
            "(0, 1)\n",
            "(0, 1, 0, 1, 0, 1, 0, 1, 0, 1, 0, 1, 0, 1, 0, 1, 0, 1, 0, 1)\n"
          ]
        }
      ]
    },
    {
      "cell_type": "markdown",
      "source": [
        "### Operação de Associação\n",
        "\n",
        "A operação de associação com tuplas retorna \"True\" ou \"False\"\n",
        "\n",
        "* *in*\n",
        "* *not in*"
      ],
      "metadata": {
        "id": "1D58fPfCfmTO"
      }
    },
    {
      "cell_type": "code",
      "source": [
        "t = (1,2,3)\n",
        "j = [1,2,3]\n",
        "\n",
        "print(2 in j)       # como 2 pertence a lista j retorna True\n",
        "print(3 in t)       # como 3 pertence a tupla t retorna True\n",
        "print(5 in t)       # como 5 não pertence a tupla t retorna False\n",
        "print()\n",
        "\n",
        "print(5 not in t)    # retorna true pois a tupla não contém o elemento 5 \n",
        "print(2 not in t)    # retorna false pois a tupla contém o elemento 2"
      ],
      "metadata": {
        "colab": {
          "base_uri": "https://localhost:8080/"
        },
        "id": "DFxd54taf-aP",
        "outputId": "3039a67b-56bb-47d7-d8de-72c3f081cbae"
      },
      "execution_count": 2,
      "outputs": [
        {
          "output_type": "stream",
          "name": "stdout",
          "text": [
            "True\n",
            "True\n",
            "False\n",
            "\n",
            "True\n",
            "False\n"
          ]
        }
      ]
    },
    {
      "cell_type": "markdown",
      "source": [
        "### Comparação de Tuplas"
      ],
      "metadata": {
        "id": "af9fLicCgsck"
      }
    },
    {
      "cell_type": "code",
      "source": [
        "# Comparação de Strings\n",
        "\n",
        "\n",
        "stra = 'Carta'\n",
        "strb = 'Barco'\n",
        "strc = 'Carla'\n",
        "\n",
        "print(stra == strb)         # retorna false pois as string são diferentes\n",
        "print(stra != strb)         # retorna true pois as strings são diferentes\n",
        "print()\n",
        "\n",
        "print(stra < strb)          # como o primeiro índice da string stra é maior do que o da string strb (olhar a tabela unicode para ver isso!), então irá retornar False\n",
        "print(stra > strb)          # True, pois o primeiro caracter de stra sucede o primeiro caracter de strb na tabela unicode"
      ],
      "metadata": {
        "colab": {
          "base_uri": "https://localhost:8080/"
        },
        "id": "Q0lLyZnDgrQk",
        "outputId": "5ed4eb5c-78ba-420b-c07d-93c1772ccbaa"
      },
      "execution_count": null,
      "outputs": [
        {
          "output_type": "stream",
          "name": "stdout",
          "text": [
            "False\n",
            "True\n",
            "\n",
            "False\n",
            "True\n"
          ]
        }
      ]
    },
    {
      "cell_type": "code",
      "source": [
        "# Comparaçã entre Tuplas\n",
        "\n",
        "t = (1,2,3)\n",
        "u = (4,5,6)\n",
        "\n",
        "# igualdade/ diferença\n",
        "print( t == u)             # retorna False, pois as tuplas não são iguais\n",
        "print( t != u)             # retorna True, pois as tuplas são diferentes\n",
        "print()\n",
        "\n",
        "# <, <=\n",
        "print(t < u)                # primeiro elemento da tupla t é menor que o primeiro elemento da tupla u, portanto retorna True\n",
        "print(t <= u)               # primeiro elemento da tupla t é menor ou igual ao primeiro elemento da tupla u, portanto retorna True\n",
        "print(u < t)                # primeiro elemento da tupla u não é maior que o primeiro elemento da tupla t, portanto retorna False\n",
        "\n",
        "# >, #\n",
        "print(t > u)                # primeiro elemento da tupla t é menor que o primeiro elemento da tupla u, portanto retorna False\n",
        "print(t >= u)     "
      ],
      "metadata": {
        "colab": {
          "base_uri": "https://localhost:8080/"
        },
        "id": "dM5or840iCW1",
        "outputId": "6f13f875-5441-452e-8634-c4dfe57b5f6d"
      },
      "execution_count": null,
      "outputs": [
        {
          "output_type": "stream",
          "name": "stdout",
          "text": [
            "False\n",
            "True\n",
            "\n",
            "True\n",
            "True\n",
            "False\n",
            "False\n",
            "False\n"
          ]
        }
      ]
    },
    {
      "cell_type": "markdown",
      "source": [
        "### Métodos de Tuplas\n",
        "\n",
        "A classe tuple possue únicamente apenas dois métodos."
      ],
      "metadata": {
        "id": "1vMYdl5kjm4j"
      }
    },
    {
      "cell_type": "code",
      "source": [
        "# t.count(x)\n",
        "# retorna o número de ocorrências do elemento x em t\n",
        "\n",
        "t = 3*tuple('abcdefg')\n",
        "print(t)\n",
        "print(t.count('a'))        # retorna o número de vezes que o carácter 'a' aparece na tupla t\n",
        "print()\n",
        "\n",
        "print(t.count('z'))        # retorna zero, pois o número de vezes que o caracter 'z' aparece é zero"
      ],
      "metadata": {
        "colab": {
          "base_uri": "https://localhost:8080/"
        },
        "id": "cwR3VirljvH-",
        "outputId": "feb6f770-90d5-4e91-d046-03059e023e93"
      },
      "execution_count": null,
      "outputs": [
        {
          "output_type": "stream",
          "name": "stdout",
          "text": [
            "('a', 'b', 'c', 'd', 'e', 'f', 'g', 'a', 'b', 'c', 'd', 'e', 'f', 'g', 'a', 'b', 'c', 'd', 'e', 'f', 'g')\n",
            "3\n",
            "\n",
            "0\n"
          ]
        }
      ]
    },
    {
      "cell_type": "code",
      "source": [
        "# t.index(x)\n",
        "# t.index(x,start,end)              # start corresponde ao índie do início da busca e end o índice final da busca na tupla.  \n",
        "# retorna o índice da primeira ocorrência do elemento x na tupla t\n",
        "\n",
        "t = 3*tuple('abcdefg')\n",
        "print(t.index('b'))\n",
        "print(t.index('b',4))               # 4 representa o elemento inicial de busca na tupla t.\n",
        "print(t.index('z'))                 # gera uma exceção, pois z não existe em t   "
      ],
      "metadata": {
        "colab": {
          "base_uri": "https://localhost:8080/"
        },
        "id": "E5BqnUG-k2yL",
        "outputId": "efc5ce1b-9191-426c-fd37-0aa806ce31a7"
      },
      "execution_count": null,
      "outputs": [
        {
          "output_type": "stream",
          "name": "stdout",
          "text": [
            "1\n",
            "8\n"
          ]
        }
      ]
    },
    {
      "cell_type": "markdown",
      "source": [
        "### Tuplas são Imutáveis\n"
      ],
      "metadata": {
        "id": "oYdRdH_ymIOC"
      }
    },
    {
      "cell_type": "code",
      "source": [
        "# Função id(x)\n",
        "a = 10\n",
        "print(a,id(a))       # endereço que identifica a variável \"a\" quando passamos a = 10 \n",
        "a = 1000\n",
        "print(a,id(a))       # endereço que identifica a variável \"a\" quando passamos um novo valor para a como sendo 1000. Novo endereço!"
      ],
      "metadata": {
        "colab": {
          "base_uri": "https://localhost:8080/"
        },
        "id": "7uXMk5UYn0nK",
        "outputId": "fd09b4a9-6abc-4c29-a10c-2e0e3addace7"
      },
      "execution_count": null,
      "outputs": [
        {
          "output_type": "stream",
          "name": "stdout",
          "text": [
            "10 94093818587936\n",
            "1000 140291231667312\n"
          ]
        }
      ]
    },
    {
      "cell_type": "code",
      "source": [
        "# Exemplo 1\n",
        "\n",
        "L = [0,1,2,3,4]\n",
        "print(L,id(L))                                  # endereço da lista L\n",
        "print(id(L[0]),id(L[1]),id(L[2]),id(L[3]))      # endereços da memória dos elementos da lista L \n",
        "\n",
        "\n",
        "L[2] = 20                                       # muda-se o elemento 2 da lista para o valor 20 \n",
        "print(L,id(L))                                  # endereço da lista L permanece o mesmo\n",
        "print(id(L[0]),id(L[1]),id(L[2]),id(L[3]))      # com a nova operação L[2] = 20 alteramos somente o endereço desse elemento da lista  \n",
        "print(L)                 "
      ],
      "metadata": {
        "colab": {
          "base_uri": "https://localhost:8080/"
        },
        "id": "h_etY6QkmQFG",
        "outputId": "1e2daf55-59bd-4b82-9ca7-2a91953a158f"
      },
      "execution_count": null,
      "outputs": [
        {
          "output_type": "stream",
          "name": "stdout",
          "text": [
            "[0, 1, 2, 3, 4] 140291231504496\n",
            "94093818587616 94093818587648 94093818587680 94093818587712\n",
            "[0, 1, 20, 3, 4] 140291231504496\n",
            "94093818587616 94093818587648 94093818588256 94093818587712\n",
            "[0, 1, 20, 3, 4]\n"
          ]
        }
      ]
    },
    {
      "cell_type": "code",
      "source": [
        "# Exemplo 2\n",
        "L = (0,1,2,3,4)\n",
        "print(L)\n",
        "\n",
        "L[2] = 20               # não é permitido mudar o elemento 2 da tupla para o valor 20! Gera uma exceção  \n",
        "print(L)  "
      ],
      "metadata": {
        "colab": {
          "base_uri": "https://localhost:8080/",
          "height": 237
        },
        "id": "cxTmx39Om7og",
        "outputId": "064aed62-1b3e-4e79-ee8a-b04349d8e2cd"
      },
      "execution_count": null,
      "outputs": [
        {
          "output_type": "stream",
          "name": "stdout",
          "text": [
            "(0, 1, 2, 3, 4)\n"
          ]
        },
        {
          "output_type": "error",
          "ename": "TypeError",
          "evalue": "ignored",
          "traceback": [
            "\u001b[0;31m---------------------------------------------------------------------------\u001b[0m",
            "\u001b[0;31mTypeError\u001b[0m                                 Traceback (most recent call last)",
            "\u001b[0;32m<ipython-input-19-e508a1697805>\u001b[0m in \u001b[0;36m<module>\u001b[0;34m()\u001b[0m\n\u001b[1;32m      3\u001b[0m \u001b[0mprint\u001b[0m\u001b[0;34m(\u001b[0m\u001b[0mL\u001b[0m\u001b[0;34m)\u001b[0m\u001b[0;34m\u001b[0m\u001b[0;34m\u001b[0m\u001b[0m\n\u001b[1;32m      4\u001b[0m \u001b[0;34m\u001b[0m\u001b[0m\n\u001b[0;32m----> 5\u001b[0;31m \u001b[0mL\u001b[0m\u001b[0;34m[\u001b[0m\u001b[0;36m2\u001b[0m\u001b[0;34m]\u001b[0m \u001b[0;34m=\u001b[0m \u001b[0;36m20\u001b[0m               \u001b[0;31m# não é permitido mudar o elemento 2 da tupla para o valor 20! Gera uma exceção\u001b[0m\u001b[0;34m\u001b[0m\u001b[0;34m\u001b[0m\u001b[0m\n\u001b[0m\u001b[1;32m      6\u001b[0m \u001b[0mprint\u001b[0m\u001b[0;34m(\u001b[0m\u001b[0mL\u001b[0m\u001b[0;34m)\u001b[0m\u001b[0;34m\u001b[0m\u001b[0;34m\u001b[0m\u001b[0m\n",
            "\u001b[0;31mTypeError\u001b[0m: 'tuple' object does not support item assignment"
          ]
        }
      ]
    },
    {
      "cell_type": "code",
      "source": [
        "# Exemplo 3:\n",
        "\n",
        "x = 2\n",
        "lista = [0,1,x,3,4]                                   # passa para o elemento 2 da lista o valor armazenado na variável x.\n",
        "print(x, id(x))\n",
        "print(lista, id(lista), id(lista[2]))                 # mostra o endereço da lista, assim como do elemento 2 da lista\n",
        "\n",
        "print()\n",
        "\n",
        "x = 20                                                 # altera o endereço da variável x quando atribuímos outro valor para x \n",
        "print(x, id(x))                                        # novo endereço da variável x\n",
        "print(lista, id(lista), id(lista[2]))                  # observe que o endereço do elemento 2 da lista não foi alterado quando alteramos a variável x -> por essa razão não houve modificação do elmeneto 2 lista\n",
        "print()"
      ],
      "metadata": {
        "colab": {
          "base_uri": "https://localhost:8080/"
        },
        "id": "IOaYey7Rm-jQ",
        "outputId": "e44b5ec8-e1ec-4929-b47c-385cac82fa1e"
      },
      "execution_count": null,
      "outputs": [
        {
          "output_type": "stream",
          "name": "stdout",
          "text": [
            "2 94093818587680\n",
            "[0, 1, 2, 3, 4] 140291231305808 94093818587680\n",
            "\n",
            "20 94093818588256\n",
            "[0, 1, 2, 3, 4] 140291231305808 94093818587680\n",
            "\n"
          ]
        }
      ]
    },
    {
      "cell_type": "code",
      "source": [
        "# Exemplo 4\n",
        "\n",
        "lista = [3,4,5]\n",
        "t = (0,2,3,lista,6,7,8)\n",
        "print(lista, id(lista))\n",
        "print(t, id(t[3]), id(t[3][1]) )\n",
        "print()\n",
        "\n",
        "\n",
        "t[3][1] = 4000\n",
        "print(lista, id(lista))\n",
        "print(t, id(t[3]), id(t[3][1]) )  # Pode-se ver que o endereço do elemento 1 da lista pertencente a tupla foi mudado quando colocamos t[3][1] = 4000. O resto permanece igual.\n",
        "print()"
      ],
      "metadata": {
        "colab": {
          "base_uri": "https://localhost:8080/"
        },
        "id": "cCrQsMxtnXDI",
        "outputId": "a0d09d98-44a1-4d27-da49-52aa096fef2a"
      },
      "execution_count": null,
      "outputs": [
        {
          "output_type": "stream",
          "name": "stdout",
          "text": [
            "[3, 4, 5] 140291231501120\n",
            "(0, 2, 3, [3, 4, 5], 6, 7, 8) 140291231501120 94093818587744\n",
            "\n",
            "[3, 4000, 5] 140291231501120\n",
            "(0, 2, 3, [3, 4000, 5], 6, 7, 8) 140291231501120 140291232533232\n",
            "\n"
          ]
        }
      ]
    },
    {
      "cell_type": "markdown",
      "source": [
        "## Omissão de parêntesis e desempacotamento de tuplas"
      ],
      "metadata": {
        "id": "NI8s341iuGk_"
      }
    },
    {
      "cell_type": "code",
      "source": [
        "# omissão de parêntesis é aceitável em certas situações \n",
        "\n",
        "a = 1,2               # identifica como uma tupla, mas com omissão de parêntesis\n",
        "print(a, type(a))     # entende como uma tupla\n",
        "print()\n",
        "\n",
        "b = 1,                # identifica como uma tupla\n",
        "print(b, type(b))\n",
        "print()\n",
        "\n",
        "c = 1,2,3,4\n",
        "print(c, type(c))"
      ],
      "metadata": {
        "colab": {
          "base_uri": "https://localhost:8080/"
        },
        "id": "Cr_WBENMuOL7",
        "outputId": "52ba2014-d084-4f6b-fff5-027983ac4530"
      },
      "execution_count": null,
      "outputs": [
        {
          "output_type": "stream",
          "name": "stdout",
          "text": [
            "(1, 2) <class 'tuple'>\n",
            "\n",
            "(1,) <class 'tuple'>\n",
            "\n",
            "(1, 2, 3, 4) <class 'tuple'>\n"
          ]
        }
      ]
    },
    {
      "cell_type": "code",
      "source": [
        "# omissão de parêntesis em funções \n",
        "\n",
        "def f(x):\n",
        "  #return (x,x**2,x**3,x**4)\n",
        "  return x, x**2, x**3, x**4\n",
        "\n",
        "x = 3\n",
        "y = f(x)\n",
        "print(y,type(y))            "
      ],
      "metadata": {
        "colab": {
          "base_uri": "https://localhost:8080/"
        },
        "id": "7B_C3TvHvIA2",
        "outputId": "afca4942-b3bf-45d0-fa3e-5fcbc4f8fe7d"
      },
      "execution_count": null,
      "outputs": [
        {
          "output_type": "stream",
          "name": "stdout",
          "text": [
            "(3, 9, 27, 81) <class 'tuple'>\n"
          ]
        }
      ]
    },
    {
      "cell_type": "code",
      "source": [
        "# Operações de desempacotamentos de tuplas\n",
        "\n",
        "a = 1,2\n",
        "(b,c) = (1,2)  # quando do lado direito temos uma tupla e do lado esquerdo tempo uma tupla com indificadores com variáveis, o python vai atribuir o primeiro identificar referenciando o primeiro elemento e o segundo identificador referenciado o segundo elemento\n",
        "print(b,c)\n",
        "print()\n",
        "\n",
        "(x,y) = 1,2\n",
        "print(x,y)\n",
        "print()\n",
        "\n",
        "z,w = 1,2       # Obs: é necessário ter o mesmo número de elementos!\n",
        "print(z,w)\n"
      ],
      "metadata": {
        "colab": {
          "base_uri": "https://localhost:8080/"
        },
        "id": "u1qOGbGWwc-F",
        "outputId": "589bd6fa-0325-4487-a655-62d755d6c394"
      },
      "execution_count": null,
      "outputs": [
        {
          "output_type": "stream",
          "name": "stdout",
          "text": [
            "1 2\n",
            "\n",
            "1 2\n",
            "\n",
            "1 2\n"
          ]
        }
      ]
    },
    {
      "cell_type": "code",
      "source": [
        "# Desempacotamento\n",
        "\n",
        "coord = ((1,2),(1,7),(-2,5),(-3,8),(-1,9))\n",
        "\n",
        "for elemento in coord:\n",
        "  print(elemento)\n",
        "\n",
        "print()\n",
        "\n",
        "\n",
        "for x,y in coord:\n",
        "  print('x = ',x,', y = ',y)"
      ],
      "metadata": {
        "colab": {
          "base_uri": "https://localhost:8080/"
        },
        "id": "csh13FXHxVYk",
        "outputId": "6621e525-1ea6-40d0-a9e0-cb0fedc475a2"
      },
      "execution_count": null,
      "outputs": [
        {
          "output_type": "stream",
          "name": "stdout",
          "text": [
            "(1, 2)\n",
            "(1, 7)\n",
            "(-2, 5)\n",
            "(-3, 8)\n",
            "(-1, 9)\n",
            "\n",
            "x =  1 , y =  2\n",
            "x =  1 , y =  7\n",
            "x =  -2 , y =  5\n",
            "x =  -3 , y =  8\n",
            "x =  -1 , y =  9\n"
          ]
        }
      ]
    },
    {
      "cell_type": "code",
      "source": [
        "# del\n",
        "# deletando todos os elementos de uma tupla, essa tupla deixa de existir \n",
        "\n",
        "(a,b) = 1,2\n",
        "del (a,b)\n",
        "\n",
        "(c,d) = 1,2\n",
        "del c,d"
      ],
      "metadata": {
        "id": "xgp1l_cIyGg9"
      },
      "execution_count": 3,
      "outputs": []
    },
    {
      "cell_type": "markdown",
      "source": [
        "### Número de elementos de uma tupla"
      ],
      "metadata": {
        "id": "eYYN-FPiyfmL"
      }
    },
    {
      "cell_type": "code",
      "source": [
        "t = (0,1,2,3,4)\n",
        "print(len(t))\n",
        "\n",
        "print(len(tuple()))           # obtém o número de elementos de uma tupla"
      ],
      "metadata": {
        "colab": {
          "base_uri": "https://localhost:8080/"
        },
        "id": "aq0rDHQ4yjIb",
        "outputId": "b3c28988-da5b-4826-d15c-ce5f02a40db0"
      },
      "execution_count": null,
      "outputs": [
        {
          "output_type": "stream",
          "name": "stdout",
          "text": [
            "5\n",
            "0\n"
          ]
        }
      ]
    }
  ]
}