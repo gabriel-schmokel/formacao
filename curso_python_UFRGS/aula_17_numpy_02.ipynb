{
  "nbformat": 4,
  "nbformat_minor": 0,
  "metadata": {
    "colab": {
      "name": "Aula_17_numpy_02.ipynb",
      "provenance": []
    },
    "kernelspec": {
      "name": "python3",
      "display_name": "Python 3"
    },
    "language_info": {
      "name": "python"
    }
  },
  "cells": [
    {
      "cell_type": "markdown",
      "source": [
        "# NumPy (continuação)\n",
        "\n",
        "Iremos trabalhar com arrays numéricos nessa aula. \n",
        "\n",
        "A esses arrays, damos o respectivo nome quanto a dimensão do array:\n",
        "\n",
        "* 1D -- Vetores\n",
        "* 2D -- Matrizes\n",
        "* nD -- Tensores"
      ],
      "metadata": {
        "id": "jAgmyuQeXKDq"
      }
    },
    {
      "cell_type": "markdown",
      "source": [
        "## Gerando arrays numéricos"
      ],
      "metadata": {
        "id": "5mLUrh7VZ3sV"
      }
    },
    {
      "cell_type": "code",
      "execution_count": 2,
      "metadata": {
        "colab": {
          "base_uri": "https://localhost:8080/"
        },
        "id": "Fl6E4qFeVuYX",
        "outputId": "b3c8aac8-4049-42a3-e58a-b031e2fa0b24"
      },
      "outputs": [
        {
          "output_type": "stream",
          "name": "stdout",
          "text": [
            "vetor float:  [1. 2. 3. 4.] \n",
            "\n"
          ]
        }
      ],
      "source": [
        "import numpy as np\n",
        "\n",
        "# array unidimensional numérico - vetores\n",
        "# podemos especificar o tipo/classe dos elementos presentes no array\n",
        "# passamos como argumento dtype = '...'\n",
        "v = np.array([1,2,3,4], dtype = 'float64')\n",
        "print('vetor float: ',v,'\\n')"
      ]
    },
    {
      "cell_type": "code",
      "source": [
        "import numpy as np\n",
        "\n",
        "# FUNÇÃO range()\n",
        "# pode receber 3 argumentos\n",
        "# primeiro argumento é o limite a esquerda que inicia a interação\n",
        "# segundo argumento é o limite da direita da interação\n",
        "# não gera um intervalo fechado, já que o array não assume o valor mais a direita.\n",
        "# terceiro argumento define os saltos/passos pelo intervalo. \n",
        "\n",
        "\n",
        "# Exemplo 01\n",
        "# Argumento 01 por default é zero\n",
        "# Agumento 02 é o 10 na situação abaixo\n",
        "# Argumento 03 é o 1 na situação abaixo (default)\n",
        "a = np.array( [x for x in range(10)])\n",
        "print('vetor range(10) : ',a)\n",
        "\n",
        "print()\n",
        "\n",
        "# Exemplo 02\n",
        "r = np.array(range(-20,30,3))\n",
        "print('range(-20,30,3): ',r)\n",
        "\n",
        "print()\n",
        "\n",
        "# Exemplo 03 - Forma Direta\n",
        "# np.arange(inicio,fim,dx)\n",
        "# dx corresponde aos passos - pode ser um passo com um número quebrado\n",
        "r = np.arange(0,10,0.2)\n",
        "print('np.arange(0,10,3): ',r)\n",
        "\n",
        "print()\n",
        "\n",
        "# Exemplo 04 - Forma Direta e intervalo fechado\n",
        "# np.linspace(inicio,fim,dx)\n",
        "# dx corresponde ao número de divisão que iremo dividir o intervalo.  \n",
        "# Total de Elementos = (fim-inicio)/dx. \n",
        "r = np.linspace(0,5,10)\n",
        "print('np.arange(0,5,50): ',r)"
      ],
      "metadata": {
        "colab": {
          "base_uri": "https://localhost:8080/"
        },
        "id": "Nl5ZZ5l_a5u3",
        "outputId": "8cb72959-3307-4b9f-bf17-44019a1f59df"
      },
      "execution_count": 24,
      "outputs": [
        {
          "output_type": "stream",
          "name": "stdout",
          "text": [
            "vetor range(10) :  [0 1 2 3 4 5 6 7 8 9]\n",
            "\n",
            "range(-20,30,3):  [-20 -17 -14 -11  -8  -5  -2   1   4   7  10  13  16  19  22  25  28]\n",
            "\n",
            "np.arange(0,10,3):  [0.  0.2 0.4 0.6 0.8 1.  1.2 1.4 1.6 1.8 2.  2.2 2.4 2.6 2.8 3.  3.2 3.4\n",
            " 3.6 3.8 4.  4.2 4.4 4.6 4.8 5.  5.2 5.4 5.6 5.8 6.  6.2 6.4 6.6 6.8 7.\n",
            " 7.2 7.4 7.6 7.8 8.  8.2 8.4 8.6 8.8 9.  9.2 9.4 9.6 9.8]\n",
            "\n",
            "np.arange(0,5,50):  [0.         0.55555556 1.11111111 1.66666667 2.22222222 2.77777778\n",
            " 3.33333333 3.88888889 4.44444444 5.        ]\n"
          ]
        }
      ]
    },
    {
      "cell_type": "code",
      "source": [
        "import numpy as np\n",
        "\n",
        "# np.zeros()\n",
        "# gera um array com elementos zeros\n",
        "# argumentos de entrada se refere a forma que o array vai ter\n",
        "print(np.zeros([3,2,5]))"
      ],
      "metadata": {
        "colab": {
          "base_uri": "https://localhost:8080/"
        },
        "id": "O0QFVa4WgYNI",
        "outputId": "669c84b7-fc37-4596-936d-fbf64cbad1bd"
      },
      "execution_count": 27,
      "outputs": [
        {
          "output_type": "stream",
          "name": "stdout",
          "text": [
            "[[[0. 0. 0. 0. 0.]\n",
            "  [0. 0. 0. 0. 0.]]\n",
            "\n",
            " [[0. 0. 0. 0. 0.]\n",
            "  [0. 0. 0. 0. 0.]]\n",
            "\n",
            " [[0. 0. 0. 0. 0.]\n",
            "  [0. 0. 0. 0. 0.]]]\n"
          ]
        }
      ]
    },
    {
      "cell_type": "code",
      "source": [
        "import numpy as np\n",
        "\n",
        "# np.ones()\n",
        "# gera um array com elementos uns\n",
        "# argumentos de entrada se refere a forma que o array vai ter\n",
        "print(np.ones([3,2,5]))"
      ],
      "metadata": {
        "colab": {
          "base_uri": "https://localhost:8080/"
        },
        "id": "Nov33r21g8YN",
        "outputId": "a46b5dd7-fa91-4f31-c5fe-a22ad003eb88"
      },
      "execution_count": 28,
      "outputs": [
        {
          "output_type": "stream",
          "name": "stdout",
          "text": [
            "[[[1. 1. 1. 1. 1.]\n",
            "  [1. 1. 1. 1. 1.]]\n",
            "\n",
            " [[1. 1. 1. 1. 1.]\n",
            "  [1. 1. 1. 1. 1.]]\n",
            "\n",
            " [[1. 1. 1. 1. 1.]\n",
            "  [1. 1. 1. 1. 1.]]]\n"
          ]
        }
      ]
    },
    {
      "cell_type": "code",
      "source": [
        "import numpy as np\n",
        "from numpy import random\n",
        "\n",
        "# gerando arryas de números aleatórios\n",
        "\n",
        "# pelo .randint()\n",
        "# 3 argumentos de entrada\n",
        "# os dois primeiros delimitam o intervalo randomico\n",
        "# número gerados são inteiros\n",
        "# terceiro argumento é uma tupla e da a forma do array gerado\n",
        "print('random int, 10: ',np.random.randint(1,10,10))\n",
        "print('random int, (3,5): ',np.random.randint(1,10,(3,5)))\n",
        "\n",
        "print()\n",
        "\n",
        "# pelo .rand()\n",
        "# gera um número aleatório entre 0 e 1 float\n",
        "print('random float, 10: ',np.random.rand(10),'\\n')                  \n",
        "print('random float, (3,10): ',np.random.rand(3,10),'\\n')            # intervalo delimitado entre [0,1)\n",
        "print('random float, (3,10): ',10+10*np.random.rand(3,10),'\\n')     # intervalor delimitado entre [10,20)\n",
        "\n",
        "\n"
      ],
      "metadata": {
        "colab": {
          "base_uri": "https://localhost:8080/"
        },
        "id": "_MiaFOj4hO1e",
        "outputId": "9f7e1859-727f-4b71-b8a7-7e0005d3c3fb"
      },
      "execution_count": 37,
      "outputs": [
        {
          "output_type": "stream",
          "name": "stdout",
          "text": [
            "random int, 10:  [4 5 6 2 4 4 9 1 9 9]\n",
            "random int, (3,5):  [[5 4 4 1 4]\n",
            " [6 9 6 8 1]\n",
            " [3 2 8 5 2]]\n",
            "\n",
            "random float, 10:  [0.29452075 0.63211988 0.73412747 0.86419708 0.04149403 0.98818656\n",
            " 0.81206851 0.56445177 0.82642247 0.7337174 ] \n",
            "\n",
            "random float, (3,10):  [[0.97024642 0.77601948 0.7269648  0.4145049  0.34112431 0.69886471\n",
            "  0.41797462 0.42910036 0.35704513 0.38768202]\n",
            " [0.08853216 0.47494773 0.01364088 0.20221314 0.28495574 0.90652523\n",
            "  0.73661747 0.50008654 0.20581273 0.1551882 ]\n",
            " [0.3586513  0.94607923 0.88745796 0.03171555 0.17979278 0.16825608\n",
            "  0.23518726 0.94765807 0.28905796 0.64983975]] \n",
            "\n",
            "random float, (3,10):  [[12.06440837 19.05860263 15.24714288 12.64024948 11.84484001 11.14460538\n",
            "  10.29239363 16.50754073 18.65167401 18.72134393]\n",
            " [18.97014346 14.34571155 16.59237577 10.96835852 16.48992219 16.41015257\n",
            "  11.07705888 18.12281205 18.33308134 16.01466734]\n",
            " [11.43778308 12.76460104 15.66449752 18.15029371 11.42931481 13.29623429\n",
            "  17.38316062 17.0600049  14.84228398 18.88471859]] \n",
            "\n"
          ]
        }
      ]
    },
    {
      "cell_type": "markdown",
      "source": [
        "## (Re)formatando um array "
      ],
      "metadata": {
        "id": "lVgbjAZQkz-6"
      }
    },
    {
      "cell_type": "code",
      "source": [
        "import numpy as np\n",
        "\n",
        "a = np.arange(20)\n",
        "print('array \\'a\\' =', a, '\\n')\n",
        "\n",
        "print('número de elementos: ', a.size)\n",
        "print('dimensão: ', a.ndim)\n",
        "print('forma: ', a.shape)\n",
        "\n",
        "print()\n",
        "\n",
        "# método .reshape()\n",
        "# podemos alterar a forma de um array com o método/funçã .reshape()\n",
        "# esse método recebe como argumento uma tupla, que escrve como desejamos escrever o array 1D.\n",
        "# o produto entre os elementos da tupla deve ser igual ao tamanho do arranjo --> 4*5 = 20\n",
        "b = np.arange(20).reshape((4,5))\n",
        "print('Mudando a forma do arraypara \\'(4,5)\\'')\n",
        "print(b)\n",
        "print('número de elementos: ', b.size)\n",
        "print('dimensão: ', b.ndim)\n",
        "print('forma: ', b.shape)\n",
        "\n",
        "print()\n",
        "\n",
        "b = a.reshape((5,2,2))\n",
        "print('Mudando a forma do array para \\'(5,2,2)\\':')\n",
        "print(b)\n",
        "print('número de elementos: ', b.size)\n",
        "print('dimensão: ', b.ndim)\n",
        "print('forma: ', b.shape)\n"
      ],
      "metadata": {
        "colab": {
          "base_uri": "https://localhost:8080/"
        },
        "id": "Anf0wH-jm-XY",
        "outputId": "2a398bcb-bb23-445e-9e07-95030a4f4cec"
      },
      "execution_count": 59,
      "outputs": [
        {
          "output_type": "stream",
          "name": "stdout",
          "text": [
            "array 'a' = [ 0  1  2  3  4  5  6  7  8  9 10 11 12 13 14 15 16 17 18 19] \n",
            "\n",
            "número de elementos:  20\n",
            "dimensão:  1\n",
            "forma:  (20,)\n",
            "\n",
            "Mudando a forma do arraypara '(4,5)'\n",
            "[[ 0  1  2  3  4]\n",
            " [ 5  6  7  8  9]\n",
            " [10 11 12 13 14]\n",
            " [15 16 17 18 19]]\n",
            "número de elementos:  20\n",
            "dimensão:  2\n",
            "forma:  (4, 5)\n",
            "\n",
            "Mudando a forma do array para '(5,2,2)':\n",
            "[[[ 0  1]\n",
            "  [ 2  3]]\n",
            "\n",
            " [[ 4  5]\n",
            "  [ 6  7]]\n",
            "\n",
            " [[ 8  9]\n",
            "  [10 11]]\n",
            "\n",
            " [[12 13]\n",
            "  [14 15]]\n",
            "\n",
            " [[16 17]\n",
            "  [18 19]]]\n",
            "número de elementos:  20\n",
            "dimensão:  3\n",
            "forma:  (5, 2, 2)\n",
            "\n",
            "Mudando a forma do array para '(20,)':\n",
            "[ 0  1  2  3  4  5  6  7  8  9 10 11 12 13 14 15 16 17 18 19]\n",
            "número de elementos:  20\n",
            "dimensão:  1\n",
            "forma:  (20,)\n"
          ]
        }
      ]
    },
    {
      "cell_type": "markdown",
      "source": [
        "### Achatamento do Array"
      ],
      "metadata": {
        "id": "uMXybCiB5f7E"
      }
    },
    {
      "cell_type": "code",
      "source": [
        "b = np.arange(20).reshape((4,5))\n",
        "print('Forma do array: (4,5)')\n",
        "print(b)\n",
        "\n",
        "print()\n",
        "# Podemos reformatar 'b' para fazer o processo contrário\n",
        "# Ou seja, iremos comprimir a forma para um arranjo 1D\n",
        "# Achatamento do arranjo\n",
        "b = b.reshape(b.size)\n",
        "print('Mudando a forma do array para \\'(20,)\\':')\n",
        "print(b)\n",
        "print('número de elementos: ', b.size)\n",
        "print('dimensão: ', b.ndim)\n",
        "print('forma: ', b.shape)"
      ],
      "metadata": {
        "colab": {
          "base_uri": "https://localhost:8080/"
        },
        "id": "x6Oco26d2Hqd",
        "outputId": "3db23959-72e6-4eaf-9cba-65ece3a718ad"
      },
      "execution_count": 67,
      "outputs": [
        {
          "output_type": "stream",
          "name": "stdout",
          "text": [
            "Forma do array: (4,5)\n",
            "[[ 0  1  2  3  4]\n",
            " [ 5  6  7  8  9]\n",
            " [10 11 12 13 14]\n",
            " [15 16 17 18 19]]\n",
            "\n",
            "Mudando a forma do array para '(20,)':\n",
            "[ 0  1  2  3  4  5  6  7  8  9 10 11 12 13 14 15 16 17 18 19]\n",
            "número de elementos:  20\n",
            "dimensão:  1\n",
            "forma:  (20,)\n"
          ]
        }
      ]
    },
    {
      "cell_type": "markdown",
      "source": [
        "## Operações com Arrays"
      ],
      "metadata": {
        "id": "h8BkMrUOHTHz"
      }
    },
    {
      "cell_type": "markdown",
      "source": [
        "### Operações binárias"
      ],
      "metadata": {
        "id": "SIICcG55INCc"
      }
    },
    {
      "cell_type": "code",
      "source": [
        "import numpy as np\n",
        "\n",
        "x = np.array([1,2,3,4]).reshape(2,2)\n",
        "y = np.array([7,8,9,10]).reshape(2,2)\n",
        "print('x = \\n',x,'\\n')\n",
        "print('y = \\n',y,'\\n')\n",
        "\n",
        "print()\n",
        "\n",
        "# Operação de adição de duas matrizes\n",
        "# Função/método .add() permite somar dois arrays\n",
        "# Os argumentos presentes nessa função são os arrays que iremos fazer a operação.\n",
        "\n",
        "z = np.add(x,y)       # devem ter a mesma forma as matrizes para poderem ser somadas.\n",
        "#z = x + y            # equivalente ao código acima.\n",
        "print(' x+y = \\n',z,'\\n')"
      ],
      "metadata": {
        "colab": {
          "base_uri": "https://localhost:8080/"
        },
        "id": "Ro-ykNJWHVej",
        "outputId": "8f879538-5ff2-476f-e501-4088aa78e53d"
      },
      "execution_count": 78,
      "outputs": [
        {
          "output_type": "stream",
          "name": "stdout",
          "text": [
            "x = \n",
            " [[1 2]\n",
            " [3 4]] \n",
            "\n",
            "y = \n",
            " [[ 7  8]\n",
            " [ 9 10]] \n",
            "\n",
            "\n",
            " x+y = \n",
            " [[ 8 10]\n",
            " [12 14]] \n",
            "\n"
          ]
        }
      ]
    },
    {
      "cell_type": "code",
      "source": [
        "import numpy as np\n",
        "\n",
        "x = np.array([1,2,3,4]).reshape(2,2)\n",
        "y = np.array([7,8,9,10]).reshape(2,2)\n",
        "print('x = \\n',x,'\\n')\n",
        "print('y = \\n',y,'\\n')\n",
        "\n",
        "print()\n",
        "\n",
        "# Operação de subtração de duas matrizes\n",
        "# Função/método .substract() permite subtrair dois arrays\n",
        "# Os argumentos presentes nessa função são os arrays que iremos fazer a operação.\n",
        "\n",
        "z = np.subtract(y,x)       # devem ter a mesma forma as matrizes para poderem serem subtraídas.\n",
        "#z = y - x                 # equivalente ao código acima.\n",
        "print(' y-x = \\n',z,'\\n')"
      ],
      "metadata": {
        "colab": {
          "base_uri": "https://localhost:8080/"
        },
        "id": "pZO2nmj_JaLi",
        "outputId": "e3ce6a94-dde4-4920-c971-8d7ba4a180f3"
      },
      "execution_count": 74,
      "outputs": [
        {
          "output_type": "stream",
          "name": "stdout",
          "text": [
            "x = \n",
            " [[1 2]\n",
            " [3 4]] \n",
            "\n",
            "y = \n",
            " [[ 7  8]\n",
            " [ 9 10]] \n",
            "\n",
            "\n",
            " = \n",
            " [[6 6]\n",
            " [6 6]] \n",
            "\n"
          ]
        }
      ]
    },
    {
      "cell_type": "code",
      "source": [
        "import numpy as np\n",
        "\n",
        "x = np.array([1,2,3,4]).reshape(2,2)\n",
        "y = np.array([7,8,9,10]).reshape(2,2)\n",
        "print('x = \\n',x,'\\n')\n",
        "print('y = \\n',y,'\\n')\n",
        "\n",
        "print()\n",
        "\n",
        "# Operação de divisão de duas matrizes\n",
        "# Função/método .divide() permite subtrair dois arrays\n",
        "# Os argumentos presentes nessa função são os arrays que iremos fazer a operação.\n",
        "\n",
        "z = np.divide(x,y)       # devem ter a mesma forma as matrizes para poderem ser divididas.\n",
        "z = x/ y                 # equivalente ao código acima.\n",
        "print(' x/y = \\n',z,'\\n')\n"
      ],
      "metadata": {
        "colab": {
          "base_uri": "https://localhost:8080/"
        },
        "id": "xeHLFFggJnMF",
        "outputId": "bbd9b8b3-a12f-4c92-b31f-30f29b45046e"
      },
      "execution_count": 77,
      "outputs": [
        {
          "output_type": "stream",
          "name": "stdout",
          "text": [
            "x = \n",
            " [[1 2]\n",
            " [3 4]] \n",
            "\n",
            "y = \n",
            " [[ 7  8]\n",
            " [ 9 10]] \n",
            "\n",
            "\n",
            " x/y = \n",
            " [[0.14285714 0.25      ]\n",
            " [0.33333333 0.4       ]] \n",
            "\n"
          ]
        }
      ]
    },
    {
      "cell_type": "code",
      "source": [
        "import numpy as np\n",
        "\n",
        "x = np.array([1,2,3,4]).reshape(2,2)\n",
        "y = np.array([7,8,9,10]).reshape(2,2)\n",
        "print('x = \\n',x,'\\n')\n",
        "print('y = \\n',y,'\\n')\n",
        "\n",
        "print()\n",
        "\n",
        "# Operação de multiplicalçao, elemento por elemento. (NÃO É O PRODUTO INTERNO)\n",
        "# Função/método .multiply() permite multiplicas dois arrays\n",
        "# Os argumentos presentes nessa função são os arrays que iremos fazer a operação.\n",
        "\n",
        "z = np.multiply(x,y)       # devem ter a mesma forma as matrizes para poderem ser divididas.\n",
        "z = x*y                    # equivalente ao código acima.\n",
        "print(' x*y = \\n',z,'\\n')\n"
      ],
      "metadata": {
        "colab": {
          "base_uri": "https://localhost:8080/"
        },
        "id": "qGCjZp4gLQgQ",
        "outputId": "f230ca16-1620-477f-f284-a137907644a5"
      },
      "execution_count": 81,
      "outputs": [
        {
          "output_type": "stream",
          "name": "stdout",
          "text": [
            "x = \n",
            " [[1 2]\n",
            " [3 4]] \n",
            "\n",
            "y = \n",
            " [[ 7  8]\n",
            " [ 9 10]] \n",
            "\n",
            "\n",
            " x*y = \n",
            " [[ 7 16]\n",
            " [27 40]] \n",
            "\n"
          ]
        }
      ]
    },
    {
      "cell_type": "code",
      "source": [
        "import numpy as np\n",
        "\n",
        "x = np.array([1,2,3,4]).reshape(2,2)\n",
        "y = np.array([7,8,9,10]).reshape(2,2)\n",
        "print('x = \\n',x,'\\n')\n",
        "print('y = \\n',y,'\\n')\n",
        "\n",
        "print()\n",
        "\n",
        "# Operação do produ interno de matrizes\n",
        "# Função .dot() realiza o o produto interno\n",
        "# Os argumentos presentes nessa função são os arrays que iremos fazer a operação.\n",
        "\n",
        "z = np.dot(x,y)       # devem ter a mesma forma as matrizes para poderem ser divididas.\n",
        "print(' z = \\n',z,'\\n')\n",
        "\n",
        "print()\n",
        "\n",
        "# Também é possível utilizando um métdo em vez de uma função.\n",
        "z = x.dot(y)\n",
        "print(' z = \\n',z,'\\n')\n",
        "\n",
        "# Podemos ainda usar o operador '@' que faz o produto interno\n",
        "z = x @ y\n",
        "print(' z = \\n',z,'\\n')"
      ],
      "metadata": {
        "colab": {
          "base_uri": "https://localhost:8080/"
        },
        "id": "uoy0Bmu8L3OY",
        "outputId": "b9d36ff5-3bfa-4646-c541-237c44d94503"
      },
      "execution_count": 84,
      "outputs": [
        {
          "output_type": "stream",
          "name": "stdout",
          "text": [
            "x = \n",
            " [[1 2]\n",
            " [3 4]] \n",
            "\n",
            "y = \n",
            " [[ 7  8]\n",
            " [ 9 10]] \n",
            "\n",
            "\n",
            " z = \n",
            " [[25 28]\n",
            " [57 64]] \n",
            "\n",
            "\n",
            " z = \n",
            " [[25 28]\n",
            " [57 64]] \n",
            "\n",
            " z = \n",
            " [[25 28]\n",
            " [57 64]] \n",
            "\n"
          ]
        }
      ]
    },
    {
      "cell_type": "markdown",
      "source": [
        "## Operações Unárias\n",
        "\n"
      ],
      "metadata": {
        "id": "Ms3vOZCpNUrd"
      }
    },
    {
      "cell_type": "code",
      "source": [
        "import numpy as np\n",
        "\n",
        "x = np.array([1,2,3,4]).reshape(2,2)\n",
        "print('matriz x = \\n', x, '\\n')\n",
        "\n",
        "# A operação transposta de uma matriz pode ser obtida utilizando a função .transpode()\n",
        "# Recebemos um único argumento, o qual é o array que corresponde a matriz.\n",
        "print('transpose (x) = \\n', np.transpose(x), '\\n')\n",
        "\n",
        "# Outra forma de calcular a transposta de uma matriz é utilizando o atributo .T:\n",
        "print('transpose (x) = \\n', x.T, '\\n')\n",
        "\n",
        "# Cálculo da transposta de um vetor.\n",
        "x = np.array([1,2,3,4]).reshape(1,4)\n",
        "print('vetor x = \\n', x, '\\n')\n",
        "print('transpose (x) = \\n', x.T, '\\n')\n",
        "\n"
      ],
      "metadata": {
        "colab": {
          "base_uri": "https://localhost:8080/"
        },
        "id": "sDE5wcv0Nej8",
        "outputId": "e415fec7-f4a7-4887-d3b9-6376f2f47c5a"
      },
      "execution_count": 96,
      "outputs": [
        {
          "output_type": "stream",
          "name": "stdout",
          "text": [
            "matriz x = \n",
            " [[1 2]\n",
            " [3 4]] \n",
            "\n",
            "transpose (x) = \n",
            " [[1 3]\n",
            " [2 4]] \n",
            "\n",
            "transpose (x) = \n",
            " [[1 3]\n",
            " [2 4]] \n",
            "\n",
            "vetor x = \n",
            " [[1 2 3 4]] \n",
            "\n",
            "transpose (x) = \n",
            " [[1]\n",
            " [2]\n",
            " [3]\n",
            " [4]] \n",
            "\n"
          ]
        }
      ]
    },
    {
      "cell_type": "code",
      "source": [
        "import numpy as np\n",
        "\n",
        "x = np.array([1,2,3,4]).reshape(2,2)\n",
        "print('matriz x = \\n', x, '\\n')\n",
        "\n",
        "print('SOMA')\n",
        "# através da função .sum() podemos somar os elementos de um array\n",
        "# recebe um ou dois argumentos: primeiro é o array que desejamos somar os elementos, o segundo 'axis = ...' é a forma como desejamos somar os elementos \n",
        "print('sum(x) = \\n', np.sum(x), '\\n')             # Soma todos elemento da matriz\n",
        "print('sum(x) = \\n', np.sum(x, axis = 1), '\\n')   # Soma as linhas\n",
        "print('sum(x) = \\n', np.sum(x, axis = 0), '\\n')   # Soma as colunas\n",
        "\n",
        "print()\n",
        "\n",
        "print('MÉDIA')\n",
        "# através da função .mean() podemos obter a média da soma dos elementos de um array\n",
        "# recebe um ou dois argumentos: primeiro é o array que desejamos tomar a média da soma dos elementos, o segundo 'axis = ...' é a forma como desejamos somar os elementos \n",
        "print('mean(x) = \\n', np.mean(x), '\\n')             # Média da soma de todos elementos da matriz\n",
        "print('mean(x) das linhas, axis=0, = \\n', np.mean(x, axis = 1), '\\n')   # Média da soma as linhas\n",
        "print('mean(x) das colunas, axis=1, = \\n', np.mean(x, axis = 0), '\\n')   # Média da soma as colunas\n",
        "\n",
        "print()\n",
        "\n",
        "print('MÁXIMO')\n",
        "# através da função .max() podemos obter o elemento de maior valor em um array\n",
        "# recebe um ou dois argumentos: primeiro é o array que desejamos obter o maior valor dos elementos, o segundo 'axis = ...' é a forma como desejamos somar os elementos \n",
        "print('max(x) da matriz = \\n', np.max(x), '\\n')                      # Maior valor de todos elementos da matriz\n",
        "print('max(x) das linhas, axis=0, = \\n', np.max(x, axis = 1), '\\n')   # Maior valor dos elementos das linhas\n",
        "print('max(x) das colunas, axis=1, = \\n', np.max(x, axis = 0), '\\n')   # Menor valor dos elementos das colunas\n",
        "\n",
        "\n",
        "print()\n",
        "\n",
        "print('MÍNIMO')\n",
        "# através da função .min() podemos obter o elemento de menor valor em um array\n",
        "# recebe um ou dois argumentos: primeiro é o array que desejamos obter o menor valor dos elementos, o segundo 'axis = ...' é a forma como desejamos somar os elementos \n",
        "print('min(x) da matriz = \\n', np.min(x), '\\n')                      # menor valor de todos elementos da matriz\n",
        "print('min(x) das linhas, axis=0, = \\n', np.min(x, axis = 1), '\\n')   # menor valor dos elementos das linhas\n",
        "print('min(x) das colunas, axis=1, = \\n', np.min(x, axis = 0), '\\n')   # menor valor dos elementos das colunas\n",
        "\n"
      ],
      "metadata": {
        "colab": {
          "base_uri": "https://localhost:8080/"
        },
        "id": "ONjtMiB1Pd2u",
        "outputId": "97044422-f9ec-494c-d812-57a572a7bf68"
      },
      "execution_count": 109,
      "outputs": [
        {
          "output_type": "stream",
          "name": "stdout",
          "text": [
            "matriz x = \n",
            " [[1 2]\n",
            " [3 4]] \n",
            "\n",
            "SOMA\n",
            "sum(x) = \n",
            " 10 \n",
            "\n",
            "sum(x) = \n",
            " [3 7] \n",
            "\n",
            "sum(x) = \n",
            " [4 6] \n",
            "\n",
            "\n",
            "MÉDIA\n",
            "mean(x) = \n",
            " 2.5 \n",
            "\n",
            "mean(x) das linhas, axis=0, = \n",
            " [1.5 3.5] \n",
            "\n",
            "mean(x) das colunas, axis=1, = \n",
            " [2. 3.] \n",
            "\n",
            "\n",
            "MÁXIMO\n",
            "max(x) da matriz = \n",
            " 4 \n",
            "\n",
            "max(x) das linhas, axis=0, = \n",
            " [2 4] \n",
            "\n",
            "max(x) das colunas, axis=1, = \n",
            " [3 4] \n",
            "\n",
            "\n",
            "MÍNIMO\n",
            "min(x) da matriz = \n",
            " 1 \n",
            "\n",
            "min(x) das linhas, axis=0, = \n",
            " [1 3] \n",
            "\n",
            "min(x) das colunas, axis=1, = \n",
            " [1 2] \n",
            "\n"
          ]
        }
      ]
    },
    {
      "cell_type": "markdown",
      "source": [
        "## Operações com Escalares"
      ],
      "metadata": {
        "id": "asSKdcQHTjSg"
      }
    },
    {
      "cell_type": "code",
      "source": [
        "import numpy as np\n",
        "\n",
        "x = np.array([1,2,3,4]).reshape(2,2)\n",
        "print('matriz x = \\n', x*10, '\\n')                           # observe que 10 está multiplicando cada elemento da matriz 'x'. Existe comutação!\n",
        "print('Divisão por escalar','matriz x = \\n', x/10, '\\n')     # observe que que cada elemento da matriz x está sendo dividido por 10. Não existe comutação!\n",
        "print('Soma por escalar','matriz x = \\n', x+10, '\\n')        # observe que que cada elemento da matriz x está sendo somado por 10. Existe comutação!\n"
      ],
      "metadata": {
        "colab": {
          "base_uri": "https://localhost:8080/"
        },
        "id": "hl196np8Tmt6",
        "outputId": "17103254-2587-4c15-c4d6-80985658778d"
      },
      "execution_count": 114,
      "outputs": [
        {
          "output_type": "stream",
          "name": "stdout",
          "text": [
            "matriz x = \n",
            " [[10 20]\n",
            " [30 40]] \n",
            "\n",
            "Divisão por escalar matriz x = \n",
            " [[0.1 0.2]\n",
            " [0.3 0.4]] \n",
            "\n",
            "Soma por escalar matriz x = \n",
            " [[11 12]\n",
            " [13 14]] \n",
            "\n"
          ]
        }
      ]
    },
    {
      "cell_type": "markdown",
      "source": [
        "### Operações Lógicas\n",
        "\n",
        "Esse tópico deve ser completado em outro momento!!!"
      ],
      "metadata": {
        "id": "f4QfB77eUwRm"
      }
    },
    {
      "cell_type": "markdown",
      "source": [
        "## Funções Universais\n",
        "\n",
        "As funções universais generalizações das funções normais."
      ],
      "metadata": {
        "id": "UTskKr77bhnK"
      }
    },
    {
      "cell_type": "code",
      "source": [
        "import numpy as np\n",
        "\n",
        "x = np.array([1,2,3,4]).reshape(2,2)\n",
        "print(' x = \\n', x*10, '\\n') \n",
        "\n",
        "# função np.cos() é universal, pois consegue utilizar como argumento um array, coisa que o math.cos() não permite.\n",
        "# Mesma coisa para as outras funções, por exemplo, sqrt()\n",
        "print(' np.cos(x) = \\n', np.cos(x), '\\n') \n",
        "print(' np.sqrt(x) = \\n', np.sqrt(x),'\\n')"
      ],
      "metadata": {
        "colab": {
          "base_uri": "https://localhost:8080/"
        },
        "id": "628dNxOxb2vj",
        "outputId": "ed3c0eac-7121-4e64-cb87-70c71ccab3da"
      },
      "execution_count": 117,
      "outputs": [
        {
          "output_type": "stream",
          "name": "stdout",
          "text": [
            " x = \n",
            " [[10 20]\n",
            " [30 40]] \n",
            "\n",
            " np.cos(x) = \n",
            " [[ 0.54030231 -0.41614684]\n",
            " [-0.9899925  -0.65364362]] \n",
            "\n",
            " np.sqrt(x) = \n",
            " [[1.         1.41421356]\n",
            " [1.73205081 2.        ]] \n",
            "\n"
          ]
        }
      ]
    },
    {
      "cell_type": "code",
      "source": [
        "import numpy as np\n",
        "\n",
        "# seja o respectivo vetor\n",
        "x = np.linspace(-np.pi,np.pi,100)\n",
        "y = np.sin(x)\n",
        "print(' np.sin(x) = \\n', y, '\\n') \n",
        "\n",
        "import matplotlib.pyplot as plt\n",
        "plt.plot(x,y)\n",
        "plt.show()\n"
      ],
      "metadata": {
        "colab": {
          "base_uri": "https://localhost:8080/",
          "height": 734
        },
        "id": "fE8wsNAWdBf7",
        "outputId": "5a23cafc-93ea-4db5-dc25-e0905ff0bc49"
      },
      "execution_count": 121,
      "outputs": [
        {
          "output_type": "stream",
          "name": "stdout",
          "text": [
            " np.sin(x) = \n",
            " [-1.22464680e-16 -6.34239197e-02 -1.26592454e-01 -1.89251244e-01\n",
            " -2.51147987e-01 -3.12033446e-01 -3.71662456e-01 -4.29794912e-01\n",
            " -4.86196736e-01 -5.40640817e-01 -5.92907929e-01 -6.42787610e-01\n",
            " -6.90079011e-01 -7.34591709e-01 -7.76146464e-01 -8.14575952e-01\n",
            " -8.49725430e-01 -8.81453363e-01 -9.09631995e-01 -9.34147860e-01\n",
            " -9.54902241e-01 -9.71811568e-01 -9.84807753e-01 -9.93838464e-01\n",
            " -9.98867339e-01 -9.99874128e-01 -9.96854776e-01 -9.89821442e-01\n",
            " -9.78802446e-01 -9.63842159e-01 -9.45000819e-01 -9.22354294e-01\n",
            " -8.95993774e-01 -8.66025404e-01 -8.32569855e-01 -7.95761841e-01\n",
            " -7.55749574e-01 -7.12694171e-01 -6.66769001e-01 -6.18158986e-01\n",
            " -5.67059864e-01 -5.13677392e-01 -4.58226522e-01 -4.00930535e-01\n",
            " -3.42020143e-01 -2.81732557e-01 -2.20310533e-01 -1.58001396e-01\n",
            " -9.50560433e-02 -3.17279335e-02  3.17279335e-02  9.50560433e-02\n",
            "  1.58001396e-01  2.20310533e-01  2.81732557e-01  3.42020143e-01\n",
            "  4.00930535e-01  4.58226522e-01  5.13677392e-01  5.67059864e-01\n",
            "  6.18158986e-01  6.66769001e-01  7.12694171e-01  7.55749574e-01\n",
            "  7.95761841e-01  8.32569855e-01  8.66025404e-01  8.95993774e-01\n",
            "  9.22354294e-01  9.45000819e-01  9.63842159e-01  9.78802446e-01\n",
            "  9.89821442e-01  9.96854776e-01  9.99874128e-01  9.98867339e-01\n",
            "  9.93838464e-01  9.84807753e-01  9.71811568e-01  9.54902241e-01\n",
            "  9.34147860e-01  9.09631995e-01  8.81453363e-01  8.49725430e-01\n",
            "  8.14575952e-01  7.76146464e-01  7.34591709e-01  6.90079011e-01\n",
            "  6.42787610e-01  5.92907929e-01  5.40640817e-01  4.86196736e-01\n",
            "  4.29794912e-01  3.71662456e-01  3.12033446e-01  2.51147987e-01\n",
            "  1.89251244e-01  1.26592454e-01  6.34239197e-02  1.22464680e-16] \n",
            "\n"
          ]
        },
        {
          "output_type": "display_data",
          "data": {
            "text/plain": [
              "<Figure size 432x288 with 1 Axes>"
            ],
            "image/png": "[encoded data removed]"
          },
          "metadata": {
            "needs_background": "light"
          }
        }
      ]
    },
    {
      "cell_type": "markdown",
      "source": [
        "## Matriz Diagonal"
      ],
      "metadata": {
        "id": "C8KhifwTeVAW"
      }
    },
    {
      "cell_type": "code",
      "source": [
        "# Obtendo uma matriz diagonal\n",
        "# Utilizamos a função .diag()\n",
        "# O argumento que entra é um array 1D que será transformado em uma matriz diagonal.\n",
        "\n",
        "x = np.arange(4)\n",
        "print(np.diag(x))"
      ],
      "metadata": {
        "colab": {
          "base_uri": "https://localhost:8080/"
        },
        "id": "otkllRsmg3mM",
        "outputId": "0f7f52d7-d5bf-4ceb-8289-d47a15abdfcc"
      },
      "execution_count": 131,
      "outputs": [
        {
          "output_type": "stream",
          "name": "stdout",
          "text": [
            "[[0 0 0 0]\n",
            " [0 1 0 0]\n",
            " [0 0 2 0]\n",
            " [0 0 0 3]]\n"
          ]
        }
      ]
    },
    {
      "cell_type": "markdown",
      "source": [
        "## Sistema de Equações Lineares\n",
        "\n",
        "$$ \\alpha +3\\beta = 1 $$\n",
        "\n",
        "$$ 2\\alpha - \\beta = -2 $$\n",
        "\n",
        "Desejamos calular os valores  $\\alpha$ e $\\beta$ do sistema de equações lineares. \n",
        "\n",
        "Reescrevendo o sistema na forma matricial temos:\n",
        "\n",
        "$$\n",
        "\\begin{bmatrix}\n",
        "1 & 3 \\\\\n",
        "2 & -1 \n",
        "\\end{bmatrix}\n",
        "\\cdot\n",
        "\\begin{bmatrix}\n",
        "\\alpha \\\\\n",
        "\\beta \n",
        "\\end{bmatrix}\n",
        "=\n",
        "\\begin{bmatrix}\n",
        "1 \\\\\n",
        "-2\n",
        "\\end{bmatrix}\n",
        "$$\n",
        "ou\n",
        "$$\n",
        "\\textbf{A} \\cdot \\textbf{x} = \\textbf{b} \n",
        "$$\n",
        "onde\n",
        "$$\n",
        "\\textbf{A}\n",
        "=\n",
        "\\begin{bmatrix}\n",
        "1 & 3 \\\\\n",
        "2 & -1 \n",
        "\\end{bmatrix}\n",
        "$$\n",
        "\n",
        "$$\n",
        "\\textbf{x} \n",
        "= \n",
        "\\begin{bmatrix}\n",
        "\\alpha \\\\\n",
        "\\beta \n",
        "\\end{bmatrix}\n",
        "$$\n",
        "\n",
        "$$\n",
        "\\textbf{x} \n",
        "= \n",
        "\\begin{bmatrix}\n",
        "1 \\\\\n",
        "-2\n",
        "\\end{bmatrix}\n",
        "$$"
      ],
      "metadata": {
        "id": "Rnam1qG0iVDB"
      }
    },
    {
      "cell_type": "code",
      "source": [
        "import numpy as np\n",
        "\n",
        "# Implementando o cálculo de matrizes via NumPy\n",
        "\n",
        "\n",
        "# definindo a matriz A e o vetor B\n",
        "A = np.array([1,3,2,-1]).reshape(2,2)\n",
        "print('matriz A = ', A)\n",
        "b = np.array([1,-2]).reshape(2,1)\n",
        "print('vetor b = ', b)\n",
        "\n",
        "print()\n",
        "\n",
        "# para obter a solução de alfa e beta usamos a função '.linialg.solve(A,b)'\n",
        "# linialg.solve(A,b) também é uma função do numpy que pertence ao módulo 'linialg'\n",
        "x = np.linalg.solve(A,b)\n",
        "print('solução do vetor x. Alfa = ', x[0,0])\n",
        "print('solução do vetor x. Alfa = ', x[1,0])\n",
        "\n",
        "print()\n",
        "\n",
        "# Testando a solução\n",
        "print('Testando a solução')\n",
        "print('b = A @ x  = \\n', A @ x)\n"
      ],
      "metadata": {
        "colab": {
          "base_uri": "https://localhost:8080/"
        },
        "id": "4nCtwpGHliqZ",
        "outputId": "e2271d71-85c1-4695-fc68-e11f80b20df1"
      },
      "execution_count": 143,
      "outputs": [
        {
          "output_type": "stream",
          "name": "stdout",
          "text": [
            "matriz A =  [[ 1  3]\n",
            " [ 2 -1]]\n",
            "vetor b =  [[ 1]\n",
            " [-2]]\n",
            "\n",
            "solução do vetor x. Alfa =  -0.7142857142857143\n",
            "solução do vetor x. Alfa =  0.5714285714285714\n",
            "\n",
            "Testando a solução\n",
            "b = A @ x  = \n",
            " [[ 1.]\n",
            " [-2.]]\n"
          ]
        }
      ]
    },
    {
      "cell_type": "code",
      "source": [
        "# Calculando o determinante de A\n",
        "# Para calular o determinante de uma matriz utilizamos a função linalg.det( )\n",
        "# O argumento que entra na função é uma matriz\n",
        "\n",
        "import numpy as np\n",
        "A = np.array([1,3,2,-1]).reshape(2,2)\n",
        "detA = np.linalg.det(A) \n",
        "print(' det(A) =  ', detA)"
      ],
      "metadata": {
        "colab": {
          "base_uri": "https://localhost:8080/"
        },
        "id": "618V94DgoPDH",
        "outputId": "2b72e9a3-1f54-4ea6-c5ac-91cde9b4821b"
      },
      "execution_count": 145,
      "outputs": [
        {
          "output_type": "stream",
          "name": "stdout",
          "text": [
            " det(A) =   -7.000000000000001\n"
          ]
        }
      ]
    },
    {
      "cell_type": "markdown",
      "source": [
        "## Matriz Inversa\n",
        "\n",
        "$$\n",
        "  \\bf{A}\\cdot \\bf{x} = \\bf{b}\n",
        "$$\n",
        "\n",
        "$$\n",
        "  \\bf{A^{-1}}\\cdot \\bf{A}\\cdot \\bf{x} = \\bf{A^{-1}} \\cdot \\bf{b}\n",
        "$$\n",
        "\n",
        "$$\n",
        "  \\bf{I}\\cdot \\bf{A}\\cdot \\bf{x} = \\bf{A^{-1}} \\cdot \\bf{b}\n",
        "$$\n",
        "\n",
        "$$\n",
        "   \\bf{x} = \\bf{A^{-1}} \\cdot \\bf{b}\n",
        "$$"
      ],
      "metadata": {
        "id": "Eew_VaLPpnGO"
      }
    },
    {
      "cell_type": "code",
      "source": [
        "# Calculando a inversa de uma matriz\n",
        "# Para calular a inversa de uma matriz utilizamos a função linalg.inv( )\n",
        "# O argumento que entra na função é uma matriz\n",
        "\n",
        "import numpy as np\n",
        "A = np.array([1,3,2,-1]).reshape(2,2)\n",
        "Ainv = np.linalg.inv(A)\n",
        "\n",
        "print('Matriz de A = \\n',A, '\\n')\n",
        "print('Matriz inversa de A = \\n',Ainv)\n",
        "\n",
        "print()\n",
        "print('Prova real da matriz inversa')\n",
        "print('Ainv . A = I = \\n', (Ainv @ A))"
      ],
      "metadata": {
        "colab": {
          "base_uri": "https://localhost:8080/"
        },
        "id": "FB9MxvLSqgFL",
        "outputId": "69b4e0a0-80b7-4194-d2a3-a602310f499e"
      },
      "execution_count": 150,
      "outputs": [
        {
          "output_type": "stream",
          "name": "stdout",
          "text": [
            "Matriz de A = \n",
            " [[ 1  3]\n",
            " [ 2 -1]] \n",
            "\n",
            "Matriz inversa de A = \n",
            " [[ 0.14285714  0.42857143]\n",
            " [ 0.28571429 -0.14285714]]\n",
            "\n",
            "Prova real da matriz inversa\n",
            "Ainv . A = I = \n",
            " [[ 1.00000000e+00 -5.55111512e-17]\n",
            " [ 0.00000000e+00  1.00000000e+00]]\n"
          ]
        }
      ]
    }
  ]
}