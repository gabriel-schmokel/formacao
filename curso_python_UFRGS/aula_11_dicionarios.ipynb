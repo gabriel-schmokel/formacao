{
  "nbformat": 4,
  "nbformat_minor": 0,
  "metadata": {
    "colab": {
      "name": "Aula_11_dicionarios.ipynb",
      "provenance": [],
      "toc_visible": true
    },
    "kernelspec": {
      "name": "python3",
      "display_name": "Python 3"
    },
    "language_info": {
      "name": "python"
    }
  },
  "cells": [
    {
      "cell_type": "markdown",
      "source": [
        "# Dicionários\n",
        "\n",
        "Os **dicionários** são sequências de **elementos** não ordenados (similar aos conjuntos). Os dicionários, diferentes dos conjuntos, são formados por pares de elementos, onde cada elemento possue um **valor**  associado a uma **chave** (no python chamamos isso de **itens**). Esse tipo de estrutura é inspirado nos dicionários reais (verbete seriam as chaves e valor seriam o texto explicativo). As chaves nos dicionários são imutáveis, porém o valor não. Nos dicionários existe um mapeamento entre **chaves** e **valores**, observe que diferentes chaves podem mapear um mesmo valor. "
      ],
      "metadata": {
        "id": "r6goKJTzJrPi"
      }
    },
    {
      "cell_type": "markdown",
      "source": [
        "## Criando Dicionários"
      ],
      "metadata": {
        "id": "yvSl7wMiOpzt"
      }
    },
    {
      "cell_type": "code",
      "source": [
        "# criando dicionários vazios\n",
        "\n",
        "s = {}\n",
        "print(s, type(s))\n",
        "\n",
        "s = dict()\n",
        "print(s, type(s))"
      ],
      "metadata": {
        "colab": {
          "base_uri": "https://localhost:8080/"
        },
        "id": "bRtu47OWOv4v",
        "outputId": "e1b25081-c3e6-4e73-fbd9-8404b4af0f49"
      },
      "execution_count": 2,
      "outputs": [
        {
          "output_type": "stream",
          "name": "stdout",
          "text": [
            "{} <class 'dict'>\n",
            "{} <class 'dict'>\n"
          ]
        }
      ]
    },
    {
      "cell_type": "code",
      "source": [
        "# criando dicionários com 1 ou mais valores\n",
        "\n",
        "\n",
        "# Modo 1 - Genérico, funciona para qualquer classe\n",
        "# os dois pontos : é o operador de mapeamento. A esquerda dos dois pontos temos as chaves a direita temos o valor.\n",
        "d1 = {'year':2001, 'name':'Lúcia', 'grade':3, 31:{1,2,3}}\n",
        "print(d1,type(d1))\n",
        "\n",
        "# Modo 2 - É restrito apenas a chaves como strings. \n",
        "# O sinal de igual funciona nessa função como o operador de mapeamento.\n",
        "d2 = dict(year=2001, name='Lúcia', grade = 3)\n",
        "print(d2,type(d2))\n",
        "\n",
        "# Modo 3 - O dicionário é criado a partir da função dict, porém utilizando uma lista de tuplas. \n",
        "d3 = dict([('year',2001),('name','Lúcia'),('grade',3),(31,{1,2,3})])\n",
        "print(d3,type(d3))\n",
        "\n",
        "# Modo 4 - O dicionário é criado a partir da função dict, porém utilizando a função zip() contendo como argumentos tuplas.\n",
        "# Observe que neste modo, a função zip funciona como o operador de mapeadome, já que pega o primeiro elemento da primeira tupla e relaciona com o primeiro elemento da segunda tupla e assim sucessivamente. \n",
        "# A classe que a função zip retorna ainda não foi estuda, iremos estuda futuramente. \n",
        "d4 = dict(zip(('year', 'name', 'grade', 31), (2001, 'Lúcia', 3,{1,2,3})))\n",
        "print(d4)"
      ],
      "metadata": {
        "colab": {
          "base_uri": "https://localhost:8080/"
        },
        "id": "i-tvNxZtPH_s",
        "outputId": "86509336-16dd-458c-a410-601038225061"
      },
      "execution_count": 8,
      "outputs": [
        {
          "output_type": "stream",
          "name": "stdout",
          "text": [
            "{'year': 2001, 'name': 'Lúcia', 'grade': 3, 31: {1, 2, 3}} <class 'dict'>\n",
            "{'year': 2001, 'name': 'Lúcia', 'grade': 3} <class 'dict'>\n",
            "{'year': 2001, 'name': 'Lúcia', 'grade': 3, 31: {1, 2, 3}} <class 'dict'>\n",
            "{'year': 2001, 'name': 'Lúcia', 'grade': 3, 31: {1, 2, 3}}\n"
          ]
        }
      ]
    },
    {
      "cell_type": "markdown",
      "source": [
        "## Tamanho de um dicionário"
      ],
      "metadata": {
        "id": "SnB-ejn9U4pR"
      }
    },
    {
      "cell_type": "code",
      "source": [
        "d = {(5,17):25, -16.65:None, 0:91.3, 'Jupiter':'Europa', 'Orange':[-7,'Py',2.3], 31:None, (-2+3j):(1,2,3)}\n",
        "print('Ducionário', d)\n",
        "# Igualmente a listas e tuplas usamos a função len para calcular o tamanho de um dicionário.\n",
        "print('Tamanho', len(d))"
      ],
      "metadata": {
        "colab": {
          "base_uri": "https://localhost:8080/"
        },
        "id": "934rESSzU4Na",
        "outputId": "95c0acf2-f3bb-43b1-bf8f-863774acc502"
      },
      "execution_count": 16,
      "outputs": [
        {
          "output_type": "stream",
          "name": "stdout",
          "text": [
            "Ducionário {(5, 17): 25, -16.65: None, 0: 91.3, 'Jupiter': 'Europa', 'Orange': [-7, 'Py', 2.3], 31: None, (-2+3j): (1, 2, 3)}\n",
            "Tamanho 7\n"
          ]
        }
      ]
    },
    {
      "cell_type": "markdown",
      "source": [
        "## Unicidade dos dicionários"
      ],
      "metadata": {
        "id": "fYaOvEzKWswE"
      }
    },
    {
      "cell_type": "code",
      "source": [
        "# Podemos observar que quando há existência de chaves com mesmo valor, a que prevalece, é a dada pelo último argumento.\n",
        "da = {1:20, 2:30, 3:40, 4:50, 1:60, 2:70}\n",
        "print(da)"
      ],
      "metadata": {
        "colab": {
          "base_uri": "https://localhost:8080/"
        },
        "id": "7y3n7B5DWrvA",
        "outputId": "13b0bb14-6981-4bb3-991e-b59ac52cb4c2"
      },
      "execution_count": 17,
      "outputs": [
        {
          "output_type": "stream",
          "name": "stdout",
          "text": [
            "{1: 60, 2: 70, 3: 40, 4: 50}\n"
          ]
        }
      ]
    },
    {
      "cell_type": "markdown",
      "source": [
        "## Acessando os Valores de um Dicionários"
      ],
      "metadata": {
        "id": "66Rt2dp6XqCY"
      }
    },
    {
      "cell_type": "code",
      "source": [
        "# Para acessar um valor de um dicionário devemos apenas informar qual a correspondente chave. \n",
        "d = {(5,17):25, -16.65:None, 0:91.3, 'Jupiter':'Europa', 'Orange':[-7,'Py',2.3], 31:None, (-2+3j):(1,2,3)}\n",
        "\n",
        "print(d[(5,17)])\n",
        "print(d[-16.65])\n",
        "print(d['Jupiter'])\n",
        "print(d['Orange'])\n",
        "print(d[31])\n",
        "print(d[(-2+3j)])\n",
        "\n",
        "#print(d[1])       # ERROR - Chaves que não existem geram exceções "
      ],
      "metadata": {
        "colab": {
          "base_uri": "https://localhost:8080/"
        },
        "id": "Fi-e1gIqX5o8",
        "outputId": "e519f08f-06a2-43fd-cbeb-60aed42e053f"
      },
      "execution_count": 22,
      "outputs": [
        {
          "output_type": "stream",
          "name": "stdout",
          "text": [
            "25\n",
            "None\n",
            "Europa\n",
            "[-7, 'Py', 2.3]\n",
            "None\n",
            "(1, 2, 3)\n"
          ]
        }
      ]
    },
    {
      "cell_type": "markdown",
      "source": [
        "## Deletando Itens de um Dicionário "
      ],
      "metadata": {
        "id": "w8kpOz5RZGoZ"
      }
    },
    {
      "cell_type": "code",
      "source": [
        "d = {(5,17):25, -16.65:None, 0:91.3, 'Jupiter':'Europa', 'Orange':[-7,'Py',2.3], 31:None, (-2+3j):(1,2,3)}\n",
        "print(d)\n",
        "del d[0]   # remove a chave 0 associada ao valor 91.3\n",
        "print(d) \n"
      ],
      "metadata": {
        "colab": {
          "base_uri": "https://localhost:8080/"
        },
        "id": "yWN15-CGYrzQ",
        "outputId": "3c76a1f8-ea82-4bcf-af47-122ae40207bc"
      },
      "execution_count": 24,
      "outputs": [
        {
          "output_type": "stream",
          "name": "stdout",
          "text": [
            "{(5, 17): 25, -16.65: None, 0: 91.3, 'Jupiter': 'Europa', 'Orange': [-7, 'Py', 2.3], 31: None, (-2+3j): (1, 2, 3)}\n",
            "{(5, 17): 25, -16.65: None, 'Jupiter': 'Europa', 'Orange': [-7, 'Py', 2.3], 31: None, (-2+3j): (1, 2, 3)}\n"
          ]
        }
      ]
    },
    {
      "cell_type": "markdown",
      "source": [
        "## Métodos de Dicionários"
      ],
      "metadata": {
        "id": "KqNyUbl4Z6l5"
      }
    },
    {
      "cell_type": "markdown",
      "source": [
        "### Método de atribuição de valores iguais para as chaves"
      ],
      "metadata": {
        "id": "YhQ3eGdKchRQ"
      }
    },
    {
      "cell_type": "code",
      "source": [
        "# Método para criar um dicionário com os valores todos iguais\n",
        "\n",
        "# método fromkey recebe como argumento listas onde os elementos correspondem as chaves, por default o valor atribuido será NONE\n",
        "d = {}.fromkeys(['a','b','c'])\n",
        "print(d)\n",
        "\n",
        "# observa-se que o segundo argumento passado ao método fromkeys corresponde ao valor associado as chaves presentes na lista.\n",
        "d = {}.fromkeys(['a', 'b', 'c'], 0)\n",
        "print(d)\n",
        "\n",
        "# podemos escrever ainda o segundo argumento com qualquer classe\n",
        "d = {}.fromkeys(['a', 'b', 'c'], (0,0,0))\n",
        "print(d)\n",
        "\n",
        "# IMPORTANTE! O método fromkeys não depende do dicionário.\n",
        "d = {(5,17):25, -16.65:None, 0:91.3, 'Jupiter':'Europa', 'Orange':[-7,'Py',2.3], 31:None, (-2+3j):(1,2,3)}.fromkeys(['a', 'b', 'c'], 0)\n",
        "print(d)"
      ],
      "metadata": {
        "colab": {
          "base_uri": "https://localhost:8080/"
        },
        "id": "S6k2a7_5aDDS",
        "outputId": "2db2dd29-e8cd-4606-e154-15fc847bd5de"
      },
      "execution_count": 28,
      "outputs": [
        {
          "output_type": "stream",
          "name": "stdout",
          "text": [
            "{'a': None, 'b': None, 'c': None}\n",
            "{'a': 0, 'b': 0, 'c': 0}\n",
            "{'a': (0, 0, 0), 'b': (0, 0, 0), 'c': (0, 0, 0)}\n",
            "{'a': 0, 'b': 0, 'c': 0}\n"
          ]
        }
      ]
    },
    {
      "cell_type": "markdown",
      "source": [
        "### Método de Remoção de Itens"
      ],
      "metadata": {
        "id": "01AeG-6DcwPm"
      }
    },
    {
      "cell_type": "code",
      "source": [
        "# Método clear(), esvazia completamente todas as chaves de um dicionário, consequentemente não existem valores.\n",
        "d = {(5,17):25, -16.65:None, 0:91.3, 'Jupiter':'Europa', 'Orange':[-7,'Py',2.3], 31:None, (-2+3j):(1,2,3)}\n",
        "print(d)\n",
        "d.clear()\n",
        "print(d)\n",
        "\n",
        "print()\n",
        "\n",
        "# Método pop(), permite remover um item em particular, deve-se passar a chave que se deseja deletar.\n",
        "# Método gera um exceção quando a chave não existe no dicionário.\n",
        "# O retorno do método pop() corresponde ao valor da chave que foi removida.\n",
        "d = {(5,17):25, -16.65:None, 0:91.3, 'Jupiter':'Europa', 'Orange':[-7,'Py',2.3], 31:None, (-2+3j):(1,2,3)}\n",
        "print(d)\n",
        "x = d.pop('Orange')\n",
        "print(d, \"-->\", x)\n",
        "#d.pop('xyz')                               # ERROR! Gera uma exceção.\n",
        "d.pop('xyz', 'Este item não existe')        # Gera uma exceção. O segundo argumento presente no método trata a exceção, já que gera um output (nessa situação o output foi uma string que foi printada, porém diferentes classes são aceitas nesse segundo argumento)\n",
        "\n",
        "print()\n",
        "\n",
        "# Método popitem(), permite remover uma chave aleatória do dicionário.\n",
        "# O retorno do método popitm() será o próprio item do dicionário que escolhemos remover.\n",
        "d = {(5,17):25, -16.65:None, 0:91.3, 'Jupiter':'Europa', 'Orange':[-7,'Py',2.3], 31:None, (-2+3j):(1,2,3)}\n",
        "print(d)\n",
        "x = d.popitem()\n",
        "print(d, '-->', x)\n",
        "\n",
        "# Exemplo. Remover um dicionário vazio também gera uma exceção.\n",
        "d = {}\n",
        "print(d.pop('xyz','GERA EXCÇÃO!'))"
      ],
      "metadata": {
        "colab": {
          "base_uri": "https://localhost:8080/"
        },
        "id": "CyqmIcAyB1YR",
        "outputId": "eb9c2628-90ea-485c-bd51-95bc8a259b0f"
      },
      "execution_count": 21,
      "outputs": [
        {
          "output_type": "stream",
          "name": "stdout",
          "text": [
            "{(5, 17): 25, -16.65: None, 0: 91.3, 'Jupiter': 'Europa', 'Orange': [-7, 'Py', 2.3], 31: None, (-2+3j): (1, 2, 3)}\n",
            "{}\n",
            "\n",
            "{(5, 17): 25, -16.65: None, 0: 91.3, 'Jupiter': 'Europa', 'Orange': [-7, 'Py', 2.3], 31: None, (-2+3j): (1, 2, 3)}\n",
            "{(5, 17): 25, -16.65: None, 0: 91.3, 'Jupiter': 'Europa', 31: None, (-2+3j): (1, 2, 3)} --> [-7, 'Py', 2.3]\n",
            "\n",
            "{(5, 17): 25, -16.65: None, 0: 91.3, 'Jupiter': 'Europa', 'Orange': [-7, 'Py', 2.3], 31: None, (-2+3j): (1, 2, 3)}\n",
            "{(5, 17): 25, -16.65: None, 0: 91.3, 'Jupiter': 'Europa', 'Orange': [-7, 'Py', 2.3], 31: None} --> ((-2+3j), (1, 2, 3))\n",
            "GERA EXCÇÃO!\n"
          ]
        }
      ]
    },
    {
      "cell_type": "markdown",
      "source": [
        "### Métodos de Acesso de Itens aos Dicionários"
      ],
      "metadata": {
        "id": "zklHz2F1Hx2F"
      }
    },
    {
      "cell_type": "code",
      "source": [
        "# Método get(), permite acessar os valores dos dicionários de acordo com a chave passada pelo argumento. \n",
        "# O argumento que deve-se passar a esse método é a chave do dicionário.\n",
        "d = {(5,17):25, -16.65:None, 0:91.3, 'Jupiter':'Europa', 'Orange':[-7,'Py',2.3], 31:None, (-2+3j):(1,2,3)}\n",
        "print(d)\n",
        "print(d.get('Orange'))\n",
        "print(d.get((5,17)))\n",
        "print(d.get('xyz'))        # Retorna um valor nulo, caso não exista a chave no dicionário.\n",
        "\n",
        "print()\n",
        "\n",
        "# Método items(), keys() e values(). \n",
        "# O método items() retorna uma lista de todos os items do dicionário, não é passado argumento.\n",
        "# O método keys() retorna uma lista de todas as chaves do dicionário, não é passado argumento.\n",
        "# O método valeus() retorna uma lista de todos os valores do dicionário, não é passado argumento. \n",
        "d = {(5,17):25, -16.65:None, 0:91.3, 'Jupiter':'Europa', 'Orange':[-7,'Py',2.3], 31:None, (-2+3j):(1,2,3)}\n",
        "print(d.items())\n",
        "print(d.keys())\n",
        "print(d.values())"
      ],
      "metadata": {
        "colab": {
          "base_uri": "https://localhost:8080/"
        },
        "id": "kd7WR8QsG6Cd",
        "outputId": "1ff861b0-dfe7-4030-c193-bc44ee56ba7f"
      },
      "execution_count": 29,
      "outputs": [
        {
          "output_type": "stream",
          "name": "stdout",
          "text": [
            "{(5, 17): 25, -16.65: None, 0: 91.3, 'Jupiter': 'Europa', 'Orange': [-7, 'Py', 2.3], 31: None, (-2+3j): (1, 2, 3)}\n",
            "[-7, 'Py', 2.3]\n",
            "25\n",
            "None\n",
            "\n",
            "dict_items([((5, 17), 25), (-16.65, None), (0, 91.3), ('Jupiter', 'Europa'), ('Orange', [-7, 'Py', 2.3]), (31, None), ((-2+3j), (1, 2, 3))])\n",
            "dict_keys([(5, 17), -16.65, 0, 'Jupiter', 'Orange', 31, (-2+3j)])\n",
            "dict_values([25, None, 91.3, 'Europa', [-7, 'Py', 2.3], None, (1, 2, 3)])\n"
          ]
        }
      ]
    },
    {
      "cell_type": "markdown",
      "source": [
        "### Métodos de Inserção de Itens aos Dicionários"
      ],
      "metadata": {
        "id": "Tg3Lz_U6LQGH"
      }
    },
    {
      "cell_type": "code",
      "source": [
        "# Método setdefault(). Insere um único novo item no dicionário\n",
        "# O primeiro argumento corresponde a chave e o segundo ao valor.\n",
        "# Caso não seja passado o argumento de valor, então por default é passado um valor nulo (None).\n",
        "# Caso seja passado como argumento uma chave já presente no dicionário, então nada ocorre. Portanto  dicionário permanece o mesmo.\n",
        "d = {(5,17):25, -16.65:None, 0:91.3, 'Jupiter':'Europa', 'Orange':[-7,'Py',2.3], 31:None, (-2+3j):(1,2,3)}\n",
        "print(d)\n",
        "d.setdefault('xyz',(10,2,3))\n",
        "print(d)\n",
        "d.setdefault('yz')\n",
        "print(d)\n",
        "d.setdefault('Orange', 14)\n",
        "print(d)\n",
        "\n",
        "print()\n",
        "\n",
        "# Método update(). Permite inserir vários novos itens no dicionário.\n",
        "# O argumento passado consiste numa classe dicionário.\n",
        "# Caso o argumento passado possua uma chave que já exista no dicionário, então o dicionário será atualizado com o valor da nova chave.\n",
        "d = {(5,17):25, -16.65:None, 0:91.3, 'Jupiter':'Europa', 'Orange':[-7,'Py',2.3], 31:None, (-2+3j):(1,2,3)}\n",
        "a = {'new':100, 'old':15, 'Orange':None, (5,17):None}\n",
        "print(d)\n",
        "d.update(a)\n",
        "print(d)"
      ],
      "metadata": {
        "colab": {
          "base_uri": "https://localhost:8080/"
        },
        "id": "nb3e6NSXLSZs",
        "outputId": "10e96f2d-3e5e-4fad-910a-bb9cb68cbced"
      },
      "execution_count": 35,
      "outputs": [
        {
          "output_type": "stream",
          "name": "stdout",
          "text": [
            "{(5, 17): 25, -16.65: None, 0: 91.3, 'Jupiter': 'Europa', 'Orange': [-7, 'Py', 2.3], 31: None, (-2+3j): (1, 2, 3)}\n",
            "{(5, 17): 25, -16.65: None, 0: 91.3, 'Jupiter': 'Europa', 'Orange': [-7, 'Py', 2.3], 31: None, (-2+3j): (1, 2, 3), 'xyz': (10, 2, 3)}\n",
            "{(5, 17): 25, -16.65: None, 0: 91.3, 'Jupiter': 'Europa', 'Orange': [-7, 'Py', 2.3], 31: None, (-2+3j): (1, 2, 3), 'xyz': (10, 2, 3), 'yz': None}\n",
            "{(5, 17): 25, -16.65: None, 0: 91.3, 'Jupiter': 'Europa', 'Orange': [-7, 'Py', 2.3], 31: None, (-2+3j): (1, 2, 3), 'xyz': (10, 2, 3), 'yz': None}\n",
            "\n",
            "{(5, 17): 25, -16.65: None, 0: 91.3, 'Jupiter': 'Europa', 'Orange': [-7, 'Py', 2.3], 31: None, (-2+3j): (1, 2, 3)}\n",
            "{(5, 17): None, -16.65: None, 0: 91.3, 'Jupiter': 'Europa', 'Orange': None, 31: None, (-2+3j): (1, 2, 3), 'new': 100, 'old': 15}\n"
          ]
        }
      ]
    },
    {
      "cell_type": "markdown",
      "source": [
        "### Método para Copiar um Dicionário"
      ],
      "metadata": {
        "id": "x4K8a0fqOiV4"
      }
    },
    {
      "cell_type": "code",
      "source": [
        "# Método copy(). Permite copiar o conteúdo de um dicionário.\n",
        "# Retorna o próprio dicionário.\n",
        "\n",
        "d = {(5,17):25, -16.65:None, 0:91.3, 'Jupiter':'Europa', 'Orange':[-7,'Py',2.3], 31:None, (-2+3j):(1,2,3)}\n",
        "n = d.copy()\n",
        "\n",
        "print(n)"
      ],
      "metadata": {
        "colab": {
          "base_uri": "https://localhost:8080/"
        },
        "id": "7ZHk23tBOoJa",
        "outputId": "59f694f7-ec6d-4f2d-81cc-e85251a57931"
      },
      "execution_count": 36,
      "outputs": [
        {
          "output_type": "stream",
          "name": "stdout",
          "text": [
            "{(5, 17): 25, -16.65: None, 0: 91.3, 'Jupiter': 'Europa', 'Orange': [-7, 'Py', 2.3], 31: None, (-2+3j): (1, 2, 3)}\n"
          ]
        }
      ]
    },
    {
      "cell_type": "markdown",
      "source": [
        "## Operadores"
      ],
      "metadata": {
        "id": "cnRiQqD4Qr9t"
      }
    },
    {
      "cell_type": "code",
      "source": [
        "# Operadores de comparação entre os dicionários\n",
        "# Da mesma forma que em conjuntos, pode-se utilizar os operadores para fazer a intersecção, união, diferença entre dicionários.\n",
        "# Para isso utiliza-se junto os métodos items(), keys(). O método values() gera exceções.\n",
        "\n",
        "\n",
        "# Seja os dicionário 'a' e 'b'\n",
        "a = {1:10, 2:20, 3:30, 4:40}\n",
        "b = {3:30, 4:40, 5:50, 6:60}\n",
        "\n",
        "# O perador & permite fazer a intersecção entre os dicionários.\n",
        "print( 'Intersecção entre os itens do dicionário: ', a.items() & b.items())\n",
        "print( 'Intersecção entre as chaves: ', a.keys() & b.keys())   \n",
        "\n",
        "print()\n",
        "\n",
        "# O operador | permite fazer a união entre os dicionários.\n",
        "print('União dos itens dos dicionários: ', a.items() | b.items())\n",
        "print('União das chaves dos dicionários: ', a.keys() | b.keys())\n",
        "\n",
        "print()\n",
        "\n",
        "# O operador - permite fazer a diferença entre os dicionários a em relação ao b.\n",
        "print('Diferença dos itens dos dicionários a em relação ao b: ', a.items() - b.items())\n",
        "print('Diferença das chaves dos dicionários a em relação ao b: ', a.keys() - b.keys())\n",
        "\n",
        "print()\n",
        "\n",
        "# O operador ^ permite fazer a diferença entre os dicionários 'a' em relão ao 'b' e 'b' eme relação ao 'a'.\n",
        "print('Diferença dos itens dos dicionários a em relação ao b: ', a.items() ^ b.items())\n",
        "print('Diferença das chaves dos dicionários a em relação ao b: ', a.keys() ^ b.keys())\n",
        "\n",
        "print()\n",
        "\n",
        "# Operadoresde associação entre os dicionários: in/ not in\n",
        "# Como atributo deve-se passar a chave para fazer essa operação\n",
        "\n",
        "# Seja os dicionário 'a'\n",
        "a = {1:10, 2:20, 3:30, 4:40}\n",
        "\n",
        "print('A chave 2 existe: ', 2 in a)\n",
        "print('A chave 2 não existe: ', 2 not in a)\n",
        "print('A chave 7 não existe: ', 7 not in a)\n"
      ],
      "metadata": {
        "colab": {
          "base_uri": "https://localhost:8080/"
        },
        "id": "dNrLRwt2Q3iD",
        "outputId": "3977dfbe-3bb5-440f-ad7d-f45938bf7b4f"
      },
      "execution_count": 51,
      "outputs": [
        {
          "output_type": "stream",
          "name": "stdout",
          "text": [
            "Intersecção entre os itens do dicionário:  {(3, 30), (4, 40)}\n",
            "Intersecção entre as chaves:  {3, 4}\n",
            "\n",
            "União dos itens dos dicionários:  {(4, 40), (6, 60), (5, 50), (2, 20), (3, 30), (1, 10)}\n",
            "União das chaves dos dicionários:  {1, 2, 3, 4, 5, 6}\n",
            "\n",
            "Diferença dos itens dos dicionários a em relação ao b:  {(1, 10), (2, 20)}\n",
            "Diferença das chaves dos dicionários a em relação ao b:  {1, 2}\n",
            "\n",
            "Diferença dos itens dos dicionários a em relação ao b:  {(6, 60), (5, 50), (2, 20), (1, 10)}\n",
            "Diferença das chaves dos dicionários a em relação ao b:  {1, 2, 5, 6}\n",
            "\n",
            "A chave 2 existe:  True\n",
            "A chave 2 não existe:  False\n",
            "A chave 7 não existe:  True\n"
          ]
        }
      ]
    },
    {
      "cell_type": "markdown",
      "source": [
        "## Interações em dicionários"
      ],
      "metadata": {
        "id": "M2zlIk2Wbcml"
      }
    },
    {
      "cell_type": "code",
      "source": [
        "# Pode-se fazer a interação dos dicionários para seus itens, chaves e valores.\n",
        "# É necessário utilizar os métodos items(), keys() e values() para fazer as interações.\n",
        "# O processo corresponde o mesmo que para listas, tuplas e conjuntos.\n",
        "\n",
        "# Seja o dicionário 'a'\n",
        "a = {1:10, 2:20, 3:30, 4:40}\n",
        "\n",
        "print('Itens:')\n",
        "# Interação dos itens\n",
        "for i in a.items():\n",
        "  print(i)\n",
        "\n",
        "print()\n",
        "print('Chaves:')\n",
        "# Interação de chaves\n",
        "for i in a.keys():\n",
        "  print(i)\n",
        "\n",
        "print()\n",
        "print('Valores:')\n",
        "# Interação de chaves\n",
        "for i in a.values():\n",
        "  print(i)"
      ],
      "metadata": {
        "colab": {
          "base_uri": "https://localhost:8080/"
        },
        "id": "IRS07y7TbfYc",
        "outputId": "dd410dba-29d3-4acc-a2b0-9355027d7c7c"
      },
      "execution_count": 53,
      "outputs": [
        {
          "output_type": "stream",
          "name": "stdout",
          "text": [
            "Itens:\n",
            "(1, 10)\n",
            "(2, 20)\n",
            "(3, 30)\n",
            "(4, 40)\n",
            "\n",
            "Chaves:\n",
            "1\n",
            "2\n",
            "3\n",
            "4\n",
            "\n",
            "Valores:\n",
            "10\n",
            "20\n",
            "30\n",
            "40\n"
          ]
        }
      ]
    },
    {
      "cell_type": "markdown",
      "source": [
        "## Compressão de Dicionários\n",
        "\n",
        "Faltou terminar essa parte da aula. "
      ],
      "metadata": {
        "id": "bI4Rv-NRdqXR"
      }
    }
  ]
}