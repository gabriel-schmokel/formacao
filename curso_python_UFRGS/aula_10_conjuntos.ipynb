{
  "cells": [
    {
      "cell_type": "markdown",
      "metadata": {
        "id": "pUfz2NzlJsrs"
      },
      "source": [
        "Conjuntos (sets)\n",
        "\n",
        "**Conjuntos** são coleções não-ordenadas de elementos, ou seja, o índice que referencia os elementos não é ordenado. Por essa razão, por critérios computacionais, quando imprimimos um conjunto, temos como resultado os elementos aleatoriamente distribuidos.\n",
        "\n",
        "Os delimitadores dos conjuntos são as chaves { }. "
      ]
    },
    {
      "cell_type": "markdown",
      "metadata": {
        "id": "3qWD7BbFKHIo"
      },
      "source": [
        "## Criando conjuntos"
      ]
    },
    {
      "cell_type": "code",
      "execution_count": null,
      "metadata": {
        "colab": {
          "base_uri": "https://localhost:8080/"
        },
        "id": "WX4SjWAfzJQ5",
        "outputId": "27c7aad0-3688-49b9-f744-1274baf9de52"
      },
      "outputs": [
        {
          "name": "stdout",
          "output_type": "stream",
          "text": [
            "{1, 2, 3, 4, 5} <class 'set'>\n"
          ]
        }
      ],
      "source": [
        "s = {1, 2, 3, 4, 5}               # armazenando um conjunto na variável s\n",
        "print(s, type(s))"
      ]
    },
    {
      "cell_type": "code",
      "execution_count": null,
      "metadata": {
        "colab": {
          "base_uri": "https://localhost:8080/"
        },
        "id": "JxBwSTSvKd8h",
        "outputId": "fd207ee6-e061-4d85-f030-9c2efd90ac85"
      },
      "outputs": [
        {
          "name": "stdout",
          "output_type": "stream",
          "text": [
            " [] ()\n",
            "\n",
            "{} <class 'dict'>\n",
            "set() <class 'set'>\n"
          ]
        }
      ],
      "source": [
        "# Criando conjuntos vazios\n",
        "\n",
        "strx = ''\n",
        "listax = []\n",
        "tuplax = ()\n",
        "print(strx, listax, tuplax)\n",
        "print()\n",
        "\n",
        "setx = {}\n",
        "print(setx, type(setx))    # diferentes dos tipos acima o conjunto vazio não se cria da forma {}, é necessário usar a função set()\n",
        "\n",
        "sx = set()                 # cria um conjunto e armazena na variável sx\n",
        "print(sx, type(sx))        \n"
      ]
    },
    {
      "cell_type": "markdown",
      "metadata": {
        "id": "_AAfpf1cLUCO"
      },
      "source": [
        "## Conversão para função set"
      ]
    },
    {
      "cell_type": "code",
      "execution_count": null,
      "metadata": {
        "colab": {
          "base_uri": "https://localhost:8080/",
          "height": 307
        },
        "id": "s7ZKzRC-LRcw",
        "outputId": "aa1f336c-956d-4197-f256-47fed4afd89f"
      },
      "outputs": [
        {
          "name": "stdout",
          "output_type": "stream",
          "text": [
            "{'n', 't', 'y', 'P', 'o', 'h'} ['P', 'y', 't', 'h', 'o', 'n']\n",
            "\n",
            "{1, 2, 3, 4}\n",
            "{1, 2, 3, 4}\n",
            "{1, 2, 3, 4}\n",
            "\n"
          ]
        },
        {
          "ename": "TypeError",
          "evalue": "ignored",
          "output_type": "error",
          "traceback": [
            "\u001b[0;31m---------------------------------------------------------------------------\u001b[0m",
            "\u001b[0;31mTypeError\u001b[0m                                 Traceback (most recent call last)",
            "\u001b[0;32m<ipython-input-10-c856ca34e8ff>\u001b[0m in \u001b[0;36m<module>\u001b[0;34m()\u001b[0m\n\u001b[1;32m     11\u001b[0m \u001b[0mprint\u001b[0m\u001b[0;34m(\u001b[0m\u001b[0mset\u001b[0m\u001b[0;34m(\u001b[0m\u001b[0;34m{\u001b[0m\u001b[0;36m1\u001b[0m\u001b[0;34m,\u001b[0m\u001b[0;36m2\u001b[0m\u001b[0;34m,\u001b[0m\u001b[0;36m3\u001b[0m\u001b[0;34m,\u001b[0m\u001b[0;36m4\u001b[0m\u001b[0;34m}\u001b[0m\u001b[0;34m)\u001b[0m\u001b[0;34m)\u001b[0m         \u001b[0;31m# converte o conjunto para conjunto\u001b[0m\u001b[0;34m\u001b[0m\u001b[0;34m\u001b[0m\u001b[0m\n\u001b[1;32m     12\u001b[0m \u001b[0mprint\u001b[0m\u001b[0;34m(\u001b[0m\u001b[0;34m)\u001b[0m\u001b[0;34m\u001b[0m\u001b[0;34m\u001b[0m\u001b[0m\n\u001b[0;32m---> 13\u001b[0;31m \u001b[0mprint\u001b[0m\u001b[0;34m(\u001b[0m\u001b[0mset\u001b[0m\u001b[0;34m(\u001b[0m\u001b[0;36m1\u001b[0m\u001b[0;34m)\u001b[0m\u001b[0;34m)\u001b[0m                 \u001b[0;31m# ERRO!\u001b[0m\u001b[0;34m\u001b[0m\u001b[0;34m\u001b[0m\u001b[0m\n\u001b[0m",
            "\u001b[0;31mTypeError\u001b[0m: 'int' object is not iterable"
          ]
        }
      ],
      "source": [
        "# conversão para o tipo set\n",
        "\n",
        "s = set('Python')             # lembremos que o conjunto é uma sequência não ordenada\n",
        "lista = list('Python')        # convertendo o conjunto para uma lista\n",
        "\n",
        "print(s,lista)\n",
        "print()\n",
        "\n",
        "print(set([1,2,3,4]))         # converte a lista para um conjunto\n",
        "print(set((1,2,3,4)))         # converte a tupla para um conjunto\n",
        "print(set({1,2,3,4}))         # converte o conjunto para conjunto\n",
        "print()\n",
        "print(set(1))                 # ERRO!"
      ]
    },
    {
      "cell_type": "markdown",
      "metadata": {
        "id": "B15GizyCMobc"
      },
      "source": [
        "## Tamanho de um conjunto"
      ]
    },
    {
      "cell_type": "code",
      "execution_count": null,
      "metadata": {
        "colab": {
          "base_uri": "https://localhost:8080/"
        },
        "id": "z4faDLs2Mm8U",
        "outputId": "1ff3ecc8-1c6a-475f-b0c4-b2af97920d73"
      },
      "outputs": [
        {
          "name": "stdout",
          "output_type": "stream",
          "text": [
            "0 1 5\n"
          ]
        }
      ],
      "source": [
        "s0 = set()\n",
        "s1 = {1}\n",
        "s5 = {5,4,3,2,1}\n",
        "\n",
        "print(len(s0), len(s1), len(s5))          # retorna o número de elementos do conjunto (Únicos!!!)"
      ]
    },
    {
      "cell_type": "markdown",
      "metadata": {
        "id": "kiDuOr8oNFdd"
      },
      "source": [
        "## Unicidade de elementos\n",
        "\n",
        "Ao contrário das listas e tuplas em cunjuntos elementos repetidos não são contados."
      ]
    },
    {
      "cell_type": "code",
      "execution_count": null,
      "metadata": {
        "colab": {
          "base_uri": "https://localhost:8080/"
        },
        "id": "Z_9G9zJdNaAQ",
        "outputId": "f37bdef4-dcda-4c9f-c1b1-bc2de0be9566"
      },
      "outputs": [
        {
          "name": "stdout",
          "output_type": "stream",
          "text": [
            "5\n"
          ]
        },
        {
          "data": {
            "text/plain": [
              "{1, 2, 3, 4, 5}"
            ]
          },
          "execution_count": 12,
          "metadata": {},
          "output_type": "execute_result"
        }
      ],
      "source": [
        "s = {5,1,1,2,3,2,2,5,1,3,4}\n",
        "print(len(s))\n",
        "\n",
        "s"
      ]
    },
    {
      "cell_type": "code",
      "execution_count": null,
      "metadata": {
        "colab": {
          "base_uri": "https://localhost:8080/"
        },
        "id": "W9b3wiLNNgqf",
        "outputId": "a2820f01-aeeb-4928-b6b8-3057bf341f2f"
      },
      "outputs": [
        {
          "name": "stdout",
          "output_type": "stream",
          "text": [
            "[1, 2, 3, 4, 5, 6]\n"
          ]
        }
      ],
      "source": [
        "lista = [1,5,5,5,2,3,1,2,3,4,6,6,1,2]\n",
        "lista = list(set(lista))      # converte a lista em um conjunto (elementos repetidos não são adicionados mais de uma ver no conjunto) e posteriormente o conjunto em lista\n",
        "print(lista)                  # eliminamos os números repitidos na lista. Operação importante!"
      ]
    },
    {
      "cell_type": "markdown",
      "metadata": {
        "id": "owkuV37AOKyF"
      },
      "source": [
        "## Operadores"
      ]
    },
    {
      "cell_type": "code",
      "execution_count": null,
      "metadata": {
        "colab": {
          "base_uri": "https://localhost:8080/"
        },
        "id": "_ljMX3riOCqo",
        "outputId": "45390440-f2a5-4894-d0e2-66fc057a1f07"
      },
      "outputs": [
        {
          "name": "stdout",
          "output_type": "stream",
          "text": [
            "{'n', 't', 'y', 'P', 'o', 'h'}\n",
            "False\n",
            "True\n"
          ]
        }
      ],
      "source": [
        "## Operadores de associação: in/ not in\n",
        "\n",
        "s = set('Python')\n",
        "print(s)\n",
        "\n",
        "print('p' in s)           # retorna false pois 'p' está contido na string python\n",
        "print('x' not in s)       # retorna true pois 'x' não está contido na string python\n"
      ]
    },
    {
      "cell_type": "code",
      "execution_count": null,
      "metadata": {
        "colab": {
          "base_uri": "https://localhost:8080/"
        },
        "id": "hJOc6IlGOxLk",
        "outputId": "8525cf87-5ce5-434b-eb10-3a82123647ed"
      },
      "outputs": [
        {
          "name": "stdout",
          "output_type": "stream",
          "text": [
            "{1, 2, 3} {4, 5, 6} {1, 2, 3, 4, 5, 6}\n"
          ]
        }
      ],
      "source": [
        "## Operadores entre conjuntos:\n",
        "\n",
        "# 1) União: |\n",
        "s = {1,2,3}\n",
        "t = {4,5,6}\n",
        "u = s|t                 # o operador | uni o conjunto s com o conjunto t\n",
        "print(s,t,u)"
      ]
    },
    {
      "cell_type": "code",
      "execution_count": null,
      "metadata": {
        "colab": {
          "base_uri": "https://localhost:8080/"
        },
        "id": "sZMESRDXPKce",
        "outputId": "f4267c46-8fcc-4a05-dee8-2d9805e8305a"
      },
      "outputs": [
        {
          "name": "stdout",
          "output_type": "stream",
          "text": [
            "{1, 2, 3, 4} {3, 4, 5, 6} {3, 4}\n"
          ]
        }
      ],
      "source": [
        "# 2) Intersecção: &\n",
        "\n",
        "s = {1,2,3,4}\n",
        "t = {3,4,5,6}\n",
        "u = s & t\n",
        "print(s,t,u)             # o perador &  retorna um conjunto onde contém somente os elementos iguais entre os conjuntos s e t  "
      ]
    },
    {
      "cell_type": "code",
      "execution_count": null,
      "metadata": {
        "colab": {
          "base_uri": "https://localhost:8080/"
        },
        "id": "xcCSGN7vPzSx",
        "outputId": "5fe399bf-d87f-45bf-e6c5-b7346874ae39"
      },
      "outputs": [
        {
          "name": "stdout",
          "output_type": "stream",
          "text": [
            "{1, 2, 3, 4} {3, 4, 5, 6} {1, 2}\n",
            "\n",
            "{1, 2, 3, 4} {8, 9, 10, 7} {1, 2, 3, 4}\n",
            "\n"
          ]
        }
      ],
      "source": [
        "# 3) Diferença: -\n",
        "\n",
        "s = {1,2,3,4}\n",
        "t = {3,4,5,6}\n",
        "u = s - t                # os elementos do conjunto s que não estão do conjunto t são 1 e 2\n",
        "\n",
        "print(s,t,u)            \n",
        "print()\n",
        "\n",
        "s = {1,2,3,4}\n",
        "t = {7,8,9,10} \n",
        "u = s - t              # os elementos do conjunto s que não estão no conjunto t são 1,2,3,4. Portanto a variável u deve ter justamente esses elementos como conjunto.\n",
        "print(s,t,u)\n",
        "print()"
      ]
    },
    {
      "cell_type": "code",
      "execution_count": null,
      "metadata": {
        "colab": {
          "base_uri": "https://localhost:8080/"
        },
        "id": "VptOFKvORDX8",
        "outputId": "bff1edc4-1c57-452b-86c0-2dfa72ea7de4"
      },
      "outputs": [
        {
          "name": "stdout",
          "output_type": "stream",
          "text": [
            "{1, 2, 3, 4} {3, 4, 5, 6} {1, 2, 5, 6}\n",
            "\n",
            "{1, 2, 3, 4} {8, 9, 10, 7} {1, 2, 3, 4, 7, 8, 9, 10}\n",
            "\n",
            "set()\n"
          ]
        }
      ],
      "source": [
        "# 4) Diferença simétrica: ^\n",
        "\n",
        "s = {1,2,3,4}                     \n",
        "t = {3,4,5,6}\n",
        "u = s ^ t                   # os elementos do conjunto s que não estão no conjunto t e os elementos do conjunto t que não estão no conjunto s\n",
        "print(s,t,u)\n",
        "print()                \n",
        "\n",
        "s = {1,2,3,4}\n",
        "t = {7,8,9,10} \n",
        "u = s ^ t\n",
        "print(s,t,u)\n",
        "print()    \n",
        "\n",
        "s = {1,2,3,4}\n",
        "t = {1,2,3,4}\n",
        "print(s^t)"
      ]
    },
    {
      "cell_type": "markdown",
      "metadata": {
        "id": "yx0MCQJfPWSt"
      },
      "source": [
        "## Métodos de conjuntos\n",
        "\n",
        "Não possue uma gama muito alta de métodos como as listas, porém é muito maior do que as tuplas."
      ]
    },
    {
      "cell_type": "code",
      "execution_count": null,
      "metadata": {
        "colab": {
          "base_uri": "https://localhost:8080/"
        },
        "id": "r5LoST1gPZ7I",
        "outputId": "bfb182e8-6b16-46a1-ebb2-4c39659baebf"
      },
      "outputs": [
        {
          "name": "stdout",
          "output_type": "stream",
          "text": [
            "{1, 2, 3, 4}\n",
            "\n",
            "{1, 2, 3, 4, 5}\n",
            "\n",
            "{1, 2, 3, 4, 5, 6, 7, 8}\n"
          ]
        }
      ],
      "source": [
        "# Métodos para inclusão de elementos a um conjunto \n",
        "s = {1,2,3}\n",
        "s = s | {4}      # união entre conjuntos com a operação |\n",
        "print(s)\n",
        "print()\n",
        "\n",
        "s.add(5)         # pode-se fazer a união ple método add\n",
        "print(s)\n",
        "print()\n",
        "\n",
        "t = {4,5,6,7,8}     # adiciona múltiplos elementos ao conjunto \n",
        "s.update(t)\n",
        "print(s)"
      ]
    },
    {
      "cell_type": "code",
      "execution_count": null,
      "metadata": {
        "colab": {
          "base_uri": "https://localhost:8080/"
        },
        "id": "wE0OJ-oZQZze",
        "outputId": "0b7cd74f-9f65-4b46-d995-047908f405e1"
      },
      "outputs": [
        {
          "name": "stdout",
          "output_type": "stream",
          "text": [
            "{1, 2, 3, 5, 6, 7, 8}\n",
            "\n",
            "{1, 2, 3, 5, 6, 7, 8}\n",
            "\n",
            "{1, 2, 3, 5, 6, 7}\n",
            "\n",
            "{2, 3, 5, 6, 7}\n",
            "{3, 5, 6, 7}\n",
            "{5, 6, 7}\n",
            "{6, 7}\n",
            "set()\n"
          ]
        }
      ],
      "source": [
        "# Métodos para remover elementos:\n",
        "s = {1,2,3,4,5,6,7,8}\n",
        "s.discard(4)              # remove o elemento 4 do conjunto\n",
        "print(s)\n",
        "print()\n",
        "\n",
        "s.discard(10)             # não existe elemento e não é gerado exceção \n",
        "print(s)\n",
        "print()\n",
        "\n",
        "s.remove(8)                # remove o elemento 8 do conjunto\n",
        "print(s)\n",
        "print()           \n",
        "\n",
        "#s.remove(10)               # gera uma exceção pois o elemento a ser removido no conjunto não existe. ERROR!\n",
        "#print(s)\n",
        "#print()\n",
        "\n",
        "s.pop()                    # remove um elemento aleatório do conjunto.\n",
        "print(s)\n",
        "\n",
        "s.pop()\n",
        "print(s)\n",
        "\n",
        "s.pop()\n",
        "print(s)\n",
        "\n",
        "s.pop()\n",
        "print(s)\n",
        "\n",
        "# Obs: na situação que não existe mais elementos no conjunto o método \"pop\" retorna uma exceção \n",
        "\n",
        "s.clear()                   # o método clear remove todos os elementos do conjunto.\n",
        "print(s)"
      ]
    },
    {
      "cell_type": "code",
      "execution_count": null,
      "metadata": {
        "colab": {
          "base_uri": "https://localhost:8080/"
        },
        "id": "6KMg6NbHSi_m",
        "outputId": "1e894b12-747e-4ec0-b757-5a9dd385b2f6"
      },
      "outputs": [
        {
          "name": "stdout",
          "output_type": "stream",
          "text": [
            "{3, 5, 6, 7} {3, 5, 6, 7}\n",
            "\n",
            "{3, 5, 6, 7} {3, 5, 6, 7}\n"
          ]
        }
      ],
      "source": [
        "# Método para copiar conjuntos\n",
        "s = {3,5,6,7}\n",
        "t = s\n",
        "print(s,t)\n",
        "print()\n",
        "\n",
        "\n",
        "t = s.copy()              # copia o conjunto s para t \n",
        "print(s,t)     "
      ]
    },
    {
      "cell_type": "code",
      "execution_count": null,
      "metadata": {
        "colab": {
          "base_uri": "https://localhost:8080/"
        },
        "id": "ulMEdU9nS6QZ",
        "outputId": "9ea74523-960c-4afe-97d6-90a8a90ad178"
      },
      "outputs": [
        {
          "name": "stdout",
          "output_type": "stream",
          "text": [
            "{1, 2, 3, 4, 5, 6}\n",
            "\n",
            "{1, 2, 3, 4} {3, 4, 5, 6} {3, 4}\n",
            "\n",
            "{3, 4}\n",
            "\n",
            "{1, 2, 3, 4} {3, 4, 5, 6} {1, 2}\n",
            "\n",
            "{1, 2} {3, 4, 5, 6} None\n",
            "\n",
            "{1, 2, 3, 4} {3, 4, 5, 6} {1, 2, 5, 6}\n",
            "\n",
            "{1, 2, 5, 6} {3, 4, 5, 6} None\n",
            "\n"
          ]
        }
      ],
      "source": [
        "# Métodos para operações clássicas entre conjuntos:\n",
        "\n",
        "# -- União:\n",
        "s = {1,2,3,4}\n",
        "t = {3,4,5,6}\n",
        "u = s.union(t)                # método union() é similar a fazer a operaçãpo s|t \n",
        "print(u)\n",
        "print()\n",
        "\n",
        "# -- Intersecção:\n",
        "s = {1,2,3,4}\n",
        "t = {3,4,5,6}\n",
        "u = s.intersection(t)               # método intersection() é equivalente a fazer s&t\n",
        "print(s,t,u)\n",
        "print()\n",
        "\n",
        "s.intersection_update(t)            # método intersection_update() é equivalente a fazer s = s & t <==> s &= t\n",
        "print(s)\n",
        "print()\n",
        "\n",
        "\n",
        "# -- Diferença:\n",
        "\n",
        "s = {1,2,3,4}\n",
        "t = {3,4,5,6}\n",
        "u = s.difference(t)                  # método difference é equivalente a fazer s = s-t\n",
        "print(s,t,u)     \n",
        "print()\n",
        "\n",
        "s = {1,2,3,4}\n",
        "t = {3,4,5,6}\n",
        "u = s.difference_update(t)           # método difference _update() é equivalente a fazer s = s-t    <==> s-=t\n",
        "print(s,t,u)    \n",
        "print()\n",
        "\n",
        "\n",
        "# -- Diferença simétrica:\n",
        "\n",
        "s = {1,2,3,4}\n",
        "t = {3,4,5,6}\n",
        "u = s.symmetric_difference(t)                  # método symetric_difference é equivalente a fazer s = s^t\n",
        "print(s,t,u)     \n",
        "print()\n",
        "\n",
        "s = {1,2,3,4}\n",
        "t = {3,4,5,6}\n",
        "u = s.symmetric_difference_update(t)           # método difference _update() é equivalente a fazer s = s^t    <==> s^m=t\n",
        "print(s,t,u)    \n",
        "print()"
      ]
    },
    {
      "cell_type": "code",
      "execution_count": null,
      "metadata": {
        "colab": {
          "base_uri": "https://localhost:8080/"
        },
        "id": "r6S53XzeVqBW",
        "outputId": "4bd3f7a9-921c-445b-b5be-dfb9245ee39c"
      },
      "outputs": [
        {
          "name": "stdout",
          "output_type": "stream",
          "text": [
            "False\n",
            "True\n",
            "\n",
            "True\n",
            "False\n",
            "True\n"
          ]
        }
      ],
      "source": [
        "# Métodos para teste\n",
        "\n",
        "s = {1,2,3,4,5}\n",
        "t = {4,5,6,7,8}\n",
        "u = {6,7,8,9,10}\n",
        "\n",
        "#print(isdisjoint(t))\n",
        "print(s.isdisjoint(t))              # Existem elementos comuns entre os dois conjuntos, portanto retorna True\n",
        "print(s.isdisjoint(u))              # Não existem elementos comuns entre os dois conjuntos, portanto retorna True \n",
        "print()\n",
        "\n",
        "\n",
        "\n",
        "# superconjunto? subconjunto?\n",
        "s = {1,2,3,4,5}\n",
        "t = {2,3}\n",
        "\n",
        "\n",
        "print(s.issuperset(t))             #  t é um subconjunto de s, portanto s é um superconjunto de t, assim retorna True \n",
        "print(s.issubset(t))               #  t é um subconjunto de s, portanto s é um superconjunto de t, assim retorna False \n",
        "print(t.issubset(s))               #  t é um subconjunto de s, portanto s é um superconjunto de t, assim retorna True \n",
        "\n"
      ]
    },
    {
      "cell_type": "markdown",
      "metadata": {
        "id": "o733Mcl2YWRv"
      },
      "source": [
        "## Função sorted( )\n",
        "\n",
        "Retorna uma lista ordena de elementos de uma coleção de dados."
      ]
    },
    {
      "cell_type": "code",
      "execution_count": null,
      "metadata": {
        "colab": {
          "base_uri": "https://localhost:8080/"
        },
        "id": "UDg9p3mcYi39",
        "outputId": "2f4de271-8009-467f-d82f-b06829a537d6"
      },
      "outputs": [
        {
          "name": "stdout",
          "output_type": "stream",
          "text": [
            "[1, 2, 3, 4, 5, 6] <class 'list'>\n"
          ]
        }
      ],
      "source": [
        "s = {5,1,3,6,4,2}\n",
        "\n",
        "x = sorted(s)                   # ordenou os elementos do conjunto e converteu para lista.\n",
        "print(x, type(x))     "
      ]
    },
    {
      "cell_type": "markdown",
      "metadata": {
        "id": "m6xtTmF2Y_Vz"
      },
      "source": [
        "## Exemplos"
      ]
    },
    {
      "cell_type": "code",
      "execution_count": null,
      "metadata": {
        "colab": {
          "base_uri": "https://localhost:8080/"
        },
        "id": "HX5q2U53ZDo2",
        "outputId": "d96c89d5-ba20-40cc-fae4-14667203999c"
      },
      "outputs": [
        {
          "name": "stdout",
          "output_type": "stream",
          "text": [
            "[1, 2, 4, 5]\n"
          ]
        }
      ],
      "source": [
        "# Exemplo 1: remover itens repetidos em lsitas\n",
        "lista = [5,2,1,2,1,5,4,4]\n",
        "lista = list(set(lista))\n",
        "print(lista)"
      ]
    },
    {
      "cell_type": "code",
      "execution_count": null,
      "metadata": {
        "colab": {
          "base_uri": "https://localhost:8080/"
        },
        "id": "rrHTS0EnZboO",
        "outputId": "6ce66061-15e8-4f86-d7c1-8a27534eccaf"
      },
      "outputs": [
        {
          "name": "stdout",
          "output_type": "stream",
          "text": [
            "123\n",
            "201\n",
            "199\n",
            "999\n",
            "\n",
            "123\n",
            "199\n",
            "201\n",
            "999\n"
          ]
        }
      ],
      "source": [
        "# Exemplo 2: não iterar valores de uma lista que já foram iterados\n",
        "ids = [123, 201, 199, 123, 199, 999, 201, 123]\n",
        "\n",
        "# Modo 1:\n",
        "seen = set()\n",
        "for id in ids:\n",
        "  if id not in seen:\n",
        "    print(id)\n",
        "  seen.add(id)\n",
        "print()\n",
        "\n",
        "\n",
        "# Modo 2:\n",
        "for id in sorted(set(ids)):\n",
        "  print(id)"
      ]
    },
    {
      "cell_type": "code",
      "execution_count": null,
      "metadata": {
        "colab": {
          "base_uri": "https://localhost:8080/"
        },
        "id": "s1uWtMxyaZV0",
        "outputId": "ff680f36-7be8-4e04-e88b-f6db4a74096b"
      },
      "outputs": [
        {
          "name": "stdout",
          "output_type": "stream",
          "text": [
            "{'K', 'H', 'B', 'I', 'E', 'G', 'F', 'A', 'C'}\n",
            "{'K', 'H', 'B', 'I', 'E', 'G', 'F', 'A', 'C'}\n"
          ]
        }
      ],
      "source": [
        "# Exemplo 3: para eliminar itens indesejados de uma lista\n",
        "\n",
        "lista = list('ABCDEFGHIJK')\n",
        "s1 = set(lista) - {'D', 'J'}\n",
        "print(s1)\n",
        "\n",
        "s2 = set(lista).difference({'D','J'})\n",
        "print(s2)"
      ]
    },
    {
      "cell_type": "markdown",
      "metadata": {
        "id": "CM6XoZn1bcQn"
      },
      "source": [
        "## Compressão de conjuntos"
      ]
    },
    {
      "cell_type": "code",
      "execution_count": null,
      "metadata": {
        "colab": {
          "base_uri": "https://localhost:8080/"
        },
        "id": "oTNO2FcqbkLC",
        "outputId": "9e14c053-4e82-4645-e8df-53b3c289e14c"
      },
      "outputs": [
        {
          "name": "stdout",
          "output_type": "stream",
          "text": [
            "['file0dat', 'file1dat', 'file2dat', 'file3dat', 'file4dat', 'file5dat', 'file6dat', 'file7dat', 'file8dat']\n"
          ]
        }
      ],
      "source": [
        "# Exemplo 1:\n",
        "s = {'file'+str(i)+'dat' for i in range(9)}\n",
        "print(s)"
      ]
    },
    {
      "cell_type": "code",
      "execution_count": null,
      "metadata": {
        "colab": {
          "base_uri": "https://localhost:8080/"
        },
        "id": "e6DH4xseb2eT",
        "outputId": "8ede1494-abd3-4563-b52a-b617637385ca"
      },
      "outputs": [
        {
          "name": "stdout",
          "output_type": "stream",
          "text": [
            "{'index.htm', 'texto.DOC', 'xyz.dat', 'beta.TXT', 'b1.dat', 'file1.doc', 'alfa.DAT', 'index2.htm', 'readme.txt', 'prog.out'}\n",
            "{'xyz.dat', 'b1.dat', 'alfa.DAT'}\n"
          ]
        }
      ],
      "source": [
        "# Exemplo 2:\n",
        "files = {'file1.doc', 'xyz.dat', 'b1.dat', 'index.htm', 'readme.txt', 'prog.out', 'texto.DOC', 'index2.htm', 'alfa.DAT', 'beta.TXT'}\n",
        "print(files)\n",
        "\n",
        "dat = {x for x in files if x.lower().endswith('.dat')}\n",
        "print(dat)"
      ]
    },
    {
      "cell_type": "markdown",
      "metadata": {
        "id": "A_fFUrlpdKN9"
      },
      "source": [
        "## Conjuntos congelados\n",
        "\n",
        "A classe frozenset faz com que os conjuntos se tornem imutáveis (similar as tuplas e strings). Isso permite um processamento computacional de forma mais eficiente."
      ]
    },
    {
      "cell_type": "code",
      "execution_count": 1,
      "metadata": {
        "colab": {
          "base_uri": "https://localhost:8080/"
        },
        "id": "mSY0GTf0dJOg",
        "outputId": "e5f327d1-1068-4c09-bc43-2786ad53f4ec"
      },
      "outputs": [
        {
          "output_type": "stream",
          "name": "stdout",
          "text": [
            "frozenset({3, 12, 5, 23}) <class 'frozenset'>\n",
            "frozenset()\n"
          ]
        }
      ],
      "source": [
        "fs = frozenset({12,5,3,23})\n",
        "print(fs, type(fs))\n",
        "\n",
        "\n",
        "print(frozenset())"
      ]
    },
    {
      "cell_type": "markdown",
      "source": [
        "Basicamente, os mesmos métodos que vimos para classe conjuntos pode ser aplicado para os conjuntos congelados. "
      ],
      "metadata": {
        "id": "LKitP4nhJBQp"
      }
    }
  ],
  "metadata": {
    "colab": {
      "name": "Aula_10_conjuntos.ipynb  ",
      "provenance": [],
      "toc_visible": true
    },
    "kernelspec": {
      "display_name": "Python 3",
      "name": "python3"
    },
    "language_info": {
      "name": "python"
    }
  },
  "nbformat": 4,
  "nbformat_minor": 0
}