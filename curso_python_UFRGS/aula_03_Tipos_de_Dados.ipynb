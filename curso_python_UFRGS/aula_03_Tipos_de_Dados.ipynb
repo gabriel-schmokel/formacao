{
  "nbformat": 4,
  "nbformat_minor": 0,
  "metadata": {
    "colab": {
      "name": "FIS02213-2021-2-276115-AULA-03-Tipos-de-Dados.ipynb",
      "provenance": []
    },
    "kernelspec": {
      "name": "python3",
      "display_name": "Python 3"
    },
    "language_info": {
      "name": "python"
    }
  },
  "cells": [
    {
      "cell_type": "markdown",
      "source": [
        "# Tipos de Dados\n",
        "\n",
        "Tipos de variáveis ou dados é uma combinação de valores e de operações que uma variável pode executar.\n",
        "\n",
        "\n",
        "## **int: números inteiros**\n",
        "\n",
        "Um número inteiro pode ser expresso em qualquer base numérica. A base é arbitrária, entretanto, para nós humanos, a base-10, associada a contagens utilizando os 10 dedos das mãos, parece ser muito natural e conveniente. Algumas culturas, como as culturas mesoamericanas, utilizam a base 20 (10 dedos das mãos + 10 dedos dos pés). Computadores utilizam a base-2 (binária, 0-1) em suas operações mais fundamentais e as bases 16 (hexadecimal) e 8 (octal) para representação de grandes valores. \n",
        "\n",
        "Cada base numérica, utiliza um certo número de dígitos para representar números inteiros: \n",
        "\n",
        "* Números **decimais**: base 10; dígitos 0-9\n",
        "* Númers **hexadecimais**: base 16; díditos 0-9 e A-F. Exemplos: 0x1001, 0x2EF41, 0xABC2\n",
        "* Números **octais**: base 8; dígitos 0-7. Exemplos: 0o1001, 0o172, 0o764, 0o12\n",
        "* Números **binários**: base 2; dídigos 0-1. Exemplos: 0b101010, 0b0, 0b1, 0b111101\n",
        "\n",
        "\n",
        "Obs: em Python, bem como em outras linguagens de programação, os dígitos de números inteiros hexadecimais são precedidos por \"0x\", octais, por \"0o\" e binários por \"0b\". Em programação, geralmente vc só utilizará números decimais. Números hexadecimais ou octais são utilizados como identificadores de caracteres, cores, etc...\n",
        "\n",
        "------------------------------------------------------------------------------\n",
        "\n",
        "* Classe: **int**\n",
        "* Sintaxe:\n",
        "  + um ou mais digitos 0-9, antecedidos pelo sinal '-' no caso de números inteiros negativos.\n",
        "  + no caso de 2 ou mais dígitos, o primeiro dígito **NÃO PODE** ser zero, pois um zero inicial indica que o carácter seguinte é o indicador de base."
      ],
      "metadata": {
        "id": "h-W22PE-OlGX"
      }
    },
    {
      "cell_type": "code",
      "execution_count": null,
      "metadata": {
        "id": "IYK2lwxOSr6N",
        "colab": {
          "base_uri": "https://localhost:8080/"
        },
        "outputId": "a402ac61-d34a-4844-9452-8951487ed253"
      },
      "outputs": [
        {
          "output_type": "stream",
          "name": "stdout",
          "text": [
            "0\n",
            "123\n",
            "-5466\n"
          ]
        }
      ],
      "source": [
        "# Válidos\n",
        "\n",
        "print(0)\n",
        "print(123)\n",
        "print(-5466)"
      ]
    },
    {
      "cell_type": "code",
      "source": [
        "# Inválidos\n",
        "\n",
        "print(012)"
      ],
      "metadata": {
        "colab": {
          "base_uri": "https://localhost:8080/",
          "height": 133
        },
        "id": "_mMwEZXBpFh9",
        "outputId": "0d7eeea5-feeb-4211-fd51-669f1a547ab3"
      },
      "execution_count": null,
      "outputs": [
        {
          "output_type": "error",
          "ename": "SyntaxError",
          "evalue": "ignored",
          "traceback": [
            "\u001b[0;36m  File \u001b[0;32m\"<ipython-input-1-9dc1e060a0d6>\"\u001b[0;36m, line \u001b[0;32m3\u001b[0m\n\u001b[0;31m    print(012)\u001b[0m\n\u001b[0m            ^\u001b[0m\n\u001b[0;31mSyntaxError\u001b[0m\u001b[0;31m:\u001b[0m invalid token\n"
          ]
        }
      ]
    },
    {
      "cell_type": "code",
      "source": [
        "print(1001)    # decimal (base-10)\n",
        "print(0x1001)  # hexadecimal (base-16)\n",
        "print(0o1001)  # octal  (base-8)\n",
        "print(0b1001)  # binário (base-2)"
      ],
      "metadata": {
        "colab": {
          "base_uri": "https://localhost:8080/"
        },
        "id": "w-8TYxXAphPj",
        "outputId": "48532a26-a89c-4c9e-d2de-d67c52a7ced7"
      },
      "execution_count": null,
      "outputs": [
        {
          "output_type": "stream",
          "name": "stdout",
          "text": [
            "1001\n",
            "4097\n",
            "513\n",
            "9\n"
          ]
        }
      ]
    },
    {
      "cell_type": "code",
      "source": [
        "#Sinal:\n",
        "\n",
        "print(-123)                # Sinal do número\n",
        "print(- 123 )              # '-' pperador (unitário) que retorna o oposto de um número\n",
        "print(- -123)\n",
        "\n",
        "\n",
        "print(+123)                 # '+' operador (unário) identidade\n",
        "print(  +123 )"
      ],
      "metadata": {
        "colab": {
          "base_uri": "https://localhost:8080/"
        },
        "id": "vxZVwrRQqMHb",
        "outputId": "12cc4802-3ff0-4a09-cd4a-54cfa1b09446"
      },
      "execution_count": null,
      "outputs": [
        {
          "output_type": "stream",
          "name": "stdout",
          "text": [
            "-123\n",
            "-123\n",
            "123\n",
            "123\n",
            "123\n"
          ]
        }
      ]
    },
    {
      "cell_type": "code",
      "source": [
        "# Não há limite para o tamnho de um número inteiro\n",
        "# O tamanho é apenas limitado pela memória da máquina\n",
        "\n",
        "print(2**20)\n",
        "print(2**200)\n",
        "print(2**2000)\n",
        "print(2**20000)"
      ],
      "metadata": {
        "colab": {
          "base_uri": "https://localhost:8080/"
        },
        "id": "7IuX17HdqkGD",
        "outputId": "b1d95dfc-61a8-4844-f6f9-98a1099117e5"
      },
      "execution_count": null,
      "outputs": [
        {
          "output_type": "stream",
          "name": "stdout",
          "text": [
            "1048576\n",
            "1606938044258990275541962092341162602522202993782792835301376\n",
            "114813069527425452423283320117768198402231770208869520047764273682576626139237031385665948631650626991844596463898746277344711896086305533142593135616665318539129989145312280000688779148240044871428926990063486244781615463646388363947317026040466353970904996558162398808944629605623311649536164221970332681344168908984458505602379484807914058900934776500429002716706625830522008132236281291761267883317206598995396418127021779858404042159853183251540889433902091920554957783589672039160081957216630582755380425583726015528348786419432054508915275783882625175435528800822842770817965453762184851149029376\n",
            "398027684033796659235430720619120245370477278049242593871342686565238635974930057042676009749975595510836461137504912702831400376935319143621753470415827025981215282426893498224826615977707595539466961019588699726772279731941315198182787264034852821200164566127930390710398182979935327718016873784821349516406114982916691867361875370024545872140793827277482562824192439237801588697814168520338650090909697535966525032757049430286459482977357373598020450589927318365663076719136934132593126761906696003770385305284570331119691001526584347722012386381881779425549210851696458253943578557699072154639655630793883941961378971846841113804188730258903839103669626086974468150655710480841592465655211805257863007811676888839555017536731758113448656752514158601444051645154665514388431619042396106716755762338728183461369854648923972904427556158821823778729193111453445844216979095435045778144571378954652122396061615147642540250745857228893999875491625014946013839340891326060933901036249999238637827577774666644809734033861619420363936465178730919233673114244563915058438996625834112132967998495576249320462871747777012165543887156255858358784852335060574881876552025685704823768078710818951860741379429242110855644973977420413810373514584504006896392675854997866870818564207239083874324953871276375716101506575153205747363963740749867514682619756775534507006871485887812402927738227576635284174246988540785975240020481266853076127172228024330561550120182008777598230542033702463408316671120886169260934006805799864598636311179787776738608992346063063099659648279663878174074787179237169752957046404584525301384153358344055908219695854852185210739761460551596658211013159915409566145426809737550417578228465835830890294497535463112081537672664056891624345779311524560019984315456142126282898486728345004767873499752683471409587367450593302392307908004590644754012537113320493601682133709318222647489080531644015321391157387178232154126828007760313716872242209614200967522180475716199973689467714010404673961454146466045855232217196687665143147612199151921277432309700460321430381533385245877431330533479476152339364503436322919665631042328740463612565842560411947020174006507893396276103834436233140915025391014386119201176462659556388343058600326710618903683746516577021214276933289179021059956925949717956040857979165914170970056212869933593589268626151996676594370800885093048230687152803213254735594741799076039453057272319884322341883241036382617598401889439130301876975498681736174215711287053447013711596004574803562701388246822510391522419061320663740921321754344166744899588160649291823535983386025904942040724581017615968429577015808090360968544059204594200069304612417366398776831532265596224715750301792207725607932534543693758772262010387360435567635232718343420679693057360004073679493008945813961012439574397373178636054628207647520675194420244271036343729318858430871461978866964772362057290577326080664463129657590249859748544101333842092713653096656066266827446079145590196644643417403723220085696202719321533233027169599734928971588850348415000070034027025298183104148343980297663148971586607903771717880683175436445585810610546882073571556162324659351310326560804448974229349743425637164834242799991427145050899469511954834774847172360693568437689147399455672090773686782511054291185172381917008889957645311339950993044779783607140593766508017935992581357858306525303783231752425242008347844867988333025417249944092118578113687403158162707075154006053416374075765162668533127078605316562826337193606242535290683224423660462222408680300498714149607265550441220738075941633988435051594487256802874182264814425923111193188280632013127802897889605338783089532740877202304122498193625454768343775535498872821099981620497070810489137457106892573248498734243717184800822956334469415666818858073218653977954309023182851723246522042792401461382001601920501284439325214084210736400630884929942272982943613708123011355260915545831043160243523599372006226150289664982113944898886610710824955096724626895416484521819026132177640598691658035986285376355033719094568083122219345722063613609779158338084375331431276527548482566210071347744541292871876134764249704859840950276227627328897424208932988115108907187647698491814375639614313178092528678007370045871748218421786396197284213209022623762734630836006864192414605237248983289006905268988475197599781524158913583701325199090352274252608342971303907669363045656232183978755853064004010895030834921988601355201181158877254807798058635127708445592064519563115094749276606697559529332807221414021024905241788974917755034700510432039890197393691722911126889174394312127254793141624975830429097997705531781908242083922068769027355129212617244130640289994777413026624013157329948333586377955103195844817163822484232700763859290253400376515701986753596890075818544485475785780031843579065754095099970940504640212850809997051128976563880886392410766321449987529690463262182894272302749154535447233331028841215215533602398281107050696017507827602761547816324743297938177204183765821117818869959795031848201322436053103778993541384779857262311465895754085538371969040922420936915076653500310175006188572019017358300979056992161958286882575984331858170857303361269891312794369244896540323192451678830668180455059289743580640736076233561935888109525845803125912388965524166819855977061399043499229843517930169118036812460794615667808961600389778306540324849286501515292799391304510997298128228258006156017389878086272789993321416349205921635696963703558971391123174877353757536774013315034956942784403824181551741629180658414081905650333672638983416786388095026169496605199749691595798835947189777822765198767949699778106683862989103096006505865271003566346191382406011673958404009194852110016915222433459641787170917872140367871023596464051647947388580570774462304347896201676197195521428782313608583714399238092208362933211302942806480175589402387976531080436906856834377344137698180789562645974374155400497754843905032231188252125802180353577510519869570675234892321663406309376\n"
          ]
        }
      ]
    },
    {
      "cell_type": "markdown",
      "source": [
        "## **float: números reias de ponto flutuante**\n",
        "\n",
        "* Classe: Float\n",
        "* Sintaxe: usado para definir valores numéricos com flutuantes pontos decimais.\n",
        "  + -1234.5 <-> (-)(12345)(e-1)\n",
        "  + -123.45 <-> (-)(12345)(e-2)\n",
        "  + -12.345 <-> (-)(12345)(e-3)\n",
        "  + -1234.5 <-> (-)(12345)(e-1)\n",
        "  + -0.012345 <-> (-)(12345)(e-5)\n",
        "  + -1234500. <-> (-)(12345)(e+2)"
      ],
      "metadata": {
        "id": "lNgybQWNrVAi"
      }
    },
    {
      "cell_type": "code",
      "source": [
        "#Float Decimais\n",
        "\n",
        "print(123.456)        # parte inteira e uma parte fracionária separados por um ponto.\n",
        "print(123.)           # uma das partes pode ser omitida (mas o ponto NÃO!)\n",
        "print(.456)\n"
      ],
      "metadata": {
        "colab": {
          "base_uri": "https://localhost:8080/"
        },
        "id": "IxU7ep0AsTq_",
        "outputId": "183b88a4-440e-4dda-d2cc-4182c2a29cf9"
      },
      "execution_count": null,
      "outputs": [
        {
          "output_type": "stream",
          "name": "stdout",
          "text": [
            "123.456\n",
            "123.0\n",
            "0.456\n"
          ]
        }
      ]
    },
    {
      "cell_type": "code",
      "source": [
        "# Float exponenciais\n",
        "\n",
        "print(123.456e3)\n",
        "print(123.e3)\n",
        "print(-456e3)\n",
        "\n",
        "print(123456e-3)"
      ],
      "metadata": {
        "colab": {
          "base_uri": "https://localhost:8080/"
        },
        "id": "CgqrLH00syVq",
        "outputId": "a202c864-6e91-4823-c5a4-9d3434e434a7"
      },
      "execution_count": null,
      "outputs": [
        {
          "output_type": "stream",
          "name": "stdout",
          "text": [
            "123456.0\n",
            "123000.0\n",
            "-456000.0\n",
            "123.456\n"
          ]
        }
      ]
    },
    {
      "cell_type": "code",
      "source": [
        "# O expoente pode ser indicado por \"e\" ou \"E\":\n",
        "\n",
        "print(123.456e3)\n",
        "print(123.456E3)"
      ],
      "metadata": {
        "colab": {
          "base_uri": "https://localhost:8080/"
        },
        "id": "USrHSEvHtLeY",
        "outputId": "1a88eaaa-1cf3-4c16-ac96-c0c09d2ad5b9"
      },
      "execution_count": null,
      "outputs": [
        {
          "output_type": "stream",
          "name": "stdout",
          "text": [
            "123456.0\n",
            "123456.0\n"
          ]
        }
      ]
    },
    {
      "cell_type": "code",
      "source": [
        "# sinal\n",
        "\n",
        "\n",
        "print( -123.456e3)      # sinal negativo\n",
        "print(- 123.456e3)      # operador (unário) que retorna o oposto do número\n",
        "print( +123.456e3)      # operador identidade (não é o sinal positivo)\n",
        "print( 123,456e3)       # aqui sim, o \"+\" é o sinal positivo\n",
        "\n"
      ],
      "metadata": {
        "colab": {
          "base_uri": "https://localhost:8080/"
        },
        "id": "acFppM6rth7m",
        "outputId": "417aa8b5-b85d-4c9f-8827-6000d46596ea"
      },
      "execution_count": null,
      "outputs": [
        {
          "output_type": "stream",
          "name": "stdout",
          "text": [
            "-123456.0\n",
            "-123456.0\n",
            "123456.0\n",
            "123 456000.0\n"
          ]
        }
      ]
    },
    {
      "cell_type": "markdown",
      "source": [
        "## **Complex: números complexos**\n",
        "\n",
        "* Classe: **complex**\n",
        "* Sintaxe: $(a+bj)$\n",
        "  + $a$: parte real\n",
        "  + $b$: parte imaginária\n",
        "  + $j$: número imaginário em python"
      ],
      "metadata": {
        "id": "RlsnRfyZYhjA"
      }
    },
    {
      "cell_type": "code",
      "source": [
        "# Números Complexos Válidos\n",
        "\n",
        "print((3+2j))     # escrevendo o número complexo com parênteses\n",
        "print(3+2j)       # sem parêntesis!\n",
        "\n",
        "print()\n",
        "print((3.17e-73 +45e-19j))\n",
        "\n",
        "print()\n",
        "print(5j)         # parte real nula"
      ],
      "metadata": {
        "colab": {
          "base_uri": "https://localhost:8080/"
        },
        "id": "gU8QrdsnZFPY",
        "outputId": "34192a97-d112-4c9e-b4ad-5d485e077500"
      },
      "execution_count": null,
      "outputs": [
        {
          "output_type": "stream",
          "name": "stdout",
          "text": [
            "(3+2j)\n",
            "(3+2j)\n",
            "\n",
            "(3.17e-73+4.5e-18j)\n",
            "\n",
            "5j\n"
          ]
        }
      ]
    },
    {
      "cell_type": "code",
      "source": [
        "# Números Complexos Inválidos\n",
        "\n",
        "print(3 +1j)  # válido\n",
        "print(3 +j)   # ERRO"
      ],
      "metadata": {
        "colab": {
          "base_uri": "https://localhost:8080/",
          "height": 220
        },
        "id": "BaGyHvbWasVl",
        "outputId": "50bd7441-580a-4017-e62e-b8b4b2b834b9"
      },
      "execution_count": null,
      "outputs": [
        {
          "output_type": "stream",
          "name": "stdout",
          "text": [
            "(3+1j)\n"
          ]
        },
        {
          "output_type": "error",
          "ename": "NameError",
          "evalue": "ignored",
          "traceback": [
            "\u001b[0;31m---------------------------------------------------------------------------\u001b[0m",
            "\u001b[0;31mNameError\u001b[0m                                 Traceback (most recent call last)",
            "\u001b[0;32m<ipython-input-7-67d899110f20>\u001b[0m in \u001b[0;36m<module>\u001b[0;34m()\u001b[0m\n\u001b[1;32m      2\u001b[0m \u001b[0;34m\u001b[0m\u001b[0m\n\u001b[1;32m      3\u001b[0m \u001b[0mprint\u001b[0m\u001b[0;34m(\u001b[0m\u001b[0;36m3\u001b[0m \u001b[0;34m+\u001b[0m\u001b[0;36m1j\u001b[0m\u001b[0;34m)\u001b[0m  \u001b[0;31m# válido\u001b[0m\u001b[0;34m\u001b[0m\u001b[0;34m\u001b[0m\u001b[0m\n\u001b[0;32m----> 4\u001b[0;31m \u001b[0mprint\u001b[0m\u001b[0;34m(\u001b[0m\u001b[0;36m3\u001b[0m \u001b[0;34m+\u001b[0m\u001b[0mj\u001b[0m\u001b[0;34m)\u001b[0m   \u001b[0;31m# ERRO\u001b[0m\u001b[0;34m\u001b[0m\u001b[0;34m\u001b[0m\u001b[0m\n\u001b[0m",
            "\u001b[0;31mNameError\u001b[0m: name 'j' is not defined"
          ]
        }
      ]
    },
    {
      "cell_type": "markdown",
      "source": [
        "Pode-se realizar operações de adição, subtração, multiplicação e divisão entre números complexos:"
      ],
      "metadata": {
        "id": "VnfvipXSbd8h"
      }
    },
    {
      "cell_type": "code",
      "source": [
        "# Operações com Números Complexos\n",
        "\n",
        "a = (5 + 2j)\n",
        "b = (3 + 1j)\n",
        "\n",
        "print(a+b, a-b, a*b, a/b) "
      ],
      "metadata": {
        "colab": {
          "base_uri": "https://localhost:8080/"
        },
        "id": "bmeJpDSwbE2s",
        "outputId": "1feebc6f-06fd-4cf7-c74e-13918b83745a"
      },
      "execution_count": null,
      "outputs": [
        {
          "output_type": "stream",
          "name": "stdout",
          "text": [
            "(8+3j) (2+1j) (13+11j) (1.7+0.10000000000000003j)\n"
          ]
        }
      ]
    },
    {
      "cell_type": "markdown",
      "source": [
        "Obtendo a parte real e imaginária de um número complexo:"
      ],
      "metadata": {
        "id": "07h9vvZcbtn4"
      }
    },
    {
      "cell_type": "code",
      "source": [
        "# Parte real e imaginária\n",
        "\n",
        "x = 7-2j\n",
        "\n",
        "a = x.real     # retorna o valor real \"a\" associado ao número complexo presente na variável \"x\"\n",
        "b = x.imag     # retorna o valor imaginário \"b\" associado ao número complexo presente na variável \"x\"\n",
        "\n",
        "print(\"A parte real de \", x, \"é\", a, \"\\nA parte imaginária é\",b)\n"
      ],
      "metadata": {
        "colab": {
          "base_uri": "https://localhost:8080/"
        },
        "id": "42fVZmMTbprB",
        "outputId": "0fa1ba0b-0323-408f-f8f8-6f5c0fb23e2c"
      },
      "execution_count": null,
      "outputs": [
        {
          "output_type": "stream",
          "name": "stdout",
          "text": [
            "A parte real de  (7-2j) é 7.0 \n",
            "A parte imaginária é -2.0\n"
          ]
        }
      ]
    },
    {
      "cell_type": "markdown",
      "source": [
        "## **bool: valores booleanos (True|False)**\n",
        "\n",
        "O tipo de dados Booleano **bool** pode ser um de dois valores, **True** ou **False**. Os Booleanos são usados na programação para fazer comparações e controlam o fluxo do programa.\n",
        "\n",
        "* Classe: **bool**\n",
        "* Valores: True or False\n",
        "* False = 0 \n",
        "* True = 1 "
      ],
      "metadata": {
        "id": "X9y0yYquc6en"
      }
    },
    {
      "cell_type": "code",
      "source": [
        "# True e False são os resultados de expressões Boolenas:\n",
        "\n",
        "print(3>5)\n",
        "print(5>3)\n",
        "\n",
        "print()\n",
        "name = \"Maria\"\n",
        "print(name == \"Ana\", name == \"Maria\" )\n"
      ],
      "metadata": {
        "colab": {
          "base_uri": "https://localhost:8080/"
        },
        "id": "XOjQIMs4jTrE",
        "outputId": "69f15303-1dbc-4cf7-8ba4-bd7c2137de4c"
      },
      "execution_count": null,
      "outputs": [
        {
          "output_type": "stream",
          "name": "stdout",
          "text": [
            "False\n",
            "True\n",
            "\n",
            "False True\n"
          ]
        }
      ]
    },
    {
      "cell_type": "code",
      "source": [
        "# Cuidado não use aspas em True e False \n",
        "# \"True\" e \"False\" são strings, não valores boooleanos. Embora no output tenham a mesma aparência \n",
        "\n",
        "print(True, False, \"True\", \"False\")\n",
        "\n",
        "print()\n",
        "print(True == \"True\", False == \"False\")\n"
      ],
      "metadata": {
        "colab": {
          "base_uri": "https://localhost:8080/"
        },
        "id": "5jMkKMrClfxA",
        "outputId": "7947cd1c-ade2-4cd0-8a45-87b1617eb2c7"
      },
      "execution_count": null,
      "outputs": [
        {
          "output_type": "stream",
          "name": "stdout",
          "text": [
            "True False True False\n",
            "\n",
            "False False\n"
          ]
        }
      ]
    },
    {
      "cell_type": "code",
      "source": [
        "# No contexto de expressões matemáticas True e False são convertidos para 1 e 0 respectivamente.\n",
        "\n",
        "print(True + True + True + False)\n",
        "print(False - True )"
      ],
      "metadata": {
        "colab": {
          "base_uri": "https://localhost:8080/"
        },
        "id": "_ifWHqqvmRa5",
        "outputId": "63a8b7ae-df63-4bb1-8b36-8e80e2c856bf"
      },
      "execution_count": null,
      "outputs": [
        {
          "output_type": "stream",
          "name": "stdout",
          "text": [
            "3\n",
            "-1\n"
          ]
        }
      ]
    },
    {
      "cell_type": "markdown",
      "source": [
        "Em alguns casos, a conversão de True e False para 1 e 0 pode ser muito útil.\n",
        "\n",
        "**Função Degrau Unitário u(x)**: vamos escrever uma **função** em Python implementando a função $u(x)$ \n",
        "\n",
        "$$ u(x) = 0 \\quad {\\rm se} \\quad x<0 $$\n",
        "$$ u(x) = 1 \\quad {\\rm se} \\quad x\\ge0 $$"
      ],
      "metadata": {
        "id": "TAvJYi14m51q"
      }
    },
    {
      "cell_type": "code",
      "source": [
        "# Modo 01\n",
        "def u(x):\n",
        "  if( x < 0):\n",
        "    return 0\n",
        "  else:\n",
        "    return 1\n",
        "\n",
        "# chamando a função u(x) para diferentes valores de x e imprimindo o resultado na tela\n",
        "print(u(-11), u(0), u(20.3))\n"
      ],
      "metadata": {
        "colab": {
          "base_uri": "https://localhost:8080/"
        },
        "id": "_vIEIpZoqHGY",
        "outputId": "e6d6c02d-84fc-49a7-f8cd-1087f5f62fe2"
      },
      "execution_count": null,
      "outputs": [
        {
          "output_type": "stream",
          "name": "stdout",
          "text": [
            "0 1 1\n"
          ]
        }
      ]
    },
    {
      "cell_type": "code",
      "source": [
        "# Modo 02\n",
        "\n",
        "def ud(x):\n",
        "  return (x >= 0) * 1   # multiplcação por 1 - convertendo para o contexto das expressões matemáticas\n",
        "\n",
        "# chamando a função ud(x) para diferentes valores de x e imprimindo o resultado na tela\n",
        "print(ud(-11), ud(0), ud(20.3)) \n"
      ],
      "metadata": {
        "colab": {
          "base_uri": "https://localhost:8080/"
        },
        "id": "vtSXhm3lDC59",
        "outputId": "33998ea0-234c-48da-de69-0321bbe84418"
      },
      "execution_count": null,
      "outputs": [
        {
          "output_type": "stream",
          "name": "stdout",
          "text": [
            "0 1 1\n"
          ]
        }
      ]
    },
    {
      "cell_type": "markdown",
      "source": [
        "## str: strings (cadeia de caracteres)\n",
        "\n",
        "Strings of characters\" --- ou simplesmente \"strings\" --- são sequências ou cadeias de caracteres, ou seja, letras maiúsculas ou minúsculas, dígitos de 0 a 9, caracteres especiais como espaço (\" \"), asterisco (*), cifrão ($), underscore (_), cerquilha (#), além de qualquer outro caractere do sistema Unicode, o que inclui letras gregas, cirílicas, ideogramas, hieróglifos, e até emojis.\n",
        "\n",
        "A sequência de caracteres é delimitada por aspas simples ou aspas duplas. Por expemplo: \"...\" ou '...'\n",
        "\n",
        "Uma string pode conter vários caracteres, um caracter ou nenhum caracter. Por exemplo: \"Gabriel\", \"G\", \"\"\n",
        "\n",
        "Abaixo segue alguns caracteres visíveis que podem ser colocados numa sequência são:\n",
        "\n",
        "* a-z, A-Z\n",
        "* 0-9\n",
        "* ç, á, ã, ê\n",
        "* !, @, #, $, %, &, *, +, /\n",
        "\n",
        "-----------------------------------------------------------------------------\n",
        "\n",
        "* Cadeia ou sequência de caracteres UNICODE.\n",
        "* Delimitada por aspas (\"...\") ou por apóstrofes ('...').\n"
      ],
      "metadata": {
        "id": "2q0dE5xeEXaI"
      }
    },
    {
      "cell_type": "code",
      "source": [
        "# Exemplos\n",
        "\n",
        "print(\"Isto é uma string de caracteres\") \n",
        "print('Isto é uma string de caracteres!')\n"
      ],
      "metadata": {
        "colab": {
          "base_uri": "https://localhost:8080/"
        },
        "id": "TGrXgr5bE5F8",
        "outputId": "103c2e12-a097-46d0-c729-ba4309707fd5"
      },
      "execution_count": null,
      "outputs": [
        {
          "output_type": "stream",
          "name": "stdout",
          "text": [
            "Isto é uma string de caracteres\n",
            "Isto é uma string de caracteres!\n"
          ]
        }
      ]
    },
    {
      "cell_type": "code",
      "source": [
        "print(\"Isto é uma string de caracteres')    # ERROR - Deve-se definir por aspas ou apóstrofes!"
      ],
      "metadata": {
        "colab": {
          "base_uri": "https://localhost:8080/",
          "height": 133
        },
        "id": "9DWpl0I3FRm4",
        "outputId": "0a33c198-5ab6-454c-87aa-ad172a685274"
      },
      "execution_count": null,
      "outputs": [
        {
          "output_type": "error",
          "ename": "SyntaxError",
          "evalue": "ignored",
          "traceback": [
            "\u001b[0;36m  File \u001b[0;32m\"<ipython-input-7-c95e7552b88e>\"\u001b[0;36m, line \u001b[0;32m1\u001b[0m\n\u001b[0;31m    print(\"Isto é uma string de caracteres')    # ERROR!\u001b[0m\n\u001b[0m                                                        ^\u001b[0m\n\u001b[0;31mSyntaxError\u001b[0m\u001b[0;31m:\u001b[0m EOL while scanning string literal\n"
          ]
        }
      ]
    },
    {
      "cell_type": "markdown",
      "source": [
        "Iniciando a string com aspas, podemos colocar apóstrofes entre uma palavra/frase sem a necessidade de usar o caracter de escape. Obs: a situação contrária também é válida. "
      ],
      "metadata": {
        "id": "GaN94bfJGAY1"
      }
    },
    {
      "cell_type": "code",
      "source": [
        "print(\"Isto é uma 'string' de caracteres\")\n",
        "print('Isto é uma \"string\" de caracteres')"
      ],
      "metadata": {
        "colab": {
          "base_uri": "https://localhost:8080/"
        },
        "id": "WOIteoNLFqRv",
        "outputId": "c7b372ba-4301-478b-e27f-288cb3666e14"
      },
      "execution_count": null,
      "outputs": [
        {
          "output_type": "stream",
          "name": "stdout",
          "text": [
            "Isto é uma 'string' de caracteres\n",
            "Isto é uma \"string\" de caracteres\n"
          ]
        }
      ]
    },
    {
      "cell_type": "code",
      "source": [
        "# Comprimento de uma string\n",
        "\n",
        "s = \"abcdef\"\n",
        "print(len(s))        # A função len() retorna o valor da string passada como argumento.\n",
        "\n",
        "s = \"\"\n",
        "print(len(s))        # A função len() retorna o valor da string passada como argumento.\n",
        "\n"
      ],
      "metadata": {
        "colab": {
          "base_uri": "https://localhost:8080/"
        },
        "id": "hccc4dlEGdUD",
        "outputId": "31cf84c4-ab69-4691-e54d-6f6efc3d90eb"
      },
      "execution_count": null,
      "outputs": [
        {
          "output_type": "stream",
          "name": "stdout",
          "text": [
            "6\n",
            "0\n"
          ]
        }
      ]
    },
    {
      "cell_type": "markdown",
      "source": [
        "Pode-se imprimir um caracter de uma string passado o respectivo índice:"
      ],
      "metadata": {
        "id": "FnOIthhaHgNV"
      }
    },
    {
      "cell_type": "code",
      "source": [
        "# Extraindo o caracter de uma string\n",
        "\n",
        "print(\"ABCDEFGHIJ\"[3])          # O índice 3 se refere ao caracter D\n",
        "\n",
        "\n",
        "s = \"abcdefgh\"\n",
        "print(s[0],s[1], s[5])"
      ],
      "metadata": {
        "colab": {
          "base_uri": "https://localhost:8080/"
        },
        "id": "eKwI6BuwHvx3",
        "outputId": "1b51b9a6-f0fd-47b3-d8d3-e65bdef8a76b"
      },
      "execution_count": null,
      "outputs": [
        {
          "output_type": "stream",
          "name": "stdout",
          "text": [
            "D\n",
            "a b f\n"
          ]
        }
      ]
    },
    {
      "cell_type": "code",
      "source": [
        "# Indexação reversa \n",
        "\n",
        "s = \"ABCDEFGHIJ\"\n",
        "#             1\n",
        "#    0123456789\n",
        "\n",
        "\n",
        "print(s[-1],\"\\n\")            #último caracter da string\n",
        "print(s[-2],\"\\n\")        #penúltimo caracter da string\n",
        "print(s[-3])        #ante penúltimo caracter da string\n",
        "\n"
      ],
      "metadata": {
        "colab": {
          "base_uri": "https://localhost:8080/"
        },
        "id": "IMLuaAZ-IjHu",
        "outputId": "360ee415-b278-4b4f-daf6-f03d1902ea7d"
      },
      "execution_count": null,
      "outputs": [
        {
          "output_type": "stream",
          "name": "stdout",
          "text": [
            "J \n",
            "\n",
            "I \n",
            "\n",
            "H\n"
          ]
        }
      ]
    },
    {
      "cell_type": "code",
      "source": [
        "# Fatiamento de String \n",
        "# Sintaxe: [índice_incial : índice_final]\n",
        "\n",
        "# [3:8]\n",
        "# Índices: 0 1 2  3 4 5 6 7  8 9 10 11\n",
        "# Índices: 0 1 2 |3 4 5 6 7 |8 9 10 11\n",
        "\n",
        "\n",
        "s = \"abcdefghi\"\n",
        "#    012345678\n",
        "\n",
        "print(s[1:4])              # extrai do caracter 1:3\n",
        "print(s[3:])               # extrai do caracter 3 até o último\n",
        "print(s[:5])               # extrai do primeiro caracter até o 4\n",
        "print(s[:])                # extrai do primeiro ao último\n",
        "print(s[-3:-1])            # extrai do antepenúltimo até o penúltimo\n"
      ],
      "metadata": {
        "colab": {
          "base_uri": "https://localhost:8080/"
        },
        "id": "QwzrELdqKIom",
        "outputId": "f7467280-c2bc-4f3c-df2f-32107eb5a205"
      },
      "execution_count": null,
      "outputs": [
        {
          "output_type": "stream",
          "name": "stdout",
          "text": [
            "bcd\n",
            "defghi\n",
            "abcde\n",
            "abcdefghi\n",
            "gh\n"
          ]
        }
      ]
    },
    {
      "cell_type": "code",
      "source": [
        "# Extração incremental\n",
        "\n",
        "s = \"abcdefghijklmno\"\n",
        "#    0\n",
        "#    0123456789101234\n",
        "\n",
        "\n",
        "print(s[0:15:2])     # extrai do caracter 0:14 em intervalos que pulam 2 índices\n",
        "print(s[ : :4])      # extrai do primeiro ao último caracter em intervalos que pulam 4 índices\n",
        "print(s[1:15:3])     # extrai do caracter 1:15 em intervalos que pulam 3 índices\n"
      ],
      "metadata": {
        "colab": {
          "base_uri": "https://localhost:8080/"
        },
        "id": "clI7NhBvtlBQ",
        "outputId": "0c424092-0121-4847-9e84-90c8160c1674"
      },
      "execution_count": null,
      "outputs": [
        {
          "output_type": "stream",
          "name": "stdout",
          "text": [
            "acegikmo\n",
            "aeim\n",
            "behkn\n"
          ]
        }
      ]
    },
    {
      "cell_type": "code",
      "source": [
        "# É possível alterar um caracter de uma string?\n",
        "# Inválido, pois strings são caracteres imutáveis.\n",
        "\n",
        "\n",
        "s = \"ProgramaÇÃo em PythoM\"\n",
        "#    0           1       2\n",
        "#    012345678901234567890\n",
        "\n",
        "s[8] = 'ç'            # ERROR\n",
        "s[9] = 'ã'            # ERROR\n",
        "s[20] = 'n'           # ERROR\n",
        "\n",
        "print(s)"
      ],
      "metadata": {
        "colab": {
          "base_uri": "https://localhost:8080/",
          "height": 237
        },
        "id": "-Gt3Zd80vDoq",
        "outputId": "2a2bc475-6c25-4d59-e031-ab00cbc5f44c"
      },
      "execution_count": null,
      "outputs": [
        {
          "output_type": "error",
          "ename": "TypeError",
          "evalue": "ignored",
          "traceback": [
            "\u001b[0;31m---------------------------------------------------------------------------\u001b[0m",
            "\u001b[0;31mTypeError\u001b[0m                                 Traceback (most recent call last)",
            "\u001b[0;32m<ipython-input-6-678f926b0c2b>\u001b[0m in \u001b[0;36m<module>\u001b[0;34m()\u001b[0m\n\u001b[1;32m      7\u001b[0m \u001b[0;31m#    012345678901234567890\u001b[0m\u001b[0;34m\u001b[0m\u001b[0;34m\u001b[0m\u001b[0;34m\u001b[0m\u001b[0m\n\u001b[1;32m      8\u001b[0m \u001b[0;34m\u001b[0m\u001b[0m\n\u001b[0;32m----> 9\u001b[0;31m \u001b[0ms\u001b[0m\u001b[0;34m[\u001b[0m\u001b[0;36m8\u001b[0m\u001b[0;34m]\u001b[0m \u001b[0;34m=\u001b[0m \u001b[0;34m'ç'\u001b[0m            \u001b[0;31m# ERROR\u001b[0m\u001b[0;34m\u001b[0m\u001b[0;34m\u001b[0m\u001b[0m\n\u001b[0m\u001b[1;32m     10\u001b[0m \u001b[0ms\u001b[0m\u001b[0;34m[\u001b[0m\u001b[0;36m9\u001b[0m\u001b[0;34m]\u001b[0m \u001b[0;34m=\u001b[0m \u001b[0;34m'ã'\u001b[0m            \u001b[0;31m# ERROR\u001b[0m\u001b[0;34m\u001b[0m\u001b[0;34m\u001b[0m\u001b[0m\n\u001b[1;32m     11\u001b[0m \u001b[0ms\u001b[0m\u001b[0;34m[\u001b[0m\u001b[0;36m20\u001b[0m\u001b[0;34m]\u001b[0m \u001b[0;34m=\u001b[0m \u001b[0;34m'n'\u001b[0m           \u001b[0;31m# ERROR\u001b[0m\u001b[0;34m\u001b[0m\u001b[0;34m\u001b[0m\u001b[0m\n",
            "\u001b[0;31mTypeError\u001b[0m: 'str' object does not support item assignment"
          ]
        }
      ]
    },
    {
      "cell_type": "code",
      "source": [
        "# Concatenação de strings\n",
        "\n",
        "a = \"Programação\"\n",
        "b = \"em\"\n",
        "c = \"Python\"\n",
        "\n",
        "# print(a,b,c)\n",
        "print(\"\\n\",a,\"\\n\",b,\"\\n\",c)\n",
        "\n",
        "print()\n",
        "titulo = a+b+c\n",
        "print(titulo)\n",
        "\n",
        "\n",
        "print()\n",
        "titulo2 = a + \" \" + b + \" \" + c + \"é fácil!\"\n",
        "print(titulo2)\n",
        "\n",
        "\n",
        "print()\n",
        "print(1+2)"
      ],
      "metadata": {
        "colab": {
          "base_uri": "https://localhost:8080/"
        },
        "id": "1cFkN9v40ib8",
        "outputId": "686f883a-7573-42b5-efbf-78f372d73301"
      },
      "execution_count": null,
      "outputs": [
        {
          "output_type": "stream",
          "name": "stdout",
          "text": [
            "\n",
            " Programação \n",
            " em \n",
            " Python\n",
            "\n",
            "ProgramaçãoemPython\n",
            "\n",
            "Programação em Pythoné fácil!\n",
            "\n",
            "3\n"
          ]
        }
      ]
    },
    {
      "cell_type": "markdown",
      "source": [
        "# Variáveis\n",
        "\n",
        "# Na linguagem C:\n",
        "    int x;\n",
        "    x = 10;\n",
        "\n",
        "# Em Python:\n",
        "    x = 10;\n",
        "\n",
        "* Identificadores referenciam objetos.\n",
        "* Nomes de identificadores:\n",
        "  - não podem ser palavras chaves do Python (int, float, str, if, def, etc...)\n",
        "  - o primeiro caracteres deve ser uma letra ou underscore\n",
        "  - todos os outros demais podem ser quaiquers caracteres UNICODE, exceto espaço.\n",
        "  - não existe um limite de caracteres em um identificador\n",
        "  - case sensitive (diferencia minúsculas de maiúsculas) \n"
      ],
      "metadata": {
        "id": "nXyPgJry20fZ"
      }
    },
    {
      "cell_type": "code",
      "source": [
        "# Python é case-sensitive\n",
        "\n",
        "ABC = 11\n",
        "Abc = 200\n",
        "abc = -3\n",
        "print(ABC, Abc, abc)"
      ],
      "metadata": {
        "colab": {
          "base_uri": "https://localhost:8080/"
        },
        "id": "dV6hVyQE1FF-",
        "outputId": "23be2347-0e7b-4d5b-d0e0-364562d354ec"
      },
      "execution_count": null,
      "outputs": [
        {
          "output_type": "stream",
          "name": "stdout",
          "text": [
            "11 200 -3\n"
          ]
        }
      ]
    },
    {
      "cell_type": "code",
      "source": [
        "# Válidos\n",
        "\n",
        "x = 10\n",
        "data_20_de_outubro_de_2006 = True\n",
        "_valor = 29\n",
        "valor_da_variação_da_vazão = 32.3\n"
      ],
      "metadata": {
        "id": "gC5ITFsD69G2"
      },
      "execution_count": null,
      "outputs": []
    },
    {
      "cell_type": "code",
      "source": [
        "# Tipagem dinâmica\n",
        "\n",
        "x = 34"
      ],
      "metadata": {
        "id": "7BIU6U-r7az6"
      },
      "execution_count": null,
      "outputs": []
    },
    {
      "cell_type": "code",
      "source": [
        "100"
      ],
      "metadata": {
        "colab": {
          "base_uri": "https://localhost:8080/"
        },
        "id": "PA9EC1Kq7srj",
        "outputId": "7fda204e-ad0b-4d4d-f116-a18f893774f8"
      },
      "execution_count": null,
      "outputs": [
        {
          "output_type": "execute_result",
          "data": {
            "text/plain": [
              "100"
            ]
          },
          "metadata": {},
          "execution_count": 18
        }
      ]
    },
    {
      "cell_type": "code",
      "source": [
        "100"
      ],
      "metadata": {
        "colab": {
          "base_uri": "https://localhost:8080/"
        },
        "id": "fU-lInGl7w0Y",
        "outputId": "5ae2326f-a5d1-4ed5-d51f-2ee408fe0bb8"
      },
      "execution_count": null,
      "outputs": [
        {
          "output_type": "execute_result",
          "data": {
            "text/plain": [
              "100"
            ]
          },
          "metadata": {},
          "execution_count": 19
        }
      ]
    },
    {
      "cell_type": "code",
      "source": [
        "x = 100\n",
        "x = 200"
      ],
      "metadata": {
        "id": "azFfJtPS7t91"
      },
      "execution_count": null,
      "outputs": []
    },
    {
      "cell_type": "code",
      "source": [
        "34.5"
      ],
      "metadata": {
        "colab": {
          "base_uri": "https://localhost:8080/"
        },
        "id": "XQ8Z9VJu753H",
        "outputId": "57bcd745-7cbd-475e-d79f-62cd7b221a22"
      },
      "execution_count": null,
      "outputs": [
        {
          "output_type": "execute_result",
          "data": {
            "text/plain": [
              "34.5"
            ]
          },
          "metadata": {},
          "execution_count": 21
        }
      ]
    },
    {
      "cell_type": "code",
      "source": [
        "# sqrt ((34+26)/3)\n",
        "\n",
        "(34+26)/3"
      ],
      "metadata": {
        "colab": {
          "base_uri": "https://localhost:8080/"
        },
        "id": "5KIE2cHz8Nm8",
        "outputId": "d5d36382-aefb-4dc0-dfc3-828c34387197"
      },
      "execution_count": null,
      "outputs": [
        {
          "output_type": "execute_result",
          "data": {
            "text/plain": [
              "20.0"
            ]
          },
          "metadata": {},
          "execution_count": 22
        }
      ]
    },
    {
      "cell_type": "code",
      "source": [
        "import math\n",
        "\n",
        "math.sqrt( _ )\n",
        "\n"
      ],
      "metadata": {
        "colab": {
          "base_uri": "https://localhost:8080/"
        },
        "id": "xAb7YuwZ8m6_",
        "outputId": "1a8244ec-e8f1-4128-8502-2e67e352ec67"
      },
      "execution_count": null,
      "outputs": [
        {
          "output_type": "execute_result",
          "data": {
            "text/plain": [
              "4.47213595499958"
            ]
          },
          "metadata": {},
          "execution_count": 23
        }
      ]
    },
    {
      "cell_type": "markdown",
      "source": [
        "# Função Type( ):\n",
        "\n",
        "A função type exibe o tipo de um valor ou variável. O valor ou variável, que é chamado de argumento da função, tem que vir entre parênteses."
      ],
      "metadata": {
        "id": "Xrj1bZHX9bQP"
      }
    },
    {
      "cell_type": "code",
      "source": [
        "type(123)\n",
        "\n",
        "print(type(123))\n",
        "print(type(-123.45e+78))\n",
        "print(type(1+2j))\n",
        "print(type('abc'))\n",
        "print(type(True))\n"
      ],
      "metadata": {
        "colab": {
          "base_uri": "https://localhost:8080/"
        },
        "id": "FaKrIK6u9YFH",
        "outputId": "0f8e308d-29b0-4d0b-ee6e-2433bb4bfa9c"
      },
      "execution_count": null,
      "outputs": [
        {
          "output_type": "stream",
          "name": "stdout",
          "text": [
            "<class 'int'>\n",
            "<class 'float'>\n",
            "<class 'complex'>\n",
            "<class 'str'>\n",
            "<class 'bool'>\n"
          ]
        }
      ]
    }
  ]
}