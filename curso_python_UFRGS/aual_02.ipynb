{
  "nbformat": 4,
  "nbformat_minor": 0,
  "metadata": {
    "colab": {
      "name": "aual_02.ipynb",
      "provenance": []
    },
    "kernelspec": {
      "name": "python3",
      "display_name": "Python 3"
    },
    "language_info": {
      "name": "python"
    }
  },
  "cells": [
    {
      "cell_type": "markdown",
      "source": [
        "# Introduzindo o ambiente google colab\n",
        "\n",
        "Essa é uma célula de texto!\n",
        "\n",
        "Utilizamos a linguagem mackdown para escrever nessa célula."
      ],
      "metadata": {
        "id": "31MNl7hFbEFE"
      }
    },
    {
      "cell_type": "code",
      "source": [
        "# Essa é uma célula de código.\n",
        "# Escrevemos os códigos em python aqui."
      ],
      "metadata": {
        "id": "zOzVmS-_bRuF"
      },
      "execution_count": null,
      "outputs": []
    },
    {
      "cell_type": "markdown",
      "source": [
        "# Hello World\n",
        "\n",
        "Quando se aprende uma nova linguagem uma boa prática de programação é imprimir na tela a frase \"Hello world\".\n",
        "\n",
        "\n"
      ],
      "metadata": {
        "id": "PC0YQxPEK54S"
      }
    },
    {
      "cell_type": "code",
      "execution_count": null,
      "metadata": {
        "colab": {
          "base_uri": "https://localhost:8080/"
        },
        "id": "bOrmPbX9YGKR",
        "outputId": "18de24ce-01d8-43c8-f7e3-411072fee321"
      },
      "outputs": [
        {
          "output_type": "stream",
          "name": "stdout",
          "text": [
            "Hello world\n"
          ]
        }
      ],
      "source": [
        "print(\"Hello world\")"
      ]
    },
    {
      "cell_type": "markdown",
      "source": [
        "Obs: a primeira execução de código demora um pouco mais em relação as outras, pois estamos conectando com o servido do google que executa o programa."
      ],
      "metadata": {
        "id": "u0nOAl2bgAAX"
      }
    },
    {
      "cell_type": "markdown",
      "source": [
        "# Função *print( )*:\n",
        "\n",
        "A função *print( )* imprimi os argumentos colocados em sua etrada na tela. \n",
        "\n",
        "Ela recebe parâmetros como strings, variáveis do tipo inteiro ou float, entre outros argumentos. \n",
        "\n",
        "Obs: os argumentos de entrada podem ser múltiplos, portanto a função permite a entrada de uma variável do tipo inteiro ou do tipo string ao mesmo tempo. \n"
      ],
      "metadata": {
        "id": "swg_mOKkLIE7"
      }
    },
    {
      "cell_type": "code",
      "source": [
        "# Alguns exemplos da função print():\n",
        "# Cerquilha ou \"hash\" (cancela - #), é utilizada para fazer comentários em python.  \n",
        "# Não usar \"jogo da velha\", \"hashtag\"\n",
        "\n",
        "print(-134) # print com 1 argumento\n",
        "print()     # print sem argumentos\n",
        "print(\"valores de tipos variados\", 10, -189.345, 6.23e-15, 7.1 -6.3j)  # print com múltiplos argumentos"
      ],
      "metadata": {
        "colab": {
          "base_uri": "https://localhost:8080/"
        },
        "id": "vE8Xgg5QZP1R",
        "outputId": "25920187-d0af-487a-90be-15c2b021d513"
      },
      "execution_count": null,
      "outputs": [
        {
          "output_type": "stream",
          "name": "stdout",
          "text": [
            "-134\n",
            "valores de tipos variados 10 -189.345 6.23e-15 (7.1-6.3j)\n"
          ]
        }
      ]
    },
    {
      "cell_type": "markdown",
      "source": [
        "# Expressões Aritiméticas:\n",
        "\n",
        "Pode-se utilizar a linguagem python como uma calculadora: \n"
      ],
      "metadata": {
        "id": "mG4EcqJkLdjY"
      }
    },
    {
      "cell_type": "code",
      "source": [
        "2+3"
      ],
      "metadata": {
        "colab": {
          "base_uri": "https://localhost:8080/"
        },
        "id": "PwsizvgPbRfp",
        "outputId": "af4f712d-afdd-4390-a295-4203d88bcbcf"
      },
      "execution_count": null,
      "outputs": [
        {
          "output_type": "execute_result",
          "data": {
            "text/plain": [
              "5"
            ]
          },
          "metadata": {},
          "execution_count": 4
        }
      ]
    },
    {
      "cell_type": "markdown",
      "source": [
        "As expressões aritiméticas podem ser solucionadas e posteriormente imprimidas na tela. \n",
        "\n",
        "Note que o argumento de entrada da função *print( )* é a própria expressão matemática."
      ],
      "metadata": {
        "id": "VMgelsYFdjLc"
      }
    },
    {
      "cell_type": "code",
      "source": [
        "print(2+3)\n",
        "print(10-7)\n",
        "print(15/9)\n",
        "print(4*5)\n",
        "print(2**3)"
      ],
      "metadata": {
        "colab": {
          "base_uri": "https://localhost:8080/"
        },
        "id": "UZ6FtE9Gc0_-",
        "outputId": "ac1d9fc3-e497-48d6-f4d9-1db4bc3b64ab"
      },
      "execution_count": null,
      "outputs": [
        {
          "output_type": "stream",
          "name": "stdout",
          "text": [
            "5\n",
            "3\n",
            "1.6666666666666667\n",
            "20\n",
            "8\n"
          ]
        }
      ]
    },
    {
      "cell_type": "markdown",
      "source": [
        "# Variáveis\n",
        "\n",
        "As variáveis armazenam dados que podem ser de diferentes tipos. \n",
        "\n",
        "No exemplo abaixo, passa-se valores inteiros para as variáveis \"a\" e \"b\". Inicialmente, executa-se a opração de elevar \"a\" pela quantidade \"b\" e posteriomente armazenar este resultado em \"c\" .  "
      ],
      "metadata": {
        "id": "pQG92eJtLkL2"
      }
    },
    {
      "cell_type": "code",
      "source": [
        "a = 10\n",
        "b = 2\n",
        "c = a**b\n",
        "\n",
        "print(a,b,c)\n",
        "\n",
        "c = 10/2\n",
        "\n",
        "print(a,b,c)"
      ],
      "metadata": {
        "colab": {
          "base_uri": "https://localhost:8080/"
        },
        "id": "HeaOoaMrdu72",
        "outputId": "da33325f-0945-4b5d-9cf8-105361ffd77c"
      },
      "execution_count": null,
      "outputs": [
        {
          "output_type": "stream",
          "name": "stdout",
          "text": [
            "10 2 100\n",
            "10 2 5.0\n"
          ]
        }
      ]
    },
    {
      "cell_type": "markdown",
      "source": [
        "#Importando Módulos\n",
        "\n",
        "No código abaixo não existe uma função que calcule a função cos(x). Uma alternativa seria importar uma biblioteca para o cálculo funções trigonométricas. "
      ],
      "metadata": {
        "id": "pmAAZ_VuLrLh"
      }
    },
    {
      "cell_type": "code",
      "source": [
        "x = 3.1416  # valor muito próximo de PI\n",
        "y = cos(x)  # < -- ERROR \n",
        "\n",
        "print(x,y)"
      ],
      "metadata": {
        "colab": {
          "base_uri": "https://localhost:8080/",
          "height": 219
        },
        "id": "K9ZPC-S2eWYT",
        "outputId": "517bf898-ba2c-4c90-9280-31d5754530d7"
      },
      "execution_count": null,
      "outputs": [
        {
          "output_type": "error",
          "ename": "NameError",
          "evalue": "ignored",
          "traceback": [
            "\u001b[0;31m---------------------------------------------------------------------------\u001b[0m",
            "\u001b[0;31mNameError\u001b[0m                                 Traceback (most recent call last)",
            "\u001b[0;32m<ipython-input-12-1402a0c7f1a2>\u001b[0m in \u001b[0;36m<module>\u001b[0;34m()\u001b[0m\n\u001b[1;32m      1\u001b[0m \u001b[0mx\u001b[0m \u001b[0;34m=\u001b[0m \u001b[0;36m3.1416\u001b[0m\u001b[0;34m\u001b[0m\u001b[0;34m\u001b[0m\u001b[0m\n\u001b[0;32m----> 2\u001b[0;31m \u001b[0my\u001b[0m \u001b[0;34m=\u001b[0m \u001b[0mcos\u001b[0m\u001b[0;34m(\u001b[0m\u001b[0mx\u001b[0m\u001b[0;34m)\u001b[0m\u001b[0;34m\u001b[0m\u001b[0;34m\u001b[0m\u001b[0m\n\u001b[0m\u001b[1;32m      3\u001b[0m \u001b[0;34m\u001b[0m\u001b[0m\n\u001b[1;32m      4\u001b[0m \u001b[0mprint\u001b[0m\u001b[0;34m(\u001b[0m\u001b[0mx\u001b[0m\u001b[0;34m,\u001b[0m\u001b[0my\u001b[0m\u001b[0;34m)\u001b[0m\u001b[0;34m\u001b[0m\u001b[0;34m\u001b[0m\u001b[0m\n",
            "\u001b[0;31mNameError\u001b[0m: name 'cos' is not defined"
          ]
        }
      ]
    },
    {
      "cell_type": "markdown",
      "source": [
        "##Módulo \"math\"\n",
        "\n",
        "Importando a bliblioteca *math* é possivel chamar uma função que calcule a função trigonométrica *cos(x)*, bem como obter o valor de $\\pi$ com maior aproximação do que o definido anteriormente. "
      ],
      "metadata": {
        "id": "M-7suYYTL7QG"
      }
    },
    {
      "cell_type": "code",
      "source": [
        "import math       # importando o MÓDULO math\n",
        "\n",
        "x = math.pi        # valor muito próximo de PI\n",
        "y = math.cos(x)   # <-- usando a função math.cos\n",
        "\n",
        "print(\"cos(\", x,\") = \", y)\n"
      ],
      "metadata": {
        "colab": {
          "base_uri": "https://localhost:8080/"
        },
        "id": "r15mndrue1Zk",
        "outputId": "9699dbbe-9e40-4be1-d132-444394b92ef6"
      },
      "execution_count": null,
      "outputs": [
        {
          "output_type": "stream",
          "name": "stdout",
          "text": [
            "cos( 3.141592653589793 ) =  -1.0\n"
          ]
        }
      ]
    },
    {
      "cell_type": "markdown",
      "source": [
        "Com a biblioteca *math* também é possível chamar uma função que calcule raiz quadrada de um número real positivo, tal função é dada pelo comando *sqrt()*."
      ],
      "metadata": {
        "id": "MtVBPeAalVOC"
      }
    },
    {
      "cell_type": "code",
      "source": [
        "# raiz quadrada de um valor real positivo\n",
        "\n",
        "x = 16\n",
        "y = math.sqrt(x)\n",
        "\n",
        "print(\"sqrt(\", x,\") =\",y)"
      ],
      "metadata": {
        "colab": {
          "base_uri": "https://localhost:8080/"
        },
        "id": "pQWv178EH2B5",
        "outputId": "3d2cb783-cc47-48b8-bf99-6f9b0de34cd7"
      },
      "execution_count": null,
      "outputs": [
        {
          "output_type": "stream",
          "name": "stdout",
          "text": [
            "sqrt( 16 ) = 4.0\n"
          ]
        }
      ]
    },
    {
      "cell_type": "markdown",
      "source": [
        "## Módulo \"cmath\""
      ],
      "metadata": {
        "id": "vr-CGe82MbcC"
      }
    },
    {
      "cell_type": "markdown",
      "source": [
        "A biblioteca *math* não possue uma função que calcule a raiz quadrada de um número real negativo. "
      ],
      "metadata": {
        "id": "UznazbW3k6NO"
      }
    },
    {
      "cell_type": "code",
      "source": [
        "# raiz quadrada de um valor real negativo\n",
        "\n",
        "x = -16\n",
        "y = math.sqrt(x)     # <- GERA UM ERRO\n",
        "\n",
        "print(\"sqrt(\", x,\") =\",y)"
      ],
      "metadata": {
        "colab": {
          "base_uri": "https://localhost:8080/",
          "height": 236
        },
        "id": "t_XiSMdBMnfS",
        "outputId": "cef75c7e-39db-4a70-d38b-887baf147752"
      },
      "execution_count": null,
      "outputs": [
        {
          "output_type": "error",
          "ename": "ValueError",
          "evalue": "ignored",
          "traceback": [
            "\u001b[0;31m---------------------------------------------------------------------------\u001b[0m",
            "\u001b[0;31mValueError\u001b[0m                                Traceback (most recent call last)",
            "\u001b[0;32m<ipython-input-7-03bac149884f>\u001b[0m in \u001b[0;36m<module>\u001b[0;34m()\u001b[0m\n\u001b[1;32m      2\u001b[0m \u001b[0;34m\u001b[0m\u001b[0m\n\u001b[1;32m      3\u001b[0m \u001b[0mx\u001b[0m \u001b[0;34m=\u001b[0m \u001b[0;34m-\u001b[0m\u001b[0;36m16\u001b[0m\u001b[0;34m\u001b[0m\u001b[0;34m\u001b[0m\u001b[0m\n\u001b[0;32m----> 4\u001b[0;31m \u001b[0my\u001b[0m \u001b[0;34m=\u001b[0m \u001b[0mmath\u001b[0m\u001b[0;34m.\u001b[0m\u001b[0msqrt\u001b[0m\u001b[0;34m(\u001b[0m\u001b[0mx\u001b[0m\u001b[0;34m)\u001b[0m     \u001b[0;31m# <- GERA UM ERRO\u001b[0m\u001b[0;34m\u001b[0m\u001b[0;34m\u001b[0m\u001b[0m\n\u001b[0m\u001b[1;32m      5\u001b[0m \u001b[0;34m\u001b[0m\u001b[0m\n\u001b[1;32m      6\u001b[0m \u001b[0mprint\u001b[0m\u001b[0;34m(\u001b[0m\u001b[0;34m\"sqrt(\"\u001b[0m\u001b[0;34m,\u001b[0m \u001b[0mx\u001b[0m\u001b[0;34m,\u001b[0m\u001b[0;34m\") =\"\u001b[0m\u001b[0;34m,\u001b[0m\u001b[0my\u001b[0m\u001b[0;34m)\u001b[0m\u001b[0;34m\u001b[0m\u001b[0;34m\u001b[0m\u001b[0m\n",
            "\u001b[0;31mValueError\u001b[0m: math domain error"
          ]
        }
      ]
    },
    {
      "cell_type": "markdown",
      "source": [
        "Importando a biblioteca \"cmath\" é possível chamar uma função para o cálculo da raiz quadrada de números reais negativos. Note, que nessa situação se tem como solução um número complexo."
      ],
      "metadata": {
        "id": "2rwqddyqqaof"
      }
    },
    {
      "cell_type": "code",
      "source": [
        "# raiz quadrada de um valor real negativo\n",
        "import cmath #importa o MÓDULO \"cmath\" para funções complexas\n",
        "\n",
        "\n",
        "x = -16\n",
        "y = cmath.sqrt(x)    \n",
        "\n",
        "print(\"sqrt(\", x,\") =\",y)"
      ],
      "metadata": {
        "colab": {
          "base_uri": "https://localhost:8080/"
        },
        "outputId": "18914e67-75b9-482a-e702-d07dd46d0006",
        "id": "9q9HMNHEI2JW"
      },
      "execution_count": null,
      "outputs": [
        {
          "output_type": "stream",
          "name": "stdout",
          "text": [
            "sqrt( -16 ) = 4j\n"
          ]
        }
      ]
    },
    {
      "cell_type": "markdown",
      "source": [
        "# Comando \"if\"\n",
        "\n",
        "Para encontrar as raízes $x_1$ e $x_2$ de uma equação de 2$^o$ do tipo:\n",
        "\n",
        "$$ ax^2 +bx + c $$\n",
        "\n",
        "pode-se usar a famosa **fórmula de Bháskara**:\n",
        "\n",
        "\n",
        "$$ x = \\dfrac{-b \\pm \\sqrt{\\Delta}}{2a} $$\n",
        "\n",
        "onde $\\Delta$ é o *discriminante*:\n",
        "\n",
        "$$ \\Delta = b^{2} -4ac $$\n",
        "\n",
        "Tem-se três situações possíveis:\n",
        "\n",
        "$\\Delta > 0 $: $x_1$ e x_2 são reais e $x_1 \\neq x_2$.\n",
        "\n",
        "$\\Delta = 0 $: $x_1$ e x_2 são reais e $x_1 = x_2$.\n",
        "\n",
        "$\\Delta < 0$: $x_1$ e $x_2$ são complexas e $x_1 \\neq x_2$.\n",
        "\n",
        "Quando o valor de $\\Delta$ é maior ou igual a zero, aplicando a fórmula de Bháskara, e resolvendo a raiz quadrada, obtém-se  um número real positivo. Na situação em que $\\Delta$ é menor que zero, ao resolver a raiz quadrada da fórmula de Bháskara, obtém-se um número complexo. O operador \"*if*\" avalia quando o valor de $\\Delta$ é maior ou igual a zero, para então chamar a função que calcula a raiz quadrada pela biblioteca \"*math*\", o camando \"else\" executa a situação contrária, ou seja, para $\\Delta$ menor que zero a raiz quadrada é calculada pela biblioteca \"*cmath*\".\n"
      ],
      "metadata": {
        "id": "ytJIDURmNblm"
      }
    },
    {
      "cell_type": "code",
      "source": [
        "# Resolvendo a Eq de segundo grau usando Bháskara \n",
        "\n",
        "a = 2\n",
        "b = 1\n",
        "c = 1\n",
        "\n",
        "Delta = b**2 - 4*a*c\n",
        "\n",
        "\n",
        "if Delta >= 0:\n",
        "  x_1 = (-b + math.sqrt(Delta))/(2*a)\n",
        "  x_2 = (-b + math.sqrt(Delta))/(2*a)\n",
        "\n",
        "else:\n",
        "  x_1 = (-b + cmath.sqrt(Delta))/(2*a)\n",
        "  x_2 = (-b + cmath.sqrt(Delta))/(2*a)\n",
        "\n",
        "print(\"x_1 = \",x_1)\n",
        "print(\"x_1 = \",x_2)\n",
        "\n",
        "print()\n",
        "print(\"Testando com x_1: \", a*x_1**2 +b*x_1 +c)\n",
        "print(\"Testando com x_1: \", a*x_2**2 +b*x_2 +c)"
      ],
      "metadata": {
        "colab": {
          "base_uri": "https://localhost:8080/"
        },
        "id": "Wn8fIFsSQTX5",
        "outputId": "314ff495-313c-41fe-e36e-d2daf79d6a70"
      },
      "execution_count": null,
      "outputs": [
        {
          "output_type": "stream",
          "name": "stdout",
          "text": [
            "x_1 =  (-0.25+0.6614378277661477j)\n",
            "x_1 =  (-0.25+0.6614378277661477j)\n",
            "\n",
            "Testando com x_1:  0j\n",
            "Testando com x_1:  0j\n"
          ]
        }
      ]
    },
    {
      "cell_type": "markdown",
      "source": [
        "# Forms (formulários)"
      ],
      "metadata": {
        "id": "rIakS8a8Tgy2"
      }
    },
    {
      "cell_type": "code",
      "source": [
        "# Resolvendo a Eq de segundo grau usando Bháskara \n",
        "\n",
        "a = 2 # @param\n",
        "b =  1# @param\n",
        "c = 1 # @param\n",
        "\n",
        "Delta = b**2 - 4*a*c\n",
        "\n",
        "\n",
        "if Delta >= 0:\n",
        "  x_1 = (-b + math.sqrt(Delta))/(2*a)\n",
        "  x_2 = (-b + math.sqrt(Delta))/(2*a)\n",
        "\n",
        "else:\n",
        "  x_1 = (-b + cmath.sqrt(Delta))/(2*a)\n",
        "  x_2 = (-b + cmath.sqrt(Delta))/(2*a)\n",
        "\n",
        "d =  77 # @param\n",
        "\n",
        "print(\"x_1 = \",x_1)\n",
        "print(\"x_1 = \",x_2)\n",
        "\n",
        "print()\n",
        "print(\"Testando com x_1: \", a*x_1**2 +b*x_1 +c)\n",
        "print(\"Testando com x_1: \", a*x_2**2 +b*x_2 +c)"
      ],
      "metadata": {
        "colab": {
          "base_uri": "https://localhost:8080/"
        },
        "outputId": "ae084acf-237b-48fe-aad9-704e3ccad6de",
        "id": "9cBGGoj6TMNv"
      },
      "execution_count": null,
      "outputs": [
        {
          "output_type": "stream",
          "name": "stdout",
          "text": [
            "x_1 =  (-0.25+0.6614378277661477j)\n",
            "x_1 =  (-0.25+0.6614378277661477j)\n",
            "\n",
            "Testando com x_1:  0j\n",
            "Testando com x_1:  0j\n"
          ]
        }
      ]
    },
    {
      "cell_type": "markdown",
      "source": [
        "# Listas\n",
        "\n",
        "Lista ou sequência é uma estrutura de dados abstrata que implementa uma coleção ordenada de valores, onde o mesmo valor pode ocorrer mais de uma vez. O código abaixo cria duas listas diferentes do tipo inteiro, essas são armazenados nas variáveis  \"x\" e \"y\". "
      ],
      "metadata": {
        "id": "aCWLH3yRUdfY"
      }
    },
    {
      "cell_type": "code",
      "source": [
        "x = [-5, -4, -3, -2, -1, 0, 1, 2, 3, 4, 5]\n",
        "y = [25, 16, 9, 4, 1, 0, 1, 4, 9, 16, 25]\n",
        "\n",
        "print(x)\n",
        "print(y)"
      ],
      "metadata": {
        "colab": {
          "base_uri": "https://localhost:8080/"
        },
        "id": "hN8XlYlKUf8y",
        "outputId": "ad174ee1-7103-44dc-f570-be295ef3d6d4"
      },
      "execution_count": null,
      "outputs": [
        {
          "output_type": "stream",
          "name": "stdout",
          "text": [
            "[-5, -4, -3, -2, -1, 0, 1, 2, 3, 4, 5]\n",
            "[25, 16, 9, 4, 1, 0, 1, 4, 9, 16, 25]\n"
          ]
        }
      ]
    },
    {
      "cell_type": "markdown",
      "source": [
        "Também é possível criar uma lista do tipo string:"
      ],
      "metadata": {
        "id": "6I3VxuQjy59p"
      }
    },
    {
      "cell_type": "code",
      "source": [
        "BRICS = [\"Brazil\", \"Russia\", \"India\", \"China\", \"South Africa\"]\n",
        "\n",
        "print(BRICS)"
      ],
      "metadata": {
        "colab": {
          "base_uri": "https://localhost:8080/"
        },
        "id": "zw_imxs-VYjT",
        "outputId": "08880e4c-7cec-49da-fb6e-d1b91e61980f"
      },
      "execution_count": null,
      "outputs": [
        {
          "output_type": "stream",
          "name": "stdout",
          "text": [
            "['Brazil', 'Russia', 'India', 'China', 'South Africa']\n"
          ]
        }
      ]
    },
    {
      "cell_type": "markdown",
      "source": [
        "Uma lista também pode ser de múltiplos tipos: "
      ],
      "metadata": {
        "id": "YwTvBJBky_Sb"
      }
    },
    {
      "cell_type": "code",
      "source": [
        "Lista_mista = [\"XYZ\", 10, -12.65, -2.644e+43, 2+5j]\n",
        "print(Lista_mista)"
      ],
      "metadata": {
        "colab": {
          "base_uri": "https://localhost:8080/"
        },
        "id": "2YBJ28-KVslC",
        "outputId": "b01d50ba-c727-4ec1-c8b6-44b9636cbce5"
      },
      "execution_count": null,
      "outputs": [
        {
          "output_type": "stream",
          "name": "stdout",
          "text": [
            "['XYZ', 10, -12.65, -2.644e+43, (2+5j)]\n"
          ]
        }
      ]
    },
    {
      "cell_type": "markdown",
      "source": [
        "# Gráficos Simples\n",
        "\n",
        "Como gerar um gráfico que mostre $y=f(x)$?\n",
        "\n",
        "Importando a bibliotecla \"*matplotlib*\", pode-se chamar a função *plot()* para gerar um gráfico. Os argumentos de entrada são listas de mesma dimensão, que definem os pontos no gráfico. Um terceiro argumento, nessa mesma função, define a cor do gráfico, se ele é pontilhado ou de curva sólida, ...\n",
        "\n",
        "As funções *xlabel()* e *ylabel()* são responsáveis por colocar os títulos nos eixos do gráfico.\n",
        "\n",
        "A função *title()* é responsável por colocar o título no gráfico.\n",
        "\n",
        "\n",
        "\n"
      ],
      "metadata": {
        "id": "GFVdl3p_WMIp"
      }
    },
    {
      "cell_type": "code",
      "source": [
        "print(x,y)"
      ],
      "metadata": {
        "colab": {
          "base_uri": "https://localhost:8080/"
        },
        "id": "eWjcnm_hWOny",
        "outputId": "20865e47-f2e3-44a0-e5c6-7a560cfb1cb2"
      },
      "execution_count": null,
      "outputs": [
        {
          "output_type": "stream",
          "name": "stdout",
          "text": [
            "[-5, -4, -3, -2, -1, 0, 1, 2, 3, 4, 5] [25, 16, 9, 4, 1, 0, 1, 4, 9, 16, 15]\n"
          ]
        }
      ]
    },
    {
      "cell_type": "code",
      "source": [
        "import matplotlib.pyplot as plt   #importar o módulo \"pyplot\" contido na biblioteca \"matplotlib\" COMO \"plt\"\n",
        "\n",
        "\n",
        "# cores: r=red, b = blue, g = green, etc... \n",
        "# o = pontos, -: curva sólida, : pontilhada\n",
        "\n",
        "\n",
        "plt.plot(x,y, \":*r\")\n",
        "\n",
        "plt.title(\"Gráfico Simples\")\n",
        "plt.xlabel(\"x\")\n",
        "plt.ylabel(\"y\")\n",
        "plt.show()"
      ],
      "metadata": {
        "colab": {
          "base_uri": "https://localhost:8080/",
          "height": 295
        },
        "id": "1lCfCqKKW3bM",
        "outputId": "031d01a4-36cb-4e5e-d8ae-f51b9fadd637"
      },
      "execution_count": null,
      "outputs": [
        {
          "output_type": "display_data",
          "data": {
            "image/png": "[encoded data removed]",
            "text/plain": [
              "<Figure size 432x288 with 1 Axes>"
            ]
          },
          "metadata": {
            "needs_background": "light"
          }
        }
      ]
    }
  ]
}