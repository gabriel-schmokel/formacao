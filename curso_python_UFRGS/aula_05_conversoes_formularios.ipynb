{
  "nbformat": 4,
  "nbformat_minor": 0,
  "metadata": {
    "colab": {
      "name": "FIS02213-2021-2-276115-AULA-05-conversoes-formularios.ipynb  ",
      "provenance": []
    },
    "kernelspec": {
      "name": "python3",
      "display_name": "Python 3"
    },
    "language_info": {
      "name": "python"
    }
  },
  "cells": [
    {
      "cell_type": "markdown",
      "source": [
        "# Operadores de replicação\n"
      ],
      "metadata": {
        "id": "JVB5Dr_un-C-"
      }
    },
    {
      "cell_type": "code",
      "execution_count": null,
      "metadata": {
        "colab": {
          "base_uri": "https://localhost:8080/"
        },
        "id": "rVRruVFrmTAz",
        "outputId": "df674a0a-36b7-44dd-b047-1c1d6bd00897"
      },
      "outputs": [
        {
          "output_type": "stream",
          "name": "stdout",
          "text": [
            "6\n",
            "abcabcabc\n",
            "[1, 2, 3, 4, 5, 1, 2, 3, 4, 5, 1, 2, 3, 4, 5, 1, 2, 3, 4, 5, 1, 2, 3, 4, 5]\n",
            "('a', 'b', 4.2, 'a', 'b', 4.2, 'a', 'b', 4.2)\n"
          ]
        }
      ],
      "source": [
        "print(3*2)                # *: operador de multiplicação\n",
        "print(3*\"abc\")            # operador de replicação agindo sobre uma string \n",
        "#print(3.14*\"abc\")        # ERROR, o fator de replicação não pode ser um número quebrado quando age sobre uma string.\n",
        "print(5*[1,2,3,4,5])      # operador de replicação agindo sobre uma lista\n",
        "print(3*('a','b', 4.2))   # operador de replicação agindo sobre uma tupla\n"
      ]
    },
    {
      "cell_type": "markdown",
      "source": [
        "# Zeros, Nulos, Vazios"
      ],
      "metadata": {
        "id": "BiIHfpedpLBh"
      }
    },
    {
      "cell_type": "code",
      "source": [
        "# Funções: int(), float(), complex()\n",
        "#          str(), list(), tuple(), dict()\n",
        "\n",
        "print( int(), float(), complex())         # retorna zeros\n",
        "print( \"*\"+ str() + \"*\")                  # string vazia\n",
        "print( list(), tuple(), dict())           # conjuntos vazios"
      ],
      "metadata": {
        "colab": {
          "base_uri": "https://localhost:8080/"
        },
        "id": "aXX8DBAJpOAG",
        "outputId": "1aa17869-2296-4fd3-fee4-9eb28a509662"
      },
      "execution_count": null,
      "outputs": [
        {
          "output_type": "stream",
          "name": "stdout",
          "text": [
            "0 0.0 0j\n",
            "**\n",
            "[] () {}\n"
          ]
        }
      ]
    },
    {
      "cell_type": "markdown",
      "source": [
        "# Conversões entre tipos de dados\n",
        "\n",
        "O Python faz conversões entre diferentes tipos de dados. Por exemplo, pode-se converter 5 (int) para 5.0 (float) e vice-versa, ou '5' (str) para 5 (int) ou 5.0 (float) e vice-versa. Conversões entre diferentes tipos é algo corriqueiro em programação. Abaixo seguem os códigos que explicam essas conversões."
      ],
      "metadata": {
        "id": "StH9njjbqCnA"
      }
    },
    {
      "cell_type": "code",
      "source": [
        "# Conversão de string para valores numéricos\n",
        "\n",
        "i = int(\"1234\")\n",
        "f = float(\"1234\")\n",
        "g = complex(\"1234\")\n",
        "\n",
        "print(i, type(i))\n",
        "print(f, type(f))\n",
        "print(g, type(g))\n",
        "#print(int(\"xyz\"))           # ERRO: um número inteiro sempre deve ser um valor numérico!"
      ],
      "metadata": {
        "colab": {
          "base_uri": "https://localhost:8080/"
        },
        "id": "c3XyQ_w-qGKk",
        "outputId": "38486a29-7735-4a2b-f222-bcbb5debe10a"
      },
      "execution_count": null,
      "outputs": [
        {
          "output_type": "stream",
          "name": "stdout",
          "text": [
            "1234 <class 'int'>\n",
            "1234.0 <class 'float'>\n",
            "(1234+0j) <class 'complex'>\n"
          ]
        }
      ]
    },
    {
      "cell_type": "code",
      "source": [
        "# Conversão de número para string\n",
        "\n",
        "s1 = str(123)\n",
        "s2 = str(3.1416)\n",
        "s3 = str(3+2j)\n",
        "\n",
        "print(s1, s2, s3, type(s1), type(s2), type(s2))"
      ],
      "metadata": {
        "colab": {
          "base_uri": "https://localhost:8080/"
        },
        "id": "7N5tjHTArUym",
        "outputId": "b257f6c2-78e5-432f-8694-dd6df20ee79d"
      },
      "execution_count": null,
      "outputs": [
        {
          "output_type": "stream",
          "name": "stdout",
          "text": [
            "123 3.1416 (3+2j) <class 'str'> <class 'str'> <class 'str'>\n"
          ]
        }
      ]
    },
    {
      "cell_type": "code",
      "source": [
        "# Conversão de string para lista (converte cada elemento da string em um elemento da lista)\n",
        "\n",
        "lista1 = list(\"abcd\")\n",
        "print(lista1)\n",
        "\n",
        "tupla = tuple(\"efgh\")\n",
        "print(tupla)\n",
        "\n"
      ],
      "metadata": {
        "colab": {
          "base_uri": "https://localhost:8080/"
        },
        "id": "XCKKKquUrvbY",
        "outputId": "0db6deb1-5555-4bd0-af1b-c75aab6263fd"
      },
      "execution_count": null,
      "outputs": [
        {
          "output_type": "stream",
          "name": "stdout",
          "text": [
            "['a', 'b', 'c', 'd']\n",
            "('e', 'f', 'g', 'h')\n"
          ]
        }
      ]
    },
    {
      "cell_type": "markdown",
      "source": [
        "Há diferentes maneiras de entrar com dados nas variáveis presentes em um código na linguagem Python. Neste nootebook iremos apresentar duas formas de fazer isso: (1) diretamente dentro do código/usando formulários e (2) utilizando a função *input( )*.\n",
        "\n",
        "# Forms (formulários)\n"
      ],
      "metadata": {
        "id": "Jsv23r59uGAl"
      }
    },
    {
      "cell_type": "code",
      "source": [
        "a =  2 #@param\n",
        "b = 10 #@param"
      ],
      "metadata": {
        "id": "hagAo4EasmyP"
      },
      "execution_count": null,
      "outputs": []
    },
    {
      "cell_type": "code",
      "source": [
        "#@markdown #Parâmetros Numéricos\n",
        "var_number = 3.14 #@param {type:\"number\"}\n",
        "var_int =  7      #@param {type:\"integer\"}\n",
        "var_raw = var_int #@param \n",
        "\n",
        "print(var_number, var_int, var_raw)\n",
        "\n",
        "var_slider1 = 3 #@param  {type:\"slider\", min: 0, max: 5, step: 1}\n",
        "var_slider2 = 3 #@param  {type:\"slider\", min: -5, max: 5, step: 0.1}\n",
        "\n",
        "\n",
        "#@markdown #Valores booleanos\n",
        "var_boolean = False #@param {type:\"boolean\"}\n",
        "\n",
        "#@markdown # Strings\n",
        "var_string = \"File1.dat\" #@param {type:\"string\"}\n",
        "\n",
        "#@markdown # Datas!\n",
        "var_date = \"2019-11-09\" #@param {type:\"date\"}\n",
        "\n",
        "#@markdown # Menus (dropdown)\n",
        "var_dropdown = 30 #@param [\"10\", \"20\", \"30\", \"40\"]{type: \"raw\"}\n",
        "var_dropdown2 = \"Earth\" #@param [\"Mercury\", \"Venus\", \"Earth\", \"Mars\"] {allow-input: true}"
      ],
      "metadata": {
        "colab": {
          "base_uri": "https://localhost:8080/"
        },
        "id": "DtXmJELGvNfe",
        "outputId": "0bd59ce2-3ca2-495f-f2f2-b1132cf5d0ea"
      },
      "execution_count": null,
      "outputs": [
        {
          "output_type": "stream",
          "name": "stdout",
          "text": [
            "3.14 7 7\n"
          ]
        }
      ]
    },
    {
      "cell_type": "markdown",
      "source": [
        "# Entrada via terminal\n",
        "\n"
      ],
      "metadata": {
        "id": "Gq9J5X671Vsd"
      }
    },
    {
      "cell_type": "code",
      "source": [
        "# Bhaskara \n",
        "# Resolver: a*x**2 +b*x + c = 0\n",
        "import cmath\n",
        "\n",
        "a = float(input(\"Digite a: \"))       # Função input sempre retorna uma string conforme o que digita-se\n",
        "b = float(input(\"Digite b: \"))\n",
        "c = float(input(\"Digite c: \"))\n",
        "\n",
        "print(a,b,c,type(a),type(b),type(c))\n",
        "\n",
        "x_1 = (-b + cmath.sqrt(b**2 -4*a*c))/(2*a)\n",
        "x_2 = (-b - cmath.sqrt(b**2 -4*a*c))/(2*a)\n",
        "\n",
        "print(\"\\n\", \"x1 =\", x_1,\"\\n\",\n",
        "      \"x2 =\",x_2)"
      ],
      "metadata": {
        "colab": {
          "base_uri": "https://localhost:8080/"
        },
        "id": "NuFMZaDp1xJ_",
        "outputId": "7bfcda61-ce4b-4c47-d9b3-8e093b96c782"
      },
      "execution_count": null,
      "outputs": [
        {
          "output_type": "stream",
          "name": "stdout",
          "text": [
            "Digite a: 1\n",
            "Digite b: 2\n",
            "Digite c: 3\n",
            "1.0 2.0 3.0 <class 'float'> <class 'float'> <class 'float'>\n",
            "\n",
            " x1 = (-1+1.4142135623730951j) \n",
            " x2 = (-1-1.4142135623730951j)\n"
          ]
        }
      ]
    }
  ]
}